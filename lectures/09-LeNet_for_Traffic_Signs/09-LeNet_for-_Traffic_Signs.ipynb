{
 "cells": [
  {
   "cell_type": "code",
   "execution_count": 1,
   "metadata": {},
   "outputs": [
    {
     "data": {
      "application/javascript": [
       "\n",
       "            setTimeout(function() {\n",
       "                var nbb_cell_id = 1;\n",
       "                var nbb_unformatted_code = \"%load_ext nb_black\";\n",
       "                var nbb_formatted_code = \"%load_ext nb_black\";\n",
       "                var nbb_cells = Jupyter.notebook.get_cells();\n",
       "                for (var i = 0; i < nbb_cells.length; ++i) {\n",
       "                    if (nbb_cells[i].input_prompt_number == nbb_cell_id) {\n",
       "                        if (nbb_cells[i].get_text() == nbb_unformatted_code) {\n",
       "                             nbb_cells[i].set_text(nbb_formatted_code);\n",
       "                        }\n",
       "                        break;\n",
       "                    }\n",
       "                }\n",
       "            }, 500);\n",
       "            "
      ],
      "text/plain": [
       "<IPython.core.display.Javascript object>"
      ]
     },
     "metadata": {},
     "output_type": "display_data"
    }
   ],
   "source": [
    "%load_ext nb_black"
   ]
  },
  {
   "cell_type": "markdown",
   "metadata": {},
   "source": [
    "- clear the cell that loads the MNIST data and replace it with code to load the traffic sign data\n",
    "  - you can find that code in the notebook for the traffic sign classifier project\n",
    "\n",
    "\n",
    "- you should also delete the code that adds the images since the traffic sign images are already 32 by 32 pixels\n",
    "\n",
    "\n",
    "- one problem to solve though is that the traffic sign data does not come with a validation set\n",
    "  - you can use the train test split function in the *sklearn* library though to slice off a validation set from the training set\n",
    "  - you can allocate as much of the training set as you want, 20% is a good rule of thumb\n",
    "\n",
    "\n",
    "- now, you can visualize an image from the dataset, but remember that the traffic sign images are in color, not gray scale like the MNIST images\n",
    "- it's worth looking in the GitHub Repo to compare the image label to the CSV file that matches numerical labels to text descriptions\n",
    "\n",
    "\n",
    "- you can proceed to pre-process the data and set up TensorFlow just as we did for MNIST\n",
    "- you'll have to make a few changes to the LeNet architecture though\n",
    "\n",
    "\n",
    "- first, remember that the traffic sign images are in color not gray scale, so the input depth should be 3 to match the three RGB color channels\n",
    "  - the new input depth won't affect the rest of the network architecture\n",
    "- also at the output layer the traffic sign classifier has 43 classes, whereas MNIST only had 10 so you'll have to change that\n",
    "\n",
    "\n",
    "- when you set up the TensorFlow placeholders, you'll have to update the input and output shapes again to match the shapes of the new dataset\n",
    "\n",
    "\n",
    "- remember, don't run the test set until you're done tuning the model and you're ready to stop training and submit the project"
   ]
  },
  {
   "cell_type": "markdown",
   "metadata": {},
   "source": [
    "## Strategies to Improve Your Classification Model\n",
    "\n",
    "- looking at where to go next what could you do to further improve this model?\n",
    "- there are several broad categories to try\n",
    "  - experiment with different network architectures, or just change the dimensions of the LeNet layers\n",
    "  - add regularization features like drop out or L2 regularization to make sure the network doesn't overfit the training data\n",
    "  - tune the hyperparameters\n",
    "  - improve the data pre-processing with steps like normalization and setting a zero mean\n",
    "  - augment the training data by rotating or shifting images or by changing colors\n",
    "\n",
    "\n",
    "- there are a lot of fun experiments you can run on this network so give it a shot and see how well you can do"
   ]
  },
  {
   "cell_type": "markdown",
   "metadata": {},
   "source": [
    "# Visualizing Layers"
   ]
  },
  {
   "cell_type": "markdown",
   "metadata": {},
   "source": [
    "- while neural networks can be a great learning device they are often referred to as a black box\n",
    "- here we will explore a technique that lets us shine a light into that black box and see closer what it looks like on the inside by observing the kind of shadows that are formed\n",
    "- these shadows will be our feature maps, and after successfully training your neural network you can see what it's feature maps look like by plotting the output of the network's weight layers in response to a test stimuli image, which will be our light\n",
    "- from these plotted feature maps, it's possible to see what characteristics of an image the network finds interesting\n",
    "- for a sign, maybe the inner network feature maps react with high activation to the sign's boundary outline or to the contrast in the sign's painted symbol\n",
    "\n",
    "\n",
    "- provided for you below is the function code that allows you to get the visualization output of any Tensorflow weight layer you want\n",
    "- the inputs to the function should be a stimuli image, one used during training or a new one you provided, and then the Tensorflow variable name that represents the layer's state during the training process, for instance if you wanted to see what the LeNet lab's feature maps looked like for it's second convolutional layer you could enter conv2 as the tf_activation variable\n",
    "\n",
    "\n",
    "- or an example of what feature map outputs look like, check out NVIDIA's results in their paper End-to-End Deep Learning for Self-Driving Cars in the section Visualization of internal CNN State\n",
    "- NVIDIA was able to show that their network's inner weights had high activation to road boundary lines by comparing feature maps from an image with a clear path to one without\n",
    "- try experimenting with a similar test to show that your trained network's weights are looking for interesting features, whether it's looking at differences in feature maps from images with or without a sign, or even what feature maps look like in a trained network vs a completely untrained one on the same sign image"
   ]
  },
  {
   "cell_type": "code",
   "execution_count": 2,
   "metadata": {},
   "outputs": [
    {
     "data": {
      "application/javascript": [
       "\n",
       "            setTimeout(function() {\n",
       "                var nbb_cell_id = 2;\n",
       "                var nbb_unformatted_code = \"# image_input: the test image being fed into the network to produce the feature maps\\n# tf_activation: should be a tf variable name used during your training procedure that represents the calculated state of a specific weight layer\\n# Note: that to get access to tf_activation, the session should be interactive which can be achieved with the following commands.\\n# sess = tf.InteractiveSession()\\n# sess.as_default()\\n\\n# activation_min/max: can be used to view the activation contrast in more detail, by default matplot sets min and max to the actual min and    max values of the output\\n# plt_num: used to plot out multiple different weight feature map sets on the same block, just extend the plt number for each new feature map entry\\n\\n\\ndef outputFeatureMap(\\n    image_input, tf_activation, activation_min=-1, activation_max=-1, plt_num=1\\n):\\n    # Here make sure to preprocess your image_input in a way your network expects\\n    # with size, normalization, ect if needed\\n    # image_input =\\n    # Note: x should be the same name as your network's tensorflow data placeholder variable\\n    # If you get an error tf_activation is not defined it maybe having trouble accessing the variable from inside a function\\n    activation = tf_activation.eval(session=sess, feed_dict={x: image_input})\\n    featuremaps = activation.shape[3]\\n    plt.figure(plt_num, figsize=(15, 15))\\n    for featuremap in range(featuremaps):\\n        plt.subplot(\\n            6, 8, featuremap + 1\\n        )  # sets the number of feature maps to show on each row and column\\n        plt.title(\\\"FeatureMap \\\" + str(featuremap))  # displays the feature map number\\n        if activation_min != -1 & activation_max != -1:\\n            plt.imshow(\\n                activation[0, :, :, featuremap],\\n                interpolation=\\\"nearest\\\",\\n                vmin=activation_min,\\n                vmax=activation_max,\\n                cmap=\\\"gray\\\",\\n            )\\n        elif activation_max != -1:\\n            plt.imshow(\\n                activation[0, :, :, featuremap],\\n                interpolation=\\\"nearest\\\",\\n                vmax=activation_max,\\n                cmap=\\\"gray\\\",\\n            )\\n        elif activation_min != -1:\\n            plt.imshow(\\n                activation[0, :, :, featuremap],\\n                interpolation=\\\"nearest\\\",\\n                vmin=activation_min,\\n                cmap=\\\"gray\\\",\\n            )\\n        else:\\n            plt.imshow(\\n                activation[0, :, :, featuremap], interpolation=\\\"nearest\\\", cmap=\\\"gray\\\"\\n            )\";\n",
       "                var nbb_formatted_code = \"# image_input: the test image being fed into the network to produce the feature maps\\n# tf_activation: should be a tf variable name used during your training procedure that represents the calculated state of a specific weight layer\\n# Note: that to get access to tf_activation, the session should be interactive which can be achieved with the following commands.\\n# sess = tf.InteractiveSession()\\n# sess.as_default()\\n\\n# activation_min/max: can be used to view the activation contrast in more detail, by default matplot sets min and max to the actual min and    max values of the output\\n# plt_num: used to plot out multiple different weight feature map sets on the same block, just extend the plt number for each new feature map entry\\n\\n\\ndef outputFeatureMap(\\n    image_input, tf_activation, activation_min=-1, activation_max=-1, plt_num=1\\n):\\n    # Here make sure to preprocess your image_input in a way your network expects\\n    # with size, normalization, ect if needed\\n    # image_input =\\n    # Note: x should be the same name as your network's tensorflow data placeholder variable\\n    # If you get an error tf_activation is not defined it maybe having trouble accessing the variable from inside a function\\n    activation = tf_activation.eval(session=sess, feed_dict={x: image_input})\\n    featuremaps = activation.shape[3]\\n    plt.figure(plt_num, figsize=(15, 15))\\n    for featuremap in range(featuremaps):\\n        plt.subplot(\\n            6, 8, featuremap + 1\\n        )  # sets the number of feature maps to show on each row and column\\n        plt.title(\\\"FeatureMap \\\" + str(featuremap))  # displays the feature map number\\n        if activation_min != -1 & activation_max != -1:\\n            plt.imshow(\\n                activation[0, :, :, featuremap],\\n                interpolation=\\\"nearest\\\",\\n                vmin=activation_min,\\n                vmax=activation_max,\\n                cmap=\\\"gray\\\",\\n            )\\n        elif activation_max != -1:\\n            plt.imshow(\\n                activation[0, :, :, featuremap],\\n                interpolation=\\\"nearest\\\",\\n                vmax=activation_max,\\n                cmap=\\\"gray\\\",\\n            )\\n        elif activation_min != -1:\\n            plt.imshow(\\n                activation[0, :, :, featuremap],\\n                interpolation=\\\"nearest\\\",\\n                vmin=activation_min,\\n                cmap=\\\"gray\\\",\\n            )\\n        else:\\n            plt.imshow(\\n                activation[0, :, :, featuremap], interpolation=\\\"nearest\\\", cmap=\\\"gray\\\"\\n            )\";\n",
       "                var nbb_cells = Jupyter.notebook.get_cells();\n",
       "                for (var i = 0; i < nbb_cells.length; ++i) {\n",
       "                    if (nbb_cells[i].input_prompt_number == nbb_cell_id) {\n",
       "                        if (nbb_cells[i].get_text() == nbb_unformatted_code) {\n",
       "                             nbb_cells[i].set_text(nbb_formatted_code);\n",
       "                        }\n",
       "                        break;\n",
       "                    }\n",
       "                }\n",
       "            }, 500);\n",
       "            "
      ],
      "text/plain": [
       "<IPython.core.display.Javascript object>"
      ]
     },
     "metadata": {},
     "output_type": "display_data"
    }
   ],
   "source": [
    "# image_input: the test image being fed into the network to produce the feature maps\n",
    "# tf_activation: should be a tf variable name used during your training procedure that represents the calculated state of a specific weight layer\n",
    "# Note: that to get access to tf_activation, the session should be interactive which can be achieved with the following commands.\n",
    "# sess = tf.InteractiveSession()\n",
    "# sess.as_default()\n",
    "\n",
    "# activation_min/max: can be used to view the activation contrast in more detail, by default matplot sets min and max to the actual min and    max values of the output\n",
    "# plt_num: used to plot out multiple different weight feature map sets on the same block, just extend the plt number for each new feature map entry\n",
    "\n",
    "\n",
    "def outputFeatureMap(\n",
    "    image_input, tf_activation, activation_min=-1, activation_max=-1, plt_num=1\n",
    "):\n",
    "    # Here make sure to preprocess your image_input in a way your network expects\n",
    "    # with size, normalization, ect if needed\n",
    "    # image_input =\n",
    "    # Note: x should be the same name as your network's tensorflow data placeholder variable\n",
    "    # If you get an error tf_activation is not defined it maybe having trouble accessing the variable from inside a function\n",
    "    activation = tf_activation.eval(session=sess, feed_dict={x: image_input})\n",
    "    featuremaps = activation.shape[3]\n",
    "    plt.figure(plt_num, figsize=(15, 15))\n",
    "    for featuremap in range(featuremaps):\n",
    "        plt.subplot(\n",
    "            6, 8, featuremap + 1\n",
    "        )  # sets the number of feature maps to show on each row and column\n",
    "        plt.title(\"FeatureMap \" + str(featuremap))  # displays the feature map number\n",
    "        if activation_min != -1 & activation_max != -1:\n",
    "            plt.imshow(\n",
    "                activation[0, :, :, featuremap],\n",
    "                interpolation=\"nearest\",\n",
    "                vmin=activation_min,\n",
    "                vmax=activation_max,\n",
    "                cmap=\"gray\",\n",
    "            )\n",
    "        elif activation_max != -1:\n",
    "            plt.imshow(\n",
    "                activation[0, :, :, featuremap],\n",
    "                interpolation=\"nearest\",\n",
    "                vmax=activation_max,\n",
    "                cmap=\"gray\",\n",
    "            )\n",
    "        elif activation_min != -1:\n",
    "            plt.imshow(\n",
    "                activation[0, :, :, featuremap],\n",
    "                interpolation=\"nearest\",\n",
    "                vmin=activation_min,\n",
    "                cmap=\"gray\",\n",
    "            )\n",
    "        else:\n",
    "            plt.imshow(\n",
    "                activation[0, :, :, featuremap], interpolation=\"nearest\", cmap=\"gray\"\n",
    "            )"
   ]
  },
  {
   "cell_type": "code",
   "execution_count": null,
   "metadata": {},
   "outputs": [],
   "source": []
  }
 ],
 "metadata": {
  "kernelspec": {
   "display_name": "Python 3",
   "language": "python",
   "name": "python3"
  },
  "language_info": {
   "codemirror_mode": {
    "name": "ipython",
    "version": 3
   },
   "file_extension": ".py",
   "mimetype": "text/x-python",
   "name": "python",
   "nbconvert_exporter": "python",
   "pygments_lexer": "ipython3",
   "version": "3.7.6"
  }
 },
 "nbformat": 4,
 "nbformat_minor": 4
}
