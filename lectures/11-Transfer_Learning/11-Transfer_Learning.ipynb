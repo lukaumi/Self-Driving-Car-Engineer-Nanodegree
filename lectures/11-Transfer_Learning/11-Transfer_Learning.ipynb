{
 "cells": [
  {
   "cell_type": "code",
   "execution_count": 1,
   "metadata": {},
   "outputs": [
    {
     "data": {
      "application/javascript": [
       "\n",
       "            setTimeout(function() {\n",
       "                var nbb_cell_id = 1;\n",
       "                var nbb_unformatted_code = \"%load_ext nb_black\";\n",
       "                var nbb_formatted_code = \"%load_ext nb_black\";\n",
       "                var nbb_cells = Jupyter.notebook.get_cells();\n",
       "                for (var i = 0; i < nbb_cells.length; ++i) {\n",
       "                    if (nbb_cells[i].input_prompt_number == nbb_cell_id) {\n",
       "                        if (nbb_cells[i].get_text() == nbb_unformatted_code) {\n",
       "                             nbb_cells[i].set_text(nbb_formatted_code);\n",
       "                        }\n",
       "                        break;\n",
       "                    }\n",
       "                }\n",
       "            }, 500);\n",
       "            "
      ],
      "text/plain": [
       "<IPython.core.display.Javascript object>"
      ]
     },
     "metadata": {},
     "output_type": "display_data"
    }
   ],
   "source": [
    "%load_ext nb_black"
   ]
  },
  {
   "cell_type": "markdown",
   "metadata": {},
   "source": [
    "- at this point, you've built and trained deep neural networks from the ground up\n",
    "  - congratulations; this is an amazing set of skills with a wide range of applications\n",
    "- however, deep learning engineers often don't actually start with a blank slate when they're building neural networks\n",
    "\n",
    "\n",
    "- starting from scratch can be time-consuming\n",
    "  - it's not just architecting the network, but also experimenting with it, training it and adjusting it, which can take days or even weeks\n",
    "  - to accelerate the process, engineers often begin with a pre-trained network and then modify it\n",
    "  - fine-tuning an existing network is a powerful technique because improving a network takes much less effort than creating one from scratch\n",
    "  - going even further, we can take an existing network and re-purpose it for a related but different task\n",
    "\n",
    "\n",
    "- re-purposing a network is called **Transfer Learning** because you're transferring the learning from an existing network to a new one\n",
    "- to learn more about why Transfer Learning is so important for building deep neural networks, we're going to get some advice from Bryan Cantanzaro, a deep learning expert in NVIDIA"
   ]
  },
  {
   "cell_type": "markdown",
   "metadata": {},
   "source": [
    "- you might think of GPUs as devices built for rendering graphically intensive video games, and that's true\n",
    "- but GPUs have also become extraordinarily important for deep learning\n",
    "- CPUs are mostly optimized for latency, running a single thread of instructions as quickly as possible\n",
    "- GPUs are optimized for throughput computation, running as many simultaneous computations as possible\n",
    "\n",
    "<img src=\"resources/cpu_vs_gpu_1.png\">\n",
    "\n",
    "- throughput computing is important for computer graphics because we want to update lots of pixels on the screen at the same time\n",
    "- it turns out that throughput computing is also important for deep learning because the computations fundamental to deep learning have a lot of parallelism\n",
    "\n",
    "\n",
    "- what level of acceleration do you typically see when you move from training a network on a CPU to a GPU?\n",
    "  - it depends on a lot of factors, including how the software we're running has been designed, and the precise CPU and GPU we're comparing\n",
    "    - for example, the low power processor in your laptop is going to be much slower than a big server processor\n",
    "  - but a rule of thumb would be that networks train about five times faster on a GPU than on a CPU\n",
    "\n",
    "\n",
    "- the chart below gives a general idea of how, over time, GPU performance has increased faster than CPU performance\n",
    "  - the data is based on a comparison of NVIDIA GPUs and Intel CPUs\n",
    "\n",
    "<img src=\"resources/cpu_vs_gpu_2.png\">"
   ]
  },
  {
   "cell_type": "markdown",
   "metadata": {},
   "source": [
    "# Transfer Learning"
   ]
  },
  {
   "cell_type": "markdown",
   "metadata": {},
   "source": [
    "- when you're tackling a new problem with a neural network, it might help to start with an existing network that was built for a similar task and then try to fine-tune it for your own problem\n",
    "- there are a couple of good reasons to do this\n",
    "  - first, existing neural networks can be really useful\n",
    "    - if somebody has taken days or weeks to train a network already, then a lot of intelligence is stored in that network\n",
    "    - taking advantage of that work can accelerate your own progress\n",
    "  - second, sometimes the data set for the problem you'll work on might be small\n",
    "    - in those cases, look for an existing network that's designed for a problem similar to your own\n",
    "    - if that network has already been trained on a larger data set, then you can use it as a starting point to help your own network generalize better\n",
    "- in order to do this, it makes sense to learn a little bit about the most prominent pre-trained networks that already exist"
   ]
  },
  {
   "cell_type": "markdown",
   "metadata": {},
   "source": [
    "- transfer learning involves taking a pre-trained neural network and adapting the neural network to a new, different data set\n",
    "- the approach for using transfer learning will be different, depending on both:\n",
    "  - the size of the new data set, and\n",
    "  - the similarity of the new data set to the original data set\n",
    "- there are four main cases:\n",
    "  - new data set is small, new data is similar to original training data\n",
    "  - new data set is small, new data is different from original training data\n",
    "  - new data set is large, new data is similar to original training data\n",
    "  - new data set is large, new data is different from original training data\n",
    "\n",
    "<img src=\"resources/four_cases_transfer_learning.png\">\n",
    "\n",
    "- a large data set might have one million images\n",
    "- a small data could have two-thousand images\n",
    "- the dividing line between a large data set and small data set is somewhat subjective\n",
    "- overfitting is a concern when using transfer learning with a small data set\n",
    "\n",
    "\n",
    "- images of dogs and images of wolves would be considered similar; the images would share common characteristics\n",
    "- a data set of flower images would be different from a data set of dog images"
   ]
  },
  {
   "cell_type": "markdown",
   "metadata": {},
   "source": [
    "## Demonstration Network\n",
    "\n",
    "- to explain how each situation works, we will start with a generic pre-trained convolutional neural network and explain how to adjust the network for each case\n",
    "- our example network contains three convolutional layers and three fully connected layers:\n",
    "\n",
    "<img src=\"resources/demonstration_network.png\">\n",
    "\n",
    "- here is an generalized overview of what the convolutional neural network does:\n",
    "  - the first layer will detect edges in the image\n",
    "  - the second layer will detect shapes\n",
    "  - the third convolutional layer detects higher level features\n",
    "\n",
    "\n",
    "- each transfer learning case will use the pre-trained convolutional neural network in a different way"
   ]
  },
  {
   "cell_type": "markdown",
   "metadata": {},
   "source": [
    "## Case 1: Small Data Set, Similar Data"
   ]
  },
  {
   "cell_type": "markdown",
   "metadata": {},
   "source": [
    "<img src=\"resources/case1_small_dataset_similar_data.png\">\n",
    "\n",
    "- if the new data set is small and similar to the original training data:\n",
    "  - slice off the end of the neural network\n",
    "  - add a new fully connected layer that matches the number of classes in the new data set\n",
    "  - randomize the weights of the new fully connected layer; freeze all the weights from the pre-trained network\n",
    "  - train the network to update the weights of the new fully connected layer\n",
    "\n",
    "\n",
    "- to avoid overfitting on the small data set, the weights of the original network will be held constant rather than re-training the weights\n",
    "- since the data sets are similar, images from each data set will have similar higher level features\n",
    "  - therefore most or all of the pre-trained neural network layers already contain relevant information about the new data set and should be kept\n",
    "\n",
    "\n",
    "- here's how to visualize this approach:\n",
    "\n",
    "<img src=\"resources/case1_small_dataset_similar_data_visualize.png\">"
   ]
  },
  {
   "cell_type": "markdown",
   "metadata": {},
   "source": [
    "## Case 2: Small Data Set, Different Data"
   ]
  },
  {
   "cell_type": "markdown",
   "metadata": {},
   "source": [
    "<img src=\"resources/case2_small_dataset_different_data.png\">\n",
    "\n",
    "- if the new data set is small and different from the original training data:\n",
    "  - slice off most of the pre-trained layers near the beginning of the network\n",
    "  - add to the remaining pre-trained layers a new fully connected layer that matches the number of classes in the new data set\n",
    "  - randomize the weights of the new fully connected layer; freeze all the weights from the pre-trained network\n",
    "  - train the network to update the weights of the new fully connected layer\n",
    "\n",
    "\n",
    "- because the data set is small, overfitting is still a concern\n",
    "  - to combat overfitting, the weights of the original neural network will be held constant, like in the first case\n",
    "- but the original training set and the new data set do not share higher level features\n",
    "  - in this case, the new network will only use the layers containing lower level features\n",
    "\n",
    "\n",
    "- here is how to visualize this approach:\n",
    "\n",
    "<img src=\"resources/case2_small_dataset_different_data_visualize.png\">"
   ]
  },
  {
   "cell_type": "markdown",
   "metadata": {},
   "source": [
    "## Case 3: Large Data Set, Similar Data"
   ]
  },
  {
   "cell_type": "markdown",
   "metadata": {},
   "source": [
    "<img src=\"resources/case3_large_dataset_similar_data.png\">\n",
    "\n",
    "- if the new data set is large and similar to the original training data:\n",
    "  - remove the last fully connected layer and replace with a layer matching the number of classes in the new data set\n",
    "  - randomly initialize the weights in the new fully connected layer\n",
    "  - initialize the rest of the weights using the pre-trained weights\n",
    "  - re-train the entire neural network\n",
    "\n",
    "\n",
    "- overfitting is not as much of a concern when training on a large data set; therefore, you can re-train all of the weights\n",
    "- because the original training set and the new data set share higher level features, the entire neural network is used as well\n",
    "\n",
    "\n",
    "- here is how to visualize this approach:\n",
    "\n",
    "<img src=\"resources/case3_large_dataset_similar_data_visualize.png\">"
   ]
  },
  {
   "cell_type": "markdown",
   "metadata": {},
   "source": [
    "## Case 4: Large Data Set, Different Data"
   ]
  },
  {
   "cell_type": "markdown",
   "metadata": {},
   "source": [
    "<img src=\"resources/case4_large_dataset_different_data.png\">\n",
    "\n",
    "- if the new data set is large and different from the original training data:\n",
    "  - remove the last fully connected layer and replace with a layer matching the number of classes in the new data set\n",
    "  - retrain the network from scratch with randomly initialized weights\n",
    "  - alternatively, you could just use the same strategy as the \"large and similar\" data case\n",
    "\n",
    "\n",
    "- even though the data set is different from the training data, initializing the weights from the pre-trained network might make training faster\n",
    "  - so this case is exactly the same as the case with a large, similar data set\n",
    "- if using the pre-trained network as a starting point does not produce a successful model, another option is to randomly initialize the convolutional neural network weights and train the network from scratch\n",
    "\n",
    "\n",
    "- here is how to visualize this approach:\n",
    "\n",
    "<img src=\"resources/case4_large_dataset_different_data_visualize.png\">"
   ]
  },
  {
   "cell_type": "markdown",
   "metadata": {},
   "source": [
    "# ImageNet"
   ]
  },
  {
   "cell_type": "markdown",
   "metadata": {},
   "source": [
    "- by the late aughts (the terms \"aughts\" or \"oughts\" refers to the first decade of a century; in this context the \"late aughts\" refers to the latter part of the first decade of the 2000's), the Internet had made it easier to generate and collect images, storage costs had dropped so that it was cheap to save large collections of images, and services like Amazon's Mechanical Turk had even made it more cost-effective to label images\n",
    "  - that confluence of factors gave rise to ImageNet, a huge database of hand-labeled images\n",
    "  - and the ImageNet database gave rise to the ImageNet Large Scale Visual Recognition Competition\n",
    "    - the ImageNet Large Scale Visual Recognition Competition is most famous as an annual competition, where teams from industry and academia try to build the best networks for object detection and localization\n",
    "    - this spurred really intense competition between teams in industry and academia to produce the best image classification network\n",
    "    - as these teams published their approaches, we learned a lot about the best ways to build neural networks\n",
    "    - the first big breakthrough was in 2012, when the winning submission really changed the field; it was called AlexNet, and it looked a lot like Yann LeCun's neural network from way back in 1998"
   ]
  },
  {
   "cell_type": "markdown",
   "metadata": {},
   "source": [
    "- ImageNet was its own competition from 2012-2017, but now it's hosted on [Kaggle](https://www.kaggle.com/c/imagenet-object-localization-challenge)\n",
    "- there are 1,000 different image categories between over 14 million images, so it's a great way to get involved with large datasets\n",
    "\n",
    "\n",
    "- pre-training a network with the ImageNet dataset is a very common way to get a strong neural network that can be used for transfer learning\n",
    "- with recent versions of Keras, you can easily import a pre-trained network by using the [Keras Applications](https://keras.io/applications/) models"
   ]
  },
  {
   "cell_type": "markdown",
   "metadata": {},
   "source": [
    "# AlexNet"
   ]
  },
  {
   "cell_type": "markdown",
   "metadata": {},
   "source": [
    "- AlexNet was developed at the University of Toronto by Alex Krizhevsky, Ilya Sutskever and their professor Geoffrey Hinton\n",
    "- although the fundamental architecture of AlexNet resembled LeNet from 1998, AlexNet was a breakthrough in several respects\n",
    "  - first and foremost, AlexNet used the massive parallelism afforded by GPUs to accelerate training\n",
    "  - using the best GPUs available in 2012, the AlexNet team was able to train the network in about a week\n",
    "  - additionally, AlexNet pioneered the use of Rectified Linear Units as an activation function and dropout as a technique for avoiding overfitting\n",
    "\n",
    "\n",
    "- in 2011, the year before AlexNet was developed, the winner of the ImageNet competition successfully classified 74% of images, or in the terminology of the competition, its error was 26%\n",
    "- the next year, AlexNet lowered its error to 15%\n",
    "  - this was a huge leap forward"
   ]
  },
  {
   "cell_type": "markdown",
   "metadata": {},
   "source": [
    "- AlexNet puts the network on two GPUs, which allows for building a larger network\n",
    "- although most of the calculations are done in parallel, the GPUs communicate with each other in certain layers\n",
    "- the [original research paper](https://papers.nips.cc/paper/4824-imagenet-classification-with-deep-convolutional-neural-networks.pdf) on AlexNet said that parallelizing the network decreased the classification error rate by 1.7% when compared to a neural network that used half as many neurons on one GPU\n",
    "\n",
    "<img src=\"resources/alexnet.png\">"
   ]
  },
  {
   "cell_type": "markdown",
   "metadata": {},
   "source": [
    "- AlexNet is still used today as a starting point for building and training neural networks\n",
    "- actually, engineers typically use a simplified version of AlexNet because in recent years we've discovered that some of AlexNet's features aren't really necessary, and so they've been removed\n",
    "  - but most implementations of AlexNet that you'll find online reflect these changes\n",
    "- since AlexNet, a number of newer networks have been developed with even higher accuracy but AlexNet is still one of the best understood and most widely used starting points for Computer Vision"
   ]
  },
  {
   "cell_type": "markdown",
   "metadata": {},
   "source": [
    "# VGG"
   ]
  },
  {
   "cell_type": "markdown",
   "metadata": {},
   "source": [
    "- in 2014, two different groups nearly tied in the ImageNet competition with the seven percent classification error\n",
    "- one of those networks is called VGGnet, or sometimes just VGG, and it came from the Visual Geometry Group at Oxford University\n",
    "\n",
    "\n",
    "- VGG has a simple and elegant architecture, which makes it great for transfer learning\n",
    "- the VGG architecture is just a long sequence of three-by-three convolutions, broken up by two-by-two pooling layers, and finished by a trio of fully-connected layers at the end\n",
    "\n",
    "\n",
    "- lots of engineers use VGG as a starting point for working on other image classification tasks, and it works really well\n",
    "- the flexibility of VGG is one of its great strengths\n",
    "\n",
    "\n",
    "- you can find the original VGG paper [here](https://arxiv.org/pdf/1409.1556.pdf)"
   ]
  },
  {
   "cell_type": "markdown",
   "metadata": {},
   "source": [
    "## VGG in Keras"
   ]
  },
  {
   "cell_type": "markdown",
   "metadata": {},
   "source": [
    "- as we mentioned earlier, you can fairly quickly utilize a pre-trained model with [Keras Applications](https://keras.io/applications/)\n",
    "- VGG16 is one of the built-in models supported\n",
    "- there are actually two versions of VGG, VGG16 and VGG19 (where the numbers denote the number of layers included in each respective model), and you can utilize either with Keras, but we'll work with VGG16 here\n",
    "\n",
    "```python\n",
    "from keras.applications.vgg16 import VGG16\n",
    "\n",
    "model = VGG16(weights='imagenet', include_top=False)\n",
    "```\n",
    "\n",
    "- there are two arguments to `VGG16` in this example, although there could be more or less (check out the linked documentation to see other possible arguments)\n",
    "  - the first, `weights='imagenet'`, loads the pre-trained ImageNet weights\n",
    "    - this is actually the default argument per the documentation, so if you don't include it, you should still be loading the ImageNet weights\n",
    "    - however, you can also specify `None` here to get random weights if you just want the architecture of VGG16; this is not suggested here since you won't get the benefit of transfer learning\n",
    "  - the argument `include_top` is for whether you want to include the fully-connected layer at the top of the network; unless you are actually trying to classify ImageNet's 1,000 classes, you likely want to set this to `False` and add your own additional layer for the output you desire"
   ]
  },
  {
   "cell_type": "markdown",
   "metadata": {},
   "source": [
    "## Pre-processing for ImageNet weights\n",
    "\n",
    "- there is another item to consider before jumping into using an ImageNet pre-trained model\n",
    "- these networks are typically pre-trained with a specific type of pre-processing, so you need to make sure to use the same pre-processing steps, or your network's outputs will likely be erratic\n",
    "\n",
    "\n",
    "- VGG uses 224x224 images as input, so that's another thing to consider\n",
    "\n",
    "```python\n",
    "from keras.preprocessing import image\n",
    "from keras.applications.vgg16 import preprocess_input\n",
    "import numpy as np\n",
    "\n",
    "img_path = 'your_image.jpg'\n",
    "img = image.load_img(img_path, target_size=(224, 224))\n",
    "x = image.img_to_array(img)\n",
    "x = np.expand_dims(x, axis=0)\n",
    "x = preprocess_input(x)\n",
    "```"
   ]
  },
  {
   "cell_type": "markdown",
   "metadata": {},
   "source": [
    "## Demo: Using VGG with Keras\n",
    "\n",
    "- below, you'll be able to check out the predictions from an ImageNet pre-trained VGG network with Keras"
   ]
  },
  {
   "cell_type": "code",
   "execution_count": 2,
   "metadata": {},
   "outputs": [
    {
     "name": "stdout",
     "output_type": "stream",
     "text": [
      "['resources/VGG/dog_labrador.jpg', 'resources/VGG/elephant.jpg', 'resources/VGG/zebra.jpg']\n"
     ]
    },
    {
     "data": {
      "image/png": "[encoded data removed]",
      "text/plain": [
       "<Figure size 432x288 with 1 Axes>"
      ]
     },
     "metadata": {
      "needs_background": "light"
     },
     "output_type": "display_data"
    },
    {
     "data": {
      "application/javascript": [
       "\n",
       "            setTimeout(function() {\n",
       "                var nbb_cell_id = 2;\n",
       "                var nbb_unformatted_code = \"# Load our images first, and we'll check what we have\\nfrom glob import glob\\nimport matplotlib.image as mpimg\\nimport matplotlib.pyplot as plt\\n\\nimage_paths = glob(\\\"resources/VGG/*.jpg\\\")\\n\\n# Print out the image paths\\nprint(image_paths)\\n\\n# View an example of an image\\nexample = mpimg.imread(image_paths[0])\\nplt.imshow(example)\\nplt.show()\";\n",
       "                var nbb_formatted_code = \"# Load our images first, and we'll check what we have\\nfrom glob import glob\\nimport matplotlib.image as mpimg\\nimport matplotlib.pyplot as plt\\n\\nimage_paths = glob(\\\"resources/VGG/*.jpg\\\")\\n\\n# Print out the image paths\\nprint(image_paths)\\n\\n# View an example of an image\\nexample = mpimg.imread(image_paths[0])\\nplt.imshow(example)\\nplt.show()\";\n",
       "                var nbb_cells = Jupyter.notebook.get_cells();\n",
       "                for (var i = 0; i < nbb_cells.length; ++i) {\n",
       "                    if (nbb_cells[i].input_prompt_number == nbb_cell_id) {\n",
       "                        if (nbb_cells[i].get_text() == nbb_unformatted_code) {\n",
       "                             nbb_cells[i].set_text(nbb_formatted_code);\n",
       "                        }\n",
       "                        break;\n",
       "                    }\n",
       "                }\n",
       "            }, 500);\n",
       "            "
      ],
      "text/plain": [
       "<IPython.core.display.Javascript object>"
      ]
     },
     "metadata": {},
     "output_type": "display_data"
    }
   ],
   "source": [
    "# Load our images first, and we'll check what we have\n",
    "from glob import glob\n",
    "import matplotlib.image as mpimg\n",
    "import matplotlib.pyplot as plt\n",
    "\n",
    "image_paths = glob(\"resources/VGG/*.jpg\")\n",
    "\n",
    "# Print out the image paths\n",
    "print(image_paths)\n",
    "\n",
    "# View an example of an image\n",
    "example = mpimg.imread(image_paths[0])\n",
    "plt.imshow(example)\n",
    "plt.show()"
   ]
  },
  {
   "cell_type": "code",
   "execution_count": 3,
   "metadata": {},
   "outputs": [
    {
     "name": "stderr",
     "output_type": "stream",
     "text": [
      "Using TensorFlow backend.\n"
     ]
    },
    {
     "data": {
      "application/javascript": [
       "\n",
       "            setTimeout(function() {\n",
       "                var nbb_cell_id = 3;\n",
       "                var nbb_unformatted_code = \"# Here, we'll load an image and pre-process it\\nfrom keras.preprocessing import image\\nfrom keras.applications.vgg16 import preprocess_input\\nimport numpy as np\\n\\ni = 0  # Can change this to your desired image to test\\nimg_path = image_paths[i]\\nimg = image.load_img(img_path, target_size=(224, 224))\\nx = image.img_to_array(img)\\nx = np.expand_dims(x, axis=0)\\nx = preprocess_input(x)\";\n",
       "                var nbb_formatted_code = \"# Here, we'll load an image and pre-process it\\nfrom keras.preprocessing import image\\nfrom keras.applications.vgg16 import preprocess_input\\nimport numpy as np\\n\\ni = 0  # Can change this to your desired image to test\\nimg_path = image_paths[i]\\nimg = image.load_img(img_path, target_size=(224, 224))\\nx = image.img_to_array(img)\\nx = np.expand_dims(x, axis=0)\\nx = preprocess_input(x)\";\n",
       "                var nbb_cells = Jupyter.notebook.get_cells();\n",
       "                for (var i = 0; i < nbb_cells.length; ++i) {\n",
       "                    if (nbb_cells[i].input_prompt_number == nbb_cell_id) {\n",
       "                        if (nbb_cells[i].get_text() == nbb_unformatted_code) {\n",
       "                             nbb_cells[i].set_text(nbb_formatted_code);\n",
       "                        }\n",
       "                        break;\n",
       "                    }\n",
       "                }\n",
       "            }, 500);\n",
       "            "
      ],
      "text/plain": [
       "<IPython.core.display.Javascript object>"
      ]
     },
     "metadata": {},
     "output_type": "display_data"
    }
   ],
   "source": [
    "# Here, we'll load an image and pre-process it\n",
    "from keras.preprocessing import image\n",
    "from keras.applications.vgg16 import preprocess_input\n",
    "import numpy as np\n",
    "\n",
    "i = 0  # Can change this to your desired image to test\n",
    "img_path = image_paths[i]\n",
    "img = image.load_img(img_path, target_size=(224, 224))\n",
    "x = image.img_to_array(img)\n",
    "x = np.expand_dims(x, axis=0)\n",
    "x = preprocess_input(x)"
   ]
  },
  {
   "cell_type": "markdown",
   "metadata": {},
   "source": [
    "- note that the `image.load_img()` function will re-size our image to 224x224 as desired for input into this VGG16 model, so the images themselves don't have to be 224x224 to start"
   ]
  },
  {
   "cell_type": "markdown",
   "metadata": {},
   "source": [
    "- we won't throw out the top fully-connected layer this time when we load the model, as we actually want the true ImageNet-related output\n",
    "- however, you'll learn how to do this in a later lab\n",
    "- the inference will be a little slower than you might expect here as we are not using GPU just yet\n",
    "\n",
    "\n",
    "- note also the use of `decode_predictions` which will map the prediction to the class name"
   ]
  },
  {
   "cell_type": "code",
   "execution_count": 4,
   "metadata": {},
   "outputs": [
    {
     "name": "stdout",
     "output_type": "stream",
     "text": [
      "WARNING:tensorflow:From /home/luka/miniconda3/envs/carnd-term1/lib/python3.7/site-packages/tensorflow_core/python/ops/resource_variable_ops.py:1630: calling BaseResourceVariable.__init__ (from tensorflow.python.ops.resource_variable_ops) with constraint is deprecated and will be removed in a future version.\n",
      "Instructions for updating:\n",
      "If using Keras pass *_constraint arguments to layers.\n",
      "WARNING:tensorflow:From /home/luka/miniconda3/envs/carnd-term1/lib/python3.7/site-packages/keras/backend/tensorflow_backend.py:4070: The name tf.nn.max_pool is deprecated. Please use tf.nn.max_pool2d instead.\n",
      "\n",
      "WARNING:tensorflow:From /home/luka/miniconda3/envs/carnd-term1/lib/python3.7/site-packages/keras/backend/tensorflow_backend.py:422: The name tf.global_variables is deprecated. Please use tf.compat.v1.global_variables instead.\n",
      "\n",
      "Predicted: [('n02100735', 'English_setter', 0.24644804), ('n02109047', 'Great_Dane', 0.1824823), ('n02092339', 'Weimaraner', 0.116603255)]\n"
     ]
    },
    {
     "data": {
      "application/javascript": [
       "\n",
       "            setTimeout(function() {\n",
       "                var nbb_cell_id = 4;\n",
       "                var nbb_unformatted_code = \"# Note - this will likely need to download a new version of VGG16\\nfrom keras.applications.vgg16 import VGG16, decode_predictions\\n\\n# Load the pre-trained model\\nmodel = VGG16(weights=\\\"imagenet\\\")\\n\\n# Perform inference on our pre-processed image\\npredictions = model.predict(x)\\n\\n# Check the top 3 predictions of the model\\nprint(\\\"Predicted:\\\", decode_predictions(predictions, top=3)[0])\";\n",
       "                var nbb_formatted_code = \"# Note - this will likely need to download a new version of VGG16\\nfrom keras.applications.vgg16 import VGG16, decode_predictions\\n\\n# Load the pre-trained model\\nmodel = VGG16(weights=\\\"imagenet\\\")\\n\\n# Perform inference on our pre-processed image\\npredictions = model.predict(x)\\n\\n# Check the top 3 predictions of the model\\nprint(\\\"Predicted:\\\", decode_predictions(predictions, top=3)[0])\";\n",
       "                var nbb_cells = Jupyter.notebook.get_cells();\n",
       "                for (var i = 0; i < nbb_cells.length; ++i) {\n",
       "                    if (nbb_cells[i].input_prompt_number == nbb_cell_id) {\n",
       "                        if (nbb_cells[i].get_text() == nbb_unformatted_code) {\n",
       "                             nbb_cells[i].set_text(nbb_formatted_code);\n",
       "                        }\n",
       "                        break;\n",
       "                    }\n",
       "                }\n",
       "            }, 500);\n",
       "            "
      ],
      "text/plain": [
       "<IPython.core.display.Javascript object>"
      ]
     },
     "metadata": {},
     "output_type": "display_data"
    }
   ],
   "source": [
    "# Note - this will likely need to download a new version of VGG16\n",
    "from keras.applications.vgg16 import VGG16, decode_predictions\n",
    "\n",
    "# Load the pre-trained model\n",
    "model = VGG16(weights=\"imagenet\")\n",
    "\n",
    "# Perform inference on our pre-processed image\n",
    "predictions = model.predict(x)\n",
    "\n",
    "# Check the top 3 predictions of the model\n",
    "print(\"Predicted:\", decode_predictions(predictions, top=3)[0])"
   ]
  },
  {
   "cell_type": "markdown",
   "metadata": {},
   "source": [
    "- you should mostly get the correct answers here\n",
    "- in our own run, it predicted a Tusker elephant with an African elephant in second place (the image is of an African elephant), correctly selected a labrador, and very confidently predicted a zebra\n",
    "- you can add some of your own images into the images folder by clicking on the jupyter logo in the top left and see how it performs on your own examples!"
   ]
  },
  {
   "cell_type": "markdown",
   "metadata": {},
   "source": [
    "# Empirics"
   ]
  },
  {
   "cell_type": "markdown",
   "metadata": {},
   "source": [
    "- deep learning is a hands on empirical field\n",
    "- the more experiments that we engineers and researchers try, the more ideas we generate and some of them actually turn out to work\n",
    "- other ideas that seem promising initially don't work\n",
    "- the practice is definitely ahead of the theory in many cases so it's important not to get too attached to theories about different network architectures or exactly what layer follows another in a network, instead to be a successful deep learning practitioner, you need a bias towards action\n",
    "\n",
    "\n",
    "- experiment to answer your questions rather than just thinking deep thoughts\n",
    "- also, don't be too discouraged if something doesn't work immediately the first time you try it\n",
    "- keep experimenting until you find a network and hyper parameters that work for your problem\n",
    "\n",
    "\n",
    "- I like to think of deep learning as one of the few places in computer science where we actually do science\n",
    "- most of computer science is really more about engineering, but in deep learning we really do spend a lot of time running experiments and building theories of what works and why, just like real scientists\n",
    "- I would say that does make us real scientists\n",
    "  - you're learning about several important network architectures that you can use as a basis for your own projects\n",
    "  - but more important than the intricacies of these networks, is to get your hands dirty and try to solve real problems\n",
    "    - this will develop your confidence and give you practical skills"
   ]
  },
  {
   "cell_type": "markdown",
   "metadata": {},
   "source": [
    "# GoogLeNet"
   ]
  },
  {
   "cell_type": "markdown",
   "metadata": {},
   "source": [
    "- in 2014, Google published its own network in the ImageNet competition and in homage to Yann LeCun and LeNet, Google named their network, wait for it, GoogLeNet\n",
    "  - it's spelled like GoogleNet but it's pronounced GoogLeNet\n",
    "- in the ImageNet competition, GoogLeNet performed even a little better than VGG: 6.7% compared to 7.3% percent, although at that level, it kind of feels like we're splitting hairs\n",
    "\n",
    "\n",
    "- GoogLeNet's great advantage is that it runs really fast\n",
    "- the team that developed GoogLeNet developed a clever concept called an Inception module, which trains really well and is efficiently deployable\n",
    "  - do you remember inception? Vincent explained the concept earlier\n",
    "  - as Vincent says, the inception modules create a situation in which the total number of parameters is very small\n",
    "    - this is why GoogLeNet runs almost as fast as AlexNet\n",
    "  - and of course GoogLeNet has great accuracy\n",
    "    - like we mentioned earlier, it's ImageNet error was only 7%\n",
    "- GoogLeNet is a great choice to investigate if you need to run your network in real time, like maybe in a self-driving car\n",
    "\n",
    "\n",
    "- you can find the original GoogLeNet/Inception paper [here](https://arxiv.org/pdf/1409.4842.pdf)"
   ]
  },
  {
   "cell_type": "markdown",
   "metadata": {},
   "source": [
    "## GoogLeNet/Inception in Keras\n",
    "\n",
    "- inception is also one of the models included in [Keras Applications](https://keras.io/applications/)\n",
    "- utilizing this model follows pretty much the same steps as using VGG, although this time you'll use the `InceptionV3` architecture\n",
    "\n",
    "```python\n",
    "from keras.applications.inception_v3 import InceptionV3\n",
    "\n",
    "model = InceptionV3(weights='imagenet', include_top=False)\n",
    "```\n",
    "\n",
    "- don't forget to perform the necessary pre-processing steps to any inputs you include!\n",
    "- while the original Inception model used a $224x224$ input like VGG, InceptionV3 actually uses a $299x299$ input"
   ]
  },
  {
   "cell_type": "markdown",
   "metadata": {},
   "source": [
    "# ResNet"
   ]
  },
  {
   "cell_type": "markdown",
   "metadata": {},
   "source": [
    "- the 2015 ImageNet winner was a network from Microsoft Research called ResNet\n",
    "- ResNet claim to fame is that it has a massive 152 layers\n",
    "  - for contrast, AlexNet has 5 layers, VGG has 19 layers, and GoogLeNet has 22 layers\n",
    "- ResNet is kinda like VGG in that the same structure is repeated again and again for layer after layer\n",
    "  - the main idea was to add connections to the neural network that skip layers so that very deep neural networks could practically be trained\n",
    "- ResNet achieves a loss of only $3\\%$ on ImageNet which is actually better than normal human accuracy\n",
    "\n",
    "\n",
    "- you can find the original ResNet paper [here](https://arxiv.org/pdf/1512.03385.pdf)"
   ]
  },
  {
   "cell_type": "markdown",
   "metadata": {},
   "source": [
    "## ResNet in Keras\n",
    "\n",
    "- as you may have guessed, ResNet is also a model included in [Keras Applications](https://keras.io/applications/), under `ResNet50`\n",
    "\n",
    "```python\n",
    "from keras.applications.resnet50 import ResNet50\n",
    "\n",
    "model = ResNet50(weights='imagenet', include_top=False)\n",
    "```\n",
    "\n",
    "- again, you'll need to do ImageNet-related pre-processing if you want to use the pre-trained weights for it\n",
    "- ResNet50 has a $224x224$ input size"
   ]
  },
  {
   "cell_type": "markdown",
   "metadata": {},
   "source": [
    "# Without Pre-trained Weights"
   ]
  },
  {
   "cell_type": "markdown",
   "metadata": {},
   "source": [
    "- so far, you've seen the effectiveness of models pre-trained on ImageNet weights, but what if we specify `weights=None` when we load a model?\n",
    "  - well, you'll instead be randomly initializing the weights, as if you had built a model on your own and were starting from scratch\n",
    "\n",
    "\n",
    "- from our chart before, there are few situations where this might even be a potential use case - basically, when you have data that is very different from the original data\n",
    "- however, given the large size of the ImageNet dataset (remember, it's over 14 million images from 1,000 classes!), it's highly unlikely this is really the case - it will almost always make the most sense to start with ImageNet pre-trained weights, and only fine-tune from there"
   ]
  },
  {
   "cell_type": "markdown",
   "metadata": {},
   "source": [
    "## Demo: VGG without Pre-trained Weights\n",
    "\n",
    "- below, you'll see how setting `weights=None` is equivalent to an un-trained network"
   ]
  },
  {
   "cell_type": "code",
   "execution_count": 5,
   "metadata": {},
   "outputs": [
    {
     "data": {
      "application/javascript": [
       "\n",
       "            setTimeout(function() {\n",
       "                var nbb_cell_id = 5;\n",
       "                var nbb_unformatted_code = \"# Load our images first, and we'll check what we have\\nfrom glob import glob\\nimport matplotlib.image as mpimg\\nimport matplotlib.pyplot as plt\\nfrom keras.preprocessing import image\\nfrom keras.applications.vgg16 import preprocess_input\\nimport numpy as np\\n\\nimage_paths = glob(\\\"resources/VGG/*.jpg\\\")\\n\\ni = 2  # Can change this to your desired image to test\\nimg_path = image_paths[i]\\nimg = image.load_img(img_path, target_size=(224, 224))\\nx = image.img_to_array(img)\\nx = np.expand_dims(x, axis=0)\\nx = preprocess_input(x)\";\n",
       "                var nbb_formatted_code = \"# Load our images first, and we'll check what we have\\nfrom glob import glob\\nimport matplotlib.image as mpimg\\nimport matplotlib.pyplot as plt\\nfrom keras.preprocessing import image\\nfrom keras.applications.vgg16 import preprocess_input\\nimport numpy as np\\n\\nimage_paths = glob(\\\"resources/VGG/*.jpg\\\")\\n\\ni = 2  # Can change this to your desired image to test\\nimg_path = image_paths[i]\\nimg = image.load_img(img_path, target_size=(224, 224))\\nx = image.img_to_array(img)\\nx = np.expand_dims(x, axis=0)\\nx = preprocess_input(x)\";\n",
       "                var nbb_cells = Jupyter.notebook.get_cells();\n",
       "                for (var i = 0; i < nbb_cells.length; ++i) {\n",
       "                    if (nbb_cells[i].input_prompt_number == nbb_cell_id) {\n",
       "                        if (nbb_cells[i].get_text() == nbb_unformatted_code) {\n",
       "                             nbb_cells[i].set_text(nbb_formatted_code);\n",
       "                        }\n",
       "                        break;\n",
       "                    }\n",
       "                }\n",
       "            }, 500);\n",
       "            "
      ],
      "text/plain": [
       "<IPython.core.display.Javascript object>"
      ]
     },
     "metadata": {},
     "output_type": "display_data"
    }
   ],
   "source": [
    "# Load our images first, and we'll check what we have\n",
    "from glob import glob\n",
    "import matplotlib.image as mpimg\n",
    "import matplotlib.pyplot as plt\n",
    "from keras.preprocessing import image\n",
    "from keras.applications.vgg16 import preprocess_input\n",
    "import numpy as np\n",
    "\n",
    "image_paths = glob(\"resources/VGG/*.jpg\")\n",
    "\n",
    "i = 2  # Can change this to your desired image to test\n",
    "img_path = image_paths[i]\n",
    "img = image.load_img(img_path, target_size=(224, 224))\n",
    "x = image.img_to_array(img)\n",
    "x = np.expand_dims(x, axis=0)\n",
    "x = preprocess_input(x)"
   ]
  },
  {
   "cell_type": "markdown",
   "metadata": {},
   "source": [
    "- this time, we won't use the pre-trained weights, so we'll likely get some wacky predictions"
   ]
  },
  {
   "cell_type": "code",
   "execution_count": 6,
   "metadata": {},
   "outputs": [
    {
     "name": "stdout",
     "output_type": "stream",
     "text": [
      "Predicted: [('n06794110', 'street_sign', 0.0018124937), ('n01616318', 'vulture', 0.0017637638), ('n01855672', 'goose', 0.001657444)]\n"
     ]
    },
    {
     "data": {
      "application/javascript": [
       "\n",
       "            setTimeout(function() {\n",
       "                var nbb_cell_id = 6;\n",
       "                var nbb_unformatted_code = \"# Note - this will likely need to download a new version of VGG16\\nfrom keras.applications.vgg16 import VGG16, decode_predictions\\n\\n# Load VGG16 without pre-trained weights\\nmodel = VGG16(weights=None)\\n\\n# Perform inference on our pre-processed image\\npredictions = model.predict(x)\\n\\n# Check the top 3 predictions of the model\\nprint(\\\"Predicted:\\\", decode_predictions(predictions, top=3)[0])\";\n",
       "                var nbb_formatted_code = \"# Note - this will likely need to download a new version of VGG16\\nfrom keras.applications.vgg16 import VGG16, decode_predictions\\n\\n# Load VGG16 without pre-trained weights\\nmodel = VGG16(weights=None)\\n\\n# Perform inference on our pre-processed image\\npredictions = model.predict(x)\\n\\n# Check the top 3 predictions of the model\\nprint(\\\"Predicted:\\\", decode_predictions(predictions, top=3)[0])\";\n",
       "                var nbb_cells = Jupyter.notebook.get_cells();\n",
       "                for (var i = 0; i < nbb_cells.length; ++i) {\n",
       "                    if (nbb_cells[i].input_prompt_number == nbb_cell_id) {\n",
       "                        if (nbb_cells[i].get_text() == nbb_unformatted_code) {\n",
       "                             nbb_cells[i].set_text(nbb_formatted_code);\n",
       "                        }\n",
       "                        break;\n",
       "                    }\n",
       "                }\n",
       "            }, 500);\n",
       "            "
      ],
      "text/plain": [
       "<IPython.core.display.Javascript object>"
      ]
     },
     "metadata": {},
     "output_type": "display_data"
    }
   ],
   "source": [
    "# Note - this will likely need to download a new version of VGG16\n",
    "from keras.applications.vgg16 import VGG16, decode_predictions\n",
    "\n",
    "# Load VGG16 without pre-trained weights\n",
    "model = VGG16(weights=None)\n",
    "\n",
    "# Perform inference on our pre-processed image\n",
    "predictions = model.predict(x)\n",
    "\n",
    "# Check the top 3 predictions of the model\n",
    "print(\"Predicted:\", decode_predictions(predictions, top=3)[0])"
   ]
  },
  {
   "cell_type": "markdown",
   "metadata": {},
   "source": [
    "- when we ran each image, we got wrong answers\n",
    "- a little bit different than the elephant, labrador and zebra they are supposed to be!"
   ]
  },
  {
   "cell_type": "markdown",
   "metadata": {},
   "source": [
    "# Outro\n",
    "\n",
    "- AlexNet, VGG, Google LeNet and ResNet are important neural network architectures you might want to use in future projects\n",
    "- even if you build your own neural network from scratch, you'll still want to fine tune it\n",
    "  - you can save your network as you train and then come back later to experiment with new data and additional layer or different hyper parameters\n",
    "\n",
    "\n",
    "- as you proceed to the final project, think about how you might use all of the techniques you learned, including convolutions, pooling, dropout and transfer learning to build your own neural network for behavioral cloning"
   ]
  },
  {
   "cell_type": "markdown",
   "metadata": {},
   "source": [
    "# Additional Resources on Deep Learning"
   ]
  },
  {
   "cell_type": "markdown",
   "metadata": {},
   "source": [
    "- nice work reaching the end of the deep learning content!\n",
    "- while you still have the project left to do here, we're also providing some additional resources and recent research on the topic that you can come back to if you have time later on\n",
    "\n",
    "\n",
    "- reading research papers is a great way to get exposure to the latest and greatest in the field, as well as expand your learning\n",
    "- however, just like the project ahead, it's often best to learn by doing - if you find a paper that really excites you, try to implement it (or even something better) yourself!\n",
    "\n",
    "\n",
    "- all of these are completely optional reading - you could spend hours reading through the entirety of these!\n",
    "- we suggest moving onto the project first so you have what you’ve learned fresh on your mind, before coming back to check these out\n",
    "  - we've categorized these papers to hopefully help you narrow down which ones might be of interest, as well as highlighted a couple key reads by category by including their Abstract section, which summarizes the paper"
   ]
  },
  {
   "cell_type": "markdown",
   "metadata": {},
   "source": [
    "## Behavioral Cloning"
   ]
  },
  {
   "cell_type": "markdown",
   "metadata": {},
   "source": [
    "The below paper shows one of the techniques Waymo has researched using imitation learning (aka behavioral cloning) to drive a car.\n",
    "\n",
    "ChauffeurNet: Learning to Drive by Imitating the Best and Synthesizing the Worst by M. Bansal, A. Krizhevsky and A. Ogale https://arxiv.org/abs/1812.03079\n",
    "\n",
    "***Abstract:*** *Our goal is to train a policy for autonomous driving via imitation learning that is robust enough to drive a real vehicle. We find that standard behavior cloning is insufficient for handling complex driving scenarios, even when we leverage a perception system for preprocessing the input and a controller for executing the output on the car: 30 million examples are still not enough. We propose exposing the learner to synthesized data in the form of perturbations to the expert's driving, which creates interesting situations such as collisions and/or going off the road. Rather than purely imitating all data, we augment the imitation loss with additional losses that penalize undesirable events and encourage progress -- the perturbations then provide an important signal for these losses and lead to robustness of the learned model. We show that the ChauffeurNet model can handle complex situations in simulation, and present ablation experiments that emphasize the importance of each of our proposed changes and show that the model is responding to the appropriate causal factors. Finally, we demonstrate the model driving a car in the real world.*"
   ]
  },
  {
   "cell_type": "markdown",
   "metadata": {},
   "source": [
    "## Object Detection and Tracking\n",
    "\n",
    "The below papers include various deep learning-based approaches to 2D and 3D object detection and tracking."
   ]
  },
  {
   "cell_type": "markdown",
   "metadata": {},
   "source": [
    "SSD: Single Shot MultiBox Detector by W. Liu, et. al. https://arxiv.org/abs/1512.02325\n",
    "\n",
    "***Abstract:*** *We present a method for detecting objects in images using a single deep neural network. Our approach, named SSD, discretizes the output space of bounding boxes into a set of default boxes over different aspect ratios and scales per feature map location. At prediction time, the network generates scores for the presence of each object category in each default box and produces adjustments to the box to better match the object shape. Additionally, the network combines predictions from multiple feature maps with different resolutions to naturally handle objects of various sizes. Our SSD model is simple relative to methods that require object proposals because it completely eliminates proposal generation and subsequent pixel or feature resampling stage and encapsulates all computation in a single network. [...] Experimental results [...] confirm that SSD has comparable accuracy to methods that utilize an additional object proposal step and is much faster, while providing a unified framework for both training and inference. Compared to other single stage methods, SSD has much better accuracy, even with a smaller input image size. [...]*"
   ]
  },
  {
   "cell_type": "markdown",
   "metadata": {},
   "source": [
    "VoxelNet: End-to-End Learning for Point Cloud Based 3D Object Detection by Y. Zhou and O. Tuzel https://arxiv.org/abs/1711.06396\n",
    "\n",
    "***Abstract:*** *Accurate detection of objects in 3D point clouds is a central problem in many applications, such as autonomous navigation, housekeeping robots, and augmented/virtual reality. To interface a highly sparse LiDAR point cloud with a region proposal network (RPN), most existing efforts have focused on hand-crafted feature representations, for example, a bird's eye view projection. In this work, we remove the need of manual feature engineering for 3D point clouds and propose VoxelNet, a generic 3D detection network that unifies feature extraction and bounding box prediction into a single stage, end-to-end trainable deep network. [...] Experiments on the KITTI car detection benchmark show that VoxelNet outperforms the state-of-the-art LiDAR based 3D detection methods by a large margin. Furthermore, our network learns an effective discriminative representation of objects with various geometries, leading to encouraging results in 3D detection of pedestrians and cyclists, based on only LiDAR.*\n"
   ]
  },
  {
   "cell_type": "markdown",
   "metadata": {},
   "source": [
    "Fast and Furious: Real Time End-to-End 3D Detection, Tracking and Motion Forecasting with a Single Convolutional Net by W. Luo, et. al. http://openaccess.thecvf.com/content_cvpr_2018/papers/Luo_Fast_and_Furious_CVPR_2018_paper.pdf\n",
    "\n",
    "***Abstract:*** *In this paper we propose a novel deep neural network that is able to jointly reason about 3D detection, tracking and motion forecasting given data captured by a 3D sensor. By jointly reasoning about these tasks, our holistic approach is more robust to occlusion as well as sparse data at range. Our approach performs 3D convolutions across space and time over a bird’s eye view representation of the 3D world, which is very efficient in terms of both memory and computation. Our experiments on a new very large scale dataset captured in several north american cities, show that we can outperform the state-of-the-art by a large margin. Importantly, by sharing computation we can perform all tasks in as little as 30 ms.*"
   ]
  },
  {
   "cell_type": "markdown",
   "metadata": {},
   "source": [
    "## Semantic Segmentation"
   ]
  },
  {
   "cell_type": "markdown",
   "metadata": {},
   "source": [
    "The below paper concerns a technique called semantic segmentation, where each pixel of an image gets classified individually!\n",
    "\n",
    "SegNet: A Deep Convolutional Encoder-Decoder Architecture for Image Segmentation by V. Badrinarayanan, A. Kendall and R. Cipolla https://arxiv.org/abs/1511.00561\n",
    "\n",
    "***Abstract:*** *We present a novel and practical deep fully convolutional neural network architecture for semantic pixel-wise segmentation termed SegNet. [...] The novelty of SegNet lies in the manner in which the decoder upsamples its lower resolution input feature map(s). Specifically, the decoder uses pooling indices computed in the max-pooling step of the corresponding encoder to perform non-linear upsampling. This eliminates the need for learning to upsample. The upsampled maps are sparse and are then convolved with trainable filters to produce dense feature maps. We compare our proposed architecture with the widely adopted FCN and also with the well known DeepLab-LargeFOV, DeconvNet architectures. This comparison reveals the memory versus accuracy trade-off involved in achieving good segmentation performance. [...] We show that SegNet provides good performance with competitive inference time and more efficient inference memory-wise as compared to other architectures. [...]*"
   ]
  },
  {
   "cell_type": "code",
   "execution_count": null,
   "metadata": {},
   "outputs": [],
   "source": []
  }
 ],
 "metadata": {
  "kernelspec": {
   "display_name": "Python 3",
   "language": "python",
   "name": "python3"
  },
  "language_info": {
   "codemirror_mode": {
    "name": "ipython",
    "version": 3
   },
   "file_extension": ".py",
   "mimetype": "text/x-python",
   "name": "python",
   "nbconvert_exporter": "python",
   "pygments_lexer": "ipython3",
   "version": "3.7.6"
  }
 },
 "nbformat": 4,
 "nbformat_minor": 4
}
