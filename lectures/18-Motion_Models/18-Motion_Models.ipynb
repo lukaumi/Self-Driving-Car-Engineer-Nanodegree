{
 "cells": [
  {
   "cell_type": "markdown",
   "metadata": {},
   "source": [
    "- in this lesson, you're going to review vehicle movement and motion models so that you can predict where your self-driving car will be at some future time\n",
    "- predicting motion is a big step for making a mobile robot drive itself\n",
    "\n",
    "\n",
    "- motion models are description of the physics of a vehicle\n",
    "- when you have a car, for example, and you give gas, it doesn't go sideways, it goes forwards in a specific way and it might turn in circles\n",
    "- the math governing how vehicles move is called a motion model\n",
    "\n",
    "\n",
    "- motion models are an important part of many localization algorithms\n",
    "  - for example, in Bayesian methods, motion models are used in the predictive step you learned about previously\n",
    "- we're going to dive into this by studying a motion model called the bicycle model to estimate the position of the car given sensor data such as the number of wheel turns, velocity, and/or the yaw rate\n",
    "  - it's basically half of the car--it's like the one rear wheel and one front wheel driving together"
   ]
  },
  {
   "cell_type": "markdown",
   "metadata": {},
   "source": [
    "# Motion Models: Bicycle Model"
   ]
  },
  {
   "cell_type": "markdown",
   "metadata": {},
   "source": [
    "- the bicycle model is a simple and useful way to represent how a car moves\n",
    "- like all models, it is based on several simplifying assumptions\n",
    "  - first, we all ignore all vertical dynamics of the car, so you can assume the car only moves in 2D\n",
    "    - this means no flying cars, unfortunately\n",
    "  - next, we'll assume that, like a bicycle, the front wheels of the car are connected to the back wheels of the car by a rigid beam with fixed length\n",
    "    - here, we assume that the front two wheels act together so they can effectively be represented as one wheel, just like a bicycle\n",
    "    - the same holds for the two rear wheels\n",
    "  - finally, we assume the car is also controlled like a bicycle, with a steering angle theta $\\theta$ and some longitudinal velocity in the direction that the car is heading\n",
    "    - e.g. for this car, we change the steering angle by pi over 8 radians, and then the car moves forward at a velocity of 3 meters per second\n",
    "\n",
    "<img src=\"resources/bicycle_motion_model_car.png\"/>"
   ]
  },
  {
   "cell_type": "markdown",
   "metadata": {},
   "source": [
    "# Yaw Rate and Velocity"
   ]
  },
  {
   "cell_type": "markdown",
   "metadata": {},
   "source": [
    "- to recap what you learned in sensor fusion, a car's heading, or yaw angle, is its orientation\n",
    "- yaw is often measured from the x-axis in map coordinates with  counterclockwise angles being positive\n",
    "- in the image below, the car's yaw is positive pi over 4 radians\n",
    "\n",
    "<img src=\"resources/yaw_angle.png\"/>"
   ]
  },
  {
   "cell_type": "markdown",
   "metadata": {},
   "source": [
    "- assuming constant turn rate and velocity, the equations to find the new position of the car, which you derived previously in the fusion module, are shown again below\n",
    "  - these set of equations are valid when the yaw rate, $\\dot{\\theta}$ is equal to zero\n",
    "  - $x_f$, $y_f$ and $\\theta_f$, represent the final $x$ position, $y$ position, and yaw of the car\n",
    "  - $x_0$, $y_0$, and $\\theta_0$ represent the initial $x$ position, $y$ position, and yaw of the car\n",
    "  - $v$ is the velocity of the car, and $dt$ is the time elapsed\n",
    "\n",
    "<img src=\"resources/yaw_equations_constant.png\"/>\n",
    "\n",
    "- if the yaw rate is not zero, you have these equations instead, which you first saw in sensor fusion, because you'll have to take into account the change in the car's heading as it moves\n",
    "\n",
    "<img src=\"resources/yaw_equations_non_constant.png\"/>"
   ]
  },
  {
   "cell_type": "markdown",
   "metadata": {},
   "source": [
    "# Note on Frames of Reference"
   ]
  },
  {
   "cell_type": "markdown",
   "metadata": {},
   "source": [
    "- you may have just noticed that the frames of reference are different than what you used during the Sensor Fusion lessons\n",
    "\n",
    "\n",
    "- Localization\n",
    "  - Things are in vehicle coordinates OR map coordinates. The entire objective of localization is to find the transformation between vehicle coordinates and map coordinates. In other words, we’re trying to find the position of the car in the map!\n",
    "  - The position of the car is described in map coordinates.\n",
    "  - The sensor measurements are usually described in vehicle coordinates. Vehicle coordinates have the x-axis in the direction of the car’s heading, the y-axis pointing orthogonal to the left of the car, and the z-axis pointing upwards.\n",
    "  - Map landmarks are in map coordinates.\n",
    "\n",
    "\n",
    "- Sensor Fusion\n",
    "  - Everything is in vehicle coordinates where the x axis points in the direction of the car’s heading and the y axis points to the left of the car.\n",
    "  - The car is always assumed to be at the origin of the vehicle coordinate system.\n",
    "  - Sensor measurements are in vehicle coordinates.\n",
    "  - There’s no map involved!"
   ]
  },
  {
   "cell_type": "markdown",
   "metadata": {},
   "source": [
    "# Roll, Pitch and Yaw: Quiz"
   ]
  },
  {
   "cell_type": "markdown",
   "metadata": {},
   "source": [
    "- as mentioned in the lesson, the yaw is the rotation of the car about the z-axis\n",
    "- the other two possible rotations, around the x-axis and y-axis, are called roll and pitch respectively\n",
    "\n",
    "\n",
    "- **Q:** Will you need to calculate all three rotations to localize the car effectively?\n",
    "- **A:** It really depends on the road (i.e. the curvature and steepness). In really hilly places like San Francisco or Pittsburgh, the pitch of the car is pretty important. For most other roads though, the extra effort put into the extra calculations are usually not worth the miniscule improvement in accuracy."
   ]
  },
  {
   "cell_type": "markdown",
   "metadata": {},
   "source": [
    "# Odometry"
   ]
  },
  {
   "cell_type": "markdown",
   "metadata": {},
   "source": [
    "- now that you know one way to calculate the car's new position, let's look at another commonly used method using odometry or motion sensor data\n",
    "- for mobile robots, odometry commonly comes from wheel sensors and measure how many times the wheels of the vehicle or robot have turned\n",
    "  - for instance, the sensor on the wheel below would tell us it has turned twice\n",
    "  - given the circumference of the wheel and this odometry data you can measure the distance traveled as indicated by the red line\n",
    "  - more specifically, the new position of the car is the starting position of the car plus the x and y components of the odometry multiplied by the circumference of the wheel\n",
    "\n",
    "<img src=\"resources/odometry.png\"/>"
   ]
  },
  {
   "cell_type": "markdown",
   "metadata": {},
   "source": [
    "- **Q:** When do you think using odometry from a wheel encoder will create large errors in your position estimates?\n",
    "- **A:**\n",
    "  - on a slick, wet road, wheel encoder odometry will incur large errors, because the wheels will slip, causing them to travel less distance than expected\n",
    "    - in addition, the wheels will also slide while braking, further contributing to sensor errors\n",
    "  - on dry paved roads, the wheels will travel a distance very close to the expected circumference of the wheel\n",
    "  - roads with lots of bumps also create problems for odometry because we are assuming the car travels a straight distance in the direction of its heading\n",
    "    - in reality, with a bumpy road the car is traveling much of its distance, not in a straight line, but up and down\n",
    "  - on a road with lots of turns wheel odometry works well because even though the heading of the car is changing, it's still moving the expected distance in the direction of its yaw\n",
    "    - notice that despite the fact that the distance vectors for this car are at different yaw angles, the sum of the absolute magnitude of all the vectors is the same as the expected distance traveled"
   ]
  },
  {
   "cell_type": "markdown",
   "metadata": {},
   "source": [
    "# Conclusion"
   ]
  },
  {
   "cell_type": "markdown",
   "metadata": {},
   "source": [
    "- now you know the assumptions made in the bicycle motion model\n",
    "- you know how to calculate the new position of the car, given yaw rate, velocity and odometry measurements\n",
    "- you also learned about some limitations of odometry"
   ]
  },
  {
   "cell_type": "code",
   "execution_count": null,
   "metadata": {},
   "outputs": [],
   "source": []
  }
 ],
 "metadata": {
  "kernelspec": {
   "display_name": "C++14",
   "language": "C++14",
   "name": "xcpp14"
  },
  "language_info": {
   "codemirror_mode": "text/x-c++src",
   "file_extension": ".cpp",
   "mimetype": "text/x-c++src",
   "name": "c++",
   "version": "14"
  }
 },
 "nbformat": 4,
 "nbformat_minor": 4
}
