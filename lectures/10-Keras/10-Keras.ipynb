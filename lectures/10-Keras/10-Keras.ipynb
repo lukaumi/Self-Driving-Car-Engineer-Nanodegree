{
 "cells": [
  {
   "cell_type": "code",
   "execution_count": 1,
   "metadata": {},
   "outputs": [
    {
     "data": {
      "application/javascript": [
       "\n",
       "            setTimeout(function() {\n",
       "                var nbb_cell_id = 1;\n",
       "                var nbb_unformatted_code = \"%load_ext nb_black\";\n",
       "                var nbb_formatted_code = \"%load_ext nb_black\";\n",
       "                var nbb_cells = Jupyter.notebook.get_cells();\n",
       "                for (var i = 0; i < nbb_cells.length; ++i) {\n",
       "                    if (nbb_cells[i].input_prompt_number == nbb_cell_id) {\n",
       "                        if (nbb_cells[i].get_text() == nbb_unformatted_code) {\n",
       "                             nbb_cells[i].set_text(nbb_formatted_code);\n",
       "                        }\n",
       "                        break;\n",
       "                    }\n",
       "                }\n",
       "            }, 500);\n",
       "            "
      ],
      "text/plain": [
       "<IPython.core.display.Javascript object>"
      ]
     },
     "metadata": {},
     "output_type": "display_data"
    }
   ],
   "source": [
    "%load_ext nb_black"
   ]
  },
  {
   "cell_type": "markdown",
   "metadata": {},
   "source": [
    "- you're not going to do anything by hand anymore, you're going to use existing tools\n",
    "- we're going to show you how to build and train a multilayer convolutional neural network in even fewer lines of code\n",
    "- Keras system that we chose is built on TensorFlow by Google, and is a tool that makes building deep networks easy and effective\n",
    "- the reason why we do this is because we want you to experience building bigger and better things\n",
    "\n",
    "\n",
    "- in this lesson, you'll be building a deep neural network using a new set of tools\n",
    "- you'll still have TensorFlow under the hood, but with an interface that makes testing and prototyping much faster"
   ]
  },
  {
   "cell_type": "markdown",
   "metadata": {},
   "source": [
    "- to help us with this lesson, we're excited to welcome Drew Gray, who's leading the self-driving car team at Otto, which is now part of Uber\n",
    "  - we're exploring whether we can get a car to drive itself, using only deep neural networks and nothing else\n",
    "    - sometimes we call that behavioral cloning because you're training the network that clone human driving behavior\n",
    "    - sometimes it's called end-to-end learning because the network is learning to predict the correct steering angle and speed, using only the inputs from the sensors\n",
    "\n",
    "\n",
    "- for a number of years, people have been working on a more traditional sort of robotics approach\n",
    "  - the robotics approach in building self-driving cars involves a lot of detail knowledge about sensors, controls and planning\n",
    "  - with the deep learning approach, we don't have to program all that detail knowledge into the vehicle\n",
    "    - we simply feed all the information we have into the network, and then we let the network figure out on its own what's important\n",
    "    - also, deep learning allows us to build a feedback loop where the more we drive, the more data we can collect, which in turn allows us to learn how to drive even better"
   ]
  },
  {
   "cell_type": "markdown",
   "metadata": {},
   "source": [
    "# Keras Overview"
   ]
  },
  {
   "cell_type": "markdown",
   "metadata": {},
   "source": [
    "- [Keras](http://faroit.com/keras-docs/1.2.1/) makes coding deep neural networks simpler\n",
    "- to demonstrate just how easy it is, you're going to build a simple fully-connected network in a few dozen lines of code\n",
    "- we’ll be connecting the concepts that you’ve learned in the previous lessons to the methods that Keras provides\n",
    "- the network you will build is similar to Keras’s [sample network](https://github.com/keras-team/keras/blob/master/examples/mnist_cnn.py) that builds out a convolutional neural network for [MNIST](http://yann.lecun.com/exdb/mnist/)\n",
    "- however for the network you will build you're going to use a small subset of the [German Traffic Sign Recognition Benchmark](http://benchmark.ini.rub.de/?section=gtsrb&subsection=news) dataset that you've used previously\n",
    "- the general idea for this example is that you'll first load the data, then define the network, and then finally train the network"
   ]
  },
  {
   "cell_type": "markdown",
   "metadata": {},
   "source": [
    "# Neural Networks in Keras"
   ]
  },
  {
   "cell_type": "markdown",
   "metadata": {},
   "source": [
    "- here are some core concepts you need to know for working with [Keras](https://keras.io/)"
   ]
  },
  {
   "cell_type": "markdown",
   "metadata": {},
   "source": [
    "## Sequential Model\n",
    "\n",
    "```python\n",
    " from keras.models import Sequential\n",
    "\n",
    "    # Create the Sequential model\n",
    "    model = Sequential()\n",
    "```\n",
    "\n",
    "- the [keras.models.Sequential](https://keras.io/models/sequential/) class is a wrapper for the neural network model\n",
    "- it provides common functions like `fit()`, `evaluate()`, and `compile()`\n",
    "  - we'll cover these functions as we get to them. Let's start looking at the layers of the model\n",
    "\n",
    "\n",
    "- see the documentation for `keras.models.Sequential` in Keras 2.09 [here](https://faroit.github.io/keras-docs/2.0.9/models/sequential/)"
   ]
  },
  {
   "cell_type": "markdown",
   "metadata": {},
   "source": [
    "## Layers\n",
    "\n",
    "- a Keras layer is just like a neural network layer\n",
    "- there are fully connected layers, max pool layers, and activation layers\n",
    "- you can add a layer to the model using the model's `add()` function\n",
    "  - for example, a simple model would look like this:\n",
    "\n",
    "```python\n",
    "from keras.models import Sequential\n",
    "from keras.layers.core import Dense, Activation, Flatten\n",
    "\n",
    "# Create the Sequential model\n",
    "model = Sequential()\n",
    "\n",
    "#1st Layer - Add a flatten layer\n",
    "model.add(Flatten(input_shape=(32, 32, 3)))\n",
    "\n",
    "#2nd Layer - Add a fully connected layer\n",
    "model.add(Dense(100))\n",
    "\n",
    "#3rd Layer - Add a ReLU activation layer\n",
    "model.add(Activation('relu'))\n",
    "\n",
    "#4th Layer - Add a fully connected layer\n",
    "model.add(Dense(60))\n",
    "\n",
    "#5th Layer - Add a ReLU activation layer\n",
    "model.add(Activation('relu'))\n",
    "```\n",
    "\n",
    "- Keras will automatically infer the shape of all layers after the first layer\n",
    "  - this means you only have to set the input dimensions for the first layer\n",
    "\n",
    "\n",
    "- the first layer from above, `model.add(Flatten(input_shape=(32, 32, 3)))`, sets the input dimension to $(32, 32, 3)$ and output dimension to $(3072=32 x 32 x 3)$\n",
    "- the second layer takes in the output of the first layer and sets the output dimensions to $(100)$\n",
    "- this chain of passing output to the next layer continues until the last layer, which is the output of the model"
   ]
  },
  {
   "cell_type": "markdown",
   "metadata": {},
   "source": [
    "## Quiz: Neural Networks in Keras\n",
    "\n",
    "- in this quiz you will build a multi-layer feedforward neural network to classify traffic sign images using Keras\n",
    "  - set the first layer to a Flatten() layer with the input_shape set to $(32, 32, 3)$\n",
    "  - set the second layer to a Dense() layer with an output width of $128$\n",
    "  - use a ReLU activation function after the second layer\n",
    "  - set the output layer width to $5$, because for this data set there are only $5$ classes\n",
    "  - use a softmax activation function after the output layer\n",
    "  - train the model for $3$ epochs; you should be able to get over $50\\%$ training accuracy\n",
    "\n",
    "\n",
    "- to get started, review the Keras documentation about models and layers\n",
    "- the Keras example of a [Multi-Layer Perceptron](https://github.com/keras-team/keras/blob/master/examples/mnist_mlp.py) network is similar to what you need to do here\n",
    "  - use that as a guide, but keep in mind that there are a number of differences\n",
    "\n",
    "\n",
    "- the data set used in these quizzes can be downloaded [here](https://d17h27t6h515a5.cloudfront.net/topher/2017/March/58dbf6d5_small-traffic-set/small-traffic-set.zip)"
   ]
  },
  {
   "cell_type": "code",
   "execution_count": null,
   "metadata": {},
   "outputs": [],
   "source": [
    "import pickle\n",
    "import numpy as np\n",
    "import tensorflow as tf\n",
    "\n",
    "# Load pickled data\n",
    "with open(\"resources/small_train_traffic.p\", mode=\"rb\") as f:\n",
    "    data = pickle.load(f)\n",
    "\n",
    "# split data\n",
    "X_train, y_train = data[\"features\"], data[\"labels\"]\n",
    "\n",
    "# Setup Keras\n",
    "from keras.models import Sequential\n",
    "from keras.layers.core import Dense, Activation, Flatten\n",
    "\n",
    "# TODO: Build the Fully Connected Neural Network in Keras Here\n",
    "model = Sequential()\n",
    "model.add(Flatten(input_shape=(32, 32, 3)))\n",
    "model.add(Dense(128))\n",
    "model.add(Activation(\"relu\"))\n",
    "model.add(Dense(5))\n",
    "model.add(Activation(\"softmax\"))\n",
    "\n",
    "# An Alternative Solution\n",
    "# model = Sequential()\n",
    "# model.add(Flatten(input_shape=(32, 32, 3)))\n",
    "# model.add(Dense(128, activation='relu'))\n",
    "# model.add(Dense(5, activation='softmax'))\n",
    "\n",
    "# preprocess data\n",
    "X_normalized = np.array(X_train / 255.0 - 0.5)\n",
    "\n",
    "from sklearn.preprocessing import LabelBinarizer\n",
    "\n",
    "label_binarizer = LabelBinarizer()\n",
    "y_one_hot = label_binarizer.fit_transform(y_train)\n",
    "\n",
    "model.compile(\"adam\", \"categorical_crossentropy\", [\"accuracy\"])\n",
    "# TODO: change the number of training epochs to 3\n",
    "history = model.fit(X_normalized, y_one_hot, epochs=3, validation_split=0.2)"
   ]
  },
  {
   "cell_type": "markdown",
   "metadata": {},
   "source": [
    "## Quiz: Convolutions in Keras\n",
    "\n",
    "- build from the previous network\n",
    "- add a [convolutional layer](https://keras.io/layers/convolutional/#convolution2d) with $32$ filters, a $3x3$ kernel, and valid padding before the flatten layer\n",
    "- add a ReLU activation after the convolutional layer\n",
    "- train for $3$ epochs again; you should be able to get over $50\\%$ accuracy\n",
    "\n",
    "\n",
    "- hint\n",
    "  - the Keras example of a [convolutional neural network](https://github.com/keras-team/keras/blob/master/examples/mnist_cnn.py) for MNIST would be a good example to review"
   ]
  },
  {
   "cell_type": "code",
   "execution_count": null,
   "metadata": {},
   "outputs": [],
   "source": [
    "import pickle\n",
    "import numpy as np\n",
    "import tensorflow as tf\n",
    "\n",
    "# Load pickled data\n",
    "with open(\"resources/small_train_traffic.p\", mode=\"rb\") as f:\n",
    "    data = pickle.load(f)\n",
    "\n",
    "# split data\n",
    "X_train, y_train = data[\"features\"], data[\"labels\"]\n",
    "\n",
    "# Setup Keras\n",
    "from keras.models import Sequential\n",
    "from keras.layers.core import Dense, Activation, Flatten\n",
    "from keras.layers.convolutional import Conv2D\n",
    "\n",
    "# TODO: Build Convolutional Neural Network in Keras Here\n",
    "model = Sequential()\n",
    "model.add(\n",
    "    Conv2D(input_shape=(32, 32, 3), filters=32, kernel_size=(3, 3), padding=\"valid\")\n",
    ")\n",
    "model.add(Activation(\"relu\"))\n",
    "model.add(Flatten())\n",
    "model.add(Dense(128))\n",
    "model.add(Activation(\"relu\"))\n",
    "model.add(Dense(5))\n",
    "model.add(Activation(\"softmax\"))\n",
    "\n",
    "# Preprocess data\n",
    "X_normalized = np.array(X_train / 255.0 - 0.5)\n",
    "\n",
    "from sklearn.preprocessing import LabelBinarizer\n",
    "\n",
    "label_binarizer = LabelBinarizer()\n",
    "y_one_hot = label_binarizer.fit_transform(y_train)\n",
    "\n",
    "# compile and train model\n",
    "# Training for 3 epochs should result in > 50% accuracy\n",
    "model.compile(\"adam\", \"categorical_crossentropy\", [\"accuracy\"])\n",
    "history = model.fit(X_normalized, y_one_hot, epochs=3, validation_split=0.2)"
   ]
  },
  {
   "cell_type": "markdown",
   "metadata": {},
   "source": [
    "## Quiz: Pooling in Keras\n",
    "\n",
    "- build from the previous network\n",
    "- add a 2x2 [max pooling layer](https://keras.io/layers/pooling/#maxpooling2d) immediately following your convolutional layer\n",
    "- train for 3 epochs again; you should be able to get over $50\\%$ training accuracy"
   ]
  },
  {
   "cell_type": "code",
   "execution_count": null,
   "metadata": {},
   "outputs": [],
   "source": [
    "import pickle\n",
    "import numpy as np\n",
    "import tensorflow as tf\n",
    "\n",
    "# Load pickled data\n",
    "with open(\"resources/small_train_traffic.p\", mode=\"rb\") as f:\n",
    "    data = pickle.load(f)\n",
    "\n",
    "# split the data\n",
    "X_train, y_train = data[\"features\"], data[\"labels\"]\n",
    "\n",
    "# Setup Keras\n",
    "from keras.models import Sequential\n",
    "from keras.layers.core import Dense, Activation, Flatten\n",
    "from keras.layers.convolutional import Conv2D\n",
    "from keras.layers.pooling import MaxPooling2D\n",
    "\n",
    "# TODO: Build Convolutional Pooling Neural Network in Keras Here\n",
    "model = Sequential()\n",
    "model.add(\n",
    "    Conv2D(input_shape=(32, 32, 3), filters=32, kernel_size=(3, 3), padding=\"valid\")\n",
    ")\n",
    "model.add(MaxPooling2D((2, 2)))\n",
    "model.add(Activation(\"relu\"))\n",
    "model.add(Flatten())\n",
    "model.add(Dense(128))\n",
    "model.add(Activation(\"relu\"))\n",
    "model.add(Dense(5))\n",
    "model.add(Activation(\"softmax\"))\n",
    "\n",
    "# Preprocess data\n",
    "X_normalized = np.array(X_train / 255.0 - 0.5)\n",
    "\n",
    "from sklearn.preprocessing import LabelBinarizer\n",
    "\n",
    "label_binarizer = LabelBinarizer()\n",
    "y_one_hot = label_binarizer.fit_transform(y_train)\n",
    "\n",
    "# compile and fit model\n",
    "model.compile(\"adam\", \"categorical_crossentropy\", [\"accuracy\"])\n",
    "history = model.fit(X_normalized, y_one_hot, epochs=3, validation_split=0.2)"
   ]
  },
  {
   "cell_type": "markdown",
   "metadata": {},
   "source": [
    "## Quiz: Dropout in Keras\n",
    "\n",
    "- build from the previous network\n",
    "- add a [dropout layer](https://keras.io/layers/core/#dropout) after the pooling layer\n",
    "  - set the dropout rate to $50\\%$\n",
    "- make sure to note from the documentation above that the rate specified for dropout in Keras is the opposite of TensorFlow!\n",
    "  - TensorFlow uses the probability to keep nodes, while Keras uses the probability to drop them"
   ]
  },
  {
   "cell_type": "code",
   "execution_count": null,
   "metadata": {},
   "outputs": [],
   "source": [
    "import pickle\n",
    "import numpy as np\n",
    "import tensorflow as tf\n",
    "\n",
    "# Load pickled data\n",
    "with open(\"resources/small_train_traffic.p\", mode=\"rb\") as f:\n",
    "    data = pickle.load(f)\n",
    "\n",
    "# split the data\n",
    "X_train, y_train = data[\"features\"], data[\"labels\"]\n",
    "\n",
    "# Setup Keras\n",
    "from keras.models import Sequential\n",
    "from keras.layers.core import Dense, Activation, Flatten, Dropout\n",
    "from keras.layers.convolutional import Conv2D\n",
    "from keras.layers.pooling import MaxPooling2D\n",
    "\n",
    "# TODO: Build Convolutional Pooling Neural Network with Dropout in Keras Here\n",
    "model = Sequential()\n",
    "model.add(\n",
    "    Conv2D(input_shape=(32, 32, 3), filters=32, kernel_size=(3, 3), padding=\"valid\")\n",
    ")\n",
    "model.add(MaxPooling2D((2, 2)))\n",
    "model.add(Dropout(0.5))\n",
    "model.add(Activation(\"relu\"))\n",
    "model.add(Flatten())\n",
    "model.add(Dense(128))\n",
    "model.add(Activation(\"relu\"))\n",
    "model.add(Dense(5))\n",
    "model.add(Activation(\"softmax\"))\n",
    "\n",
    "# Preprocess data\n",
    "X_normalized = np.array(X_train / 255.0 - 0.5)\n",
    "\n",
    "from sklearn.preprocessing import LabelBinarizer\n",
    "\n",
    "label_binarizer = LabelBinarizer()\n",
    "y_one_hot = label_binarizer.fit_transform(y_train)\n",
    "\n",
    "# compile and fit model\n",
    "model.compile(\"adam\", \"categorical_crossentropy\", [\"accuracy\"])\n",
    "history = model.fit(X_normalized, y_one_hot, epochs=3, validation_split=0.2)"
   ]
  },
  {
   "cell_type": "markdown",
   "metadata": {},
   "source": [
    "## Quiz: Testing in Keras\n",
    "\n",
    "- once you've picked out your best model, it's time to test it!\n",
    "- try to get the highest validation accuracy possible\n",
    "  - feel free to use all the previous concepts and train for as many epochs as needed\n",
    "- select your best model and train it one more time\n",
    "- use the test data and the Keras [evaluate()](https://keras.io/models/model/#evaluate) method to see how well the model does"
   ]
  },
  {
   "cell_type": "code",
   "execution_count": 2,
   "metadata": {},
   "outputs": [
    {
     "name": "stdout",
     "output_type": "stream",
     "text": [
      "WARNING:tensorflow:From /home/luka/miniconda3/envs/carnd-term1/lib/python3.7/site-packages/tensorflow_core/python/ops/resource_variable_ops.py:1630: calling BaseResourceVariable.__init__ (from tensorflow.python.ops.resource_variable_ops) with constraint is deprecated and will be removed in a future version.\n",
      "Instructions for updating:\n",
      "If using Keras pass *_constraint arguments to layers.\n",
      "WARNING:tensorflow:From /home/luka/miniconda3/envs/carnd-term1/lib/python3.7/site-packages/keras/backend/tensorflow_backend.py:4070: The name tf.nn.max_pool is deprecated. Please use tf.nn.max_pool2d instead.\n",
      "\n"
     ]
    },
    {
     "name": "stderr",
     "output_type": "stream",
     "text": [
      "Using TensorFlow backend.\n"
     ]
    },
    {
     "name": "stdout",
     "output_type": "stream",
     "text": [
      "WARNING:tensorflow:From /home/luka/miniconda3/envs/carnd-term1/lib/python3.7/site-packages/keras/backend/tensorflow_backend.py:422: The name tf.global_variables is deprecated. Please use tf.compat.v1.global_variables instead.\n",
      "\n",
      "Train on 80 samples, validate on 20 samples\n",
      "Epoch 1/10\n",
      "80/80 [==============================] - 0s 4ms/step - loss: 1.2577 - accuracy: 0.4750 - val_loss: 0.7917 - val_accuracy: 0.5500\n",
      "Epoch 2/10\n",
      "80/80 [==============================] - 0s 1ms/step - loss: 0.8082 - accuracy: 0.5875 - val_loss: 0.5268 - val_accuracy: 0.8500\n",
      "Epoch 3/10\n",
      "80/80 [==============================] - 0s 1ms/step - loss: 0.6011 - accuracy: 0.7875 - val_loss: 0.3550 - val_accuracy: 0.8500\n",
      "Epoch 4/10\n",
      "80/80 [==============================] - 0s 1ms/step - loss: 0.4267 - accuracy: 0.8500 - val_loss: 0.2597 - val_accuracy: 0.8500\n",
      "Epoch 5/10\n",
      "80/80 [==============================] - 0s 1ms/step - loss: 0.3180 - accuracy: 0.9000 - val_loss: 0.2179 - val_accuracy: 0.8500\n",
      "Epoch 6/10\n",
      "80/80 [==============================] - 0s 1ms/step - loss: 0.3000 - accuracy: 0.8125 - val_loss: 0.1689 - val_accuracy: 1.0000\n",
      "Epoch 7/10\n",
      "80/80 [==============================] - 0s 1ms/step - loss: 0.3651 - accuracy: 0.8375 - val_loss: 0.1397 - val_accuracy: 1.0000\n",
      "Epoch 8/10\n",
      "80/80 [==============================] - 0s 1ms/step - loss: 0.2711 - accuracy: 0.8500 - val_loss: 0.2530 - val_accuracy: 0.8500\n",
      "Epoch 9/10\n",
      "80/80 [==============================] - 0s 1ms/step - loss: 0.2638 - accuracy: 0.8250 - val_loss: 0.1352 - val_accuracy: 0.9500\n",
      "Epoch 10/10\n",
      "80/80 [==============================] - 0s 1ms/step - loss: 0.2085 - accuracy: 0.9000 - val_loss: 0.1190 - val_accuracy: 1.0000\n"
     ]
    },
    {
     "data": {
      "application/javascript": [
       "\n",
       "            setTimeout(function() {\n",
       "                var nbb_cell_id = 2;\n",
       "                var nbb_unformatted_code = \"import pickle\\nimport numpy as np\\nimport tensorflow as tf\\n\\n# Load pickled data\\nwith open(\\\"resources/small_train_traffic.p\\\", mode=\\\"rb\\\") as f:\\n    data = pickle.load(f)\\n\\n# Split the data\\nX_train, y_train = data[\\\"features\\\"], data[\\\"labels\\\"]\\n\\n# Setup Keras\\nfrom keras.models import Sequential\\nfrom keras.layers.core import Dense, Activation, Flatten, Dropout\\nfrom keras.layers.convolutional import Conv2D\\nfrom keras.layers.pooling import MaxPooling2D\\n\\n# TODO: Build the Final Test Neural Network in Keras Here\\nmodel = Sequential()\\nmodel.add(\\n    Conv2D(input_shape=(32, 32, 3), filters=32, kernel_size=(3, 3), padding=\\\"valid\\\")\\n)\\nmodel.add(MaxPooling2D((2, 2)))\\nmodel.add(Dropout(0.5))\\nmodel.add(Activation(\\\"relu\\\"))\\nmodel.add(Flatten())\\nmodel.add(Dense(128))\\nmodel.add(Activation(\\\"relu\\\"))\\nmodel.add(Dense(5))\\nmodel.add(Activation(\\\"softmax\\\"))\\n\\n# preprocess data\\nX_normalized = np.array(X_train / 255.0 - 0.5)\\n\\nfrom sklearn.preprocessing import LabelBinarizer\\n\\nlabel_binarizer = LabelBinarizer()\\ny_one_hot = label_binarizer.fit_transform(y_train)\\n\\n# compile and fit the model\\n# set epochs to 10\\nmodel.compile(\\\"adam\\\", \\\"categorical_crossentropy\\\", [\\\"accuracy\\\"])\\nhistory = model.fit(X_normalized, y_one_hot, epochs=10, validation_split=0.2)\";\n",
       "                var nbb_formatted_code = \"import pickle\\nimport numpy as np\\nimport tensorflow as tf\\n\\n# Load pickled data\\nwith open(\\\"resources/small_train_traffic.p\\\", mode=\\\"rb\\\") as f:\\n    data = pickle.load(f)\\n\\n# Split the data\\nX_train, y_train = data[\\\"features\\\"], data[\\\"labels\\\"]\\n\\n# Setup Keras\\nfrom keras.models import Sequential\\nfrom keras.layers.core import Dense, Activation, Flatten, Dropout\\nfrom keras.layers.convolutional import Conv2D\\nfrom keras.layers.pooling import MaxPooling2D\\n\\n# TODO: Build the Final Test Neural Network in Keras Here\\nmodel = Sequential()\\nmodel.add(\\n    Conv2D(input_shape=(32, 32, 3), filters=32, kernel_size=(3, 3), padding=\\\"valid\\\")\\n)\\nmodel.add(MaxPooling2D((2, 2)))\\nmodel.add(Dropout(0.5))\\nmodel.add(Activation(\\\"relu\\\"))\\nmodel.add(Flatten())\\nmodel.add(Dense(128))\\nmodel.add(Activation(\\\"relu\\\"))\\nmodel.add(Dense(5))\\nmodel.add(Activation(\\\"softmax\\\"))\\n\\n# preprocess data\\nX_normalized = np.array(X_train / 255.0 - 0.5)\\n\\nfrom sklearn.preprocessing import LabelBinarizer\\n\\nlabel_binarizer = LabelBinarizer()\\ny_one_hot = label_binarizer.fit_transform(y_train)\\n\\n# compile and fit the model\\n# set epochs to 10\\nmodel.compile(\\\"adam\\\", \\\"categorical_crossentropy\\\", [\\\"accuracy\\\"])\\nhistory = model.fit(X_normalized, y_one_hot, epochs=10, validation_split=0.2)\";\n",
       "                var nbb_cells = Jupyter.notebook.get_cells();\n",
       "                for (var i = 0; i < nbb_cells.length; ++i) {\n",
       "                    if (nbb_cells[i].input_prompt_number == nbb_cell_id) {\n",
       "                        if (nbb_cells[i].get_text() == nbb_unformatted_code) {\n",
       "                             nbb_cells[i].set_text(nbb_formatted_code);\n",
       "                        }\n",
       "                        break;\n",
       "                    }\n",
       "                }\n",
       "            }, 500);\n",
       "            "
      ],
      "text/plain": [
       "<IPython.core.display.Javascript object>"
      ]
     },
     "metadata": {},
     "output_type": "display_data"
    }
   ],
   "source": [
    "import pickle\n",
    "import numpy as np\n",
    "import tensorflow as tf\n",
    "\n",
    "# Load pickled data\n",
    "with open(\"resources/small_train_traffic.p\", mode=\"rb\") as f:\n",
    "    data = pickle.load(f)\n",
    "\n",
    "# Split the data\n",
    "X_train, y_train = data[\"features\"], data[\"labels\"]\n",
    "\n",
    "# Setup Keras\n",
    "from keras.models import Sequential\n",
    "from keras.layers.core import Dense, Activation, Flatten, Dropout\n",
    "from keras.layers.convolutional import Conv2D\n",
    "from keras.layers.pooling import MaxPooling2D\n",
    "\n",
    "# TODO: Build the Final Test Neural Network in Keras Here\n",
    "model = Sequential()\n",
    "model.add(\n",
    "    Conv2D(input_shape=(32, 32, 3), filters=32, kernel_size=(3, 3), padding=\"valid\")\n",
    ")\n",
    "model.add(MaxPooling2D((2, 2)))\n",
    "model.add(Dropout(0.5))\n",
    "model.add(Activation(\"relu\"))\n",
    "model.add(Flatten())\n",
    "model.add(Dense(128))\n",
    "model.add(Activation(\"relu\"))\n",
    "model.add(Dense(5))\n",
    "model.add(Activation(\"softmax\"))\n",
    "\n",
    "# preprocess data\n",
    "X_normalized = np.array(X_train / 255.0 - 0.5)\n",
    "\n",
    "from sklearn.preprocessing import LabelBinarizer\n",
    "\n",
    "label_binarizer = LabelBinarizer()\n",
    "y_one_hot = label_binarizer.fit_transform(y_train)\n",
    "\n",
    "# compile and fit the model\n",
    "# set epochs to 10\n",
    "model.compile(\"adam\", \"categorical_crossentropy\", [\"accuracy\"])\n",
    "history = model.fit(X_normalized, y_one_hot, epochs=10, validation_split=0.2)"
   ]
  },
  {
   "cell_type": "code",
   "execution_count": 3,
   "metadata": {},
   "outputs": [
    {
     "name": "stdout",
     "output_type": "stream",
     "text": [
      "Testing\n",
      "20/20 [==============================] - 0s 399us/step\n",
      "loss: 0.2102127969264984\n",
      "accuracy: 1.0\n"
     ]
    },
    {
     "data": {
      "application/javascript": [
       "\n",
       "            setTimeout(function() {\n",
       "                var nbb_cell_id = 3;\n",
       "                var nbb_unformatted_code = \"# evaluate model against the test data\\nwith open(\\\"resources/small_test_traffic.p\\\", \\\"rb\\\") as f:\\n    data_test = pickle.load(f)\\n\\nX_test = data_test[\\\"features\\\"]\\ny_test = data_test[\\\"labels\\\"]\\n\\n# preprocess data\\nX_normalized_test = np.array(X_test / 255.0 - 0.5)\\ny_one_hot_test = label_binarizer.fit_transform(y_test)\\n\\nprint(\\\"Testing\\\")\\n\\nmetrics = model.evaluate(X_normalized_test, y_one_hot_test)\\nfor metric_i in range(len(model.metrics_names)):\\n    metric_name = model.metrics_names[metric_i]\\n    metric_value = metrics[metric_i]\\n    print(\\\"{}: {}\\\".format(metric_name, metric_value))\";\n",
       "                var nbb_formatted_code = \"# evaluate model against the test data\\nwith open(\\\"resources/small_test_traffic.p\\\", \\\"rb\\\") as f:\\n    data_test = pickle.load(f)\\n\\nX_test = data_test[\\\"features\\\"]\\ny_test = data_test[\\\"labels\\\"]\\n\\n# preprocess data\\nX_normalized_test = np.array(X_test / 255.0 - 0.5)\\ny_one_hot_test = label_binarizer.fit_transform(y_test)\\n\\nprint(\\\"Testing\\\")\\n\\nmetrics = model.evaluate(X_normalized_test, y_one_hot_test)\\nfor metric_i in range(len(model.metrics_names)):\\n    metric_name = model.metrics_names[metric_i]\\n    metric_value = metrics[metric_i]\\n    print(\\\"{}: {}\\\".format(metric_name, metric_value))\";\n",
       "                var nbb_cells = Jupyter.notebook.get_cells();\n",
       "                for (var i = 0; i < nbb_cells.length; ++i) {\n",
       "                    if (nbb_cells[i].input_prompt_number == nbb_cell_id) {\n",
       "                        if (nbb_cells[i].get_text() == nbb_unformatted_code) {\n",
       "                             nbb_cells[i].set_text(nbb_formatted_code);\n",
       "                        }\n",
       "                        break;\n",
       "                    }\n",
       "                }\n",
       "            }, 500);\n",
       "            "
      ],
      "text/plain": [
       "<IPython.core.display.Javascript object>"
      ]
     },
     "metadata": {},
     "output_type": "display_data"
    }
   ],
   "source": [
    "# evaluate model against the test data\n",
    "with open(\"resources/small_test_traffic.p\", \"rb\") as f:\n",
    "    data_test = pickle.load(f)\n",
    "\n",
    "X_test = data_test[\"features\"]\n",
    "y_test = data_test[\"labels\"]\n",
    "\n",
    "# preprocess data\n",
    "X_normalized_test = np.array(X_test / 255.0 - 0.5)\n",
    "y_one_hot_test = label_binarizer.fit_transform(y_test)\n",
    "\n",
    "print(\"Testing\")\n",
    "\n",
    "metrics = model.evaluate(X_normalized_test, y_one_hot_test)\n",
    "for metric_i in range(len(model.metrics_names)):\n",
    "    metric_name = model.metrics_names[metric_i]\n",
    "    metric_value = metrics[metric_i]\n",
    "    print(\"{}: {}\".format(metric_name, metric_value))"
   ]
  },
  {
   "cell_type": "markdown",
   "metadata": {},
   "source": [
    "# Conclusion"
   ]
  },
  {
   "cell_type": "markdown",
   "metadata": {},
   "source": [
    "- the work we just did, building and training a multi-layer convolutional neural network, would have taken hundreds of lines of code just a few years ago\n",
    "- as deep neural networks become increasingly important to everything from self-driving cars to voice recognition, new libraries are making it much easier to use deep learning to solve real problems\n",
    "\n",
    "\n",
    "- next up, you're going to learn how to take networks that have already been trained, and fine-tune them to accelerate your own work\n",
    "  - this is called transfer learning\n",
    "  - transfer learning is a standard tool in deep learning\n",
    "    - it really reduces your training time and improve your results"
   ]
  },
  {
   "cell_type": "code",
   "execution_count": null,
   "metadata": {},
   "outputs": [],
   "source": []
  }
 ],
 "metadata": {
  "kernelspec": {
   "display_name": "Python 3",
   "language": "python",
   "name": "python3"
  },
  "language_info": {
   "codemirror_mode": {
    "name": "ipython",
    "version": 3
   },
   "file_extension": ".py",
   "mimetype": "text/x-python",
   "name": "python",
   "nbconvert_exporter": "python",
   "pygments_lexer": "ipython3",
   "version": "3.7.6"
  }
 },
 "nbformat": 4,
 "nbformat_minor": 4
}
