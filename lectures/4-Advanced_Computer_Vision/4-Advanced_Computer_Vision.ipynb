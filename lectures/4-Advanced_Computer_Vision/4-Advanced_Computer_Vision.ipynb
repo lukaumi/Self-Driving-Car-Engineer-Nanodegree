{
 "cells": [
  {
   "cell_type": "code",
   "execution_count": 1,
   "metadata": {},
   "outputs": [
    {
     "data": {
      "application/javascript": [
       "\n",
       "            setTimeout(function() {\n",
       "                var nbb_cell_id = 1;\n",
       "                var nbb_unformatted_code = \"%load_ext nb_black\";\n",
       "                var nbb_formatted_code = \"%load_ext nb_black\";\n",
       "                var nbb_cells = Jupyter.notebook.get_cells();\n",
       "                for (var i = 0; i < nbb_cells.length; ++i) {\n",
       "                    if (nbb_cells[i].input_prompt_number == nbb_cell_id) {\n",
       "                        if (nbb_cells[i].get_text() == nbb_unformatted_code) {\n",
       "                             nbb_cells[i].set_text(nbb_formatted_code);\n",
       "                        }\n",
       "                        break;\n",
       "                    }\n",
       "                }\n",
       "            }, 500);\n",
       "            "
      ],
      "text/plain": [
       "<IPython.core.display.Javascript object>"
      ]
     },
     "metadata": {},
     "output_type": "display_data"
    }
   ],
   "source": [
    "%load_ext nb_black"
   ]
  },
  {
   "cell_type": "markdown",
   "metadata": {},
   "source": [
    "# Project Steps"
   ]
  },
  {
   "cell_type": "markdown",
   "metadata": {},
   "source": [
    "Steps we’ve covered so far:\n",
    "1. Camera calibration\n",
    "2. Distortion correction\n",
    "3. Color/gradient threshold\n",
    "4. Perspective transform\n",
    "\n",
    "After doing these steps, you’ll be given two additional steps for the project:\n",
    "5. Detect lane lines\n",
    "6. Determine the lane curvature"
   ]
  },
  {
   "cell_type": "markdown",
   "metadata": {},
   "source": [
    "# Processing Each Image"
   ]
  },
  {
   "cell_type": "markdown",
   "metadata": {},
   "source": [
    "- in the project at the end of this module, the first thing you'll do is to compute the camera calibration matrix and distortion coefficients\n",
    "- you only need to compute these once, and then you'll apply them to undistort each new frame\n",
    "- next, you'll apply thresholds to create a binary image and then apply a perspective transform"
   ]
  },
  {
   "cell_type": "markdown",
   "metadata": {},
   "source": [
    "## Thresholding"
   ]
  },
  {
   "cell_type": "markdown",
   "metadata": {},
   "source": [
    "- you'll want to try out various combinations of color and gradient thresholds to generate a binary image where the lane lines are clearly visible\n",
    "- there's more than one way to achieve a good result, but for example, the output you're going for should look something like this: \n",
    "\n",
    "<img src=\"resources/thresholding_example.jpg\" style=\"width: 80%;\"/>"
   ]
  },
  {
   "cell_type": "markdown",
   "metadata": {},
   "source": [
    "## Perspective Transform"
   ]
  },
  {
   "cell_type": "markdown",
   "metadata": {},
   "source": [
    "- next, you want to identify four source points for your perspective transform\n",
    "- in this case, you can assume the road is a flat plane\n",
    "    - this isn't strictly true, but it can serve as an approximation for this project\n",
    "- you would like to pick four points in a trapezoidal shape (similar to region masking) that would represent a rectangle when looking down on the road from above\n",
    "- the easiest way to do this is to investigate an image where the lane lines are straight, and find four points lying along the lines that, after perspective transform, make the lines look straight and vertical from a bird's eye view perspective\n",
    "- here's an example of the result you are going for with straight lane lines:\n",
    "\n",
    "<img src=\"resources/warped-straight-lines.jpg\"/>"
   ]
  },
  {
   "cell_type": "markdown",
   "metadata": {},
   "source": [
    "- those same four source points will now work to transform any image (again, under the assumption that the road is flat and the camera perspective hasn't changed)\n",
    "- when applying the transform to new images, the test of whether or not you got the transform correct, is that the lane lines should appear parallel in the warped images, whether they are straight or curved\n",
    "\n",
    "- here's an example of applying a perspective transform to your thresholded binary image, using the same source and destination points as above, showing that the curved lines are (more or less) parallel in the transformed image:\n",
    "\n",
    "<img src=\"resources/warped-curved-lines.jpg\"/>"
   ]
  },
  {
   "cell_type": "markdown",
   "metadata": {},
   "source": [
    "# Finding the Lines: Histogram Peaks"
   ]
  },
  {
   "cell_type": "markdown",
   "metadata": {},
   "source": [
    "- you now have a thresholded warped image and you're ready to map out the lane lines!\n",
    "- there are many ways you could go about this, but here's one example of how you might do it"
   ]
  },
  {
   "cell_type": "markdown",
   "metadata": {},
   "source": [
    "## Line Finding Method: Peaks in a Histogram"
   ]
  },
  {
   "cell_type": "markdown",
   "metadata": {},
   "source": [
    "- after applying calibration, thresholding, and a perspective transform to a road image, you should have a binary image where the lane lines stand out clearly\n",
    "- however, you still need to decide explicitly which pixels are part of the lines and which belong to the left line and which belong to the right line\n",
    "- plotting a histogram of where the binary activations occur across the image is one potential solution for this"
   ]
  },
  {
   "cell_type": "code",
   "execution_count": 2,
   "metadata": {},
   "outputs": [
    {
     "data": {
      "application/javascript": [
       "\n",
       "            setTimeout(function() {\n",
       "                var nbb_cell_id = 2;\n",
       "                var nbb_unformatted_code = \"import numpy as np\\nimport matplotlib.image as mpimg\\nimport matplotlib.pyplot as plt\\nimport cv2\";\n",
       "                var nbb_formatted_code = \"import numpy as np\\nimport matplotlib.image as mpimg\\nimport matplotlib.pyplot as plt\\nimport cv2\";\n",
       "                var nbb_cells = Jupyter.notebook.get_cells();\n",
       "                for (var i = 0; i < nbb_cells.length; ++i) {\n",
       "                    if (nbb_cells[i].input_prompt_number == nbb_cell_id) {\n",
       "                        if (nbb_cells[i].get_text() == nbb_unformatted_code) {\n",
       "                             nbb_cells[i].set_text(nbb_formatted_code);\n",
       "                        }\n",
       "                        break;\n",
       "                    }\n",
       "                }\n",
       "            }, 500);\n",
       "            "
      ],
      "text/plain": [
       "<IPython.core.display.Javascript object>"
      ]
     },
     "metadata": {},
     "output_type": "display_data"
    }
   ],
   "source": [
    "import numpy as np\n",
    "import matplotlib.image as mpimg\n",
    "import matplotlib.pyplot as plt\n",
    "import cv2"
   ]
  },
  {
   "cell_type": "code",
   "execution_count": 3,
   "metadata": {},
   "outputs": [
    {
     "data": {
      "text/plain": [
       "[<matplotlib.lines.Line2D at 0x7f5754870bb0>]"
      ]
     },
     "execution_count": 3,
     "metadata": {},
     "output_type": "execute_result"
    },
    {
     "data": {
      "image/png": "[encoded data removed]",
      "text/plain": [
       "<Figure size 432x288 with 1 Axes>"
      ]
     },
     "metadata": {
      "needs_background": "light"
     },
     "output_type": "display_data"
    },
    {
     "data": {
      "application/javascript": [
       "\n",
       "            setTimeout(function() {\n",
       "                var nbb_cell_id = 3;\n",
       "                var nbb_unformatted_code = \"# Load our image\\n# `mpimg.imread` will load .jpg as 0-255, so normalize back to 0-1\\nimg = mpimg.imread(\\\"resources/warped-example.jpg\\\") / 255\\n\\n\\ndef hist(img):\\n    # Grab only the bottom half of the image\\n    # Lane lines are likely to be mostly vertical nearest to the car\\n    bottom_half = img[img.shape[0] // 2 :, :]\\n\\n    # Sum across image pixels vertically - make sure to set `axis`\\n    # i.e. the highest areas of vertical lines should be larger values\\n    # Take a histogram along all the columns in the lower half of the image\\n    histogram = np.sum(bottom_half, axis=0)\\n\\n    return histogram\\n\\n\\n# Create histogram of image binary activations\\nhistogram = hist(img)\\n\\n# Visualize the resulting histogram\\nplt.plot(histogram)\";\n",
       "                var nbb_formatted_code = \"# Load our image\\n# `mpimg.imread` will load .jpg as 0-255, so normalize back to 0-1\\nimg = mpimg.imread(\\\"resources/warped-example.jpg\\\") / 255\\n\\n\\ndef hist(img):\\n    # Grab only the bottom half of the image\\n    # Lane lines are likely to be mostly vertical nearest to the car\\n    bottom_half = img[img.shape[0] // 2 :, :]\\n\\n    # Sum across image pixels vertically - make sure to set `axis`\\n    # i.e. the highest areas of vertical lines should be larger values\\n    # Take a histogram along all the columns in the lower half of the image\\n    histogram = np.sum(bottom_half, axis=0)\\n\\n    return histogram\\n\\n\\n# Create histogram of image binary activations\\nhistogram = hist(img)\\n\\n# Visualize the resulting histogram\\nplt.plot(histogram)\";\n",
       "                var nbb_cells = Jupyter.notebook.get_cells();\n",
       "                for (var i = 0; i < nbb_cells.length; ++i) {\n",
       "                    if (nbb_cells[i].input_prompt_number == nbb_cell_id) {\n",
       "                        if (nbb_cells[i].get_text() == nbb_unformatted_code) {\n",
       "                             nbb_cells[i].set_text(nbb_formatted_code);\n",
       "                        }\n",
       "                        break;\n",
       "                    }\n",
       "                }\n",
       "            }, 500);\n",
       "            "
      ],
      "text/plain": [
       "<IPython.core.display.Javascript object>"
      ]
     },
     "metadata": {},
     "output_type": "display_data"
    }
   ],
   "source": [
    "# Load our image\n",
    "# `mpimg.imread` will load .jpg as 0-255, so normalize back to 0-1\n",
    "img = mpimg.imread(\"resources/warped-example.jpg\") / 255\n",
    "\n",
    "\n",
    "def hist(img):\n",
    "    # Grab only the bottom half of the image\n",
    "    # Lane lines are likely to be mostly vertical nearest to the car\n",
    "    bottom_half = img[img.shape[0] // 2 :, :]\n",
    "\n",
    "    # Sum across image pixels vertically - make sure to set `axis`\n",
    "    # i.e. the highest areas of vertical lines should be larger values\n",
    "    # Take a histogram along all the columns in the lower half of the image\n",
    "    histogram = np.sum(bottom_half, axis=0)\n",
    "\n",
    "    return histogram\n",
    "\n",
    "\n",
    "# Create histogram of image binary activations\n",
    "histogram = hist(img)\n",
    "\n",
    "# Visualize the resulting histogram\n",
    "plt.plot(histogram)"
   ]
  },
  {
   "cell_type": "markdown",
   "metadata": {},
   "source": [
    "## Sliding Window"
   ]
  },
  {
   "cell_type": "markdown",
   "metadata": {},
   "source": [
    "- with this histogram we are adding up the pixel values along each column in the image\n",
    "- in our thresholded binary image, pixels are either 0 or 1, so the two most prominent peaks in this histogram will be good indicators of the x-position of the base of the lane lines\n",
    "- we can use that as a starting point for where to search for the lines\n",
    "- from that point, we can use a sliding window, placed around the line centers, to find and follow the lines up to the top of the frame"
   ]
  },
  {
   "cell_type": "markdown",
   "metadata": {},
   "source": [
    "# Finding the Lines: Sliding Window\n",
    "## Implement Sliding Windows and Fit a Polynomial"
   ]
  },
  {
   "cell_type": "markdown",
   "metadata": {},
   "source": [
    "<img src=\"resources/implement_sliding_windows_and_fit_a_polynomial.png\" style=\"width: 80%;\"/>\n",
    "\n",
    "- we can use the two highest peaks from our histogram as a starting point for determining where the lane lines are, and then use sliding windows moving upward in the image (further along the road) to determine where the lane lines go"
   ]
  },
  {
   "cell_type": "code",
   "execution_count": 4,
   "metadata": {},
   "outputs": [
    {
     "data": {
      "application/javascript": [
       "\n",
       "            setTimeout(function() {\n",
       "                var nbb_cell_id = 4;\n",
       "                var nbb_unformatted_code = \"# Load our image\\nbinary_warped = mpimg.imread(\\\"resources/warped-example.jpg\\\")\\n\\n\\ndef find_lane_pixels(binary_warped):\\n    # Take a histogram of the bottom half of the image\\n    histogram = np.sum(binary_warped[binary_warped.shape[0] // 2 :, :], axis=0)\\n\\n    # Create an output image to draw on and visualize the result\\n    out_img = np.dstack((binary_warped, binary_warped, binary_warped))\\n\\n    # Find the peak of the left and right halves of the histogram\\n    # These will be the starting point for the left and right lines\\n    midpoint = np.int(histogram.shape[0] // 2)\\n    leftx_base = np.argmax(histogram[:midpoint])\\n    rightx_base = np.argmax(histogram[midpoint:]) + midpoint\\n\\n    # HYPERPARAMETERS - related to our sliding windows\\n    # Choose the number of sliding windows\\n    nwindows = 9\\n    # Set the width of the windows +/- margin\\n    margin = 100\\n    # Set minimum number of pixels found to recenter window\\n    minpix = 50\\n\\n    # Set height of windows - based on nwindows above and image shape\\n    window_height = np.int(binary_warped.shape[0] // nwindows)\\n\\n    # Identify the x and y positions of all nonzero pixels in the image\\n    nonzero = binary_warped.nonzero()\\n    nonzeroy = np.array(nonzero[0])\\n    nonzerox = np.array(nonzero[1])\\n\\n    # Current positions to be updated later for each window in nwindows\\n    leftx_current = leftx_base\\n    rightx_current = rightx_base\\n\\n    # Create empty lists to receive left and right lane pixel indices\\n    left_lane_inds = []\\n    right_lane_inds = []\\n\\n    # 1. Loop through each window in nwindows\\n\\n    # 2. Find the boundaries of our current window.\\n    #    This is based on a combination of the current window's starting point\\n    #    (leftx_current and rightx_current), as well as the margin you set in the hyperparameters.\\n\\n    # 3. Use cv2.rectangle to draw these window boundaries onto our visualization image out_img.\\n    #    This is required for the quiz, but you can skip this step in practice if you don't need\\n    #    to visualize where the windows are.\\n\\n    # 4. Now that we know the boundaries of our window, find out which activated pixels from\\n    #    nonzeroy and nonzerox above actually fall into the window.\\n\\n    # 5. Append these to our lists left_lane_inds and right_lane_inds.\\n\\n    # 6. If the number of pixels you found in Step 4 are greater than your hyperparameter minpix,\\n    #    re-center our window (i.e. leftx_current or rightx_current) based on the mean position of these pixels.\\n\\n    # Step through the windows one by one\\n    for window in range(nwindows):\\n        # Identify window boundaries in x and y (and right and left)\\n        win_y_low = binary_warped.shape[0] - (window + 1) * window_height\\n        win_y_high = binary_warped.shape[0] - window * window_height\\n        win_xleft_low = leftx_current - margin\\n        win_xleft_high = leftx_current + margin\\n        win_xright_low = rightx_current - margin\\n        win_xright_high = rightx_current + margin\\n\\n        # Draw the windows on the visualization image\\n        cv2.rectangle(\\n            out_img,\\n            (win_xleft_low, win_y_low),\\n            (win_xleft_high, win_y_high),\\n            (0, 255, 0),\\n            2,\\n        )\\n        cv2.rectangle(\\n            out_img,\\n            (win_xright_low, win_y_low),\\n            (win_xright_high, win_y_high),\\n            (0, 255, 0),\\n            2,\\n        )\\n\\n        # Identify the nonzero pixels in x and y within the window #\\n        good_left_inds = (\\n            (nonzeroy >= win_y_low)\\n            & (nonzeroy < win_y_high)\\n            & (nonzerox >= win_xleft_low)\\n            & (nonzerox < win_xleft_high)\\n        ).nonzero()[0]\\n        good_right_inds = (\\n            (nonzeroy >= win_y_low)\\n            & (nonzeroy < win_y_high)\\n            & (nonzerox >= win_xright_low)\\n            & (nonzerox < win_xright_high)\\n        ).nonzero()[0]\\n\\n        # Append these indices to the lists\\n        left_lane_inds.append(good_left_inds)\\n        right_lane_inds.append(good_right_inds)\\n\\n        # If you found > minpix pixels, recenter next window on their mean position\\n        if len(good_left_inds) > minpix:\\n            leftx_current = np.int(np.mean(nonzerox[good_left_inds]))\\n        if len(good_right_inds) > minpix:\\n            rightx_current = np.int(np.mean(nonzerox[good_right_inds]))\\n\\n    # Concatenate the arrays of indices (previously was a list of lists of pixels)\\n    try:\\n        left_lane_inds = np.concatenate(left_lane_inds)\\n        right_lane_inds = np.concatenate(right_lane_inds)\\n    except ValueError:\\n        # Avoids an error if the above is not implemented fully\\n        pass\\n\\n    # Extract left and right line pixel positions\\n    leftx = nonzerox[left_lane_inds]\\n    lefty = nonzeroy[left_lane_inds]\\n    rightx = nonzerox[right_lane_inds]\\n    righty = nonzeroy[right_lane_inds]\\n\\n    return leftx, lefty, rightx, righty, out_img\";\n",
       "                var nbb_formatted_code = \"# Load our image\\nbinary_warped = mpimg.imread(\\\"resources/warped-example.jpg\\\")\\n\\n\\ndef find_lane_pixels(binary_warped):\\n    # Take a histogram of the bottom half of the image\\n    histogram = np.sum(binary_warped[binary_warped.shape[0] // 2 :, :], axis=0)\\n\\n    # Create an output image to draw on and visualize the result\\n    out_img = np.dstack((binary_warped, binary_warped, binary_warped))\\n\\n    # Find the peak of the left and right halves of the histogram\\n    # These will be the starting point for the left and right lines\\n    midpoint = np.int(histogram.shape[0] // 2)\\n    leftx_base = np.argmax(histogram[:midpoint])\\n    rightx_base = np.argmax(histogram[midpoint:]) + midpoint\\n\\n    # HYPERPARAMETERS - related to our sliding windows\\n    # Choose the number of sliding windows\\n    nwindows = 9\\n    # Set the width of the windows +/- margin\\n    margin = 100\\n    # Set minimum number of pixels found to recenter window\\n    minpix = 50\\n\\n    # Set height of windows - based on nwindows above and image shape\\n    window_height = np.int(binary_warped.shape[0] // nwindows)\\n\\n    # Identify the x and y positions of all nonzero pixels in the image\\n    nonzero = binary_warped.nonzero()\\n    nonzeroy = np.array(nonzero[0])\\n    nonzerox = np.array(nonzero[1])\\n\\n    # Current positions to be updated later for each window in nwindows\\n    leftx_current = leftx_base\\n    rightx_current = rightx_base\\n\\n    # Create empty lists to receive left and right lane pixel indices\\n    left_lane_inds = []\\n    right_lane_inds = []\\n\\n    # 1. Loop through each window in nwindows\\n\\n    # 2. Find the boundaries of our current window.\\n    #    This is based on a combination of the current window's starting point\\n    #    (leftx_current and rightx_current), as well as the margin you set in the hyperparameters.\\n\\n    # 3. Use cv2.rectangle to draw these window boundaries onto our visualization image out_img.\\n    #    This is required for the quiz, but you can skip this step in practice if you don't need\\n    #    to visualize where the windows are.\\n\\n    # 4. Now that we know the boundaries of our window, find out which activated pixels from\\n    #    nonzeroy and nonzerox above actually fall into the window.\\n\\n    # 5. Append these to our lists left_lane_inds and right_lane_inds.\\n\\n    # 6. If the number of pixels you found in Step 4 are greater than your hyperparameter minpix,\\n    #    re-center our window (i.e. leftx_current or rightx_current) based on the mean position of these pixels.\\n\\n    # Step through the windows one by one\\n    for window in range(nwindows):\\n        # Identify window boundaries in x and y (and right and left)\\n        win_y_low = binary_warped.shape[0] - (window + 1) * window_height\\n        win_y_high = binary_warped.shape[0] - window * window_height\\n        win_xleft_low = leftx_current - margin\\n        win_xleft_high = leftx_current + margin\\n        win_xright_low = rightx_current - margin\\n        win_xright_high = rightx_current + margin\\n\\n        # Draw the windows on the visualization image\\n        cv2.rectangle(\\n            out_img,\\n            (win_xleft_low, win_y_low),\\n            (win_xleft_high, win_y_high),\\n            (0, 255, 0),\\n            2,\\n        )\\n        cv2.rectangle(\\n            out_img,\\n            (win_xright_low, win_y_low),\\n            (win_xright_high, win_y_high),\\n            (0, 255, 0),\\n            2,\\n        )\\n\\n        # Identify the nonzero pixels in x and y within the window #\\n        good_left_inds = (\\n            (nonzeroy >= win_y_low)\\n            & (nonzeroy < win_y_high)\\n            & (nonzerox >= win_xleft_low)\\n            & (nonzerox < win_xleft_high)\\n        ).nonzero()[0]\\n        good_right_inds = (\\n            (nonzeroy >= win_y_low)\\n            & (nonzeroy < win_y_high)\\n            & (nonzerox >= win_xright_low)\\n            & (nonzerox < win_xright_high)\\n        ).nonzero()[0]\\n\\n        # Append these indices to the lists\\n        left_lane_inds.append(good_left_inds)\\n        right_lane_inds.append(good_right_inds)\\n\\n        # If you found > minpix pixels, recenter next window on their mean position\\n        if len(good_left_inds) > minpix:\\n            leftx_current = np.int(np.mean(nonzerox[good_left_inds]))\\n        if len(good_right_inds) > minpix:\\n            rightx_current = np.int(np.mean(nonzerox[good_right_inds]))\\n\\n    # Concatenate the arrays of indices (previously was a list of lists of pixels)\\n    try:\\n        left_lane_inds = np.concatenate(left_lane_inds)\\n        right_lane_inds = np.concatenate(right_lane_inds)\\n    except ValueError:\\n        # Avoids an error if the above is not implemented fully\\n        pass\\n\\n    # Extract left and right line pixel positions\\n    leftx = nonzerox[left_lane_inds]\\n    lefty = nonzeroy[left_lane_inds]\\n    rightx = nonzerox[right_lane_inds]\\n    righty = nonzeroy[right_lane_inds]\\n\\n    return leftx, lefty, rightx, righty, out_img\";\n",
       "                var nbb_cells = Jupyter.notebook.get_cells();\n",
       "                for (var i = 0; i < nbb_cells.length; ++i) {\n",
       "                    if (nbb_cells[i].input_prompt_number == nbb_cell_id) {\n",
       "                        if (nbb_cells[i].get_text() == nbb_unformatted_code) {\n",
       "                             nbb_cells[i].set_text(nbb_formatted_code);\n",
       "                        }\n",
       "                        break;\n",
       "                    }\n",
       "                }\n",
       "            }, 500);\n",
       "            "
      ],
      "text/plain": [
       "<IPython.core.display.Javascript object>"
      ]
     },
     "metadata": {},
     "output_type": "display_data"
    }
   ],
   "source": [
    "# Load our image\n",
    "binary_warped = mpimg.imread(\"resources/warped-example.jpg\")\n",
    "\n",
    "\n",
    "def find_lane_pixels(binary_warped):\n",
    "    # Take a histogram of the bottom half of the image\n",
    "    histogram = np.sum(binary_warped[binary_warped.shape[0] // 2 :, :], axis=0)\n",
    "\n",
    "    # Create an output image to draw on and visualize the result\n",
    "    out_img = np.dstack((binary_warped, binary_warped, binary_warped))\n",
    "\n",
    "    # Find the peak of the left and right halves of the histogram\n",
    "    # These will be the starting point for the left and right lines\n",
    "    midpoint = np.int(histogram.shape[0] // 2)\n",
    "    leftx_base = np.argmax(histogram[:midpoint])\n",
    "    rightx_base = np.argmax(histogram[midpoint:]) + midpoint\n",
    "\n",
    "    # HYPERPARAMETERS - related to our sliding windows\n",
    "    # Choose the number of sliding windows\n",
    "    nwindows = 9\n",
    "    # Set the width of the windows +/- margin\n",
    "    margin = 100\n",
    "    # Set minimum number of pixels found to recenter window\n",
    "    minpix = 50\n",
    "\n",
    "    # Set height of windows - based on nwindows above and image shape\n",
    "    window_height = np.int(binary_warped.shape[0] // nwindows)\n",
    "\n",
    "    # Identify the x and y positions of all nonzero pixels in the image\n",
    "    nonzero = binary_warped.nonzero()\n",
    "    nonzeroy = np.array(nonzero[0])\n",
    "    nonzerox = np.array(nonzero[1])\n",
    "\n",
    "    # Current positions to be updated later for each window in nwindows\n",
    "    leftx_current = leftx_base\n",
    "    rightx_current = rightx_base\n",
    "\n",
    "    # Create empty lists to receive left and right lane pixel indices\n",
    "    left_lane_inds = []\n",
    "    right_lane_inds = []\n",
    "\n",
    "    # 1. Loop through each window in nwindows\n",
    "\n",
    "    # 2. Find the boundaries of our current window.\n",
    "    #    This is based on a combination of the current window's starting point\n",
    "    #    (leftx_current and rightx_current), as well as the margin you set in the hyperparameters.\n",
    "\n",
    "    # 3. Use cv2.rectangle to draw these window boundaries onto our visualization image out_img.\n",
    "    #    This is required for the quiz, but you can skip this step in practice if you don't need\n",
    "    #    to visualize where the windows are.\n",
    "\n",
    "    # 4. Now that we know the boundaries of our window, find out which activated pixels from\n",
    "    #    nonzeroy and nonzerox above actually fall into the window.\n",
    "\n",
    "    # 5. Append these to our lists left_lane_inds and right_lane_inds.\n",
    "\n",
    "    # 6. If the number of pixels you found in Step 4 are greater than your hyperparameter minpix,\n",
    "    #    re-center our window (i.e. leftx_current or rightx_current) based on the mean position of these pixels.\n",
    "\n",
    "    # Step through the windows one by one\n",
    "    for window in range(nwindows):\n",
    "        # Identify window boundaries in x and y (and right and left)\n",
    "        win_y_low = binary_warped.shape[0] - (window + 1) * window_height\n",
    "        win_y_high = binary_warped.shape[0] - window * window_height\n",
    "        win_xleft_low = leftx_current - margin\n",
    "        win_xleft_high = leftx_current + margin\n",
    "        win_xright_low = rightx_current - margin\n",
    "        win_xright_high = rightx_current + margin\n",
    "\n",
    "        # Draw the windows on the visualization image\n",
    "        cv2.rectangle(\n",
    "            out_img,\n",
    "            (win_xleft_low, win_y_low),\n",
    "            (win_xleft_high, win_y_high),\n",
    "            (0, 255, 0),\n",
    "            2,\n",
    "        )\n",
    "        cv2.rectangle(\n",
    "            out_img,\n",
    "            (win_xright_low, win_y_low),\n",
    "            (win_xright_high, win_y_high),\n",
    "            (0, 255, 0),\n",
    "            2,\n",
    "        )\n",
    "\n",
    "        # Identify the nonzero pixels in x and y within the window #\n",
    "        good_left_inds = (\n",
    "            (nonzeroy >= win_y_low)\n",
    "            & (nonzeroy < win_y_high)\n",
    "            & (nonzerox >= win_xleft_low)\n",
    "            & (nonzerox < win_xleft_high)\n",
    "        ).nonzero()[0]\n",
    "        good_right_inds = (\n",
    "            (nonzeroy >= win_y_low)\n",
    "            & (nonzeroy < win_y_high)\n",
    "            & (nonzerox >= win_xright_low)\n",
    "            & (nonzerox < win_xright_high)\n",
    "        ).nonzero()[0]\n",
    "\n",
    "        # Append these indices to the lists\n",
    "        left_lane_inds.append(good_left_inds)\n",
    "        right_lane_inds.append(good_right_inds)\n",
    "\n",
    "        # If you found > minpix pixels, recenter next window on their mean position\n",
    "        if len(good_left_inds) > minpix:\n",
    "            leftx_current = np.int(np.mean(nonzerox[good_left_inds]))\n",
    "        if len(good_right_inds) > minpix:\n",
    "            rightx_current = np.int(np.mean(nonzerox[good_right_inds]))\n",
    "\n",
    "    # Concatenate the arrays of indices (previously was a list of lists of pixels)\n",
    "    try:\n",
    "        left_lane_inds = np.concatenate(left_lane_inds)\n",
    "        right_lane_inds = np.concatenate(right_lane_inds)\n",
    "    except ValueError:\n",
    "        # Avoids an error if the above is not implemented fully\n",
    "        pass\n",
    "\n",
    "    # Extract left and right line pixel positions\n",
    "    leftx = nonzerox[left_lane_inds]\n",
    "    lefty = nonzeroy[left_lane_inds]\n",
    "    rightx = nonzerox[right_lane_inds]\n",
    "    righty = nonzeroy[right_lane_inds]\n",
    "\n",
    "    return leftx, lefty, rightx, righty, out_img"
   ]
  },
  {
   "cell_type": "markdown",
   "metadata": {},
   "source": [
    "- `numpy.sum` https://numpy.org/doc/1.18/reference/generated/numpy.sum.html\n",
    "- `numpy.dstack` https://numpy.org/doc/1.18/reference/generated/numpy.dstack.html\n",
    "- `numpy.nonzero` https://docs.scipy.org/doc/numpy/reference/generated/numpy.nonzero.html\n",
    "- `numpy.argmax` https://numpy.org/doc/1.18/reference/generated/numpy.argmax.html"
   ]
  },
  {
   "cell_type": "code",
   "execution_count": 5,
   "metadata": {},
   "outputs": [
    {
     "data": {
      "application/javascript": [
       "\n",
       "            setTimeout(function() {\n",
       "                var nbb_cell_id = 5;\n",
       "                var nbb_unformatted_code = \"def fit_polynomial(binary_warped):\\n    # Find our lane pixels first\\n    leftx, lefty, rightx, righty, out_img = find_lane_pixels(binary_warped)\\n\\n    # Fit a second order polynomial to each using `np.polyfit`\\n    left_fit = np.polyfit(lefty, leftx, 2)\\n    right_fit = np.polyfit(righty, rightx, 2)\\n\\n    # Generate x and y values for plotting\\n    # Take note of how we fit the lines above\\n    # while normally you calculate a y-value for a given x\\n    # here we do the opposite because we expect our lane lines to be (mostly) vertically-oriented\\n    ploty = np.linspace(0, binary_warped.shape[0] - 1, binary_warped.shape[0])\\n    try:\\n        left_fitx = left_fit[0] * ploty ** 2 + left_fit[1] * ploty + left_fit[2]\\n        right_fitx = right_fit[0] * ploty ** 2 + right_fit[1] * ploty + right_fit[2]\\n    except TypeError:\\n        # Avoids an error if `left` and `right_fit` are still none or incorrect\\n        print(\\\"The function failed to fit a line!\\\")\\n        left_fitx = 1 * ploty ** 2 + 1 * ploty\\n        right_fitx = 1 * ploty ** 2 + 1 * ploty\\n\\n    ## Visualization ##\\n    # Colors in the left and right lane regions\\n    out_img[lefty, leftx] = [255, 0, 0]\\n    out_img[righty, rightx] = [0, 0, 255]\\n\\n    # Plots the left and right polynomials on the lane lines\\n    plt.plot(left_fitx, ploty, color=\\\"yellow\\\")\\n    plt.plot(right_fitx, ploty, color=\\\"yellow\\\")\\n\\n    return out_img\";\n",
       "                var nbb_formatted_code = \"def fit_polynomial(binary_warped):\\n    # Find our lane pixels first\\n    leftx, lefty, rightx, righty, out_img = find_lane_pixels(binary_warped)\\n\\n    # Fit a second order polynomial to each using `np.polyfit`\\n    left_fit = np.polyfit(lefty, leftx, 2)\\n    right_fit = np.polyfit(righty, rightx, 2)\\n\\n    # Generate x and y values for plotting\\n    # Take note of how we fit the lines above\\n    # while normally you calculate a y-value for a given x\\n    # here we do the opposite because we expect our lane lines to be (mostly) vertically-oriented\\n    ploty = np.linspace(0, binary_warped.shape[0] - 1, binary_warped.shape[0])\\n    try:\\n        left_fitx = left_fit[0] * ploty ** 2 + left_fit[1] * ploty + left_fit[2]\\n        right_fitx = right_fit[0] * ploty ** 2 + right_fit[1] * ploty + right_fit[2]\\n    except TypeError:\\n        # Avoids an error if `left` and `right_fit` are still none or incorrect\\n        print(\\\"The function failed to fit a line!\\\")\\n        left_fitx = 1 * ploty ** 2 + 1 * ploty\\n        right_fitx = 1 * ploty ** 2 + 1 * ploty\\n\\n    ## Visualization ##\\n    # Colors in the left and right lane regions\\n    out_img[lefty, leftx] = [255, 0, 0]\\n    out_img[righty, rightx] = [0, 0, 255]\\n\\n    # Plots the left and right polynomials on the lane lines\\n    plt.plot(left_fitx, ploty, color=\\\"yellow\\\")\\n    plt.plot(right_fitx, ploty, color=\\\"yellow\\\")\\n\\n    return out_img\";\n",
       "                var nbb_cells = Jupyter.notebook.get_cells();\n",
       "                for (var i = 0; i < nbb_cells.length; ++i) {\n",
       "                    if (nbb_cells[i].input_prompt_number == nbb_cell_id) {\n",
       "                        if (nbb_cells[i].get_text() == nbb_unformatted_code) {\n",
       "                             nbb_cells[i].set_text(nbb_formatted_code);\n",
       "                        }\n",
       "                        break;\n",
       "                    }\n",
       "                }\n",
       "            }, 500);\n",
       "            "
      ],
      "text/plain": [
       "<IPython.core.display.Javascript object>"
      ]
     },
     "metadata": {},
     "output_type": "display_data"
    }
   ],
   "source": [
    "def fit_polynomial(binary_warped):\n",
    "    # Find our lane pixels first\n",
    "    leftx, lefty, rightx, righty, out_img = find_lane_pixels(binary_warped)\n",
    "\n",
    "    # Fit a second order polynomial to each using `np.polyfit`\n",
    "    left_fit = np.polyfit(lefty, leftx, 2)\n",
    "    right_fit = np.polyfit(righty, rightx, 2)\n",
    "\n",
    "    # Generate x and y values for plotting\n",
    "    # Take note of how we fit the lines above\n",
    "    # while normally you calculate a y-value for a given x\n",
    "    # here we do the opposite because we expect our lane lines to be (mostly) vertically-oriented\n",
    "    ploty = np.linspace(0, binary_warped.shape[0] - 1, binary_warped.shape[0])\n",
    "    try:\n",
    "        left_fitx = left_fit[0] * ploty ** 2 + left_fit[1] * ploty + left_fit[2]\n",
    "        right_fitx = right_fit[0] * ploty ** 2 + right_fit[1] * ploty + right_fit[2]\n",
    "    except TypeError:\n",
    "        # Avoids an error if `left` and `right_fit` are still none or incorrect\n",
    "        print(\"The function failed to fit a line!\")\n",
    "        left_fitx = 1 * ploty ** 2 + 1 * ploty\n",
    "        right_fitx = 1 * ploty ** 2 + 1 * ploty\n",
    "\n",
    "    ## Visualization ##\n",
    "    # Colors in the left and right lane regions\n",
    "    out_img[lefty, leftx] = [255, 0, 0]\n",
    "    out_img[righty, rightx] = [0, 0, 255]\n",
    "\n",
    "    # Plots the left and right polynomials on the lane lines\n",
    "    plt.plot(left_fitx, ploty, color=\"yellow\")\n",
    "    plt.plot(right_fitx, ploty, color=\"yellow\")\n",
    "\n",
    "    return out_img"
   ]
  },
  {
   "cell_type": "markdown",
   "metadata": {},
   "source": [
    "- `numpy.linspace` https://docs.scipy.org/doc/numpy/reference/generated/numpy.linspace.html"
   ]
  },
  {
   "cell_type": "code",
   "execution_count": 6,
   "metadata": {},
   "outputs": [
    {
     "data": {
      "text/plain": [
       "<matplotlib.image.AxesImage at 0x7f578441e100>"
      ]
     },
     "execution_count": 6,
     "metadata": {},
     "output_type": "execute_result"
    },
    {
     "data": {
      "image/png": "[encoded data removed]",
      "text/plain": [
       "<Figure size 432x288 with 1 Axes>"
      ]
     },
     "metadata": {
      "needs_background": "light"
     },
     "output_type": "display_data"
    },
    {
     "data": {
      "application/javascript": [
       "\n",
       "            setTimeout(function() {\n",
       "                var nbb_cell_id = 6;\n",
       "                var nbb_unformatted_code = \"out_img = fit_polynomial(binary_warped)\\n\\nplt.imshow(out_img)\";\n",
       "                var nbb_formatted_code = \"out_img = fit_polynomial(binary_warped)\\n\\nplt.imshow(out_img)\";\n",
       "                var nbb_cells = Jupyter.notebook.get_cells();\n",
       "                for (var i = 0; i < nbb_cells.length; ++i) {\n",
       "                    if (nbb_cells[i].input_prompt_number == nbb_cell_id) {\n",
       "                        if (nbb_cells[i].get_text() == nbb_unformatted_code) {\n",
       "                             nbb_cells[i].set_text(nbb_formatted_code);\n",
       "                        }\n",
       "                        break;\n",
       "                    }\n",
       "                }\n",
       "            }, 500);\n",
       "            "
      ],
      "text/plain": [
       "<IPython.core.display.Javascript object>"
      ]
     },
     "metadata": {},
     "output_type": "display_data"
    }
   ],
   "source": [
    "out_img = fit_polynomial(binary_warped)\n",
    "\n",
    "plt.imshow(out_img)"
   ]
  },
  {
   "cell_type": "markdown",
   "metadata": {},
   "source": [
    "# Finding the Lines: Search from Prior\n",
    "## Skip the sliding windows step once you've found the lines"
   ]
  },
  {
   "cell_type": "markdown",
   "metadata": {},
   "source": [
    "<img src=\"resources/skip_the_sliding_windows_step.png\" style=\"width: 80%;\"/>"
   ]
  },
  {
   "cell_type": "markdown",
   "metadata": {},
   "source": [
    "- using the full algorithm from before and starting fresh on every frame may seem inefficient, as the lane lines don't necessarily move a lot from frame to frame.\n",
    "- in the next frame of video you don't need to do a blind search again, but instead you can just search in a margin around the previous lane line position, like in the above image\n",
    "- the green shaded area shows where we searched for the lines this time\n",
    "    - so, once you know where the lines are in one frame of video, you can do a highly targeted search for them in the next frame\n",
    "- this is equivalent to using a customized region of interest for each frame of video, and should help you track the lanes through sharp curves and tricky conditions\n",
    "- if you lose track of the lines, go back to your sliding windows search or other method to rediscover them"
   ]
  },
  {
   "cell_type": "markdown",
   "metadata": {},
   "source": [
    "- in the previous quiz, we used `left_lane_inds` and `right_lane_inds` to hold the pixel values contained within the boundaries of a given sliding window\n",
    "- this time, we'll take the polynomial functions we fit before (`left_fit` and `right_fit`), along with a hyperparameter `margin`, to determine which activated pixels fall into the green shaded areas from the above image\n",
    "- note that this `margin` can be a different value than the one originally used for your sliding windows!\n",
    "- to implement, you'll want to grab only those pixels with x-values that are +/- your `margin` from your polynomial lines"
   ]
  },
  {
   "cell_type": "code",
   "execution_count": 7,
   "metadata": {},
   "outputs": [
    {
     "data": {
      "application/javascript": [
       "\n",
       "            setTimeout(function() {\n",
       "                var nbb_cell_id = 7;\n",
       "                var nbb_unformatted_code = \"# Load our image - this should be a new frame since last time!\\nbinary_warped = mpimg.imread(\\\"resources/warped-example.jpg\\\")\\n\\n# Polynomial fit values from the previous frame\\n# Make sure to grab the actual values from the previous step in your project!\\nleft_fit = np.array([2.13935315e-04, -3.77507980e-01, 4.76902175e02])\\nright_fit = np.array([4.17622148e-04, -4.93848953e-01, 1.11806170e03])\\n\\n\\ndef fit_poly(img_shape, leftx, lefty, rightx, righty):\\n    ### TO-DO: Fit a second order polynomial to each with np.polyfit() ###\\n    left_fit = np.polyfit(lefty, leftx, 2)\\n    right_fit = np.polyfit(righty, rightx, 2)\\n    # Generate x and y values for plotting\\n    ploty = np.linspace(0, img_shape[0] - 1, img_shape[0])\\n    ### TO-DO: Calc both polynomials using ploty, left_fit and right_fit ###\\n    left_fitx = left_fit[0] * ploty ** 2 + left_fit[1] * ploty + left_fit[2]\\n    right_fitx = right_fit[0] * ploty ** 2 + right_fit[1] * ploty + right_fit[2]\\n\\n    return left_fitx, right_fitx, ploty\";\n",
       "                var nbb_formatted_code = \"# Load our image - this should be a new frame since last time!\\nbinary_warped = mpimg.imread(\\\"resources/warped-example.jpg\\\")\\n\\n# Polynomial fit values from the previous frame\\n# Make sure to grab the actual values from the previous step in your project!\\nleft_fit = np.array([2.13935315e-04, -3.77507980e-01, 4.76902175e02])\\nright_fit = np.array([4.17622148e-04, -4.93848953e-01, 1.11806170e03])\\n\\n\\ndef fit_poly(img_shape, leftx, lefty, rightx, righty):\\n    ### TO-DO: Fit a second order polynomial to each with np.polyfit() ###\\n    left_fit = np.polyfit(lefty, leftx, 2)\\n    right_fit = np.polyfit(righty, rightx, 2)\\n    # Generate x and y values for plotting\\n    ploty = np.linspace(0, img_shape[0] - 1, img_shape[0])\\n    ### TO-DO: Calc both polynomials using ploty, left_fit and right_fit ###\\n    left_fitx = left_fit[0] * ploty ** 2 + left_fit[1] * ploty + left_fit[2]\\n    right_fitx = right_fit[0] * ploty ** 2 + right_fit[1] * ploty + right_fit[2]\\n\\n    return left_fitx, right_fitx, ploty\";\n",
       "                var nbb_cells = Jupyter.notebook.get_cells();\n",
       "                for (var i = 0; i < nbb_cells.length; ++i) {\n",
       "                    if (nbb_cells[i].input_prompt_number == nbb_cell_id) {\n",
       "                        if (nbb_cells[i].get_text() == nbb_unformatted_code) {\n",
       "                             nbb_cells[i].set_text(nbb_formatted_code);\n",
       "                        }\n",
       "                        break;\n",
       "                    }\n",
       "                }\n",
       "            }, 500);\n",
       "            "
      ],
      "text/plain": [
       "<IPython.core.display.Javascript object>"
      ]
     },
     "metadata": {},
     "output_type": "display_data"
    }
   ],
   "source": [
    "# Load our image - this should be a new frame since last time!\n",
    "binary_warped = mpimg.imread(\"resources/warped-example.jpg\")\n",
    "\n",
    "# Polynomial fit values from the previous frame\n",
    "# Make sure to grab the actual values from the previous step in your project!\n",
    "left_fit = np.array([2.13935315e-04, -3.77507980e-01, 4.76902175e02])\n",
    "right_fit = np.array([4.17622148e-04, -4.93848953e-01, 1.11806170e03])\n",
    "\n",
    "\n",
    "def fit_poly(img_shape, leftx, lefty, rightx, righty):\n",
    "    ### TO-DO: Fit a second order polynomial to each with np.polyfit() ###\n",
    "    left_fit = np.polyfit(lefty, leftx, 2)\n",
    "    right_fit = np.polyfit(righty, rightx, 2)\n",
    "    # Generate x and y values for plotting\n",
    "    ploty = np.linspace(0, img_shape[0] - 1, img_shape[0])\n",
    "    ### TO-DO: Calc both polynomials using ploty, left_fit and right_fit ###\n",
    "    left_fitx = left_fit[0] * ploty ** 2 + left_fit[1] * ploty + left_fit[2]\n",
    "    right_fitx = right_fit[0] * ploty ** 2 + right_fit[1] * ploty + right_fit[2]\n",
    "\n",
    "    return left_fitx, right_fitx, ploty"
   ]
  },
  {
   "cell_type": "code",
   "execution_count": 8,
   "metadata": {},
   "outputs": [
    {
     "data": {
      "application/javascript": [
       "\n",
       "            setTimeout(function() {\n",
       "                var nbb_cell_id = 8;\n",
       "                var nbb_unformatted_code = \"def search_around_poly(binary_warped):\\n    # HYPERPARAMETER\\n    # Choose the width of the margin around the previous polynomial to search\\n    # The quiz grader expects 100 here, but feel free to tune on your own!\\n    margin = 100\\n\\n    # Grab activated pixels\\n    nonzero = binary_warped.nonzero()\\n    nonzeroy = np.array(nonzero[0])\\n    nonzerox = np.array(nonzero[1])\\n\\n    ### TO-DO: Set the area of search based on activated x-values ###\\n    ### within the +/- margin of our polynomial function ###\\n    ### Hint: consider the window areas for the similarly named variables ###\\n    ### in the previous quiz, but change the windows to our new search area ###\\n    left_lane_inds = (\\n        nonzerox\\n        > (\\n            left_fit[0] * (nonzeroy ** 2)\\n            + left_fit[1] * nonzeroy\\n            + left_fit[2]\\n            - margin\\n        )\\n    ) & (\\n        nonzerox\\n        < (\\n            left_fit[0] * (nonzeroy ** 2)\\n            + left_fit[1] * nonzeroy\\n            + left_fit[2]\\n            + margin\\n        )\\n    )\\n    right_lane_inds = (\\n        nonzerox\\n        > (\\n            right_fit[0] * (nonzeroy ** 2)\\n            + right_fit[1] * nonzeroy\\n            + right_fit[2]\\n            - margin\\n        )\\n    ) & (\\n        nonzerox\\n        < (\\n            right_fit[0] * (nonzeroy ** 2)\\n            + right_fit[1] * nonzeroy\\n            + right_fit[2]\\n            + margin\\n        )\\n    )\\n\\n    # Again, extract left and right line pixel positions\\n    leftx = nonzerox[left_lane_inds]\\n    lefty = nonzeroy[left_lane_inds]\\n    rightx = nonzerox[right_lane_inds]\\n    righty = nonzeroy[right_lane_inds]\\n\\n    # Fit new polynomials\\n    left_fitx, right_fitx, ploty = fit_poly(\\n        binary_warped.shape, leftx, lefty, rightx, righty\\n    )\\n\\n    ## Visualization ##\\n    # Create an image to draw on and an image to show the selection window\\n    out_img = np.dstack((binary_warped, binary_warped, binary_warped)) * 255\\n    window_img = np.zeros_like(out_img)\\n    # Color in left and right line pixels\\n    out_img[nonzeroy[left_lane_inds], nonzerox[left_lane_inds]] = [255, 0, 0]\\n    out_img[nonzeroy[right_lane_inds], nonzerox[right_lane_inds]] = [0, 0, 255]\\n\\n    # Generate a polygon to illustrate the search window area\\n    # And recast the x and y points into usable format for cv2.fillPoly()\\n    left_line_window1 = np.array([np.transpose(np.vstack([left_fitx - margin, ploty]))])\\n    left_line_window2 = np.array(\\n        [np.flipud(np.transpose(np.vstack([left_fitx + margin, ploty])))]\\n    )\\n    left_line_pts = np.hstack((left_line_window1, left_line_window2))\\n    right_line_window1 = np.array(\\n        [np.transpose(np.vstack([right_fitx - margin, ploty]))]\\n    )\\n    right_line_window2 = np.array(\\n        [np.flipud(np.transpose(np.vstack([right_fitx + margin, ploty])))]\\n    )\\n    right_line_pts = np.hstack((right_line_window1, right_line_window2))\\n\\n    # Draw the lane onto the warped blank image\\n    cv2.fillPoly(window_img, np.int_([left_line_pts]), (0, 255, 0))\\n    cv2.fillPoly(window_img, np.int_([right_line_pts]), (0, 255, 0))\\n    result = cv2.addWeighted(out_img, 1, window_img, 0.3, 0)\\n\\n    # Plot the polynomial lines onto the image\\n    plt.plot(left_fitx, ploty, color=\\\"yellow\\\")\\n    plt.plot(right_fitx, ploty, color=\\\"yellow\\\")\\n    ## End visualization steps ##\\n\\n    return result\";\n",
       "                var nbb_formatted_code = \"def search_around_poly(binary_warped):\\n    # HYPERPARAMETER\\n    # Choose the width of the margin around the previous polynomial to search\\n    # The quiz grader expects 100 here, but feel free to tune on your own!\\n    margin = 100\\n\\n    # Grab activated pixels\\n    nonzero = binary_warped.nonzero()\\n    nonzeroy = np.array(nonzero[0])\\n    nonzerox = np.array(nonzero[1])\\n\\n    ### TO-DO: Set the area of search based on activated x-values ###\\n    ### within the +/- margin of our polynomial function ###\\n    ### Hint: consider the window areas for the similarly named variables ###\\n    ### in the previous quiz, but change the windows to our new search area ###\\n    left_lane_inds = (\\n        nonzerox\\n        > (\\n            left_fit[0] * (nonzeroy ** 2)\\n            + left_fit[1] * nonzeroy\\n            + left_fit[2]\\n            - margin\\n        )\\n    ) & (\\n        nonzerox\\n        < (\\n            left_fit[0] * (nonzeroy ** 2)\\n            + left_fit[1] * nonzeroy\\n            + left_fit[2]\\n            + margin\\n        )\\n    )\\n    right_lane_inds = (\\n        nonzerox\\n        > (\\n            right_fit[0] * (nonzeroy ** 2)\\n            + right_fit[1] * nonzeroy\\n            + right_fit[2]\\n            - margin\\n        )\\n    ) & (\\n        nonzerox\\n        < (\\n            right_fit[0] * (nonzeroy ** 2)\\n            + right_fit[1] * nonzeroy\\n            + right_fit[2]\\n            + margin\\n        )\\n    )\\n\\n    # Again, extract left and right line pixel positions\\n    leftx = nonzerox[left_lane_inds]\\n    lefty = nonzeroy[left_lane_inds]\\n    rightx = nonzerox[right_lane_inds]\\n    righty = nonzeroy[right_lane_inds]\\n\\n    # Fit new polynomials\\n    left_fitx, right_fitx, ploty = fit_poly(\\n        binary_warped.shape, leftx, lefty, rightx, righty\\n    )\\n\\n    ## Visualization ##\\n    # Create an image to draw on and an image to show the selection window\\n    out_img = np.dstack((binary_warped, binary_warped, binary_warped)) * 255\\n    window_img = np.zeros_like(out_img)\\n    # Color in left and right line pixels\\n    out_img[nonzeroy[left_lane_inds], nonzerox[left_lane_inds]] = [255, 0, 0]\\n    out_img[nonzeroy[right_lane_inds], nonzerox[right_lane_inds]] = [0, 0, 255]\\n\\n    # Generate a polygon to illustrate the search window area\\n    # And recast the x and y points into usable format for cv2.fillPoly()\\n    left_line_window1 = np.array([np.transpose(np.vstack([left_fitx - margin, ploty]))])\\n    left_line_window2 = np.array(\\n        [np.flipud(np.transpose(np.vstack([left_fitx + margin, ploty])))]\\n    )\\n    left_line_pts = np.hstack((left_line_window1, left_line_window2))\\n    right_line_window1 = np.array(\\n        [np.transpose(np.vstack([right_fitx - margin, ploty]))]\\n    )\\n    right_line_window2 = np.array(\\n        [np.flipud(np.transpose(np.vstack([right_fitx + margin, ploty])))]\\n    )\\n    right_line_pts = np.hstack((right_line_window1, right_line_window2))\\n\\n    # Draw the lane onto the warped blank image\\n    cv2.fillPoly(window_img, np.int_([left_line_pts]), (0, 255, 0))\\n    cv2.fillPoly(window_img, np.int_([right_line_pts]), (0, 255, 0))\\n    result = cv2.addWeighted(out_img, 1, window_img, 0.3, 0)\\n\\n    # Plot the polynomial lines onto the image\\n    plt.plot(left_fitx, ploty, color=\\\"yellow\\\")\\n    plt.plot(right_fitx, ploty, color=\\\"yellow\\\")\\n    ## End visualization steps ##\\n\\n    return result\";\n",
       "                var nbb_cells = Jupyter.notebook.get_cells();\n",
       "                for (var i = 0; i < nbb_cells.length; ++i) {\n",
       "                    if (nbb_cells[i].input_prompt_number == nbb_cell_id) {\n",
       "                        if (nbb_cells[i].get_text() == nbb_unformatted_code) {\n",
       "                             nbb_cells[i].set_text(nbb_formatted_code);\n",
       "                        }\n",
       "                        break;\n",
       "                    }\n",
       "                }\n",
       "            }, 500);\n",
       "            "
      ],
      "text/plain": [
       "<IPython.core.display.Javascript object>"
      ]
     },
     "metadata": {},
     "output_type": "display_data"
    }
   ],
   "source": [
    "def search_around_poly(binary_warped):\n",
    "    # HYPERPARAMETER\n",
    "    # Choose the width of the margin around the previous polynomial to search\n",
    "    # The quiz grader expects 100 here, but feel free to tune on your own!\n",
    "    margin = 100\n",
    "\n",
    "    # Grab activated pixels\n",
    "    nonzero = binary_warped.nonzero()\n",
    "    nonzeroy = np.array(nonzero[0])\n",
    "    nonzerox = np.array(nonzero[1])\n",
    "\n",
    "    ### TO-DO: Set the area of search based on activated x-values ###\n",
    "    ### within the +/- margin of our polynomial function ###\n",
    "    ### Hint: consider the window areas for the similarly named variables ###\n",
    "    ### in the previous quiz, but change the windows to our new search area ###\n",
    "    left_lane_inds = (\n",
    "        nonzerox\n",
    "        > (\n",
    "            left_fit[0] * (nonzeroy ** 2)\n",
    "            + left_fit[1] * nonzeroy\n",
    "            + left_fit[2]\n",
    "            - margin\n",
    "        )\n",
    "    ) & (\n",
    "        nonzerox\n",
    "        < (\n",
    "            left_fit[0] * (nonzeroy ** 2)\n",
    "            + left_fit[1] * nonzeroy\n",
    "            + left_fit[2]\n",
    "            + margin\n",
    "        )\n",
    "    )\n",
    "    right_lane_inds = (\n",
    "        nonzerox\n",
    "        > (\n",
    "            right_fit[0] * (nonzeroy ** 2)\n",
    "            + right_fit[1] * nonzeroy\n",
    "            + right_fit[2]\n",
    "            - margin\n",
    "        )\n",
    "    ) & (\n",
    "        nonzerox\n",
    "        < (\n",
    "            right_fit[0] * (nonzeroy ** 2)\n",
    "            + right_fit[1] * nonzeroy\n",
    "            + right_fit[2]\n",
    "            + margin\n",
    "        )\n",
    "    )\n",
    "\n",
    "    # Again, extract left and right line pixel positions\n",
    "    leftx = nonzerox[left_lane_inds]\n",
    "    lefty = nonzeroy[left_lane_inds]\n",
    "    rightx = nonzerox[right_lane_inds]\n",
    "    righty = nonzeroy[right_lane_inds]\n",
    "\n",
    "    # Fit new polynomials\n",
    "    left_fitx, right_fitx, ploty = fit_poly(\n",
    "        binary_warped.shape, leftx, lefty, rightx, righty\n",
    "    )\n",
    "\n",
    "    ## Visualization ##\n",
    "    # Create an image to draw on and an image to show the selection window\n",
    "    out_img = np.dstack((binary_warped, binary_warped, binary_warped)) * 255\n",
    "    window_img = np.zeros_like(out_img)\n",
    "    # Color in left and right line pixels\n",
    "    out_img[nonzeroy[left_lane_inds], nonzerox[left_lane_inds]] = [255, 0, 0]\n",
    "    out_img[nonzeroy[right_lane_inds], nonzerox[right_lane_inds]] = [0, 0, 255]\n",
    "\n",
    "    # Generate a polygon to illustrate the search window area\n",
    "    # And recast the x and y points into usable format for cv2.fillPoly()\n",
    "    left_line_window1 = np.array([np.transpose(np.vstack([left_fitx - margin, ploty]))])\n",
    "    left_line_window2 = np.array(\n",
    "        [np.flipud(np.transpose(np.vstack([left_fitx + margin, ploty])))]\n",
    "    )\n",
    "    left_line_pts = np.hstack((left_line_window1, left_line_window2))\n",
    "    right_line_window1 = np.array(\n",
    "        [np.transpose(np.vstack([right_fitx - margin, ploty]))]\n",
    "    )\n",
    "    right_line_window2 = np.array(\n",
    "        [np.flipud(np.transpose(np.vstack([right_fitx + margin, ploty])))]\n",
    "    )\n",
    "    right_line_pts = np.hstack((right_line_window1, right_line_window2))\n",
    "\n",
    "    # Draw the lane onto the warped blank image\n",
    "    cv2.fillPoly(window_img, np.int_([left_line_pts]), (0, 255, 0))\n",
    "    cv2.fillPoly(window_img, np.int_([right_line_pts]), (0, 255, 0))\n",
    "    result = cv2.addWeighted(out_img, 1, window_img, 0.3, 0)\n",
    "\n",
    "    # Plot the polynomial lines onto the image\n",
    "    plt.plot(left_fitx, ploty, color=\"yellow\")\n",
    "    plt.plot(right_fitx, ploty, color=\"yellow\")\n",
    "    ## End visualization steps ##\n",
    "\n",
    "    return result"
   ]
  },
  {
   "cell_type": "markdown",
   "metadata": {},
   "source": [
    "- `numpy.vstack` https://docs.scipy.org/doc/numpy/reference/generated/numpy.vstack.html\n",
    "- `numpy.hstack` https://docs.scipy.org/doc/numpy/reference/generated/numpy.hstack.html\n",
    "- `numpy.flipud` https://docs.scipy.org/doc/numpy/reference/generated/numpy.flipud.html"
   ]
  },
  {
   "cell_type": "code",
   "execution_count": 9,
   "metadata": {},
   "outputs": [
    {
     "data": {
      "text/plain": [
       "<matplotlib.image.AxesImage at 0x7f57547759a0>"
      ]
     },
     "execution_count": 9,
     "metadata": {},
     "output_type": "execute_result"
    },
    {
     "data": {
      "image/png": "[encoded data removed]",
      "text/plain": [
       "<Figure size 432x288 with 1 Axes>"
      ]
     },
     "metadata": {
      "needs_background": "light"
     },
     "output_type": "display_data"
    },
    {
     "data": {
      "application/javascript": [
       "\n",
       "            setTimeout(function() {\n",
       "                var nbb_cell_id = 9;\n",
       "                var nbb_unformatted_code = \"# Run image through the pipeline\\n# Note that in your project, you'll also want to feed in the previous fits\\nresult = search_around_poly(binary_warped)\\n\\n# View your output\\nplt.imshow(result)\";\n",
       "                var nbb_formatted_code = \"# Run image through the pipeline\\n# Note that in your project, you'll also want to feed in the previous fits\\nresult = search_around_poly(binary_warped)\\n\\n# View your output\\nplt.imshow(result)\";\n",
       "                var nbb_cells = Jupyter.notebook.get_cells();\n",
       "                for (var i = 0; i < nbb_cells.length; ++i) {\n",
       "                    if (nbb_cells[i].input_prompt_number == nbb_cell_id) {\n",
       "                        if (nbb_cells[i].get_text() == nbb_unformatted_code) {\n",
       "                             nbb_cells[i].set_text(nbb_formatted_code);\n",
       "                        }\n",
       "                        break;\n",
       "                    }\n",
       "                }\n",
       "            }, 500);\n",
       "            "
      ],
      "text/plain": [
       "<IPython.core.display.Javascript object>"
      ]
     },
     "metadata": {},
     "output_type": "display_data"
    }
   ],
   "source": [
    "# Run image through the pipeline\n",
    "# Note that in your project, you'll also want to feed in the previous fits\n",
    "result = search_around_poly(binary_warped)\n",
    "\n",
    "# View your output\n",
    "plt.imshow(result)"
   ]
  },
  {
   "cell_type": "markdown",
   "metadata": {},
   "source": [
    "## Fitting on Large Curves\n",
    "\n",
    "- one thing to consider in our current implementation of sliding window search is what happens when we arrive at the left or right edge of an image, such as when there is a large curve on the road ahead\n",
    "- if `minpix` is not achieved (i.e. the curve ran off the image), the starting position of our next window doesn't change, so it is just positioned directly above the previous window\n",
    "- this will repeat for however many windows are left in `nwindows`, stacking the sliding windows vertically against the side of the image, and likely leading to an imperfect polynomial fit"
   ]
  },
  {
   "cell_type": "markdown",
   "metadata": {},
   "source": [
    "# Measuring Curvature"
   ]
  },
  {
   "cell_type": "markdown",
   "metadata": {},
   "source": [
    "<img src=\"resources/color-fit-lines.jpg\" style=\"width: 80%;\"/>"
   ]
  },
  {
   "cell_type": "markdown",
   "metadata": {},
   "source": [
    "- in the last exercise, we located the lane line pixels, used their x and y pixel positions to fit a second order polynomial curve: $f(y)=Ay^2+By+C$\n",
    "- we're fitting for $f(y)$, rather than $f(x)$, because the lane lines in the warped image are near vertical and may have the same $x$ value for more than one $y$ value. "
   ]
  },
  {
   "cell_type": "markdown",
   "metadata": {},
   "source": [
    "## Radius of Curvature"
   ]
  },
  {
   "cell_type": "markdown",
   "metadata": {},
   "source": [
    "https://www.intmath.com/applications-differentiation/8-radius-curvature.php\n",
    "- the radius of curvature  at any point $x$ of the function $x=f(y)$ is given as follows:\n",
    "<center>$R_{curve} = \\dfrac{\\left[1+\\left(\\dfrac{dx}{dy}\\right)^2\\right]^{3/2}}{\\left|\\dfrac{d^2x}{dy^2}\\right|}$</center>\n",
    "<br/>\n",
    "- in the case of the second order polynomial above, the first and second derivatives are:\n",
    "<center>$f'(y) = \\dfrac{dx}{dy} = 2Ay + B$</center>\n",
    "<center>$f''(y) = \\dfrac{d^2x}{dy^2} = 2A$</center>\n",
    "- so, our equation for radius of curvature becomes:\n",
    "<center>$R_{curve} = \\dfrac{\\left(1+(2Ay + B)^2\\right)^{3/2}}{\\left|2A\\right|}$</center>"
   ]
  },
  {
   "cell_type": "markdown",
   "metadata": {},
   "source": [
    "- the $y$ values of your image increase from top to bottom, so if, for example, you wanted to measure the radius of curvature closest to your vehicle, you could evaluate the formula above at the $y$ value corresponding to the bottom of your image, or in Python, at `yvalue = image.shape[0]`."
   ]
  },
  {
   "cell_type": "markdown",
   "metadata": {},
   "source": [
    "## Implementing the Calculation\n",
    "### Generate some fake data first"
   ]
  },
  {
   "cell_type": "code",
   "execution_count": 10,
   "metadata": {
    "scrolled": true
   },
   "outputs": [
    {
     "data": {
      "image/png": "[encoded data removed]",
      "text/plain": [
       "<Figure size 432x288 with 1 Axes>"
      ]
     },
     "metadata": {
      "needs_background": "light"
     },
     "output_type": "display_data"
    },
    {
     "data": {
      "application/javascript": [
       "\n",
       "            setTimeout(function() {\n",
       "                var nbb_cell_id = 10;\n",
       "                var nbb_unformatted_code = \"import numpy as np\\nimport matplotlib.pyplot as plt\\n\\n# Generate some fake data to represent lane-line pixels\\nploty = np.linspace(0, 719, num=720)  # to cover same y-range as image\\nquadratic_coeff = 3e-4  # arbitrary quadratic coefficient\\n# For each y position generate random x position within +/-50 pix\\n# of the line base position in each case (x=200 for left, and x=900 for right)\\nleftx = np.array(\\n    [200 + (y ** 2) * quadratic_coeff + np.random.randint(-50, high=51) for y in ploty]\\n)\\nrightx = np.array(\\n    [900 + (y ** 2) * quadratic_coeff + np.random.randint(-50, high=51) for y in ploty]\\n)\\n\\nleftx = leftx[::-1]  # Reverse to match top-to-bottom in y\\nrightx = rightx[::-1]  # Reverse to match top-to-bottom in y\\n\\n\\n# Fit a second order polynomial to pixel positions in each fake lane line\\nleft_fit = np.polyfit(ploty, leftx, 2)\\nleft_fitx = left_fit[0] * ploty ** 2 + left_fit[1] * ploty + left_fit[2]\\nright_fit = np.polyfit(ploty, rightx, 2)\\nright_fitx = right_fit[0] * ploty ** 2 + right_fit[1] * ploty + right_fit[2]\\n\\n# Plot up the fake data\\nmark_size = 3\\nplt.plot(leftx, ploty, \\\"o\\\", color=\\\"red\\\", markersize=mark_size)\\nplt.plot(rightx, ploty, \\\"o\\\", color=\\\"blue\\\", markersize=mark_size)\\nplt.xlim(0, 1280)\\nplt.ylim(0, 720)\\nplt.plot(left_fitx, ploty, color=\\\"green\\\", linewidth=3)\\nplt.plot(right_fitx, ploty, color=\\\"green\\\", linewidth=3)\\nplt.gca().invert_yaxis()  # to visualize as we do the images\";\n",
       "                var nbb_formatted_code = \"import numpy as np\\nimport matplotlib.pyplot as plt\\n\\n# Generate some fake data to represent lane-line pixels\\nploty = np.linspace(0, 719, num=720)  # to cover same y-range as image\\nquadratic_coeff = 3e-4  # arbitrary quadratic coefficient\\n# For each y position generate random x position within +/-50 pix\\n# of the line base position in each case (x=200 for left, and x=900 for right)\\nleftx = np.array(\\n    [200 + (y ** 2) * quadratic_coeff + np.random.randint(-50, high=51) for y in ploty]\\n)\\nrightx = np.array(\\n    [900 + (y ** 2) * quadratic_coeff + np.random.randint(-50, high=51) for y in ploty]\\n)\\n\\nleftx = leftx[::-1]  # Reverse to match top-to-bottom in y\\nrightx = rightx[::-1]  # Reverse to match top-to-bottom in y\\n\\n\\n# Fit a second order polynomial to pixel positions in each fake lane line\\nleft_fit = np.polyfit(ploty, leftx, 2)\\nleft_fitx = left_fit[0] * ploty ** 2 + left_fit[1] * ploty + left_fit[2]\\nright_fit = np.polyfit(ploty, rightx, 2)\\nright_fitx = right_fit[0] * ploty ** 2 + right_fit[1] * ploty + right_fit[2]\\n\\n# Plot up the fake data\\nmark_size = 3\\nplt.plot(leftx, ploty, \\\"o\\\", color=\\\"red\\\", markersize=mark_size)\\nplt.plot(rightx, ploty, \\\"o\\\", color=\\\"blue\\\", markersize=mark_size)\\nplt.xlim(0, 1280)\\nplt.ylim(0, 720)\\nplt.plot(left_fitx, ploty, color=\\\"green\\\", linewidth=3)\\nplt.plot(right_fitx, ploty, color=\\\"green\\\", linewidth=3)\\nplt.gca().invert_yaxis()  # to visualize as we do the images\";\n",
       "                var nbb_cells = Jupyter.notebook.get_cells();\n",
       "                for (var i = 0; i < nbb_cells.length; ++i) {\n",
       "                    if (nbb_cells[i].input_prompt_number == nbb_cell_id) {\n",
       "                        if (nbb_cells[i].get_text() == nbb_unformatted_code) {\n",
       "                             nbb_cells[i].set_text(nbb_formatted_code);\n",
       "                        }\n",
       "                        break;\n",
       "                    }\n",
       "                }\n",
       "            }, 500);\n",
       "            "
      ],
      "text/plain": [
       "<IPython.core.display.Javascript object>"
      ]
     },
     "metadata": {},
     "output_type": "display_data"
    }
   ],
   "source": [
    "import numpy as np\n",
    "import matplotlib.pyplot as plt\n",
    "\n",
    "# Generate some fake data to represent lane-line pixels\n",
    "ploty = np.linspace(0, 719, num=720)  # to cover same y-range as image\n",
    "quadratic_coeff = 3e-4  # arbitrary quadratic coefficient\n",
    "# For each y position generate random x position within +/-50 pix\n",
    "# of the line base position in each case (x=200 for left, and x=900 for right)\n",
    "leftx = np.array(\n",
    "    [200 + (y ** 2) * quadratic_coeff + np.random.randint(-50, high=51) for y in ploty]\n",
    ")\n",
    "rightx = np.array(\n",
    "    [900 + (y ** 2) * quadratic_coeff + np.random.randint(-50, high=51) for y in ploty]\n",
    ")\n",
    "\n",
    "leftx = leftx[::-1]  # Reverse to match top-to-bottom in y\n",
    "rightx = rightx[::-1]  # Reverse to match top-to-bottom in y\n",
    "\n",
    "\n",
    "# Fit a second order polynomial to pixel positions in each fake lane line\n",
    "left_fit = np.polyfit(ploty, leftx, 2)\n",
    "left_fitx = left_fit[0] * ploty ** 2 + left_fit[1] * ploty + left_fit[2]\n",
    "right_fit = np.polyfit(ploty, rightx, 2)\n",
    "right_fitx = right_fit[0] * ploty ** 2 + right_fit[1] * ploty + right_fit[2]\n",
    "\n",
    "# Plot up the fake data\n",
    "mark_size = 3\n",
    "plt.plot(leftx, ploty, \"o\", color=\"red\", markersize=mark_size)\n",
    "plt.plot(rightx, ploty, \"o\", color=\"blue\", markersize=mark_size)\n",
    "plt.xlim(0, 1280)\n",
    "plt.ylim(0, 720)\n",
    "plt.plot(left_fitx, ploty, color=\"green\", linewidth=3)\n",
    "plt.plot(right_fitx, ploty, color=\"green\", linewidth=3)\n",
    "plt.gca().invert_yaxis()  # to visualize as we do the images"
   ]
  },
  {
   "cell_type": "markdown",
   "metadata": {},
   "source": [
    "### Implementing the calculation itself"
   ]
  },
  {
   "cell_type": "code",
   "execution_count": 18,
   "metadata": {},
   "outputs": [
    {
     "data": {
      "application/javascript": [
       "\n",
       "            setTimeout(function() {\n",
       "                var nbb_cell_id = 18;\n",
       "                var nbb_unformatted_code = \"import numpy as np\\n\\ndef generate_data():\\n    \\\"\\\"\\\"\\n    Generates fake data to use for calculating lane curvature.\\n    In your own project, you'll ignore this function and instead\\n    feed in the output of your lane detection algorithm to\\n    the lane curvature calculation.\\n    \\\"\\\"\\\"\\n    # Set random seed number so results are consistent for grader\\n    # Comment this out if you'd like to see results on different random data!\\n    np.random.seed(0)\\n    # Generate some fake data to represent lane-line pixels\\n    ploty = np.linspace(0, 719, num=720)  # to cover same y-range as image\\n    quadratic_coeff = 3e-4  # arbitrary quadratic coefficient\\n    # For each y position generate random x position within +/-50 pix\\n    # of the line base position in each case (x=200 for left, and x=900 for right)\\n    leftx = np.array(\\n        [\\n            200 + (y ** 2) * quadratic_coeff + np.random.randint(-50, high=51)\\n            for y in ploty\\n        ]\\n    )\\n    rightx = np.array(\\n        [\\n            900 + (y ** 2) * quadratic_coeff + np.random.randint(-50, high=51)\\n            for y in ploty\\n        ]\\n    )\\n\\n    leftx = leftx[::-1]  # Reverse to match top-to-bottom in y\\n    rightx = rightx[::-1]  # Reverse to match top-to-bottom in y\\n\\n    # Fit a second order polynomial to pixel positions in each fake lane line\\n    left_fit = np.polyfit(ploty, leftx, 2)\\n    right_fit = np.polyfit(ploty, rightx, 2)\\n\\n    return ploty, left_fit, right_fit\";\n",
       "                var nbb_formatted_code = \"import numpy as np\\n\\n\\ndef generate_data():\\n    \\\"\\\"\\\"\\n    Generates fake data to use for calculating lane curvature.\\n    In your own project, you'll ignore this function and instead\\n    feed in the output of your lane detection algorithm to\\n    the lane curvature calculation.\\n    \\\"\\\"\\\"\\n    # Set random seed number so results are consistent for grader\\n    # Comment this out if you'd like to see results on different random data!\\n    np.random.seed(0)\\n    # Generate some fake data to represent lane-line pixels\\n    ploty = np.linspace(0, 719, num=720)  # to cover same y-range as image\\n    quadratic_coeff = 3e-4  # arbitrary quadratic coefficient\\n    # For each y position generate random x position within +/-50 pix\\n    # of the line base position in each case (x=200 for left, and x=900 for right)\\n    leftx = np.array(\\n        [\\n            200 + (y ** 2) * quadratic_coeff + np.random.randint(-50, high=51)\\n            for y in ploty\\n        ]\\n    )\\n    rightx = np.array(\\n        [\\n            900 + (y ** 2) * quadratic_coeff + np.random.randint(-50, high=51)\\n            for y in ploty\\n        ]\\n    )\\n\\n    leftx = leftx[::-1]  # Reverse to match top-to-bottom in y\\n    rightx = rightx[::-1]  # Reverse to match top-to-bottom in y\\n\\n    # Fit a second order polynomial to pixel positions in each fake lane line\\n    left_fit = np.polyfit(ploty, leftx, 2)\\n    right_fit = np.polyfit(ploty, rightx, 2)\\n\\n    return ploty, left_fit, right_fit\";\n",
       "                var nbb_cells = Jupyter.notebook.get_cells();\n",
       "                for (var i = 0; i < nbb_cells.length; ++i) {\n",
       "                    if (nbb_cells[i].input_prompt_number == nbb_cell_id) {\n",
       "                        if (nbb_cells[i].get_text() == nbb_unformatted_code) {\n",
       "                             nbb_cells[i].set_text(nbb_formatted_code);\n",
       "                        }\n",
       "                        break;\n",
       "                    }\n",
       "                }\n",
       "            }, 500);\n",
       "            "
      ],
      "text/plain": [
       "<IPython.core.display.Javascript object>"
      ]
     },
     "metadata": {},
     "output_type": "display_data"
    }
   ],
   "source": [
    "import numpy as np\n",
    "\n",
    "\n",
    "def generate_data():\n",
    "    \"\"\"\n",
    "    Generates fake data to use for calculating lane curvature.\n",
    "    In your own project, you'll ignore this function and instead\n",
    "    feed in the output of your lane detection algorithm to\n",
    "    the lane curvature calculation.\n",
    "    \"\"\"\n",
    "    # Set random seed number so results are consistent for grader\n",
    "    # Comment this out if you'd like to see results on different random data!\n",
    "    np.random.seed(0)\n",
    "    # Generate some fake data to represent lane-line pixels\n",
    "    ploty = np.linspace(0, 719, num=720)  # to cover same y-range as image\n",
    "    quadratic_coeff = 3e-4  # arbitrary quadratic coefficient\n",
    "    # For each y position generate random x position within +/-50 pix\n",
    "    # of the line base position in each case (x=200 for left, and x=900 for right)\n",
    "    leftx = np.array(\n",
    "        [\n",
    "            200 + (y ** 2) * quadratic_coeff + np.random.randint(-50, high=51)\n",
    "            for y in ploty\n",
    "        ]\n",
    "    )\n",
    "    rightx = np.array(\n",
    "        [\n",
    "            900 + (y ** 2) * quadratic_coeff + np.random.randint(-50, high=51)\n",
    "            for y in ploty\n",
    "        ]\n",
    "    )\n",
    "\n",
    "    leftx = leftx[::-1]  # Reverse to match top-to-bottom in y\n",
    "    rightx = rightx[::-1]  # Reverse to match top-to-bottom in y\n",
    "\n",
    "    # Fit a second order polynomial to pixel positions in each fake lane line\n",
    "    left_fit = np.polyfit(ploty, leftx, 2)\n",
    "    right_fit = np.polyfit(ploty, rightx, 2)\n",
    "\n",
    "    return ploty, left_fit, right_fit"
   ]
  },
  {
   "cell_type": "markdown",
   "metadata": {},
   "source": [
    "- `numpy.random.seed` https://docs.scipy.org/doc/numpy-1.15.1/reference/generated/numpy.random.seed.html"
   ]
  },
  {
   "cell_type": "code",
   "execution_count": 12,
   "metadata": {},
   "outputs": [
    {
     "data": {
      "application/javascript": [
       "\n",
       "            setTimeout(function() {\n",
       "                var nbb_cell_id = 12;\n",
       "                var nbb_unformatted_code = \"def measure_curvature_pixels():\\n    \\\"\\\"\\\"\\n    Calculates the curvature of polynomial functions in pixels.\\n    \\\"\\\"\\\"\\n    # Start by generating our fake example data\\n    # Make sure to feed in your real data instead in your project!\\n    ploty, left_fit, right_fit = generate_data()\\n\\n    # Define y-value where we want radius of curvature\\n    # We'll choose the maximum y-value, corresponding to the bottom of the image\\n    y_eval = np.max(ploty)\\n\\n    # Calculation of R_curve (radius of curvature)\\n    left_curverad = (\\n        (1 + (2 * left_fit[0] * y_eval + left_fit[1]) ** 2) ** 1.5\\n    ) / np.absolute(2 * left_fit[0])\\n    right_curverad = (\\n        (1 + (2 * right_fit[0] * y_eval + right_fit[1]) ** 2) ** 1.5\\n    ) / np.absolute(2 * right_fit[0])\\n\\n    return left_curverad, right_curverad\";\n",
       "                var nbb_formatted_code = \"def measure_curvature_pixels():\\n    \\\"\\\"\\\"\\n    Calculates the curvature of polynomial functions in pixels.\\n    \\\"\\\"\\\"\\n    # Start by generating our fake example data\\n    # Make sure to feed in your real data instead in your project!\\n    ploty, left_fit, right_fit = generate_data()\\n\\n    # Define y-value where we want radius of curvature\\n    # We'll choose the maximum y-value, corresponding to the bottom of the image\\n    y_eval = np.max(ploty)\\n\\n    # Calculation of R_curve (radius of curvature)\\n    left_curverad = (\\n        (1 + (2 * left_fit[0] * y_eval + left_fit[1]) ** 2) ** 1.5\\n    ) / np.absolute(2 * left_fit[0])\\n    right_curverad = (\\n        (1 + (2 * right_fit[0] * y_eval + right_fit[1]) ** 2) ** 1.5\\n    ) / np.absolute(2 * right_fit[0])\\n\\n    return left_curverad, right_curverad\";\n",
       "                var nbb_cells = Jupyter.notebook.get_cells();\n",
       "                for (var i = 0; i < nbb_cells.length; ++i) {\n",
       "                    if (nbb_cells[i].input_prompt_number == nbb_cell_id) {\n",
       "                        if (nbb_cells[i].get_text() == nbb_unformatted_code) {\n",
       "                             nbb_cells[i].set_text(nbb_formatted_code);\n",
       "                        }\n",
       "                        break;\n",
       "                    }\n",
       "                }\n",
       "            }, 500);\n",
       "            "
      ],
      "text/plain": [
       "<IPython.core.display.Javascript object>"
      ]
     },
     "metadata": {},
     "output_type": "display_data"
    }
   ],
   "source": [
    "def measure_curvature_pixels():\n",
    "    \"\"\"\n",
    "    Calculates the curvature of polynomial functions in pixels.\n",
    "    \"\"\"\n",
    "    # Start by generating our fake example data\n",
    "    # Make sure to feed in your real data instead in your project!\n",
    "    ploty, left_fit, right_fit = generate_data()\n",
    "\n",
    "    # Define y-value where we want radius of curvature\n",
    "    # We'll choose the maximum y-value, corresponding to the bottom of the image\n",
    "    y_eval = np.max(ploty)\n",
    "\n",
    "    # Calculation of R_curve (radius of curvature)\n",
    "    left_curverad = (\n",
    "        (1 + (2 * left_fit[0] * y_eval + left_fit[1]) ** 2) ** 1.5\n",
    "    ) / np.absolute(2 * left_fit[0])\n",
    "    right_curverad = (\n",
    "        (1 + (2 * right_fit[0] * y_eval + right_fit[1]) ** 2) ** 1.5\n",
    "    ) / np.absolute(2 * right_fit[0])\n",
    "\n",
    "    return left_curverad, right_curverad"
   ]
  },
  {
   "cell_type": "code",
   "execution_count": 13,
   "metadata": {},
   "outputs": [
    {
     "name": "stdout",
     "output_type": "stream",
     "text": [
      "1625.0601831657204 1976.2967307714334\n"
     ]
    },
    {
     "data": {
      "application/javascript": [
       "\n",
       "            setTimeout(function() {\n",
       "                var nbb_cell_id = 13;\n",
       "                var nbb_unformatted_code = \"# Calculate the radius of curvature in pixels for both lane lines\\nleft_curverad, right_curverad = measure_curvature_pixels()\\n\\nprint(left_curverad, right_curverad)\\n# Should see values of 1625.06 and 1976.30 here, if using\\n# the default `generate_data` function with given seed number\";\n",
       "                var nbb_formatted_code = \"# Calculate the radius of curvature in pixels for both lane lines\\nleft_curverad, right_curverad = measure_curvature_pixels()\\n\\nprint(left_curverad, right_curverad)\\n# Should see values of 1625.06 and 1976.30 here, if using\\n# the default `generate_data` function with given seed number\";\n",
       "                var nbb_cells = Jupyter.notebook.get_cells();\n",
       "                for (var i = 0; i < nbb_cells.length; ++i) {\n",
       "                    if (nbb_cells[i].input_prompt_number == nbb_cell_id) {\n",
       "                        if (nbb_cells[i].get_text() == nbb_unformatted_code) {\n",
       "                             nbb_cells[i].set_text(nbb_formatted_code);\n",
       "                        }\n",
       "                        break;\n",
       "                    }\n",
       "                }\n",
       "            }, 500);\n",
       "            "
      ],
      "text/plain": [
       "<IPython.core.display.Javascript object>"
      ]
     },
     "metadata": {},
     "output_type": "display_data"
    }
   ],
   "source": [
    "# Calculate the radius of curvature in pixels for both lane lines\n",
    "left_curverad, right_curverad = measure_curvature_pixels()\n",
    "\n",
    "print(left_curverad, right_curverad)\n",
    "# Should see values of 1625.06 and 1976.30 here, if using\n",
    "# the default `generate_data` function with given seed number"
   ]
  },
  {
   "cell_type": "markdown",
   "metadata": {},
   "source": [
    "## From Pixels to Real-World"
   ]
  },
  {
   "cell_type": "markdown",
   "metadata": {},
   "source": [
    "- we've calculated the radius of curvature based on pixel values, so the radius we are reporting is in pixel space, which is not the same as real world space\n",
    "- so we actually need to repeat this calculation after converting our *x* and *y* values to real world space.\n",
    "- this involves measuring how long and wide the section of lane is that we're projecting in our warped image\n",
    "    - we could do this in detail by measuring out the physical lane in the field of view of the camera, but for this project, you can assume that if you're projecting a section of lane similar to the images above, the lane is about 30 meters long and 3.7 meters wide\n",
    "    - or, if you prefer to derive a conversion from pixel space to world space in your own images, compare your images with U.S. regulations that require a minimum lane width of 12 feet or 3.7 meters, and the dashed lane lines are 10 feet or 3 meters long each\n",
    "- let's say that our camera image has 720 relevant pixels in the y-dimension (remember, our image is perspective-transformed!), and we'll say roughly 700 relevant pixels in the x-dimension (our example of fake generated data above used from 200 pixels on the left to 900 on the right, or 700)\n",
    "    - therefore, to convert from pixels to real-world meter measurements, we can use:"
   ]
  },
  {
   "cell_type": "code",
   "execution_count": 14,
   "metadata": {},
   "outputs": [
    {
     "data": {
      "application/javascript": [
       "\n",
       "            setTimeout(function() {\n",
       "                var nbb_cell_id = 14;\n",
       "                var nbb_unformatted_code = \"# Define conversions in x and y from pixels space to meters\\nym_per_pix = 30 / 720  # meters per pixel in y dimension\\nxm_per_pix = 3.7 / 700  # meters per pixel in x dimension\";\n",
       "                var nbb_formatted_code = \"# Define conversions in x and y from pixels space to meters\\nym_per_pix = 30 / 720  # meters per pixel in y dimension\\nxm_per_pix = 3.7 / 700  # meters per pixel in x dimension\";\n",
       "                var nbb_cells = Jupyter.notebook.get_cells();\n",
       "                for (var i = 0; i < nbb_cells.length; ++i) {\n",
       "                    if (nbb_cells[i].input_prompt_number == nbb_cell_id) {\n",
       "                        if (nbb_cells[i].get_text() == nbb_unformatted_code) {\n",
       "                             nbb_cells[i].set_text(nbb_formatted_code);\n",
       "                        }\n",
       "                        break;\n",
       "                    }\n",
       "                }\n",
       "            }, 500);\n",
       "            "
      ],
      "text/plain": [
       "<IPython.core.display.Javascript object>"
      ]
     },
     "metadata": {},
     "output_type": "display_data"
    }
   ],
   "source": [
    "# Define conversions in x and y from pixels space to meters\n",
    "ym_per_pix = 30 / 720  # meters per pixel in y dimension\n",
    "xm_per_pix = 3.7 / 700  # meters per pixel in x dimension"
   ]
  },
  {
   "cell_type": "code",
   "execution_count": 15,
   "metadata": {},
   "outputs": [
    {
     "data": {
      "application/javascript": [
       "\n",
       "            setTimeout(function() {\n",
       "                var nbb_cell_id = 15;\n",
       "                var nbb_unformatted_code = \"import numpy as np\\n\\n\\ndef generate_data(ym_per_pix, xm_per_pix):\\n    \\\"\\\"\\\"\\n    Generates fake data to use for calculating lane curvature.\\n    In your own project, you'll ignore this function and instead\\n    feed in the output of your lane detection algorithm to\\n    the lane curvature calculation.\\n    \\\"\\\"\\\"\\n    # Set random seed number so results are consistent for grader\\n    # Comment this out if you'd like to see results on different random data!\\n    np.random.seed(0)\\n    # Generate some fake data to represent lane-line pixels\\n    ploty = np.linspace(0, 719, num=720)  # to cover same y-range as image\\n    quadratic_coeff = 3e-4  # arbitrary quadratic coefficient\\n    # For each y position generate random x position within +/-50 pix\\n    # of the line base position in each case (x=200 for left, and x=900 for right)\\n    leftx = np.array(\\n        [\\n            200 + (y ** 2) * quadratic_coeff + np.random.randint(-50, high=51)\\n            for y in ploty\\n        ]\\n    )\\n    rightx = np.array(\\n        [\\n            900 + (y ** 2) * quadratic_coeff + np.random.randint(-50, high=51)\\n            for y in ploty\\n        ]\\n    )\\n\\n    leftx = leftx[::-1]  # Reverse to match top-to-bottom in y\\n    rightx = rightx[::-1]  # Reverse to match top-to-bottom in y\\n\\n    # Fit a second order polynomial to pixel positions in each fake lane line\\n    # Fit new polynomials to x,y in world space\\n    left_fit_cr = np.polyfit(ploty * ym_per_pix, leftx * xm_per_pix, 2)\\n    right_fit_cr = np.polyfit(ploty * ym_per_pix, rightx * xm_per_pix, 2)\\n\\n    return ploty, left_fit_cr, right_fit_cr\";\n",
       "                var nbb_formatted_code = \"import numpy as np\\n\\n\\ndef generate_data(ym_per_pix, xm_per_pix):\\n    \\\"\\\"\\\"\\n    Generates fake data to use for calculating lane curvature.\\n    In your own project, you'll ignore this function and instead\\n    feed in the output of your lane detection algorithm to\\n    the lane curvature calculation.\\n    \\\"\\\"\\\"\\n    # Set random seed number so results are consistent for grader\\n    # Comment this out if you'd like to see results on different random data!\\n    np.random.seed(0)\\n    # Generate some fake data to represent lane-line pixels\\n    ploty = np.linspace(0, 719, num=720)  # to cover same y-range as image\\n    quadratic_coeff = 3e-4  # arbitrary quadratic coefficient\\n    # For each y position generate random x position within +/-50 pix\\n    # of the line base position in each case (x=200 for left, and x=900 for right)\\n    leftx = np.array(\\n        [\\n            200 + (y ** 2) * quadratic_coeff + np.random.randint(-50, high=51)\\n            for y in ploty\\n        ]\\n    )\\n    rightx = np.array(\\n        [\\n            900 + (y ** 2) * quadratic_coeff + np.random.randint(-50, high=51)\\n            for y in ploty\\n        ]\\n    )\\n\\n    leftx = leftx[::-1]  # Reverse to match top-to-bottom in y\\n    rightx = rightx[::-1]  # Reverse to match top-to-bottom in y\\n\\n    # Fit a second order polynomial to pixel positions in each fake lane line\\n    # Fit new polynomials to x,y in world space\\n    left_fit_cr = np.polyfit(ploty * ym_per_pix, leftx * xm_per_pix, 2)\\n    right_fit_cr = np.polyfit(ploty * ym_per_pix, rightx * xm_per_pix, 2)\\n\\n    return ploty, left_fit_cr, right_fit_cr\";\n",
       "                var nbb_cells = Jupyter.notebook.get_cells();\n",
       "                for (var i = 0; i < nbb_cells.length; ++i) {\n",
       "                    if (nbb_cells[i].input_prompt_number == nbb_cell_id) {\n",
       "                        if (nbb_cells[i].get_text() == nbb_unformatted_code) {\n",
       "                             nbb_cells[i].set_text(nbb_formatted_code);\n",
       "                        }\n",
       "                        break;\n",
       "                    }\n",
       "                }\n",
       "            }, 500);\n",
       "            "
      ],
      "text/plain": [
       "<IPython.core.display.Javascript object>"
      ]
     },
     "metadata": {},
     "output_type": "display_data"
    }
   ],
   "source": [
    "import numpy as np\n",
    "\n",
    "\n",
    "def generate_data(ym_per_pix, xm_per_pix):\n",
    "    \"\"\"\n",
    "    Generates fake data to use for calculating lane curvature.\n",
    "    In your own project, you'll ignore this function and instead\n",
    "    feed in the output of your lane detection algorithm to\n",
    "    the lane curvature calculation.\n",
    "    \"\"\"\n",
    "    # Set random seed number so results are consistent for grader\n",
    "    # Comment this out if you'd like to see results on different random data!\n",
    "    np.random.seed(0)\n",
    "    # Generate some fake data to represent lane-line pixels\n",
    "    ploty = np.linspace(0, 719, num=720)  # to cover same y-range as image\n",
    "    quadratic_coeff = 3e-4  # arbitrary quadratic coefficient\n",
    "    # For each y position generate random x position within +/-50 pix\n",
    "    # of the line base position in each case (x=200 for left, and x=900 for right)\n",
    "    leftx = np.array(\n",
    "        [\n",
    "            200 + (y ** 2) * quadratic_coeff + np.random.randint(-50, high=51)\n",
    "            for y in ploty\n",
    "        ]\n",
    "    )\n",
    "    rightx = np.array(\n",
    "        [\n",
    "            900 + (y ** 2) * quadratic_coeff + np.random.randint(-50, high=51)\n",
    "            for y in ploty\n",
    "        ]\n",
    "    )\n",
    "\n",
    "    leftx = leftx[::-1]  # Reverse to match top-to-bottom in y\n",
    "    rightx = rightx[::-1]  # Reverse to match top-to-bottom in y\n",
    "\n",
    "    # Fit a second order polynomial to pixel positions in each fake lane line\n",
    "    # Fit new polynomials to x,y in world space\n",
    "    left_fit_cr = np.polyfit(ploty * ym_per_pix, leftx * xm_per_pix, 2)\n",
    "    right_fit_cr = np.polyfit(ploty * ym_per_pix, rightx * xm_per_pix, 2)\n",
    "\n",
    "    return ploty, left_fit_cr, right_fit_cr"
   ]
  },
  {
   "cell_type": "code",
   "execution_count": 16,
   "metadata": {},
   "outputs": [
    {
     "data": {
      "application/javascript": [
       "\n",
       "            setTimeout(function() {\n",
       "                var nbb_cell_id = 16;\n",
       "                var nbb_unformatted_code = \"def measure_curvature_real():\\n    \\\"\\\"\\\"\\n    Calculates the curvature of polynomial functions in meters.\\n    \\\"\\\"\\\"\\n    # Define conversions in x and y from pixels space to meters\\n    ym_per_pix = 30 / 720  # meters per pixel in y dimension\\n    xm_per_pix = 3.7 / 700  # meters per pixel in x dimension\\n\\n    # Start by generating our fake example data\\n    # Make sure to feed in your real data instead in your project!\\n    ploty, left_fit_cr, right_fit_cr = generate_data(ym_per_pix, xm_per_pix)\\n\\n    # Define y-value where we want radius of curvature\\n    # We'll choose the maximum y-value, corresponding to the bottom of the image\\n    y_eval = np.max(ploty)\\n\\n    # Calculation of R_curve (radius of curvature)\\n    left_curverad = (\\n        (1 + (2 * left_fit_cr[0] * y_eval * ym_per_pix + left_fit_cr[1]) ** 2) ** 1.5\\n    ) / np.absolute(2 * left_fit_cr[0])\\n    right_curverad = (\\n        (1 + (2 * right_fit_cr[0] * y_eval * ym_per_pix + right_fit_cr[1]) ** 2) ** 1.5\\n    ) / np.absolute(2 * right_fit_cr[0])\\n\\n    return left_curverad, right_curverad\";\n",
       "                var nbb_formatted_code = \"def measure_curvature_real():\\n    \\\"\\\"\\\"\\n    Calculates the curvature of polynomial functions in meters.\\n    \\\"\\\"\\\"\\n    # Define conversions in x and y from pixels space to meters\\n    ym_per_pix = 30 / 720  # meters per pixel in y dimension\\n    xm_per_pix = 3.7 / 700  # meters per pixel in x dimension\\n\\n    # Start by generating our fake example data\\n    # Make sure to feed in your real data instead in your project!\\n    ploty, left_fit_cr, right_fit_cr = generate_data(ym_per_pix, xm_per_pix)\\n\\n    # Define y-value where we want radius of curvature\\n    # We'll choose the maximum y-value, corresponding to the bottom of the image\\n    y_eval = np.max(ploty)\\n\\n    # Calculation of R_curve (radius of curvature)\\n    left_curverad = (\\n        (1 + (2 * left_fit_cr[0] * y_eval * ym_per_pix + left_fit_cr[1]) ** 2) ** 1.5\\n    ) / np.absolute(2 * left_fit_cr[0])\\n    right_curverad = (\\n        (1 + (2 * right_fit_cr[0] * y_eval * ym_per_pix + right_fit_cr[1]) ** 2) ** 1.5\\n    ) / np.absolute(2 * right_fit_cr[0])\\n\\n    return left_curverad, right_curverad\";\n",
       "                var nbb_cells = Jupyter.notebook.get_cells();\n",
       "                for (var i = 0; i < nbb_cells.length; ++i) {\n",
       "                    if (nbb_cells[i].input_prompt_number == nbb_cell_id) {\n",
       "                        if (nbb_cells[i].get_text() == nbb_unformatted_code) {\n",
       "                             nbb_cells[i].set_text(nbb_formatted_code);\n",
       "                        }\n",
       "                        break;\n",
       "                    }\n",
       "                }\n",
       "            }, 500);\n",
       "            "
      ],
      "text/plain": [
       "<IPython.core.display.Javascript object>"
      ]
     },
     "metadata": {},
     "output_type": "display_data"
    }
   ],
   "source": [
    "def measure_curvature_real():\n",
    "    \"\"\"\n",
    "    Calculates the curvature of polynomial functions in meters.\n",
    "    \"\"\"\n",
    "    # Define conversions in x and y from pixels space to meters\n",
    "    ym_per_pix = 30 / 720  # meters per pixel in y dimension\n",
    "    xm_per_pix = 3.7 / 700  # meters per pixel in x dimension\n",
    "\n",
    "    # Start by generating our fake example data\n",
    "    # Make sure to feed in your real data instead in your project!\n",
    "    ploty, left_fit_cr, right_fit_cr = generate_data(ym_per_pix, xm_per_pix)\n",
    "\n",
    "    # Define y-value where we want radius of curvature\n",
    "    # We'll choose the maximum y-value, corresponding to the bottom of the image\n",
    "    y_eval = np.max(ploty)\n",
    "\n",
    "    # Calculation of R_curve (radius of curvature)\n",
    "    left_curverad = (\n",
    "        (1 + (2 * left_fit_cr[0] * y_eval * ym_per_pix + left_fit_cr[1]) ** 2) ** 1.5\n",
    "    ) / np.absolute(2 * left_fit_cr[0])\n",
    "    right_curverad = (\n",
    "        (1 + (2 * right_fit_cr[0] * y_eval * ym_per_pix + right_fit_cr[1]) ** 2) ** 1.5\n",
    "    ) / np.absolute(2 * right_fit_cr[0])\n",
    "\n",
    "    return left_curverad, right_curverad"
   ]
  },
  {
   "cell_type": "code",
   "execution_count": 17,
   "metadata": {},
   "outputs": [
    {
     "name": "stdout",
     "output_type": "stream",
     "text": [
      "533.7525889210938 m 648.157485143441 m\n"
     ]
    },
    {
     "data": {
      "application/javascript": [
       "\n",
       "            setTimeout(function() {\n",
       "                var nbb_cell_id = 17;\n",
       "                var nbb_unformatted_code = \"# Calculate the radius of curvature in meters for both lane lines\\nleft_curverad, right_curverad = measure_curvature_real()\\n\\nprint(left_curverad, \\\"m\\\", right_curverad, \\\"m\\\")\\n# Should see values of 533.75 and 648.16 here, if using\\n# the default `generate_data` function with given seed number\";\n",
       "                var nbb_formatted_code = \"# Calculate the radius of curvature in meters for both lane lines\\nleft_curverad, right_curverad = measure_curvature_real()\\n\\nprint(left_curverad, \\\"m\\\", right_curverad, \\\"m\\\")\\n# Should see values of 533.75 and 648.16 here, if using\\n# the default `generate_data` function with given seed number\";\n",
       "                var nbb_cells = Jupyter.notebook.get_cells();\n",
       "                for (var i = 0; i < nbb_cells.length; ++i) {\n",
       "                    if (nbb_cells[i].input_prompt_number == nbb_cell_id) {\n",
       "                        if (nbb_cells[i].get_text() == nbb_unformatted_code) {\n",
       "                             nbb_cells[i].set_text(nbb_formatted_code);\n",
       "                        }\n",
       "                        break;\n",
       "                    }\n",
       "                }\n",
       "            }, 500);\n",
       "            "
      ],
      "text/plain": [
       "<IPython.core.display.Javascript object>"
      ]
     },
     "metadata": {},
     "output_type": "display_data"
    }
   ],
   "source": [
    "# Calculate the radius of curvature in meters for both lane lines\n",
    "left_curverad, right_curverad = measure_curvature_real()\n",
    "\n",
    "print(left_curverad, \"m\", right_curverad, \"m\")\n",
    "# Should see values of 533.75 and 648.16 here, if using\n",
    "# the default `generate_data` function with given seed number"
   ]
  },
  {
   "cell_type": "markdown",
   "metadata": {},
   "source": [
    "- an insightful student has suggested an alternative approach which may scale more efficiently\n",
    "- that is, once the parabola coefficients are obtained, in pixels, convert them into meters\n",
    "- for example, if the parabola is `x = a*(y**2) + b*y + c` and `mx` and `my` are the scale for the *x* and *y* axis, respectively (in meters/pixel) then the scaled parabola is `x = mx/(my**2)*a*(y**2) + (mx/my)*b*y + c`"
   ]
  },
  {
   "cell_type": "markdown",
   "metadata": {},
   "source": [
    "- check out the U.S. government specifications for highway curvature to see how your numbers compare\n",
    "http://onlinemanuals.txdot.gov/txdotmanuals/rdw/horizontal_alignment.htm#BGBHGEGC\n",
    "- there's no need to worry about absolute accuracy in this case, but your results should be \"order of magnitude\" correct"
   ]
  },
  {
   "cell_type": "markdown",
   "metadata": {},
   "source": [
    "## Bonus Round: Computer Vision"
   ]
  },
  {
   "cell_type": "markdown",
   "metadata": {},
   "source": [
    "### Lane Finding with Semantic Segmentation"
   ]
  },
  {
   "cell_type": "markdown",
   "metadata": {},
   "source": [
    "**Fully Convolutional Networks for Semantic Segmentation** by E. Shelhamer, J. Long and T. Darrell\n",
    "https://arxiv.org/abs/1605.06211\n",
    "\n",
    "***Abstract:*** *Convolutional networks are powerful visual models that yield hierarchies of features. We show that convolutional networks by themselves, trained end-to-end, pixels-to-pixels, improve on the previous best result in semantic segmentation. Our key insight is to build \"fully convolutional\" networks that take input of arbitrary size and produce correspondingly-sized output with efficient inference and learning. We define and detail the space of fully convolutional networks, explain their application to spatially dense prediction tasks, and draw connections to prior models. We adapt contemporary classification networks (AlexNet, the VGG net, and GoogLeNet) into fully convolutional networks and transfer their learned representations by fine-tuning to the segmentation task. We then define a skip architecture that combines semantic information from a deep, coarse layer with appearance information from a shallow, fine layer to produce accurate and detailed segmentations. [...]*\n",
    "\n",
    "You can use the KITTI road dataset with the above technique for a model that can detect open space on the road.\n",
    "http://www.cvlibs.net/datasets/kitti/eval_road.php"
   ]
  },
  {
   "cell_type": "markdown",
   "metadata": {},
   "source": [
    "Lane Detection with Deep Learning (Part 1) and (Part 2) by M. Virgo\n",
    "- https://towardsdatascience.com/lane-detection-with-deep-learning-part-1-9e096f3320b7\n",
    "- https://towardsdatascience.com/lane-detection-with-deep-learning-part-2-3ba559b5c5af\n",
    "\n",
    "***Summary:*** *Udacity SDC student (and now Udacian!) investigates using a deep learning approach to lane detection in order to improve upon the Advanced Lane Finding project, eventually building a model with a fully convolutional neural network that detects the road is a wider variety of situations and at faster speed.*"
   ]
  },
  {
   "cell_type": "markdown",
   "metadata": {},
   "source": [
    "### Other Lane Finding Techniques"
   ]
  },
  {
   "cell_type": "markdown",
   "metadata": {},
   "source": [
    "The below paper uses a multi-task model to identify lane and road markings, as well as vanishing point of the road, in order to build a robust model.\n",
    "\n",
    "VPGNet: Vanishing Point Guided Network for Lane and Road Marking Detection and Recognition by S. Lee, et. al.\n",
    "https://arxiv.org/abs/1710.06288\n",
    "\n",
    "***Abstract:*** *In this paper, we propose a unified end-to-end trainable multi-task network that jointly handles lane and road marking detection and recognition that is guided by a vanishing point under adverse weather conditions. We tackle rainy and low illumination conditions [...] At night, color distortion occurs under limited illumination. As a result, no benchmark dataset exists and only a few developed algorithms work under poor weather conditions. To address this shortcoming, we build up a lane and road marking benchmark which consists of about 20,000 images with 17 lane and road marking classes under four different scenarios: no rain, rain, heavy rain, and night. We train and evaluate several versions of the proposed multi-task network and validate the importance of each task. The resulting approach, VPGNet, can detect and classify lanes and road markings, and predict a vanishing point with a single forward pass. Experimental results show that our approach achieves high accuracy and robustness under various conditions in real-time (20 fps). [...]*"
   ]
  },
  {
   "cell_type": "markdown",
   "metadata": {},
   "source": [
    "### Vehicle Detection"
   ]
  },
  {
   "cell_type": "markdown",
   "metadata": {},
   "source": [
    "The below paper builds a model to both detect vehicles as well as estimate their dimensions along the road.\n",
    "\n",
    "Learning to Map Vehicles into Bird's Eye View by A. Palazzi, et. al.\n",
    "https://arxiv.org/abs/1706.08442\n",
    "\n",
    "***Abstract:*** *Awareness of the road scene is an essential component for both autonomous vehicles and Advances Driver Assistance Systems and is gaining importance both for the academia and car companies. This paper presents a way to learn a semantic-aware transformation which maps detections from a dashboard camera view onto a broader bird's eye occupancy map of the scene. To this end, a huge synthetic dataset featuring 1M couples of frames, taken from both car dashboard and bird's eye view, has been collected and automatically annotated. A deep-network is then trained to warp detections from the first to the second view. We demonstrate the effectiveness of our model against several baselines and observe that is able to generalize on real-world data despite having been trained solely on synthetic ones.*"
   ]
  },
  {
   "cell_type": "code",
   "execution_count": null,
   "metadata": {},
   "outputs": [],
   "source": []
  }
 ],
 "metadata": {
  "kernelspec": {
   "display_name": "Python 3",
   "language": "python",
   "name": "python3"
  },
  "language_info": {
   "codemirror_mode": {
    "name": "ipython",
    "version": 3
   },
   "file_extension": ".py",
   "mimetype": "text/x-python",
   "name": "python",
   "nbconvert_exporter": "python",
   "pygments_lexer": "ipython3",
   "version": "3.8.1"
  }
 },
 "nbformat": 4,
 "nbformat_minor": 2
}
