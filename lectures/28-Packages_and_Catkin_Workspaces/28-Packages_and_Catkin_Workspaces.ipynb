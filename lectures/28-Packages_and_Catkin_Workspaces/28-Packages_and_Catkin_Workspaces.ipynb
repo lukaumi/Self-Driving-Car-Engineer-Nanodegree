{
 "cells": [
  {
   "cell_type": "markdown",
   "metadata": {},
   "source": [
    "- now that you know the basics about ROS, let's dive into how to bundle packages together and build a software system\n",
    "- it might sound like a detour to do this in ROS as opposed to just one thread in Python but, I can tell you once you build a self-driving car you often have up to 50 processes running at the same time\n",
    "- some might even crash while you're driving and having a flexible architecture like ROS wrapped around it, it would be supremely helpful to build scalable software"
   ]
  },
  {
   "cell_type": "markdown",
   "metadata": {},
   "source": [
    "# Overview of Catkin Workspaces and Packages"
   ]
  },
  {
   "cell_type": "markdown",
   "metadata": {},
   "source": [
    "- ROS provides a powerful build and package management system called Catkin\n",
    "- a Catkin workspace is essentially a directory where Catkin packages are built, modified and installed\n",
    "- typically when you're developing a ROS based robot or project, you will be working out of a single workspace\n",
    "- this singular workspace will hold a wide variety of Catkin packages\n",
    "\n",
    "\n",
    "- all ROS software components are organized into and distributed as Catkin packages\n",
    "- similar to workspaces, Catkin packages are nothing more than directories containing a variety of resources which, when considered together constitute some sort of useful module\n",
    "- Catkin packages may contain source code for nodes, useful scripts, configuration files and more"
   ]
  },
  {
   "cell_type": "markdown",
   "metadata": {},
   "source": [
    "### Catkin packages\n",
    "\n",
    "- ROS software is organized and distributed into packages, which are directories that might contain source code for ROS nodes, libraries, datasets, and more\n",
    "- each package also contains a file with build instructions - the CMakeLists.txt file, and a package.xml file with information about the package\n",
    "- packages enable ROS users to organize useful functionality in a convenient and reusable format"
   ]
  },
  {
   "cell_type": "markdown",
   "metadata": {},
   "source": [
    "### Catkin workspaces\n",
    "\n",
    "- a Catkin workspace is a top-level directory where you build, install, and modify catkin packages\n",
    "- the workspace contains all of the packages for your project, along with several other directories for the catkin system to use when building executables and other targets from your source code"
   ]
  },
  {
   "cell_type": "markdown",
   "metadata": {},
   "source": [
    "# Create a Workspace"
   ]
  },
  {
   "cell_type": "markdown",
   "metadata": {},
   "source": [
    "#### Step 1: mkdir -p ~/catkin_ws/src\n",
    "\n",
    "- all of the ROS related code you develop throughout this course will reside in your catkin workspace\n",
    "- you only need to create and initialize the workspace once\n",
    "\n",
    "\n",
    "- first, create the top level catkin workspace directory and a sub-directory named `src` (pronounced source)\n",
    "- the top level directory’s name is arbitrary, but is often called `catkin_ws` (an abbreviation of catkin_workspace), so we will follow this convention\n",
    "\n",
    "\n",
    "#### Step 2: cd ~/catkin_ws/src\n",
    "\n",
    "- next, navigate to the `src` directory with the `cd` command\n",
    "\n",
    "\n",
    "#### Step 3: catkin_init_workspace\n",
    "\n",
    "- now you can initialize the catkin workspace:\n",
    "- let’s list the contents of the current directory to see what changed\n",
    "```shell\n",
    "ls -l\n",
    "```\n",
    "- notice that a symbolic link (`CMakeLists.txt`) has been created to `/opt/ros/kinetic/share/catkin/cmake/toplevel.cmake`\n",
    "\n",
    "\n",
    "#### Step 4: cd ~/catkin_ws\n",
    "\n",
    "- return to the top level directory\n",
    "\n",
    "\n",
    "#### Step 5: catkin_make\n",
    "\n",
    "- build the workspace\n",
    "- you must issue this command from within the top level directory (i.e., within `catkin_ws` NOT `catkin_ws/src`)\n",
    "- you now have two new directories: `build` and `devel`\n",
    "  - the aptly named `build` directory is the build space for C++ packages and, for the most part, you will not interact with it\n",
    "  - the `devel` directory does contain something of interest, a file named `setup.bash` which must be sourced before using the catkin workspace\n",
    "\n",
    "\n",
    "#### Step 6: Commentary\n",
    "\n",
    "- while it is not essential that you have a deep understanding of what the catkin build system is, particularly if you are doing most of your development work in Python, it is helpful to learn about it\n",
    "- the curious reader is encouraged to read the [ROS wiki](http://wiki.ros.org/catkin/conceptual_overview)\n",
    "- before you begin to work with and develop your own ROS package, you should take a moment to get acquainted with catkin workspace conventional directory structure as described in the [ROS Enhancement Proposal (REP) 128](http://www.ros.org/reps/rep-0128.html)"
   ]
  },
  {
   "cell_type": "markdown",
   "metadata": {},
   "source": [
    "# Add a Package"
   ]
  },
  {
   "cell_type": "markdown",
   "metadata": {},
   "source": [
    "- one of the biggest benefits of using ROS is that it has a really large community of users and developers, so there is a lot of code that you can use\n",
    "- let’s clone an existing package and add it to our newly created workspace\n",
    "- you will start by navigating to the `src` directory and cloning the `simple_arm` package for this lesson from its github repo\n",
    "```shell\n",
    "cd ~/catkin_ws/src\n",
    "git clone https://github.com/udacity/simple_arm_01.git simple_arm\n",
    "```\n",
    "\n",
    "\n",
    "- after the repo has finished cloning, you can change directory to the top-level of the ros workspace and build the new package\n",
    "```shell\n",
    "cd ~/catkin_ws\n",
    "catkin_make\n",
    "```\n",
    "- I see a CMake error \"Could not find a package configuration file provided by controller_manager\"\n",
    "\n",
    "\n",
    "- I happen to know that controller_manager refers to a ROS package from ROS Control\n",
    "- we can fix this by installing the associated Debian package\n",
    "- if I didn't already know this, I would probably have to rely on a Google search to figure out the exact name of the package required\n",
    "\n",
    "```shell\n",
    "sudo apt-get install ros-kinetic-controller-manager\n",
    "``` \n",
    "- some students have had success using the following commands to install missing packages:\n",
    "```shell\n",
    "source devel/setup.bash \n",
    "rosdep install simple_arm\n",
    "```\n",
    "- now that we have the controller-manager package let’s try building again"
   ]
  },
  {
   "cell_type": "markdown",
   "metadata": {},
   "source": [
    "# Roslaunch"
   ]
  },
  {
   "cell_type": "markdown",
   "metadata": {},
   "source": [
    "- `roslaunch` allows you to do the following:\n",
    "  - launch ROS Master and multiple nodes with one simple command\n",
    "  - set default parameters on the parameter server\n",
    "  - automatically re-spawn processes that have died\n",
    "- to use `roslaunch`, you must first make sure that your workspace has been built, and sourced:\n",
    "```shell\n",
    "cd ~/catkin_ws\n",
    "catkin_make\n",
    "```\n",
    "\n",
    "- once the workspace has been built, you can source it’s setup script:\n",
    "```shell\n",
    "source devel/setup.bash\n",
    "```\n",
    "\n",
    "- with your workspace sourced you can now launch simple_arm:\n",
    "```shell\n",
    "roslaunch simple_arm robot_spawn.launch\n",
    "```"
   ]
  },
  {
   "cell_type": "markdown",
   "metadata": {},
   "source": [
    "# Rosdep"
   ]
  },
  {
   "cell_type": "markdown",
   "metadata": {},
   "source": [
    "- after the last exercise, you might have noticed the following warning line: `The controller spawner couldn’t find the expected controller_manager ROS interface.`\n",
    "- ROS packages have two different types of dependencies: build dependencies, and run dependencies\n",
    "- this error message was due to a missing runtime dependency\n",
    "\n",
    "\n",
    "- the `rosdep` tool will check for a package's missing dependencies, download them, and install them\n",
    "- to check for missing dependencies in the simple_arm package:\n",
    "```shell\n",
    "rosdep check simple_arm\n",
    "```\n",
    "- in order for the command to work, the workspace must be sourced\n",
    "\n",
    "\n",
    "- this gives you a list of the system dependencies that are missing, and where to get them\n",
    "- to have rosdep install packages, invoke the following command from the root of the catkin workspace\n",
    "```shell\n",
    "rosdep install -i simple_arm\n",
    "```"
   ]
  },
  {
   "cell_type": "markdown",
   "metadata": {},
   "source": [
    "# Dive Deeper into Packages"
   ]
  },
  {
   "cell_type": "markdown",
   "metadata": {},
   "source": [
    "- here you'll begin your dive into ROS packages by creating one of your own\n",
    "- all ROS packages should reside under the `src` directory\n",
    "\n",
    "\n",
    "- assuming you have already sourced your ROS environment and your catkin workspace, navigate to the `src` directory:\n",
    "- the syntax for creating a catkin package is simply,\n",
    "```\n",
    "catkin_create_pkg <your_package_name> [dependency1 dependency2 …]\n",
    "```\n",
    "\n",
    "\n",
    "- the name of your package is arbitrary but you will run into trouble if you have multiple packages with the same name in your catkin workspace\n",
    "- try to make it descriptive and unique without being excessively long\n",
    "- let’s name ours “first_package” and we won’t specify any dependencies\n",
    "- by convention, package names are lowercase\n",
    "```shell\n",
    "catkin_create_pkg first_package\n",
    "```\n",
    "\n",
    "\n",
    "- you just created your first catkin package!\n",
    "- navigating inside our newly created package reveals that it contains just two files, `CMakeLists.txt` and `package.xml`\n",
    "- this is a minimum working catkin package\n",
    "- it is not very interesting because it doesn't do anything, but it meets all the requirements for a catkin package\n",
    "- one of the main functions of these two files is to describe dependencies and how catkin should interact with them\n",
    "- we won’t pay much attention to them right now but in future lessons you will see how to modify them\n",
    "\n",
    "\n",
    "- I mentioned earlier that ROS packages have a conventional directory structure\n",
    "- let’s take a look at a more typical package\n",
    "  - scripts (python executables)\n",
    "  - src (C++ source files)\n",
    "  - msg (for custom message definitions)\n",
    "  - srv (for service message definitions)\n",
    "  - include -> headers/libraries that are needed as dependencies\n",
    "  - config -> configuration files\n",
    "  - launch -> provide a more automated way of starting nodes\n",
    "- other folders may include\n",
    "  - urdf (Universal Robot Description Files)\n",
    "  - meshes (CAD files in .dae (Collada) or .stl (STereoLithography) format)\n",
    "  - worlds (XML like files that are used for Gazebo simulation environments)"
   ]
  },
  {
   "cell_type": "markdown",
   "metadata": {},
   "source": [
    "# Recap"
   ]
  },
  {
   "cell_type": "markdown",
   "metadata": {},
   "source": [
    "- you now have some experience with:\n",
    "  - creating workspaces\n",
    "  - adding packages\n",
    "  - managing dependencies\n",
    "  - troubleshooting build errors\n",
    "\n",
    "\n",
    "- additionally, you’ve had your first peek at Gazebo, a powerful tool for simulation\n",
    "- before you actually begin writing ROS nodes in the next Lesson, make sure to take a peek at the links to the official [ROS wiki](http://wiki.ros.org/) documentation surrounding the topics I’ve discussed here\n",
    "- they will be very valuable to you in the following lesson, and throughout the rest of the program"
   ]
  }
 ],
 "metadata": {
  "kernelspec": {
   "display_name": "Python 3",
   "language": "python",
   "name": "python3"
  },
  "language_info": {
   "codemirror_mode": {
    "name": "ipython",
    "version": 3
   },
   "file_extension": ".py",
   "mimetype": "text/x-python",
   "name": "python",
   "nbconvert_exporter": "python",
   "pygments_lexer": "ipython3",
   "version": "3.7.6"
  }
 },
 "nbformat": 4,
 "nbformat_minor": 4
}
