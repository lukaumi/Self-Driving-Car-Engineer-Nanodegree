{
 "cells": [
  {
   "cell_type": "markdown",
   "metadata": {},
   "source": [
    "- the behavior planning team is responsible for providing guidance to the trajectory planner about what sorts of maneuvers they should plan trajectories for\n",
    "- if you think about the overall flow of data in a self-driving car:\n",
    "  - operating on the fastest time scales you have motion control\n",
    "  - with a slightly lower frequency than that you have sensor fusion\n",
    "  - just lower than that you have localization and trajectory planning\n",
    "  - next is prediction\n",
    "  - at the top of this diagram is behavior planning with the lowest update rate\n",
    "- the inputs to behavior planning come from the prediction module and the localization module, both of which get their inputs from the sensor fusion\n",
    "- the output from the behavior module goes directly to the trajectory planner, which also takes input from prediction and localization so that it can send trajectories to the motion controller\n",
    "\n",
    "\n",
    "- everything inside the green box in the image below is the focus of this course and is commonly referred to as *path planning*\n",
    "- in this lesson, you will learn what exactly has to happen in this comparatively long time span\n",
    "  - intuitively this longtime span comes from the fact that the behavior planner has to incorporate a lot of data to make decisions about fairly long time horizons in the order of 10 seconds or even more\n",
    "\n",
    "<img src=\"resources/sdc_data_flow.png\"/>"
   ]
  },
  {
   "cell_type": "markdown",
   "metadata": {},
   "source": [
    "# Understanding Output"
   ]
  },
  {
   "cell_type": "markdown",
   "metadata": {},
   "source": [
    "- it's possible to suggest a wide variety of behaviors by specifying only a few quantities\n",
    "- for example by specifying only a target lane, a target vehicle (to follow), a target speed, and a time to reach these targets, we can make suggestions as nuanced as \"stay in your lane but get behind that vehicle in the right lane so that you can pass it when the gap gets big enough\"\n",
    "\n",
    "\n",
    "- look at the picture below and 5 potential json representations of output and see if you can match the json representation with the corresponding verbal suggestion\n",
    "\n",
    "<img src=\"resources/understanding_output_quiz.jpg\"/>\n",
    "\n",
    "#### Output A\n",
    "```json\n",
    "{\n",
    "    \"target_lane_id\" : 2,\n",
    "    \"target_leading_vehicle_id\": 3,\n",
    "    \"target_speed\" : null,\n",
    "    \"seconds_to_reach_target\" : null,\n",
    "}\n",
    "```\n",
    "\n",
    "#### Output B\n",
    "```json\n",
    "{\n",
    "    \"target_lane_id\" : 3,\n",
    "    \"target_leading_vehicle_id\": null,\n",
    "    \"target_speed\" : 20.0,\n",
    "    \"seconds_to_reach_target\" : 5.0,\n",
    "}\n",
    "```\n",
    "\n",
    "#### Output C\n",
    "```json\n",
    "{\n",
    "    \"target_lane_id\" : 2,\n",
    "    \"target_leading_vehicle_id\": null,\n",
    "    \"target_speed\" : 15.0,\n",
    "    \"seconds_to_reach_target\" : 10.0,\n",
    "}\n",
    "```\n",
    "\n",
    "#### Output D\n",
    "```json\n",
    "{\n",
    "    \"target_lane_id\" : 2,\n",
    "    \"target_leading_vehicle_id\": 2,\n",
    "    \"target_speed\" : null,\n",
    "    \"seconds_to_reach_target\" : 5.0,\n",
    "}\n",
    "```\n",
    "\n",
    "#### Output E\n",
    "```json\n",
    "{\n",
    "    \"target_lane_id\" : 1,\n",
    "    \"target_leading_vehicle_id\": 2,\n",
    "    \"target_speed\" : null,\n",
    "    \"seconds_to_reach_target\" : 5.0,\n",
    "}\n",
    "```\n",
    "\n",
    "\n",
    "- **Q:** Match the verbal description of each behavior to the corresponding json representation.\n",
    "- **A:**\n",
    "  - \"Just stay in your lane and keep following the car in front of you\" -- A\n",
    "  - \"Let's pass this car! Get in the left lane and follow that car\" -- E\n",
    "  - \"Let's pass this car! But first we have to match speeds with the car in the left lane. Stay in this lane but get behind that car in the left lane and match their speed.\" -- D\n",
    "  - \"Whoa! This car we've been following is going too fast. Stop trying to follow it and just try to go the speed limit.\" -- C\n",
    "  - \"Get in the right lane soon.\" -- B"
   ]
  },
  {
   "cell_type": "markdown",
   "metadata": {},
   "source": [
    "# The Behavior Problem"
   ]
  },
  {
   "cell_type": "markdown",
   "metadata": {},
   "source": [
    "- imagine you're driving in a city with your friend and you have a goal that you're trying to get to\n",
    "- you are sitting in the passenger seat and your friend is driving\n",
    "- you plug that goal into Google Maps and you get some route that will get you to your destination\n",
    "- the driver shouldn't be concerned about the details of what the route exactly is, because the driver trusts that you acting, as the navigator, will tell them what maneuvers they need to make and it's understood that they are just responsible for executing them\n",
    "- in this situation, the responsibilities of the passenger are analogous to the responsibilities of a behavior planner in a self-driving car\n",
    "- so if you tell your friend to go left, they will do that\n",
    "- when you tell the driver to pass a slow vehicle, the driver won't worry about whether they have enough time to do so because they will assume that you have thought about that and that you're confident that they can make it\n",
    "- but the navigator is not responsible for safety\n",
    "- if you tell the driver to get back to the left lane but there is a vehicle in the way, you will assume that they will wait to move left until there is enough room to do so safely\n",
    "- the navigator will also tell the driver when to keep their lane and when it is time to turn or change lanes or maybe adjust the speed\n",
    "- finally, once you're arrived at your destination, you will tell the driver to stop\n",
    "\n",
    "\n",
    "- to summarize, the behavior planner is currently a black box which takes as input a map of the world, a route to the destinations, and predictions about what other static and dynamic obstacles are likely to do, and it produces as output a suggested maneuver for the vehicle which the trajectory planner is responsible for reaching collision-free, smooth, and safe\n",
    "- the goal of this lesson is to open up this black box and learn how to implement a behavior planner\n",
    "\n",
    "\n",
    "- the responsibilities of the behavior module are to suggest maneuvers which are feasible, as safe as possible, legal, and efficient\n",
    "- what the behavior planner is not responsible for are execution details and collision avoidance\n",
    "\n",
    "\n",
    "- the approach to behavior planning we are going to teach in this lesson is the same one used by most of the vehicles, including the winning one in the DARPA Urban Challenge--in fact, it's the approach to behavior planning that Mercedes used in their Bertha Benz Drive, which you can see is capable of handling complex traffic situations like navigating intersections and dense urban traffic\n",
    "- while this approach is not necessarily the most common anymore, for reasons we will discuss later, it is widely known in the field and it does give a very high-level understanding of what is going on in a behavior planner"
   ]
  },
  {
   "cell_type": "markdown",
   "metadata": {},
   "source": [
    "# Finite State Machines"
   ]
  },
  {
   "cell_type": "markdown",
   "metadata": {},
   "source": [
    "- in the previous demonstration, the navigator gave various suggestions about what to do next\n",
    "- the instructions they gave were about things like changing lanes, following lanes, turning and so on but in fact there really aren't that many types of suggestions you would expect to hear from a navigator\n",
    "- in this lesson we're going to teach an approach to behavior planning that uses something called a Finite State Machine to solve the behavior planning problem\n",
    "- a Finite State Machine makes decisions based on a finite set of discrete states\n",
    "\n",
    "\n",
    "- in this example below, when initialized, a Finite State Machine begins in some start state, let's call it $S0$\n",
    "- any pair of states within the finite state machine can be connected by one or more transitions\n",
    "- and sometimes there is a transition back to the same state\n",
    "  - this is called a Self Transition\n",
    "- not all transitions are necessarily possible\n",
    "- for example, $S4$ doesn't transition to any other state\n",
    "  - in the language of finite state machines this would be called an Accepting State\n",
    "- for non-accepting states there can often be multiple potential successor states\n",
    "- to decide which state to transition to next, a Finite State Machine needs to handle some sort of input and then use a state transition function to decide what state to go next\n",
    "\n",
    "<img src=\"resources/finite_state_machines.png\"/>"
   ]
  },
  {
   "cell_type": "markdown",
   "metadata": {},
   "source": [
    "# Formalizing Finite State Machines"
   ]
  },
  {
   "cell_type": "markdown",
   "metadata": {},
   "source": [
    "- let's consider a simple vending machine where everything costs 20 cents and let's say that this vending machine only takes nickels and dimes but nothing larger or smaller\n",
    "- then we can model the state of this vending machine by the amount of money that's been deposited\n",
    "  - the start state would be zero cents\n",
    "  - from this state there are two things that can happen\n",
    "    - we could put in a nickel, which would make the state five cents\n",
    "    - we could put in a dime to take the state to 10 cents\n",
    "  - the rest of the transitions are fairly straightforward until we think about what to do if we are in the 15 cent state and someone puts in a dime\n",
    "    - we could just count that as 20 but let's say that this machine requires exact change so that a dime would just fall through and come out of the little tray at the bottom of the machine\n",
    "\n",
    "\n",
    "- as you can see, finite state machines are pretty straightforward conceptually\n",
    "- they have their strengths and weaknesses\n",
    "- strengths:\n",
    "  - finite state machines are very easy to reason about\n",
    "    - they are basically self-documenting because they map the logical state of a system directly to the physical state\n",
    "    - when a nickel goes into the vending machine the state changes to the state that is five cents bigger than the current one\n",
    "  - they are maintainable\n",
    "    - if we wanted to tweak this machine so that everything costs a quarter it would be pretty trivial to just add one more state\n",
    "- weaknesses:\n",
    "  - they are easily abused\n",
    "    - if they aren't designed well to begin with or if the problem changes you can easily find yourself saying things like, \"I hadn't considered that...\", \"Let's just add another state...\" and this can lead to some sloppy code and sloppy logic which in practice means that finite state machines can be very difficult to maintain as the states base gets bigger\n",
    "\n",
    "<img src=\"resources/finite_state_machines_vending_machine_example.png\"/>"
   ]
  },
  {
   "cell_type": "markdown",
   "metadata": {},
   "source": [
    "# FSM Intuition"
   ]
  },
  {
   "cell_type": "markdown",
   "metadata": {},
   "source": [
    "<img src=\"resources/fsm_intuition_quiz_vending_machine.jpg\"/>\n",
    "\n",
    "- **Q:** Which state in the vending machine example was the start state?\n",
    "- **A:** 0 cents.\n",
    "\n",
    "\n",
    "- **Q:** Which state(s) were accepting states?\n",
    "- **A:** 25 cents. An \"accepting state\" only has transitions into it and no transitions out of it.\n",
    "\n",
    "\n",
    "- **Q:** If we wanted this machine to also accept pennies (1 cent coin) how many additional states would we have to add?\n",
    "- **A:** 20. We would need one state for each integer between 0 and 25 (which is 26). We already have 6 states. So we would need 20 new states."
   ]
  },
  {
   "cell_type": "markdown",
   "metadata": {},
   "source": [
    "# States for Self Driving Cars"
   ]
  },
  {
   "cell_type": "markdown",
   "metadata": {},
   "source": [
    "- when we're thinking about a simple vending machine it's easy to enumerate the states\n",
    "- now let's consider the states we may want to model for car driving on a highway\n",
    "- let's just throw out all the ideas we can come up with and then prune the list afterwards so we can show how we might think about coming up with a finite state machine from scratch\n",
    "  - what happens if we are the only car on the road?\n",
    "    - we would need a state for normal staying in your lane driving (keep lane)\n",
    "    - if we are changing lanes, we want a state to represent that\n",
    "    - or maybe two states since changing lanes to the left is different than to the right\n",
    "  - what changes if there's a vehicle in front of us?\n",
    "    - we might want to stay behind it, so we should have a state for that or we might want to pass it\n",
    "    - I suppose, but isn't pass just a lane change to the left and then a lane change to the right?--do we really need in your state for that?\n",
    "  - what changes if we had more cars?\n",
    "    - I could imagine in this situation you might want to slow down so that you could merge into this gap here and then pass this car if it's going slow\n",
    "    - we should really have a slow downstate which I guess means we will also need a speed upstate\n",
    "    - we should probably add a stop state in case there is some emergency situation\n",
    "    - I guess we could do all of that at once by having a keep target speed state\n",
    "    - shouldn't speed just be dictated by the lane you're driving in and the speed limit?\n",
    "    - what if we just add a prepare lane change state to represent when the ego vehicle is trying to go next to an empty gap in traffic before a lane change?\n",
    "    - that could work but we should probably have a prepare lane change left and to prepare a lane change right, since those really are different maneuvers\n",
    "    - we could also turn on the turn signals down\n",
    "\n",
    "\n",
    "- the truth is there isn't a single correct set of states to choose from\n",
    "- on one hand we want to keep our state space as small as possible for maintainability reasons, but on the other hand we want to make sure we have enough logical states to actually represent all the physical states that we care about\n",
    "- it's not easy to find the perfect set of states for this scenario"
   ]
  },
  {
   "cell_type": "markdown",
   "metadata": {},
   "source": [
    "# The States We'll Use"
   ]
  },
  {
   "cell_type": "markdown",
   "metadata": {},
   "source": [
    "- in planning this lesson, we knew we wanted to focus on highway driving, but we still debated what states we should use for our finite state machine\n",
    "- we quickly agreed on three (keep lane, change lane right, change lane left), since it seemed to us like these were the bare minimum and that a single lane change wouldn't suffice\n",
    "- we also agreed to rule out a lot of states because most of these can be thought of as various implementations of the keep lane state\n",
    "- but these last two, prepare lane change left and prepare lane change right, we were unsure about\n",
    "  - eventually, we did decide to use these states for these lessons--so we should probably clarify what we mean by these states\n",
    "\n",
    "<img src=\"resources/fsm_states_used_in_lecture.png\"/>\n",
    "\n",
    "- let's start by imagining what vehicle behavior would look like without these two prep states\n",
    "- first, let me explain how this example will work\n",
    "- up here we have a two-lane highway with traffic driving to the right\n",
    "- this is our self-driving car (blue) and other traffic is shown in red\n",
    "- as you watch this animation, you should imagine watching from a helicopter which is flying above the highway at the self-driving car's target speed\n",
    "- these red trails indicate the relative speed of other vehicles\n",
    "- in this situation, the vehicles in lane one are moving faster than we are while the vehicles in lane two are moving slower\n",
    "- when we only have three states plus a fourth ready state, the finite state machine looks like this\n",
    "- we'll assume that as we begin watching we are already in the keep lane state\n",
    "- before we watch what happens to our vehicle when it uses this finite state machine, let me explain what these states mean\n",
    "\n",
    "\n",
    "- the lane keep state attempts to stay in the current lane by staying near the center line for that lane\n",
    "  - thinking in finite coordinates, we might just say that target $d$ for the vehicle is whatever the $d$ for the lane is\n",
    "  - for the $s$ direction, keep lane state attempts to drive at the vehicle's target speed when that's feasible, but when it's not, it will try to drive at whatever speed is safest for the lane\n",
    "- for lane changes the goal is to move from the initial lane to the target lane\n",
    "  - the $d$ behavior is what you might expect to move left or right as appropriate so the target $d$ is the $d$ for whatever lane is to the left or right of the ego's current lane\n",
    "  - for $s$, the same rules as lane keeping apply--the vehicle will try to drive at the target speed, but if that's not feasible, then it will drive at whatever speed is safe for the initial lane\n",
    "\n",
    "\n",
    "- now, let's observe the vehicle's behavior as we move forward in time\n",
    "- for the first few timesteps, we see that the ego-vehicle gets closer and closer to vehicle 2.2 while the vehicle in the left lane pass the ego-vehicle\n",
    "- during this time the vehicle remains in the lane keep state since there isn't really enough gap to make a safe lane change\n",
    "- note that at this point the ego-vehicle does begin to slow down even though it doesn't change state\n",
    "- that's because the lane keep state contains this behavior\n",
    "- when the target speed is no longer feasible, it will adjust speed to something safe for the lane\n",
    "- at this point, the vehicle has decided that the lane change left is the best move\n",
    "  - now, in the lane change state, you can see the vehicle has moved left in its lane but hasn't adjusted its speed\n",
    "  - this is consistent with the rules we defined for lane change behavior\n",
    "- at this point, the vehicle has crossed the dotted line, so its current lane is the left lane\n",
    "- now it wants to transition back to the lane keep state to stay in this lane, and when it does that, it immediately starts accelerating so it can get to a speed that's safe for this lane\n",
    "- right now it is moving at the same speed as other traffic in the left lane, which it can continue doing until it passes the vehicles on the right\n",
    "- even though this worked, there were some problems\n",
    "  - first, even when it was clear that there was a gap we could probably move into on the left, we had no way to tell the vehicle to try to get alongside that gap--we had to just wait for the gap to get close to us\n",
    "  - second, this lane change wasn't all that safe--ideally, we would have been able to get closer to the left lane speed before actually making the lane change\n",
    "  - third, it isn't clear when we would have turned on the turn signal in this scenario--the turn signal is the responsibility of the behavior team and ideally we would like to turn it on a few seconds before we actually start changing lanes\n",
    "\n",
    "\n",
    "- using this finite state machine, it would have been hard to do that\n",
    "- to address that problem, we can introduce a prepare for lane change state\n",
    "- in this state we do whatever we can to prepare for a lane change left or right, which means in the $d$ directions we still can stay in this current lane but in the $s$ direction we tried to match the position and speed of some gap in one of the adjacent lanes\n",
    "- this is also when we would turn on the appropriate signal\n",
    "- we also changed the finite state machine to look like this\n",
    "- and note that the only way to change lanes is to first prepare for a lane change\n",
    "- let's see what that would look like\n",
    "- at the first timestep we can decide to prepare for a lane change by tracking this gap over here, which allows us to immediately start slowing down\n",
    "- at this point, the car may begin slowly increasing speed to get closer to the left lane speed, and at this point the vehicle has reached the same speed as the left lane traffic and is in a good position to execute a lane change, which it begins here\n",
    "- from here on, everything looks pretty similar to before\n",
    "- with these added states, we're now able to perform a lane change more safely and efficiently"
   ]
  },
  {
   "cell_type": "markdown",
   "metadata": {},
   "source": [
    "# Inputs to Transition Functions"
   ]
  },
  {
   "cell_type": "markdown",
   "metadata": {},
   "source": [
    "- you just saw how the states we choose to use can impact the behavior of the vehicle\n",
    "- but deciding how those states transition and what inputs the transition functions use is crucial to the actual implementation of a finite-state machine\n",
    "- for the example with the vending machine, the only input was the coin\n",
    "- the self-driving car is more complicated\n",
    "\n",
    "\n",
    "- **Q:** What data will we need to pass into our transition function as input? Check all that apply.\n",
    "- **A:** Predictions, Map, Speed Limit, Localization Data, Current State. We need everything except for the previous state."
   ]
  },
  {
   "cell_type": "markdown",
   "metadata": {},
   "source": [
    "# Behavior Planning Pseudocode"
   ]
  },
  {
   "cell_type": "markdown",
   "metadata": {},
   "source": [
    "- one way to implement a transition function is by generating rough trajectories for each accessible \"next state\" and then finding the best\n",
    "- to \"find the best\" we generally use cost functions\n",
    "- we can then figure out how costly each rough trajectory is and then select the state with the lowest cost trajectory\n",
    "\n",
    "\n",
    "- we'll discuss this in more detail later, but first read carefully through the pseudocode below to get a better sense for how a transition function might work\n",
    "\n",
    "```python\n",
    "def transition_function(predictions, current_fsm_state, current_pose, cost_functions, weights):\n",
    "    # only consider states which can be reached from current FSM state.\n",
    "    possible_successor_states = successor_states(current_fsm_state)\n",
    "\n",
    "    # keep track of the total cost of each state.\n",
    "    costs = []\n",
    "    for state in possible_successor_states:\n",
    "        # generate a rough idea of what trajectory we would\n",
    "        # follow IF we chose this state.\n",
    "        trajectory_for_state = generate_trajectory(state, current_pose, predictions)\n",
    "\n",
    "        # calculate the \"cost\" associated with that trajectory.\n",
    "        cost_for_state = 0\n",
    "        for i in range(len(cost_functions)) :\n",
    "            # apply each cost function to the generated trajectory\n",
    "            cost_function = cost_functions[i]\n",
    "            cost_for_cost_function = cost_function(trajectory_for_state, predictions)\n",
    "\n",
    "            # multiply the cost by the associated weight\n",
    "            weight = weights[i]\n",
    "            cost_for_state += weight * cost_for_cost_function\n",
    "            costs.append({'state' : state, 'cost' : cost_for_state})\n",
    "\n",
    "    # Find the minimum cost state.\n",
    "    best_next_state = None\n",
    "    min_cost = 9999999\n",
    "    for i in range(len(possible_successor_states)):\n",
    "        state = possible_successor_states[i]\n",
    "        cost  = costs[i]\n",
    "        if cost < min_cost:\n",
    "            min_cost = cost\n",
    "            best_next_state = state \n",
    "\n",
    "    return best_next_state\n",
    "```"
   ]
  },
  {
   "cell_type": "markdown",
   "metadata": {},
   "source": [
    "# Create a Cost Function - Speed Penalty"
   ]
  },
  {
   "cell_type": "markdown",
   "metadata": {},
   "source": [
    "- a key part of getting transitions to happen when we want them to is the design of reasonable cost functions\n",
    "- we want to penalize wrong and reward the right things\n",
    "- I'm going to work through an example of one way you might think about designing a cost function\n",
    "\n",
    "\n",
    "- let's consider how we would design a cost function for vehicle speed\n",
    "- on one hand, we want to get to our destination quickly, but on the other hand, we don't want to break the law\n",
    "- an essential quantity we have to control is the desired velocity of the car\n",
    "- some velocities are more beneficial, some are even illegal\n",
    "- let's fill in this graph and try to assign some costs to every velocity\n",
    "\n",
    "<img src=\"resources/speed_cost.png\"/>\n",
    "\n",
    "- for the sake of simplicity, let's assume that all of the cost functions will have an output between zero and one\n",
    "- we will adjust the importance of each cost function later by adjusting the weights\n",
    "- let's say the speed limit for the road we are on is here\n",
    "- we know that if we're going well above the speed limit, that should be maximum cost (circle on dotted line)\n",
    "- and maybe we want to set an ideal zero cost speed that's slightly below the speed limit so that we have some buffer (circle on x-axis)\n",
    "- then we can think about how much we want to penalize not moving at all\n",
    "- obvously, not moving is bad, but maybe not as bad as breaking the speed limit, so we would put it here (y-axis)\n",
    "- to keep it simple, we could just say there is a linear cost between zero and the target speed\n",
    "- since breaking the law is a binary thing, let's just say any speed greater than or equal the speed limit has maximal cost\n",
    "- again, we can arbitrarily connect these points with a linear function and the flat maximum cost for anything above the speed limit\n",
    "\n",
    "\n",
    "- in practice, we might actually want to parametrize some of these quantities so that we could later adjust them until we got the right behavior\n",
    "- first, we might define a parameter called stop cost for the zero-velocity case and a parameter called buffer velocity which would probably be a few miles per hour\n",
    "- then, our overall cost function has three domains\n",
    "  - if we're going less than the target speed\n",
    "  - if we are above the speed limit (the cost is just one)\n",
    "  - if we are between"
   ]
  },
  {
   "cell_type": "markdown",
   "metadata": {},
   "source": [
    "# Example Cost Function - Lane Change Penalty"
   ]
  },
  {
   "cell_type": "markdown",
   "metadata": {},
   "source": [
    "<img src=\"resources/lane_change_cost_function_example.png\"/>\n",
    "\n",
    "- in the image above, the blue self driving car (bottom left) is trying to get to the goal (gold star)\n",
    "- it's currently in the correct lane but the green car is going very slowly, so it considers whether it should perform a lane change (LC) or just keep lane (KL)\n",
    "- these options are shown as lighter blue vehicles with a dashed outline\n",
    "\n",
    "\n",
    "- if we want to design a cost function that deals with lane choice, it will be helpful to establish what the relevant variables are\n",
    "- in this case, we can define:\n",
    "  - $\\Delta s = s_G - s$ how much distance the vehicle will have before it has to get into the goal lane\n",
    "  - $\\Delta d = d_G - d_{LC/KL}$ the lateral distance between the goal lane and the options being considered\n",
    "    - in this case $\\Delta d_{KL} = d_G - d_{KL}$ would be zero and $\\Delta d_{LC} = d_G - d_{LC}$ would not\n",
    "\n",
    "\n",
    "- **Q:** First, thinking only about $\\Delta d$: Would we prefer the absolute value of $\\Delta d$ to be big or small?\n",
    "- **A:** Small. In general we'd prefer to be closer to the goal lane. Which means the cost should be bigger when $\\Delta d$ is bigger. Mathematically we could say \"Cost associated with lane choice should be proportional to $\\Delta d$.\n",
    "\n",
    "\n",
    "- **Q:** Now let's think about how $s$ factors into our considerations of lane cost. Should costs associated with lane change be more important when we are far from the goal (in $s$ coordinate) or close to the goal?\n",
    "- **A:** Close. When we're far from the goal we have lots of time to get into the goal lane. As we get closer things get more urgent. Mathematically we could say \"costs associated with lane choice should be inversely proportional to $\\Delta s$\".\n",
    "\n",
    "\n",
    "- so we want a cost function that penalizes large $|\\Delta d|$ and we want that penalty to be bigger when $\\Delta s$ is small\n",
    "- furthermore, we want to make sure that the maximum cost of this cost function never exceeds $1$ and that the minimum never goes below $0$\n",
    "\n",
    "\n",
    "- **Q:** Which of the following proposals meet the criteria we want (assume $\\Delta s$ is always positive)?\n",
    "  - Option 1: $\\text{cost} = |\\Delta d| + \\frac{1}{\\Delta s}$\n",
    "  - Option 2: $\\text{cost} = \\frac{|\\Delta d|}{\\Delta s}$\n",
    "  - Option 3: $\\text{cost} = 1 - e^{- \\frac{|\\Delta d|}{\\Delta s}}$\n",
    "- **A:** Option 3. When the ratio of $d$ to $s$ is big, this quantity approaches maximum cost (1) but when it's small, it approaches minimum cost (0).\n",
    "\n",
    "\n",
    "- in this example, we found that the ratio $\\dfrac{|\\Delta d|}{\\Delta s}$ was important\n",
    "- if we call that ratio $x$ we can then use that ratio in any function with bounded range\n",
    "- these functions tend to be useful when designing cost functions\n",
    "- these types of functions are called Sigmoid Functions\n",
    "  - you can learn more in the [Wikipedia article](https://en.wikipedia.org/wiki/Sigmoid_function) if you're interested"
   ]
  },
  {
   "cell_type": "markdown",
   "metadata": {},
   "source": [
    "# Implement a Cost Function in C++"
   ]
  },
  {
   "cell_type": "markdown",
   "metadata": {},
   "source": [
    "- in the previous quizzes, you designed a cost function to choose a lane when trying to reach a goal in highway driving: $\\text{cost} = 1 - e^{- \\dfrac{|\\Delta d|}{\\Delta s}}$\n",
    "- here, $\\Delta d$ was the lateral distance between the goal lane and the final chosen lane, and $\\Delta s$ was the longitudinal distance from the vehicle to the goal\n",
    "\n",
    "\n",
    "- in this quiz, we'd like you to implement the cost function in C++, but with one important change\n",
    "- the finite state machine we use for vehicle behavior also includes states for planning a lane change right or left (PLCR or PLCL), and the cost function should incorporate this information\n",
    "- we will provide the following four inputs to the function:\n",
    "  - intended lane: the intended lane for the given behavior\n",
    "    - for PLCR, PLCL, LCR, and LCL, this would be the one lane over from the current lane\n",
    "  - final lane: the immediate resulting lane of the given behavior\n",
    "    - for LCR and LCL, this would be one lane over\n",
    "  - the $\\Delta s$ distance to the goal\n",
    "  - the goal lane\n",
    "\n",
    "\n",
    "- your task in the implementation will be to modify $|\\Delta d|$ in the equation above so that it satisifes:\n",
    "  - $|\\Delta d|$ is smaller as both intended lane and final lane are closer to the goal lane\n",
    "  - the cost function provides different costs for each possible behavior: KL, PLCR/PLCL, LCR/LCL\n",
    "  - the values produced by the cost function are in the range $0$ to $1$"
   ]
  },
  {
   "cell_type": "markdown",
   "metadata": {},
   "source": [
    "- code is available in `01_implement_a_cost_function/`"
   ]
  },
  {
   "cell_type": "markdown",
   "metadata": {},
   "source": [
    "# Implement a Second Cost Function in C++"
   ]
  },
  {
   "cell_type": "markdown",
   "metadata": {},
   "source": [
    "- in most situations, a single cost function will not be sufficient to produce complex vehicle behavior\n",
    "- in this quiz, we'd like you to implement one more cost function in C++\n",
    "- we will use these two C++ cost functions later in the lesson\n",
    "- the goal with this quiz is to create a cost function that would make the vehicle drive in the fastest possible lane, given several behavior options\n",
    "- we will provide the following four inputs to the function:\n",
    "  - target speed: currently set as $10$ (unitless), the speed at which you would like the vehicle to travel\n",
    "  - intended lane: the intended lane for the given behavior\n",
    "    - for PLCR, PLCL, LCR, and LCL, this would be the one lane over from the current lane\n",
    "  - final lane: the immediate resulting lane of the given behavior\n",
    "    - for LCR and LCL, this would be one lane over\n",
    "  - vector of lane speeds, based on traffic in that lane: $\\{6, 7, 8, 9\\}$\n",
    "\n",
    "\n",
    "- your task in the implementation will be to create a cost function that satisifes:\n",
    "  - the cost decreases as both intended lane and final lane are higher speed lanes\n",
    "  - the cost function provides different costs for each possible behavior: KL, PLCR/PLCL, LCR/LCL\n",
    "  - the values produced by the cost function are in the range $0$ to $1$"
   ]
  },
  {
   "cell_type": "markdown",
   "metadata": {},
   "source": [
    "- code is available in `02_implement_a_second_cost_function/`"
   ]
  },
  {
   "cell_type": "markdown",
   "metadata": {},
   "source": [
    "# Cost Function Design and Weight Tweaking"
   ]
  },
  {
   "cell_type": "markdown",
   "metadata": {},
   "source": [
    "- designing cost functions is difficult and getting them all to cooperate to produce reasonable vehicle behavior is hard\n",
    "- some of the difficulties associated with cost functions design include:\n",
    "  - solving new problems without \"unsolving\" old ones\n",
    "    - when you're working on a self-driving car, you may find that the vehicle is behaving reasonably well except for some particular situations\n",
    "    - maybe it's not being aggressive enough about making left turns at traffic lights so, in an effort to solve this problem, you either add new cost functions, tweak existing ones, or modify the weights but every time you do, there's a chance that you will introduce some breaking change into something that already works\n",
    "    - in practice, we solve this through regression testing, where we define some set of situations, each of which has an expected behavior\n",
    "    - then, whenever we make a change, we simulate the vehicle in all of our test cases and make sure that it still behaves as expected\n",
    "  - balancing costs of drastically different magnitudes\n",
    "    - we want to get to our destination efficiently, but if we are in a situation where safety is an issue, we want to solve that problem and not think about efficiency at all\n",
    "    - one way to do that is to have weights which reflect the type of problem the cost function addresses\n",
    "    - we want to most heavily penalize any behavior which simply isn't possible due to physics, then we want to think about safety, legality, comfort\n",
    "      - only once those are satisfied do we want to think about efficiency\n",
    "    - we also may want to adjust the relative importance of these weights depending on situation\n",
    "      - if a light turns red, for example, legality becomes a much more relevant concern than when we engage in normal highway driving\n",
    "  - reasoning about individual cost functions\n",
    "    - ideally, each cost function will serve a very specific responsibility, which is something we didn't do in our earlier example of a speed cost function\n",
    "    - we were trying to balance our desire to drive quickly, which has to do with efficiency, with our desire to not exceed the speed limit, which is legality\n",
    "    - in practice, we might want to define several cost functions associated with vehicle speed in which case we might have a binary cost function which just checks to see if we are breaking the speed limit and the continuous cost function which pulls us towards our target speed\n",
    "    - by assigning each cost function to a very specific role, like safety versus legality versus efficiency, we can then standardize the output of all cost functions to be between $-1$ and $1$\n",
    "    - additionally, it's helpful to parametrize whenever possible\n",
    "      - this allows us to use some parameter optimization technique like gradient descent along with our set of regression tests to programmatically tweak our cost functions\n",
    "    - finally, thinking in terms of vehicle state is helpful\n",
    "      -  things we can indirectly control about our vehicle are its position, velocity, and acceleration\n",
    "      - it can be helpful to keep these in mind when coming up with cost functions\n",
    "\n",
    "<img src=\"resources/cost_function_design_class_feasibility.png\"/>\n",
    "\n",
    "- say we want to think about the following classes of cost functions\n",
    "- to make it easier, to keep everything straight, let's think in terms of position, velocity, and acceleration\n",
    "- if this is all starting to feel like it's getting pretty complex, well, you're right\n",
    "- it's pretty hard to avoid this exploding complexity when using finite state machines--partially that's because of the finite state machine itself, but we're also trying to solve a very hard problem and some complexity is unavoidable no matter what solution approach you take"
   ]
  },
  {
   "cell_type": "markdown",
   "metadata": {},
   "source": [
    "# Cost Function Matching"
   ]
  },
  {
   "cell_type": "markdown",
   "metadata": {},
   "source": [
    "- consider the following cost functions, what purpose does each serve?\n",
    "  - Cost Function 1\n",
    "    - $\\begin{cases} 1 & \\ddot{s} \\geq a\\_{\\text{max}} \\\\ 0 & \\ddot{s} < a\\_{\\text{max}} \\end{cases}$\n",
    "  - Cost Function 2\n",
    "    - $\\begin{cases} 1 & d \\geq d\\_{\\text{max}} \\\\ 1 & d \\leq d\\_{\\text{min}} \\\\ 0 & d\\_{\\text{min}} < d < d\\_{\\text{max}} \\end{cases}$\n",
    "  - Cost Function 3\n",
    "    - $\\begin{cases} 1 & \\dot{s} \\geq v\\_{\\text{speed limit}} \\\\ 0 & \\dot{s} < v\\_{\\text{speed limit}} \\end{cases}$\n",
    "  - Cost Function 4\n",
    "    - $\\dfrac{1}{1 + e^{-(d - d\\_{\\text{lane center}})^2}}$\n",
    "  - Cost Function 5\n",
    "    - $(\\text{lane number} - \\text{target lane number}) ^ 2$\n",
    "\n",
    "\n",
    "- **Q:** Match the verbal descriptions of each cost function to the appropriate number from above.\n",
    "- **A:**\n",
    "  - Penalizes trajectories that do not stay near the center of the lane. -- 4\n",
    "  - Penalizes trajectories that attempt to accelerate at a rate which is not possible for the vehicle. -- 1\n",
    "  - Rewards trajectories that stay near the target lane. -- 5\n",
    "  - Penalizes trajectories that drive off the road. -- 2\n",
    "  - Penalizes trajectories that exceed the speed limit. -- 3"
   ]
  },
  {
   "cell_type": "markdown",
   "metadata": {},
   "source": [
    "# Scheduling Compute Time"
   ]
  },
  {
   "cell_type": "markdown",
   "metadata": {},
   "source": [
    "- by now you might be able to guess why the Behavior Module updates on a lower frequency than for example the Trajectory Module\n",
    "- this is due to the fact that the high level decisions made in the behavior module spend a longer time horizon and just don't change as frequently\n",
    "- but the Trajectory Module does still count on our decisions and it's important that the overall system architecture doesn't allow for a comparatively slow module like the behavior planner to clog up the proper functioning of the other faster components\n",
    "\n",
    "<img src=\"resources/scheduling_compute_time.png\"/>\n",
    "\n",
    "- let's take a second to talk about what's known as a scheduling problem and how it can be handled in the self-driving car\n",
    "- this diagram shows what happens during two processing cycles of the Behavior Module\n",
    "- as you can see, the Prediction Module updates with a higher frequency than Behavior\n",
    "- Trajectory is even higher and so on...\n",
    "- but focus your attention on what happens after behavior has completed its first cycle\n",
    "- to begin its second cycle, the behavior module needs data from prediction and localization\n",
    "- for localization, it's easy in theory since at this instant it will have some fresh data and behavior could just use that\n",
    "- but what about for prediction--it's actually right in the middle of an update cycle at this instant\n",
    "- should behavior just wait until prediction is done?--no, if we start waiting then we block up the pipeline for downstream components\n",
    "- the answer is to use data from here and accept that it's a little stale"
   ]
  },
  {
   "cell_type": "markdown",
   "metadata": {},
   "source": [
    "# Implement Behavior Planner in C++"
   ]
  },
  {
   "cell_type": "markdown",
   "metadata": {},
   "source": [
    "- in this exercise you will implement a behavior planner and cost functions for highway driving\n",
    "- the planner will use prediction data to set the state of the ego vehicle to one of 5 values and generate a corresponding vehicle trajectory:\n",
    "  - \"KL\" - Keep Lane\n",
    "  - \"LCL\" / \"LCR\"- Lane Change Left / Lane Change Right\n",
    "  - \"PLCL\" / \"PLCR\" - Prepare Lane Change Left / Prepare Lane Change Right\n",
    "\n",
    "\n",
    "- the objective of the quiz is to navigate through traffic to the goal in as little time as possible\n",
    "- note that the goal lane and $s$ value, as well as the traffic speeds for each lane, are set in `main.cpp`\n",
    "- since the goal is in the slowest lane, in order to get the lowest time, you'll want to choose cost functions and weights to drive in faster lanes when appropriate\n",
    "- we've provided two suggested cost functions in `cost.cpp`\n",
    "\n",
    "\n",
    "- instructions\n",
    "  - implement the `choose_next_state` method in the `vehicle.cpp` class\n",
    "    - you can use the Behavior Planning Pseudocode concept as a guideline for your implementation\n",
    "    - in this quiz, there are a couple of small differences from that pseudocode: you'll be returning a best trajectory corresponding to the best state instead of the state itself\n",
    "    - additionally, the function inputs will be slightly different in this quiz than in the classroom concept\n",
    "    - for this part of the quiz, we have provided several useful functions:\n",
    "      - `successor_states()` - uses the current state to return a vector of possible successor states for the finite state machine\n",
    "      - `generate_trajectory()` - returns a vector of Vehicle objects representing a vehicle trajectory, given a state and predictions\n",
    "        - note that trajectory vectors might have size $0$ if no possible trajectory exists for the state\n",
    "      - `calculate_cost()` - included from `cost.cpp`, computes the cost for a trajectory\n",
    "  - choose appropriate weights for the cost functions in `cost.cpp` to induce the desired vehicle behavior\n",
    "    - two suggested cost functions have been implemented based on previous quizzes, but you are free to experiment with your own cost functions\n",
    "    - the `get_helper_data()` function in `cost.cpp` provides some preprocessing of vehicle data that may be useful in your cost functions\n",
    "    - see if you can get the vehicle to move into a fast lane for a portion of the track and then move back to reach the goal!"
   ]
  },
  {
   "cell_type": "markdown",
   "metadata": {},
   "source": [
    "- code is available in `03_implement_behavior_planner_in_cpp/`"
   ]
  },
  {
   "cell_type": "markdown",
   "metadata": {},
   "source": [
    "# Conclusion"
   ]
  },
  {
   "cell_type": "markdown",
   "metadata": {},
   "source": [
    "- in this lesson, you learned about finite state machines which are a solution to the behavior planning problem\n",
    "- finite state machines generally do well for small state spaces, like when you're on a highway, for example\n",
    "- for more complex scenarios like urban driving, other approaches might be more suitable"
   ]
  },
  {
   "cell_type": "code",
   "execution_count": null,
   "metadata": {},
   "outputs": [],
   "source": []
  }
 ],
 "metadata": {
  "kernelspec": {
   "display_name": "C++14",
   "language": "C++14",
   "name": "xcpp14"
  },
  "language_info": {
   "codemirror_mode": "text/x-c++src",
   "file_extension": ".cpp",
   "mimetype": "text/x-c++src",
   "name": "c++",
   "version": "14"
  }
 },
 "nbformat": 4,
 "nbformat_minor": 4
}
