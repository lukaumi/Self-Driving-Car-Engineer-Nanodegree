{
 "cells": [
  {
   "cell_type": "code",
   "execution_count": 1,
   "metadata": {},
   "outputs": [
    {
     "data": {
      "application/javascript": [
       "\n",
       "            setTimeout(function() {\n",
       "                var nbb_cell_id = 1;\n",
       "                var nbb_unformatted_code = \"%load_ext nb_black\";\n",
       "                var nbb_formatted_code = \"%load_ext nb_black\";\n",
       "                var nbb_cells = Jupyter.notebook.get_cells();\n",
       "                for (var i = 0; i < nbb_cells.length; ++i) {\n",
       "                    if (nbb_cells[i].input_prompt_number == nbb_cell_id) {\n",
       "                        if (nbb_cells[i].get_text() == nbb_unformatted_code) {\n",
       "                             nbb_cells[i].set_text(nbb_formatted_code);\n",
       "                        }\n",
       "                        break;\n",
       "                    }\n",
       "                }\n",
       "            }, 500);\n",
       "            "
      ],
      "text/plain": [
       "<IPython.core.display.Javascript object>"
      ]
     },
     "metadata": {},
     "output_type": "display_data"
    }
   ],
   "source": [
    "%load_ext nb_black"
   ]
  },
  {
   "cell_type": "markdown",
   "metadata": {},
   "source": [
    "- control is how we use the steering, throttle, and breaks to move a car where we want it to go\n",
    "- control is a trickier problem than it might seem\n",
    "- when human turns through an intersection, we use our intuition and experience to determine how hard to steer, when to accelerate, and whether we ever need to step on the brakes\n",
    "  - teaching a computer how to do this is hard\n",
    "- control algorithms are often called controllers, and one of the most common and fundamental controllers is the *PID controller*"
   ]
  },
  {
   "cell_type": "markdown",
   "metadata": {},
   "source": [
    "# PID Control"
   ]
  },
  {
   "cell_type": "markdown",
   "metadata": {},
   "source": [
    "- PID control is a vast field in control, and many, many classes can be taught about this one subject matter\n",
    "- what I'll do is I'll give you the very basics, and I'll let you implement the very basics--you'll be able to drive a car around\n",
    "- the Google car to the present day uses a version of this exact same controller that is, of course, much more tuned\n",
    "- but you get to see some of the essence of what it means to control a car\n",
    "\n",
    "\n",
    "- here is the problem--consider the following car with a steerable front axle and 2 non-steerable wheels in the back\n",
    "- say we wished this car to drive along this line, which is the output of our smoothener\n",
    "- let's assume the car has a fixed forward velocity, but you have the ability to set the steering angle of the car--how would you do this?\n",
    "  - you would keep the steering constant?\n",
    "  - you would use random steering commands?\n",
    "  - you could set the steering angle in proportion to what's known as the *crosstrack error*, which is the lateral distance between the vehicle and the so-called reference trajectory\n",
    "- you'll steer in proportion to the crosstrack error, which means the larger the error, the more you're willing to turn towards the target trajectory\n",
    "\n",
    "<img src=\"resources/P_control_example.png\"/>\n",
    "\n",
    "- as you get closer to trajectory, your steering will be slower and slower and you will reach the trajectory\n",
    "- a constant steering will put you in a circle and not in a straight line\n",
    "- random steering, if you ever implement this, is a really bad idea"
   ]
  },
  {
   "cell_type": "markdown",
   "metadata": {},
   "source": [
    "# Proportional Control"
   ]
  },
  {
   "cell_type": "markdown",
   "metadata": {},
   "source": [
    "- what you just learned is called a *P-controller* where P stands for proportional\n",
    "\n",
    "\n",
    "- here is a really trick question by which I want to test your intuition--one that doesn't have a unique answer, but it has a best answer\n",
    "- **Q:** suppose you do what I just said-you steer in proportion to the crosstrack error, that is, your steering angle $\\alpha$ is proportional by some factor of $\\tau$ to the crosstrack error $\\alpha = \\tau \\cdot \\text{CTE}$--what will happen with the car?\n",
    "- **A:** the car actually overshoots\n",
    "  - the problem is no matter how small this constant $\\tau$ is, it will eventually turns its wheels quite a bit towards it's trajectory\n",
    "  - then it'll move towards a trajectory more and more, and when it hits it, it's wheels will be straight, but the robot itself will still be oriented a little bit downwards, so it's forced to overshoot\n",
    "  - what this means is that applied to a car, a P-controller will act like this--it'll slightly overshoot, and that could be okay\n",
    "  - the overshooting is very small but it'll never really converge\n",
    "  - it'll be what's called \"marginally stable\" or often just \"stable\" in the literature.\n",
    "  - <img src=\"resources/P_controller_marginally_stable.png\"/>"
   ]
  },
  {
   "cell_type": "markdown",
   "metadata": {},
   "source": [
    "# Implement P Controller"
   ]
  },
  {
   "cell_type": "markdown",
   "metadata": {},
   "source": [
    "- I want you to implement such a controller\n",
    "- here is the code I've prepared for you\n",
    "  - there is a class `robot` with which has an `init`\n",
    "  - you can set the position using the function `set`\n",
    "  - there are `steering_noise` and `distance_noise`\n",
    "  - there is also something called `drift` which you won't use right now, but later on it'll become handy\n",
    "  - there is your `move` command\n",
    "- I want you to implement the `run` command, which takes as input the control parameter that governs the proportional response of the steering angle to the crosstrack error\n",
    "  - the robot has an initial position of $0, 1, 0,$ a speed of $1$, and I want to simulate it for $100$ steps and with the coefficient $0.1$ \n",
    "- here is what I envision to happen\n",
    "  - your robot is initially off the the x axis by 1\n",
    "  - I want it to drive along the x axis\n",
    "  - the y value is the same as the cross track error\n",
    "  - by turning, inversely proportional to the y value, using a parameter tau that sets the response strength of the proportional controller\n",
    "  - I want the robot to turn towards the x axis, drive in that direction, overshoot, turn around, and drive back"
   ]
  },
  {
   "cell_type": "code",
   "execution_count": 2,
   "metadata": {},
   "outputs": [
    {
     "data": {
      "text/plain": [
       "<matplotlib.legend.Legend at 0x7f50b3773f90>"
      ]
     },
     "execution_count": 2,
     "metadata": {},
     "output_type": "execute_result"
    },
    {
     "data": {
      "image/png": "[encoded data removed]",
      "text/plain": [
       "<Figure size 576x288 with 1 Axes>"
      ]
     },
     "metadata": {
      "needs_background": "light"
     },
     "output_type": "display_data"
    },
    {
     "data": {
      "application/javascript": [
       "\n",
       "            setTimeout(function() {\n",
       "                var nbb_cell_id = 2;\n",
       "                var nbb_unformatted_code = \"# -----------\\n# User Instructions\\n#\\n# Implement a P controller by running 100 iterations\\n# of robot motion. The desired trajectory for the\\n# robot is the x-axis. The steering angle should be set\\n# by the parameter tau so that:\\n#\\n# steering = -tau * crosstrack_error\\n#\\n# You'll only need to modify the `run` function at the bottom.\\n# ------------\\n\\nimport random\\nimport numpy as np\\nimport matplotlib.pyplot as plt\\n\\n# ------------------------------------------------\\n#\\n# this is the Robot class\\n#\\n\\n\\nclass Robot(object):\\n    def __init__(self, length=20.0):\\n        \\\"\\\"\\\"\\n        Creates robot and initializes location/orientation to 0, 0, 0.\\n        \\\"\\\"\\\"\\n        self.x = 0.0\\n        self.y = 0.0\\n        self.orientation = 0.0\\n        self.length = length\\n        self.steering_noise = 0.0\\n        self.distance_noise = 0.0\\n        self.steering_drift = 0.0\\n\\n    def set(self, x, y, orientation):\\n        \\\"\\\"\\\"\\n        Sets a robot coordinate.\\n        \\\"\\\"\\\"\\n        self.x = x\\n        self.y = y\\n        self.orientation = orientation % (2.0 * np.pi)\\n\\n    def set_noise(self, steering_noise, distance_noise):\\n        \\\"\\\"\\\"\\n        Sets the noise parameters.\\n        \\\"\\\"\\\"\\n        # makes it possible to change the noise parameters\\n        # this is often useful in particle filters\\n        self.steering_noise = steering_noise\\n        self.distance_noise = distance_noise\\n\\n    def set_steering_drift(self, drift):\\n        \\\"\\\"\\\"\\n        Sets the systematical steering drift parameter\\n        \\\"\\\"\\\"\\n        self.steering_drift = drift\\n\\n    def move(self, steering, distance, tolerance=0.001, max_steering_angle=np.pi / 4.0):\\n        \\\"\\\"\\\"\\n        steering = front wheel steering angle, limited by max_steering_angle\\n        distance = total distance driven, most be non-negative\\n        \\\"\\\"\\\"\\n        if steering > max_steering_angle:\\n            steering = max_steering_angle\\n        if steering < -max_steering_angle:\\n            steering = -max_steering_angle\\n        if distance < 0.0:\\n            distance = 0.0\\n\\n        # apply noise\\n        steering2 = random.gauss(steering, self.steering_noise)\\n        distance2 = random.gauss(distance, self.distance_noise)\\n\\n        # apply steering drift\\n        steering2 += self.steering_drift\\n\\n        # Execute motion\\n        turn = np.tan(steering2) * distance2 / self.length\\n\\n        if abs(turn) < tolerance:\\n            # approximate by straight line motion\\n            self.x += distance2 * np.cos(self.orientation)\\n            self.y += distance2 * np.sin(self.orientation)\\n            self.orientation = (self.orientation + turn) % (2.0 * np.pi)\\n        else:\\n            # approximate bicycle model for motion\\n            radius = distance2 / turn\\n            cx = self.x - (np.sin(self.orientation) * radius)\\n            cy = self.y + (np.cos(self.orientation) * radius)\\n            self.orientation = (self.orientation + turn) % (2.0 * np.pi)\\n            self.x = cx + (np.sin(self.orientation) * radius)\\n            self.y = cy - (np.cos(self.orientation) * radius)\\n\\n    def __repr__(self):\\n        return \\\"[x=%.5f y=%.5f orient=%.5f]\\\" % (self.x, self.y, self.orientation)\\n\\n\\n############## ADD / MODIFY CODE BELOW ####################\\n# ------------------------------------------------------------------------\\n#\\n# run - does a single control run\\nrobot = Robot()\\nrobot.set(0, 1, 0)\\n\\n\\ndef run(robot, tau, n=100, speed=1.0):\\n    x_trajectory = []\\n    y_trajectory = []\\n    for i in range(n):\\n        cte = robot.y\\n        steer = -tau * cte\\n        robot.move(steer, speed)\\n        x_trajectory.append(robot.x)\\n        y_trajectory.append(robot.y)\\n    return x_trajectory, y_trajectory\\n\\n\\nx_trajectory, y_trajectory = run(robot, 0.1)\\nn = len(x_trajectory)\\n\\nfig, ax1 = plt.subplots(figsize=(8, 4))\\nax1.plot(x_trajectory, y_trajectory, \\\"g\\\", label=\\\"P controller\\\")\\nax1.plot(x_trajectory, np.zeros(n), \\\"r\\\", label=\\\"reference\\\")\\nax1.legend()\";\n",
       "                var nbb_formatted_code = \"# -----------\\n# User Instructions\\n#\\n# Implement a P controller by running 100 iterations\\n# of robot motion. The desired trajectory for the\\n# robot is the x-axis. The steering angle should be set\\n# by the parameter tau so that:\\n#\\n# steering = -tau * crosstrack_error\\n#\\n# You'll only need to modify the `run` function at the bottom.\\n# ------------\\n\\nimport random\\nimport numpy as np\\nimport matplotlib.pyplot as plt\\n\\n# ------------------------------------------------\\n#\\n# this is the Robot class\\n#\\n\\n\\nclass Robot(object):\\n    def __init__(self, length=20.0):\\n        \\\"\\\"\\\"\\n        Creates robot and initializes location/orientation to 0, 0, 0.\\n        \\\"\\\"\\\"\\n        self.x = 0.0\\n        self.y = 0.0\\n        self.orientation = 0.0\\n        self.length = length\\n        self.steering_noise = 0.0\\n        self.distance_noise = 0.0\\n        self.steering_drift = 0.0\\n\\n    def set(self, x, y, orientation):\\n        \\\"\\\"\\\"\\n        Sets a robot coordinate.\\n        \\\"\\\"\\\"\\n        self.x = x\\n        self.y = y\\n        self.orientation = orientation % (2.0 * np.pi)\\n\\n    def set_noise(self, steering_noise, distance_noise):\\n        \\\"\\\"\\\"\\n        Sets the noise parameters.\\n        \\\"\\\"\\\"\\n        # makes it possible to change the noise parameters\\n        # this is often useful in particle filters\\n        self.steering_noise = steering_noise\\n        self.distance_noise = distance_noise\\n\\n    def set_steering_drift(self, drift):\\n        \\\"\\\"\\\"\\n        Sets the systematical steering drift parameter\\n        \\\"\\\"\\\"\\n        self.steering_drift = drift\\n\\n    def move(self, steering, distance, tolerance=0.001, max_steering_angle=np.pi / 4.0):\\n        \\\"\\\"\\\"\\n        steering = front wheel steering angle, limited by max_steering_angle\\n        distance = total distance driven, most be non-negative\\n        \\\"\\\"\\\"\\n        if steering > max_steering_angle:\\n            steering = max_steering_angle\\n        if steering < -max_steering_angle:\\n            steering = -max_steering_angle\\n        if distance < 0.0:\\n            distance = 0.0\\n\\n        # apply noise\\n        steering2 = random.gauss(steering, self.steering_noise)\\n        distance2 = random.gauss(distance, self.distance_noise)\\n\\n        # apply steering drift\\n        steering2 += self.steering_drift\\n\\n        # Execute motion\\n        turn = np.tan(steering2) * distance2 / self.length\\n\\n        if abs(turn) < tolerance:\\n            # approximate by straight line motion\\n            self.x += distance2 * np.cos(self.orientation)\\n            self.y += distance2 * np.sin(self.orientation)\\n            self.orientation = (self.orientation + turn) % (2.0 * np.pi)\\n        else:\\n            # approximate bicycle model for motion\\n            radius = distance2 / turn\\n            cx = self.x - (np.sin(self.orientation) * radius)\\n            cy = self.y + (np.cos(self.orientation) * radius)\\n            self.orientation = (self.orientation + turn) % (2.0 * np.pi)\\n            self.x = cx + (np.sin(self.orientation) * radius)\\n            self.y = cy - (np.cos(self.orientation) * radius)\\n\\n    def __repr__(self):\\n        return \\\"[x=%.5f y=%.5f orient=%.5f]\\\" % (self.x, self.y, self.orientation)\\n\\n\\n############## ADD / MODIFY CODE BELOW ####################\\n# ------------------------------------------------------------------------\\n#\\n# run - does a single control run\\nrobot = Robot()\\nrobot.set(0, 1, 0)\\n\\n\\ndef run(robot, tau, n=100, speed=1.0):\\n    x_trajectory = []\\n    y_trajectory = []\\n    for i in range(n):\\n        cte = robot.y\\n        steer = -tau * cte\\n        robot.move(steer, speed)\\n        x_trajectory.append(robot.x)\\n        y_trajectory.append(robot.y)\\n    return x_trajectory, y_trajectory\\n\\n\\nx_trajectory, y_trajectory = run(robot, 0.1)\\nn = len(x_trajectory)\\n\\nfig, ax1 = plt.subplots(figsize=(8, 4))\\nax1.plot(x_trajectory, y_trajectory, \\\"g\\\", label=\\\"P controller\\\")\\nax1.plot(x_trajectory, np.zeros(n), \\\"r\\\", label=\\\"reference\\\")\\nax1.legend()\";\n",
       "                var nbb_cells = Jupyter.notebook.get_cells();\n",
       "                for (var i = 0; i < nbb_cells.length; ++i) {\n",
       "                    if (nbb_cells[i].input_prompt_number == nbb_cell_id) {\n",
       "                        if (nbb_cells[i].get_text() == nbb_unformatted_code) {\n",
       "                             nbb_cells[i].set_text(nbb_formatted_code);\n",
       "                        }\n",
       "                        break;\n",
       "                    }\n",
       "                }\n",
       "            }, 500);\n",
       "            "
      ],
      "text/plain": [
       "<IPython.core.display.Javascript object>"
      ]
     },
     "metadata": {},
     "output_type": "display_data"
    }
   ],
   "source": [
    "# -----------\n",
    "# User Instructions\n",
    "#\n",
    "# Implement a P controller by running 100 iterations\n",
    "# of robot motion. The desired trajectory for the\n",
    "# robot is the x-axis. The steering angle should be set\n",
    "# by the parameter tau so that:\n",
    "#\n",
    "# steering = -tau * crosstrack_error\n",
    "#\n",
    "# You'll only need to modify the `run` function at the bottom.\n",
    "# ------------\n",
    "\n",
    "import random\n",
    "import numpy as np\n",
    "import matplotlib.pyplot as plt\n",
    "\n",
    "# ------------------------------------------------\n",
    "#\n",
    "# this is the Robot class\n",
    "#\n",
    "\n",
    "\n",
    "class Robot(object):\n",
    "    def __init__(self, length=20.0):\n",
    "        \"\"\"\n",
    "        Creates robot and initializes location/orientation to 0, 0, 0.\n",
    "        \"\"\"\n",
    "        self.x = 0.0\n",
    "        self.y = 0.0\n",
    "        self.orientation = 0.0\n",
    "        self.length = length\n",
    "        self.steering_noise = 0.0\n",
    "        self.distance_noise = 0.0\n",
    "        self.steering_drift = 0.0\n",
    "\n",
    "    def set(self, x, y, orientation):\n",
    "        \"\"\"\n",
    "        Sets a robot coordinate.\n",
    "        \"\"\"\n",
    "        self.x = x\n",
    "        self.y = y\n",
    "        self.orientation = orientation % (2.0 * np.pi)\n",
    "\n",
    "    def set_noise(self, steering_noise, distance_noise):\n",
    "        \"\"\"\n",
    "        Sets the noise parameters.\n",
    "        \"\"\"\n",
    "        # makes it possible to change the noise parameters\n",
    "        # this is often useful in particle filters\n",
    "        self.steering_noise = steering_noise\n",
    "        self.distance_noise = distance_noise\n",
    "\n",
    "    def set_steering_drift(self, drift):\n",
    "        \"\"\"\n",
    "        Sets the systematical steering drift parameter\n",
    "        \"\"\"\n",
    "        self.steering_drift = drift\n",
    "\n",
    "    def move(self, steering, distance, tolerance=0.001, max_steering_angle=np.pi / 4.0):\n",
    "        \"\"\"\n",
    "        steering = front wheel steering angle, limited by max_steering_angle\n",
    "        distance = total distance driven, most be non-negative\n",
    "        \"\"\"\n",
    "        if steering > max_steering_angle:\n",
    "            steering = max_steering_angle\n",
    "        if steering < -max_steering_angle:\n",
    "            steering = -max_steering_angle\n",
    "        if distance < 0.0:\n",
    "            distance = 0.0\n",
    "\n",
    "        # apply noise\n",
    "        steering2 = random.gauss(steering, self.steering_noise)\n",
    "        distance2 = random.gauss(distance, self.distance_noise)\n",
    "\n",
    "        # apply steering drift\n",
    "        steering2 += self.steering_drift\n",
    "\n",
    "        # Execute motion\n",
    "        turn = np.tan(steering2) * distance2 / self.length\n",
    "\n",
    "        if abs(turn) < tolerance:\n",
    "            # approximate by straight line motion\n",
    "            self.x += distance2 * np.cos(self.orientation)\n",
    "            self.y += distance2 * np.sin(self.orientation)\n",
    "            self.orientation = (self.orientation + turn) % (2.0 * np.pi)\n",
    "        else:\n",
    "            # approximate bicycle model for motion\n",
    "            radius = distance2 / turn\n",
    "            cx = self.x - (np.sin(self.orientation) * radius)\n",
    "            cy = self.y + (np.cos(self.orientation) * radius)\n",
    "            self.orientation = (self.orientation + turn) % (2.0 * np.pi)\n",
    "            self.x = cx + (np.sin(self.orientation) * radius)\n",
    "            self.y = cy - (np.cos(self.orientation) * radius)\n",
    "\n",
    "    def __repr__(self):\n",
    "        return \"[x=%.5f y=%.5f orient=%.5f]\" % (self.x, self.y, self.orientation)\n",
    "\n",
    "\n",
    "############## ADD / MODIFY CODE BELOW ####################\n",
    "# ------------------------------------------------------------------------\n",
    "#\n",
    "# run - does a single control run\n",
    "robot = Robot()\n",
    "robot.set(0, 1, 0)\n",
    "\n",
    "\n",
    "def run(robot, tau, n=100, speed=1.0):\n",
    "    x_trajectory = []\n",
    "    y_trajectory = []\n",
    "    for i in range(n):\n",
    "        cte = robot.y\n",
    "        steer = -tau * cte\n",
    "        robot.move(steer, speed)\n",
    "        x_trajectory.append(robot.x)\n",
    "        y_trajectory.append(robot.y)\n",
    "    return x_trajectory, y_trajectory\n",
    "\n",
    "\n",
    "x_trajectory, y_trajectory = run(robot, 0.1)\n",
    "n = len(x_trajectory)\n",
    "\n",
    "fig, ax1 = plt.subplots(figsize=(8, 4))\n",
    "ax1.plot(x_trajectory, y_trajectory, \"g\", label=\"P controller\")\n",
    "ax1.plot(x_trajectory, np.zeros(n), \"r\", label=\"reference\")\n",
    "ax1.legend()"
   ]
  },
  {
   "cell_type": "markdown",
   "metadata": {},
   "source": [
    "- the cross track error, `cte` is the current y position of the robot (our reference is a horizontal line) along the x-axis\n",
    "- to get the steering value we multiply the `tau` parameter with the `cte`\n",
    "- we then call the move method which causes the robot to move based on the `steer` and `speed` values\n",
    "- add the x and y coordinates to the respective lists and then return them at the end"
   ]
  },
  {
   "cell_type": "markdown",
   "metadata": {},
   "source": [
    "# Oscillations"
   ]
  },
  {
   "cell_type": "markdown",
   "metadata": {},
   "source": [
    "- **Q:** If you modify the control parameter from $0.1$ to $0.3$, what happens?\n",
    "- **A:** It'll oscillate faster."
   ]
  },
  {
   "cell_type": "code",
   "execution_count": 3,
   "metadata": {},
   "outputs": [
    {
     "data": {
      "text/plain": [
       "<matplotlib.legend.Legend at 0x7f50b3648090>"
      ]
     },
     "execution_count": 3,
     "metadata": {},
     "output_type": "execute_result"
    },
    {
     "data": {
      "image/png": "[encoded data removed]",
      "text/plain": [
       "<Figure size 576x288 with 1 Axes>"
      ]
     },
     "metadata": {
      "needs_background": "light"
     },
     "output_type": "display_data"
    },
    {
     "data": {
      "application/javascript": [
       "\n",
       "            setTimeout(function() {\n",
       "                var nbb_cell_id = 3;\n",
       "                var nbb_unformatted_code = \"x_trajectory, y_trajectory = run(robot, 0.3)\\nn = len(x_trajectory)\\n\\nfig, ax1 = plt.subplots(figsize=(8, 4))\\nax1.plot(x_trajectory, y_trajectory, \\\"g\\\", label=\\\"P controller\\\")\\nax1.plot(x_trajectory, np.zeros(n), \\\"r\\\", label=\\\"reference\\\")\\nax1.legend()\";\n",
       "                var nbb_formatted_code = \"x_trajectory, y_trajectory = run(robot, 0.3)\\nn = len(x_trajectory)\\n\\nfig, ax1 = plt.subplots(figsize=(8, 4))\\nax1.plot(x_trajectory, y_trajectory, \\\"g\\\", label=\\\"P controller\\\")\\nax1.plot(x_trajectory, np.zeros(n), \\\"r\\\", label=\\\"reference\\\")\\nax1.legend()\";\n",
       "                var nbb_cells = Jupyter.notebook.get_cells();\n",
       "                for (var i = 0; i < nbb_cells.length; ++i) {\n",
       "                    if (nbb_cells[i].input_prompt_number == nbb_cell_id) {\n",
       "                        if (nbb_cells[i].get_text() == nbb_unformatted_code) {\n",
       "                             nbb_cells[i].set_text(nbb_formatted_code);\n",
       "                        }\n",
       "                        break;\n",
       "                    }\n",
       "                }\n",
       "            }, 500);\n",
       "            "
      ],
      "text/plain": [
       "<IPython.core.display.Javascript object>"
      ]
     },
     "metadata": {},
     "output_type": "display_data"
    }
   ],
   "source": [
    "x_trajectory, y_trajectory = run(robot, 0.3)\n",
    "n = len(x_trajectory)\n",
    "\n",
    "fig, ax1 = plt.subplots(figsize=(8, 4))\n",
    "ax1.plot(x_trajectory, y_trajectory, \"g\", label=\"P controller\")\n",
    "ax1.plot(x_trajectory, np.zeros(n), \"r\", label=\"reference\")\n",
    "ax1.legend()"
   ]
  },
  {
   "cell_type": "markdown",
   "metadata": {},
   "source": [
    "# PD Controller"
   ]
  },
  {
   "cell_type": "markdown",
   "metadata": {},
   "source": [
    "- the basic next question is is there a way to void the overshoot?\n",
    "- it would be nice if we could do this, because driving in an oscillating car is no fun\n",
    "- the trick is called *PD-control*\n",
    "- in PD-control my steering $\\alpha$ is no just related to the crosstrack error by virtue of the gain parameter $\\tau_p$, but also to the temporal derivative of the crosstrack error: $\\alpha = -\\tau_p \\cdot \\text{CTE} - \\tau_d \\dfrac{d}{dt} \\text{CTE}$\n",
    "- what this means is that when the car has turned enough to reduce the crosstrack error, it won't just go shooting for the x axis, but it will notice that it's already reducing the error so the error is becoming smaller over time\n",
    "- it counter steers--it steers up again which will allow it to gracefully approach our target trajectory,  assuming appropriate settings of our differential gain--$\\tau_d$ versus the proportional gain $\\tau_p$\n",
    "- how do you compute the derivative?\n",
    "  - at time $t$ this is the same as the crosstrack error at time $t$ minus the crosstrack error at time $t-1$ divided by the time span between $t$ and $t-1$\n",
    "  - in our code, we assume $\\Delta t = 1$, so so we can omit this"
   ]
  },
  {
   "cell_type": "code",
   "execution_count": 4,
   "metadata": {},
   "outputs": [
    {
     "data": {
      "text/plain": [
       "<matplotlib.legend.Legend at 0x7f50b36bb210>"
      ]
     },
     "execution_count": 4,
     "metadata": {},
     "output_type": "execute_result"
    },
    {
     "data": {
      "image/png": "[encoded data removed]",
      "text/plain": [
       "<Figure size 576x288 with 1 Axes>"
      ]
     },
     "metadata": {
      "needs_background": "light"
     },
     "output_type": "display_data"
    },
    {
     "data": {
      "application/javascript": [
       "\n",
       "            setTimeout(function() {\n",
       "                var nbb_cell_id = 4;\n",
       "                var nbb_unformatted_code = \"# -----------\\n# User Instructions\\n#\\n# Implement a PD controller by running 100 iterations\\n# of robot motion. The steering angle should be set\\n# by the parameter tau_p and tau_d so that:\\n#\\n# steering = -tau_p * CTE - tau_d * diff_CTE\\n# where differential crosstrack error (diff_CTE)\\n# is given by CTE(t) - CTE(t-1)\\n#\\n#\\n# Only modify code at the bottom! Look for the TODO\\n# ------------\\n\\n\\n############## ADD / MODIFY CODE BELOW ####################\\n# ------------------------------------------------------------------------\\n#\\n# run - does a single control run\\n\\n# previous P controller\\ndef run_p(robot, tau, n=100, speed=1.0):\\n    x_trajectory = []\\n    y_trajectory = []\\n    for i in range(n):\\n        cte = robot.y\\n        steer = -tau * cte\\n        robot.move(steer, speed)\\n        x_trajectory.append(robot.x)\\n        y_trajectory.append(robot.y)\\n    return x_trajectory, y_trajectory\\n\\n\\nrobot = Robot()\\nrobot.set(0, 1, 0)\\n\\n\\ndef run(robot, tau_p, tau_d, n=100, speed=1.0):\\n    x_trajectory = []\\n    y_trajectory = []\\n    # TODO: your code here\\n    prev_cte = robot.y\\n    for i in range(n):\\n        cte = robot.y\\n        diff_cte = cte - prev_cte\\n        prev_cte = cte\\n        steer = -tau_p * cte - tau_d * diff_cte\\n        robot.move(steer, speed)\\n        x_trajectory.append(robot.x)\\n        y_trajectory.append(robot.y)\\n    return x_trajectory, y_trajectory\\n\\n\\nx_trajectory, y_trajectory = run(robot, 0.2, 3.0)\\nn = len(x_trajectory)\\n\\nfig, ax1 = plt.subplots(figsize=(8, 4))\\nax1.plot(x_trajectory, y_trajectory, \\\"g\\\", label=\\\"PD controller\\\")\\nax1.plot(x_trajectory, np.zeros(n), \\\"r\\\", label=\\\"reference\\\")\\nax1.legend()\";\n",
       "                var nbb_formatted_code = \"# -----------\\n# User Instructions\\n#\\n# Implement a PD controller by running 100 iterations\\n# of robot motion. The steering angle should be set\\n# by the parameter tau_p and tau_d so that:\\n#\\n# steering = -tau_p * CTE - tau_d * diff_CTE\\n# where differential crosstrack error (diff_CTE)\\n# is given by CTE(t) - CTE(t-1)\\n#\\n#\\n# Only modify code at the bottom! Look for the TODO\\n# ------------\\n\\n\\n############## ADD / MODIFY CODE BELOW ####################\\n# ------------------------------------------------------------------------\\n#\\n# run - does a single control run\\n\\n# previous P controller\\ndef run_p(robot, tau, n=100, speed=1.0):\\n    x_trajectory = []\\n    y_trajectory = []\\n    for i in range(n):\\n        cte = robot.y\\n        steer = -tau * cte\\n        robot.move(steer, speed)\\n        x_trajectory.append(robot.x)\\n        y_trajectory.append(robot.y)\\n    return x_trajectory, y_trajectory\\n\\n\\nrobot = Robot()\\nrobot.set(0, 1, 0)\\n\\n\\ndef run(robot, tau_p, tau_d, n=100, speed=1.0):\\n    x_trajectory = []\\n    y_trajectory = []\\n    # TODO: your code here\\n    prev_cte = robot.y\\n    for i in range(n):\\n        cte = robot.y\\n        diff_cte = cte - prev_cte\\n        prev_cte = cte\\n        steer = -tau_p * cte - tau_d * diff_cte\\n        robot.move(steer, speed)\\n        x_trajectory.append(robot.x)\\n        y_trajectory.append(robot.y)\\n    return x_trajectory, y_trajectory\\n\\n\\nx_trajectory, y_trajectory = run(robot, 0.2, 3.0)\\nn = len(x_trajectory)\\n\\nfig, ax1 = plt.subplots(figsize=(8, 4))\\nax1.plot(x_trajectory, y_trajectory, \\\"g\\\", label=\\\"PD controller\\\")\\nax1.plot(x_trajectory, np.zeros(n), \\\"r\\\", label=\\\"reference\\\")\\nax1.legend()\";\n",
       "                var nbb_cells = Jupyter.notebook.get_cells();\n",
       "                for (var i = 0; i < nbb_cells.length; ++i) {\n",
       "                    if (nbb_cells[i].input_prompt_number == nbb_cell_id) {\n",
       "                        if (nbb_cells[i].get_text() == nbb_unformatted_code) {\n",
       "                             nbb_cells[i].set_text(nbb_formatted_code);\n",
       "                        }\n",
       "                        break;\n",
       "                    }\n",
       "                }\n",
       "            }, 500);\n",
       "            "
      ],
      "text/plain": [
       "<IPython.core.display.Javascript object>"
      ]
     },
     "metadata": {},
     "output_type": "display_data"
    }
   ],
   "source": [
    "# -----------\n",
    "# User Instructions\n",
    "#\n",
    "# Implement a PD controller by running 100 iterations\n",
    "# of robot motion. The steering angle should be set\n",
    "# by the parameter tau_p and tau_d so that:\n",
    "#\n",
    "# steering = -tau_p * CTE - tau_d * diff_CTE\n",
    "# where differential crosstrack error (diff_CTE)\n",
    "# is given by CTE(t) - CTE(t-1)\n",
    "#\n",
    "#\n",
    "# Only modify code at the bottom! Look for the TODO\n",
    "# ------------\n",
    "\n",
    "\n",
    "############## ADD / MODIFY CODE BELOW ####################\n",
    "# ------------------------------------------------------------------------\n",
    "#\n",
    "# run - does a single control run\n",
    "\n",
    "# previous P controller\n",
    "def run_p(robot, tau, n=100, speed=1.0):\n",
    "    x_trajectory = []\n",
    "    y_trajectory = []\n",
    "    for i in range(n):\n",
    "        cte = robot.y\n",
    "        steer = -tau * cte\n",
    "        robot.move(steer, speed)\n",
    "        x_trajectory.append(robot.x)\n",
    "        y_trajectory.append(robot.y)\n",
    "    return x_trajectory, y_trajectory\n",
    "\n",
    "\n",
    "robot = Robot()\n",
    "robot.set(0, 1, 0)\n",
    "\n",
    "\n",
    "def run(robot, tau_p, tau_d, n=100, speed=1.0):\n",
    "    x_trajectory = []\n",
    "    y_trajectory = []\n",
    "    # TODO: your code here\n",
    "    prev_cte = robot.y\n",
    "    for i in range(n):\n",
    "        cte = robot.y\n",
    "        diff_cte = cte - prev_cte\n",
    "        prev_cte = cte\n",
    "        steer = -tau_p * cte - tau_d * diff_cte\n",
    "        robot.move(steer, speed)\n",
    "        x_trajectory.append(robot.x)\n",
    "        y_trajectory.append(robot.y)\n",
    "    return x_trajectory, y_trajectory\n",
    "\n",
    "\n",
    "x_trajectory, y_trajectory = run(robot, 0.2, 3.0)\n",
    "n = len(x_trajectory)\n",
    "\n",
    "fig, ax1 = plt.subplots(figsize=(8, 4))\n",
    "ax1.plot(x_trajectory, y_trajectory, \"g\", label=\"PD controller\")\n",
    "ax1.plot(x_trajectory, np.zeros(n), \"r\", label=\"reference\")\n",
    "ax1.legend()"
   ]
  },
  {
   "cell_type": "markdown",
   "metadata": {},
   "source": [
    "- this is very similar to the P controller\n",
    "- we've added the `prev_cte` variable which is assigned to the previous CTE and `diff_cte`, the difference between the current CTE and previous CTE\n",
    "- we then put it all together with the new `tau_d` parameter to calculate the new steering value, `-tau_p * cte - tau_d * diff_cte`"
   ]
  },
  {
   "cell_type": "markdown",
   "metadata": {},
   "source": [
    "# Systematic Bias"
   ]
  },
  {
   "cell_type": "markdown",
   "metadata": {},
   "source": [
    "- let's talk about a problem that often occurs in robotics called a *systematic bias*\n",
    "- when you ordered your car, you believed the front wheels were 100% aligned, but your mechanic made a mistake, and he aligned the wheels a little bit at an angle\n",
    "- now, for people that isn't a big concern--when we notice this we just steer a little bit stronger\n",
    "- but let's try this out with out our proportional controller\n",
    "\n",
    "\n",
    "- I'm now adding a line that sets the steering drift to be 10 degrees\n",
    "- **Q:** What happens when you run my proportional controller with parameter 0.2, and the differential controller set to 0?\n",
    "- **A:** Causes a big CTE. Even though the bias was in steering, it manifests itself as an increased crosstrack error in the y direction."
   ]
  },
  {
   "cell_type": "code",
   "execution_count": 5,
   "metadata": {},
   "outputs": [
    {
     "data": {
      "text/plain": [
       "<matplotlib.legend.Legend at 0x7f50b350ef90>"
      ]
     },
     "execution_count": 5,
     "metadata": {},
     "output_type": "execute_result"
    },
    {
     "data": {
      "image/png": "[encoded data removed]",
      "text/plain": [
       "<Figure size 576x288 with 1 Axes>"
      ]
     },
     "metadata": {
      "needs_background": "light"
     },
     "output_type": "display_data"
    },
    {
     "data": {
      "application/javascript": [
       "\n",
       "            setTimeout(function() {\n",
       "                var nbb_cell_id = 5;\n",
       "                var nbb_unformatted_code = \"from math import pi\\n\\nrobot.set_steering_drift(10.0 / 180.0 * pi)  # 10 degrees\\n\\nx_trajectory, y_trajectory = run(robot, 0.2, 3.0)\\nn = len(x_trajectory)\\n\\nfig, ax1 = plt.subplots(figsize=(8, 4))\\nax1.plot(x_trajectory, y_trajectory, \\\"g\\\", label=\\\"PD controller\\\")\\nax1.plot(x_trajectory, np.zeros(n), \\\"r\\\", label=\\\"reference\\\")\\nax1.legend()\";\n",
       "                var nbb_formatted_code = \"from math import pi\\n\\nrobot.set_steering_drift(10.0 / 180.0 * pi)  # 10 degrees\\n\\nx_trajectory, y_trajectory = run(robot, 0.2, 3.0)\\nn = len(x_trajectory)\\n\\nfig, ax1 = plt.subplots(figsize=(8, 4))\\nax1.plot(x_trajectory, y_trajectory, \\\"g\\\", label=\\\"PD controller\\\")\\nax1.plot(x_trajectory, np.zeros(n), \\\"r\\\", label=\\\"reference\\\")\\nax1.legend()\";\n",
       "                var nbb_cells = Jupyter.notebook.get_cells();\n",
       "                for (var i = 0; i < nbb_cells.length; ++i) {\n",
       "                    if (nbb_cells[i].input_prompt_number == nbb_cell_id) {\n",
       "                        if (nbb_cells[i].get_text() == nbb_unformatted_code) {\n",
       "                             nbb_cells[i].set_text(nbb_formatted_code);\n",
       "                        }\n",
       "                        break;\n",
       "                    }\n",
       "                }\n",
       "            }, 500);\n",
       "            "
      ],
      "text/plain": [
       "<IPython.core.display.Javascript object>"
      ]
     },
     "metadata": {},
     "output_type": "display_data"
    }
   ],
   "source": [
    "from math import pi\n",
    "\n",
    "robot.set_steering_drift(10.0 / 180.0 * pi)  # 10 degrees\n",
    "\n",
    "x_trajectory, y_trajectory = run(robot, 0.2, 3.0)\n",
    "n = len(x_trajectory)\n",
    "\n",
    "fig, ax1 = plt.subplots(figsize=(8, 4))\n",
    "ax1.plot(x_trajectory, y_trajectory, \"g\", label=\"PD controller\")\n",
    "ax1.plot(x_trajectory, np.zeros(n), \"r\", label=\"reference\")\n",
    "ax1.legend()"
   ]
  },
  {
   "cell_type": "markdown",
   "metadata": {},
   "source": [
    "# Is PD Enough"
   ]
  },
  {
   "cell_type": "markdown",
   "metadata": {},
   "source": [
    "- **Q** Can the differential term, or D-term, solve this problem?\n",
    "- **A:** No. Let us try this out. Let's enter a 3.0 for the differential term, run everything, and the y error is still large."
   ]
  },
  {
   "cell_type": "markdown",
   "metadata": {},
   "source": [
    "# PID implementation"
   ]
  },
  {
   "cell_type": "markdown",
   "metadata": {},
   "source": [
    "- if you drive a car and your normal steering mode leads you to a trajectory far away from the goal, you notice over a long period of time you can't get closer\n",
    "- so you start steering more and more the more time goes by to the right (to the goal) to compensate this bias\n",
    "- as a result, when you drive you steer the car this way (to the goal) to do so, you need a sustained situation of large error\n",
    "- that's measured by the integral or the sum of the crosstrack errors over time\n",
    "\n",
    "\n",
    "- let's make a new controller where steering is proportional to the crosstrack errors before, it's equally proportional to the differential of the crosstrack error, but now it's also proportional to what's called the integral or the sum of all the crosstrack errors you ever observed: $\\alpha = -\\tau_p \\cdot \\text{CTE} - \\tau_d \\dfrac{d}{dt} \\text{CTE} - \\tau_i \\cdot \\sum \\text{CTE}$\n",
    "  - if we have a constant crosstrack error of, say, $0.8$ and the sum will increase by $0.8$ for each time unit, it'll become larger and larger and larger, and eventually it'll correct the robot's motion\n",
    "  - this is called the PID controller\n",
    "    - **P** or the **proportional term**\n",
    "    - **D** or the **differential term**\n",
    "    - **I** for the **integral**\n",
    "\n",
    "\n",
    "- let's implement this in our code\n",
    "- I'll give you an integral factor of $0.004$ (let's not worry why I picked those--they're actually wisely chosen)"
   ]
  },
  {
   "cell_type": "code",
   "execution_count": 6,
   "metadata": {},
   "outputs": [
    {
     "data": {
      "text/plain": [
       "<matplotlib.legend.Legend at 0x7f50b352f5d0>"
      ]
     },
     "execution_count": 6,
     "metadata": {},
     "output_type": "execute_result"
    },
    {
     "data": {
      "image/png": "[encoded data removed]",
      "text/plain": [
       "<Figure size 576x288 with 1 Axes>"
      ]
     },
     "metadata": {
      "needs_background": "light"
     },
     "output_type": "display_data"
    },
    {
     "data": {
      "application/javascript": [
       "\n",
       "            setTimeout(function() {\n",
       "                var nbb_cell_id = 6;\n",
       "                var nbb_unformatted_code = \"# -----------\\n# User Instructions\\n#\\n# Implement a PID controller by running 100 iterations\\n# of robot motion. The steering angle should be set\\n# by the parameter tau so that:\\n#\\n# steering = -tau_p * CTE - tau_d * diff_CTE - tau_i * int_CTE\\n#\\n# where the integrated crosstrack error (int_CTE) is\\n# the sum of all the previous crosstrack errors.\\n# This term works to cancel out steering drift.\\n#\\n# Only modify code at the bottom! Look for the TODO.\\n# ------------\\n\\n\\n############## ADD / MODIFY CODE BELOW ####################\\n# ------------------------------------------------------------------------\\n#\\n# run - does a single control run\\n\\nrobot = Robot()\\nrobot.set(0, 1, 0)\\n\\n\\ndef run(robot, tau_p, tau_d, tau_i, n=100, speed=1.0):\\n    x_trajectory = []\\n    y_trajectory = []\\n    # TODO: your code here\\n    prev_cte = robot.y\\n    int_cte = 0\\n    for i in range(n):\\n        cte = robot.y\\n        diff_cte = cte - prev_cte\\n        prev_cte = cte\\n        int_cte += cte\\n        steer = -tau_p * cte - tau_d * diff_cte - tau_i * int_cte\\n        robot.move(steer, speed)\\n        x_trajectory.append(robot.x)\\n        y_trajectory.append(robot.y)\\n    return x_trajectory, y_trajectory\\n\\n\\nx_trajectory, y_trajectory = run(robot, 0.2, 3.0, 0.004)\\nn = len(x_trajectory)\\n\\nfig, ax1 = plt.subplots(figsize=(8, 4))\\nax1.plot(x_trajectory, y_trajectory, \\\"g\\\", label=\\\"PID controller\\\")\\nax1.plot(x_trajectory, np.zeros(n), \\\"r\\\", label=\\\"reference\\\")\\nax1.legend()\";\n",
       "                var nbb_formatted_code = \"# -----------\\n# User Instructions\\n#\\n# Implement a PID controller by running 100 iterations\\n# of robot motion. The steering angle should be set\\n# by the parameter tau so that:\\n#\\n# steering = -tau_p * CTE - tau_d * diff_CTE - tau_i * int_CTE\\n#\\n# where the integrated crosstrack error (int_CTE) is\\n# the sum of all the previous crosstrack errors.\\n# This term works to cancel out steering drift.\\n#\\n# Only modify code at the bottom! Look for the TODO.\\n# ------------\\n\\n\\n############## ADD / MODIFY CODE BELOW ####################\\n# ------------------------------------------------------------------------\\n#\\n# run - does a single control run\\n\\nrobot = Robot()\\nrobot.set(0, 1, 0)\\n\\n\\ndef run(robot, tau_p, tau_d, tau_i, n=100, speed=1.0):\\n    x_trajectory = []\\n    y_trajectory = []\\n    # TODO: your code here\\n    prev_cte = robot.y\\n    int_cte = 0\\n    for i in range(n):\\n        cte = robot.y\\n        diff_cte = cte - prev_cte\\n        prev_cte = cte\\n        int_cte += cte\\n        steer = -tau_p * cte - tau_d * diff_cte - tau_i * int_cte\\n        robot.move(steer, speed)\\n        x_trajectory.append(robot.x)\\n        y_trajectory.append(robot.y)\\n    return x_trajectory, y_trajectory\\n\\n\\nx_trajectory, y_trajectory = run(robot, 0.2, 3.0, 0.004)\\nn = len(x_trajectory)\\n\\nfig, ax1 = plt.subplots(figsize=(8, 4))\\nax1.plot(x_trajectory, y_trajectory, \\\"g\\\", label=\\\"PID controller\\\")\\nax1.plot(x_trajectory, np.zeros(n), \\\"r\\\", label=\\\"reference\\\")\\nax1.legend()\";\n",
       "                var nbb_cells = Jupyter.notebook.get_cells();\n",
       "                for (var i = 0; i < nbb_cells.length; ++i) {\n",
       "                    if (nbb_cells[i].input_prompt_number == nbb_cell_id) {\n",
       "                        if (nbb_cells[i].get_text() == nbb_unformatted_code) {\n",
       "                             nbb_cells[i].set_text(nbb_formatted_code);\n",
       "                        }\n",
       "                        break;\n",
       "                    }\n",
       "                }\n",
       "            }, 500);\n",
       "            "
      ],
      "text/plain": [
       "<IPython.core.display.Javascript object>"
      ]
     },
     "metadata": {},
     "output_type": "display_data"
    }
   ],
   "source": [
    "# -----------\n",
    "# User Instructions\n",
    "#\n",
    "# Implement a PID controller by running 100 iterations\n",
    "# of robot motion. The steering angle should be set\n",
    "# by the parameter tau so that:\n",
    "#\n",
    "# steering = -tau_p * CTE - tau_d * diff_CTE - tau_i * int_CTE\n",
    "#\n",
    "# where the integrated crosstrack error (int_CTE) is\n",
    "# the sum of all the previous crosstrack errors.\n",
    "# This term works to cancel out steering drift.\n",
    "#\n",
    "# Only modify code at the bottom! Look for the TODO.\n",
    "# ------------\n",
    "\n",
    "\n",
    "############## ADD / MODIFY CODE BELOW ####################\n",
    "# ------------------------------------------------------------------------\n",
    "#\n",
    "# run - does a single control run\n",
    "\n",
    "robot = Robot()\n",
    "robot.set(0, 1, 0)\n",
    "\n",
    "\n",
    "def run(robot, tau_p, tau_d, tau_i, n=100, speed=1.0):\n",
    "    x_trajectory = []\n",
    "    y_trajectory = []\n",
    "    # TODO: your code here\n",
    "    prev_cte = robot.y\n",
    "    int_cte = 0\n",
    "    for i in range(n):\n",
    "        cte = robot.y\n",
    "        diff_cte = cte - prev_cte\n",
    "        prev_cte = cte\n",
    "        int_cte += cte\n",
    "        steer = -tau_p * cte - tau_d * diff_cte - tau_i * int_cte\n",
    "        robot.move(steer, speed)\n",
    "        x_trajectory.append(robot.x)\n",
    "        y_trajectory.append(robot.y)\n",
    "    return x_trajectory, y_trajectory\n",
    "\n",
    "\n",
    "x_trajectory, y_trajectory = run(robot, 0.2, 3.0, 0.004)\n",
    "n = len(x_trajectory)\n",
    "\n",
    "fig, ax1 = plt.subplots(figsize=(8, 4))\n",
    "ax1.plot(x_trajectory, y_trajectory, \"g\", label=\"PID controller\")\n",
    "ax1.plot(x_trajectory, np.zeros(n), \"r\", label=\"reference\")\n",
    "ax1.legend()"
   ]
  },
  {
   "cell_type": "markdown",
   "metadata": {},
   "source": [
    "- with the integral term we're keeping track of all the previous CTEs, initially we set `int_cte` to $0$ and then add the current `cte` term to the count `int_cte += cte`\n",
    "- finally we update the steering value, `-tau_p * cte - tau_d * diff_cte - tau_i * int_cte` with the new `tau_i` parameter\n",
    "\n",
    "\n",
    "- this may not seem all that impressive\n",
    "- PID seems to do worse than the PD controller!\n",
    "- the purpose of the I-term is to compensate for biases, and the current robot has no bias"
   ]
  },
  {
   "cell_type": "markdown",
   "metadata": {},
   "source": [
    "# Twiddle"
   ]
  },
  {
   "cell_type": "markdown",
   "metadata": {},
   "source": [
    "- how can we find good control gains where control gains are these parameters $\\tau_p$, $\\tau_d$ and $\\tau_i$\n",
    "- the answer is so called *twiddle*--some people call it *coordinate ascent*\n",
    "- in Twiddle, we're trying to optimize for a set of parameters\n",
    "  - to do so, our function `run()` must return a goodness\n",
    "    - this goodness value might be the average crosstrack error\n",
    "\n",
    "\n",
    "- say I wanted to implement Twiddle to minimize the average crosstrack error\n",
    "  - if that's the case, then the output of `run()` depends on the three parameters\n",
    "- here's how Twiddle works:\n",
    "  - build a parameter vector `p` of our 3-target parameters, and initialize it with $0$\n",
    "  - also, build a vector of potential changes `dp` that you want to probe and initialize them for now with $1$\n",
    "  - then you can run our command `run()` with our parameters, and whatever it outputs is our best error so far\n",
    "  - now we wish to modify `p` as to make the error smaller\n",
    "  - that's where Twiddle comes in\n",
    "    - we sequentially go through these parameters\n",
    "    - first we tried to increase `p` by our probing value, compute a new error for this new modified `p`\n",
    "    - if this new error is better than our best error, then we do two things\n",
    "      - we set `best_err` to `err`\n",
    "      - we modify our `dp` to a slightly larger value by multiplying it with $1.1$\n",
    "    - otherwise, we try the other way\n",
    "      - we subtract `dp` from `p`--and we have to do it twice now because we added it before\n",
    "    - if both of those fail we set `p[i]` back to the original value, and we decrease our probing value--say, by multiplying it with $0.9$\n",
    "\n",
    "\n",
    "- that's the core of Twiddle, and what it really does is for each coordinate in isolation it moves our parameter down a little bit by some value\n",
    "- if it then finds a better solution, it retains it, and it even increments the probing interval\n",
    "- if it fails to find a better solution, it goes back to the original and decreases our probing interval\n",
    "- we do this entire thing so long as the sum of the dp's is larger than the threshold\n",
    "- it's local hill climber, but it happens to be really, really efficient\n",
    "\n",
    "<img src=\"resources/twiddle.png\"/>"
   ]
  },
  {
   "cell_type": "markdown",
   "metadata": {},
   "source": [
    "# Parameter Optimization"
   ]
  },
  {
   "cell_type": "code",
   "execution_count": 7,
   "metadata": {},
   "outputs": [
    {
     "name": "stdout",
     "output_type": "stream",
     "text": [
      "Iteration 0, best error = 8315.955485215645\n",
      "Iteration 1, best error = 0.0434970807256939\n",
      "Iteration 2, best error = 0.03065437362443958\n",
      "Iteration 3, best error = 0.007677320020068962\n",
      "Iteration 4, best error = 0.0032201674271162446\n",
      "Iteration 5, best error = 0.0016645945527960435\n",
      "Iteration 6, best error = 0.0009761080831682494\n",
      "Iteration 7, best error = 0.0006163432367765914\n",
      "Iteration 8, best error = 0.00041102748054356214\n",
      "Iteration 9, best error = 0.00019877374116068796\n",
      "Iteration 10, best error = 1.176902590931792e-06\n",
      "Iteration 11, best error = 7.050884269315375e-07\n",
      "Iteration 12, best error = 1.379736668887161e-12\n",
      "Iteration 13, best error = 1.379736668887161e-12\n",
      "Iteration 14, best error = 1.379736668887161e-12\n",
      "Iteration 15, best error = 1.0756081254419683e-12\n",
      "Iteration 16, best error = 1.0756081254419683e-12\n",
      "Iteration 17, best error = 1.0756081254419683e-12\n",
      "Iteration 18, best error = 8.12857772854578e-13\n",
      "Iteration 19, best error = 8.12857772854578e-13\n",
      "Iteration 20, best error = 8.12857772854578e-13\n",
      "Iteration 21, best error = 2.626274371887853e-13\n",
      "Iteration 22, best error = 2.626274371887853e-13\n",
      "Iteration 23, best error = 2.626274371887853e-13\n",
      "Iteration 24, best error = 2.626274371887853e-13\n",
      "Iteration 25, best error = 2.626274371887853e-13\n",
      "Iteration 26, best error = 2.626274371887853e-13\n",
      "Iteration 27, best error = 3.415464748206219e-14\n",
      "Iteration 28, best error = 2.2146601644375548e-14\n",
      "Iteration 29, best error = 1.1111316141677853e-15\n",
      "Iteration 30, best error = 1.1111316141677853e-15\n",
      "Iteration 31, best error = 1.1111316141677853e-15\n",
      "Iteration 32, best error = 6.486248420974659e-16\n",
      "Iteration 33, best error = 6.486248420974659e-16\n",
      "Iteration 34, best error = 6.486248420974659e-16\n",
      "Iteration 35, best error = 6.486248420974659e-16\n",
      "Iteration 36, best error = 6.486248420974659e-16\n",
      "Iteration 37, best error = 6.486248420974659e-16\n",
      "Iteration 38, best error = 6.486248420974659e-16\n",
      "Iteration 39, best error = 6.486248420974659e-16\n",
      "Iteration 40, best error = 6.486248420974659e-16\n",
      "Iteration 41, best error = 6.486248420974659e-16\n",
      "Iteration 42, best error = 6.486248420974659e-16\n",
      "Iteration 43, best error = 6.486248420974659e-16\n",
      "Iteration 44, best error = 6.486248420974659e-16\n",
      "Iteration 45, best error = 6.486248420974659e-16\n",
      "Iteration 46, best error = 6.486248420974659e-16\n",
      "Iteration 47, best error = 6.486248420974659e-16\n",
      "Iteration 48, best error = 6.486248420974659e-16\n",
      "Iteration 49, best error = 6.486248420974659e-16\n",
      "Iteration 50, best error = 6.486248420974659e-16\n",
      "Final twiddle error = 6.486248420974659e-16\n"
     ]
    },
    {
     "data": {
      "text/plain": [
       "<matplotlib.legend.Legend at 0x7f50b3476bd0>"
      ]
     },
     "execution_count": 7,
     "metadata": {},
     "output_type": "execute_result"
    },
    {
     "data": {
      "image/png": "[encoded data removed]",
      "text/plain": [
       "<Figure size 576x288 with 1 Axes>"
      ]
     },
     "metadata": {
      "needs_background": "light"
     },
     "output_type": "display_data"
    },
    {
     "data": {
      "application/javascript": [
       "\n",
       "            setTimeout(function() {\n",
       "                var nbb_cell_id = 7;\n",
       "                var nbb_unformatted_code = \"# ----------------\\n# User Instructions\\n#\\n# Implement twiddle as shown in the previous two videos.\\n# Your accumulated error should be very small!\\n#\\n# You don't have to use the exact values as shown in the video\\n# play around with different values! This quiz isn't graded just see\\n# how low of an error you can get.\\n#\\n# Try to get your error below 1.0e-10 with as few iterations\\n# as possible (too many iterations will cause a timeout).\\n#\\n# No cheating!\\n# ------------\\n\\n\\n############## ADD / MODIFY CODE BELOW ####################\\n# ------------------------------------------------------------------------\\n#\\n# run - does a single control run\\n\\n\\ndef make_robot():\\n    \\\"\\\"\\\"\\n    Resets the robot back to the initial position and drift.\\n    You'll want to call this after you call `run`.\\n    \\\"\\\"\\\"\\n    robot = Robot()\\n    robot.set(0, 1, 0)\\n    robot.set_steering_drift(10 / 180 * np.pi)\\n    return robot\\n\\n\\n# NOTE: We use params instead of tau_p, tau_d, tau_i\\ndef run(robot, params, n=100, speed=1.0):\\n    x_trajectory = []\\n    y_trajectory = []\\n    err = 0\\n    prev_cte = robot.y\\n    int_cte = 0\\n    for i in range(2 * n):  # set to 2n to see better how algorithm converges\\n        cte = robot.y\\n        diff_cte = cte - prev_cte\\n        int_cte += cte\\n        prev_cte = cte\\n        steer = -params[0] * cte - params[1] * diff_cte - params[2] * int_cte\\n        robot.move(steer, speed)\\n        x_trajectory.append(robot.x)\\n        y_trajectory.append(robot.y)\\n        if i >= n:\\n            err += cte ** 2\\n    return x_trajectory, y_trajectory, err / n\\n\\n\\n# Make this tolerance bigger if you are timing out!\\ndef twiddle(tol=0.2):\\n    # Don't forget to call `make_robot` before every call of `run`!\\n    p = [0, 0, 0]\\n    dp = [1, 1, 1]\\n    robot = make_robot()\\n    x_trajectory, y_trajectory, best_err = run(robot, p)\\n    # TODO: twiddle loop here\\n    it = 0\\n    while sum(dp) > tol:\\n        print(\\\"Iteration {}, best error = {}\\\".format(it, best_err))\\n        for i in range(len(p)):\\n            p[i] += dp[i]\\n            robot = make_robot()\\n            x_trajectory, y_trajectory, err = run(robot, p)\\n\\n            if err < best_err:\\n                best_err = err\\n                dp[i] *= 1.1\\n            else:\\n                p[i] -= 2 * dp[i]\\n                robot = make_robot()\\n                x_trajectory, y_trajectory, err = run(robot, p)\\n\\n                if err < best_err:\\n                    best_err = err\\n                    dp[i] *= 1.1\\n                else:\\n                    p[i] += dp[i]\\n                    dp[i] *= 0.9\\n        it += 1\\n\\n    return p, best_err\\n\\n\\nparams, err = twiddle()\\nprint(\\\"Final twiddle error = {}\\\".format(err))\\nrobot = make_robot()\\nx_trajectory, y_trajectory, err = run(robot, params)\\nn = len(x_trajectory)\\n\\nfig, ax1 = plt.subplots(1, 1, figsize=(8, 4))\\nax1.plot(x_trajectory, y_trajectory, \\\"g\\\", label=\\\"Twiddle PID controller\\\")\\nax1.plot(x_trajectory, np.zeros(n), \\\"r\\\", label=\\\"reference\\\")\\nax1.legend()\";\n",
       "                var nbb_formatted_code = \"# ----------------\\n# User Instructions\\n#\\n# Implement twiddle as shown in the previous two videos.\\n# Your accumulated error should be very small!\\n#\\n# You don't have to use the exact values as shown in the video\\n# play around with different values! This quiz isn't graded just see\\n# how low of an error you can get.\\n#\\n# Try to get your error below 1.0e-10 with as few iterations\\n# as possible (too many iterations will cause a timeout).\\n#\\n# No cheating!\\n# ------------\\n\\n\\n############## ADD / MODIFY CODE BELOW ####################\\n# ------------------------------------------------------------------------\\n#\\n# run - does a single control run\\n\\n\\ndef make_robot():\\n    \\\"\\\"\\\"\\n    Resets the robot back to the initial position and drift.\\n    You'll want to call this after you call `run`.\\n    \\\"\\\"\\\"\\n    robot = Robot()\\n    robot.set(0, 1, 0)\\n    robot.set_steering_drift(10 / 180 * np.pi)\\n    return robot\\n\\n\\n# NOTE: We use params instead of tau_p, tau_d, tau_i\\ndef run(robot, params, n=100, speed=1.0):\\n    x_trajectory = []\\n    y_trajectory = []\\n    err = 0\\n    prev_cte = robot.y\\n    int_cte = 0\\n    for i in range(2 * n):  # set to 2n to see better how algorithm converges\\n        cte = robot.y\\n        diff_cte = cte - prev_cte\\n        int_cte += cte\\n        prev_cte = cte\\n        steer = -params[0] * cte - params[1] * diff_cte - params[2] * int_cte\\n        robot.move(steer, speed)\\n        x_trajectory.append(robot.x)\\n        y_trajectory.append(robot.y)\\n        if i >= n:\\n            err += cte ** 2\\n    return x_trajectory, y_trajectory, err / n\\n\\n\\n# Make this tolerance bigger if you are timing out!\\ndef twiddle(tol=0.2):\\n    # Don't forget to call `make_robot` before every call of `run`!\\n    p = [0, 0, 0]\\n    dp = [1, 1, 1]\\n    robot = make_robot()\\n    x_trajectory, y_trajectory, best_err = run(robot, p)\\n    # TODO: twiddle loop here\\n    it = 0\\n    while sum(dp) > tol:\\n        print(\\\"Iteration {}, best error = {}\\\".format(it, best_err))\\n        for i in range(len(p)):\\n            p[i] += dp[i]\\n            robot = make_robot()\\n            x_trajectory, y_trajectory, err = run(robot, p)\\n\\n            if err < best_err:\\n                best_err = err\\n                dp[i] *= 1.1\\n            else:\\n                p[i] -= 2 * dp[i]\\n                robot = make_robot()\\n                x_trajectory, y_trajectory, err = run(robot, p)\\n\\n                if err < best_err:\\n                    best_err = err\\n                    dp[i] *= 1.1\\n                else:\\n                    p[i] += dp[i]\\n                    dp[i] *= 0.9\\n        it += 1\\n\\n    return p, best_err\\n\\n\\nparams, err = twiddle()\\nprint(\\\"Final twiddle error = {}\\\".format(err))\\nrobot = make_robot()\\nx_trajectory, y_trajectory, err = run(robot, params)\\nn = len(x_trajectory)\\n\\nfig, ax1 = plt.subplots(1, 1, figsize=(8, 4))\\nax1.plot(x_trajectory, y_trajectory, \\\"g\\\", label=\\\"Twiddle PID controller\\\")\\nax1.plot(x_trajectory, np.zeros(n), \\\"r\\\", label=\\\"reference\\\")\\nax1.legend()\";\n",
       "                var nbb_cells = Jupyter.notebook.get_cells();\n",
       "                for (var i = 0; i < nbb_cells.length; ++i) {\n",
       "                    if (nbb_cells[i].input_prompt_number == nbb_cell_id) {\n",
       "                        if (nbb_cells[i].get_text() == nbb_unformatted_code) {\n",
       "                             nbb_cells[i].set_text(nbb_formatted_code);\n",
       "                        }\n",
       "                        break;\n",
       "                    }\n",
       "                }\n",
       "            }, 500);\n",
       "            "
      ],
      "text/plain": [
       "<IPython.core.display.Javascript object>"
      ]
     },
     "metadata": {},
     "output_type": "display_data"
    }
   ],
   "source": [
    "# ----------------\n",
    "# User Instructions\n",
    "#\n",
    "# Implement twiddle as shown in the previous two videos.\n",
    "# Your accumulated error should be very small!\n",
    "#\n",
    "# You don't have to use the exact values as shown in the video\n",
    "# play around with different values! This quiz isn't graded just see\n",
    "# how low of an error you can get.\n",
    "#\n",
    "# Try to get your error below 1.0e-10 with as few iterations\n",
    "# as possible (too many iterations will cause a timeout).\n",
    "#\n",
    "# No cheating!\n",
    "# ------------\n",
    "\n",
    "\n",
    "############## ADD / MODIFY CODE BELOW ####################\n",
    "# ------------------------------------------------------------------------\n",
    "#\n",
    "# run - does a single control run\n",
    "\n",
    "\n",
    "def make_robot():\n",
    "    \"\"\"\n",
    "    Resets the robot back to the initial position and drift.\n",
    "    You'll want to call this after you call `run`.\n",
    "    \"\"\"\n",
    "    robot = Robot()\n",
    "    robot.set(0, 1, 0)\n",
    "    robot.set_steering_drift(10 / 180 * np.pi)\n",
    "    return robot\n",
    "\n",
    "\n",
    "# NOTE: We use params instead of tau_p, tau_d, tau_i\n",
    "def run(robot, params, n=100, speed=1.0):\n",
    "    x_trajectory = []\n",
    "    y_trajectory = []\n",
    "    err = 0\n",
    "    prev_cte = robot.y\n",
    "    int_cte = 0\n",
    "    for i in range(2 * n):  # set to 2n to see better how algorithm converges\n",
    "        cte = robot.y\n",
    "        diff_cte = cte - prev_cte\n",
    "        int_cte += cte\n",
    "        prev_cte = cte\n",
    "        steer = -params[0] * cte - params[1] * diff_cte - params[2] * int_cte\n",
    "        robot.move(steer, speed)\n",
    "        x_trajectory.append(robot.x)\n",
    "        y_trajectory.append(robot.y)\n",
    "        if i >= n:\n",
    "            err += cte ** 2\n",
    "    return x_trajectory, y_trajectory, err / n\n",
    "\n",
    "\n",
    "# Make this tolerance bigger if you are timing out!\n",
    "def twiddle(tol=0.2):\n",
    "    # Don't forget to call `make_robot` before every call of `run`!\n",
    "    p = [0, 0, 0]\n",
    "    dp = [1, 1, 1]\n",
    "    robot = make_robot()\n",
    "    x_trajectory, y_trajectory, best_err = run(robot, p)\n",
    "    # TODO: twiddle loop here\n",
    "    it = 0\n",
    "    while sum(dp) > tol:\n",
    "        print(\"Iteration {}, best error = {}\".format(it, best_err))\n",
    "        for i in range(len(p)):\n",
    "            p[i] += dp[i]\n",
    "            robot = make_robot()\n",
    "            x_trajectory, y_trajectory, err = run(robot, p)\n",
    "\n",
    "            if err < best_err:\n",
    "                best_err = err\n",
    "                dp[i] *= 1.1\n",
    "            else:\n",
    "                p[i] -= 2 * dp[i]\n",
    "                robot = make_robot()\n",
    "                x_trajectory, y_trajectory, err = run(robot, p)\n",
    "\n",
    "                if err < best_err:\n",
    "                    best_err = err\n",
    "                    dp[i] *= 1.1\n",
    "                else:\n",
    "                    p[i] += dp[i]\n",
    "                    dp[i] *= 0.9\n",
    "        it += 1\n",
    "\n",
    "    return p, best_err\n",
    "\n",
    "\n",
    "params, err = twiddle()\n",
    "print(\"Final twiddle error = {}\".format(err))\n",
    "robot = make_robot()\n",
    "x_trajectory, y_trajectory, err = run(robot, params)\n",
    "n = len(x_trajectory)\n",
    "\n",
    "fig, ax1 = plt.subplots(1, 1, figsize=(8, 4))\n",
    "ax1.plot(x_trajectory, y_trajectory, \"g\", label=\"Twiddle PID controller\")\n",
    "ax1.plot(x_trajectory, np.zeros(n), \"r\", label=\"reference\")\n",
    "ax1.legend()"
   ]
  },
  {
   "cell_type": "markdown",
   "metadata": {},
   "source": [
    "# Additional Resources on Control"
   ]
  },
  {
   "cell_type": "markdown",
   "metadata": {},
   "source": [
    "- nice work reaching the end of the control content!\n",
    "- while you still have the project left to do here, we're also providing some additional resources and recent research on the topic that you can come back to if you have time later on\n",
    "\n",
    "\n",
    "- all of these are completely optional reading - you could spend hours reading through the entirety of these!\n",
    "- we suggest moving onto the project first so you have what you’ve learned fresh on your mind, before coming back to check these out\n",
    "\n",
    "\n",
    "- we've categorized these papers to hopefully help you narrow down which ones might be of interest, as well as including their Abstract section, which summarizes the paper"
   ]
  },
  {
   "cell_type": "markdown",
   "metadata": {},
   "source": [
    "## Model Predictive Control (MPC)\n",
    "\n",
    "Vision-Based High Speed Driving with a Deep Dynamic Observer by P. Drews, et. al. https://arxiv.org/abs/1812.02071\n",
    "\n",
    "***Abstract:*** *In this paper we present a framework for combining deep learning-based road detection, particle filters, and Model Predictive Control (MPC) to drive aggressively using only a monocular camera, IMU, and wheel speed sensors. This framework uses deep convolutional neural networks combined with LSTMs to learn a local cost map representation of the track in front of the vehicle. A particle filter uses this dynamic observation model to localize in a schematic map, and MPC is used to drive aggressively using this particle filter based state estimate. We show extensive real world testing results, and demonstrate reliable operation of the vehicle at the friction limits on a complex dirt track. We reach speeds above 27 mph (12 m/s) on a dirt track with a 105 foot (32m) long straight using our 1:5 scale test vehicle. [...]*"
   ]
  },
  {
   "cell_type": "markdown",
   "metadata": {},
   "source": [
    "## Reinforcement Learning-based\n",
    "\n",
    "Reinforcement Learning and Deep Learning based Lateral Control for Autonomous Driving by D. Li, et. al. https://arxiv.org/abs/1810.12778\n",
    "\n",
    "***Abstract:*** *This paper investigates the vision-based autonomous driving with deep learning and reinforcement learning methods. Different from the end-to-end learning method, our method breaks the vision-based lateral control system down into a perception module and a control module. The perception module which is based on a multi-task learning neural network first takes a driver-view image as its input and predicts the track features. The control module which is based on reinforcement learning then makes a control decision based on these features. In order to improve the data efficiency, we propose visual TORCS (VTORCS), a deep reinforcement learning environment which is based on the open racing car simulator (TORCS). By means of the provided functions, one can train an agent with the input of an image or various physical sensor measurement, or evaluate the perception algorithm on this simulator. The trained reinforcement learning controller outperforms the linear quadratic regulator (LQR) controller and model predictive control (MPC) controller on different tracks. The experiments demonstrate that the perception module shows promising performance and the controller is capable of controlling the vehicle drive well along the track center with visual input.*"
   ]
  },
  {
   "cell_type": "markdown",
   "metadata": {},
   "source": [
    "## Behavioral Cloning\n",
    "\n",
    "The below paper shows one of the techniques Waymo has researched using imitation learning (aka behavioral cloning) to drive a car.\n",
    "\n",
    "ChauffeurNet: Learning to Drive by Imitating the Best and Synthesizing the Worst by M. Bansal, A. Krizhevsky and A. Ogale https://arxiv.org/abs/1812.03079\n",
    "\n",
    "***Abstract:*** *Our goal is to train a policy for autonomous driving via imitation learning that is robust enough to drive a real vehicle. We find that standard behavior cloning is insufficient for handling complex driving scenarios, even when we leverage a perception system for preprocessing the input and a controller for executing the output on the car: 30 million examples are still not enough. We propose exposing the learner to synthesized data in the form of perturbations to the expert's driving, which creates interesting situations such as collisions and/or going off the road. Rather than purely imitating all data, we augment the imitation loss with additional losses that penalize undesirable events and encourage progress -- the perturbations then provide an important signal for these losses and lead to robustness of the learned model. We show that the ChauffeurNet model can handle complex situations in simulation, and present ablation experiments that emphasize the importance of each of our proposed changes and show that the model is responding to the appropriate causal factors. Finally, we demonstrate the model driving a car in the real world.*"
   ]
  },
  {
   "cell_type": "code",
   "execution_count": null,
   "metadata": {},
   "outputs": [],
   "source": []
  }
 ],
 "metadata": {
  "kernelspec": {
   "display_name": "Python 3",
   "language": "python",
   "name": "python3"
  },
  "language_info": {
   "codemirror_mode": {
    "name": "ipython",
    "version": 3
   },
   "file_extension": ".py",
   "mimetype": "text/x-python",
   "name": "python",
   "nbconvert_exporter": "python",
   "pygments_lexer": "ipython3",
   "version": "3.7.6"
  }
 },
 "nbformat": 4,
 "nbformat_minor": 4
}
