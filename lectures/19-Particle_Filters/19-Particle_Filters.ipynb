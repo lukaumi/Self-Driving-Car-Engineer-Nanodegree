{
 "cells": [
  {
   "cell_type": "code",
   "execution_count": 1,
   "metadata": {},
   "outputs": [
    {
     "data": {
      "application/javascript": [
       "\n",
       "            setTimeout(function() {\n",
       "                var nbb_cell_id = 1;\n",
       "                var nbb_unformatted_code = \"%load_ext nb_black\";\n",
       "                var nbb_formatted_code = \"%load_ext nb_black\";\n",
       "                var nbb_cells = Jupyter.notebook.get_cells();\n",
       "                for (var i = 0; i < nbb_cells.length; ++i) {\n",
       "                    if (nbb_cells[i].input_prompt_number == nbb_cell_id) {\n",
       "                        if (nbb_cells[i].get_text() == nbb_unformatted_code) {\n",
       "                             nbb_cells[i].set_text(nbb_formatted_code);\n",
       "                        }\n",
       "                        break;\n",
       "                    }\n",
       "                }\n",
       "            }, 500);\n",
       "            "
      ],
      "text/plain": [
       "<IPython.core.display.Javascript object>"
      ]
     },
     "metadata": {},
     "output_type": "display_data"
    }
   ],
   "source": [
    "%load_ext nb_black"
   ]
  },
  {
   "cell_type": "markdown",
   "metadata": {},
   "source": [
    "- in our sequence of algorithms for estimating the state of a system, Particle Filters is the third one and in many ways is the best one\n",
    "  - it's the easiest to program and in most ways is the most flexible\n",
    "\n",
    "\n",
    "- to understand why I'm saying this let me start with a little quiz that goes back into the first 2 classes\n",
    "- in class 1, we learned about Histogram Filters, in class 2 about Kalman Filters, and we even had a proof there"
   ]
  },
  {
   "cell_type": "markdown",
   "metadata": {},
   "source": [
    "# State Space"
   ]
  },
  {
   "cell_type": "markdown",
   "metadata": {},
   "source": [
    "- **Q:** I'd like to know whether the state space was discrete or continuous for Histogram Filters and Kalman Filters?\n",
    "- **A:** When a Histogram Filter was discrete, distribution was defined over a finite set of bins, whereas the Kalman filter had a continuous state space."
   ]
  },
  {
   "cell_type": "markdown",
   "metadata": {},
   "source": [
    "# Belief Modality"
   ]
  },
  {
   "cell_type": "markdown",
   "metadata": {},
   "source": [
    "- **Q:** I would like to know whether distributions that can be represented may be unimodal or can also be multimodal? So, check unimodal if this is all we can do, whereas if we can have multiple bumps in our probability distribution, check multimodal.\n",
    "- **A:** Here the Histogram Filter scores better--even though it was discrete, it was able to represent multiple bumps, which the Kalman Filter couldn't--so it's unimodal. The Kalman Filter was a single Gaussian which is by definition unimodal, whereas the Histogram Filter can have bumps over arbitrary grid cells."
   ]
  },
  {
   "cell_type": "markdown",
   "metadata": {},
   "source": [
    "# Efficiency"
   ]
  },
  {
   "cell_type": "markdown",
   "metadata": {},
   "source": [
    "- **Q:** The next question I wouldn't need to dwell on in the class, but I think it's important. When it comes to scaling in the number of dimensions of the state space, the amount of storage we have to assign? I give you 2 answers--it could be quadratic or exponential. I understand I didn't really discuss this, but go back in your memory to how grids are represented and how Gaussian's are represented.\n",
    "- **A:** The Histogram Filter's biggest disadvantage is it scales exponentially, and the reason is any grid that is defined over $k$ dimensions will end up having exponentially many grid cells in the number of dimensions, which is really unfortunate because we can't really represent high dimensional grids really well. So, it works really well for low dimensional problems like 3 dimensional robot localization problems. The Kalman Filter in contrast, under certain assumptions, is quadratic. All we represented was a vector, the mean, and the covariance matrix, and the covariance matrix is quadratic. And it turns out all the computation, if your measurements space is a fixed size, ends up to be quadratic (without a proof here so, you just have to take it by faith). So, if you have a 15, 20 dimensional state space, the Kalman Filters will be more efficient than the Histogram Filters."
   ]
  },
  {
   "cell_type": "markdown",
   "metadata": {},
   "source": [
    "# Exact or Approximate"
   ]
  },
  {
   "cell_type": "markdown",
   "metadata": {},
   "source": [
    "- **Q:** When applied to robotics do we believe the Histogram Filter and Kalman Filter are exact or approximate?\n",
    "- **A:** Histogram Filters tend to be approximate because the world tends not to be discrete. So localization, for example, it's clearly an approximate filter. It turns out Kalman Filters are also approximate, and it's a much more subtle observation--it turns out Kalman Filters only are exact for linear systems, whereas the world happens to be nonlinear.\n",
    "  - Now this goes into a lot of deep math, which I don't want to get into here, but you should understand that both of these filters are not exact. Both of them tend to be just approximations of the correct posterior distribution."
   ]
  },
  {
   "cell_type": "markdown",
   "metadata": {},
   "source": [
    "# Particle Filters"
   ]
  },
  {
   "cell_type": "markdown",
   "metadata": {},
   "source": [
    "- now let's look into Particle Filters, the subject of today's class, and it's really interesting to see the answers for particle filters\n",
    "  - the state space for particle filters is usually continuous--so, you can get into the more interesting version of state spaces\n",
    "  - we're not confined to unimodal distributions--we can actually represent arbitrarily multimodal distributions\n",
    "  - they are also approximate just like the other 2 filters\n",
    "  - in terms of efficiency the world is still out there--in certain incarnations, they clearly scale exponentially, and it is a mistake to represent Particle Filters over anything more than say 4 dimensions\n",
    "    - but in other domains, mostly in tracking domains, they tend to scale much, much better, and I've not seen a good treatment yet of the complexity in practice for Particle Filters\n",
    "\n",
    "\n",
    "- the key advantage of Particle Filters is actually none of those things over here--the key advantage, at least in my life, has been they're really easy to program\n",
    "\n",
    "\n",
    "- you will write your own particle filter for a continuous value localization problem, which is in many ways more difficult than any of the problems we talked about before\n",
    "- https://youtu.be/4S-sx5_cmLU?t=83\n",
    "  - here is a floor plan of an environment where a robot is located and it has to perform what's called global localization, which is it has no clue where it is and it has to find out where it is just based on sensor measurements\n",
    "  - this provides his range sensors as indicated by the blue stripes--those use sonar sensors, which means sound, to range the distance of nearer obstacles, and it has to use these range sensors to determine a good posterior distribution as to where it is\n",
    "  - what the robot doesn't know it's starting in the middle of the corridor--in fact, it is completely uncertain as to where it is\n",
    "  - now, the particle filter represents this using particles--each of these red dots of which there are several thousand here is a discrete guess where the robot might be\n",
    "    - it's structured as an $x$ coordinate, a $y$ coordinate, and also a heading direction, and these 3 values together comprise a single guess, but a single guess is not a filter\n",
    "    - it is the set of several thousands of such guesses that together comprise an approximate representation for the posterior of the robot\n",
    "  - in the beginning the particles are uniformly spread, but the particle filter makes them survive in proportion of how consistent one of these particles is with a sensor measurement\n",
    "  - the essence of particle filters is to have these particles guess where the robot might be moving, but also have them survive using effectively survival of the fittest so that particles that are more consistent with the measurements are more likely to survive and as a result places of high probability will collect more particles, and therefore be more representative of the robot's posterior belief\n",
    "  - those particles together--those thousands of particles are in the end clustered in a single location--those comprise the approximate belief of the robot as it localizes itself"
   ]
  },
  {
   "cell_type": "markdown",
   "metadata": {},
   "source": [
    "# Using Robot Class"
   ]
  },
  {
   "cell_type": "markdown",
   "metadata": {},
   "source": [
    "- Sebastian wrote a piece of code for you that I am now going to demonstrate\n",
    "- the main class is a class called `robot`\n",
    "- this robot lives in a 2-dimensional world of size $100x100$ meters\n",
    "- it can see 4 different landmarks that are located at the following coordinates: $20, 20; 80,80; 20,80; 80,20$\n",
    "- to instantiate such a robot all you have to do is call a function `robot()` and assign it to a variable `myrobot`\n",
    "- now we can do things with `myrobot`\n",
    "  - we can set a position `myrobot.set(10.0, 10.0, 0.0)`\n",
    "    - these 3 values are the X coordinate, the Y coordinate, and the heading in radians, and this command assigns those values to the robot\n",
    "  - we can make the robot move `myrobot.move(0.0, 10.0)`\n",
    "    - this robot moves 10 meters forward and doesn't turn\n",
    "  - the last thing I want to show you is how to generate measurements\n",
    "    - `myrobot.sense()` gives you the distance to the 4 landmarks\n",
    "\n",
    "\n",
    "- this code has a little bit more stuff\n",
    "- it actually assimilates noise, but the noise filters are all set to $0$ and those noise filters are really important for particle filters so you can play with those if you like\n",
    "  - in fact, there's a function over here called `set_noise()` which allows you to set them\n",
    "- later on we have a function that makes kind of no sense right now, but really important as we implement particle filters called `measurement_prob()` which accepts a measurement and tells you how plausible this measurement is\n",
    "  - it's kind of the key thing for the survival of the fittest rule in Particle Filters"
   ]
  },
  {
   "cell_type": "markdown",
   "metadata": {},
   "source": [
    "# Moving Robot"
   ]
  },
  {
   "cell_type": "markdown",
   "metadata": {},
   "source": [
    "- here's our first programming exercise\n",
    "- I'd like you to make a robot that starts at coordinates $30$ and $50$, and it heads north, which means its heading direction is $\\pi/2$\n",
    "- it then turns clockwise by $\\pi/2$, which means you subtract $\\pi/2$ from the heading direction, and it moves $15$ meters\n",
    "- it then senses, and I want you to print out the sensor measurements\n",
    "- it then turns clockwise by $\\pi/2$ again, and moves $10$ meters this time and I just want you to print out the sensor measurements after this entire procedure"
   ]
  },
  {
   "cell_type": "code",
   "execution_count": 2,
   "metadata": {
    "scrolled": true
   },
   "outputs": [
    {
     "data": {
      "application/javascript": [
       "\n",
       "            setTimeout(function() {\n",
       "                var nbb_cell_id = 2;\n",
       "                var nbb_unformatted_code = \"from math import *\\nimport random\\n\\n\\nlandmarks = [[20.0, 20.0], [80.0, 80.0], [20.0, 80.0], [80.0, 20.0]]\\nworld_size = 100.0\\n\\n\\nclass robot:\\n    def __init__(self):\\n        self.x = random.random() * world_size\\n        self.y = random.random() * world_size\\n        self.orientation = random.random() * 2.0 * pi\\n        self.forward_noise = 0.0\\n        self.turn_noise = 0.0\\n        self.sense_noise = 0.0\\n\\n    def set(self, new_x, new_y, new_orientation):\\n        if new_x < 0 or new_x >= world_size:\\n            raise ValueError(\\\"X coordinate out of bound\\\")\\n        if new_y < 0 or new_y >= world_size:\\n            raise ValueError(\\\"Y coordinate out of bound\\\")\\n        if new_orientation < 0 or new_orientation >= 2 * pi:\\n            raise ValueError(\\\"Orientation must be in [0..2pi]\\\")\\n        self.x = float(new_x)\\n        self.y = float(new_y)\\n        self.orientation = float(new_orientation)\\n\\n    def set_noise(self, new_f_noise, new_t_noise, new_s_noise):\\n        # makes it possible to change the noise parameters\\n        # this is often useful in particle filters\\n        self.forward_noise = float(new_f_noise)\\n        self.turn_noise = float(new_t_noise)\\n        self.sense_noise = float(new_s_noise)\\n\\n    def sense(self):\\n        Z = []\\n        for i in range(len(landmarks)):\\n            dist = sqrt(\\n                (self.x - landmarks[i][0]) ** 2 + (self.y - landmarks[i][1]) ** 2\\n            )\\n            dist += random.gauss(0.0, self.sense_noise)\\n            Z.append(dist)\\n        return Z\\n\\n    def move(self, turn, forward):\\n        if forward < 0:\\n            raise ValueError(\\\"Robot cant move backwards\\\")\\n\\n        # turn, and add randomness to the turning command\\n        orientation = (\\n            self.orientation + float(turn) + random.gauss(0.0, self.turn_noise)\\n        )\\n        orientation %= 2 * pi\\n\\n        # move, and add randomness to the motion command\\n        dist = float(forward) + random.gauss(0.0, self.forward_noise)\\n        x = self.x + (cos(orientation) * dist)\\n        y = self.y + (sin(orientation) * dist)\\n        x %= world_size  # cyclic truncate\\n        y %= world_size\\n\\n        # set particle\\n        res = robot()\\n        res.set(x, y, orientation)\\n        res.set_noise(self.forward_noise, self.turn_noise, self.sense_noise)\\n        return res\\n\\n    def Gaussian(self, mu, sigma, x):\\n\\n        # calculates the probability of x for 1-dim Gaussian with mean mu and var. sigma\\n        return exp(-((mu - x) ** 2) / (sigma ** 2) / 2.0) / sqrt(\\n            2.0 * pi * (sigma ** 2)\\n        )\\n\\n    def measurement_prob(self, measurement):\\n\\n        # calculates how likely a measurement should be\\n\\n        prob = 1.0\\n        for i in range(len(landmarks)):\\n            dist = sqrt(\\n                (self.x - landmarks[i][0]) ** 2 + (self.y - landmarks[i][1]) ** 2\\n            )\\n            prob *= self.Gaussian(dist, self.sense_noise, measurement[i])\\n        return prob\\n\\n    def __repr__(self):\\n        return \\\"[x=%.6s y=%.6s orient=%.6s]\\\" % (\\n            str(self.x),\\n            str(self.y),\\n            str(self.orientation),\\n        )\\n\\n\\ndef eval(r, p):\\n    sum = 0.0\\n    for i in range(len(p)):  # calculate mean error\\n        dx = (p[i].x - r.x + (world_size / 2.0)) % world_size - (world_size / 2.0)\\n        dy = (p[i].y - r.y + (world_size / 2.0)) % world_size - (world_size / 2.0)\\n        err = sqrt(dx * dx + dy * dy)\\n        sum += err\\n    return sum / float(len(p))\";\n",
       "                var nbb_formatted_code = \"from math import *\\nimport random\\n\\n\\nlandmarks = [[20.0, 20.0], [80.0, 80.0], [20.0, 80.0], [80.0, 20.0]]\\nworld_size = 100.0\\n\\n\\nclass robot:\\n    def __init__(self):\\n        self.x = random.random() * world_size\\n        self.y = random.random() * world_size\\n        self.orientation = random.random() * 2.0 * pi\\n        self.forward_noise = 0.0\\n        self.turn_noise = 0.0\\n        self.sense_noise = 0.0\\n\\n    def set(self, new_x, new_y, new_orientation):\\n        if new_x < 0 or new_x >= world_size:\\n            raise ValueError(\\\"X coordinate out of bound\\\")\\n        if new_y < 0 or new_y >= world_size:\\n            raise ValueError(\\\"Y coordinate out of bound\\\")\\n        if new_orientation < 0 or new_orientation >= 2 * pi:\\n            raise ValueError(\\\"Orientation must be in [0..2pi]\\\")\\n        self.x = float(new_x)\\n        self.y = float(new_y)\\n        self.orientation = float(new_orientation)\\n\\n    def set_noise(self, new_f_noise, new_t_noise, new_s_noise):\\n        # makes it possible to change the noise parameters\\n        # this is often useful in particle filters\\n        self.forward_noise = float(new_f_noise)\\n        self.turn_noise = float(new_t_noise)\\n        self.sense_noise = float(new_s_noise)\\n\\n    def sense(self):\\n        Z = []\\n        for i in range(len(landmarks)):\\n            dist = sqrt(\\n                (self.x - landmarks[i][0]) ** 2 + (self.y - landmarks[i][1]) ** 2\\n            )\\n            dist += random.gauss(0.0, self.sense_noise)\\n            Z.append(dist)\\n        return Z\\n\\n    def move(self, turn, forward):\\n        if forward < 0:\\n            raise ValueError(\\\"Robot cant move backwards\\\")\\n\\n        # turn, and add randomness to the turning command\\n        orientation = (\\n            self.orientation + float(turn) + random.gauss(0.0, self.turn_noise)\\n        )\\n        orientation %= 2 * pi\\n\\n        # move, and add randomness to the motion command\\n        dist = float(forward) + random.gauss(0.0, self.forward_noise)\\n        x = self.x + (cos(orientation) * dist)\\n        y = self.y + (sin(orientation) * dist)\\n        x %= world_size  # cyclic truncate\\n        y %= world_size\\n\\n        # set particle\\n        res = robot()\\n        res.set(x, y, orientation)\\n        res.set_noise(self.forward_noise, self.turn_noise, self.sense_noise)\\n        return res\\n\\n    def Gaussian(self, mu, sigma, x):\\n\\n        # calculates the probability of x for 1-dim Gaussian with mean mu and var. sigma\\n        return exp(-((mu - x) ** 2) / (sigma ** 2) / 2.0) / sqrt(\\n            2.0 * pi * (sigma ** 2)\\n        )\\n\\n    def measurement_prob(self, measurement):\\n\\n        # calculates how likely a measurement should be\\n\\n        prob = 1.0\\n        for i in range(len(landmarks)):\\n            dist = sqrt(\\n                (self.x - landmarks[i][0]) ** 2 + (self.y - landmarks[i][1]) ** 2\\n            )\\n            prob *= self.Gaussian(dist, self.sense_noise, measurement[i])\\n        return prob\\n\\n    def __repr__(self):\\n        return \\\"[x=%.6s y=%.6s orient=%.6s]\\\" % (\\n            str(self.x),\\n            str(self.y),\\n            str(self.orientation),\\n        )\\n\\n\\ndef eval(r, p):\\n    sum = 0.0\\n    for i in range(len(p)):  # calculate mean error\\n        dx = (p[i].x - r.x + (world_size / 2.0)) % world_size - (world_size / 2.0)\\n        dy = (p[i].y - r.y + (world_size / 2.0)) % world_size - (world_size / 2.0)\\n        err = sqrt(dx * dx + dy * dy)\\n        sum += err\\n    return sum / float(len(p))\";\n",
       "                var nbb_cells = Jupyter.notebook.get_cells();\n",
       "                for (var i = 0; i < nbb_cells.length; ++i) {\n",
       "                    if (nbb_cells[i].input_prompt_number == nbb_cell_id) {\n",
       "                        if (nbb_cells[i].get_text() == nbb_unformatted_code) {\n",
       "                             nbb_cells[i].set_text(nbb_formatted_code);\n",
       "                        }\n",
       "                        break;\n",
       "                    }\n",
       "                }\n",
       "            }, 500);\n",
       "            "
      ],
      "text/plain": [
       "<IPython.core.display.Javascript object>"
      ]
     },
     "metadata": {},
     "output_type": "display_data"
    }
   ],
   "source": [
    "from math import *\n",
    "import random\n",
    "\n",
    "\n",
    "landmarks = [[20.0, 20.0], [80.0, 80.0], [20.0, 80.0], [80.0, 20.0]]\n",
    "world_size = 100.0\n",
    "\n",
    "\n",
    "class robot:\n",
    "    def __init__(self):\n",
    "        self.x = random.random() * world_size\n",
    "        self.y = random.random() * world_size\n",
    "        self.orientation = random.random() * 2.0 * pi\n",
    "        self.forward_noise = 0.0\n",
    "        self.turn_noise = 0.0\n",
    "        self.sense_noise = 0.0\n",
    "\n",
    "    def set(self, new_x, new_y, new_orientation):\n",
    "        if new_x < 0 or new_x >= world_size:\n",
    "            raise ValueError(\"X coordinate out of bound\")\n",
    "        if new_y < 0 or new_y >= world_size:\n",
    "            raise ValueError(\"Y coordinate out of bound\")\n",
    "        if new_orientation < 0 or new_orientation >= 2 * pi:\n",
    "            raise ValueError(\"Orientation must be in [0..2pi]\")\n",
    "        self.x = float(new_x)\n",
    "        self.y = float(new_y)\n",
    "        self.orientation = float(new_orientation)\n",
    "\n",
    "    def set_noise(self, new_f_noise, new_t_noise, new_s_noise):\n",
    "        # makes it possible to change the noise parameters\n",
    "        # this is often useful in particle filters\n",
    "        self.forward_noise = float(new_f_noise)\n",
    "        self.turn_noise = float(new_t_noise)\n",
    "        self.sense_noise = float(new_s_noise)\n",
    "\n",
    "    def sense(self):\n",
    "        Z = []\n",
    "        for i in range(len(landmarks)):\n",
    "            dist = sqrt(\n",
    "                (self.x - landmarks[i][0]) ** 2 + (self.y - landmarks[i][1]) ** 2\n",
    "            )\n",
    "            dist += random.gauss(0.0, self.sense_noise)\n",
    "            Z.append(dist)\n",
    "        return Z\n",
    "\n",
    "    def move(self, turn, forward):\n",
    "        if forward < 0:\n",
    "            raise ValueError(\"Robot cant move backwards\")\n",
    "\n",
    "        # turn, and add randomness to the turning command\n",
    "        orientation = (\n",
    "            self.orientation + float(turn) + random.gauss(0.0, self.turn_noise)\n",
    "        )\n",
    "        orientation %= 2 * pi\n",
    "\n",
    "        # move, and add randomness to the motion command\n",
    "        dist = float(forward) + random.gauss(0.0, self.forward_noise)\n",
    "        x = self.x + (cos(orientation) * dist)\n",
    "        y = self.y + (sin(orientation) * dist)\n",
    "        x %= world_size  # cyclic truncate\n",
    "        y %= world_size\n",
    "\n",
    "        # set particle\n",
    "        res = robot()\n",
    "        res.set(x, y, orientation)\n",
    "        res.set_noise(self.forward_noise, self.turn_noise, self.sense_noise)\n",
    "        return res\n",
    "\n",
    "    def Gaussian(self, mu, sigma, x):\n",
    "\n",
    "        # calculates the probability of x for 1-dim Gaussian with mean mu and var. sigma\n",
    "        return exp(-((mu - x) ** 2) / (sigma ** 2) / 2.0) / sqrt(\n",
    "            2.0 * pi * (sigma ** 2)\n",
    "        )\n",
    "\n",
    "    def measurement_prob(self, measurement):\n",
    "\n",
    "        # calculates how likely a measurement should be\n",
    "\n",
    "        prob = 1.0\n",
    "        for i in range(len(landmarks)):\n",
    "            dist = sqrt(\n",
    "                (self.x - landmarks[i][0]) ** 2 + (self.y - landmarks[i][1]) ** 2\n",
    "            )\n",
    "            prob *= self.Gaussian(dist, self.sense_noise, measurement[i])\n",
    "        return prob\n",
    "\n",
    "    def __repr__(self):\n",
    "        return \"[x=%.6s y=%.6s orient=%.6s]\" % (\n",
    "            str(self.x),\n",
    "            str(self.y),\n",
    "            str(self.orientation),\n",
    "        )\n",
    "\n",
    "\n",
    "def eval(r, p):\n",
    "    sum = 0.0\n",
    "    for i in range(len(p)):  # calculate mean error\n",
    "        dx = (p[i].x - r.x + (world_size / 2.0)) % world_size - (world_size / 2.0)\n",
    "        dy = (p[i].y - r.y + (world_size / 2.0)) % world_size - (world_size / 2.0)\n",
    "        err = sqrt(dx * dx + dy * dy)\n",
    "        sum += err\n",
    "    return sum / float(len(p))"
   ]
  },
  {
   "cell_type": "code",
   "execution_count": 3,
   "metadata": {},
   "outputs": [
    {
     "name": "stdout",
     "output_type": "stream",
     "text": [
      "[39.05124837953327, 46.09772228646444, 39.05124837953327, 46.09772228646444]\n",
      "[32.01562118716424, 53.150729063673246, 47.16990566028302, 40.311288741492746]\n"
     ]
    },
    {
     "data": {
      "application/javascript": [
       "\n",
       "            setTimeout(function() {\n",
       "                var nbb_cell_id = 3;\n",
       "                var nbb_unformatted_code = \"# Make a robot called myrobot that starts at\\n# coordinates 30, 50 heading north (pi/2).\\n# Have your robot turn clockwise by pi/2, move\\n# 15 m, and sense. Then have it turn clockwise\\n# by pi/2 again, move 10 m, and sense again.\\n#\\n# Your program should print out the result of\\n# your two sense measurements.\\n#\\n# Don't modify the code below. Please enter\\n# your code at the bottom.\\n\\n####   DON'T MODIFY ANYTHING ABOVE HERE! ENTER CODE BELOW ####\\n\\nmyrobot = robot()\\n\\nmyrobot.set(30.0, 50.0, pi / 2)\\nmyrobot = myrobot.move(-pi / 2, 15.0)\\nprint(myrobot.sense())\\nmyrobot = myrobot.move(-pi / 2, 10.0)\\nprint(myrobot.sense())\";\n",
       "                var nbb_formatted_code = \"# Make a robot called myrobot that starts at\\n# coordinates 30, 50 heading north (pi/2).\\n# Have your robot turn clockwise by pi/2, move\\n# 15 m, and sense. Then have it turn clockwise\\n# by pi/2 again, move 10 m, and sense again.\\n#\\n# Your program should print out the result of\\n# your two sense measurements.\\n#\\n# Don't modify the code below. Please enter\\n# your code at the bottom.\\n\\n####   DON'T MODIFY ANYTHING ABOVE HERE! ENTER CODE BELOW ####\\n\\nmyrobot = robot()\\n\\nmyrobot.set(30.0, 50.0, pi / 2)\\nmyrobot = myrobot.move(-pi / 2, 15.0)\\nprint(myrobot.sense())\\nmyrobot = myrobot.move(-pi / 2, 10.0)\\nprint(myrobot.sense())\";\n",
       "                var nbb_cells = Jupyter.notebook.get_cells();\n",
       "                for (var i = 0; i < nbb_cells.length; ++i) {\n",
       "                    if (nbb_cells[i].input_prompt_number == nbb_cell_id) {\n",
       "                        if (nbb_cells[i].get_text() == nbb_unformatted_code) {\n",
       "                             nbb_cells[i].set_text(nbb_formatted_code);\n",
       "                        }\n",
       "                        break;\n",
       "                    }\n",
       "                }\n",
       "            }, 500);\n",
       "            "
      ],
      "text/plain": [
       "<IPython.core.display.Javascript object>"
      ]
     },
     "metadata": {},
     "output_type": "display_data"
    }
   ],
   "source": [
    "# Make a robot called myrobot that starts at\n",
    "# coordinates 30, 50 heading north (pi/2).\n",
    "# Have your robot turn clockwise by pi/2, move\n",
    "# 15 m, and sense. Then have it turn clockwise\n",
    "# by pi/2 again, move 10 m, and sense again.\n",
    "#\n",
    "# Your program should print out the result of\n",
    "# your two sense measurements.\n",
    "#\n",
    "# Don't modify the code below. Please enter\n",
    "# your code at the bottom.\n",
    "\n",
    "####   DON'T MODIFY ANYTHING ABOVE HERE! ENTER CODE BELOW ####\n",
    "\n",
    "myrobot = robot()\n",
    "\n",
    "myrobot.set(30.0, 50.0, pi / 2)\n",
    "myrobot = myrobot.move(-pi / 2, 15.0)\n",
    "print(myrobot.sense())\n",
    "myrobot = myrobot.move(-pi / 2, 10.0)\n",
    "print(myrobot.sense())"
   ]
  },
  {
   "cell_type": "markdown",
   "metadata": {},
   "source": [
    "# Add Noise"
   ]
  },
  {
   "cell_type": "markdown",
   "metadata": {},
   "source": [
    "- next, I'd like you to play with the noise\n",
    "- our class `robot` has built-in noise variables\n",
    "  - one is for forward motion--this is the added Gaussian noise variable to the motion you command\n",
    "  - the same for turn and the same for the sensor measurements\n",
    "- I want you to--into your code--set these values as follows: `forward_noise` equals $5.0$, `turn_noise` equals $0.1$, and `sense_noise` equals $5.0$"
   ]
  },
  {
   "cell_type": "code",
   "execution_count": 4,
   "metadata": {
    "scrolled": false
   },
   "outputs": [
    {
     "name": "stdout",
     "output_type": "stream",
     "text": [
      "[45.35578159518798, 56.52837760277248, 35.04567917592496, 48.83381941909112]\n",
      "[31.74325639705242, 53.35489027139334, 48.140109539986796, 47.78216420935595]\n"
     ]
    },
    {
     "data": {
      "application/javascript": [
       "\n",
       "            setTimeout(function() {\n",
       "                var nbb_cell_id = 4;\n",
       "                var nbb_unformatted_code = \"####   DON'T MODIFY ANYTHING ABOVE HERE! ENTER CODE BELOW ####\\n\\nmyrobot = robot()\\n# enter code here\\nforward_noise = 5.0\\nturn_noise = 0.1\\nsense_noise = 5.0\\nmyrobot.set_noise(forward_noise, turn_noise, sense_noise)\\nmyrobot.set(30.0, 50.0, pi / 2)\\nmyrobot = myrobot.move(-pi / 2, 15.0)\\nprint(myrobot.sense())\\nmyrobot = myrobot.move(-pi / 2, 10.0)\\nprint(myrobot.sense())\";\n",
       "                var nbb_formatted_code = \"####   DON'T MODIFY ANYTHING ABOVE HERE! ENTER CODE BELOW ####\\n\\nmyrobot = robot()\\n# enter code here\\nforward_noise = 5.0\\nturn_noise = 0.1\\nsense_noise = 5.0\\nmyrobot.set_noise(forward_noise, turn_noise, sense_noise)\\nmyrobot.set(30.0, 50.0, pi / 2)\\nmyrobot = myrobot.move(-pi / 2, 15.0)\\nprint(myrobot.sense())\\nmyrobot = myrobot.move(-pi / 2, 10.0)\\nprint(myrobot.sense())\";\n",
       "                var nbb_cells = Jupyter.notebook.get_cells();\n",
       "                for (var i = 0; i < nbb_cells.length; ++i) {\n",
       "                    if (nbb_cells[i].input_prompt_number == nbb_cell_id) {\n",
       "                        if (nbb_cells[i].get_text() == nbb_unformatted_code) {\n",
       "                             nbb_cells[i].set_text(nbb_formatted_code);\n",
       "                        }\n",
       "                        break;\n",
       "                    }\n",
       "                }\n",
       "            }, 500);\n",
       "            "
      ],
      "text/plain": [
       "<IPython.core.display.Javascript object>"
      ]
     },
     "metadata": {},
     "output_type": "display_data"
    }
   ],
   "source": [
    "####   DON'T MODIFY ANYTHING ABOVE HERE! ENTER CODE BELOW ####\n",
    "\n",
    "myrobot = robot()\n",
    "# enter code here\n",
    "forward_noise = 5.0\n",
    "turn_noise = 0.1\n",
    "sense_noise = 5.0\n",
    "myrobot.set_noise(forward_noise, turn_noise, sense_noise)\n",
    "myrobot.set(30.0, 50.0, pi / 2)\n",
    "myrobot = myrobot.move(-pi / 2, 15.0)\n",
    "print(myrobot.sense())\n",
    "myrobot = myrobot.move(-pi / 2, 10.0)\n",
    "print(myrobot.sense())"
   ]
  },
  {
   "cell_type": "markdown",
   "metadata": {},
   "source": [
    "# Robot World"
   ]
  },
  {
   "cell_type": "markdown",
   "metadata": {},
   "source": [
    "- now we know about our class robot who can turn and then move straight after the turn, and which it also can sense the distance to 4 designated landmarks, L1, L2, L3, and L4--these distances comprise the measurement vector of the robot\n",
    "- we told you the robot lives in a world of size $100 x 100$, and what this means if this robot falls off one end, it disappears on the other--so, it's a cyclic world"
   ]
  },
  {
   "cell_type": "markdown",
   "metadata": {},
   "source": [
    "# Creating Particles"
   ]
  },
  {
   "cell_type": "markdown",
   "metadata": {},
   "source": [
    "- the particle filter that you're going to program maintains a set of $1000$ random guesses as to where the robot might be\n",
    "- I'm not going to draw $1000$ dots here, but let me explain how each of these dots looks like\n",
    "  - each of these dots is a vector which contains an $X$ coordinate, in this case $38.2$, a $Y$ coordinate $12.4$, and a heading direction of $0.1$, which is the angle at which the robot points relative to the $X$ axis\n",
    "  - so, this robot moves forward, it will move slightly upwards\n",
    "  - in fact, now a code--every time you call the function `robot()` and assign it say to a particle, here the $i^{th}$ particle, these elements `p[i].x`, `p[i].y`, and `p[i].orientation`, which is the same as heading, are initialized at random\n",
    "\n",
    "\n",
    "- so, to make a particle set of $1000$ particles what you have to program is a simple piece of code that assigns $1000$ of those to a list\n",
    "\n",
    "<img src=\"resources/creating_particles.png\"/>"
   ]
  },
  {
   "cell_type": "code",
   "execution_count": 5,
   "metadata": {},
   "outputs": [
    {
     "name": "stdout",
     "output_type": "stream",
     "text": [
      "1000\n"
     ]
    },
    {
     "data": {
      "application/javascript": [
       "\n",
       "            setTimeout(function() {\n",
       "                var nbb_cell_id = 5;\n",
       "                var nbb_unformatted_code = \"# Now we want to create particles,\\n# p[i] = robot(). In this assignment, write\\n# code that will assign 1000 such particles\\n# to a list.\\n#\\n# Your program should print out the length\\n# of your list (don't cheat by making an\\n# arbitrary list of 1000 elements!)\\n#\\n# Don't modify the code below. Please enter\\n# your code at the bottom.\\n\\n\\n# myrobot = robot()\\n# myrobot.set_noise(5.0, 0.1, 5.0)\\n# myrobot.set(30.0, 50.0, pi/2)\\n# myrobot = myrobot.move(-pi/2, 15.0)\\n# print myrobot.sense()\\n# myrobot = myrobot.move(-pi/2, 10.0)\\n# print myrobot.sense()\\n\\n####   DON'T MODIFY ANYTHING ABOVE HERE! ENTER CODE BELOW ####\\n\\nN = 1000\\np = []\\n\\n# enter code here\\nfor i in range(N):\\n    p.append(robot())\\n\\nprint(len(p))\\n# print(p)\";\n",
       "                var nbb_formatted_code = \"# Now we want to create particles,\\n# p[i] = robot(). In this assignment, write\\n# code that will assign 1000 such particles\\n# to a list.\\n#\\n# Your program should print out the length\\n# of your list (don't cheat by making an\\n# arbitrary list of 1000 elements!)\\n#\\n# Don't modify the code below. Please enter\\n# your code at the bottom.\\n\\n\\n# myrobot = robot()\\n# myrobot.set_noise(5.0, 0.1, 5.0)\\n# myrobot.set(30.0, 50.0, pi/2)\\n# myrobot = myrobot.move(-pi/2, 15.0)\\n# print myrobot.sense()\\n# myrobot = myrobot.move(-pi/2, 10.0)\\n# print myrobot.sense()\\n\\n####   DON'T MODIFY ANYTHING ABOVE HERE! ENTER CODE BELOW ####\\n\\nN = 1000\\np = []\\n\\n# enter code here\\nfor i in range(N):\\n    p.append(robot())\\n\\nprint(len(p))\\n# print(p)\";\n",
       "                var nbb_cells = Jupyter.notebook.get_cells();\n",
       "                for (var i = 0; i < nbb_cells.length; ++i) {\n",
       "                    if (nbb_cells[i].input_prompt_number == nbb_cell_id) {\n",
       "                        if (nbb_cells[i].get_text() == nbb_unformatted_code) {\n",
       "                             nbb_cells[i].set_text(nbb_formatted_code);\n",
       "                        }\n",
       "                        break;\n",
       "                    }\n",
       "                }\n",
       "            }, 500);\n",
       "            "
      ],
      "text/plain": [
       "<IPython.core.display.Javascript object>"
      ]
     },
     "metadata": {},
     "output_type": "display_data"
    }
   ],
   "source": [
    "# Now we want to create particles,\n",
    "# p[i] = robot(). In this assignment, write\n",
    "# code that will assign 1000 such particles\n",
    "# to a list.\n",
    "#\n",
    "# Your program should print out the length\n",
    "# of your list (don't cheat by making an\n",
    "# arbitrary list of 1000 elements!)\n",
    "#\n",
    "# Don't modify the code below. Please enter\n",
    "# your code at the bottom.\n",
    "\n",
    "\n",
    "# myrobot = robot()\n",
    "# myrobot.set_noise(5.0, 0.1, 5.0)\n",
    "# myrobot.set(30.0, 50.0, pi/2)\n",
    "# myrobot = myrobot.move(-pi/2, 15.0)\n",
    "# print myrobot.sense()\n",
    "# myrobot = myrobot.move(-pi/2, 10.0)\n",
    "# print myrobot.sense()\n",
    "\n",
    "####   DON'T MODIFY ANYTHING ABOVE HERE! ENTER CODE BELOW ####\n",
    "\n",
    "N = 1000\n",
    "p = []\n",
    "\n",
    "# enter code here\n",
    "for i in range(N):\n",
    "    p.append(robot())\n",
    "\n",
    "print(len(p))\n",
    "# print(p)"
   ]
  },
  {
   "cell_type": "markdown",
   "metadata": {},
   "source": [
    "- we now have a set of $1000$ particles, each of which just looks like one of these dots over here, and each of which has exactly $3$ values associated: an $X$, a $Y$, and an orientation"
   ]
  },
  {
   "cell_type": "markdown",
   "metadata": {},
   "source": [
    "# Robot Particles"
   ]
  },
  {
   "cell_type": "markdown",
   "metadata": {},
   "source": [
    "- I now want you to take each of these particles and simulate robot motion\n",
    "- depending on the heading direction, this might yield a different direction\n",
    "- so, each of these particles shall first turn by $0.1$ and then move by $5$ meters\n",
    "  - we already implemented something just like this for individual robot motion and now I'd like you to apply this to the entire particle set"
   ]
  },
  {
   "cell_type": "code",
   "execution_count": 6,
   "metadata": {},
   "outputs": [
    {
     "name": "stdout",
     "output_type": "stream",
     "text": [
      "1000\n"
     ]
    },
    {
     "data": {
      "application/javascript": [
       "\n",
       "            setTimeout(function() {\n",
       "                var nbb_cell_id = 6;\n",
       "                var nbb_unformatted_code = \"# Now we want to simulate robot\\n# motion with our particles.\\n# Each particle should turn by 0.1\\n# and then move by 5.\\n#\\n#\\n# Don't modify the code below. Please enter\\n# your code at the bottom.\\n\\n\\n# myrobot = robot()\\n# myrobot.set_noise(5.0, 0.1, 5.0)\\n# myrobot.set(30.0, 50.0, pi/2)\\n# myrobot = myrobot.move(-pi/2, 15.0)\\n# print myrobot.sense()\\n# myrobot = myrobot.move(-pi/2, 10.0)\\n# print myrobot.sense()\\n\\n####   DON'T MODIFY ANYTHING ABOVE HERE! ENTER CODE BELOW ####\\n\\nN = 1000\\np = []\\n\\n# enter code here\\nfor i in range(N):\\n    p.append(robot())\\n\\np2 = []\\nfor i in range(N):\\n    p2.append(p[i].move(0.1, 5.0))\\n\\np = p2\\nprint(len(p))\\n# print(p)\";\n",
       "                var nbb_formatted_code = \"# Now we want to simulate robot\\n# motion with our particles.\\n# Each particle should turn by 0.1\\n# and then move by 5.\\n#\\n#\\n# Don't modify the code below. Please enter\\n# your code at the bottom.\\n\\n\\n# myrobot = robot()\\n# myrobot.set_noise(5.0, 0.1, 5.0)\\n# myrobot.set(30.0, 50.0, pi/2)\\n# myrobot = myrobot.move(-pi/2, 15.0)\\n# print myrobot.sense()\\n# myrobot = myrobot.move(-pi/2, 10.0)\\n# print myrobot.sense()\\n\\n####   DON'T MODIFY ANYTHING ABOVE HERE! ENTER CODE BELOW ####\\n\\nN = 1000\\np = []\\n\\n# enter code here\\nfor i in range(N):\\n    p.append(robot())\\n\\np2 = []\\nfor i in range(N):\\n    p2.append(p[i].move(0.1, 5.0))\\n\\np = p2\\nprint(len(p))\\n# print(p)\";\n",
       "                var nbb_cells = Jupyter.notebook.get_cells();\n",
       "                for (var i = 0; i < nbb_cells.length; ++i) {\n",
       "                    if (nbb_cells[i].input_prompt_number == nbb_cell_id) {\n",
       "                        if (nbb_cells[i].get_text() == nbb_unformatted_code) {\n",
       "                             nbb_cells[i].set_text(nbb_formatted_code);\n",
       "                        }\n",
       "                        break;\n",
       "                    }\n",
       "                }\n",
       "            }, 500);\n",
       "            "
      ],
      "text/plain": [
       "<IPython.core.display.Javascript object>"
      ]
     },
     "metadata": {},
     "output_type": "display_data"
    }
   ],
   "source": [
    "# Now we want to simulate robot\n",
    "# motion with our particles.\n",
    "# Each particle should turn by 0.1\n",
    "# and then move by 5.\n",
    "#\n",
    "#\n",
    "# Don't modify the code below. Please enter\n",
    "# your code at the bottom.\n",
    "\n",
    "\n",
    "# myrobot = robot()\n",
    "# myrobot.set_noise(5.0, 0.1, 5.0)\n",
    "# myrobot.set(30.0, 50.0, pi/2)\n",
    "# myrobot = myrobot.move(-pi/2, 15.0)\n",
    "# print myrobot.sense()\n",
    "# myrobot = myrobot.move(-pi/2, 10.0)\n",
    "# print myrobot.sense()\n",
    "\n",
    "####   DON'T MODIFY ANYTHING ABOVE HERE! ENTER CODE BELOW ####\n",
    "\n",
    "N = 1000\n",
    "p = []\n",
    "\n",
    "# enter code here\n",
    "for i in range(N):\n",
    "    p.append(robot())\n",
    "\n",
    "p2 = []\n",
    "for i in range(N):\n",
    "    p2.append(p[i].move(0.1, 5.0))\n",
    "\n",
    "p = p2\n",
    "print(len(p))\n",
    "# print(p)"
   ]
  },
  {
   "cell_type": "markdown",
   "metadata": {},
   "source": [
    "- we've done the full recursion of applying our motion update to our full particle set\n",
    "- if you've gotten this far then you got about half of particle filters implemented--unfortunately it's the easy half, but the difficult half isn't that much more difficult"
   ]
  },
  {
   "cell_type": "markdown",
   "metadata": {},
   "source": [
    "# Importance Weight"
   ]
  },
  {
   "cell_type": "markdown",
   "metadata": {},
   "source": [
    "<img src=\"resources/importance_weight_1.png\"/>\n",
    "\n",
    "- suppose an actual robot sits over here (blue, center), and it measures these exact distances to the landmarks over here\n",
    "  - obviously, there some measurement noise that we just model as an added Gaussian with $0$ mean--meaning there would be a certain chance of being too short or too long and that probability is governed by a Gaussian\n",
    "  - so, this process gives us a measurement vector of 4 values--of those 4 distances to the landmarks L1 to L4\n",
    "- now let's consider a particle that hypothesizes the robot coordinates are over here (red) and not over here (blue, center), and it also hypothesizes a different heading direction\n",
    "- we can then take the measurement vector and apply it to this particle (red)\n",
    "  - obviously this would be a very poor measurement vector (black) for this specific particle\n",
    "  - in particular, the measurement vector we would've expected looks more like this (green)\n",
    "  - that just makes this specific location really unlikely\n",
    "- the closer our particle to the correct position the more likely will be the set of measurements given that position"
   ]
  },
  {
   "cell_type": "markdown",
   "metadata": {},
   "source": [
    "- now here comes the big trick in particle filters\n",
    "- the mismatch of the actual measurement and the predicted measurement leads to a so called *importance weight* that tells us how important that specific particle is\n",
    "  - the larger the weight the more important it is\n",
    "\n",
    "<img src=\"resources/importance_weight_2.png\"/>\n",
    "\n",
    "- when we have many, many different particles and a specific measurement, each of these particles will have a different weight\n",
    "  - some look very plausible, others might look very implausible as indicated by the size of the circles over here\n",
    "- we now let these particles survive somewhat at random, but the probability of survival will be proportional to their weights\n",
    "  - if something has a very big weight, it will survive at a higher proportion than something with a really small weight\n",
    "- after what's called resampling--which is just a technical term for randomly drawing N new particles from old ones with replacement in proportion to the importance weight--after that resampling phase, big particles with big weights are very likely to live on, in fact many, many times whereas particles with small weights likely have died out\n",
    "\n",
    "\n",
    "- the particles that are very consistent with the sensor measurement survive with a higher probability, and the ones with lower importance weight tend to die out\n",
    "- we get the fact that the particles cluster around regions of higher posterior probability"
   ]
  },
  {
   "cell_type": "markdown",
   "metadata": {},
   "source": [
    "- we have to implement a method for setting importance weights and that is, of course, related to the likelihood of a measurement\n",
    "- and we have to implement a method for resampling that grabs particles in proportion to those weights\n",
    "\n",
    "\n",
    "- I want you to program a way to assign importance weights to each of the particles\n",
    "- I want you to make a list of 1000 elements where each element on the list contains a number which is proportional to how important that particle is\n",
    "  - to make things easier I coded for you a function in the class `robot` called the `measurement_prob()`\n",
    "  - this function accepts a single parameter, the measurement vector--the `Z` I just defined, and it calculates as an output how likely this measurement is, and it uses effectively a Gaussian that measures how far away the predicted measurements would be from the actual measurements\n",
    "\n",
    "\n",
    "- we have to actually assume that there is measurement noise\n",
    "  - if there is $0$ measurement noise, then this function will end up dividing by $0$--so let's put in a clause that specifies what we believe the actual measurement noise is\n",
    "  - I'm not going to do this for the robot, but for the particles--$0.05$ for the translational noise, $0.05$ for the rotational noise, and $5.0$ for the measurement noise in those ranges\n",
    "\n",
    "\n",
    "- I wish you to construct a list of $1000$ elements in `W` so that each number in this vector reflects the output of the function `measurement_prob()` applied to the measurement `Z` that we receive from the real robot, such that when I print `W`, I actually get a list of 1000 importance weights"
   ]
  },
  {
   "cell_type": "code",
   "execution_count": 7,
   "metadata": {
    "scrolled": true
   },
   "outputs": [
    {
     "name": "stdout",
     "output_type": "stream",
     "text": [
      "[5.2689444789469005e-20, 1.6303675791808847e-58, 5.1794867852641534e-54, 1.4547573688508373e-72, 1.0524897363637117e-62, 1.5981891955804665e-111, 4.089011191022423e-32, 2.5024119024693427e-103, 2.8726509568496426e-15, 1.5923745322356782e-15, 9.264607669475663e-67, 2.9370247445205188e-52, 1.4845563636460418e-88, 5.7503542578603136e-64, 3.442157529442313e-59, 2.8540289900981125e-92, 1.3090745707712471e-30, 1.1741475000720252e-87, 1.2405219406185469e-18, 1.2947441470947322e-21, 2.7119861655104644e-79, 7.428592058925124e-06, 1.1894214208728232e-06, 4.841122981249009e-14, 1.9409864756083558e-104, 9.79384034199656e-75, 2.3349100103413496e-11, 5.999688122562903e-53, 5.707383487944128e-83, 4.283403038936981e-102, 5.313110399528355e-114, 1.303526816286325e-90, 1.2085516346386864e-13, 3.609209258227343e-84, 1.7332614817312015e-91, 9.031705002760128e-84, 1.5618264075502324e-112, 9.65113633597183e-61, 2.1535055658444308e-80, 2.3292981897868946e-75, 3.5860043094694664e-22, 6.151402293284513e-71, 9.625540178272073e-96, 3.885088302561558e-06, 4.715652982319473e-75, 1.3766840997188211e-15, 1.4752548705931595e-15, 3.315014159297503e-49, 5.052362850661895e-65, 7.693154627905068e-23, 7.175021690608958e-74, 9.229235687944288e-87, 4.130980667643273e-08, 1.1124863618397474e-15, 7.884339684188065e-64, 2.6149076662367104e-61, 2.4270857360647753e-94, 2.0193614888650834e-64, 5.438872537782279e-27, 6.701709835838162e-59, 1.266765299697036e-113, 3.5655178908001885e-46, 8.590925578672486e-44, 6.209133347538916e-96, 2.761267420115793e-112, 3.005390502472774e-58, 2.312984125960097e-05, 1.088218273660335e-120, 1.6924797069998192e-07, 1.2114915339719017e-15, 3.4784468121549173e-47, 1.346893815298735e-49, 7.678897846590933e-68, 1.0607309922467794e-77, 6.357220622891117e-06, 4.6802786233107385e-67, 6.3066989980398575e-24, 5.242191730879302e-95, 7.917926803612206e-81, 4.2914620009127515e-86, 1.6763944909366334e-82, 5.627704113627793e-84, 1.4155184084456609e-09, 2.785758487996985e-38, 1.4293825957218663e-24, 9.33042521816681e-07, 4.379334644582751e-09, 8.195071401297883e-56, 2.2973756869809307e-25, 1.0504288531715693e-61, 8.069816513869901e-48, 6.500303745570927e-61, 5.0101112238772984e-45, 1.105229689430016e-53, 1.2301828128594481e-85, 1.082382440015961e-50, 2.5333779270415762e-55, 4.5906629941563e-78, 7.574818687828731e-16, 3.819530635091595e-80, 9.163254412746968e-31, 2.774205196496051e-48, 5.225532167695555e-52, 1.1845242394459019e-35, 1.8414869592633066e-66, 3.8058250281210154e-77, 2.021452676012042e-82, 1.5062523172823898e-34, 6.263964750630986e-71, 3.0526340716265586e-19, 1.2903145423524391e-74, 1.156301233986507e-15, 4.0277555169299884e-57, 6.159512419711147e-110, 1.026714721191812e-11, 2.989608213113555e-53, 5.083972523947224e-16, 1.690407962394829e-54, 3.597521794092416e-76, 5.9021645305784765e-84, 1.4316605912370482e-45, 1.3406378905975544e-42, 4.641770716922192e-22, 5.925249152385625e-19, 1.6961663906029663e-23, 2.8218804682863965e-09, 1.3015114976270339e-123, 1.8813144706671616e-49, 4.196216511869376e-53, 1.1601123662131114e-09, 1.2049913014191403e-75, 6.839597481413063e-36, 7.453413565800192e-83, 8.130656991266613e-46, 3.5531316771289985e-42, 7.863528323343769e-19, 5.976469511838485e-111, 1.9682754636679045e-86, 1.3239797789220597e-43, 1.5609762816952327e-63, 2.2469104957299437e-83, 2.048334181483838e-56, 6.608163522482919e-10, 2.8246359031798735e-57, 1.1066406969985245e-66, 5.669076293126724e-63, 8.644356370594072e-76, 4.70285058150933e-57, 1.0397571758220998e-77, 3.4191192994165805e-88, 2.5282854349757243e-50, 4.0992291351937354e-58, 3.3572205453417636e-103, 6.58813249231186e-09, 3.1730898199743192e-112, 8.8446571053707e-64, 1.2398691075956585e-51, 2.3321058875898421e-66, 3.3772170809358376e-95, 1.216038809679046e-58, 2.844071826108415e-14, 2.093960888369366e-14, 7.88877163045393e-86, 2.243962217153631e-55, 5.184795910169118e-13, 1.1036869456394358e-35, 4.600422406928147e-24, 3.975322118580121e-32, 1.6659347532267826e-79, 3.825622873772353e-49, 3.6097974087872433e-87, 5.308214768438072e-41, 2.8886702415045254e-88, 1.9789010910835082e-14, 6.68940709180494e-52, 7.03680700530713e-39, 2.71514445446988e-20, 1.7895006471430867e-110, 1.3839235713776266e-118, 2.8314355899765097e-10, 1.2626903467136962e-09, 8.015679838720197e-38, 7.091774970520499e-70, 1.9547491099105323e-26, 1.3313723123894302e-55, 1.2411934427127865e-83, 5.245015186761635e-32, 2.8072810659281423e-54, 7.450109460046192e-45, 7.28600009199663e-20, 6.09128725230955e-14, 8.998487063063553e-15, 1.2580836391467838e-107, 6.465910192037293e-69, 1.4537652503545457e-78, 8.256317971703282e-39, 1.191427052062847e-41, 2.9694307745612215e-56, 2.7143825613835227e-07, 1.3445768220545983e-17, 3.658715371903271e-34, 7.62294350135074e-76, 2.951200207164296e-86, 2.172215168814991e-13, 5.2618407243667165e-14, 1.948078141463382e-43, 1.363021381448028e-27, 7.605166494506414e-38, 1.1828889266706428e-94, 1.4486159981490292e-60, 1.018646847563374e-97, 6.186550924876922e-52, 1.8634921959156106e-12, 2.2427092102360877e-57, 1.1496616773488148e-05, 8.111974087621113e-16, 2.3143847258797677e-73, 1.4558089329446397e-95, 5.272358493919968e-57, 1.1052720858376963e-08, 4.7888988596432305e-99, 6.069515720725575e-15, 1.7489705509496905e-81, 2.4728112366231812e-95, 4.7711310220871e-32, 1.0118388261136146e-53, 3.924661516022405e-20, 1.0569017555607686e-49, 3.105597594739825e-92, 8.308127509032833e-83, 2.4632361987334337e-90, 1.5797524086362255e-49, 3.639341896099492e-27, 1.71338409540543e-17, 1.5484003221825883e-79, 3.908180473137984e-38, 1.964678966321424e-05, 1.9772831573588318e-20, 2.004017476780527e-05, 8.331126963492302e-31, 2.0974298382463087e-28, 2.769635733996237e-29, 7.95764684761153e-62, 1.224739678533927e-65, 9.828409165669466e-26, 1.9842104598392794e-11, 3.760225195793116e-99, 3.731742687260581e-39, 1.8205745644475785e-07, 1.360327052169966e-13, 7.71600240939785e-76, 2.2644566140785734e-83, 2.1659033458667956e-86, 4.573993154323472e-19, 3.2571552080725104e-48, 3.1485264122713323e-32, 5.201623137728571e-62, 2.721023791001672e-11, 9.356127555928463e-94, 1.3048844444468685e-12, 1.698991764045695e-67, 1.0127969757418339e-10, 1.8787514666876236e-09, 3.7265165897250127e-28, 7.14911041398132e-36, 1.6492516728213518e-73, 6.314654687226245e-07, 6.514973927589794e-86, 3.9121371182065665e-14, 5.692252049142746e-35, 2.8483263785072982e-33, 1.24435047507332e-36, 7.399541760217546e-06, 5.004909773463937e-25, 1.0320374372367513e-34, 1.2056368261636751e-81, 6.180695881398261e-84, 4.7918053587480313e-60, 6.556265704707826e-39, 9.79197912043854e-97, 5.670872142120617e-52, 2.890483500815352e-06, 7.777130610676406e-65, 2.237450677305795e-52, 1.4436076347671185e-05, 9.468864217354811e-14, 3.969786075022226e-54, 7.575018161182603e-83, 2.020077773941384e-89, 1.9206204720517382e-77, 1.6550016742089248e-73, 1.5967943219293917e-53, 2.128203071999984e-60, 3.2664304073614646e-80, 9.960908077520567e-50, 5.498739363248736e-56, 1.927625601227995e-67, 5.5879951238175945e-21, 1.1509409645600681e-85, 8.718280143625822e-11, 3.717526396373569e-43, 2.893783424280285e-51, 5.830793875836795e-107, 8.303364989896634e-17, 1.118821015603119e-11, 7.183868045332654e-54, 3.7141386785391725e-93, 2.0561847134495958e-19, 5.070969217960295e-35, 1.377573778815681e-49, 2.4046251996323618e-85, 1.7222901977852438e-20, 1.1198086336155795e-24, 1.2232165523234994e-66, 9.470138100929966e-21, 4.203632158088326e-51, 4.0856612026252666e-50, 3.707885963111168e-96, 1.495627274059434e-15, 7.2372863526867646e-59, 2.8837306526946965e-114, 1.3002151121256069e-68, 1.3030160462484862e-71, 1.1099410473267464e-51, 2.4973198347016154e-35, 8.698462178528909e-50, 7.835831994574199e-59, 2.032076959790704e-72, 1.1548071866371406e-13, 5.1949532197293525e-81, 6.187575813178182e-50, 2.420471074614332e-44, 2.229810448712398e-24, 7.412583504379602e-84, 1.131374163581264e-85, 7.920713263795909e-66, 1.4338386951186617e-42, 1.415084528785892e-89, 4.145443708317689e-09, 4.061487593304375e-93, 3.437407491479016e-54, 4.174386844821584e-52, 3.8855213620674786e-06, 7.030869543674707e-30, 2.5011018305830687e-99, 1.3443481361064805e-20, 3.0128334284391863e-78, 5.964466889627665e-29, 9.950133793440383e-82, 3.5274889523535015e-54, 9.013724333926752e-55, 4.537312101176265e-85, 1.930666053326067e-66, 2.283446758830329e-60, 2.3943210609375817e-08, 4.831136545503863e-33, 6.488765828736423e-27, 5.522762311155032e-12, 1.8697614874733937e-57, 4.693875140537105e-57, 2.2409633766472208e-76, 1.043979781693449e-62, 1.1587447679667898e-74, 1.5513641368679908e-56, 3.8552042205624735e-06, 6.017192915360501e-48, 6.140419984055329e-57, 1.3598247744192003e-72, 8.371487110743628e-52, 6.850897634857618e-71, 2.2800733430309626e-103, 4.171837340765689e-25, 1.3891894358588607e-112, 1.3476989157411628e-108, 1.4003183527618502e-35, 1.3349332267759864e-69, 1.6692921757986348e-77, 3.615333300064724e-58, 2.861558121998464e-41, 1.0587706409451287e-89, 4.400666683559734e-13, 4.253874305642992e-87, 6.212519793259266e-21, 2.029360579858863e-34, 1.0740254526884223e-08, 3.781712568131368e-56, 6.422403784134377e-27, 4.653133954136386e-67, 3.5888912497428066e-91, 5.033741636124439e-35, 8.718675264867272e-58, 2.363910509418327e-39, 4.3433149228756887e-116, 2.0309852944082234e-34, 6.256758750097561e-68, 2.441850340295714e-49, 5.23051433557619e-13, 5.49420577415714e-08, 7.492910973666135e-90, 2.862201918872052e-71, 1.0872055452974102e-55, 1.0644092861770361e-76, 1.2567895068954745e-65, 2.181096059159012e-75, 1.8894834384682695e-16, 6.666392028068248e-111, 1.8411597680732698e-64, 8.204211859284425e-17, 2.902666961745089e-12, 5.869059144052148e-50, 5.1914343290210645e-67, 1.4675947790781937e-15, 4.6046023988280093e-85, 3.467002190466706e-86, 3.875666669152762e-116, 1.0870722425673724e-34, 3.478567915340692e-30, 8.946576334709303e-48, 4.1027141312185447e-16, 1.1870409683644686e-81, 2.6805763193901995e-82, 8.274708883286503e-39, 1.1299754358001221e-18, 1.8440877522639815e-34, 8.306562426571143e-55, 1.564487397931616e-06, 6.79091265750505e-89, 5.0202140511588796e-51, 3.7813460063567544e-23, 3.956928874859898e-09, 1.1901154243404597e-38, 5.840734434808235e-06, 2.988615910207732e-49, 2.1990412604454205e-84, 1.5756489571647627e-106, 1.5252544614050749e-93, 3.314441586307609e-53, 3.0080916163494407e-24, 2.763518601121545e-23, 9.343936828080712e-87, 7.111335376570855e-90, 3.4413436738977287e-103, 4.783192491753714e-06, 3.5637467966188286e-115, 7.60681360176745e-52, 8.820753514983541e-67, 1.2217604352865432e-108, 6.373937754162175e-79, 6.715922754566185e-63, 5.236139020898274e-15, 3.7470863438774457e-72, 3.525024100362747e-36, 7.847176546320127e-42, 7.15744713586409e-11, 4.1638840963546875e-12, 3.463158480560772e-89, 1.038934975104404e-71, 3.043085048349829e-52, 5.26673582067044e-65, 7.918702408885716e-43, 1.3192926626607619e-49, 1.9502479978198063e-49, 6.760358140241369e-88, 1.2591910595739248e-75, 2.9693269068672528e-92, 2.356439787319244e-10, 4.341883754378581e-38, 4.690711230048177e-37, 2.111145745816699e-06, 9.46489005763932e-30, 6.45667787246001e-75, 3.1764272722461666e-22, 1.72074350997872e-50, 4.520390345452089e-19, 6.381282959878233e-21, 3.445358299720615e-83, 7.257566880903145e-46, 1.8051818677331373e-75, 6.74744226219575e-10, 1.1578578958556854e-84, 1.5963845907316196e-91, 2.1750524580420004e-21, 2.1623492477866265e-99, 1.0052747987989869e-19, 7.360625216438603e-78, 2.2998504902655955e-76, 1.1330731229699355e-106, 1.444913472763752e-40, 2.866297366305198e-25, 5.056632398380526e-44, 1.860038014200474e-13, 1.236945804345859e-57, 7.314738074289871e-113, 3.909420569683201e-110, 4.741000913849714e-24, 3.954336300054592e-08, 1.6199022121310208e-05, 1.212177426176351e-84, 1.7354933131938381e-53, 1.549298476071649e-54, 5.9507891563221934e-06, 2.0023734648346718e-33, 8.291494966114217e-88, 4.237064065623829e-86, 9.468109224352138e-58, 1.199820497525582e-97, 8.16079134218674e-11, 1.226193434466949e-95, 2.0822556432499056e-09, 4.354566864321957e-84, 6.046691616312112e-43, 1.0301009109257162e-84, 7.044124548572168e-84, 2.66194641432218e-54, 1.1850851144818647e-61, 1.4866204803892004e-114, 1.008673507116079e-112, 4.975602957518075e-87, 6.754664310259588e-85, 3.6959632316083935e-14, 9.65129167333828e-84, 1.6047480542006374e-86, 3.5161915160995658e-15, 2.630058224958718e-60, 4.024996146713706e-07, 1.5824546287772728e-55, 4.7149494030098325e-57, 1.5991363409383778e-13, 6.542463733349455e-65, 4.2572996852795474e-14, 7.903701499318112e-37, 4.961200485703385e-15, 1.0520835814241553e-46, 6.303679150576324e-16, 5.835500343403899e-12, 1.9292802977776465e-92, 6.831388210713086e-63, 1.2029925113764447e-06, 3.688571193361211e-46, 1.4673277136692085e-70, 2.975712239678618e-45, 8.76605938695759e-74, 2.4735694875510286e-81, 9.512049358029451e-48, 2.714453808952981e-09, 4.228194348064428e-86, 2.2168281376044168e-63, 4.860693708569807e-59, 7.360854687302668e-75, 3.7760252077527906e-62, 2.6376393265431737e-24, 2.572867421081075e-07, 4.819974826953056e-85, 3.7030775009216555e-60, 1.6416376007165635e-63, 9.85734257646803e-13, 5.066788106295241e-12, 1.8409039507414878e-27, 1.9271107957979412e-61, 2.4265882284244434e-11, 4.376696961818023e-95, 1.3970308890859828e-84, 3.488034798526979e-60, 1.0275943256759065e-41, 3.5623261905008183e-32, 8.390107663097763e-70, 2.964577491171972e-64, 7.53213724888861e-12, 7.059247831245669e-17, 3.774648755810597e-16, 8.406022252634712e-57, 2.169847645887885e-90, 8.406841847905666e-115, 1.5300328700603588e-18, 6.5485461058691605e-50, 2.7722451701743934e-107, 3.7297949952101883e-06, 9.471332715640053e-41, 1.0250801811891306e-43, 1.7965679645852395e-54, 5.35547250659039e-78, 2.2823714861825811e-60, 4.8763428655916285e-96, 2.24883694427167e-36, 5.583909816786269e-19, 7.803200655849552e-110, 2.758620050376155e-31, 2.3804541194352356e-54, 1.1908877966672355e-41, 1.4858358794992569e-10, 1.592162708564689e-104, 9.656466453276391e-11, 1.3337377885425103e-25, 1.3604109285170902e-24, 4.285736683997114e-87, 1.9458923457341394e-16, 3.071055644666627e-96, 1.834764529622037e-09, 9.996749395674796e-90, 3.844946827341058e-07, 3.5725261709069547e-09, 1.605174865716709e-67, 1.488333666386483e-16, 8.335124089612746e-30, 3.9089215226798445e-103, 2.050136843422356e-90, 1.652777769523972e-91, 3.434912580509586e-47, 6.767774799484105e-39, 4.7414731327445026e-07, 1.9533780265703246e-79, 9.181393748294198e-07, 1.0466362434644026e-10, 3.7502870188795086e-43, 1.6071705542786917e-36, 2.1760819130032525e-18, 4.8946015369358304e-30, 1.0167916040778283e-117, 8.353759474470379e-87, 3.08949074354754e-88, 5.732207784113227e-10, 7.310845155004882e-19, 5.18804857773539e-38, 5.450277129452502e-10, 1.1256065372559767e-41, 5.427187640276211e-106, 2.3288591187782956e-53, 2.52514669188776e-86, 9.010749113023384e-73, 7.796889636973017e-19, 6.422286103454174e-97, 1.8776484627767763e-10, 2.5160775397521813e-25, 2.188356712257668e-106, 7.886172873314191e-52, 1.5454355590273445e-84, 3.043785173323635e-56, 9.254197396021269e-23, 2.390553609868114e-72, 2.607847455186987e-47, 3.1175080145896314e-20, 1.6077853682440527e-82, 2.7953612644015833e-16, 8.058987151997925e-51, 2.9324491532044627e-86, 3.582243927385724e-41, 4.537846713903469e-48, 9.869672199853431e-70, 2.2049995133265205e-18, 8.738970525062358e-32, 8.147416435513322e-110, 1.551277421097368e-07, 9.466144231257324e-54, 3.433802637075477e-61, 4.291332731805561e-98, 8.173623499538567e-77, 9.768724079567013e-15, 1.305620081365888e-48, 1.9200637739422514e-22, 1.195675588097106e-87, 9.53989207217012e-11, 8.27793196288389e-73, 2.661319657365423e-103, 1.2466133739659857e-44, 3.0126670871528506e-117, 7.467161179961754e-06, 4.098414717108309e-51, 3.9344604634732147e-32, 1.7133409694435351e-34, 7.0188087703625096e-15, 4.554863688422737e-26, 3.811797539966545e-32, 3.909972441093886e-30, 1.1301500825050907e-54, 4.027395478448403e-29, 5.035002905208973e-11, 7.969575147542586e-109, 6.620060659325956e-07, 6.38065114789268e-35, 3.2735068162275755e-74, 1.91609486123586e-54, 2.6926498795633164e-90, 5.239982136842818e-81, 3.503773459835493e-53, 5.905753795494348e-70, 1.2194302556462765e-79, 2.9412451298880986e-09, 1.1015929197901997e-10, 3.154768287046151e-08, 5.636927682679042e-45, 2.2663267047808384e-62, 1.4713338286957914e-70, 2.3494511724738906e-64, 1.6466629454748184e-42, 6.649773414608851e-29, 7.979288221414772e-33, 3.857017385018455e-32, 2.815157884552849e-10, 5.234830742734848e-25, 2.816625703736995e-78, 8.133247439629937e-30, 1.9440644144138386e-49, 1.4677722967984623e-65, 2.801028369559946e-11, 9.963038606302541e-54, 3.3925210972700134e-45, 6.697365755302318e-06, 4.804819137311584e-57, 1.2934619007130212e-09, 1.3435016256078879e-15, 6.288463802989874e-113, 2.3163431819642358e-57, 2.129792794568019e-62, 8.83445668889518e-13, 6.041402403206584e-70, 8.483472751370789e-08, 9.224778256581527e-92, 4.5464990607773344e-43, 2.100773185283628e-58, 1.0770641796691695e-36, 4.0610658860827315e-90, 3.248470189510313e-17, 6.228168421490115e-33, 5.75990509479529e-85, 2.1194566104639234e-106, 6.6102212738637095e-28, 1.931487571756319e-27, 1.5520387517270164e-73, 2.512160090938844e-13, 1.505970909157521e-95, 2.078230142135095e-38, 1.9446868671269585e-27, 5.1836248951583605e-68, 2.1836049174600468e-80, 4.895363561160832e-68, 5.3902079434480116e-43, 3.108511299630152e-61, 3.8701770757719414e-69, 1.1752441743701794e-123, 1.0239117071898376e-58, 3.81374801113314e-05, 4.700376315349616e-41, 1.1279967605963011e-80, 4.388985706351642e-78, 1.1146854757826423e-24, 8.267996506339534e-84, 1.4453462259512167e-36, 7.804822192172807e-85, 8.495588811973488e-15, 2.499907953752978e-65, 3.0294431935552753e-76, 4.587998820486278e-84, 6.526117001728264e-26, 6.343121814798918e-102, 1.1731119741523493e-59, 3.247723846631163e-68, 1.6104214799822926e-77, 1.4576954233448515e-109, 7.22734110655617e-20, 1.1785695596925471e-60, 4.99638917900966e-25, 1.5172399476375438e-80, 2.3253877551302127e-15, 2.07041320093283e-24, 1.2863496175631987e-84, 2.0635584465308155e-07, 1.3027553796555714e-11, 1.9998986754116643e-106, 2.762031892153178e-07, 1.2215700948240181e-57, 9.93817858485893e-12, 1.1957509613711883e-82, 6.286836032262913e-08, 1.8487307908327387e-80, 9.863933466096108e-109, 1.1607632797995596e-107, 3.702910045421386e-97, 3.8933819379005053e-56, 1.4984391221550243e-38, 1.1615299146116345e-49, 1.2318082881952904e-47, 1.189609954548389e-92, 6.825112670477001e-94, 4.030195232032496e-77, 6.689529609147114e-10, 9.690246312460055e-07, 1.8166200244199602e-67, 6.184613080839983e-63, 6.172388813820116e-70, 1.6073479503423912e-92, 5.471278505541891e-59, 5.097606376389634e-74, 1.125774907074133e-31, 1.2585450771229824e-60, 5.3766132183345e-19, 1.2693966688436512e-09, 9.304142662223324e-32, 5.931561333314086e-06, 9.505131903122881e-11, 3.624628703864239e-63, 7.679637416227793e-100, 4.453052874758149e-27, 1.4673404246078226e-43, 4.902654381582769e-24, 2.7664880503457663e-05, 2.9426362974693983e-22, 3.181943435150919e-88, 1.0025821623966205e-83, 1.657488629058849e-14, 7.858062832946351e-76, 1.5389326785526016e-27, 6.791466896479613e-15, 7.925104572336179e-59, 3.161012100789491e-07, 2.5925145645698554e-06, 4.6844095479081835e-82, 3.8932334836147326e-116, 2.176343683238797e-45, 8.77454763812512e-54, 6.97250007618572e-19, 9.000659054313365e-105, 1.3782927481419908e-36, 3.658806452244275e-36, 2.2957442010271547e-93, 8.208903398920711e-72, 6.953746756667798e-65, 2.898589946976755e-119, 1.5697220739977677e-10, 7.675119057008613e-96, 3.0275138850675136e-106, 7.614572163899339e-13, 2.2245106360784706e-53, 3.1910509165402104e-11, 7.272592645519962e-14, 2.601815959899197e-11, 2.5270935784843266e-12, 5.875677965035739e-54, 1.4530853765596123e-100, 1.9527000724912402e-80, 4.69186857999716e-16, 1.2177577006116341e-47, 7.604424087858003e-19, 1.0526692068532415e-48, 1.088612310614261e-88, 6.557864287638123e-10, 6.308892986966642e-89, 2.1580617102454407e-57, 1.1491427891688441e-31, 2.678993178548933e-25, 3.387085824090229e-85, 1.1986534424565036e-52, 1.840392442593407e-97, 2.893514761930918e-92, 4.5596455721448664e-67, 3.1724644063127924e-74, 7.93977282749122e-64, 1.6565953459096652e-07, 5.421549774434687e-50, 5.507927759461533e-78, 9.209413948666776e-17, 2.077120783578632e-17, 1.1893998125656989e-60, 1.2141990524295191e-46, 7.788700756861649e-113, 1.249543031390833e-15, 6.492173176860114e-54, 1.6357369957785614e-25, 7.503059209204757e-45, 6.29928357675531e-71, 6.798908083188897e-12, 9.281841862675354e-70, 4.642104180976762e-76, 6.711214504775234e-33, 4.8791410265664805e-67, 1.148915340864854e-34, 2.5346869523991476e-53, 4.212821909780238e-27, 9.364001777001479e-71, 7.684567198245032e-10, 1.4976897661269458e-103, 3.501000934026641e-37, 3.8372744481730586e-22, 6.3621832018709895e-62, 2.9487311881439857e-08, 7.532466174512989e-89, 2.7684206116190686e-48, 5.370896558371641e-45, 3.500768964897543e-36, 2.269547312395789e-61, 1.9974269298340956e-104, 2.1560605112009903e-19, 3.6232392221811394e-58, 3.351742322245321e-51, 7.73687785066274e-64, 1.094765735603952e-65, 3.885831135530349e-13, 6.067733798282233e-77, 6.344448382852875e-07, 7.214489744583802e-06, 1.3918307493108248e-104, 1.769350350108895e-77, 2.4000293778511405e-35, 6.242264545919902e-65, 2.763212981683974e-77, 1.7447731229622364e-30, 4.08246587422781e-36, 3.4231660883155925e-89, 1.740521146081727e-78, 5.46615106361046e-85, 8.937651035657914e-50, 3.229734889272081e-39, 3.6798418337843725e-113, 5.909176959696111e-08, 1.6325097716517714e-62, 2.3484839204930916e-110, 3.212426912662452e-50, 5.932452680181623e-48, 7.358726116448782e-53, 6.980449571642343e-53, 1.1455615647065152e-85, 8.637157263947326e-70, 1.3169921893915916e-18, 1.4594303406519333e-55, 4.373004534634051e-112, 1.795100189105671e-43, 4.4623730021554845e-41, 2.001400997041492e-75, 1.4831464429472904e-51, 3.149338217783467e-48, 4.531944284721255e-32, 1.300955034685548e-16, 6.563787513068393e-80, 1.8676346551501198e-22, 2.980502761499203e-88, 5.936961621673422e-32, 1.3077893784718437e-74, 1.2068098649497752e-23, 1.4243341469773874e-63, 2.35522629915444e-26, 4.922511673193991e-06, 1.171175861873608e-36, 7.767889192794002e-18, 2.014890266770323e-53, 5.493269830454932e-110, 7.949796577597777e-114, 3.8604370116858365e-95, 5.507206161217842e-10, 4.518065295004216e-84, 8.420641151452975e-21, 1.4743328127169785e-24, 5.507103522208095e-09, 3.7128840318246713e-50, 1.2845288548078755e-65, 9.220406930765985e-25, 2.9195654334467413e-58, 3.832411483558038e-57, 2.311630467189528e-123, 1.944444687144262e-52, 3.8053281285742705e-13, 7.259581969518379e-44, 4.378873774966281e-55, 1.8763761929966466e-42, 1.456717538465087e-105, 1.1696631787058498e-33, 7.785112019380493e-43, 2.581931183536449e-38, 8.022519680921962e-54, 2.551069063946836e-109, 7.833129769409732e-46, 1.2434058644914529e-57, 4.1226832108068393e-07, 6.458050770650619e-48, 5.818797875545306e-65, 3.365784998085984e-72, 5.4122303602841876e-12, 3.931182118174218e-86, 1.5746004275920689e-55, 1.7304985313859545e-68, 9.662402489574085e-82, 4.2190546078189447e-35, 3.0470167468649735e-47, 3.141319582816781e-16, 8.21404503159101e-72, 3.0576095157574912e-09, 2.8721311685403556e-79, 2.3525196808758684e-42, 1.0948439905396227e-19, 8.601651434721088e-26, 4.355633851524222e-65, 6.666431193488809e-51, 8.338708140293284e-13, 1.0113791630360186e-81, 5.662278842620308e-85, 2.149513222661316e-46, 2.0690643062004088e-48, 1.0821019942440049e-26, 7.63749741847872e-46, 1.114631419540096e-56, 4.115004923516911e-86, 8.436295573741906e-11]\n"
     ]
    },
    {
     "data": {
      "application/javascript": [
       "\n",
       "            setTimeout(function() {\n",
       "                var nbb_cell_id = 7;\n",
       "                var nbb_unformatted_code = \"# Now we want to give weight to our\\n# particles. This program will print a\\n# list of 1000 particle weights.\\n#\\n# Don't modify the code below. Please enter\\n# your code at the bottom.\\n\\n\\n# myrobot = robot()\\n# myrobot.set_noise(5.0, 0.1, 5.0)\\n# myrobot.set(30.0, 50.0, pi/2)\\n# myrobot = myrobot.move(-pi/2, 15.0)\\n# print myrobot.sense()\\n# myrobot = myrobot.move(-pi/2, 10.0)\\n# print myrobot.sense()\\n\\n####   DON'T MODIFY ANYTHING ABOVE HERE! ENTER CODE BELOW ####\\nmyrobot = robot()\\nmyrobot = myrobot.move(0.1, 5.0)\\nZ = myrobot.sense()\\n\\nN = 1000\\np = []\\nfor i in range(N):\\n    x = robot()\\n    x.set_noise(0.05, 0.05, 5.0)\\n    p.append(x)\\n\\np2 = []\\nfor i in range(N):\\n    p2.append(p[i].move(0.1, 5.0))\\np = p2\\n\\nw = []\\n# insert code here!\\nfor i in range(N):\\n    w.append(p[i].measurement_prob(Z))\\n\\nprint(w)\";\n",
       "                var nbb_formatted_code = \"# Now we want to give weight to our\\n# particles. This program will print a\\n# list of 1000 particle weights.\\n#\\n# Don't modify the code below. Please enter\\n# your code at the bottom.\\n\\n\\n# myrobot = robot()\\n# myrobot.set_noise(5.0, 0.1, 5.0)\\n# myrobot.set(30.0, 50.0, pi/2)\\n# myrobot = myrobot.move(-pi/2, 15.0)\\n# print myrobot.sense()\\n# myrobot = myrobot.move(-pi/2, 10.0)\\n# print myrobot.sense()\\n\\n####   DON'T MODIFY ANYTHING ABOVE HERE! ENTER CODE BELOW ####\\nmyrobot = robot()\\nmyrobot = myrobot.move(0.1, 5.0)\\nZ = myrobot.sense()\\n\\nN = 1000\\np = []\\nfor i in range(N):\\n    x = robot()\\n    x.set_noise(0.05, 0.05, 5.0)\\n    p.append(x)\\n\\np2 = []\\nfor i in range(N):\\n    p2.append(p[i].move(0.1, 5.0))\\np = p2\\n\\nw = []\\n# insert code here!\\nfor i in range(N):\\n    w.append(p[i].measurement_prob(Z))\\n\\nprint(w)\";\n",
       "                var nbb_cells = Jupyter.notebook.get_cells();\n",
       "                for (var i = 0; i < nbb_cells.length; ++i) {\n",
       "                    if (nbb_cells[i].input_prompt_number == nbb_cell_id) {\n",
       "                        if (nbb_cells[i].get_text() == nbb_unformatted_code) {\n",
       "                             nbb_cells[i].set_text(nbb_formatted_code);\n",
       "                        }\n",
       "                        break;\n",
       "                    }\n",
       "                }\n",
       "            }, 500);\n",
       "            "
      ],
      "text/plain": [
       "<IPython.core.display.Javascript object>"
      ]
     },
     "metadata": {},
     "output_type": "display_data"
    }
   ],
   "source": [
    "# Now we want to give weight to our\n",
    "# particles. This program will print a\n",
    "# list of 1000 particle weights.\n",
    "#\n",
    "# Don't modify the code below. Please enter\n",
    "# your code at the bottom.\n",
    "\n",
    "\n",
    "# myrobot = robot()\n",
    "# myrobot.set_noise(5.0, 0.1, 5.0)\n",
    "# myrobot.set(30.0, 50.0, pi/2)\n",
    "# myrobot = myrobot.move(-pi/2, 15.0)\n",
    "# print myrobot.sense()\n",
    "# myrobot = myrobot.move(-pi/2, 10.0)\n",
    "# print myrobot.sense()\n",
    "\n",
    "####   DON'T MODIFY ANYTHING ABOVE HERE! ENTER CODE BELOW ####\n",
    "myrobot = robot()\n",
    "myrobot = myrobot.move(0.1, 5.0)\n",
    "Z = myrobot.sense()\n",
    "\n",
    "N = 1000\n",
    "p = []\n",
    "for i in range(N):\n",
    "    x = robot()\n",
    "    x.set_noise(0.05, 0.05, 5.0)\n",
    "    p.append(x)\n",
    "\n",
    "p2 = []\n",
    "for i in range(N):\n",
    "    p2.append(p[i].move(0.1, 5.0))\n",
    "p = p2\n",
    "\n",
    "w = []\n",
    "# insert code here!\n",
    "for i in range(N):\n",
    "    w.append(p[i].measurement_prob(Z))\n",
    "\n",
    "print(w)"
   ]
  },
  {
   "cell_type": "markdown",
   "metadata": {},
   "source": [
    "- some of them are more likely--the ones that are closer to the truth like $-5$--those are the particles that should really survive,\n",
    "- those ones over here with a $-126$, those are really ready to die off because they are so far away from the truth we really don't need them anymore\n",
    "\n",
    "\n",
    "- in the final step of the particle filter algorithm, we just have to sample particles from `P` with a probability that is proportional to its corresponding `W` value\n",
    "- particles in `P` that have a large value should be drawn more frequently than the ones with a small value"
   ]
  },
  {
   "cell_type": "markdown",
   "metadata": {},
   "source": [
    "# Resampling"
   ]
  },
  {
   "cell_type": "markdown",
   "metadata": {},
   "source": [
    "- let me emphasize what resampling actually means\n",
    "- we are given $N$ particles, each of which has $3$ values\n",
    "- they also now have weights--these are simple floats or continuous values\n",
    "- let's call big $W$ the sum of all these weights, and let's normalize them just for the consideration of what to do--it's called the normalized weights $\\alpha$--so $\\alpha_1$ would be the weight $1$ divided by the normalizer $W$, and so on all the way to $\\alpha_N$\n",
    "  - obviously it goes without saying that the sum of all alphas is now $1$, since we normalized them\n",
    "\n",
    "\n",
    "- what resampling now does is it puts all these particles and then normalized weights into a big bag, and then it draws with replacement $N$ new particles by picking each particle with probability $\\alpha$\n",
    "  - for example, $\\alpha_2$ might be large so we're going to pick this one, $p_2$, $\\alpha_3$ might also be large so we pick that one, $\\alpha_4$ might be really small but just by chance you might actually pick it and then we might pick $\\alpha_2$ again\n",
    "  - so, you get 2 versions of $p_2$, perhaps even $3$ versions of $p_2$, depending on the probabilities\n",
    "- we have $N$ particles over here, we do this thing $N$ times, which is why I said with replacement we can draw multiple copies of the same particle, and in the end those particles that have a high-normalized weight alpha over here will occur likely--more frequently, in the new set over here\n",
    "  - that's called resampling\n",
    "\n",
    "<img src=\"resources/resampling.png\"/>"
   ]
  },
  {
   "cell_type": "markdown",
   "metadata": {},
   "source": [
    "# Never Sampled"
   ]
  },
  {
   "cell_type": "markdown",
   "metadata": {},
   "source": [
    "- **Q:** Suppose we have 5 particles with the following importance weights: $0.6, 1.2, 2.4, 0.6, 1.2$. If I, in the process of resampling, randomly draw a particle in accordance to the normalized importance weights, what is the probability of drawing $p_1, p_2, p_3, p_4, p_5$?\n",
    "- **A:** $0.1, 0.2, 0.4, 0.1, 0.2$ We just have to normalize those importance weights--the sum of those numbers is 6. We divide each weight by 6 to get matching probability. Obviously they add up to $1$.\n",
    "\n",
    "\n",
    "- **Q:** Let me make these alpha values explicit and ask another question. Is it possible that $p_1$ is never sampled in the resampling step? Yes or No?\n",
    "- **A:** The answer is yes--in the random resampling process something with an importance weight of $0.1$ is actually quite unlikely to be sampled into the next data set.\n",
    "\n",
    "\n",
    "- **Q:** Let me now ask the same question about $p_3$, which is the particle with the largest importance weight. Is it possible that $p_3$ is never sampled in the resampling step?\n",
    "- **A:** The answer is yes, again. Even though this importance weight over here is large, it could happen that in each of the $5$ resampling steps we pick one of the other $4$.\n",
    "\n",
    "\n",
    "- **Q:** What is the probability of never sampling $p_3$? To answer this question assume we make a new particle set with $N=5$ new particles where particles are drawn independently and with replacement.\n",
    "- **A:** The answer is $0.0777$ approximately. The way to obtain this is for this particle to never to be drawn in the resampling phase, we always have to draw $1$ of the remaining $4$ particles. Those together have a probability of $0.6$ to be drawn, which contrasts to the $0.4$ for $p_3$. So for $5$ independent samplings to draw $1$ of those $4$, we get a total probability of $0.6^5$, which is approximately $0.0777$. Put differently, there is about a $7.7\\% $ chance that particle 3 over here is missing, but with almost $93\\%$ probability we'd have this particle included. Put differently, the particles with small importance weights will survive at a much lower rate than the ones with larger importance weights, which is exactly what we wish to get from the resampling step."
   ]
  },
  {
   "cell_type": "markdown",
   "metadata": {},
   "source": [
    "# New Particle"
   ]
  },
  {
   "cell_type": "markdown",
   "metadata": {},
   "source": [
    "- what I would like you to do next is to modify our algorithm to take the lists of particles and importance weights to sample $N$ times with replacement and new particles with a sampling probability proportional to the importance weights\n",
    "- in the code now that we calculated our new particles and the corresponding importance weights, construct a new particle set `p3`, which we will call `p`, again, when everything is said and done, so that the particles in `p3` are drawn from `p` according to the importance weights `w`\n",
    "\n",
    "\n",
    "- it turns out this is not an easy thing to do\n",
    "- an obvious idea might be to compute all this normalized alphas, but you still have to be able to sample from those\n",
    "- so, in the spectrum of our alphas you might draw a random variable uniformly from the interval $0;1$, and then find out the alpha so that all the alphas leading up to it, and some are smaller than beta but if we add the new alpha to the sum you would get a value larger than beta\n",
    "  - that's doable but it's inefficient--in the best case you get an $N * log(N)$ implementation"
   ]
  },
  {
   "cell_type": "markdown",
   "metadata": {},
   "source": [
    "# Resampling Wheel"
   ]
  },
  {
   "cell_type": "markdown",
   "metadata": {},
   "source": [
    "<img src=\"resources/resampling_wheel.png\"/>\n",
    "\n",
    "- here's an idea how to make this more efficient, and it turns out empirically it also gives better samples\n",
    "- let's represent all our particles and importance weight in a big wheel\n",
    "- each particle occupies a slice that corresponds to its importance weight\n",
    "  - particles with a bigger weight occupy more space whereas particles with a smaller weight occupy less space\n",
    "\n",
    "\n",
    "- very initially let's guess a particle index uniformly from the set of all indices\n",
    "  - I denote this as a uniform sample at $U$ from the discrete set of choices of index $1$ all the way to $N$, and as a caveat in Python, of course, it goes from $0$ to $N-1$\n",
    "- say we pick $w_6$--then, the trick is--I'm going to construct the function $\\beta$ and initialize to $0$ and to which I add--when I construct these particles--a uniformly drawn continuous value that sits between $0$ and $2 \\times w_{max}$, which is the largest of the importance weights in the important set\n",
    "  - $w_5$ is the largest, so we're going to add a random value that might be as large as twice $w_5$\n",
    "- suppose the value we added brings us to here (green)--so, this is the value we actually drew, measured from the beginning of the sixth particle which shows an initialization\n",
    "- I now then iterate the following loop:\n",
    "  - if the importance weight of the present particle doesn't suffice to reach all the way to $\\beta$--so, if $w_{index}$ isn't as big as $\\beta$, then I subtract from $\\beta$ this very value $w_{index}$ and I increment index by $1$\n",
    "- we now get to the point where $\\beta$ becomes smaller than $w_{index}$, which is the case in the next situation--now index=$7$\n",
    "- then, index is the index of the particle I pick in my resampling process\n",
    "- so, I picked the particle index; I now iterate I add another uniform value to beta(purple)\n",
    "  - the same iteration now will make index flow up reducing beta by all the slice over here, which is $w_7$, and then jump over here, and particle $1$ is picked\n",
    "\n",
    "\n",
    "- it can easily happen that the uniform value is so small that the same particle is picked twice, and it's easy to see that each particle is now picked in proportion to the total circumference it spans in this wheel of particles"
   ]
  },
  {
   "cell_type": "markdown",
   "metadata": {},
   "source": [
    "```python\n",
    "while w[index] < beta:\n",
    "    beta = beta - w[index]\n",
    "    index = index + 1\n",
    "\n",
    "select p[index]\n",
    "```"
   ]
  },
  {
   "cell_type": "code",
   "execution_count": 8,
   "metadata": {
    "scrolled": true
   },
   "outputs": [
    {
     "name": "stdout",
     "output_type": "stream",
     "text": [
      "[[x=15.706 y=8.0736 orient=3.0710], [x=15.706 y=8.0736 orient=3.0710], [x=15.095 y=11.352 orient=1.7743], [x=15.095 y=11.352 orient=1.7743], [x=16.530 y=2.3656 orient=0.5950], [x=11.079 y=9.7569 orient=4.0061], [x=8.2609 y=9.6771 orient=4.3370], [x=13.477 y=10.896 orient=0.5868], [x=13.013 y=6.1219 orient=3.5685], [x=6.8378 y=12.791 orient=2.2780], [x=16.139 y=10.876 orient=0.6076], [x=25.778 y=2.5858 orient=6.2300], [x=15.706 y=8.0736 orient=3.0710], [x=15.095 y=11.352 orient=1.7743], [x=18.026 y=10.423 orient=5.6052], [x=11.712 y=9.0370 orient=4.4482], [x=15.644 y=4.2265 orient=0.3405], [x=19.437 y=8.3928 orient=3.1099], [x=13.013 y=6.1219 orient=3.5685], [x=13.013 y=6.1219 orient=3.5685], [x=18.967 y=9.3133 orient=4.5376], [x=15.706 y=8.0736 orient=3.0710], [x=15.706 y=8.0736 orient=3.0710], [x=15.095 y=11.352 orient=1.7743], [x=11.079 y=9.7569 orient=4.0061], [x=11.079 y=9.7569 orient=4.0061], [x=11.712 y=9.0370 orient=4.4482], [x=8.2609 y=9.6771 orient=4.3370], [x=13.477 y=10.896 orient=0.5868], [x=13.477 y=10.896 orient=0.5868], [x=12.087 y=13.135 orient=4.1543], [x=6.8378 y=12.791 orient=2.2780], [x=18.967 y=9.3133 orient=4.5376], [x=22.034 y=10.000 orient=0.6093], [x=15.706 y=8.0736 orient=3.0710], [x=8.4531 y=11.024 orient=3.5816], [x=15.095 y=11.352 orient=1.7743], [x=18.026 y=10.423 orient=5.6052], [x=11.079 y=9.7569 orient=4.0061], [x=8.2609 y=9.6771 orient=4.3370], [x=15.644 y=4.2265 orient=0.3405], [x=15.644 y=4.2265 orient=0.3405], [x=13.477 y=10.896 orient=0.5868], [x=13.013 y=6.1219 orient=3.5685], [x=22.139 y=4.9561 orient=6.2672], [x=7.6254 y=15.749 orient=2.7600], [x=8.9022 y=17.451 orient=4.1213], [x=9.1195 y=10.981 orient=2.1587], [x=15.706 y=8.0736 orient=3.0710], [x=15.095 y=11.352 orient=1.7743], [x=18.026 y=10.423 orient=5.6052], [x=11.079 y=9.7569 orient=4.0061], [x=8.2609 y=9.6771 orient=4.3370], [x=13.477 y=10.896 orient=0.5868], [x=12.087 y=13.135 orient=4.1543], [x=7.6254 y=15.749 orient=2.7600], [x=16.139 y=10.876 orient=0.6076], [x=9.1195 y=10.981 orient=2.1587], [x=9.1195 y=10.981 orient=2.1587], [x=7.8065 y=11.884 orient=4.4402], [x=7.8065 y=11.884 orient=4.4402], [x=15.095 y=11.352 orient=1.7743], [x=11.079 y=9.7569 orient=4.0061], [x=11.079 y=9.7569 orient=4.0061], [x=8.2609 y=9.6771 orient=4.3370], [x=8.2609 y=9.6771 orient=4.3370], [x=13.477 y=10.896 orient=0.5868], [x=19.437 y=8.3928 orient=3.1099], [x=6.8378 y=12.791 orient=2.2780], [x=8.0369 y=18.300 orient=4.7596], [x=12.959 y=17.361 orient=2.4027], [x=15.706 y=8.0736 orient=3.0710], [x=15.095 y=11.352 orient=1.7743], [x=11.079 y=9.7569 orient=4.0061], [x=11.712 y=9.0370 orient=4.4482], [x=11.712 y=9.0370 orient=4.4482], [x=11.712 y=9.0370 orient=4.4482], [x=8.2609 y=9.6771 orient=4.3370], [x=15.644 y=4.2265 orient=0.3405], [x=19.437 y=8.3928 orient=3.1099], [x=16.139 y=10.876 orient=0.6076], [x=18.967 y=9.3133 orient=4.5376], [x=25.778 y=2.5858 orient=6.2300], [x=15.706 y=8.0736 orient=3.0710], [x=15.095 y=11.352 orient=1.7743], [x=16.530 y=2.3656 orient=0.5950], [x=11.079 y=9.7569 orient=4.0061], [x=11.079 y=9.7569 orient=4.0061], [x=11.712 y=9.0370 orient=4.4482], [x=8.2609 y=9.6771 orient=4.3370], [x=13.477 y=10.896 orient=0.5868], [x=13.477 y=10.896 orient=0.5868], [x=19.437 y=8.3928 orient=3.1099], [x=13.013 y=6.1219 orient=3.5685], [x=16.139 y=10.876 orient=0.6076], [x=18.967 y=9.3133 orient=4.5376], [x=9.1195 y=10.981 orient=2.1587], [x=15.706 y=8.0736 orient=3.0710], [x=13.184 y=14.508 orient=4.2211], [x=18.026 y=10.423 orient=5.6052], [x=11.079 y=9.7569 orient=4.0061], [x=11.712 y=9.0370 orient=4.4482], [x=12.087 y=13.135 orient=4.1543], [x=19.437 y=8.3928 orient=3.1099], [x=13.013 y=6.1219 orient=3.5685], [x=7.6254 y=15.749 orient=2.7600], [x=16.139 y=10.876 orient=0.6076], [x=9.1195 y=10.981 orient=2.1587], [x=12.959 y=17.361 orient=2.4027], [x=10.978 y=2.9876 orient=4.0072], [x=18.026 y=10.423 orient=5.6052], [x=11.712 y=9.0370 orient=4.4482], [x=11.712 y=9.0370 orient=4.4482], [x=13.477 y=10.896 orient=0.5868], [x=19.437 y=8.3928 orient=3.1099], [x=19.437 y=8.3928 orient=3.1099], [x=19.437 y=8.3928 orient=3.1099], [x=27.805 y=4.3136 orient=4.5239], [x=16.139 y=10.876 orient=0.6076], [x=22.034 y=10.000 orient=0.6093], [x=9.1195 y=10.981 orient=2.1587], [x=7.8065 y=11.884 orient=4.4402], [x=7.8065 y=11.884 orient=4.4402], [x=15.095 y=11.352 orient=1.7743], [x=15.095 y=11.352 orient=1.7743], [x=11.079 y=9.7569 orient=4.0061], [x=11.712 y=9.0370 orient=4.4482], [x=8.2609 y=9.6771 orient=4.3370], [x=12.087 y=13.135 orient=4.1543], [x=13.013 y=6.1219 orient=3.5685], [x=16.139 y=10.876 orient=0.6076], [x=23.941 y=4.0093 orient=5.5208], [x=15.706 y=8.0736 orient=3.0710], [x=7.8065 y=11.884 orient=4.4402], [x=15.095 y=11.352 orient=1.7743], [x=15.095 y=11.352 orient=1.7743], [x=11.079 y=9.7569 orient=4.0061], [x=11.712 y=9.0370 orient=4.4482], [x=13.477 y=10.896 orient=0.5868], [x=12.087 y=13.135 orient=4.1543], [x=13.013 y=6.1219 orient=3.5685], [x=16.139 y=10.876 orient=0.6076], [x=16.139 y=10.876 orient=0.6076], [x=9.1195 y=10.981 orient=2.1587], [x=15.706 y=8.0736 orient=3.0710], [x=8.4531 y=11.024 orient=3.5816], [x=18.026 y=10.423 orient=5.6052], [x=11.712 y=9.0370 orient=4.4482], [x=13.477 y=10.896 orient=0.5868], [x=13.013 y=6.1219 orient=3.5685], [x=22.139 y=4.9561 orient=6.2672], [x=16.368 y=1.4175 orient=4.6089], [x=18.967 y=9.3133 orient=4.5376], [x=18.967 y=9.3133 orient=4.5376], [x=18.967 y=9.3133 orient=4.5376], [x=15.706 y=8.0736 orient=3.0710], [x=8.4531 y=11.024 orient=3.5816], [x=10.116 y=19.955 orient=1.3538], [x=18.026 y=10.423 orient=5.6052], [x=11.079 y=9.7569 orient=4.0061], [x=8.2609 y=9.6771 orient=4.3370], [x=8.2609 y=9.6771 orient=4.3370], [x=13.477 y=10.896 orient=0.5868], [x=13.013 y=6.1219 orient=3.5685], [x=13.013 y=6.1219 orient=3.5685], [x=16.139 y=10.876 orient=0.6076], [x=18.967 y=9.3133 orient=4.5376], [x=9.1195 y=10.981 orient=2.1587], [x=15.706 y=8.0736 orient=3.0710], [x=15.706 y=8.0736 orient=3.0710], [x=8.4531 y=11.024 orient=3.5816], [x=15.095 y=11.352 orient=1.7743], [x=11.079 y=9.7569 orient=4.0061], [x=11.712 y=9.0370 orient=4.4482], [x=11.712 y=9.0370 orient=4.4482], [x=8.2609 y=9.6771 orient=4.3370], [x=15.644 y=4.2265 orient=0.3405], [x=13.477 y=10.896 orient=0.5868], [x=19.437 y=8.3928 orient=3.1099], [x=7.6254 y=15.749 orient=2.7600], [x=9.1195 y=10.981 orient=2.1587], [x=15.706 y=8.0736 orient=3.0710], [x=15.095 y=11.352 orient=1.7743], [x=18.026 y=10.423 orient=5.6052], [x=1.6662 y=12.798 orient=4.1616], [x=11.079 y=9.7569 orient=4.0061], [x=11.712 y=9.0370 orient=4.4482], [x=11.712 y=9.0370 orient=4.4482], [x=8.2609 y=9.6771 orient=4.3370], [x=13.477 y=10.896 orient=0.5868], [x=19.437 y=8.3928 orient=3.1099], [x=16.139 y=10.876 orient=0.6076], [x=9.1195 y=10.981 orient=2.1587], [x=9.1195 y=10.981 orient=2.1587], [x=15.706 y=8.0736 orient=3.0710], [x=8.4531 y=11.024 orient=3.5816], [x=18.026 y=10.423 orient=5.6052], [x=11.712 y=9.0370 orient=4.4482], [x=8.2609 y=9.6771 orient=4.3370], [x=12.087 y=13.135 orient=4.1543], [x=19.437 y=8.3928 orient=3.1099], [x=13.013 y=6.1219 orient=3.5685], [x=16.139 y=10.876 orient=0.6076], [x=9.1195 y=10.981 orient=2.1587], [x=8.4531 y=11.024 orient=3.5816], [x=15.095 y=11.352 orient=1.7743], [x=18.026 y=10.423 orient=5.6052], [x=11.712 y=9.0370 orient=4.4482], [x=11.712 y=9.0370 orient=4.4482], [x=8.2609 y=9.6771 orient=4.3370], [x=12.087 y=13.135 orient=4.1543], [x=19.437 y=8.3928 orient=3.1099], [x=13.013 y=6.1219 orient=3.5685], [x=22.139 y=4.9561 orient=6.2672], [x=16.139 y=10.876 orient=0.6076], [x=8.9022 y=17.451 orient=4.1213], [x=15.706 y=8.0736 orient=3.0710], [x=10.978 y=2.9876 orient=4.0072], [x=15.095 y=11.352 orient=1.7743], [x=11.079 y=9.7569 orient=4.0061], [x=11.079 y=9.7569 orient=4.0061], [x=8.2609 y=9.6771 orient=4.3370], [x=13.477 y=10.896 orient=0.5868], [x=19.437 y=8.3928 orient=3.1099], [x=13.013 y=6.1219 orient=3.5685], [x=16.139 y=10.876 orient=0.6076], [x=23.941 y=4.0093 orient=5.5208], [x=15.706 y=8.0736 orient=3.0710], [x=15.706 y=8.0736 orient=3.0710], [x=15.095 y=11.352 orient=1.7743], [x=13.184 y=14.508 orient=4.2211], [x=11.079 y=9.7569 orient=4.0061], [x=11.712 y=9.0370 orient=4.4482], [x=13.477 y=10.896 orient=0.5868], [x=13.477 y=10.896 orient=0.5868], [x=12.087 y=13.135 orient=4.1543], [x=12.087 y=13.135 orient=4.1543], [x=22.139 y=4.9561 orient=6.2672], [x=7.6254 y=15.749 orient=2.7600], [x=16.139 y=10.876 orient=0.6076], [x=29.991 y=6.3685 orient=3.3537], [x=9.1195 y=10.981 orient=2.1587], [x=15.706 y=8.0736 orient=3.0710], [x=15.706 y=8.0736 orient=3.0710], [x=15.095 y=11.352 orient=1.7743], [x=15.095 y=11.352 orient=1.7743], [x=13.184 y=14.508 orient=4.2211], [x=11.712 y=9.0370 orient=4.4482], [x=11.712 y=9.0370 orient=4.4482], [x=13.477 y=10.896 orient=0.5868], [x=19.437 y=8.3928 orient=3.1099], [x=7.6254 y=15.749 orient=2.7600], [x=18.967 y=9.3133 orient=4.5376], [x=9.1195 y=10.981 orient=2.1587], [x=9.1195 y=10.981 orient=2.1587], [x=8.4531 y=11.024 orient=3.5816], [x=15.095 y=11.352 orient=1.7743], [x=11.079 y=9.7569 orient=4.0061], [x=11.712 y=9.0370 orient=4.4482], [x=11.712 y=9.0370 orient=4.4482], [x=13.477 y=10.896 orient=0.5868], [x=19.437 y=8.3928 orient=3.1099], [x=13.013 y=6.1219 orient=3.5685], [x=16.139 y=10.876 orient=0.6076], [x=16.139 y=10.876 orient=0.6076], [x=23.941 y=4.0093 orient=5.5208], [x=15.706 y=8.0736 orient=3.0710], [x=10.978 y=2.9876 orient=4.0072], [x=13.184 y=14.508 orient=4.2211], [x=11.079 y=9.7569 orient=4.0061], [x=11.712 y=9.0370 orient=4.4482], [x=8.2609 y=9.6771 orient=4.3370], [x=13.477 y=10.896 orient=0.5868], [x=6.8378 y=12.791 orient=2.2780], [x=6.9736 y=22.024 orient=5.0400], [x=16.139 y=10.876 orient=0.6076], [x=16.139 y=10.876 orient=0.6076], [x=18.967 y=9.3133 orient=4.5376], [x=15.706 y=8.0736 orient=3.0710], [x=15.706 y=8.0736 orient=3.0710], [x=8.4531 y=11.024 orient=3.5816], [x=18.026 y=10.423 orient=5.6052], [x=11.079 y=9.7569 orient=4.0061], [x=11.712 y=9.0370 orient=4.4482], [x=11.712 y=9.0370 orient=4.4482], [x=13.477 y=10.896 orient=0.5868], [x=12.087 y=13.135 orient=4.1543], [x=13.013 y=6.1219 orient=3.5685], [x=13.013 y=6.1219 orient=3.5685], [x=16.368 y=1.4175 orient=4.6089], [x=15.706 y=8.0736 orient=3.0710], [x=15.706 y=8.0736 orient=3.0710], [x=8.4531 y=11.024 orient=3.5816], [x=16.530 y=2.3656 orient=0.5950], [x=11.712 y=9.0370 orient=4.4482], [x=11.712 y=9.0370 orient=4.4482], [x=8.2609 y=9.6771 orient=4.3370], [x=15.644 y=4.2265 orient=0.3405], [x=12.087 y=13.135 orient=4.1543], [x=12.087 y=13.135 orient=4.1543], [x=6.8378 y=12.791 orient=2.2780], [x=23.941 y=4.0093 orient=5.5208], [x=9.1195 y=10.981 orient=2.1587], [x=15.706 y=8.0736 orient=3.0710], [x=15.706 y=8.0736 orient=3.0710], [x=15.095 y=11.352 orient=1.7743], [x=26.052 y=11.231 orient=6.1973], [x=11.079 y=9.7569 orient=4.0061], [x=15.644 y=4.2265 orient=0.3405], [x=13.477 y=10.896 orient=0.5868], [x=12.087 y=13.135 orient=4.1543], [x=7.6254 y=15.749 orient=2.7600], [x=16.139 y=10.876 orient=0.6076], [x=16.139 y=10.876 orient=0.6076], [x=3.3323 y=13.585 orient=1.5166], [x=15.706 y=8.0736 orient=3.0710], [x=15.095 y=11.352 orient=1.7743], [x=11.079 y=9.7569 orient=4.0061], [x=11.712 y=9.0370 orient=4.4482], [x=11.712 y=9.0370 orient=4.4482], [x=13.477 y=10.896 orient=0.5868], [x=13.477 y=10.896 orient=0.5868], [x=13.013 y=6.1219 orient=3.5685], [x=16.139 y=10.876 orient=0.6076], [x=8.0369 y=18.300 orient=4.7596], [x=15.706 y=8.0736 orient=3.0710], [x=15.706 y=8.0736 orient=3.0710], [x=15.095 y=11.352 orient=1.7743], [x=16.530 y=2.3656 orient=0.5950], [x=11.712 y=9.0370 orient=4.4482], [x=13.477 y=10.896 orient=0.5868], [x=19.437 y=8.3928 orient=3.1099], [x=6.8378 y=12.791 orient=2.2780], [x=6.8378 y=12.791 orient=2.2780], [x=22.139 y=4.9561 orient=6.2672], [x=8.9022 y=17.451 orient=4.1213], [x=7.8065 y=11.884 orient=4.4402], [x=15.095 y=11.352 orient=1.7743], [x=18.026 y=10.423 orient=5.6052], [x=18.026 y=10.423 orient=5.6052], [x=11.079 y=9.7569 orient=4.0061], [x=15.644 y=4.2265 orient=0.3405], [x=13.477 y=10.896 orient=0.5868], [x=13.013 y=6.1219 orient=3.5685], [x=16.368 y=1.4175 orient=4.6089], [x=18.967 y=9.3133 orient=4.5376], [x=9.1195 y=10.981 orient=2.1587], [x=15.706 y=8.0736 orient=3.0710], [x=15.706 y=8.0736 orient=3.0710], [x=15.706 y=8.0736 orient=3.0710], [x=13.184 y=14.508 orient=4.2211], [x=11.079 y=9.7569 orient=4.0061], [x=8.2609 y=9.6771 orient=4.3370], [x=15.644 y=4.2265 orient=0.3405], [x=13.477 y=10.896 orient=0.5868], [x=12.087 y=13.135 orient=4.1543], [x=6.8378 y=12.791 orient=2.2780], [x=18.967 y=9.3133 orient=4.5376], [x=18.967 y=9.3133 orient=4.5376], [x=9.1195 y=10.981 orient=2.1587], [x=7.8065 y=11.884 orient=4.4402], [x=8.4531 y=11.024 orient=3.5816], [x=15.095 y=11.352 orient=1.7743], [x=15.095 y=11.352 orient=1.7743], [x=13.184 y=14.508 orient=4.2211], [x=11.712 y=9.0370 orient=4.4482], [x=15.644 y=4.2265 orient=0.3405], [x=13.477 y=10.896 orient=0.5868], [x=12.087 y=13.135 orient=4.1543], [x=12.087 y=13.135 orient=4.1543], [x=7.6254 y=15.749 orient=2.7600], [x=9.1195 y=10.981 orient=2.1587], [x=7.8065 y=11.884 orient=4.4402], [x=8.4531 y=11.024 orient=3.5816], [x=13.184 y=14.508 orient=4.2211], [x=11.079 y=9.7569 orient=4.0061], [x=8.2609 y=9.6771 orient=4.3370], [x=15.644 y=4.2265 orient=0.3405], [x=12.087 y=13.135 orient=4.1543], [x=19.437 y=8.3928 orient=3.1099], [x=16.139 y=10.876 orient=0.6076], [x=9.1195 y=10.981 orient=2.1587], [x=15.706 y=8.0736 orient=3.0710], [x=10.978 y=2.9876 orient=4.0072], [x=16.530 y=2.3656 orient=0.5950], [x=11.712 y=9.0370 orient=4.4482], [x=8.2609 y=9.6771 orient=4.3370], [x=13.477 y=10.896 orient=0.5868], [x=12.087 y=13.135 orient=4.1543], [x=12.087 y=13.135 orient=4.1543], [x=6.8378 y=12.791 orient=2.2780], [x=7.6254 y=15.749 orient=2.7600], [x=8.0369 y=18.300 orient=4.7596], [x=9.1195 y=10.981 orient=2.1587], [x=7.8065 y=11.884 orient=4.4402], [x=4.2289 y=13.360 orient=4.3716], [x=8.4531 y=11.024 orient=3.5816], [x=11.079 y=9.7569 orient=4.0061], [x=8.2609 y=9.6771 orient=4.3370], [x=13.477 y=10.896 orient=0.5868], [x=12.087 y=13.135 orient=4.1543], [x=22.139 y=4.9561 orient=6.2672], [x=7.6254 y=15.749 orient=2.7600], [x=8.0369 y=18.300 orient=4.7596], [x=15.706 y=8.0736 orient=3.0710], [x=15.706 y=8.0736 orient=3.0710], [x=15.095 y=11.352 orient=1.7743], [x=18.026 y=10.423 orient=5.6052], [x=11.712 y=9.0370 orient=4.4482], [x=13.477 y=10.896 orient=0.5868], [x=6.8378 y=12.791 orient=2.2780], [x=18.967 y=9.3133 orient=4.5376], [x=8.9022 y=17.451 orient=4.1213], [x=9.1195 y=10.981 orient=2.1587], [x=15.706 y=8.0736 orient=3.0710], [x=8.4531 y=11.024 orient=3.5816], [x=18.026 y=10.423 orient=5.6052], [x=11.079 y=9.7569 orient=4.0061], [x=11.712 y=9.0370 orient=4.4482], [x=15.644 y=4.2265 orient=0.3405], [x=19.437 y=8.3928 orient=3.1099], [x=6.8378 y=12.791 orient=2.2780], [x=7.6254 y=15.749 orient=2.7600], [x=18.967 y=9.3133 orient=4.5376], [x=15.706 y=8.0736 orient=3.0710], [x=15.706 y=8.0736 orient=3.0710], [x=8.4531 y=11.024 orient=3.5816], [x=15.095 y=11.352 orient=1.7743], [x=11.079 y=9.7569 orient=4.0061], [x=11.712 y=9.0370 orient=4.4482], [x=13.477 y=10.896 orient=0.5868], [x=13.477 y=10.896 orient=0.5868], [x=6.8378 y=12.791 orient=2.2780], [x=23.941 y=4.0093 orient=5.5208], [x=9.1195 y=10.981 orient=2.1587], [x=9.1195 y=10.981 orient=2.1587], [x=9.1195 y=10.981 orient=2.1587], [x=15.706 y=8.0736 orient=3.0710], [x=15.706 y=8.0736 orient=3.0710], [x=15.095 y=11.352 orient=1.7743], [x=11.079 y=9.7569 orient=4.0061], [x=8.2609 y=9.6771 orient=4.3370], [x=15.644 y=4.2265 orient=0.3405], [x=13.477 y=10.896 orient=0.5868], [x=13.477 y=10.896 orient=0.5868], [x=13.477 y=10.896 orient=0.5868], [x=6.8378 y=12.791 orient=2.2780], [x=16.139 y=10.876 orient=0.6076], [x=16.139 y=10.876 orient=0.6076], [x=18.967 y=9.3133 orient=4.5376], [x=15.706 y=8.0736 orient=3.0710], [x=8.4531 y=11.024 orient=3.5816], [x=15.095 y=11.352 orient=1.7743], [x=13.184 y=14.508 orient=4.2211], [x=11.079 y=9.7569 orient=4.0061], [x=11.079 y=9.7569 orient=4.0061], [x=15.644 y=4.2265 orient=0.3405], [x=13.477 y=10.896 orient=0.5868], [x=12.087 y=13.135 orient=4.1543], [x=12.087 y=13.135 orient=4.1543], [x=22.139 y=4.9561 orient=6.2672], [x=16.139 y=10.876 orient=0.6076], [x=9.1195 y=10.981 orient=2.1587], [x=9.1195 y=10.981 orient=2.1587], [x=10.978 y=2.9876 orient=4.0072], [x=8.4531 y=11.024 orient=3.5816], [x=15.095 y=11.352 orient=1.7743], [x=18.026 y=10.423 orient=5.6052], [x=11.079 y=9.7569 orient=4.0061], [x=11.712 y=9.0370 orient=4.4482], [x=11.712 y=9.0370 orient=4.4482], [x=13.477 y=10.896 orient=0.5868], [x=13.013 y=6.1219 orient=3.5685], [x=22.139 y=4.9561 orient=6.2672], [x=22.139 y=4.9561 orient=6.2672], [x=7.6254 y=15.749 orient=2.7600], [x=16.368 y=1.4175 orient=4.6089], [x=18.967 y=9.3133 orient=4.5376], [x=23.941 y=4.0093 orient=5.5208], [x=9.1195 y=10.981 orient=2.1587], [x=15.706 y=8.0736 orient=3.0710], [x=15.095 y=11.352 orient=1.7743], [x=18.026 y=10.423 orient=5.6052], [x=11.079 y=9.7569 orient=4.0061], [x=15.644 y=4.2265 orient=0.3405], [x=13.477 y=10.896 orient=0.5868], [x=12.087 y=13.135 orient=4.1543], [x=12.087 y=13.135 orient=4.1543], [x=12.087 y=13.135 orient=4.1543], [x=13.013 y=6.1219 orient=3.5685], [x=18.967 y=9.3133 orient=4.5376], [x=15.706 y=8.0736 orient=3.0710], [x=8.4531 y=11.024 orient=3.5816], [x=15.095 y=11.352 orient=1.7743], [x=13.184 y=14.508 orient=4.2211], [x=16.530 y=2.3656 orient=0.5950], [x=11.712 y=9.0370 orient=4.4482], [x=13.477 y=10.896 orient=0.5868], [x=13.477 y=10.896 orient=0.5868], [x=13.013 y=6.1219 orient=3.5685], [x=16.139 y=10.876 orient=0.6076], [x=22.034 y=10.000 orient=0.6093], [x=15.706 y=8.0736 orient=3.0710], [x=8.4531 y=11.024 orient=3.5816], [x=16.530 y=2.3656 orient=0.5950], [x=11.079 y=9.7569 orient=4.0061], [x=8.2609 y=9.6771 orient=4.3370], [x=12.087 y=13.135 orient=4.1543], [x=13.013 y=6.1219 orient=3.5685], [x=13.013 y=6.1219 orient=3.5685], [x=7.6254 y=15.749 orient=2.7600], [x=23.941 y=4.0093 orient=5.5208], [x=23.941 y=4.0093 orient=5.5208], [x=8.9022 y=17.451 orient=4.1213], [x=15.706 y=8.0736 orient=3.0710], [x=8.4531 y=11.024 orient=3.5816], [x=15.095 y=11.352 orient=1.7743], [x=16.530 y=2.3656 orient=0.5950], [x=18.026 y=10.423 orient=5.6052], [x=11.079 y=9.7569 orient=4.0061], [x=11.712 y=9.0370 orient=4.4482], [x=13.477 y=10.896 orient=0.5868], [x=13.477 y=10.896 orient=0.5868], [x=12.087 y=13.135 orient=4.1543], [x=7.6254 y=15.749 orient=2.7600], [x=16.139 y=10.876 orient=0.6076], [x=25.778 y=2.5858 orient=6.2300], [x=15.706 y=8.0736 orient=3.0710], [x=8.4531 y=11.024 orient=3.5816], [x=15.095 y=11.352 orient=1.7743], [x=11.079 y=9.7569 orient=4.0061], [x=11.712 y=9.0370 orient=4.4482], [x=12.087 y=13.135 orient=4.1543], [x=19.437 y=8.3928 orient=3.1099], [x=6.8378 y=12.791 orient=2.2780], [x=7.6254 y=15.749 orient=2.7600], [x=22.034 y=10.000 orient=0.6093], [x=7.8065 y=11.884 orient=4.4402], [x=13.184 y=14.508 orient=4.2211], [x=11.079 y=9.7569 orient=4.0061], [x=11.712 y=9.0370 orient=4.4482], [x=15.644 y=4.2265 orient=0.3405], [x=13.477 y=10.896 orient=0.5868], [x=19.437 y=8.3928 orient=3.1099], [x=13.013 y=6.1219 orient=3.5685], [x=16.139 y=10.876 orient=0.6076], [x=8.0369 y=18.300 orient=4.7596], [x=15.706 y=8.0736 orient=3.0710], [x=8.4531 y=11.024 orient=3.5816], [x=15.095 y=11.352 orient=1.7743], [x=18.026 y=10.423 orient=5.6052], [x=11.712 y=9.0370 orient=4.4482], [x=13.477 y=10.896 orient=0.5868], [x=13.477 y=10.896 orient=0.5868], [x=13.013 y=6.1219 orient=3.5685], [x=16.139 y=10.876 orient=0.6076], [x=9.1195 y=10.981 orient=2.1587], [x=15.706 y=8.0736 orient=3.0710], [x=15.706 y=8.0736 orient=3.0710], [x=8.4531 y=11.024 orient=3.5816], [x=18.026 y=10.423 orient=5.6052], [x=18.026 y=10.423 orient=5.6052], [x=11.079 y=9.7569 orient=4.0061], [x=15.644 y=4.2265 orient=0.3405], [x=19.437 y=8.3928 orient=3.1099], [x=19.437 y=8.3928 orient=3.1099], [x=19.437 y=8.3928 orient=3.1099], [x=6.8378 y=12.791 orient=2.2780], [x=18.967 y=9.3133 orient=4.5376], [x=8.9022 y=17.451 orient=4.1213], [x=8.9022 y=17.451 orient=4.1213], [x=12.959 y=17.361 orient=2.4027], [x=15.706 y=8.0736 orient=3.0710], [x=15.706 y=8.0736 orient=3.0710], [x=8.4531 y=11.024 orient=3.5816], [x=15.095 y=11.352 orient=1.7743], [x=15.095 y=11.352 orient=1.7743], [x=11.079 y=9.7569 orient=4.0061], [x=8.2609 y=9.6771 orient=4.3370], [x=15.644 y=4.2265 orient=0.3405], [x=13.477 y=10.896 orient=0.5868], [x=13.013 y=6.1219 orient=3.5685], [x=7.6254 y=15.749 orient=2.7600], [x=8.9022 y=17.451 orient=4.1213], [x=15.706 y=8.0736 orient=3.0710], [x=15.706 y=8.0736 orient=3.0710], [x=8.4531 y=11.024 orient=3.5816], [x=8.4531 y=11.024 orient=3.5816], [x=13.184 y=14.508 orient=4.2211], [x=11.712 y=9.0370 orient=4.4482], [x=13.477 y=10.896 orient=0.5868], [x=19.437 y=8.3928 orient=3.1099], [x=7.6254 y=15.749 orient=2.7600], [x=16.139 y=10.876 orient=0.6076], [x=8.9022 y=17.451 orient=4.1213], [x=9.1195 y=10.981 orient=2.1587], [x=15.706 y=8.0736 orient=3.0710], [x=10.116 y=19.955 orient=1.3538], [x=16.530 y=2.3656 orient=0.5950], [x=11.079 y=9.7569 orient=4.0061], [x=11.079 y=9.7569 orient=4.0061], [x=11.079 y=9.7569 orient=4.0061], [x=11.712 y=9.0370 orient=4.4482], [x=15.644 y=4.2265 orient=0.3405], [x=13.477 y=10.896 orient=0.5868], [x=13.013 y=6.1219 orient=3.5685], [x=13.013 y=6.1219 orient=3.5685], [x=6.8378 y=12.791 orient=2.2780], [x=16.368 y=1.4175 orient=4.6089], [x=18.967 y=9.3133 orient=4.5376], [x=15.706 y=8.0736 orient=3.0710], [x=15.706 y=8.0736 orient=3.0710], [x=7.8065 y=11.884 orient=4.4402], [x=15.095 y=11.352 orient=1.7743], [x=11.079 y=9.7569 orient=4.0061], [x=11.712 y=9.0370 orient=4.4482], [x=8.2609 y=9.6771 orient=4.3370], [x=13.477 y=10.896 orient=0.5868], [x=13.477 y=10.896 orient=0.5868], [x=12.087 y=13.135 orient=4.1543], [x=19.437 y=8.3928 orient=3.1099], [x=19.437 y=8.3928 orient=3.1099], [x=7.6254 y=15.749 orient=2.7600], [x=18.967 y=9.3133 orient=4.5376], [x=18.967 y=9.3133 orient=4.5376], [x=15.706 y=8.0736 orient=3.0710], [x=15.706 y=8.0736 orient=3.0710], [x=8.4531 y=11.024 orient=3.5816], [x=15.095 y=11.352 orient=1.7743], [x=16.530 y=2.3656 orient=0.5950], [x=11.712 y=9.0370 orient=4.4482], [x=8.2609 y=9.6771 orient=4.3370], [x=13.477 y=10.896 orient=0.5868], [x=12.087 y=13.135 orient=4.1543], [x=12.087 y=13.135 orient=4.1543], [x=13.013 y=6.1219 orient=3.5685], [x=16.139 y=10.876 orient=0.6076], [x=8.9022 y=17.451 orient=4.1213], [x=9.1195 y=10.981 orient=2.1587], [x=9.1195 y=10.981 orient=2.1587], [x=15.706 y=8.0736 orient=3.0710], [x=13.184 y=14.508 orient=4.2211], [x=11.079 y=9.7569 orient=4.0061], [x=15.644 y=4.2265 orient=0.3405], [x=15.644 y=4.2265 orient=0.3405], [x=13.477 y=10.896 orient=0.5868], [x=13.013 y=6.1219 orient=3.5685], [x=16.139 y=10.876 orient=0.6076], [x=18.967 y=9.3133 orient=4.5376], [x=15.706 y=8.0736 orient=3.0710], [x=15.706 y=8.0736 orient=3.0710], [x=7.8065 y=11.884 orient=4.4402], [x=15.095 y=11.352 orient=1.7743], [x=15.095 y=11.352 orient=1.7743], [x=18.026 y=10.423 orient=5.6052], [x=11.079 y=9.7569 orient=4.0061], [x=11.712 y=9.0370 orient=4.4482], [x=11.712 y=9.0370 orient=4.4482], [x=15.644 y=4.2265 orient=0.3405], [x=13.477 y=10.896 orient=0.5868], [x=12.087 y=13.135 orient=4.1543], [x=22.139 y=4.9561 orient=6.2672], [x=8.0369 y=18.300 orient=4.7596], [x=15.706 y=8.0736 orient=3.0710], [x=8.4531 y=11.024 orient=3.5816], [x=15.095 y=11.352 orient=1.7743], [x=13.184 y=14.508 orient=4.2211], [x=11.079 y=9.7569 orient=4.0061], [x=11.712 y=9.0370 orient=4.4482], [x=8.2609 y=9.6771 orient=4.3370], [x=15.644 y=4.2265 orient=0.3405], [x=13.477 y=10.896 orient=0.5868], [x=13.477 y=10.896 orient=0.5868], [x=13.477 y=10.896 orient=0.5868], [x=6.8378 y=12.791 orient=2.2780], [x=18.967 y=9.3133 orient=4.5376], [x=18.967 y=9.3133 orient=4.5376], [x=3.3323 y=13.585 orient=1.5166], [x=7.8065 y=11.884 orient=4.4402], [x=16.530 y=2.3656 orient=0.5950], [x=11.079 y=9.7569 orient=4.0061], [x=11.079 y=9.7569 orient=4.0061], [x=8.2609 y=9.6771 orient=4.3370], [x=8.2609 y=9.6771 orient=4.3370], [x=12.087 y=13.135 orient=4.1543], [x=22.139 y=4.9561 orient=6.2672], [x=22.139 y=4.9561 orient=6.2672], [x=8.0369 y=18.300 orient=4.7596], [x=15.706 y=8.0736 orient=3.0710], [x=15.706 y=8.0736 orient=3.0710], [x=15.095 y=11.352 orient=1.7743], [x=16.530 y=2.3656 orient=0.5950], [x=11.079 y=9.7569 orient=4.0061], [x=11.712 y=9.0370 orient=4.4482], [x=15.644 y=4.2265 orient=0.3405], [x=12.087 y=13.135 orient=4.1543], [x=12.087 y=13.135 orient=4.1543], [x=19.437 y=8.3928 orient=3.1099], [x=13.013 y=6.1219 orient=3.5685], [x=13.013 y=6.1219 orient=3.5685], [x=16.139 y=10.876 orient=0.6076], [x=18.967 y=9.3133 orient=4.5376], [x=8.0369 y=18.300 orient=4.7596], [x=15.706 y=8.0736 orient=3.0710], [x=15.706 y=8.0736 orient=3.0710], [x=15.095 y=11.352 orient=1.7743], [x=13.184 y=14.508 orient=4.2211], [x=18.026 y=10.423 orient=5.6052], [x=11.712 y=9.0370 orient=4.4482], [x=11.712 y=9.0370 orient=4.4482], [x=11.712 y=9.0370 orient=4.4482], [x=13.477 y=10.896 orient=0.5868], [x=12.087 y=13.135 orient=4.1543], [x=22.139 y=4.9561 orient=6.2672], [x=23.941 y=4.0093 orient=5.5208], [x=22.034 y=10.000 orient=0.6093], [x=15.706 y=8.0736 orient=3.0710], [x=15.706 y=8.0736 orient=3.0710], [x=8.4531 y=11.024 orient=3.5816], [x=13.184 y=14.508 orient=4.2211], [x=11.712 y=9.0370 orient=4.4482], [x=11.712 y=9.0370 orient=4.4482], [x=13.477 y=10.896 orient=0.5868], [x=13.477 y=10.896 orient=0.5868], [x=19.437 y=8.3928 orient=3.1099], [x=13.013 y=6.1219 orient=3.5685], [x=7.6254 y=15.749 orient=2.7600], [x=16.139 y=10.876 orient=0.6076], [x=8.9022 y=17.451 orient=4.1213], [x=15.706 y=8.0736 orient=3.0710], [x=15.706 y=8.0736 orient=3.0710], [x=15.095 y=11.352 orient=1.7743], [x=11.079 y=9.7569 orient=4.0061], [x=8.2609 y=9.6771 orient=4.3370], [x=15.644 y=4.2265 orient=0.3405], [x=19.437 y=8.3928 orient=3.1099], [x=19.437 y=8.3928 orient=3.1099], [x=13.013 y=6.1219 orient=3.5685], [x=22.139 y=4.9561 orient=6.2672], [x=16.139 y=10.876 orient=0.6076], [x=18.967 y=9.3133 orient=4.5376], [x=15.706 y=8.0736 orient=3.0710], [x=15.095 y=11.352 orient=1.7743], [x=15.095 y=11.352 orient=1.7743], [x=11.079 y=9.7569 orient=4.0061], [x=15.644 y=4.2265 orient=0.3405], [x=13.477 y=10.896 orient=0.5868], [x=19.437 y=8.3928 orient=3.1099], [x=13.013 y=6.1219 orient=3.5685], [x=22.139 y=4.9561 orient=6.2672], [x=7.6254 y=15.749 orient=2.7600], [x=22.034 y=10.000 orient=0.6093], [x=15.706 y=8.0736 orient=3.0710], [x=8.4531 y=11.024 orient=3.5816], [x=13.184 y=14.508 orient=4.2211], [x=11.712 y=9.0370 orient=4.4482], [x=13.477 y=10.896 orient=0.5868], [x=12.087 y=13.135 orient=4.1543], [x=19.437 y=8.3928 orient=3.1099], [x=16.139 y=10.876 orient=0.6076], [x=3.3323 y=13.585 orient=1.5166], [x=7.8065 y=11.884 orient=4.4402], [x=15.095 y=11.352 orient=1.7743], [x=18.026 y=10.423 orient=5.6052], [x=11.712 y=9.0370 orient=4.4482], [x=8.2609 y=9.6771 orient=4.3370], [x=12.087 y=13.135 orient=4.1543], [x=22.139 y=4.9561 orient=6.2672], [x=16.139 y=10.876 orient=0.6076], [x=22.034 y=10.000 orient=0.6093], [x=15.706 y=8.0736 orient=3.0710], [x=8.4531 y=11.024 orient=3.5816], [x=11.079 y=9.7569 orient=4.0061], [x=11.079 y=9.7569 orient=4.0061], [x=11.079 y=9.7569 orient=4.0061], [x=8.2609 y=9.6771 orient=4.3370], [x=13.477 y=10.896 orient=0.5868], [x=12.087 y=13.135 orient=4.1543], [x=13.013 y=6.1219 orient=3.5685], [x=16.368 y=1.4175 orient=4.6089], [x=12.959 y=17.361 orient=2.4027], [x=8.4531 y=11.024 orient=3.5816], [x=18.026 y=10.423 orient=5.6052], [x=11.712 y=9.0370 orient=4.4482], [x=15.644 y=4.2265 orient=0.3405], [x=12.087 y=13.135 orient=4.1543], [x=19.437 y=8.3928 orient=3.1099], [x=27.805 y=4.3136 orient=4.5239], [x=16.139 y=10.876 orient=0.6076], [x=16.368 y=1.4175 orient=4.6089], [x=16.368 y=1.4175 orient=4.6089], [x=9.1195 y=10.981 orient=2.1587], [x=15.706 y=8.0736 orient=3.0710], [x=4.2289 y=13.360 orient=4.3716], [x=4.2289 y=13.360 orient=4.3716], [x=15.095 y=11.352 orient=1.7743], [x=13.184 y=14.508 orient=4.2211], [x=18.026 y=10.423 orient=5.6052], [x=11.712 y=9.0370 orient=4.4482], [x=13.477 y=10.896 orient=0.5868], [x=19.437 y=8.3928 orient=3.1099], [x=27.805 y=4.3136 orient=4.5239], [x=16.139 y=10.876 orient=0.6076], [x=12.959 y=17.361 orient=2.4027], [x=7.8065 y=11.884 orient=4.4402], [x=8.4531 y=11.024 orient=3.5816], [x=15.095 y=11.352 orient=1.7743], [x=18.026 y=10.423 orient=5.6052], [x=1.6662 y=12.798 orient=4.1616], [x=11.712 y=9.0370 orient=4.4482], [x=8.2609 y=9.6771 orient=4.3370], [x=15.644 y=4.2265 orient=0.3405], [x=12.087 y=13.135 orient=4.1543], [x=13.013 y=6.1219 orient=3.5685], [x=16.139 y=10.876 orient=0.6076], [x=16.139 y=10.876 orient=0.6076], [x=18.967 y=9.3133 orient=4.5376], [x=15.706 y=8.0736 orient=3.0710], [x=7.8065 y=11.884 orient=4.4402], [x=15.095 y=11.352 orient=1.7743], [x=18.026 y=10.423 orient=5.6052], [x=11.079 y=9.7569 orient=4.0061], [x=11.712 y=9.0370 orient=4.4482], [x=11.712 y=9.0370 orient=4.4482], [x=13.477 y=10.896 orient=0.5868], [x=19.437 y=8.3928 orient=3.1099], [x=22.139 y=4.9561 orient=6.2672], [x=18.967 y=9.3133 orient=4.5376], [x=18.967 y=9.3133 orient=4.5376], [x=15.706 y=8.0736 orient=3.0710], [x=15.095 y=11.352 orient=1.7743], [x=15.095 y=11.352 orient=1.7743], [x=16.530 y=2.3656 orient=0.5950], [x=11.079 y=9.7569 orient=4.0061], [x=8.2609 y=9.6771 orient=4.3370], [x=15.644 y=4.2265 orient=0.3405], [x=19.437 y=8.3928 orient=3.1099], [x=13.013 y=6.1219 orient=3.5685], [x=22.139 y=4.9561 orient=6.2672], [x=16.139 y=10.876 orient=0.6076], [x=16.139 y=10.876 orient=0.6076], [x=9.1195 y=10.981 orient=2.1587], [x=12.959 y=17.361 orient=2.4027], [x=7.8065 y=11.884 orient=4.4402], [x=15.095 y=11.352 orient=1.7743], [x=18.026 y=10.423 orient=5.6052], [x=11.712 y=9.0370 orient=4.4482], [x=15.644 y=4.2265 orient=0.3405], [x=13.477 y=10.896 orient=0.5868], [x=13.477 y=10.896 orient=0.5868], [x=13.477 y=10.896 orient=0.5868], [x=19.437 y=8.3928 orient=3.1099], [x=16.139 y=10.876 orient=0.6076], [x=16.139 y=10.876 orient=0.6076], [x=18.967 y=9.3133 orient=4.5376], [x=15.706 y=8.0736 orient=3.0710], [x=8.4531 y=11.024 orient=3.5816], [x=15.095 y=11.352 orient=1.7743], [x=18.026 y=10.423 orient=5.6052], [x=11.712 y=9.0370 orient=4.4482], [x=11.712 y=9.0370 orient=4.4482], [x=11.712 y=9.0370 orient=4.4482], [x=15.644 y=4.2265 orient=0.3405], [x=13.477 y=10.896 orient=0.5868], [x=19.437 y=8.3928 orient=3.1099], [x=6.8378 y=12.791 orient=2.2780], [x=16.139 y=10.876 orient=0.6076], [x=8.9022 y=17.451 orient=4.1213], [x=12.959 y=17.361 orient=2.4027], [x=15.706 y=8.0736 orient=3.0710], [x=15.706 y=8.0736 orient=3.0710], [x=15.706 y=8.0736 orient=3.0710], [x=4.2289 y=13.360 orient=4.3716], [x=18.026 y=10.423 orient=5.6052], [x=11.712 y=9.0370 orient=4.4482], [x=15.644 y=4.2265 orient=0.3405], [x=13.477 y=10.896 orient=0.5868], [x=13.013 y=6.1219 orient=3.5685], [x=13.013 y=6.1219 orient=3.5685], [x=13.013 y=6.1219 orient=3.5685], [x=16.368 y=1.4175 orient=4.6089], [x=9.1195 y=10.981 orient=2.1587], [x=15.706 y=8.0736 orient=3.0710], [x=15.706 y=8.0736 orient=3.0710], [x=15.095 y=11.352 orient=1.7743], [x=18.026 y=10.423 orient=5.6052], [x=11.712 y=9.0370 orient=4.4482], [x=8.2609 y=9.6771 orient=4.3370], [x=15.644 y=4.2265 orient=0.3405], [x=12.087 y=13.135 orient=4.1543], [x=6.8378 y=12.791 orient=2.2780], [x=16.139 y=10.876 orient=0.6076], [x=12.959 y=17.361 orient=2.4027], [x=10.978 y=2.9876 orient=4.0072], [x=8.4531 y=11.024 orient=3.5816], [x=15.095 y=11.352 orient=1.7743], [x=13.184 y=14.508 orient=4.2211], [x=11.712 y=9.0370 orient=4.4482], [x=11.712 y=9.0370 orient=4.4482], [x=15.644 y=4.2265 orient=0.3405], [x=13.477 y=10.896 orient=0.5868], [x=12.087 y=13.135 orient=4.1543], [x=13.013 y=6.1219 orient=3.5685], [x=16.368 y=1.4175 orient=4.6089], [x=9.1195 y=10.981 orient=2.1587], [x=15.706 y=8.0736 orient=3.0710], [x=7.8065 y=11.884 orient=4.4402], [x=13.184 y=14.508 orient=4.2211], [x=18.026 y=10.423 orient=5.6052], [x=11.079 y=9.7569 orient=4.0061], [x=8.2609 y=9.6771 orient=4.3370], [x=8.2609 y=9.6771 orient=4.3370], [x=13.477 y=10.896 orient=0.5868], [x=13.013 y=6.1219 orient=3.5685], [x=13.013 y=6.1219 orient=3.5685], [x=18.967 y=9.3133 orient=4.5376], [x=8.9022 y=17.451 orient=4.1213], [x=8.9022 y=17.451 orient=4.1213], [x=15.706 y=8.0736 orient=3.0710], [x=7.8065 y=11.884 orient=4.4402], [x=15.095 y=11.352 orient=1.7743], [x=15.095 y=11.352 orient=1.7743], [x=11.079 y=9.7569 orient=4.0061], [x=11.712 y=9.0370 orient=4.4482], [x=15.644 y=4.2265 orient=0.3405], [x=15.644 y=4.2265 orient=0.3405], [x=15.644 y=4.2265 orient=0.3405], [x=12.087 y=13.135 orient=4.1543], [x=6.8378 y=12.791 orient=2.2780], [x=16.139 y=10.876 orient=0.6076], [x=18.967 y=9.3133 orient=4.5376], [x=12.959 y=17.361 orient=2.4027], [x=15.706 y=8.0736 orient=3.0710], [x=8.4531 y=11.024 orient=3.5816], [x=16.530 y=2.3656 orient=0.5950], [x=11.712 y=9.0370 orient=4.4482], [x=15.644 y=4.2265 orient=0.3405], [x=13.477 y=10.896 orient=0.5868], [x=13.477 y=10.896 orient=0.5868], [x=13.477 y=10.896 orient=0.5868], [x=19.437 y=8.3928 orient=3.1099], [x=16.139 y=10.876 orient=0.6076], [x=16.139 y=10.876 orient=0.6076], [x=9.1195 y=10.981 orient=2.1587], [x=15.706 y=8.0736 orient=3.0710], [x=8.4531 y=11.024 orient=3.5816], [x=15.095 y=11.352 orient=1.7743], [x=13.184 y=14.508 orient=4.2211], [x=11.079 y=9.7569 orient=4.0061], [x=15.644 y=4.2265 orient=0.3405], [x=13.477 y=10.896 orient=0.5868], [x=19.437 y=8.3928 orient=3.1099], [x=13.013 y=6.1219 orient=3.5685], [x=16.139 y=10.876 orient=0.6076], [x=18.967 y=9.3133 orient=4.5376], [x=8.0369 y=18.300 orient=4.7596], [x=15.706 y=8.0736 orient=3.0710], [x=7.8065 y=11.884 orient=4.4402], [x=16.530 y=2.3656 orient=0.5950], [x=16.530 y=2.3656 orient=0.5950], [x=11.079 y=9.7569 orient=4.0061], [x=8.2609 y=9.6771 orient=4.3370], [x=8.2609 y=9.6771 orient=4.3370], [x=13.477 y=10.896 orient=0.5868], [x=19.437 y=8.3928 orient=3.1099], [x=19.437 y=8.3928 orient=3.1099], [x=13.013 y=6.1219 orient=3.5685], [x=13.013 y=6.1219 orient=3.5685], [x=7.6254 y=15.749 orient=2.7600], [x=8.9022 y=17.451 orient=4.1213], [x=15.706 y=8.0736 orient=3.0710], [x=13.184 y=14.508 orient=4.2211], [x=16.530 y=2.3656 orient=0.5950], [x=11.079 y=9.7569 orient=4.0061], [x=11.712 y=9.0370 orient=4.4482], [x=13.477 y=10.896 orient=0.5868], [x=13.477 y=10.896 orient=0.5868], [x=19.437 y=8.3928 orient=3.1099], [x=22.139 y=4.9561 orient=6.2672], [x=16.368 y=1.4175 orient=4.6089], [x=25.778 y=2.5858 orient=6.2300], [x=15.706 y=8.0736 orient=3.0710], [x=15.706 y=8.0736 orient=3.0710], [x=10.978 y=2.9876 orient=4.0072], [x=15.095 y=11.352 orient=1.7743], [x=11.079 y=9.7569 orient=4.0061], [x=11.079 y=9.7569 orient=4.0061], [x=15.644 y=4.2265 orient=0.3405], [x=15.644 y=4.2265 orient=0.3405], [x=19.437 y=8.3928 orient=3.1099], [x=13.013 y=6.1219 orient=3.5685], [x=22.139 y=4.9561 orient=6.2672], [x=18.967 y=9.3133 orient=4.5376], [x=15.706 y=8.0736 orient=3.0710], [x=15.095 y=11.352 orient=1.7743], [x=18.026 y=10.423 orient=5.6052], [x=11.079 y=9.7569 orient=4.0061], [x=11.712 y=9.0370 orient=4.4482], [x=13.477 y=10.896 orient=0.5868], [x=12.087 y=13.135 orient=4.1543]]\n"
     ]
    },
    {
     "data": {
      "application/javascript": [
       "\n",
       "            setTimeout(function() {\n",
       "                var nbb_cell_id = 8;\n",
       "                var nbb_unformatted_code = \"# In this exercise, try to write a program that\\n# will resample particles according to their weights.\\n# Particles with higher weights should be sampled\\n# more frequently (in proportion to their weight).\\n\\n# Don't modify anything below. Please scroll to the\\n# bottom to enter your code.\\n\\n\\n# myrobot = robot()\\n# myrobot.set_noise(5.0, 0.1, 5.0)\\n# myrobot.set(30.0, 50.0, pi/2)\\n# myrobot = myrobot.move(-pi/2, 15.0)\\n# print myrobot.sense()\\n# myrobot = myrobot.move(-pi/2, 10.0)\\n# print myrobot.sense()\\n\\nmyrobot = robot()\\nmyrobot = myrobot.move(0.1, 5.0)\\nZ = myrobot.sense()\\n\\nN = 1000\\np = []\\nfor i in range(N):\\n    x = robot()\\n    x.set_noise(0.05, 0.05, 5.0)\\n    p.append(x)\\n\\np2 = []\\nfor i in range(N):\\n    p2.append(p[i].move(0.1, 5.0))\\np = p2\\n\\nw = []\\nfor i in range(N):\\n    w.append(p[i].measurement_prob(Z))\\n\\n\\n#### DON'T MODIFY ANYTHING ABOVE HERE! ENTER CODE BELOW ####\\n# You should make sure that p3 contains a list with particles\\n# resampled according to their weights.\\n# Also, DO NOT MODIFY p.\\n\\np3 = []\\nindex = int(random.random() * N)\\nbeta = 0.0\\nmax_w = max(w)\\nfor i in range(N):\\n    beta += random.random() * 2 * max_w\\n    while beta > w[index]:\\n        beta -= w[index]\\n        index = (index + 1) % N\\n    p3.append(p[index])\\n\\np = p3\\nprint(p)\";\n",
       "                var nbb_formatted_code = \"# In this exercise, try to write a program that\\n# will resample particles according to their weights.\\n# Particles with higher weights should be sampled\\n# more frequently (in proportion to their weight).\\n\\n# Don't modify anything below. Please scroll to the\\n# bottom to enter your code.\\n\\n\\n# myrobot = robot()\\n# myrobot.set_noise(5.0, 0.1, 5.0)\\n# myrobot.set(30.0, 50.0, pi/2)\\n# myrobot = myrobot.move(-pi/2, 15.0)\\n# print myrobot.sense()\\n# myrobot = myrobot.move(-pi/2, 10.0)\\n# print myrobot.sense()\\n\\nmyrobot = robot()\\nmyrobot = myrobot.move(0.1, 5.0)\\nZ = myrobot.sense()\\n\\nN = 1000\\np = []\\nfor i in range(N):\\n    x = robot()\\n    x.set_noise(0.05, 0.05, 5.0)\\n    p.append(x)\\n\\np2 = []\\nfor i in range(N):\\n    p2.append(p[i].move(0.1, 5.0))\\np = p2\\n\\nw = []\\nfor i in range(N):\\n    w.append(p[i].measurement_prob(Z))\\n\\n\\n#### DON'T MODIFY ANYTHING ABOVE HERE! ENTER CODE BELOW ####\\n# You should make sure that p3 contains a list with particles\\n# resampled according to their weights.\\n# Also, DO NOT MODIFY p.\\n\\np3 = []\\nindex = int(random.random() * N)\\nbeta = 0.0\\nmax_w = max(w)\\nfor i in range(N):\\n    beta += random.random() * 2 * max_w\\n    while beta > w[index]:\\n        beta -= w[index]\\n        index = (index + 1) % N\\n    p3.append(p[index])\\n\\np = p3\\nprint(p)\";\n",
       "                var nbb_cells = Jupyter.notebook.get_cells();\n",
       "                for (var i = 0; i < nbb_cells.length; ++i) {\n",
       "                    if (nbb_cells[i].input_prompt_number == nbb_cell_id) {\n",
       "                        if (nbb_cells[i].get_text() == nbb_unformatted_code) {\n",
       "                             nbb_cells[i].set_text(nbb_formatted_code);\n",
       "                        }\n",
       "                        break;\n",
       "                    }\n",
       "                }\n",
       "            }, 500);\n",
       "            "
      ],
      "text/plain": [
       "<IPython.core.display.Javascript object>"
      ]
     },
     "metadata": {},
     "output_type": "display_data"
    }
   ],
   "source": [
    "# In this exercise, try to write a program that\n",
    "# will resample particles according to their weights.\n",
    "# Particles with higher weights should be sampled\n",
    "# more frequently (in proportion to their weight).\n",
    "\n",
    "# Don't modify anything below. Please scroll to the\n",
    "# bottom to enter your code.\n",
    "\n",
    "\n",
    "# myrobot = robot()\n",
    "# myrobot.set_noise(5.0, 0.1, 5.0)\n",
    "# myrobot.set(30.0, 50.0, pi/2)\n",
    "# myrobot = myrobot.move(-pi/2, 15.0)\n",
    "# print myrobot.sense()\n",
    "# myrobot = myrobot.move(-pi/2, 10.0)\n",
    "# print myrobot.sense()\n",
    "\n",
    "myrobot = robot()\n",
    "myrobot = myrobot.move(0.1, 5.0)\n",
    "Z = myrobot.sense()\n",
    "\n",
    "N = 1000\n",
    "p = []\n",
    "for i in range(N):\n",
    "    x = robot()\n",
    "    x.set_noise(0.05, 0.05, 5.0)\n",
    "    p.append(x)\n",
    "\n",
    "p2 = []\n",
    "for i in range(N):\n",
    "    p2.append(p[i].move(0.1, 5.0))\n",
    "p = p2\n",
    "\n",
    "w = []\n",
    "for i in range(N):\n",
    "    w.append(p[i].measurement_prob(Z))\n",
    "\n",
    "\n",
    "#### DON'T MODIFY ANYTHING ABOVE HERE! ENTER CODE BELOW ####\n",
    "# You should make sure that p3 contains a list with particles\n",
    "# resampled according to their weights.\n",
    "# Also, DO NOT MODIFY p.\n",
    "\n",
    "p3 = []\n",
    "index = int(random.random() * N)\n",
    "beta = 0.0\n",
    "max_w = max(w)\n",
    "for i in range(N):\n",
    "    beta += random.random() * 2 * max_w\n",
    "    while beta > w[index]:\n",
    "        beta -= w[index]\n",
    "        index = (index + 1) % N\n",
    "    p3.append(p[index])\n",
    "\n",
    "p = p3\n",
    "print(p)"
   ]
  },
  {
   "cell_type": "markdown",
   "metadata": {},
   "source": [
    "# Orientation"
   ]
  },
  {
   "cell_type": "markdown",
   "metadata": {},
   "source": [
    "- **Q:** Will orientation or heading never play a role? And the answers are: Yes, Never--so we always get a random set of orientations or No--eventually they matter?\n",
    "- **A:** The correct answer is No--of course they will eventually matter. Orientation does matter in the second step of particle filtering because the prediction is so different for different orientations."
   ]
  },
  {
   "cell_type": "markdown",
   "metadata": {},
   "source": [
    "- I want you to take this particle filter, and program it to run twice"
   ]
  },
  {
   "cell_type": "code",
   "execution_count": 9,
   "metadata": {
    "scrolled": true
   },
   "outputs": [
    {
     "name": "stdout",
     "output_type": "stream",
     "text": [
      "[[x=34.208 y=33.873 orient=4.1947], [x=34.178 y=33.807 orient=4.1961], [x=34.032 y=33.828 orient=4.1691], [x=40.673 y=36.827 orient=4.8469], [x=36.533 y=38.653 orient=2.7198], [x=40.466 y=36.813 orient=4.8058], [x=36.839 y=40.283 orient=0.1947], [x=36.696 y=39.137 orient=2.6190], [x=36.569 y=38.895 orient=2.6732], [x=33.549 y=34.378 orient=4.0270], [x=36.683 y=38.992 orient=2.6455], [x=38.920 y=34.057 orient=4.1554], [x=36.976 y=39.423 orient=4.9440], [x=36.580 y=38.628 orient=2.7206], [x=31.537 y=43.440 orient=2.6891], [x=40.205 y=32.549 orient=4.4133], [x=37.128 y=37.620 orient=4.8513], [x=33.856 y=34.050 orient=4.1161], [x=36.751 y=39.003 orient=2.6369], [x=40.542 y=36.815 orient=4.8207], [x=34.009 y=33.924 orient=4.1553], [x=34.009 y=33.924 orient=4.1553], [x=36.558 y=38.899 orient=2.6735], [x=37.564 y=37.831 orient=4.9446], [x=36.918 y=40.121 orient=0.1603], [x=33.723 y=34.148 orient=4.0830], [x=33.892 y=34.064 orient=4.1205], [x=33.892 y=34.064 orient=4.1205], [x=41.055 y=36.907 orient=4.9242], [x=40.175 y=32.483 orient=4.4115], [x=33.944 y=33.915 orient=4.1455], [x=33.944 y=33.915 orient=4.1455], [x=37.487 y=37.707 orient=4.9241], [x=39.075 y=33.493 orient=0.0016], [x=39.075 y=33.493 orient=0.0016], [x=31.815 y=41.119 orient=3.7060], [x=34.086 y=33.849 orient=4.1761], [x=36.396 y=38.388 orient=2.7796], [x=33.777 y=34.049 orient=4.1032], [x=34.256 y=33.856 orient=4.2049], [x=34.256 y=33.856 orient=4.2049], [x=33.667 y=34.088 orient=4.0811], [x=33.667 y=34.088 orient=4.0811], [x=33.667 y=34.088 orient=4.0811], [x=36.536 y=38.942 orient=2.6678], [x=38.456 y=34.349 orient=4.0467], [x=33.277 y=34.461 orient=3.9748], [x=37.157 y=37.662 orient=4.8583], [x=39.081 y=33.958 orient=4.1929], [x=39.684 y=32.594 orient=4.3123], [x=33.686 y=34.227 orient=4.0677], [x=33.762 y=34.221 orient=4.0807], [x=40.784 y=36.867 orient=4.8698], [x=39.950 y=32.528 orient=4.3660], [x=36.542 y=38.509 orient=2.7460], [x=38.674 y=34.291 orient=4.0884], [x=33.712 y=34.130 orient=4.0835], [x=39.129 y=33.468 orient=6.2797], [x=34.099 y=33.949 orient=4.1682], [x=34.099 y=33.949 orient=4.1682], [x=36.682 y=38.859 orient=2.6694], [x=39.128 y=34.063 orient=4.1906], [x=36.852 y=40.232 orient=0.1842], [x=37.405 y=37.693 orient=4.9078], [x=40.803 y=36.945 orient=4.8761], [x=33.910 y=34.045 orient=4.1257], [x=33.910 y=34.045 orient=4.1257], [x=36.803 y=40.489 orient=0.2365], [x=33.909 y=34.060 orient=4.1239], [x=40.014 y=32.489 orient=4.3805], [x=40.403 y=36.835 orient=4.7937], [x=37.219 y=37.642 orient=4.8697], [x=36.511 y=38.829 orient=2.6899], [x=40.197 y=32.417 orient=4.4193], [x=33.626 y=34.265 orient=4.0534], [x=37.033 y=39.453 orient=2.5292], [x=38.858 y=34.209 orient=4.1283], [x=40.113 y=32.510 orient=4.3979], [x=40.242 y=36.814 orient=4.7614], [x=40.010 y=36.863 orient=4.7151], [x=34.308 y=33.854 orient=4.2143], [x=34.308 y=33.854 orient=4.2143], [x=33.947 y=34.053 orient=4.1310], [x=39.969 y=32.638 orient=4.3622], [x=33.770 y=34.177 orient=4.0873], [x=33.848 y=34.040 orient=4.1159], [x=37.560 y=37.732 orient=4.9394], [x=33.998 y=34.006 orient=4.1448], [x=43.720 y=32.570 orient=5.6982], [x=33.857 y=33.988 orient=4.1233], [x=34.561 y=33.645 orient=4.2787], [x=34.561 y=33.645 orient=4.2787], [x=37.035 y=37.684 orient=4.8346], [x=39.939 y=32.642 orient=4.3561], [x=33.845 y=34.071 orient=4.1120], [x=37.004 y=37.627 orient=4.8273], [x=37.004 y=37.627 orient=4.8273], [x=36.589 y=38.851 orient=2.6792], [x=33.910 y=34.106 orient=4.1188], [x=34.005 y=34.036 orient=4.1426], [x=38.461 y=34.435 orient=4.0369], [x=38.461 y=34.435 orient=4.0369], [x=33.200 y=31.168 orient=5.2654], [x=36.431 y=38.587 orient=2.7403], [x=36.431 y=38.587 orient=2.7403], [x=36.674 y=38.891 orient=2.6642], [x=34.038 y=34.011 orient=4.1511], [x=38.928 y=34.041 orient=4.1583], [x=34.101 y=33.839 orient=4.1796], [x=36.825 y=39.330 orient=2.5729], [x=40.549 y=36.976 orient=4.8257], [x=33.705 y=34.180 orient=4.0764], [x=36.611 y=38.783 orient=2.6895], [x=37.345 y=37.689 orient=4.8960], [x=39.056 y=33.967 orient=4.1876], [x=27.857 y=30.557 orient=3.9634], [x=36.664 y=38.912 orient=2.6614], [x=37.090 y=39.462 orient=4.9681], [x=38.933 y=34.060 orient=4.1571], [x=38.933 y=34.060 orient=4.1571], [x=40.620 y=34.989 orient=2.4822], [x=38.802 y=34.227 orient=4.1170], [x=31.612 y=43.551 orient=2.6626], [x=39.730 y=32.675 orient=4.3145], [x=39.730 y=32.675 orient=4.3145], [x=33.067 y=31.131 orient=5.2388], [x=33.067 y=31.131 orient=5.2388], [x=34.051 y=34.000 orient=4.1546], [x=33.810 y=34.186 orient=4.0928], [x=34.017 y=34.034 orient=4.1448], [x=33.715 y=34.161 orient=4.0803], [x=33.581 y=34.244 orient=4.0489], [x=33.581 y=34.244 orient=4.0489], [x=33.673 y=34.205 orient=4.0682], [x=33.673 y=34.205 orient=4.0682], [x=33.673 y=34.205 orient=4.0682], [x=33.673 y=34.205 orient=4.0682], [x=34.126 y=33.771 orient=4.1907], [x=39.186 y=33.995 orient=4.2075], [x=31.701 y=43.672 orient=2.6327], [x=39.998 y=32.575 orient=4.3719], [x=40.481 y=36.961 orient=4.8116], [x=33.988 y=33.920 orient=4.1523], [x=39.734 y=32.572 orient=4.3231], [x=34.154 y=33.890 orient=4.1837], [x=34.154 y=33.890 orient=4.1837], [x=33.941 y=33.926 orient=4.1437], [x=37.232 y=37.664 orient=4.8730], [x=38.698 y=34.152 orient=4.1082], [x=33.767 y=34.220 orient=4.0817], [x=33.950 y=34.040 orient=4.1330], [x=36.641 y=38.878 orient=2.6696], [x=40.054 y=32.410 orient=4.3930], [x=38.398 y=34.476 orient=4.0220], [x=38.865 y=34.232 orient=4.1270], [x=33.952 y=34.093 orient=4.1273], [x=33.828 y=34.112 orient=4.1044], [x=33.702 y=34.055 orient=4.0905], [x=33.905 y=34.045 orient=4.1247], [x=37.614 y=37.843 orient=4.9551], [x=37.192 y=39.522 orient=4.9909], [x=36.871 y=39.494 orient=4.9265], [x=40.745 y=36.821 orient=4.8609], [x=40.267 y=32.448 orient=4.4310], [x=39.902 y=32.625 orient=4.3504], [x=37.205 y=37.736 orient=4.8700], [x=38.729 y=34.196 orient=4.1083], [x=40.121 y=32.514 orient=4.3992], [x=36.268 y=38.159 orient=2.8311], [x=38.744 y=34.196 orient=4.1109], [x=34.299 y=33.820 orient=4.2159], [x=34.299 y=33.820 orient=4.2159], [x=34.299 y=33.820 orient=4.2159], [x=34.012 y=33.952 orient=4.1529], [x=37.076 y=37.615 orient=4.8410], [x=33.708 y=34.211 orient=4.0731], [x=37.364 y=37.737 orient=4.9013], [x=36.780 y=39.249 orient=2.5913], [x=39.109 y=34.001 orient=4.1934], [x=40.101 y=36.811 orient=4.7331], [x=34.150 y=33.939 orient=4.1780], [x=36.585 y=39.056 orient=2.6436], [x=33.602 y=34.239 orient=4.0529], [x=33.750 y=34.113 orient=4.0917], [x=36.686 y=38.973 orient=2.6485], [x=36.901 y=40.092 orient=0.1551], [x=33.915 y=34.090 orient=4.1215], [x=34.001 y=33.942 orient=4.1521], [x=33.691 y=34.154 orient=4.0773], [x=39.190 y=33.983 orient=4.2094], [x=33.852 y=34.012 orient=4.1197], [x=38.887 y=34.029 orient=4.1526], [x=34.014 y=33.887 orient=4.1601], [x=34.044 y=33.892 orient=4.1646], [x=37.216 y=39.476 orient=4.9930], [x=27.999 y=30.411 orient=4.0040], [x=36.451 y=38.546 orient=2.7461], [x=39.849 y=32.608 orient=4.3415], [x=36.894 y=40.152 orient=0.1671], [x=33.865 y=34.123 orient=4.1093], [x=37.296 y=37.688 orient=4.8862], [x=40.653 y=36.824 orient=4.8428], [x=33.768 y=34.032 orient=4.1036], [x=37.453 y=37.758 orient=4.9197], [x=38.762 y=34.290 orient=4.1029], [x=39.585 y=32.750 orient=4.2816], [x=39.585 y=32.750 orient=4.2816], [x=33.794 y=34.132 orient=4.0966], [x=40.773 y=36.946 orient=4.8701], [x=33.769 y=34.089 orient=4.0975], [x=36.613 y=38.905 orient=2.6674], [x=39.836 y=32.591 orient=4.3403], [x=33.713 y=34.135 orient=4.0830], [x=36.896 y=40.065 orient=0.1498], [x=37.458 y=37.786 orient=4.9218], [x=37.458 y=37.786 orient=4.9218], [x=36.537 y=38.803 orient=2.6924], [x=33.964 y=34.014 orient=4.1381], [x=31.704 y=41.313 orient=3.6612], [x=33.927 y=34.021 orient=4.1312], [x=36.766 y=40.258 orient=0.1927], [x=36.855 y=40.184 orient=0.1746], [x=36.855 y=40.184 orient=0.1746], [x=37.259 y=39.482 orient=5.0017], [x=37.259 y=39.482 orient=5.0017], [x=44.495 y=31.965 orient=6.0724], [x=36.556 y=38.751 orient=2.7001], [x=34.208 y=33.873 orient=4.1947], [x=34.178 y=33.807 orient=4.1961], [x=43.644 y=32.467 orient=5.6729], [x=34.032 y=33.828 orient=4.1691], [x=31.885 y=40.952 orient=3.7415], [x=36.544 y=38.598 orient=2.7291], [x=36.544 y=38.598 orient=2.7291], [x=36.544 y=38.598 orient=2.7291], [x=33.546 y=34.280 orient=4.0390], [x=40.459 y=34.785 orient=2.5340], [x=33.549 y=34.378 orient=4.0270], [x=36.683 y=38.992 orient=2.6455], [x=36.976 y=39.423 orient=4.9440], [x=34.210 y=33.868 orient=4.1956], [x=36.970 y=37.704 orient=4.8223], [x=36.970 y=37.704 orient=4.8223], [x=36.970 y=37.704 orient=4.8223], [x=39.176 y=33.842 orient=4.2204], [x=40.205 y=32.549 orient=4.4133], [x=33.996 y=34.006 orient=4.1444], [x=33.996 y=34.006 orient=4.1444], [x=37.128 y=37.620 orient=4.8513], [x=33.856 y=34.050 orient=4.1161], [x=43.518 y=32.307 orient=5.6326], [x=37.559 y=37.719 orient=4.9385], [x=39.719 y=32.703 orient=4.3102], [x=33.700 y=34.139 orient=4.0805], [x=37.243 y=37.795 orient=4.8794], [x=36.918 y=40.121 orient=0.1603], [x=39.987 y=32.621 orient=4.3667], [x=40.432 y=36.856 orient=4.7998], [x=33.892 y=34.064 orient=4.1205], [x=41.055 y=36.907 orient=4.9242], [x=40.175 y=32.483 orient=4.4115], [x=33.944 y=33.915 orient=4.1455], [x=40.684 y=35.165 orient=2.4467], [x=38.436 y=34.329 orient=4.0461], [x=36.595 y=37.666 orient=4.7466], [x=33.536 y=34.203 orient=4.0469], [x=39.685 y=32.773 orient=4.2983], [x=34.086 y=33.849 orient=4.1761], [x=34.086 y=33.849 orient=4.1761], [x=36.546 y=38.668 orient=2.7160], [x=34.256 y=33.856 orient=4.2049], [x=34.256 y=33.856 orient=4.2049], [x=33.667 y=34.088 orient=4.0811], [x=40.285 y=36.870 orient=4.7705], [x=40.111 y=32.502 orient=4.3981], [x=37.157 y=37.662 orient=4.8583], [x=39.081 y=33.958 orient=4.1929], [x=39.684 y=32.594 orient=4.3123], [x=33.762 y=34.221 orient=4.0807], [x=39.129 y=33.624 orient=0.0277], [x=33.644 y=34.204 orient=4.0638], [x=38.674 y=34.291 orient=4.0884], [x=33.712 y=34.130 orient=4.0835], [x=39.129 y=33.468 orient=6.2797], [x=38.721 y=34.346 orient=4.0896], [x=34.099 y=33.949 orient=4.1682], [x=37.357 y=39.570 orient=5.0256], [x=34.115 y=33.991 orient=4.1665], [x=39.344 y=33.931 orient=4.2419], [x=33.910 y=34.045 orient=4.1257], [x=33.910 y=34.045 orient=4.1257], [x=36.920 y=39.795 orient=0.0958], [x=39.842 y=32.602 orient=4.3407], [x=37.524 y=37.809 orient=4.9357], [x=40.403 y=36.835 orient=4.7937], [x=37.219 y=37.642 orient=4.8697], [x=38.513 y=34.330 orient=4.0580], [x=40.197 y=32.417 orient=4.4193], [x=33.626 y=34.265 orient=4.0534], [x=34.229 y=33.821 orient=4.2037], [x=38.858 y=34.209 orient=4.1283], [x=38.542 y=34.368 orient=4.0580], [x=33.822 y=34.051 orient=4.1104], [x=33.822 y=34.051 orient=4.1104], [x=33.822 y=34.051 orient=4.1104], [x=33.822 y=34.051 orient=4.1104], [x=40.010 y=36.863 orient=4.7151], [x=37.329 y=37.623 orient=4.8904], [x=36.796 y=40.331 orient=0.2059], [x=34.308 y=33.854 orient=4.2143], [x=34.308 y=33.854 orient=4.2143], [x=37.304 y=37.749 orient=4.8901], [x=39.969 y=32.638 orient=4.3622], [x=33.770 y=34.177 orient=4.0873], [x=36.670 y=38.846 orient=2.6727], [x=36.670 y=38.846 orient=2.6727], [x=33.998 y=34.006 orient=4.1448], [x=33.998 y=34.006 orient=4.1448], [x=33.857 y=33.988 orient=4.1233], [x=34.561 y=33.645 orient=4.2787], [x=36.693 y=39.222 orient=2.6049], [x=33.878 y=34.041 orient=4.1208], [x=33.845 y=34.071 orient=4.1120], [x=38.905 y=34.132 orient=4.1446], [x=33.910 y=34.106 orient=4.1188], [x=37.254 y=39.558 orient=5.0051], [x=41.683 y=34.886 orient=1.5462], [x=34.005 y=34.036 orient=4.1426], [x=38.461 y=34.435 orient=4.0369], [x=33.898 y=34.106 orient=4.1168], [x=33.898 y=34.106 orient=4.1168], [x=33.898 y=34.106 orient=4.1168], [x=36.604 y=38.863 orient=2.6757], [x=34.283 y=33.835 orient=4.2118], [x=36.674 y=38.891 orient=2.6642], [x=38.793 y=34.144 orient=4.1247], [x=38.793 y=34.144 orient=4.1247], [x=38.928 y=34.041 orient=4.1583], [x=34.101 y=33.839 orient=4.1796], [x=40.549 y=36.976 orient=4.8257], [x=33.705 y=34.180 orient=4.0764], [x=40.045 y=32.523 orient=4.3842], [x=34.266 y=33.753 orient=4.2166], [x=36.631 y=38.998 orient=2.6494], [x=34.244 y=33.870 orient=4.2014], [x=43.686 y=32.381 orient=5.6639], [x=38.933 y=34.060 orient=4.1571], [x=33.986 y=33.853 orient=4.1589], [x=40.620 y=34.989 orient=2.4822], [x=39.183 y=33.104 orient=6.2080], [x=39.730 y=32.675 orient=4.3145], [x=37.286 y=37.739 orient=4.8860], [x=40.220 y=32.452 orient=4.4218], [x=34.051 y=34.000 orient=4.1546], [x=33.810 y=34.186 orient=4.0928], [x=34.017 y=34.034 orient=4.1448], [x=37.263 y=37.703 orient=4.8804], [x=38.849 y=34.257 orient=4.1214], [x=33.715 y=34.161 orient=4.0803], [x=33.715 y=34.161 orient=4.0803], [x=36.866 y=37.702 orient=4.8013], [x=31.623 y=43.746 orient=2.6274], [x=33.673 y=34.205 orient=4.0682], [x=34.126 y=33.771 orient=4.1907], [x=39.186 y=33.995 orient=4.2075], [x=39.186 y=33.995 orient=4.2075], [x=39.998 y=32.575 orient=4.3719], [x=39.998 y=32.575 orient=4.3719], [x=39.338 y=33.912 orient=4.2425], [x=36.943 y=39.945 orient=0.1249], [x=36.943 y=39.945 orient=0.1249], [x=33.988 y=33.920 orient=4.1523], [x=39.734 y=32.572 orient=4.3231], [x=39.107 y=33.439 orient=6.2740], [x=34.154 y=33.890 orient=4.1837], [x=37.232 y=37.664 orient=4.8730], [x=33.767 y=34.220 orient=4.0817], [x=33.950 y=34.040 orient=4.1330], [x=33.950 y=34.040 orient=4.1330], [x=40.243 y=32.398 orient=4.4292], [x=36.765 y=38.958 orient=2.6436], [x=38.934 y=34.094 orient=4.1537], [x=33.952 y=34.093 orient=4.1273], [x=33.952 y=34.093 orient=4.1273], [x=33.828 y=34.112 orient=4.1044], [x=33.702 y=34.055 orient=4.0905], [x=33.702 y=34.055 orient=4.0905], [x=36.692 y=39.333 orient=4.8850], [x=37.614 y=37.843 orient=4.9551], [x=39.155 y=33.395 orient=6.2652], [x=33.640 y=34.167 orient=4.0675], [x=36.628 y=39.014 orient=2.6467], [x=40.267 y=32.448 orient=4.4310], [x=39.902 y=32.625 orient=4.3504], [x=34.015 y=33.886 orient=4.1604], [x=40.811 y=36.976 orient=4.8786], [x=36.268 y=38.159 orient=2.8311], [x=38.744 y=34.196 orient=4.1109], [x=38.744 y=34.196 orient=4.1109], [x=33.753 y=34.045 orient=4.0998], [x=34.299 y=33.820 orient=4.2159], [x=34.299 y=33.820 orient=4.2159], [x=36.938 y=37.679 orient=4.8153], [x=37.310 y=37.820 orient=4.8938], [x=33.708 y=34.211 orient=4.0731], [x=33.708 y=34.211 orient=4.0731], [x=33.708 y=34.211 orient=4.0731], [x=36.780 y=39.249 orient=2.5913], [x=36.562 y=38.666 orient=2.7151], [x=33.191 y=31.201 orient=5.2676], [x=36.480 y=38.885 orient=2.6827], [x=37.225 y=37.744 orient=4.8743], [x=33.602 y=34.239 orient=4.0529], [x=33.602 y=34.239 orient=4.0529], [x=36.901 y=40.092 orient=0.1551], [x=34.092 y=33.918 orient=4.1701], [x=34.092 y=33.918 orient=4.1701], [x=33.915 y=34.090 orient=4.1215], [x=34.001 y=33.942 orient=4.1521], [x=33.691 y=34.154 orient=4.0773], [x=36.817 y=39.143 orient=2.6056], [x=38.420 y=34.516 orient=4.0203], [x=44.365 y=32.031 orient=6.0801], [x=33.852 y=34.012 orient=4.1197], [x=38.887 y=34.029 orient=4.1526], [x=34.014 y=33.887 orient=4.1601], [x=34.014 y=33.887 orient=4.1601], [x=33.773 y=34.108 orient=4.0959], [x=34.044 y=33.892 orient=4.1646], [x=37.216 y=39.476 orient=4.9930], [x=34.070 y=33.884 orient=4.1700], [x=33.826 y=33.984 orient=4.1186], [x=37.349 y=37.724 orient=4.8979], [x=36.665 y=38.944 orient=2.6556], [x=33.193 y=31.096 orient=5.2568], [x=31.623 y=41.439 orient=3.6312], [x=37.296 y=37.688 orient=4.8862], [x=38.625 y=34.366 orient=4.0716], [x=33.768 y=34.032 orient=4.1036], [x=33.768 y=34.032 orient=4.1036], [x=36.621 y=38.870 orient=2.6729], [x=39.585 y=32.750 orient=4.2816], [x=33.794 y=34.132 orient=4.0966], [x=33.794 y=34.132 orient=4.0966], [x=37.014 y=37.699 orient=4.8308], [x=33.769 y=34.089 orient=4.0975], [x=38.609 y=34.253 orient=4.0823], [x=38.609 y=34.253 orient=4.0823], [x=33.713 y=34.135 orient=4.0830], [x=33.713 y=34.135 orient=4.0830], [x=38.791 y=34.193 orient=4.1190], [x=34.033 y=33.925 orient=4.1593], [x=43.598 y=32.585 orient=5.6872], [x=38.594 y=34.233 orient=4.0824], [x=38.594 y=34.233 orient=4.0824], [x=33.927 y=34.021 orient=4.1312], [x=38.857 y=34.043 orient=4.1463], [x=38.857 y=34.043 orient=4.1463], [x=38.857 y=34.043 orient=4.1463], [x=37.077 y=37.720 orient=4.8440], [x=38.881 y=34.138 orient=4.1400], [x=43.707 y=32.700 orient=5.7186], [x=36.556 y=38.751 orient=2.7001], [x=36.558 y=38.901 orient=2.6730], [x=36.558 y=38.901 orient=2.6730], [x=36.909 y=40.212 orient=0.1783], [x=34.178 y=33.807 orient=4.1961], [x=34.032 y=33.828 orient=4.1691], [x=34.032 y=33.828 orient=4.1691], [x=33.316 y=31.224 orient=5.2911], [x=33.316 y=31.224 orient=5.2911], [x=36.544 y=38.598 orient=2.7291], [x=36.544 y=38.598 orient=2.7291], [x=40.466 y=36.813 orient=4.8058], [x=33.546 y=34.280 orient=4.0390], [x=36.696 y=39.137 orient=2.6190], [x=33.549 y=34.378 orient=4.0270], [x=33.549 y=34.378 orient=4.0270], [x=38.920 y=34.057 orient=4.1554], [x=36.976 y=39.423 orient=4.9440], [x=27.303 y=41.344 orient=3.5775], [x=34.210 y=33.868 orient=4.1956], [x=34.210 y=33.868 orient=4.1956], [x=36.970 y=37.704 orient=4.8223], [x=36.580 y=38.628 orient=2.7206], [x=40.544 y=36.789 orient=4.8207], [x=40.704 y=36.790 orient=4.8519], [x=33.996 y=34.006 orient=4.1444], [x=37.128 y=37.620 orient=4.8513], [x=38.711 y=34.343 orient=4.0883], [x=33.856 y=34.050 orient=4.1161], [x=37.135 y=37.636 orient=4.8531], [x=34.009 y=33.924 orient=4.1553], [x=34.009 y=33.924 orient=4.1553], [x=34.009 y=33.924 orient=4.1553], [x=36.863 y=37.621 orient=4.7994], [x=37.559 y=37.719 orient=4.9385], [x=33.700 y=34.139 orient=4.0805], [x=33.700 y=34.139 orient=4.0805], [x=36.590 y=39.033 orient=2.6470], [x=33.188 y=31.126 orient=5.2591], [x=39.987 y=32.621 orient=4.3667], [x=33.723 y=34.148 orient=4.0830], [x=33.892 y=34.064 orient=4.1205], [x=33.892 y=34.064 orient=4.1205], [x=33.892 y=34.064 orient=4.1205], [x=36.884 y=37.583 orient=4.8029], [x=40.175 y=32.483 orient=4.4115], [x=33.944 y=33.915 orient=4.1455], [x=33.944 y=33.915 orient=4.1455], [x=38.436 y=34.329 orient=4.0461], [x=43.455 y=32.408 orient=5.6411], [x=39.075 y=33.493 orient=0.0016], [x=31.920 y=40.947 orient=3.7464], [x=33.536 y=34.203 orient=4.0469], [x=33.536 y=34.203 orient=4.0469], [x=41.974 y=41.448 orient=0.4178], [x=36.633 y=38.959 orient=2.6559], [x=36.633 y=38.959 orient=2.6559], [x=36.766 y=40.252 orient=0.1915], [x=33.777 y=34.049 orient=4.1032], [x=34.256 y=33.856 orient=4.2049], [x=34.256 y=33.856 orient=4.2049], [x=33.667 y=34.088 orient=4.0811], [x=40.111 y=32.502 orient=4.3981], [x=33.277 y=34.461 orient=3.9748], [x=36.481 y=38.736 orient=2.7092], [x=36.730 y=39.069 orient=2.6273], [x=39.684 y=32.594 orient=4.3123], [x=33.686 y=34.227 orient=4.0677], [x=40.784 y=36.867 orient=4.8698], [x=33.644 y=34.204 orient=4.0638], [x=38.674 y=34.291 orient=4.0884], [x=38.674 y=34.291 orient=4.0884], [x=33.712 y=34.130 orient=4.0835], [x=36.737 y=39.194 orient=2.6051], [x=34.099 y=33.949 orient=4.1682], [x=34.099 y=33.949 orient=4.1682], [x=34.099 y=33.949 orient=4.1682], [x=34.099 y=33.949 orient=4.1682], [x=36.479 y=38.523 orient=2.7483], [x=37.357 y=39.570 orient=5.0256], [x=37.405 y=37.693 orient=4.9078], [x=40.803 y=36.945 orient=4.8761], [x=40.093 y=32.498 orient=4.3949], [x=33.910 y=34.045 orient=4.1257], [x=33.910 y=34.045 orient=4.1257], [x=33.845 y=34.080 orient=4.1110], [x=39.842 y=32.602 orient=4.3407], [x=40.014 y=32.489 orient=4.3805], [x=37.293 y=37.622 orient=4.8834], [x=34.210 y=33.790 orient=4.2033], [x=37.219 y=37.642 orient=4.8697], [x=38.513 y=34.330 orient=4.0580], [x=33.626 y=34.265 orient=4.0534], [x=33.626 y=34.265 orient=4.0534], [x=34.229 y=33.821 orient=4.2037], [x=38.858 y=34.209 orient=4.1283], [x=40.094 y=32.544 orient=4.3921], [x=33.822 y=34.051 orient=4.1104], [x=32.909 y=30.975 orient=5.1960], [x=37.329 y=37.623 orient=4.8904], [x=34.308 y=33.854 orient=4.2143], [x=34.308 y=33.854 orient=4.2143], [x=33.947 y=34.053 orient=4.1310], [x=37.304 y=37.749 orient=4.8901], [x=37.304 y=37.749 orient=4.8901], [x=39.969 y=32.638 orient=4.3622], [x=33.770 y=34.177 orient=4.0873], [x=33.770 y=34.177 orient=4.0873], [x=33.848 y=34.040 orient=4.1159], [x=40.656 y=36.794 orient=4.8425], [x=33.998 y=34.006 orient=4.1448], [x=33.998 y=34.006 orient=4.1448], [x=38.649 y=34.212 orient=4.0935], [x=33.857 y=33.988 orient=4.1233], [x=37.035 y=37.684 orient=4.8346], [x=37.276 y=39.492 orient=5.0055], [x=33.878 y=34.041 orient=4.1208], [x=37.004 y=37.627 orient=4.8273], [x=36.458 y=39.300 orient=4.8381], [x=33.910 y=34.106 orient=4.1188], [x=34.005 y=34.036 orient=4.1426], [x=34.071 y=34.039 orient=4.1537], [x=38.461 y=34.435 orient=4.0369], [x=33.200 y=31.168 orient=5.2654], [x=31.730 y=43.794 orient=2.6086], [x=33.898 y=34.106 orient=4.1168], [x=34.283 y=33.835 orient=4.2118], [x=34.283 y=33.835 orient=4.2118], [x=34.283 y=33.835 orient=4.2118], [x=36.674 y=38.891 orient=2.6642], [x=40.274 y=36.864 orient=4.7681], [x=34.038 y=34.011 orient=4.1511], [x=38.793 y=34.144 orient=4.1247], [x=34.101 y=33.839 orient=4.1796], [x=34.101 y=33.839 orient=4.1796], [x=37.654 y=37.724 orient=4.9571], [x=38.807 y=34.162 orient=4.1250], [x=33.705 y=34.180 orient=4.0764], [x=40.347 y=32.330 orient=4.4525], [x=34.266 y=33.753 orient=4.2166], [x=34.266 y=33.753 orient=4.2166], [x=39.056 y=33.967 orient=4.1876], [x=34.244 y=33.870 orient=4.2014], [x=39.055 y=34.049 orient=4.1792], [x=37.244 y=37.720 orient=4.8771], [x=33.986 y=33.853 orient=4.1589], [x=33.986 y=33.853 orient=4.1589], [x=33.986 y=33.853 orient=4.1589], [x=39.183 y=33.104 orient=6.2080], [x=40.565 y=32.391 orient=4.4916], [x=33.937 y=34.007 orient=4.1343], [x=37.286 y=37.739 orient=4.8860], [x=34.051 y=34.000 orient=4.1546], [x=34.051 y=34.000 orient=4.1546], [x=34.017 y=34.034 orient=4.1448], [x=38.849 y=34.257 orient=4.1214], [x=33.715 y=34.161 orient=4.0803], [x=36.866 y=37.702 orient=4.8013], [x=39.116 y=33.285 orient=6.2432], [x=34.126 y=33.771 orient=4.1907], [x=34.126 y=33.771 orient=4.1907], [x=39.186 y=33.995 orient=4.2075], [x=43.666 y=32.494 orient=5.6798], [x=34.101 y=33.882 orient=4.1753], [x=39.998 y=32.575 orient=4.3719], [x=40.481 y=36.961 orient=4.8116], [x=33.988 y=33.920 orient=4.1523], [x=40.301 y=36.846 orient=4.7735], [x=34.154 y=33.890 orient=4.1837], [x=33.941 y=33.926 orient=4.1437], [x=31.636 y=43.501 orient=2.6693], [x=36.898 y=39.465 orient=4.9307], [x=36.774 y=37.696 orient=4.7827], [x=33.767 y=34.163 orient=4.0884], [x=36.765 y=38.958 orient=2.6436], [x=38.934 y=34.094 orient=4.1537], [x=33.952 y=34.093 orient=4.1273], [x=33.828 y=34.112 orient=4.1044], [x=33.702 y=34.055 orient=4.0905], [x=38.993 y=34.073 orient=4.1661], [x=38.993 y=34.073 orient=4.1661], [x=36.939 y=39.412 orient=4.9364], [x=33.905 y=34.045 orient=4.1247], [x=40.846 y=36.855 orient=4.8815], [x=44.513 y=32.010 orient=6.0818], [x=33.640 y=34.167 orient=4.0675], [x=33.640 y=34.167 orient=4.0675], [x=37.012 y=39.419 orient=0.0203], [x=34.015 y=33.886 orient=4.1604], [x=37.205 y=37.736 orient=4.8700], [x=36.268 y=38.159 orient=2.8311], [x=33.753 y=34.045 orient=4.0998], [x=33.753 y=34.045 orient=4.0998], [x=40.479 y=36.855 orient=4.8091], [x=36.938 y=37.679 orient=4.8153], [x=37.310 y=37.820 orient=4.8938], [x=39.651 y=32.746 orient=4.2941], [x=37.364 y=37.737 orient=4.9013], [x=39.109 y=34.001 orient=4.1934], [x=40.101 y=36.811 orient=4.7331], [x=40.101 y=36.811 orient=4.7331], [x=36.578 y=38.590 orient=2.7279], [x=36.585 y=39.056 orient=2.6436], [x=33.602 y=34.239 orient=4.0529], [x=33.750 y=34.113 orient=4.0917], [x=34.092 y=33.918 orient=4.1701], [x=39.131 y=32.820 orient=6.1512], [x=34.001 y=33.942 orient=4.1521], [x=33.691 y=34.154 orient=4.0773], [x=33.691 y=34.154 orient=4.0773], [x=38.420 y=34.516 orient=4.0203], [x=43.828 y=32.793 orient=5.7471], [x=40.469 y=36.877 orient=4.8076], [x=39.685 y=32.681 orient=4.3056], [x=39.685 y=32.681 orient=4.3056], [x=39.685 y=32.681 orient=4.3056], [x=33.773 y=34.108 orient=4.0959], [x=34.044 y=33.892 orient=4.1646], [x=37.216 y=39.476 orient=4.9930], [x=34.070 y=33.884 orient=4.1700], [x=33.826 y=33.984 orient=4.1186], [x=37.349 y=37.724 orient=4.8979], [x=43.766 y=32.660 orient=5.7182], [x=36.894 y=40.152 orient=0.1671], [x=33.865 y=34.123 orient=4.1093], [x=33.865 y=34.123 orient=4.1093], [x=38.625 y=34.366 orient=4.0716], [x=33.768 y=34.032 orient=4.1036], [x=37.453 y=37.758 orient=4.9197], [x=38.762 y=34.290 orient=4.1029], [x=33.794 y=34.132 orient=4.0966], [x=33.794 y=34.132 orient=4.0966], [x=34.038 y=33.968 orient=4.1557], [x=37.014 y=37.699 orient=4.8308], [x=38.820 y=34.141 orient=4.1296], [x=38.820 y=34.141 orient=4.1296], [x=33.769 y=34.089 orient=4.0975], [x=33.769 y=34.089 orient=4.0975], [x=38.609 y=34.253 orient=4.0823], [x=33.713 y=34.135 orient=4.0830], [x=39.951 y=32.617 orient=4.3601], [x=34.033 y=33.925 orient=4.1593], [x=44.533 y=32.135 orient=6.1069], [x=33.964 y=34.014 orient=4.1381], [x=31.704 y=41.313 orient=3.6612], [x=38.857 y=34.043 orient=4.1463], [x=39.789 y=32.671 orient=4.3257], [x=38.881 y=34.138 orient=4.1400], [x=34.293 y=33.891 orient=4.2079], [x=36.556 y=38.751 orient=2.7001], [x=36.721 y=39.171 orient=2.6106], [x=34.208 y=33.873 orient=4.1947], [x=34.178 y=33.807 orient=4.1961], [x=34.032 y=33.828 orient=4.1691], [x=40.673 y=36.827 orient=4.8469], [x=36.533 y=38.653 orient=2.7198], [x=40.466 y=36.813 orient=4.8058], [x=33.546 y=34.280 orient=4.0390], [x=40.459 y=34.785 orient=2.5340], [x=33.549 y=34.378 orient=4.0270], [x=33.549 y=34.378 orient=4.0270], [x=33.549 y=34.378 orient=4.0270], [x=38.920 y=34.057 orient=4.1554], [x=34.210 y=33.868 orient=4.1956], [x=39.176 y=33.842 orient=4.2204], [x=33.996 y=34.006 orient=4.1444], [x=37.128 y=37.620 orient=4.8513], [x=31.516 y=41.412 orient=3.6260], [x=31.516 y=41.412 orient=3.6260], [x=33.856 y=34.050 orient=4.1161], [x=31.722 y=41.106 orient=3.6984], [x=36.863 y=37.621 orient=4.7994], [x=36.705 y=40.014 orient=0.1454], [x=33.700 y=34.139 orient=4.0805], [x=33.700 y=34.139 orient=4.0805], [x=36.918 y=40.121 orient=0.1603], [x=36.918 y=40.121 orient=0.1603], [x=33.723 y=34.148 orient=4.0830], [x=33.892 y=34.064 orient=4.1205], [x=36.884 y=37.583 orient=4.8029], [x=39.335 y=33.911 orient=4.2421], [x=40.175 y=32.483 orient=4.4115], [x=33.952 y=33.912 orient=4.1471], [x=40.684 y=35.165 orient=2.4467], [x=38.436 y=34.329 orient=4.0461], [x=36.595 y=37.666 orient=4.7466], [x=36.595 y=37.666 orient=4.7466], [x=36.838 y=40.250 orient=0.1883], [x=40.353 y=36.902 orient=4.7847], [x=40.353 y=36.902 orient=4.7847], [x=39.685 y=32.773 orient=4.2983], [x=34.086 y=33.849 orient=4.1761], [x=34.086 y=33.849 orient=4.1761], [x=37.220 y=39.597 orient=5.0007], [x=34.256 y=33.856 orient=4.2049], [x=38.456 y=34.349 orient=4.0467], [x=40.111 y=32.502 orient=4.3981], [x=37.157 y=37.662 orient=4.8583], [x=36.730 y=39.069 orient=2.6273], [x=33.686 y=34.227 orient=4.0677], [x=33.762 y=34.221 orient=4.0807], [x=39.129 y=33.624 orient=0.0277], [x=33.644 y=34.204 orient=4.0638], [x=40.385 y=36.838 orient=4.7901], [x=39.663 y=32.648 orient=4.3042], [x=33.712 y=34.130 orient=4.0835], [x=38.721 y=34.346 orient=4.0896], [x=34.099 y=33.949 orient=4.1682], [x=36.682 y=38.859 orient=2.6694], [x=40.139 y=32.516 orient=4.4026], [x=40.139 y=32.516 orient=4.4026], [x=34.115 y=33.991 orient=4.1665], [x=31.907 y=40.757 orient=3.7755], [x=31.907 y=40.757 orient=3.7755], [x=33.910 y=34.045 orient=4.1257], [x=33.845 y=34.080 orient=4.1110], [x=36.920 y=39.795 orient=0.0958], [x=37.524 y=37.809 orient=4.9357], [x=36.872 y=40.489 orient=0.2333], [x=37.293 y=37.622 orient=4.8834], [x=34.210 y=33.790 orient=4.2033], [x=36.511 y=38.829 orient=2.6899], [x=40.197 y=32.417 orient=4.4193], [x=33.626 y=34.265 orient=4.0534], [x=33.626 y=34.265 orient=4.0534], [x=34.229 y=33.821 orient=4.2037], [x=38.858 y=34.209 orient=4.1283], [x=38.542 y=34.368 orient=4.0580], [x=40.094 y=32.544 orient=4.3921], [x=40.784 y=35.113 orient=2.4418], [x=40.185 y=32.467 orient=4.4142], [x=37.329 y=37.623 orient=4.8904], [x=33.947 y=34.053 orient=4.1310], [x=33.947 y=34.053 orient=4.1310], [x=37.304 y=37.749 orient=4.8901], [x=39.969 y=32.638 orient=4.3622], [x=33.848 y=34.040 orient=4.1159], [x=40.656 y=36.794 orient=4.8425], [x=38.649 y=34.212 orient=4.0935], [x=33.857 y=33.988 orient=4.1233], [x=34.561 y=33.645 orient=4.2787], [x=39.939 y=32.642 orient=4.3561], [x=33.878 y=34.041 orient=4.1208], [x=33.878 y=34.041 orient=4.1208], [x=33.878 y=34.041 orient=4.1208], [x=33.845 y=34.071 orient=4.1120], [x=33.845 y=34.071 orient=4.1120], [x=37.004 y=37.627 orient=4.8273], [x=36.589 y=38.851 orient=2.6792], [x=33.910 y=34.106 orient=4.1188], [x=33.910 y=34.106 orient=4.1188], [x=34.005 y=34.036 orient=4.1426], [x=34.071 y=34.039 orient=4.1537], [x=34.071 y=34.039 orient=4.1537], [x=38.741 y=34.144 orient=4.1161], [x=38.741 y=34.144 orient=4.1161], [x=38.741 y=34.144 orient=4.1161], [x=33.898 y=34.106 orient=4.1168], [x=36.431 y=38.587 orient=2.7403], [x=36.674 y=38.891 orient=2.6642], [x=36.674 y=38.891 orient=2.6642], [x=34.038 y=34.011 orient=4.1511], [x=34.038 y=34.011 orient=4.1511], [x=38.928 y=34.041 orient=4.1583], [x=36.825 y=39.330 orient=2.5729], [x=43.651 y=32.511 orient=5.6809], [x=40.347 y=32.330 orient=4.4525], [x=34.266 y=33.753 orient=4.2166], [x=36.631 y=38.998 orient=2.6494], [x=34.244 y=33.870 orient=4.2014], [x=39.055 y=34.049 orient=4.1792], [x=37.244 y=37.720 orient=4.8771], [x=31.757 y=43.851 orient=2.5959], [x=33.986 y=33.853 orient=4.1589], [x=40.565 y=32.391 orient=4.4916], [x=38.802 y=34.227 orient=4.1170], [x=38.802 y=34.227 orient=4.1170], [x=38.802 y=34.227 orient=4.1170], [x=37.286 y=37.739 orient=4.8860], [x=34.051 y=34.000 orient=4.1546], [x=34.051 y=34.000 orient=4.1546], [x=34.017 y=34.034 orient=4.1448], [x=37.263 y=37.703 orient=4.8804], [x=38.849 y=34.257 orient=4.1214], [x=33.715 y=34.161 orient=4.0803], [x=40.578 y=36.855 orient=4.8288], [x=36.866 y=37.702 orient=4.8013], [x=39.116 y=33.285 orient=6.2432], [x=33.673 y=34.205 orient=4.0682], [x=34.126 y=33.771 orient=4.1907], [x=39.186 y=33.995 orient=4.2075], [x=31.865 y=40.919 orient=3.7448], [x=31.701 y=43.672 orient=2.6327], [x=39.338 y=33.912 orient=4.2425], [x=39.338 y=33.912 orient=4.2425], [x=33.988 y=33.920 orient=4.1523], [x=39.734 y=32.572 orient=4.3231], [x=39.107 y=33.439 orient=6.2740], [x=33.941 y=33.926 orient=4.1437], [x=40.139 y=32.485 orient=4.4044], [x=36.898 y=39.465 orient=4.9307], [x=36.774 y=37.696 orient=4.7827], [x=36.641 y=38.878 orient=2.6696], [x=40.243 y=32.398 orient=4.4292], [x=33.767 y=34.163 orient=4.0884], [x=33.767 y=34.163 orient=4.0884], [x=36.765 y=38.958 orient=2.6436], [x=38.835 y=34.176 orient=4.1281], [x=38.934 y=34.094 orient=4.1537], [x=33.952 y=34.093 orient=4.1273], [x=33.702 y=34.055 orient=4.0905], [x=33.702 y=34.055 orient=4.0905], [x=33.702 y=34.055 orient=4.0905], [x=36.692 y=39.333 orient=4.8850], [x=36.939 y=39.412 orient=4.9364], [x=37.248 y=37.696 orient=4.8771], [x=33.640 y=34.167 orient=4.0675], [x=33.640 y=34.167 orient=4.0675], [x=38.878 y=34.137 orient=4.1396], [x=34.015 y=33.886 orient=4.1604], [x=37.205 y=37.736 orient=4.8700], [x=38.729 y=34.196 orient=4.1083], [x=40.121 y=32.514 orient=4.3992], [x=43.441 y=40.832 orient=1.9949], [x=33.753 y=34.045 orient=4.0998], [x=34.299 y=33.820 orient=4.2159], [x=40.479 y=36.855 orient=4.8091], [x=31.640 y=43.594 orient=2.6524], [x=34.012 y=33.952 orient=4.1529], [x=34.012 y=33.952 orient=4.1529], [x=34.012 y=33.952 orient=4.1529], [x=37.076 y=37.615 orient=4.8410], [x=36.619 y=38.861 orient=2.6746], [x=39.651 y=32.746 orient=4.2941], [x=39.651 y=32.746 orient=4.2941], [x=33.708 y=34.211 orient=4.0731], [x=33.708 y=34.211 orient=4.0731], [x=36.780 y=39.249 orient=2.5913], [x=33.974 y=33.963 orient=4.1454], [x=33.191 y=31.201 orient=5.2676], [x=34.150 y=33.939 orient=4.1780], [x=37.225 y=37.744 orient=4.8743], [x=33.602 y=34.239 orient=4.0529], [x=33.602 y=34.239 orient=4.0529], [x=33.750 y=34.113 orient=4.0917], [x=39.838 y=32.628 orient=4.3382], [x=34.092 y=33.918 orient=4.1701], [x=34.092 y=33.918 orient=4.1701], [x=40.681 y=36.868 orient=4.8495], [x=33.691 y=34.154 orient=4.0773], [x=39.190 y=33.983 orient=4.2094], [x=33.852 y=34.012 orient=4.1197], [x=40.469 y=36.877 orient=4.8076], [x=34.014 y=33.887 orient=4.1601], [x=34.014 y=33.887 orient=4.1601], [x=33.773 y=34.108 orient=4.0959], [x=34.044 y=33.892 orient=4.1646], [x=34.044 y=33.892 orient=4.1646], [x=34.044 y=33.892 orient=4.1646], [x=34.070 y=33.884 orient=4.1700], [x=40.681 y=36.961 orient=4.8520], [x=36.451 y=38.546 orient=2.7461], [x=38.927 y=34.199 orient=4.1413], [x=38.927 y=34.199 orient=4.1413], [x=33.269 y=31.280 orient=5.2893], [x=33.269 y=31.280 orient=5.2893], [x=33.193 y=31.096 orient=5.2568], [x=33.865 y=34.123 orient=4.1093], [x=37.296 y=37.688 orient=4.8862], [x=38.625 y=34.366 orient=4.0716], [x=36.621 y=38.870 orient=2.6729], [x=38.762 y=34.290 orient=4.1029], [x=33.794 y=34.132 orient=4.0966], [x=38.820 y=34.141 orient=4.1296], [x=33.769 y=34.089 orient=4.0975], [x=27.484 y=30.919 orient=3.8594], [x=38.609 y=34.253 orient=4.0823], [x=38.609 y=34.253 orient=4.0823], [x=39.431 y=33.783 orient=4.2706], [x=38.791 y=34.193 orient=4.1190], [x=36.896 y=40.065 orient=0.1498], [x=39.951 y=32.617 orient=4.3601], [x=34.033 y=33.925 orient=4.1593], [x=40.539 y=35.044 orient=2.4833], [x=33.964 y=34.014 orient=4.1381], [x=36.796 y=40.099 orient=0.1598], [x=33.927 y=34.021 orient=4.1312], [x=33.927 y=34.021 orient=4.1312], [x=33.927 y=34.021 orient=4.1312], [x=36.855 y=40.184 orient=0.1746], [x=39.789 y=32.671 orient=4.3257], [x=36.713 y=39.017 orient=2.6382], [x=34.293 y=33.891 orient=4.2079], [x=34.208 y=33.873 orient=4.1947], [x=34.178 y=33.807 orient=4.1961], [x=34.178 y=33.807 orient=4.1961], [x=34.178 y=33.807 orient=4.1961], [x=34.032 y=33.828 orient=4.1691], [x=40.337 y=32.544 orient=4.4393], [x=36.544 y=38.598 orient=2.7291], [x=33.546 y=34.280 orient=4.0390], [x=36.696 y=39.137 orient=2.6190], [x=33.549 y=34.378 orient=4.0270], [x=37.070 y=37.654 orient=4.8409], [x=37.070 y=37.654 orient=4.8409], [x=40.618 y=37.010 orient=4.8406], [x=38.920 y=34.057 orient=4.1554], [x=34.210 y=33.868 orient=4.1956], [x=40.760 y=35.195 orient=2.4323], [x=40.760 y=35.195 orient=2.4323], [x=39.176 y=33.842 orient=4.2204], [x=39.176 y=33.842 orient=4.2204], [x=44.744 y=39.560 orient=0.7881], [x=33.996 y=34.006 orient=4.1444], [x=33.996 y=34.006 orient=4.1444], [x=37.128 y=37.620 orient=4.8513], [x=33.856 y=34.050 orient=4.1161], [x=40.542 y=36.815 orient=4.8207], [x=37.559 y=37.719 orient=4.9385], [x=36.558 y=38.899 orient=2.6735], [x=33.700 y=34.139 orient=4.0805], [x=40.986 y=36.968 orient=4.9132], [x=36.619 y=39.336 orient=4.8709], [x=33.723 y=34.148 orient=4.0830], [x=33.892 y=34.064 orient=4.1205], [x=41.055 y=36.907 orient=4.9242], [x=40.175 y=32.483 orient=4.4115], [x=33.944 y=33.915 orient=4.1455], [x=33.944 y=33.915 orient=4.1455], [x=43.455 y=32.408 orient=5.6411], [x=31.920 y=40.947 orient=3.7464], [x=39.685 y=32.773 orient=4.2983], [x=34.086 y=33.849 orient=4.1761], [x=34.086 y=33.849 orient=4.1761], [x=34.086 y=33.849 orient=4.1761], [x=36.546 y=38.668 orient=2.7160], [x=33.777 y=34.049 orient=4.1032], [x=34.256 y=33.856 orient=4.2049]]\n"
     ]
    },
    {
     "data": {
      "application/javascript": [
       "\n",
       "            setTimeout(function() {\n",
       "                var nbb_cell_id = 9;\n",
       "                var nbb_unformatted_code = \"# myrobot = robot()\\n# myrobot.set_noise(5.0, 0.1, 5.0)\\n# myrobot.set(30.0, 50.0, pi/2)\\n# myrobot = myrobot.move(-pi/2, 15.0)\\n# print myrobot.sense()\\n# myrobot = myrobot.move(-pi/2, 10.0)\\n# print myrobot.sense()\\n\\n####   DON'T MODIFY ANYTHING ABOVE HERE! ENTER/MODIFY CODE BELOW ####\\nmyrobot = robot()\\nN = 1000\\nT = 2\\n\\np = []\\nfor i in range(N):\\n    x = robot()\\n    x.set_noise(0.05, 0.05, 5.0)\\n    p.append(x)\\n\\nfor t in range(T):\\n    myrobot = myrobot.move(0.1, 5.0)\\n    Z = myrobot.sense()\\n\\n    p2 = []\\n    for i in range(N):\\n        p2.append(p[i].move(0.1, 5.0))\\n    p = p2\\n\\n    w = []\\n    for i in range(N):\\n        w.append(p[i].measurement_prob(Z))\\n\\n    p3 = []\\n    index = int(random.random() * N)\\n    beta = 0.0\\n    mw = max(w)\\n    for i in range(N):\\n        beta += random.random() * 2.0 * mw\\n        while beta > w[index]:\\n            beta -= w[index]\\n            index = (index + 1) % N\\n        p3.append(p[index])\\n    p = p3\\n\\nprint(p)  # Leave this print statement for grading purposes!\";\n",
       "                var nbb_formatted_code = \"# myrobot = robot()\\n# myrobot.set_noise(5.0, 0.1, 5.0)\\n# myrobot.set(30.0, 50.0, pi/2)\\n# myrobot = myrobot.move(-pi/2, 15.0)\\n# print myrobot.sense()\\n# myrobot = myrobot.move(-pi/2, 10.0)\\n# print myrobot.sense()\\n\\n####   DON'T MODIFY ANYTHING ABOVE HERE! ENTER/MODIFY CODE BELOW ####\\nmyrobot = robot()\\nN = 1000\\nT = 2\\n\\np = []\\nfor i in range(N):\\n    x = robot()\\n    x.set_noise(0.05, 0.05, 5.0)\\n    p.append(x)\\n\\nfor t in range(T):\\n    myrobot = myrobot.move(0.1, 5.0)\\n    Z = myrobot.sense()\\n\\n    p2 = []\\n    for i in range(N):\\n        p2.append(p[i].move(0.1, 5.0))\\n    p = p2\\n\\n    w = []\\n    for i in range(N):\\n        w.append(p[i].measurement_prob(Z))\\n\\n    p3 = []\\n    index = int(random.random() * N)\\n    beta = 0.0\\n    mw = max(w)\\n    for i in range(N):\\n        beta += random.random() * 2.0 * mw\\n        while beta > w[index]:\\n            beta -= w[index]\\n            index = (index + 1) % N\\n        p3.append(p[index])\\n    p = p3\\n\\nprint(p)  # Leave this print statement for grading purposes!\";\n",
       "                var nbb_cells = Jupyter.notebook.get_cells();\n",
       "                for (var i = 0; i < nbb_cells.length; ++i) {\n",
       "                    if (nbb_cells[i].input_prompt_number == nbb_cell_id) {\n",
       "                        if (nbb_cells[i].get_text() == nbb_unformatted_code) {\n",
       "                             nbb_cells[i].set_text(nbb_formatted_code);\n",
       "                        }\n",
       "                        break;\n",
       "                    }\n",
       "                }\n",
       "            }, 500);\n",
       "            "
      ],
      "text/plain": [
       "<IPython.core.display.Javascript object>"
      ]
     },
     "metadata": {},
     "output_type": "display_data"
    }
   ],
   "source": [
    "# myrobot = robot()\n",
    "# myrobot.set_noise(5.0, 0.1, 5.0)\n",
    "# myrobot.set(30.0, 50.0, pi/2)\n",
    "# myrobot = myrobot.move(-pi/2, 15.0)\n",
    "# print myrobot.sense()\n",
    "# myrobot = myrobot.move(-pi/2, 10.0)\n",
    "# print myrobot.sense()\n",
    "\n",
    "####   DON'T MODIFY ANYTHING ABOVE HERE! ENTER/MODIFY CODE BELOW ####\n",
    "myrobot = robot()\n",
    "N = 1000\n",
    "T = 2\n",
    "\n",
    "p = []\n",
    "for i in range(N):\n",
    "    x = robot()\n",
    "    x.set_noise(0.05, 0.05, 5.0)\n",
    "    p.append(x)\n",
    "\n",
    "for t in range(T):\n",
    "    myrobot = myrobot.move(0.1, 5.0)\n",
    "    Z = myrobot.sense()\n",
    "\n",
    "    p2 = []\n",
    "    for i in range(N):\n",
    "        p2.append(p[i].move(0.1, 5.0))\n",
    "    p = p2\n",
    "\n",
    "    w = []\n",
    "    for i in range(N):\n",
    "        w.append(p[i].measurement_prob(Z))\n",
    "\n",
    "    p3 = []\n",
    "    index = int(random.random() * N)\n",
    "    beta = 0.0\n",
    "    mw = max(w)\n",
    "    for i in range(N):\n",
    "        beta += random.random() * 2.0 * mw\n",
    "        while beta > w[index]:\n",
    "            beta -= w[index]\n",
    "            index = (index + 1) % N\n",
    "        p3.append(p[index])\n",
    "    p = p3\n",
    "\n",
    "print(p)  # Leave this print statement for grading purposes!"
   ]
  },
  {
   "cell_type": "markdown",
   "metadata": {},
   "source": [
    "# Error"
   ]
  },
  {
   "cell_type": "markdown",
   "metadata": {},
   "source": [
    "- rather than printing out the particles themselves, I want you to print out the overall quality of the solution\n",
    "    - to do this, I've programmed for you an `eval` code which takes in as a robot position and a particle set, and it computes the average error of each particle, relative to the robot pose in $X$ and $Y$--not in the orientation\n",
    "  - the way it does it, it basically compares the $X$ of the particle with the $X$ of the robot, computes the Euclidian distance of these differences, and averages all of those--so it sums them all up and it averages them, through the number of particles over here, which is upper caps $N$\n",
    "  - there's some funny stuff over here--the reason is, the world is cyclic and it might be that the robot is at $0.0$ or at $99.9$--it's about the same values but, according to the calculation, they'd be different\n",
    "    - so while there's normalization over here, I make sure that the cyclicity of the world doesn't really affect negatively the estimated error I've enclosed in the boundary"
   ]
  },
  {
   "cell_type": "code",
   "execution_count": 10,
   "metadata": {
    "scrolled": false
   },
   "outputs": [
    {
     "name": "stdout",
     "output_type": "stream",
     "text": [
      "5.973190518296271\n",
      "7.903663287857302\n",
      "9.46430846786852\n",
      "11.05035709058652\n",
      "12.229847010230959\n",
      "12.099732128503387\n",
      "11.099935665313167\n",
      "10.52578099729524\n",
      "10.050858537763181\n",
      "9.560926980510569\n"
     ]
    },
    {
     "data": {
      "application/javascript": [
       "\n",
       "            setTimeout(function() {\n",
       "                var nbb_cell_id = 10;\n",
       "                var nbb_unformatted_code = \"####   DON'T MODIFY ANYTHING ABOVE HERE! ENTER/MODIFY CODE BELOW ####\\nmyrobot = robot()\\nmyrobot = myrobot.move(0.1, 5.0)\\nZ = myrobot.sense()\\nN = 1000\\nT = 10  # Leave this as 10 for grading purposes.\\n\\np = []\\nfor i in range(N):\\n    r = robot()\\n    r.set_noise(0.05, 0.05, 5.0)\\n    p.append(r)\\n\\nfor t in range(T):\\n    myrobot = myrobot.move(0.1, 5.0)\\n    Z = myrobot.sense()\\n\\n    p2 = []\\n    for i in range(N):\\n        p2.append(p[i].move(0.1, 5.0))\\n    p = p2\\n\\n    w = []\\n    for i in range(N):\\n        w.append(p[i].measurement_prob(Z))\\n\\n    p3 = []\\n    index = int(random.random() * N)\\n    beta = 0.0\\n    mw = max(w)\\n    for i in range(N):\\n        beta += random.random() * 2.0 * mw\\n        while beta > w[index]:\\n            beta -= w[index]\\n            index = (index + 1) % N\\n        p3.append(p[index])\\n    p = p3\\n\\n    # enter code here, make sure that you output 10 print statements.\\n    print(eval(myrobot, p))\";\n",
       "                var nbb_formatted_code = \"####   DON'T MODIFY ANYTHING ABOVE HERE! ENTER/MODIFY CODE BELOW ####\\nmyrobot = robot()\\nmyrobot = myrobot.move(0.1, 5.0)\\nZ = myrobot.sense()\\nN = 1000\\nT = 10  # Leave this as 10 for grading purposes.\\n\\np = []\\nfor i in range(N):\\n    r = robot()\\n    r.set_noise(0.05, 0.05, 5.0)\\n    p.append(r)\\n\\nfor t in range(T):\\n    myrobot = myrobot.move(0.1, 5.0)\\n    Z = myrobot.sense()\\n\\n    p2 = []\\n    for i in range(N):\\n        p2.append(p[i].move(0.1, 5.0))\\n    p = p2\\n\\n    w = []\\n    for i in range(N):\\n        w.append(p[i].measurement_prob(Z))\\n\\n    p3 = []\\n    index = int(random.random() * N)\\n    beta = 0.0\\n    mw = max(w)\\n    for i in range(N):\\n        beta += random.random() * 2.0 * mw\\n        while beta > w[index]:\\n            beta -= w[index]\\n            index = (index + 1) % N\\n        p3.append(p[index])\\n    p = p3\\n\\n    # enter code here, make sure that you output 10 print statements.\\n    print(eval(myrobot, p))\";\n",
       "                var nbb_cells = Jupyter.notebook.get_cells();\n",
       "                for (var i = 0; i < nbb_cells.length; ++i) {\n",
       "                    if (nbb_cells[i].input_prompt_number == nbb_cell_id) {\n",
       "                        if (nbb_cells[i].get_text() == nbb_unformatted_code) {\n",
       "                             nbb_cells[i].set_text(nbb_formatted_code);\n",
       "                        }\n",
       "                        break;\n",
       "                    }\n",
       "                }\n",
       "            }, 500);\n",
       "            "
      ],
      "text/plain": [
       "<IPython.core.display.Javascript object>"
      ]
     },
     "metadata": {},
     "output_type": "display_data"
    }
   ],
   "source": [
    "####   DON'T MODIFY ANYTHING ABOVE HERE! ENTER/MODIFY CODE BELOW ####\n",
    "myrobot = robot()\n",
    "myrobot = myrobot.move(0.1, 5.0)\n",
    "Z = myrobot.sense()\n",
    "N = 1000\n",
    "T = 10  # Leave this as 10 for grading purposes.\n",
    "\n",
    "p = []\n",
    "for i in range(N):\n",
    "    r = robot()\n",
    "    r.set_noise(0.05, 0.05, 5.0)\n",
    "    p.append(r)\n",
    "\n",
    "for t in range(T):\n",
    "    myrobot = myrobot.move(0.1, 5.0)\n",
    "    Z = myrobot.sense()\n",
    "\n",
    "    p2 = []\n",
    "    for i in range(N):\n",
    "        p2.append(p[i].move(0.1, 5.0))\n",
    "    p = p2\n",
    "\n",
    "    w = []\n",
    "    for i in range(N):\n",
    "        w.append(p[i].measurement_prob(Z))\n",
    "\n",
    "    p3 = []\n",
    "    index = int(random.random() * N)\n",
    "    beta = 0.0\n",
    "    mw = max(w)\n",
    "    for i in range(N):\n",
    "        beta += random.random() * 2.0 * mw\n",
    "        while beta > w[index]:\n",
    "            beta -= w[index]\n",
    "            index = (index + 1) % N\n",
    "        p3.append(p[index])\n",
    "    p = p3\n",
    "\n",
    "    # enter code here, make sure that you output 10 print statements.\n",
    "    print(eval(myrobot, p))"
   ]
  },
  {
   "cell_type": "markdown",
   "metadata": {},
   "source": [
    "# Conclusion"
   ]
  },
  {
   "cell_type": "markdown",
   "metadata": {},
   "source": [
    "- you've just programmed a full Particle Filter\n",
    "  - you got, from me, kind of a very primitive and rudimentary robot simulator that uses landmarks as a way of doing measurements, and it uses three-dimensional robot coordinates, so it's a little bit better than the stuff we talked about in previous classes--it's not quite a Google car yet\n",
    "  - you solved the estimation problem--in fact, you solved this problem in 30 lines of code"
   ]
  },
  {
   "cell_type": "markdown",
   "metadata": {},
   "source": [
    "- we had measurement updates and motion updates\n",
    "  - in the measurement update, we computed posterior over state given the measurement and it was proportional to, after normalization of probability of the measurement given the state times $p$ of the state itself\n",
    "  - in the motion update, if you compute a posterior of the distribution one time step later and that is the convolution of the transition probability times my prior\n",
    "\n",
    "<img src=\"resources/measurement_and_motion_updates_formulas.png\"/>\n",
    "  \n",
    "- those formulas--those should look familiar--this is exactly what you implemented.\n",
    "  - for measurement update\n",
    "    - $P(X)$ distribution was a set of particles--a thousand particles together represented your prior $X$\n",
    "    - $P(Z|X)$ were importance weights\n",
    "    - technically speaking, the particles with the importance weights are a representation of distribution but we wanted to get rid of the importance weights\n",
    "    - so by resampling, we work the importance weights back into the set of particle so the resulting particles--$P(X|Z)$--would represent the correct posterior\n",
    "  - for motion updates\n",
    "    - $P(X)$ was your set of particles again\n",
    "    - you sampled from the sum by taking a random particle and applying the motion model with a noise model to generate a random particle, $X'$\n",
    "    - as a result, you get a new particle set that is the correct distribution after the robot motion"
   ]
  },
  {
   "cell_type": "code",
   "execution_count": null,
   "metadata": {},
   "outputs": [],
   "source": []
  }
 ],
 "metadata": {
  "kernelspec": {
   "display_name": "Python 3",
   "language": "python",
   "name": "python3"
  },
  "language_info": {
   "codemirror_mode": {
    "name": "ipython",
    "version": 3
   },
   "file_extension": ".py",
   "mimetype": "text/x-python",
   "name": "python",
   "nbconvert_exporter": "python",
   "pygments_lexer": "ipython3",
   "version": "3.7.6"
  }
 },
 "nbformat": 4,
 "nbformat_minor": 4
}
