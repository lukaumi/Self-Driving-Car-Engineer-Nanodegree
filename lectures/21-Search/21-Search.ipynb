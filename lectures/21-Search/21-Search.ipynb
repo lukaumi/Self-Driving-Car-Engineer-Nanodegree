{
 "cells": [
  {
   "cell_type": "code",
   "execution_count": 1,
   "metadata": {},
   "outputs": [
    {
     "data": {
      "application/javascript": [
       "\n",
       "            setTimeout(function() {\n",
       "                var nbb_cell_id = 1;\n",
       "                var nbb_unformatted_code = \"%load_ext nb_black\";\n",
       "                var nbb_formatted_code = \"%load_ext nb_black\";\n",
       "                var nbb_cells = Jupyter.notebook.get_cells();\n",
       "                for (var i = 0; i < nbb_cells.length; ++i) {\n",
       "                    if (nbb_cells[i].input_prompt_number == nbb_cell_id) {\n",
       "                        if (nbb_cells[i].get_text() == nbb_unformatted_code) {\n",
       "                             nbb_cells[i].set_text(nbb_formatted_code);\n",
       "                        }\n",
       "                        break;\n",
       "                    }\n",
       "                }\n",
       "            }, 500);\n",
       "            "
      ],
      "text/plain": [
       "<IPython.core.display.Javascript object>"
      ]
     },
     "metadata": {},
     "output_type": "display_data"
    }
   ],
   "source": [
    "%load_ext nb_black"
   ]
  },
  {
   "cell_type": "markdown",
   "metadata": {},
   "source": [
    "- now onto motion planning\n",
    "- so far, you've learned a lot about perception, like how to perceive the world, but while the car brains will taking vision in, eventually you have to also do something with that - you have to steer, and you have to break, and give gas\n",
    "- motion planning is a step in that direction and it comes in multiple segments\n",
    "  - it starts out with a predictive task where the motion planner tries to understand what are other vehicles about to do in the future\n",
    "  - then the vehicle will pick a behavior--kind of simply speaking, whether to go left or right\n",
    "  - eventually, it generates a maneuver trajectory as to where to go\n",
    "    - the trajectory is not just a curve in space in X and Y--it also has a time dimension because we have to set the speed of the vehicle at the same time"
   ]
  },
  {
   "cell_type": "markdown",
   "metadata": {},
   "source": [
    "# Introduction to Path Planning"
   ]
  },
  {
   "cell_type": "markdown",
   "metadata": {},
   "source": [
    "- path planning is how the vehicle generates safe drivable trajectories to get where we want it to go\n",
    "- we'll use data from computer vision and sensor fusion in order to understand the environment around us\n",
    "- we'll also use data from localization to understand precisely where we are in that environment\n",
    "- the path planning block uses all of that data to decide which maneuver to take next\n",
    "- then it constructs a trajectory for the controller to execute\n",
    "\n",
    "\n",
    "- in the first lesson you'll learn some of the foundational search algorithms used in discrete path planning\n",
    "- then you will learn about prediction which is where we use the data from sensor fusion to generate predictions about what all the other objects around us are likely to do\n",
    "- then you'll study about behavior planning--this is where we decide at a high level what the car shall do in the next 10 seconds or so\n",
    "- finally you will learn about trajectory generation which is where we create smooth, drivable, and collision-free trajectories for the motion controller to follow\n",
    "\n",
    "\n",
    "- in the project at the end of this module you'll implement a path planner for a vehicle driving on a highway\n",
    "- your vehicle will be able to avoid collisions, maintain safe distances between other traffic, and even pass other vehicles to get where it's going faster"
   ]
  },
  {
   "cell_type": "markdown",
   "metadata": {},
   "source": [
    "# About this Lesson"
   ]
  },
  {
   "cell_type": "markdown",
   "metadata": {},
   "source": [
    "- this lesson covers discrete path planning and in the last lesson you will learn about continuous path planning\n",
    "- even though the real world is continuous, there are many situations where discretizing the world makes it easier and computationally faster to solve path planning problems\n",
    "\n",
    "\n",
    "- in addition to the practical benefits of these algorithms, it's also conceptually useful to learn about them because they deal with some of the same concepts that we will keep coming back to in this lesson\n",
    "- those concepts include:\n",
    "  - cost functions and how to include human insights (like \"it's easier to make right turns than left turns\") into our planning algorithms\n",
    "  - optimality and the tradeoffs associated with finding the best solution vs finding a solution that is good enough\n",
    "  - Online vs Offline algorithms and how we can avoid complex computation on the road by precomputing best paths whenever possible"
   ]
  },
  {
   "cell_type": "markdown",
   "metadata": {},
   "source": [
    "# Motion Planning"
   ]
  },
  {
   "cell_type": "markdown",
   "metadata": {},
   "source": [
    "- the fundamental problem in motion planning is that a robot might live in a world like this, and it might want to find its way to a goal like this, and has to devise a plan to get there\n",
    "\n",
    "<img src=\"resources/robot_simple_world_goal.png\"/>\n",
    "\n",
    "- this same problem occurs for a self driving car that might live in a city near a highway on a network of streets\n",
    "- it has to find its way around and navigate to its target location\n",
    "\n",
    "<img src=\"resources/robot_simple_world_goal_highway.png\"/>\n",
    "\n",
    "- if we zoom in and look at this intersection, we have also planning problems here\n",
    "  - imagine a car coming from here (start) that wishes to go over here (goal)\n",
    "  - to take a left turn on this intersection over here, this car would have to turn right first, engage in a lane shift and then take the left turn to the goal location\n",
    "  - now, a lane shift over here is a risky proposition--if there's a bit truck parked over here, the space might be insufficient to carry out the lane shift\n",
    "  - an alternative plan might be to go straight over here, take the detour around the block, and then go straight to the target location\n",
    "\n",
    "<img src=\"resources/robot_simple_world_goal_crossroads.png\"/>\n",
    "\n",
    "- the process of finding a path from a start location to a goal location is called *planning*\n",
    "- for robots, it's often called *robot motion planning*"
   ]
  },
  {
   "cell_type": "markdown",
   "metadata": {},
   "source": [
    "- in this lesson I'm going to talk about discrete methods for planning in which the world chopped into small bins\n",
    "- what's the planning problem?\n",
    "  - we're given:\n",
    "    - a map of the world\n",
    "    - a starting location\n",
    "    - a goal location.\n",
    "    - usually, we're given some sort of a cost function\n",
    "      - the simplest way to think of cost is just the time it takes to drive a certain route\n",
    "  - the goal is find the minimum cost path"
   ]
  },
  {
   "cell_type": "markdown",
   "metadata": {},
   "source": [
    "# Compute Cost"
   ]
  },
  {
   "cell_type": "markdown",
   "metadata": {},
   "source": [
    "<img src=\"resources/compute_cost_quiz.png\"/>\n",
    "\n",
    "- suppose we live in a discrete world like this, and this is a world we'll be programming\n",
    "- let's for simplicity assume that the world is divided into little grid cells\n",
    "- our initial location is over here (blue) facing north or up\n",
    "  - this is the vehicle and the little arrow over here indicates where it's facing\n",
    "  - I'll call this \"Start\"\n",
    "- we wish to get to this area over here (red), presumably facing to the left side\n",
    "\n",
    "\n",
    "- **Q:** Let's assume at each time step I can either move forward or I can turn the vehicle--I'm going to call these *actions*. Each of those costs me exactly 1 unit of cost. What's the total cost I have to endure to move from start to goal?\n",
    "- **A:** It's $7$ and not $6$. The reason why it is $7$ is it takes $6$ steps to go on the shortest path to the goal, but in this cell over here I have to turn to the left side. That turn also costs me a unit of $1$. That's in total $6$ straight motions and 1 turn, gives me $7$.\n",
    "\n",
    "\n",
    "- let me now change the action model into a different model\n",
    "- we have 3 actions:\n",
    "  - the first is I can go just forward\n",
    "  - the second one is I can turn left and then go forward\n",
    "  - the third one is I can turn right and then go forward\n",
    "- let's say for the time being the cost of each of those is $1$.\n",
    "\n",
    "\n",
    "- **Q:** What is now the total cost of the optimal path to the goal?\n",
    "- **A:** The answer is $6$, as opposed to $7$ when we counted the turning separately."
   ]
  },
  {
   "cell_type": "markdown",
   "metadata": {},
   "source": [
    "# Optimal Path"
   ]
  },
  {
   "cell_type": "markdown",
   "metadata": {},
   "source": [
    "- the reason why I change the actions this way is for my next quiz\n",
    "- suppose we punish left turns\n",
    "  - why would we do this?\n",
    "    - well, in real traffic, left turns are harder to do than the right turns--often you have to wait for oncoming traffic\n",
    "- let's say in our planning, left turns are more expensive\n",
    "  - in fact, I should mention that parcel delivery services that plan for optimal routes of trucks like FedEx and UPS in the States, they actually plan routes that try to avoid left turns during rush hours, because it just takes much longer to do left turns\n",
    "    - if they can go right turns, they prefer those\n",
    "\n",
    "\n",
    "- **Q:** Let's now say that forward motion will cost you $1$, a left turn costs you $10$, and a right turn costs you $1$. Now, what is the optimal path, and specifically what's the cost of the optimal path?\n",
    "- **A:** This was a tricky question. It's $15$ it turns out. The path stays the same as the previous quiz, but here instead of $1$ for the turn we add $10$.\n",
    "\n",
    "\n",
    "- **Q:** So for this final version, let me punish left turns even more. Now they cost us $20$. What is now the total cost to get to the goal? Enter the cost of the optimal (lowest cost) path.\n",
    "- **A:** The answer is $16$. We take the route around the block--the loop over here. With a cost of left turns this high, the left turn over here becomes prohibitively expensive, and we'd rather take a detour on the right side and do 3 right turns as opposed to 1 left turn."
   ]
  },
  {
   "cell_type": "markdown",
   "metadata": {},
   "source": [
    "# Maze"
   ]
  },
  {
   "cell_type": "markdown",
   "metadata": {},
   "source": [
    "<img src=\"resources/maze_quiz.png\"/>\n",
    "\n",
    "- let me look at a different maze, and this is not a car example anymore, but it's close to what we're going to program\n",
    "- suppose we start over here, and our goal is to go into this corner over here--there are multiple blocked cells along the way\n",
    "- in this case, we have a robot that can go up, down, left, or right\n",
    "\n",
    "\n",
    "- **Q:** How many steps does it take for the robot that starts over here to reach the goal position?\n",
    "- **A:** The answer is $7$."
   ]
  },
  {
   "cell_type": "markdown",
   "metadata": {},
   "source": [
    "<img src=\"resources/maze_quiz_2.png\"/>\n",
    "\n",
    "- let's start with a little grid world of size $6 \\times 5$ where our start location is in the top left corner, our goal in the bottom right corner and I block off a few cells so there is still a safe path to the goal\n",
    "- this could be a search through a city graph, through a parking lot, or through a maze of streets for a mobile robot\n",
    "- just for simplicity, in this example let's assume the robot is given $4$ actions: it can go up, down, left, or right\n",
    "- also for simplicity, let's assume every action succeeds with absolute certainty\n",
    "  - we don't model uncertainty in this example\n",
    "- the path planning or search problem is to find the shortest sequence of actions that leads our robot from the start state to the goal state\n",
    "\n",
    "\n",
    "- **Q:** Just to check, tell me how many you think these are. How many action are required to go from start to goal?\n",
    "- **A:** The answer is $11$."
   ]
  },
  {
   "cell_type": "markdown",
   "metadata": {},
   "source": [
    "# First Search Program"
   ]
  },
  {
   "cell_type": "markdown",
   "metadata": {},
   "source": [
    "- the big question now is, can we write a program that finds the shortest path from start to goal?\n",
    "- to do so, let's give the grid cell names--we have six columns named from $0-5$ and five rows from $0-4$ \n",
    "- the basic idea I'll pursue is that I keep the list of nodes that I wish to investigate further, or as we call it in search, *expand*\n",
    "  - let's call this list open\n",
    "\n",
    "\n",
    "- so at the beginning we have one state on this list-it's $[0,0]$, my initial state and just to make sure I never pick this state again--I don't want any cycles in my path, let me just check mark the state with little red check\n",
    "- I now can test whether the state is my final goal state--obviously, it's not--I'm not done with planning yet\n",
    "- so what I'll do next, I'll expand this state--I'll take it off my open list and look at all the successors of which there are two over here, $[1,0]$ and $[0,1]$--those two are now expanded so I check them\n",
    "- one last thing I maintain for each of these states on the open list, how many expands that it took to get there--that's called my *g-value*\n",
    "  - when I'm done with planning, this will be the length of the optimal path\n",
    "- let's now go further and expand one of the two--we always expand the one with the smallest g-value\n",
    "- but these are equivalent--they both have a g-value of one, so it doesn't make a difference\n",
    "- so let me expand the first one--this one has three neighbors, $[0,0]$, $[1,1]$ and $[2,0]$\n",
    "- because $[0,0]$ is already closed with a checkmark, we don't consider it anymore, which gives me $[2,0]$ and $[1,1]$ both now with a g-value of two and we check those over here\n",
    "- I now pick the node on the open list with the smallest g-value, which happens to be this one over here--there's really no choice, it's the node over here\n",
    "- this has two neighbors, $[0,0]$ and $[1,1]$ but both I've already checked so therefore, there is no expansion that takes place\n",
    "- I only expand if I find an unchecked node\n",
    "\n",
    "\n",
    "- so a new open list are these two nodes over here and I recurse and what's going to happen is, my nodes will expand gradually into the free space until I eventually hit the goal node and without proof, the g-value when I hit the goal node will be exactly the number of steps it takes to go from the start state to the goal node\n",
    "- the secret here for that to be the case lies in the fact that I always expand the node with the smallest g-value"
   ]
  },
  {
   "cell_type": "code",
   "execution_count": 2,
   "metadata": {},
   "outputs": [
    {
     "name": "stdout",
     "output_type": "stream",
     "text": [
      "[11, 4, 5]\n"
     ]
    },
    {
     "data": {
      "text/plain": [
       "[11, 4, 5]"
      ]
     },
     "execution_count": 2,
     "metadata": {},
     "output_type": "execute_result"
    },
    {
     "data": {
      "application/javascript": [
       "\n",
       "            setTimeout(function() {\n",
       "                var nbb_cell_id = 2;\n",
       "                var nbb_unformatted_code = \"# ----------\\n# User Instructions:\\n#\\n# Define a function, search() that returns a list\\n# in the form of [optimal path length, row, col]. For\\n# the grid shown below, your function should output\\n# [11, 4, 5].\\n#\\n# If there is no valid path from the start point\\n# to the goal, your function should return the string\\n# 'fail'\\n# ----------\\n\\n# Grid format:\\n#   0 = Navigable space\\n#   1 = Occupied space\\n\\n\\ngrid = [\\n    [0, 0, 1, 0, 0, 0],\\n    [0, 0, 1, 0, 0, 0],\\n    [0, 0, 0, 0, 1, 0],\\n    [0, 0, 1, 1, 1, 0],\\n    [0, 0, 0, 0, 1, 0],\\n]\\ninit = [0, 0]\\ngoal = [len(grid) - 1, len(grid[0]) - 1]\\ncost = 1\\n\\ndelta = [[-1, 0], [0, -1], [1, 0], [0, 1]]  # go up  # go left  # go down  # go right\\n\\ndelta_name = [\\\"^\\\", \\\"<\\\", \\\"v\\\", \\\">\\\"]\\n\\n\\ndef search(grid, init, goal, cost):\\n    # ----------------------------------------\\n    # insert code here\\n    # ----------------------------------------\\n\\n    # list of cells once they're expanded so we don't expand them again\\n    # assigns an array of the same size as the field grid\\n    # 0 meaning it's still open, 1 meaning it's being closed\\n    closed = [[0 for row in range(len(grid[0]))] for col in range(len(grid))]\\n    # initialize the starting location as checked\\n    closed[init[0]][init[1]] = 1\\n\\n    # assign the coordinates to x, y, and a g-value of 0\\n    x = init[0]\\n    y = init[1]\\n    g = 0\\n\\n    # initial open list is going to be just 1 element of my initial coordinates and the g value of 0\\n    open = [[g, x, y]]\\n\\n    # set this flag true if goal is found\\n    found = False\\n    # set this flag true if goal is not found and there are no further options to expand\\n    giveup = False\\n\\n    # algorithm\\n    while not found and not giveup:\\n        # check if we still have elements on the open list\\n        if len(open) == 0:\\n            resign = True\\n        #             print (\\\"fail\\\")\\n        else:\\n            # remove node from list i.e. remove the element with the smallest g-value\\n            open.sort()\\n            open.reverse()\\n            next = open.pop()\\n            x = next[1]\\n            y = next[2]\\n            g = next[0]\\n\\n            # check if we are done\\n            if x == goal[0] and y == goal[1]:\\n                found = True\\n                print(next)\\n            else:\\n                # expand winning element and add to new open list\\n                for i in range(len(delta)):\\n                    x2 = x + delta[i][0]\\n                    y2 = y + delta[i][1]\\n                    if x2 >= 0 and x2 < len(grid) and y2 >= 0 and y2 < len(grid[0]):\\n                        if closed[x2][y2] == 0 and grid[x2][y2] == 0:\\n                            g2 = g + cost\\n                            open.append([g2, x2, y2])\\n                            closed[x2][y2] = 1\\n\\n    return [g, x, y]\\n\\n\\nsearch(grid, init, goal, cost)\";\n",
       "                var nbb_formatted_code = \"# ----------\\n# User Instructions:\\n#\\n# Define a function, search() that returns a list\\n# in the form of [optimal path length, row, col]. For\\n# the grid shown below, your function should output\\n# [11, 4, 5].\\n#\\n# If there is no valid path from the start point\\n# to the goal, your function should return the string\\n# 'fail'\\n# ----------\\n\\n# Grid format:\\n#   0 = Navigable space\\n#   1 = Occupied space\\n\\n\\ngrid = [\\n    [0, 0, 1, 0, 0, 0],\\n    [0, 0, 1, 0, 0, 0],\\n    [0, 0, 0, 0, 1, 0],\\n    [0, 0, 1, 1, 1, 0],\\n    [0, 0, 0, 0, 1, 0],\\n]\\ninit = [0, 0]\\ngoal = [len(grid) - 1, len(grid[0]) - 1]\\ncost = 1\\n\\ndelta = [[-1, 0], [0, -1], [1, 0], [0, 1]]  # go up  # go left  # go down  # go right\\n\\ndelta_name = [\\\"^\\\", \\\"<\\\", \\\"v\\\", \\\">\\\"]\\n\\n\\ndef search(grid, init, goal, cost):\\n    # ----------------------------------------\\n    # insert code here\\n    # ----------------------------------------\\n\\n    # list of cells once they're expanded so we don't expand them again\\n    # assigns an array of the same size as the field grid\\n    # 0 meaning it's still open, 1 meaning it's being closed\\n    closed = [[0 for row in range(len(grid[0]))] for col in range(len(grid))]\\n    # initialize the starting location as checked\\n    closed[init[0]][init[1]] = 1\\n\\n    # assign the coordinates to x, y, and a g-value of 0\\n    x = init[0]\\n    y = init[1]\\n    g = 0\\n\\n    # initial open list is going to be just 1 element of my initial coordinates and the g value of 0\\n    open = [[g, x, y]]\\n\\n    # set this flag true if goal is found\\n    found = False\\n    # set this flag true if goal is not found and there are no further options to expand\\n    giveup = False\\n\\n    # algorithm\\n    while not found and not giveup:\\n        # check if we still have elements on the open list\\n        if len(open) == 0:\\n            resign = True\\n        #             print (\\\"fail\\\")\\n        else:\\n            # remove node from list i.e. remove the element with the smallest g-value\\n            open.sort()\\n            open.reverse()\\n            next = open.pop()\\n            x = next[1]\\n            y = next[2]\\n            g = next[0]\\n\\n            # check if we are done\\n            if x == goal[0] and y == goal[1]:\\n                found = True\\n                print(next)\\n            else:\\n                # expand winning element and add to new open list\\n                for i in range(len(delta)):\\n                    x2 = x + delta[i][0]\\n                    y2 = y + delta[i][1]\\n                    if x2 >= 0 and x2 < len(grid) and y2 >= 0 and y2 < len(grid[0]):\\n                        if closed[x2][y2] == 0 and grid[x2][y2] == 0:\\n                            g2 = g + cost\\n                            open.append([g2, x2, y2])\\n                            closed[x2][y2] = 1\\n\\n    return [g, x, y]\\n\\n\\nsearch(grid, init, goal, cost)\";\n",
       "                var nbb_cells = Jupyter.notebook.get_cells();\n",
       "                for (var i = 0; i < nbb_cells.length; ++i) {\n",
       "                    if (nbb_cells[i].input_prompt_number == nbb_cell_id) {\n",
       "                        if (nbb_cells[i].get_text() == nbb_unformatted_code) {\n",
       "                             nbb_cells[i].set_text(nbb_formatted_code);\n",
       "                        }\n",
       "                        break;\n",
       "                    }\n",
       "                }\n",
       "            }, 500);\n",
       "            "
      ],
      "text/plain": [
       "<IPython.core.display.Javascript object>"
      ]
     },
     "metadata": {},
     "output_type": "display_data"
    }
   ],
   "source": [
    "# ----------\n",
    "# User Instructions:\n",
    "#\n",
    "# Define a function, search() that returns a list\n",
    "# in the form of [optimal path length, row, col]. For\n",
    "# the grid shown below, your function should output\n",
    "# [11, 4, 5].\n",
    "#\n",
    "# If there is no valid path from the start point\n",
    "# to the goal, your function should return the string\n",
    "# 'fail'\n",
    "# ----------\n",
    "\n",
    "# Grid format:\n",
    "#   0 = Navigable space\n",
    "#   1 = Occupied space\n",
    "\n",
    "\n",
    "grid = [\n",
    "    [0, 0, 1, 0, 0, 0],\n",
    "    [0, 0, 1, 0, 0, 0],\n",
    "    [0, 0, 0, 0, 1, 0],\n",
    "    [0, 0, 1, 1, 1, 0],\n",
    "    [0, 0, 0, 0, 1, 0],\n",
    "]\n",
    "init = [0, 0]\n",
    "goal = [len(grid) - 1, len(grid[0]) - 1]\n",
    "cost = 1\n",
    "\n",
    "delta = [[-1, 0], [0, -1], [1, 0], [0, 1]]  # go up  # go left  # go down  # go right\n",
    "\n",
    "delta_name = [\"^\", \"<\", \"v\", \">\"]\n",
    "\n",
    "\n",
    "def search(grid, init, goal, cost):\n",
    "    # ----------------------------------------\n",
    "    # insert code here\n",
    "    # ----------------------------------------\n",
    "\n",
    "    # list of cells once they're expanded so we don't expand them again\n",
    "    # assigns an array of the same size as the field grid\n",
    "    # 0 meaning it's still open, 1 meaning it's being closed\n",
    "    closed = [[0 for row in range(len(grid[0]))] for col in range(len(grid))]\n",
    "    # initialize the starting location as checked\n",
    "    closed[init[0]][init[1]] = 1\n",
    "\n",
    "    # assign the coordinates to x, y, and a g-value of 0\n",
    "    x = init[0]\n",
    "    y = init[1]\n",
    "    g = 0\n",
    "\n",
    "    # initial open list is going to be just 1 element of my initial coordinates and the g value of 0\n",
    "    open = [[g, x, y]]\n",
    "\n",
    "    # set this flag true if goal is found\n",
    "    found = False\n",
    "    # set this flag true if goal is not found and there are no further options to expand\n",
    "    giveup = False\n",
    "\n",
    "    # algorithm\n",
    "    while not found and not giveup:\n",
    "        # check if we still have elements on the open list\n",
    "        if len(open) == 0:\n",
    "            resign = True\n",
    "        #             print (\"fail\")\n",
    "        else:\n",
    "            # remove node from list i.e. remove the element with the smallest g-value\n",
    "            open.sort()\n",
    "            open.reverse()\n",
    "            next = open.pop()\n",
    "            x = next[1]\n",
    "            y = next[2]\n",
    "            g = next[0]\n",
    "\n",
    "            # check if we are done\n",
    "            if x == goal[0] and y == goal[1]:\n",
    "                found = True\n",
    "                print(next)\n",
    "            else:\n",
    "                # expand winning element and add to new open list\n",
    "                for i in range(len(delta)):\n",
    "                    x2 = x + delta[i][0]\n",
    "                    y2 = y + delta[i][1]\n",
    "                    if x2 >= 0 and x2 < len(grid) and y2 >= 0 and y2 < len(grid[0]):\n",
    "                        if closed[x2][y2] == 0 and grid[x2][y2] == 0:\n",
    "                            g2 = g + cost\n",
    "                            open.append([g2, x2, y2])\n",
    "                            closed[x2][y2] = 1\n",
    "\n",
    "    return [g, x, y]\n",
    "\n",
    "\n",
    "search(grid, init, goal, cost)"
   ]
  },
  {
   "cell_type": "markdown",
   "metadata": {},
   "source": [
    "# Expansion Grid"
   ]
  },
  {
   "cell_type": "markdown",
   "metadata": {},
   "source": [
    "- in the next programming quiz, I would like you to print out a table called *expand*, which does not exist right now\n",
    "- expand is a table of the same size as grid that maintains at what step each node was expanded\n",
    "- in this table, every node that has never been expanded, including all the obstacle nodes should have the value of -1\n",
    "- when a node is expanded, it should get a unique number that is incremented from expansion to expansion and counts from 0, in this case, all the way to 22 for reaching the goal stated\n",
    "- to give you a second example of how the quotes should work, let me block off the goal by adding 1 over here so there's an entire items that block the left side from the right side\n",
    "- now the switch fails, and in the expansion list you find that all nodes on the right side have never been expanded"
   ]
  },
  {
   "cell_type": "code",
   "execution_count": 3,
   "metadata": {},
   "outputs": [
    {
     "name": "stdout",
     "output_type": "stream",
     "text": [
      "[9, 4, 5]\n"
     ]
    },
    {
     "data": {
      "text/plain": [
       "[[0, 1, -1, 11, 15, 18],\n",
       " [2, 3, 5, 8, 12, 16],\n",
       " [4, 6, -1, 13, -1, 19],\n",
       " [7, 9, -1, 17, -1, 21],\n",
       " [10, 14, -1, 20, -1, 22]]"
      ]
     },
     "execution_count": 3,
     "metadata": {},
     "output_type": "execute_result"
    },
    {
     "data": {
      "application/javascript": [
       "\n",
       "            setTimeout(function() {\n",
       "                var nbb_cell_id = 3;\n",
       "                var nbb_unformatted_code = \"# -----------\\n# User Instructions:\\n#\\n# Modify the function search so that it returns\\n# a table of values called expand. This table\\n# will keep track of which step each node was\\n# expanded.\\n#\\n# Make sure that the initial cell in the grid\\n# you return has the value 0.\\n# ----------\\n\\ngrid = [\\n    [0, 0, 1, 0, 0, 0],\\n    [0, 0, 0, 0, 0, 0],\\n    [0, 0, 1, 0, 1, 0],\\n    [0, 0, 1, 0, 1, 0],\\n    [0, 0, 1, 0, 1, 0],\\n]\\ninit = [0, 0]\\ngoal = [len(grid) - 1, len(grid[0]) - 1]\\ncost = 1\\n\\ndelta = [[-1, 0], [0, -1], [1, 0], [0, 1]]  # go up  # go left  # go down  # go right\\n\\ndelta_name = [\\\"^\\\", \\\"<\\\", \\\"v\\\", \\\">\\\"]\\n\\n\\ndef search(grid, init, goal, cost):\\n    # ----------------------------------------\\n    # insert code here\\n    # ----------------------------------------\\n\\n    # list of cells once they're expanded so we don't expand them again\\n    # assigns an array of the same size as the field grid\\n    # 0 meaning it's still open, 1 meaning it's being closed\\n    closed = [[0 for row in range(len(grid[0]))] for col in range(len(grid))]\\n    # initialize the starting location as checked\\n    closed[init[0]][init[1]] = 1\\n\\n    # make an expand table of exactly the same size as closed but initialized it with -1.\\n    expand = [[-1 for row in range(len(grid[0]))] for col in range(len(grid))]\\n\\n    # assign the coordinates to x, y, and a g-value of 0\\n    x = init[0]\\n    y = init[1]\\n    g = 0\\n\\n    # initial open list is going to be just 1 element of my initial coordinates and the g value of 0\\n    open = [[g, x, y]]\\n\\n    # set this flag true if goal is found\\n    found = False\\n    # set this flag true if goal is not found and there are no further options to expand\\n    giveup = False\\n    # counts the expansion\\n    count = 0\\n\\n    # algorithm\\n    while not found and not giveup:\\n        # check if we still have elements on the open list\\n        if len(open) == 0:\\n            resign = True\\n        #             print (\\\"fail\\\")\\n        else:\\n            # remove node from list i.e. remove the element with the smallest g-value\\n            open.sort()\\n            open.reverse()\\n            next = open.pop()\\n            x = next[1]\\n            y = next[2]\\n            g = next[0]\\n            expand[x][y] = count\\n            count += 1\\n\\n            # check if we are done\\n            if x == goal[0] and y == goal[1]:\\n                found = True\\n                print(next)\\n            else:\\n                # expand winning element and add to new open list\\n                for i in range(len(delta)):\\n                    x2 = x + delta[i][0]\\n                    y2 = y + delta[i][1]\\n                    if x2 >= 0 and x2 < len(grid) and y2 >= 0 and y2 < len(grid[0]):\\n                        if closed[x2][y2] == 0 and grid[x2][y2] == 0:\\n                            g2 = g + cost\\n                            open.append([g2, x2, y2])\\n                            closed[x2][y2] = 1\\n\\n    return expand\\n\\n\\nsearch(grid, init, goal, cost)\";\n",
       "                var nbb_formatted_code = \"# -----------\\n# User Instructions:\\n#\\n# Modify the function search so that it returns\\n# a table of values called expand. This table\\n# will keep track of which step each node was\\n# expanded.\\n#\\n# Make sure that the initial cell in the grid\\n# you return has the value 0.\\n# ----------\\n\\ngrid = [\\n    [0, 0, 1, 0, 0, 0],\\n    [0, 0, 0, 0, 0, 0],\\n    [0, 0, 1, 0, 1, 0],\\n    [0, 0, 1, 0, 1, 0],\\n    [0, 0, 1, 0, 1, 0],\\n]\\ninit = [0, 0]\\ngoal = [len(grid) - 1, len(grid[0]) - 1]\\ncost = 1\\n\\ndelta = [[-1, 0], [0, -1], [1, 0], [0, 1]]  # go up  # go left  # go down  # go right\\n\\ndelta_name = [\\\"^\\\", \\\"<\\\", \\\"v\\\", \\\">\\\"]\\n\\n\\ndef search(grid, init, goal, cost):\\n    # ----------------------------------------\\n    # insert code here\\n    # ----------------------------------------\\n\\n    # list of cells once they're expanded so we don't expand them again\\n    # assigns an array of the same size as the field grid\\n    # 0 meaning it's still open, 1 meaning it's being closed\\n    closed = [[0 for row in range(len(grid[0]))] for col in range(len(grid))]\\n    # initialize the starting location as checked\\n    closed[init[0]][init[1]] = 1\\n\\n    # make an expand table of exactly the same size as closed but initialized it with -1.\\n    expand = [[-1 for row in range(len(grid[0]))] for col in range(len(grid))]\\n\\n    # assign the coordinates to x, y, and a g-value of 0\\n    x = init[0]\\n    y = init[1]\\n    g = 0\\n\\n    # initial open list is going to be just 1 element of my initial coordinates and the g value of 0\\n    open = [[g, x, y]]\\n\\n    # set this flag true if goal is found\\n    found = False\\n    # set this flag true if goal is not found and there are no further options to expand\\n    giveup = False\\n    # counts the expansion\\n    count = 0\\n\\n    # algorithm\\n    while not found and not giveup:\\n        # check if we still have elements on the open list\\n        if len(open) == 0:\\n            resign = True\\n        #             print (\\\"fail\\\")\\n        else:\\n            # remove node from list i.e. remove the element with the smallest g-value\\n            open.sort()\\n            open.reverse()\\n            next = open.pop()\\n            x = next[1]\\n            y = next[2]\\n            g = next[0]\\n            expand[x][y] = count\\n            count += 1\\n\\n            # check if we are done\\n            if x == goal[0] and y == goal[1]:\\n                found = True\\n                print(next)\\n            else:\\n                # expand winning element and add to new open list\\n                for i in range(len(delta)):\\n                    x2 = x + delta[i][0]\\n                    y2 = y + delta[i][1]\\n                    if x2 >= 0 and x2 < len(grid) and y2 >= 0 and y2 < len(grid[0]):\\n                        if closed[x2][y2] == 0 and grid[x2][y2] == 0:\\n                            g2 = g + cost\\n                            open.append([g2, x2, y2])\\n                            closed[x2][y2] = 1\\n\\n    return expand\\n\\n\\nsearch(grid, init, goal, cost)\";\n",
       "                var nbb_cells = Jupyter.notebook.get_cells();\n",
       "                for (var i = 0; i < nbb_cells.length; ++i) {\n",
       "                    if (nbb_cells[i].input_prompt_number == nbb_cell_id) {\n",
       "                        if (nbb_cells[i].get_text() == nbb_unformatted_code) {\n",
       "                             nbb_cells[i].set_text(nbb_formatted_code);\n",
       "                        }\n",
       "                        break;\n",
       "                    }\n",
       "                }\n",
       "            }, 500);\n",
       "            "
      ],
      "text/plain": [
       "<IPython.core.display.Javascript object>"
      ]
     },
     "metadata": {},
     "output_type": "display_data"
    }
   ],
   "source": [
    "# -----------\n",
    "# User Instructions:\n",
    "#\n",
    "# Modify the function search so that it returns\n",
    "# a table of values called expand. This table\n",
    "# will keep track of which step each node was\n",
    "# expanded.\n",
    "#\n",
    "# Make sure that the initial cell in the grid\n",
    "# you return has the value 0.\n",
    "# ----------\n",
    "\n",
    "grid = [\n",
    "    [0, 0, 1, 0, 0, 0],\n",
    "    [0, 0, 0, 0, 0, 0],\n",
    "    [0, 0, 1, 0, 1, 0],\n",
    "    [0, 0, 1, 0, 1, 0],\n",
    "    [0, 0, 1, 0, 1, 0],\n",
    "]\n",
    "init = [0, 0]\n",
    "goal = [len(grid) - 1, len(grid[0]) - 1]\n",
    "cost = 1\n",
    "\n",
    "delta = [[-1, 0], [0, -1], [1, 0], [0, 1]]  # go up  # go left  # go down  # go right\n",
    "\n",
    "delta_name = [\"^\", \"<\", \"v\", \">\"]\n",
    "\n",
    "\n",
    "def search(grid, init, goal, cost):\n",
    "    # ----------------------------------------\n",
    "    # insert code here\n",
    "    # ----------------------------------------\n",
    "\n",
    "    # list of cells once they're expanded so we don't expand them again\n",
    "    # assigns an array of the same size as the field grid\n",
    "    # 0 meaning it's still open, 1 meaning it's being closed\n",
    "    closed = [[0 for row in range(len(grid[0]))] for col in range(len(grid))]\n",
    "    # initialize the starting location as checked\n",
    "    closed[init[0]][init[1]] = 1\n",
    "\n",
    "    # make an expand table of exactly the same size as closed but initialized it with -1.\n",
    "    expand = [[-1 for row in range(len(grid[0]))] for col in range(len(grid))]\n",
    "\n",
    "    # assign the coordinates to x, y, and a g-value of 0\n",
    "    x = init[0]\n",
    "    y = init[1]\n",
    "    g = 0\n",
    "\n",
    "    # initial open list is going to be just 1 element of my initial coordinates and the g value of 0\n",
    "    open = [[g, x, y]]\n",
    "\n",
    "    # set this flag true if goal is found\n",
    "    found = False\n",
    "    # set this flag true if goal is not found and there are no further options to expand\n",
    "    giveup = False\n",
    "    # counts the expansion\n",
    "    count = 0\n",
    "\n",
    "    # algorithm\n",
    "    while not found and not giveup:\n",
    "        # check if we still have elements on the open list\n",
    "        if len(open) == 0:\n",
    "            resign = True\n",
    "        #             print (\"fail\")\n",
    "        else:\n",
    "            # remove node from list i.e. remove the element with the smallest g-value\n",
    "            open.sort()\n",
    "            open.reverse()\n",
    "            next = open.pop()\n",
    "            x = next[1]\n",
    "            y = next[2]\n",
    "            g = next[0]\n",
    "            expand[x][y] = count\n",
    "            count += 1\n",
    "\n",
    "            # check if we are done\n",
    "            if x == goal[0] and y == goal[1]:\n",
    "                found = True\n",
    "                print(next)\n",
    "            else:\n",
    "                # expand winning element and add to new open list\n",
    "                for i in range(len(delta)):\n",
    "                    x2 = x + delta[i][0]\n",
    "                    y2 = y + delta[i][1]\n",
    "                    if x2 >= 0 and x2 < len(grid) and y2 >= 0 and y2 < len(grid[0]):\n",
    "                        if closed[x2][y2] == 0 and grid[x2][y2] == 0:\n",
    "                            g2 = g + cost\n",
    "                            open.append([g2, x2, y2])\n",
    "                            closed[x2][y2] = 1\n",
    "\n",
    "    return expand\n",
    "\n",
    "\n",
    "search(grid, init, goal, cost)"
   ]
  },
  {
   "cell_type": "markdown",
   "metadata": {},
   "source": [
    "# Print Path"
   ]
  },
  {
   "cell_type": "markdown",
   "metadata": {},
   "source": [
    "- I would like you to augment this code to print something entirely different, which is the final solution\n",
    "- this is nothing to do with expand, and you have to implement a new delta structure for this similar to expand\n",
    "- print the optimal path with arrows and in the end we find a star, which indicates the location of the goal"
   ]
  },
  {
   "cell_type": "code",
   "execution_count": 4,
   "metadata": {
    "scrolled": true
   },
   "outputs": [
    {
     "name": "stdout",
     "output_type": "stream",
     "text": [
      "[9, 4, 5]\n"
     ]
    },
    {
     "data": {
      "text/plain": [
       "[['>', 'v', ' ', ' ', ' ', ' '],\n",
       " [' ', '>', '>', '>', '>', 'v'],\n",
       " [' ', ' ', ' ', ' ', ' ', 'v'],\n",
       " [' ', ' ', ' ', ' ', ' ', 'v'],\n",
       " [' ', ' ', ' ', ' ', ' ', '*']]"
      ]
     },
     "execution_count": 4,
     "metadata": {},
     "output_type": "execute_result"
    },
    {
     "data": {
      "application/javascript": [
       "\n",
       "            setTimeout(function() {\n",
       "                var nbb_cell_id = 4;\n",
       "                var nbb_unformatted_code = \"# -----------\\n# User Instructions:\\n#\\n# Modify the the search function so that it returns\\n# a shortest path as follows:\\n#\\n# [['>', 'v', ' ', ' ', ' ', ' '],\\n#  [' ', '>', '>', '>', '>', 'v'],\\n#  [' ', ' ', ' ', ' ', ' ', 'v'],\\n#  [' ', ' ', ' ', ' ', ' ', 'v'],\\n#  [' ', ' ', ' ', ' ', ' ', '*']]\\n#\\n# Where '>', '<', '^', and 'v' refer to right, left,\\n# up, and down motions. Note that the 'v' should be\\n# lowercase. '*' should mark the goal cell.\\n#\\n# You may assume that all test cases for this function\\n# will have a path from init to goal.\\n# ----------\\n\\ngrid = [\\n    [0, 0, 1, 0, 0, 0],\\n    [0, 0, 0, 0, 0, 0],\\n    [0, 0, 1, 0, 1, 0],\\n    [0, 0, 1, 0, 1, 0],\\n    [0, 0, 1, 0, 1, 0],\\n]\\ninit = [0, 0]\\ngoal = [len(grid) - 1, len(grid[0]) - 1]\\ncost = 1\\n\\ndelta = [[-1, 0], [0, -1], [1, 0], [0, 1]]  # go up  # go left  # go down  # go right\\n\\ndelta_name = [\\\"^\\\", \\\"<\\\", \\\"v\\\", \\\">\\\"]\\n\\n\\ndef search(grid, init, goal, cost):\\n    # ----------------------------------------\\n    # insert code here\\n    # ----------------------------------------\\n\\n    # list of cells once they're expanded so we don't expand them again\\n    # assigns an array of the same size as the field grid\\n    # 0 meaning it's still open, 1 meaning it's being closed\\n    closed = [[0 for row in range(len(grid[0]))] for col in range(len(grid))]\\n    # initialize the starting location as checked\\n    closed[init[0]][init[1]] = 1\\n\\n    # make an expand table of exactly the same size as closed but initialized it with -1.\\n    expand = [[-1 for row in range(len(grid[0]))] for col in range(len(grid))]\\n\\n    # make a table to memorize for each cell what action it took to get there\\n    action = [[-1 for row in range(len(grid[0]))] for col in range(len(grid))]\\n\\n    # assign the coordinates to x, y, and a g-value of 0\\n    x = init[0]\\n    y = init[1]\\n    g = 0\\n\\n    # initial open list is going to be just 1 element of my initial coordinates and the g value of 0\\n    open = [[g, x, y]]\\n\\n    # set this flag true if goal is found\\n    found = False\\n    # set this flag true if goal is not found and there are no further options to expand\\n    giveup = False\\n    # counts the expansion\\n    count = 0\\n\\n    # algorithm\\n    while not found and not giveup:\\n        # check if we still have elements on the open list\\n        if len(open) == 0:\\n            resign = True\\n        #             print (\\\"fail\\\")\\n        else:\\n            # remove node from list i.e. remove the element with the smallest g-value\\n            open.sort()\\n            open.reverse()\\n            next = open.pop()\\n            x = next[1]\\n            y = next[2]\\n            g = next[0]\\n            expand[x][y] = count\\n            count += 1\\n\\n            # check if we are done\\n            if x == goal[0] and y == goal[1]:\\n                found = True\\n                print(next)\\n            else:\\n                # expand winning element and add to new open list\\n                for i in range(len(delta)):\\n                    x2 = x + delta[i][0]\\n                    y2 = y + delta[i][1]\\n                    if x2 >= 0 and x2 < len(grid) and y2 >= 0 and y2 < len(grid[0]):\\n                        if closed[x2][y2] == 0 and grid[x2][y2] == 0:\\n                            g2 = g + cost\\n                            open.append([g2, x2, y2])\\n                            closed[x2][y2] = 1\\n                            action[x2][y2] = i\\n\\n    # resulting table output\\n    policy = [[\\\" \\\" for row in range(len(grid[0]))] for col in range(len(grid))]\\n    x = goal[0]\\n    y = goal[1]\\n    policy[x][y] = \\\"*\\\"\\n    while x != init[0] or y != init[1]:\\n        x2 = x - delta[action[x][y]][0]\\n        y2 = y - delta[action[x][y]][1]\\n        policy[x2][y2] = delta_name[action[x][y]]\\n        x = x2\\n        y = y2\\n\\n    return policy\\n\\n\\nsearch(grid, init, goal, cost)\";\n",
       "                var nbb_formatted_code = \"# -----------\\n# User Instructions:\\n#\\n# Modify the the search function so that it returns\\n# a shortest path as follows:\\n#\\n# [['>', 'v', ' ', ' ', ' ', ' '],\\n#  [' ', '>', '>', '>', '>', 'v'],\\n#  [' ', ' ', ' ', ' ', ' ', 'v'],\\n#  [' ', ' ', ' ', ' ', ' ', 'v'],\\n#  [' ', ' ', ' ', ' ', ' ', '*']]\\n#\\n# Where '>', '<', '^', and 'v' refer to right, left,\\n# up, and down motions. Note that the 'v' should be\\n# lowercase. '*' should mark the goal cell.\\n#\\n# You may assume that all test cases for this function\\n# will have a path from init to goal.\\n# ----------\\n\\ngrid = [\\n    [0, 0, 1, 0, 0, 0],\\n    [0, 0, 0, 0, 0, 0],\\n    [0, 0, 1, 0, 1, 0],\\n    [0, 0, 1, 0, 1, 0],\\n    [0, 0, 1, 0, 1, 0],\\n]\\ninit = [0, 0]\\ngoal = [len(grid) - 1, len(grid[0]) - 1]\\ncost = 1\\n\\ndelta = [[-1, 0], [0, -1], [1, 0], [0, 1]]  # go up  # go left  # go down  # go right\\n\\ndelta_name = [\\\"^\\\", \\\"<\\\", \\\"v\\\", \\\">\\\"]\\n\\n\\ndef search(grid, init, goal, cost):\\n    # ----------------------------------------\\n    # insert code here\\n    # ----------------------------------------\\n\\n    # list of cells once they're expanded so we don't expand them again\\n    # assigns an array of the same size as the field grid\\n    # 0 meaning it's still open, 1 meaning it's being closed\\n    closed = [[0 for row in range(len(grid[0]))] for col in range(len(grid))]\\n    # initialize the starting location as checked\\n    closed[init[0]][init[1]] = 1\\n\\n    # make an expand table of exactly the same size as closed but initialized it with -1.\\n    expand = [[-1 for row in range(len(grid[0]))] for col in range(len(grid))]\\n\\n    # make a table to memorize for each cell what action it took to get there\\n    action = [[-1 for row in range(len(grid[0]))] for col in range(len(grid))]\\n\\n    # assign the coordinates to x, y, and a g-value of 0\\n    x = init[0]\\n    y = init[1]\\n    g = 0\\n\\n    # initial open list is going to be just 1 element of my initial coordinates and the g value of 0\\n    open = [[g, x, y]]\\n\\n    # set this flag true if goal is found\\n    found = False\\n    # set this flag true if goal is not found and there are no further options to expand\\n    giveup = False\\n    # counts the expansion\\n    count = 0\\n\\n    # algorithm\\n    while not found and not giveup:\\n        # check if we still have elements on the open list\\n        if len(open) == 0:\\n            resign = True\\n        #             print (\\\"fail\\\")\\n        else:\\n            # remove node from list i.e. remove the element with the smallest g-value\\n            open.sort()\\n            open.reverse()\\n            next = open.pop()\\n            x = next[1]\\n            y = next[2]\\n            g = next[0]\\n            expand[x][y] = count\\n            count += 1\\n\\n            # check if we are done\\n            if x == goal[0] and y == goal[1]:\\n                found = True\\n                print(next)\\n            else:\\n                # expand winning element and add to new open list\\n                for i in range(len(delta)):\\n                    x2 = x + delta[i][0]\\n                    y2 = y + delta[i][1]\\n                    if x2 >= 0 and x2 < len(grid) and y2 >= 0 and y2 < len(grid[0]):\\n                        if closed[x2][y2] == 0 and grid[x2][y2] == 0:\\n                            g2 = g + cost\\n                            open.append([g2, x2, y2])\\n                            closed[x2][y2] = 1\\n                            action[x2][y2] = i\\n\\n    # resulting table output\\n    policy = [[\\\" \\\" for row in range(len(grid[0]))] for col in range(len(grid))]\\n    x = goal[0]\\n    y = goal[1]\\n    policy[x][y] = \\\"*\\\"\\n    while x != init[0] or y != init[1]:\\n        x2 = x - delta[action[x][y]][0]\\n        y2 = y - delta[action[x][y]][1]\\n        policy[x2][y2] = delta_name[action[x][y]]\\n        x = x2\\n        y = y2\\n\\n    return policy\\n\\n\\nsearch(grid, init, goal, cost)\";\n",
       "                var nbb_cells = Jupyter.notebook.get_cells();\n",
       "                for (var i = 0; i < nbb_cells.length; ++i) {\n",
       "                    if (nbb_cells[i].input_prompt_number == nbb_cell_id) {\n",
       "                        if (nbb_cells[i].get_text() == nbb_unformatted_code) {\n",
       "                             nbb_cells[i].set_text(nbb_formatted_code);\n",
       "                        }\n",
       "                        break;\n",
       "                    }\n",
       "                }\n",
       "            }, 500);\n",
       "            "
      ],
      "text/plain": [
       "<IPython.core.display.Javascript object>"
      ]
     },
     "metadata": {},
     "output_type": "display_data"
    }
   ],
   "source": [
    "# -----------\n",
    "# User Instructions:\n",
    "#\n",
    "# Modify the the search function so that it returns\n",
    "# a shortest path as follows:\n",
    "#\n",
    "# [['>', 'v', ' ', ' ', ' ', ' '],\n",
    "#  [' ', '>', '>', '>', '>', 'v'],\n",
    "#  [' ', ' ', ' ', ' ', ' ', 'v'],\n",
    "#  [' ', ' ', ' ', ' ', ' ', 'v'],\n",
    "#  [' ', ' ', ' ', ' ', ' ', '*']]\n",
    "#\n",
    "# Where '>', '<', '^', and 'v' refer to right, left,\n",
    "# up, and down motions. Note that the 'v' should be\n",
    "# lowercase. '*' should mark the goal cell.\n",
    "#\n",
    "# You may assume that all test cases for this function\n",
    "# will have a path from init to goal.\n",
    "# ----------\n",
    "\n",
    "grid = [\n",
    "    [0, 0, 1, 0, 0, 0],\n",
    "    [0, 0, 0, 0, 0, 0],\n",
    "    [0, 0, 1, 0, 1, 0],\n",
    "    [0, 0, 1, 0, 1, 0],\n",
    "    [0, 0, 1, 0, 1, 0],\n",
    "]\n",
    "init = [0, 0]\n",
    "goal = [len(grid) - 1, len(grid[0]) - 1]\n",
    "cost = 1\n",
    "\n",
    "delta = [[-1, 0], [0, -1], [1, 0], [0, 1]]  # go up  # go left  # go down  # go right\n",
    "\n",
    "delta_name = [\"^\", \"<\", \"v\", \">\"]\n",
    "\n",
    "\n",
    "def search(grid, init, goal, cost):\n",
    "    # ----------------------------------------\n",
    "    # insert code here\n",
    "    # ----------------------------------------\n",
    "\n",
    "    # list of cells once they're expanded so we don't expand them again\n",
    "    # assigns an array of the same size as the field grid\n",
    "    # 0 meaning it's still open, 1 meaning it's being closed\n",
    "    closed = [[0 for row in range(len(grid[0]))] for col in range(len(grid))]\n",
    "    # initialize the starting location as checked\n",
    "    closed[init[0]][init[1]] = 1\n",
    "\n",
    "    # make an expand table of exactly the same size as closed but initialized it with -1.\n",
    "    expand = [[-1 for row in range(len(grid[0]))] for col in range(len(grid))]\n",
    "\n",
    "    # make a table to memorize for each cell what action it took to get there\n",
    "    action = [[-1 for row in range(len(grid[0]))] for col in range(len(grid))]\n",
    "\n",
    "    # assign the coordinates to x, y, and a g-value of 0\n",
    "    x = init[0]\n",
    "    y = init[1]\n",
    "    g = 0\n",
    "\n",
    "    # initial open list is going to be just 1 element of my initial coordinates and the g value of 0\n",
    "    open = [[g, x, y]]\n",
    "\n",
    "    # set this flag true if goal is found\n",
    "    found = False\n",
    "    # set this flag true if goal is not found and there are no further options to expand\n",
    "    giveup = False\n",
    "    # counts the expansion\n",
    "    count = 0\n",
    "\n",
    "    # algorithm\n",
    "    while not found and not giveup:\n",
    "        # check if we still have elements on the open list\n",
    "        if len(open) == 0:\n",
    "            resign = True\n",
    "        #             print (\"fail\")\n",
    "        else:\n",
    "            # remove node from list i.e. remove the element with the smallest g-value\n",
    "            open.sort()\n",
    "            open.reverse()\n",
    "            next = open.pop()\n",
    "            x = next[1]\n",
    "            y = next[2]\n",
    "            g = next[0]\n",
    "            expand[x][y] = count\n",
    "            count += 1\n",
    "\n",
    "            # check if we are done\n",
    "            if x == goal[0] and y == goal[1]:\n",
    "                found = True\n",
    "                print(next)\n",
    "            else:\n",
    "                # expand winning element and add to new open list\n",
    "                for i in range(len(delta)):\n",
    "                    x2 = x + delta[i][0]\n",
    "                    y2 = y + delta[i][1]\n",
    "                    if x2 >= 0 and x2 < len(grid) and y2 >= 0 and y2 < len(grid[0]):\n",
    "                        if closed[x2][y2] == 0 and grid[x2][y2] == 0:\n",
    "                            g2 = g + cost\n",
    "                            open.append([g2, x2, y2])\n",
    "                            closed[x2][y2] = 1\n",
    "                            action[x2][y2] = i\n",
    "\n",
    "    # resulting table output\n",
    "    policy = [[\" \" for row in range(len(grid[0]))] for col in range(len(grid))]\n",
    "    x = goal[0]\n",
    "    y = goal[1]\n",
    "    policy[x][y] = \"*\"\n",
    "    while x != init[0] or y != init[1]:\n",
    "        x2 = x - delta[action[x][y]][0]\n",
    "        y2 = y - delta[action[x][y]][1]\n",
    "        policy[x2][y2] = delta_name[action[x][y]]\n",
    "        x = x2\n",
    "        y = y2\n",
    "\n",
    "    return policy\n",
    "\n",
    "\n",
    "search(grid, init, goal, cost)"
   ]
  },
  {
   "cell_type": "markdown",
   "metadata": {},
   "source": [
    "- I go from the goal backwards\n",
    "- I iterate from the goal location, x and y, now in backwards order all the way to the start--do this as long as x and y haven't become my initial location yet\n",
    "- I apply the inverse action--so I find the originating state by taking my current state and subtracting the action exactly the same way I added it before using my action field as finding out what action was actually being used\n",
    "- in doing so the first time I do this, x and y was the goal state, and x2, y2 become the state before\n",
    "- I happen to know in the goal state that the action was a down action\n",
    "- I then mark the policy field for the originating state to be the special symbol associated with this specific action over here\n",
    "- then I recourse--I set x and y to the state x2, y2, and I then go a step further--in doing so I will reverse the path step by step, print the associated action, and get exactly this state over here"
   ]
  },
  {
   "cell_type": "markdown",
   "metadata": {},
   "source": [
    "# A*"
   ]
  },
  {
   "cell_type": "markdown",
   "metadata": {},
   "source": [
    "- now I want to come with you to the absolute meat of this class, which is called *A-star*\n",
    "- A* is a variant of the search algorithm that's more efficient than expanding every node\n",
    "- it is one of the most powerful search algorithms that they use for the present day to drive self-driving cars through unstructured environments\n",
    "- if you've gotten so far, and you understand the mechanism for searching by gradually expanding nodes in the open list, A* is almost the same thing but not quite\n",
    "- to illustrate A* I'm going to use the same grid as before but with a different obstacle configuration\n",
    "- this is one way A* performs really well--it does the minimum amount of work necessary to make maximum progress to the goal\n",
    "\n",
    "<img src=\"resources/A-star.png\"/>\n",
    "\n",
    "- A* uses a so called heuristic function, which is a function that has to be set up\n",
    "  - if its all zeros then A* resorts back to the search algorithm we already implemented\n",
    "- if we call the heuristic function *h*, then for each cell it results into a value\n",
    "- let me give you some values--its number of steps it takes to the goal if there was no obstacle\n",
    "  - clearly the numbers I'm putting in right now are not reflective of the actual distance to the goal because they don't consider the obstacles\n",
    "- in a world without obstacles the heuristic function that I'm giving you would actually measure the distance to the goal\n",
    "- the heuristic function has to be an optimistic guess how far we are from the goal\n",
    "- put differently, for any cell $(x, y)$ the heuristic function has to be an optimistic guess, which means a smaller or equal to the actual goal distance from the coordinate $(x, y)$\n",
    "\n",
    "\n",
    "- that sounds a little bit ad hoc, but very often you can give good heuristic functions really easily like in this case over here\n",
    "- if we just know that the agent can move left, right, up, or down, it's really easy to say what is the number of steps it would take the agent with no obstacles to get to the goal location, and that's this table over here that is easily generated automatically\n",
    "- in reality this is an underestimate\n",
    "\n",
    "\n",
    "- the heuristic function doesn't have to be accurate\n",
    "- if it was accurate you probably already solved the planning problem\n",
    "- there has to be a function that helps you understand where to search next in the case of ties, and it has to be just so that it underestimates or at best equals the true distance from the goal\n",
    "- many, many problems have functions like these in our self-driving car\n",
    "- it boils down much to the number of which cell steps but for the Euclidean distance to a target location\n",
    "\n",
    "\n",
    "- let's work with this heuristic function from the example\n",
    "- the key modification now for our search algorithm is really, really simple\n",
    "- we again have an open list, and we add our state, we write down the g-value, but we also write down the g-value plus the heuristic value--this the *f-value*--this is the cumulative g-value plus the heuristic value as looked up in the table\n",
    "- if I now expand, I remove the element with the lowest f-value and not the lowest g-value--that's all there is to A*\n",
    "- by providing additional information, the so called heuristic function, we can guide the search\n",
    "- when we have an impasse we can pick a node that looks closer to the goal state\n",
    "- as a result we will likely make more progress towards the goal"
   ]
  },
  {
   "cell_type": "markdown",
   "metadata": {},
   "source": [
    "# Implement A*"
   ]
  },
  {
   "cell_type": "code",
   "execution_count": 5,
   "metadata": {},
   "outputs": [
    {
     "data": {
      "text/plain": [
       "[[0, -1, -1, -1, -1, -1],\n",
       " [1, -1, -1, -1, -1, -1],\n",
       " [2, -1, -1, -1, -1, -1],\n",
       " [3, -1, 8, 9, 10, 11],\n",
       " [4, 5, 6, 7, -1, 12]]"
      ]
     },
     "execution_count": 5,
     "metadata": {},
     "output_type": "execute_result"
    },
    {
     "data": {
      "application/javascript": [
       "\n",
       "            setTimeout(function() {\n",
       "                var nbb_cell_id = 5;\n",
       "                var nbb_unformatted_code = \"# -----------\\n# User Instructions:\\n#\\n# Modify the the search function so that it becomes\\n# an A* search algorithm as defined in the previous\\n# lectures.\\n#\\n# Your function should return the expanded grid\\n# which shows, for each element, the count when\\n# it was expanded or -1 if the element was never expanded.\\n#\\n# If there is no path from init to goal,\\n# the function should return the string 'fail'\\n# ----------\\n\\ngrid = [\\n    [0, 1, 0, 0, 0, 0],\\n    [0, 1, 0, 0, 0, 0],\\n    [0, 1, 0, 0, 0, 0],\\n    [0, 1, 0, 0, 0, 0],\\n    [0, 0, 0, 0, 1, 0],\\n]\\nheuristic = [\\n    [9, 8, 7, 6, 5, 4],\\n    [8, 7, 6, 5, 4, 3],\\n    [7, 6, 5, 4, 3, 2],\\n    [6, 5, 4, 3, 2, 1],\\n    [5, 4, 3, 2, 1, 0],\\n]\\n\\ninit = [0, 0]\\ngoal = [len(grid) - 1, len(grid[0]) - 1]\\ncost = 1\\n\\ndelta = [[-1, 0], [0, -1], [1, 0], [0, 1]]  # go up  # go left  # go down  # go right\\n\\ndelta_name = [\\\"^\\\", \\\"<\\\", \\\"v\\\", \\\">\\\"]\\n\\n\\ndef search(grid, init, goal, cost, heuristic):\\n    # ----------------------------------------\\n    # modify the code below\\n    # ----------------------------------------\\n    closed = [[0 for col in range(len(grid[0]))] for row in range(len(grid))]\\n    closed[init[0]][init[1]] = 1\\n\\n    expand = [[-1 for col in range(len(grid[0]))] for row in range(len(grid))]\\n    action = [[-1 for col in range(len(grid[0]))] for row in range(len(grid))]\\n\\n    x = init[0]\\n    y = init[1]\\n    g = 0\\n    h = heuristic[x][y]\\n    f = g + h\\n\\n    open = [[f, g, h, x, y]]\\n\\n    found = False  # flag that is set when search is complete\\n    resign = False  # flag set if we can't find expand\\n    count = 0\\n\\n    while not found and not resign:\\n        if len(open) == 0:\\n            resign = True\\n            return \\\"Fail\\\"\\n        else:\\n            open.sort()\\n            open.reverse()\\n            next = open.pop()\\n            x = next[3]\\n            y = next[4]\\n            g = next[1]\\n            expand[x][y] = count\\n            count += 1\\n\\n            if x == goal[0] and y == goal[1]:\\n                found = True\\n            else:\\n                for i in range(len(delta)):\\n                    x2 = x + delta[i][0]\\n                    y2 = y + delta[i][1]\\n                    if x2 >= 0 and x2 < len(grid) and y2 >= 0 and y2 < len(grid[0]):\\n                        if closed[x2][y2] == 0 and grid[x2][y2] == 0:\\n                            g2 = g + cost\\n                            h2 = heuristic[x2][y2]\\n                            f2 = g2 + h2\\n                            open.append([f2, g2, h2, x2, y2])\\n                            closed[x2][y2] = 1\\n\\n    return expand\\n\\n\\nsearch(grid, init, goal, cost, heuristic)\";\n",
       "                var nbb_formatted_code = \"# -----------\\n# User Instructions:\\n#\\n# Modify the the search function so that it becomes\\n# an A* search algorithm as defined in the previous\\n# lectures.\\n#\\n# Your function should return the expanded grid\\n# which shows, for each element, the count when\\n# it was expanded or -1 if the element was never expanded.\\n#\\n# If there is no path from init to goal,\\n# the function should return the string 'fail'\\n# ----------\\n\\ngrid = [\\n    [0, 1, 0, 0, 0, 0],\\n    [0, 1, 0, 0, 0, 0],\\n    [0, 1, 0, 0, 0, 0],\\n    [0, 1, 0, 0, 0, 0],\\n    [0, 0, 0, 0, 1, 0],\\n]\\nheuristic = [\\n    [9, 8, 7, 6, 5, 4],\\n    [8, 7, 6, 5, 4, 3],\\n    [7, 6, 5, 4, 3, 2],\\n    [6, 5, 4, 3, 2, 1],\\n    [5, 4, 3, 2, 1, 0],\\n]\\n\\ninit = [0, 0]\\ngoal = [len(grid) - 1, len(grid[0]) - 1]\\ncost = 1\\n\\ndelta = [[-1, 0], [0, -1], [1, 0], [0, 1]]  # go up  # go left  # go down  # go right\\n\\ndelta_name = [\\\"^\\\", \\\"<\\\", \\\"v\\\", \\\">\\\"]\\n\\n\\ndef search(grid, init, goal, cost, heuristic):\\n    # ----------------------------------------\\n    # modify the code below\\n    # ----------------------------------------\\n    closed = [[0 for col in range(len(grid[0]))] for row in range(len(grid))]\\n    closed[init[0]][init[1]] = 1\\n\\n    expand = [[-1 for col in range(len(grid[0]))] for row in range(len(grid))]\\n    action = [[-1 for col in range(len(grid[0]))] for row in range(len(grid))]\\n\\n    x = init[0]\\n    y = init[1]\\n    g = 0\\n    h = heuristic[x][y]\\n    f = g + h\\n\\n    open = [[f, g, h, x, y]]\\n\\n    found = False  # flag that is set when search is complete\\n    resign = False  # flag set if we can't find expand\\n    count = 0\\n\\n    while not found and not resign:\\n        if len(open) == 0:\\n            resign = True\\n            return \\\"Fail\\\"\\n        else:\\n            open.sort()\\n            open.reverse()\\n            next = open.pop()\\n            x = next[3]\\n            y = next[4]\\n            g = next[1]\\n            expand[x][y] = count\\n            count += 1\\n\\n            if x == goal[0] and y == goal[1]:\\n                found = True\\n            else:\\n                for i in range(len(delta)):\\n                    x2 = x + delta[i][0]\\n                    y2 = y + delta[i][1]\\n                    if x2 >= 0 and x2 < len(grid) and y2 >= 0 and y2 < len(grid[0]):\\n                        if closed[x2][y2] == 0 and grid[x2][y2] == 0:\\n                            g2 = g + cost\\n                            h2 = heuristic[x2][y2]\\n                            f2 = g2 + h2\\n                            open.append([f2, g2, h2, x2, y2])\\n                            closed[x2][y2] = 1\\n\\n    return expand\\n\\n\\nsearch(grid, init, goal, cost, heuristic)\";\n",
       "                var nbb_cells = Jupyter.notebook.get_cells();\n",
       "                for (var i = 0; i < nbb_cells.length; ++i) {\n",
       "                    if (nbb_cells[i].input_prompt_number == nbb_cell_id) {\n",
       "                        if (nbb_cells[i].get_text() == nbb_unformatted_code) {\n",
       "                             nbb_cells[i].set_text(nbb_formatted_code);\n",
       "                        }\n",
       "                        break;\n",
       "                    }\n",
       "                }\n",
       "            }, 500);\n",
       "            "
      ],
      "text/plain": [
       "<IPython.core.display.Javascript object>"
      ]
     },
     "metadata": {},
     "output_type": "display_data"
    }
   ],
   "source": [
    "# -----------\n",
    "# User Instructions:\n",
    "#\n",
    "# Modify the the search function so that it becomes\n",
    "# an A* search algorithm as defined in the previous\n",
    "# lectures.\n",
    "#\n",
    "# Your function should return the expanded grid\n",
    "# which shows, for each element, the count when\n",
    "# it was expanded or -1 if the element was never expanded.\n",
    "#\n",
    "# If there is no path from init to goal,\n",
    "# the function should return the string 'fail'\n",
    "# ----------\n",
    "\n",
    "grid = [\n",
    "    [0, 1, 0, 0, 0, 0],\n",
    "    [0, 1, 0, 0, 0, 0],\n",
    "    [0, 1, 0, 0, 0, 0],\n",
    "    [0, 1, 0, 0, 0, 0],\n",
    "    [0, 0, 0, 0, 1, 0],\n",
    "]\n",
    "heuristic = [\n",
    "    [9, 8, 7, 6, 5, 4],\n",
    "    [8, 7, 6, 5, 4, 3],\n",
    "    [7, 6, 5, 4, 3, 2],\n",
    "    [6, 5, 4, 3, 2, 1],\n",
    "    [5, 4, 3, 2, 1, 0],\n",
    "]\n",
    "\n",
    "init = [0, 0]\n",
    "goal = [len(grid) - 1, len(grid[0]) - 1]\n",
    "cost = 1\n",
    "\n",
    "delta = [[-1, 0], [0, -1], [1, 0], [0, 1]]  # go up  # go left  # go down  # go right\n",
    "\n",
    "delta_name = [\"^\", \"<\", \"v\", \">\"]\n",
    "\n",
    "\n",
    "def search(grid, init, goal, cost, heuristic):\n",
    "    # ----------------------------------------\n",
    "    # modify the code below\n",
    "    # ----------------------------------------\n",
    "    closed = [[0 for col in range(len(grid[0]))] for row in range(len(grid))]\n",
    "    closed[init[0]][init[1]] = 1\n",
    "\n",
    "    expand = [[-1 for col in range(len(grid[0]))] for row in range(len(grid))]\n",
    "    action = [[-1 for col in range(len(grid[0]))] for row in range(len(grid))]\n",
    "\n",
    "    x = init[0]\n",
    "    y = init[1]\n",
    "    g = 0\n",
    "    h = heuristic[x][y]\n",
    "    f = g + h\n",
    "\n",
    "    open = [[f, g, h, x, y]]\n",
    "\n",
    "    found = False  # flag that is set when search is complete\n",
    "    resign = False  # flag set if we can't find expand\n",
    "    count = 0\n",
    "\n",
    "    while not found and not resign:\n",
    "        if len(open) == 0:\n",
    "            resign = True\n",
    "            return \"Fail\"\n",
    "        else:\n",
    "            open.sort()\n",
    "            open.reverse()\n",
    "            next = open.pop()\n",
    "            x = next[3]\n",
    "            y = next[4]\n",
    "            g = next[1]\n",
    "            expand[x][y] = count\n",
    "            count += 1\n",
    "\n",
    "            if x == goal[0] and y == goal[1]:\n",
    "                found = True\n",
    "            else:\n",
    "                for i in range(len(delta)):\n",
    "                    x2 = x + delta[i][0]\n",
    "                    y2 = y + delta[i][1]\n",
    "                    if x2 >= 0 and x2 < len(grid) and y2 >= 0 and y2 < len(grid[0]):\n",
    "                        if closed[x2][y2] == 0 and grid[x2][y2] == 0:\n",
    "                            g2 = g + cost\n",
    "                            h2 = heuristic[x2][y2]\n",
    "                            f2 = g2 + h2\n",
    "                            open.append([f2, g2, h2, x2, y2])\n",
    "                            closed[x2][y2] = 1\n",
    "\n",
    "    return expand\n",
    "\n",
    "\n",
    "search(grid, init, goal, cost, heuristic)"
   ]
  },
  {
   "cell_type": "markdown",
   "metadata": {},
   "source": [
    "# Dynamic Programming"
   ]
  },
  {
   "cell_type": "markdown",
   "metadata": {},
   "source": [
    "- I now want to teach you an alternative method for planning\n",
    "- this alternative method has a number of advantages and a number of disadvantages\n",
    "- it's called dynamic programming, and just like A*, it's going to find you the shortest path\n",
    "- you give it a map of the environment as in A*, one or more goal positions--let's assume just one goal position\n",
    "- what it outputs is the best path from any possible starting location\n",
    "\n",
    "\n",
    "- this planning technique is not just limited to a single start location, but to any start location\n",
    "- why would we worry about this?--let me give you an example\n",
    "- suppose you are the Google self-driving car in an environment just like this\n",
    "\n",
    "<img src=\"resources/dynamic_programming.png\"/>\n",
    "\n",
    "- you're in this little street over here, and you're asked to turn right, but your goal is right over here (circle)\n",
    "- as before, there are two different lanes over here--a left turn lane and a straight lane\n",
    "- if you reach the straight lane, the only way to get to the goal is to go around the block over here and proceed in this direction\n",
    "- the point I want to make is a different one\n",
    "- that is, your attempt to do a lane shift over here might fail--it could be there's a big, big truck in this lane over here, and as you go into the right lane when you're waiting for the truck to disappear, there are these people behind you that honk their horns\n",
    "- you really don't want to wait for the truck to disappear\n",
    "- that means the environment is stochastic--the outcomes of actions are non-deterministic\n",
    "- in our planning so far we ignored this, but in reality that's the case\n",
    "- in reality, you might find yourself--wow, I'm over here (near the block)--it's happened because the world is stochastic, and this truck over here--didn't let you in\n",
    "- what that means is you need a plan not just for the most likely position but you might need a plan for other positions as well\n",
    "\n",
    "\n",
    "- what dynamic programming gives you is a plan for every position\n",
    "- if we redraw this environment as a grid with a goal location and certain obstacles, they dynamic programming gives you an optimal action to do at every single grid cell\n",
    "- as you can see, each grid cell now has a label which is often called policy, and policy is a function that maps the grid cell into an action with the action in this case as a move left, move down, move right, or move up\n",
    "\n",
    "<img src=\"resources/policy.png\"/>"
   ]
  },
  {
   "cell_type": "markdown",
   "metadata": {},
   "source": [
    "# Computing Value"
   ]
  },
  {
   "cell_type": "markdown",
   "metadata": {},
   "source": [
    "- let me make a simple example of a world like this with an obstacle over here\n",
    "- say our goal state is the one in the corner over here (red)\n",
    "- rather than telling you how to compute the optimal policy, which assigns an action to each of these cells, let me instead teach you about *value*\n",
    "- *value function* associates to each grid cell the length of the shortest path to the goal\n",
    "- for the goal, obviously, it is $0$, for each adjacent cell to the goal, it's obviously $1$, etc.\n",
    "- this is recursively calculated by taking the optimal neighbor x-prime, y-prime, considering its value, and by adding the costs it takes to get there, which in our example will be plus $1$\n",
    "- by applying this update equation recursively, we can attain the value function\n",
    "- once we have this value function, we find that the optimal control action is obtained by minimizing the value, which is a hill-climbing type of action\n",
    "\n",
    "<img src=\"resources/value_function.png\"/>"
   ]
  },
  {
   "cell_type": "markdown",
   "metadata": {},
   "source": [
    "# Value Program"
   ]
  },
  {
   "cell_type": "code",
   "execution_count": 6,
   "metadata": {},
   "outputs": [
    {
     "data": {
      "text/plain": [
       "[[11, 99, 7, 6, 5, 4],\n",
       " [10, 99, 6, 5, 4, 3],\n",
       " [9, 99, 5, 4, 3, 2],\n",
       " [8, 99, 4, 3, 2, 1],\n",
       " [7, 6, 5, 4, 99, 0]]"
      ]
     },
     "execution_count": 6,
     "metadata": {},
     "output_type": "execute_result"
    },
    {
     "data": {
      "application/javascript": [
       "\n",
       "            setTimeout(function() {\n",
       "                var nbb_cell_id = 6;\n",
       "                var nbb_unformatted_code = \"# ----------\\n# User Instructions:\\n#\\n# Create a function compute_value which returns\\n# a grid of values. The value of a cell is the minimum\\n# number of moves required to get from the cell to the goal.\\n#\\n# If a cell is a wall or it is impossible to reach the goal from a cell,\\n# assign that cell a value of 99.\\n# ----------\\n\\ngrid = [\\n    [0, 1, 0, 0, 0, 0],\\n    [0, 1, 0, 0, 0, 0],\\n    [0, 1, 0, 0, 0, 0],\\n    [0, 1, 0, 0, 0, 0],\\n    [0, 0, 0, 0, 1, 0],\\n]\\ngoal = [len(grid) - 1, len(grid[0]) - 1]\\ncost = 1  # the cost associated with moving from a cell to an adjacent one\\n\\ndelta = [[-1, 0], [0, -1], [1, 0], [0, 1]]  # go up  # go left  # go down  # go right\\n\\ndelta_name = [\\\"^\\\", \\\"<\\\", \\\"v\\\", \\\">\\\"]\\n\\n\\ndef compute_value(grid, goal, cost):\\n    # ----------------------------------------\\n    # insert code below\\n    # ----------------------------------------\\n    value = [[99 for row in range(len(grid[0]))] for col in range(len(grid))]\\n\\n    change = True\\n    while change:\\n        change = False\\n\\n        for x in range(len(grid)):\\n            for y in range(len(grid[0])):\\n\\n                # check if goal cell\\n                if goal[0] == x and goal[1] == y:\\n                    if value[x][y] > 0:\\n                        value[x][y] = 0\\n                        change = True\\n                elif grid[x][y] == 0:\\n                    for a in range(len(delta)):\\n                        # project a potential next state upon executing an action\\n                        x2 = x + delta[a][0]\\n                        y2 = y + delta[a][1]\\n\\n                        if (\\n                            x2 >= 0\\n                            and x2 < len(grid)\\n                            and y2 >= 0\\n                            and y2 < len(grid[0])\\n                            and grid[x2][y2] == 0\\n                        ):\\n                            v2 = value[x2][y2] + cost\\n\\n                            if v2 < value[x][y]:\\n                                change = True\\n                                value[x][y] = v2\\n    return value\\n\\n\\ncompute_value(grid, goal, cost)\";\n",
       "                var nbb_formatted_code = \"# ----------\\n# User Instructions:\\n#\\n# Create a function compute_value which returns\\n# a grid of values. The value of a cell is the minimum\\n# number of moves required to get from the cell to the goal.\\n#\\n# If a cell is a wall or it is impossible to reach the goal from a cell,\\n# assign that cell a value of 99.\\n# ----------\\n\\ngrid = [\\n    [0, 1, 0, 0, 0, 0],\\n    [0, 1, 0, 0, 0, 0],\\n    [0, 1, 0, 0, 0, 0],\\n    [0, 1, 0, 0, 0, 0],\\n    [0, 0, 0, 0, 1, 0],\\n]\\ngoal = [len(grid) - 1, len(grid[0]) - 1]\\ncost = 1  # the cost associated with moving from a cell to an adjacent one\\n\\ndelta = [[-1, 0], [0, -1], [1, 0], [0, 1]]  # go up  # go left  # go down  # go right\\n\\ndelta_name = [\\\"^\\\", \\\"<\\\", \\\"v\\\", \\\">\\\"]\\n\\n\\ndef compute_value(grid, goal, cost):\\n    # ----------------------------------------\\n    # insert code below\\n    # ----------------------------------------\\n    value = [[99 for row in range(len(grid[0]))] for col in range(len(grid))]\\n\\n    change = True\\n    while change:\\n        change = False\\n\\n        for x in range(len(grid)):\\n            for y in range(len(grid[0])):\\n\\n                # check if goal cell\\n                if goal[0] == x and goal[1] == y:\\n                    if value[x][y] > 0:\\n                        value[x][y] = 0\\n                        change = True\\n                elif grid[x][y] == 0:\\n                    for a in range(len(delta)):\\n                        # project a potential next state upon executing an action\\n                        x2 = x + delta[a][0]\\n                        y2 = y + delta[a][1]\\n\\n                        if (\\n                            x2 >= 0\\n                            and x2 < len(grid)\\n                            and y2 >= 0\\n                            and y2 < len(grid[0])\\n                            and grid[x2][y2] == 0\\n                        ):\\n                            v2 = value[x2][y2] + cost\\n\\n                            if v2 < value[x][y]:\\n                                change = True\\n                                value[x][y] = v2\\n    return value\\n\\n\\ncompute_value(grid, goal, cost)\";\n",
       "                var nbb_cells = Jupyter.notebook.get_cells();\n",
       "                for (var i = 0; i < nbb_cells.length; ++i) {\n",
       "                    if (nbb_cells[i].input_prompt_number == nbb_cell_id) {\n",
       "                        if (nbb_cells[i].get_text() == nbb_unformatted_code) {\n",
       "                             nbb_cells[i].set_text(nbb_formatted_code);\n",
       "                        }\n",
       "                        break;\n",
       "                    }\n",
       "                }\n",
       "            }, 500);\n",
       "            "
      ],
      "text/plain": [
       "<IPython.core.display.Javascript object>"
      ]
     },
     "metadata": {},
     "output_type": "display_data"
    }
   ],
   "source": [
    "# ----------\n",
    "# User Instructions:\n",
    "#\n",
    "# Create a function compute_value which returns\n",
    "# a grid of values. The value of a cell is the minimum\n",
    "# number of moves required to get from the cell to the goal.\n",
    "#\n",
    "# If a cell is a wall or it is impossible to reach the goal from a cell,\n",
    "# assign that cell a value of 99.\n",
    "# ----------\n",
    "\n",
    "grid = [\n",
    "    [0, 1, 0, 0, 0, 0],\n",
    "    [0, 1, 0, 0, 0, 0],\n",
    "    [0, 1, 0, 0, 0, 0],\n",
    "    [0, 1, 0, 0, 0, 0],\n",
    "    [0, 0, 0, 0, 1, 0],\n",
    "]\n",
    "goal = [len(grid) - 1, len(grid[0]) - 1]\n",
    "cost = 1  # the cost associated with moving from a cell to an adjacent one\n",
    "\n",
    "delta = [[-1, 0], [0, -1], [1, 0], [0, 1]]  # go up  # go left  # go down  # go right\n",
    "\n",
    "delta_name = [\"^\", \"<\", \"v\", \">\"]\n",
    "\n",
    "\n",
    "def compute_value(grid, goal, cost):\n",
    "    # ----------------------------------------\n",
    "    # insert code below\n",
    "    # ----------------------------------------\n",
    "    value = [[99 for row in range(len(grid[0]))] for col in range(len(grid))]\n",
    "\n",
    "    change = True\n",
    "    while change:\n",
    "        change = False\n",
    "\n",
    "        for x in range(len(grid)):\n",
    "            for y in range(len(grid[0])):\n",
    "\n",
    "                # check if goal cell\n",
    "                if goal[0] == x and goal[1] == y:\n",
    "                    if value[x][y] > 0:\n",
    "                        value[x][y] = 0\n",
    "                        change = True\n",
    "                elif grid[x][y] == 0:\n",
    "                    for a in range(len(delta)):\n",
    "                        # project a potential next state upon executing an action\n",
    "                        x2 = x + delta[a][0]\n",
    "                        y2 = y + delta[a][1]\n",
    "\n",
    "                        if (\n",
    "                            x2 >= 0\n",
    "                            and x2 < len(grid)\n",
    "                            and y2 >= 0\n",
    "                            and y2 < len(grid[0])\n",
    "                            and grid[x2][y2] == 0\n",
    "                        ):\n",
    "                            v2 = value[x2][y2] + cost\n",
    "\n",
    "                            if v2 < value[x][y]:\n",
    "                                change = True\n",
    "                                value[x][y] = v2\n",
    "    return value\n",
    "\n",
    "\n",
    "compute_value(grid, goal, cost)"
   ]
  },
  {
   "cell_type": "markdown",
   "metadata": {},
   "source": [
    "# Optimum Policy"
   ]
  },
  {
   "cell_type": "code",
   "execution_count": 7,
   "metadata": {},
   "outputs": [
    {
     "data": {
      "text/plain": [
       "[['v', ' ', 'v', 'v', 'v', 'v'],\n",
       " ['v', ' ', 'v', 'v', 'v', 'v'],\n",
       " ['v', ' ', 'v', 'v', 'v', 'v'],\n",
       " ['v', ' ', '>', '>', '>', 'v'],\n",
       " ['>', '>', '^', '^', ' ', '*']]"
      ]
     },
     "execution_count": 7,
     "metadata": {},
     "output_type": "execute_result"
    },
    {
     "data": {
      "application/javascript": [
       "\n",
       "            setTimeout(function() {\n",
       "                var nbb_cell_id = 7;\n",
       "                var nbb_unformatted_code = \"# ----------\\n# User Instructions:\\n#\\n# Write a function optimum_policy that returns\\n# a grid which shows the optimum policy for robot\\n# motion. This means there should be an optimum\\n# direction associated with each navigable cell from\\n# which the goal can be reached.\\n#\\n# Unnavigable cells as well as cells from which\\n# the goal cannot be reached should have a string\\n# containing a single space (' '), as shown in the\\n# previous video. The goal cell should have '*'.\\n# ----------\\n\\ngrid = [\\n    [0, 1, 0, 0, 0, 0],\\n    [0, 1, 0, 0, 0, 0],\\n    [0, 1, 0, 0, 0, 0],\\n    [0, 1, 0, 0, 0, 0],\\n    [0, 0, 0, 0, 1, 0],\\n]\\ninit = [0, 0]\\ngoal = [len(grid) - 1, len(grid[0]) - 1]\\ncost = 1  # the cost associated with moving from a cell to an adjacent one\\n\\ndelta = [[-1, 0], [0, -1], [1, 0], [0, 1]]  # go up  # go left  # go down  # go right\\n\\ndelta_name = [\\\"^\\\", \\\"<\\\", \\\"v\\\", \\\">\\\"]\\n\\n\\ndef optimum_policy(grid, goal, cost):\\n    # ----------------------------------------\\n    # modify code below\\n    # ----------------------------------------\\n    value = [[99 for row in range(len(grid[0]))] for col in range(len(grid))]\\n    policy = [[\\\" \\\" for row in range(len(grid[0]))] for col in range(len(grid))]\\n\\n    change = True\\n\\n    while change:\\n        change = False\\n\\n        for x in range(len(grid)):\\n            for y in range(len(grid[0])):\\n                if goal[0] == x and goal[1] == y:\\n                    if value[x][y] > 0:\\n                        policy[x][y] = \\\"*\\\"\\n                        value[x][y] = 0\\n                        change = True\\n\\n                elif grid[x][y] == 0:\\n                    for a in range(len(delta)):\\n                        x2 = x + delta[a][0]\\n                        y2 = y + delta[a][1]\\n\\n                        if (\\n                            x2 >= 0\\n                            and x2 < len(grid)\\n                            and y2 >= 0\\n                            and y2 < len(grid[0])\\n                            and grid[x2][y2] == 0\\n                        ):\\n                            v2 = value[x2][y2] + cost\\n\\n                            if v2 < value[x][y]:\\n                                change = True\\n                                value[x][y] = v2\\n                                policy[x][y] = delta_name[a]\\n\\n    return policy\\n\\n\\noptimum_policy(grid, goal, cost)\";\n",
       "                var nbb_formatted_code = \"# ----------\\n# User Instructions:\\n#\\n# Write a function optimum_policy that returns\\n# a grid which shows the optimum policy for robot\\n# motion. This means there should be an optimum\\n# direction associated with each navigable cell from\\n# which the goal can be reached.\\n#\\n# Unnavigable cells as well as cells from which\\n# the goal cannot be reached should have a string\\n# containing a single space (' '), as shown in the\\n# previous video. The goal cell should have '*'.\\n# ----------\\n\\ngrid = [\\n    [0, 1, 0, 0, 0, 0],\\n    [0, 1, 0, 0, 0, 0],\\n    [0, 1, 0, 0, 0, 0],\\n    [0, 1, 0, 0, 0, 0],\\n    [0, 0, 0, 0, 1, 0],\\n]\\ninit = [0, 0]\\ngoal = [len(grid) - 1, len(grid[0]) - 1]\\ncost = 1  # the cost associated with moving from a cell to an adjacent one\\n\\ndelta = [[-1, 0], [0, -1], [1, 0], [0, 1]]  # go up  # go left  # go down  # go right\\n\\ndelta_name = [\\\"^\\\", \\\"<\\\", \\\"v\\\", \\\">\\\"]\\n\\n\\ndef optimum_policy(grid, goal, cost):\\n    # ----------------------------------------\\n    # modify code below\\n    # ----------------------------------------\\n    value = [[99 for row in range(len(grid[0]))] for col in range(len(grid))]\\n    policy = [[\\\" \\\" for row in range(len(grid[0]))] for col in range(len(grid))]\\n\\n    change = True\\n\\n    while change:\\n        change = False\\n\\n        for x in range(len(grid)):\\n            for y in range(len(grid[0])):\\n                if goal[0] == x and goal[1] == y:\\n                    if value[x][y] > 0:\\n                        policy[x][y] = \\\"*\\\"\\n                        value[x][y] = 0\\n                        change = True\\n\\n                elif grid[x][y] == 0:\\n                    for a in range(len(delta)):\\n                        x2 = x + delta[a][0]\\n                        y2 = y + delta[a][1]\\n\\n                        if (\\n                            x2 >= 0\\n                            and x2 < len(grid)\\n                            and y2 >= 0\\n                            and y2 < len(grid[0])\\n                            and grid[x2][y2] == 0\\n                        ):\\n                            v2 = value[x2][y2] + cost\\n\\n                            if v2 < value[x][y]:\\n                                change = True\\n                                value[x][y] = v2\\n                                policy[x][y] = delta_name[a]\\n\\n    return policy\\n\\n\\noptimum_policy(grid, goal, cost)\";\n",
       "                var nbb_cells = Jupyter.notebook.get_cells();\n",
       "                for (var i = 0; i < nbb_cells.length; ++i) {\n",
       "                    if (nbb_cells[i].input_prompt_number == nbb_cell_id) {\n",
       "                        if (nbb_cells[i].get_text() == nbb_unformatted_code) {\n",
       "                             nbb_cells[i].set_text(nbb_formatted_code);\n",
       "                        }\n",
       "                        break;\n",
       "                    }\n",
       "                }\n",
       "            }, 500);\n",
       "            "
      ],
      "text/plain": [
       "<IPython.core.display.Javascript object>"
      ]
     },
     "metadata": {},
     "output_type": "display_data"
    }
   ],
   "source": [
    "# ----------\n",
    "# User Instructions:\n",
    "#\n",
    "# Write a function optimum_policy that returns\n",
    "# a grid which shows the optimum policy for robot\n",
    "# motion. This means there should be an optimum\n",
    "# direction associated with each navigable cell from\n",
    "# which the goal can be reached.\n",
    "#\n",
    "# Unnavigable cells as well as cells from which\n",
    "# the goal cannot be reached should have a string\n",
    "# containing a single space (' '), as shown in the\n",
    "# previous video. The goal cell should have '*'.\n",
    "# ----------\n",
    "\n",
    "grid = [\n",
    "    [0, 1, 0, 0, 0, 0],\n",
    "    [0, 1, 0, 0, 0, 0],\n",
    "    [0, 1, 0, 0, 0, 0],\n",
    "    [0, 1, 0, 0, 0, 0],\n",
    "    [0, 0, 0, 0, 1, 0],\n",
    "]\n",
    "init = [0, 0]\n",
    "goal = [len(grid) - 1, len(grid[0]) - 1]\n",
    "cost = 1  # the cost associated with moving from a cell to an adjacent one\n",
    "\n",
    "delta = [[-1, 0], [0, -1], [1, 0], [0, 1]]  # go up  # go left  # go down  # go right\n",
    "\n",
    "delta_name = [\"^\", \"<\", \"v\", \">\"]\n",
    "\n",
    "\n",
    "def optimum_policy(grid, goal, cost):\n",
    "    # ----------------------------------------\n",
    "    # modify code below\n",
    "    # ----------------------------------------\n",
    "    value = [[99 for row in range(len(grid[0]))] for col in range(len(grid))]\n",
    "    policy = [[\" \" for row in range(len(grid[0]))] for col in range(len(grid))]\n",
    "\n",
    "    change = True\n",
    "\n",
    "    while change:\n",
    "        change = False\n",
    "\n",
    "        for x in range(len(grid)):\n",
    "            for y in range(len(grid[0])):\n",
    "                if goal[0] == x and goal[1] == y:\n",
    "                    if value[x][y] > 0:\n",
    "                        policy[x][y] = \"*\"\n",
    "                        value[x][y] = 0\n",
    "                        change = True\n",
    "\n",
    "                elif grid[x][y] == 0:\n",
    "                    for a in range(len(delta)):\n",
    "                        x2 = x + delta[a][0]\n",
    "                        y2 = y + delta[a][1]\n",
    "\n",
    "                        if (\n",
    "                            x2 >= 0\n",
    "                            and x2 < len(grid)\n",
    "                            and y2 >= 0\n",
    "                            and y2 < len(grid[0])\n",
    "                            and grid[x2][y2] == 0\n",
    "                        ):\n",
    "                            v2 = value[x2][y2] + cost\n",
    "\n",
    "                            if v2 < value[x][y]:\n",
    "                                change = True\n",
    "                                value[x][y] = v2\n",
    "                                policy[x][y] = delta_name[a]\n",
    "\n",
    "    return policy\n",
    "\n",
    "\n",
    "optimum_policy(grid, goal, cost)"
   ]
  },
  {
   "cell_type": "markdown",
   "metadata": {},
   "source": [
    "# Left Turn Policy"
   ]
  },
  {
   "cell_type": "markdown",
   "metadata": {},
   "source": [
    "- let's now have some fun and apply this to an actual car problem\n",
    "- the one I'll using is a bit simplified as always, but it does relate to real world path planning as is done, for example, by Google Maps\n",
    "- suppose we have a car down here(red)--this car now has its state defined with x, y, and an orientation, theta\n",
    "- by orientation for simplicity is chosen from 4 possible directions--up, down, left, and right\n",
    "- as I quiz you in the beginning, I'd like to get to the location over here, facing left\n",
    "- realize that now the state space is 3-dimensional, just like in our localization example\n",
    "- I now would like to implement a dynamic programming planner that gives me the optimal path for going from here to here and that let's me play with cost functions\n",
    "- there are three principle actions\n",
    "  - one is move in which the car just goes 1 grid cell forward in its present orientation--it doesn't turn at all\n",
    "    - that could be applied anywhere in the maze in any direction\n",
    "  - one is turn left and then move\n",
    "  - the last one is turn right and move"
   ]
  },
  {
   "cell_type": "code",
   "execution_count": 8,
   "metadata": {},
   "outputs": [
    {
     "data": {
      "text/plain": [
       "[[' ', ' ', ' ', 'R', '#', 'R'],\n",
       " [' ', ' ', ' ', '#', ' ', '#'],\n",
       " ['*', '#', '#', '#', '#', 'R'],\n",
       " [' ', ' ', ' ', '#', ' ', ' '],\n",
       " [' ', ' ', ' ', '#', ' ', ' ']]"
      ]
     },
     "execution_count": 8,
     "metadata": {},
     "output_type": "execute_result"
    },
    {
     "data": {
      "application/javascript": [
       "\n",
       "            setTimeout(function() {\n",
       "                var nbb_cell_id = 8;\n",
       "                var nbb_unformatted_code = \"# ----------\\n# User Instructions:\\n#\\n# Implement the function optimum_policy2D below.\\n#\\n# You are given a car in grid with initial state\\n# init. Your task is to compute and return the car's\\n# optimal path to the position specified in goal;\\n# the costs for each motion are as defined in cost.\\n#\\n# There are four motion directions: up, left, down, and right.\\n# Increasing the index in this array corresponds to making a\\n# a left turn, and decreasing the index corresponds to making a\\n# right turn.\\n\\nforward = [[-1, 0], [0, -1], [1, 0], [0, 1]]  # go up  # go left  # go down  # go right\\nforward_name = [\\\"up\\\", \\\"left\\\", \\\"down\\\", \\\"right\\\"]\\n\\n# action has 3 values: right turn, no turn, left turn\\naction = [-1, 0, 1]\\naction_name = [\\\"R\\\", \\\"#\\\", \\\"L\\\"]\\n\\n# EXAMPLE INPUTS:\\n# grid format:\\n#     0 = navigable space\\n#     1 = unnavigable space\\ngrid = [\\n    [1, 1, 1, 0, 0, 0],\\n    [1, 1, 1, 0, 1, 0],\\n    [0, 0, 0, 0, 0, 0],\\n    [1, 1, 1, 0, 1, 1],\\n    [1, 1, 1, 0, 1, 1],\\n]\\n\\ninit = [4, 3, 0]  # given in the form [row,col,direction]\\n# direction = 0: up\\n#             1: left\\n#             2: down\\n#             3: right\\n\\ngoal = [2, 0]  # given in the form [row,col]\\n\\ncost = [2, 1, 20]  # cost has 3 values, corresponding to making\\n# a right turn, no turn, and a left turn\\n\\n# EXAMPLE OUTPUT:\\n# calling optimum_policy2D with the given parameters should return\\n# [[' ', ' ', ' ', 'R', '#', 'R'],\\n#  [' ', ' ', ' ', '#', ' ', '#'],\\n#  ['*', '#', '#', '#', '#', 'R'],\\n#  [' ', ' ', ' ', '#', ' ', ' '],\\n#  [' ', ' ', ' ', '#', ' ', ' ']]\\n# ----------\\n\\n# ----------------------------------------\\n# modify code below\\n# ----------------------------------------\\n\\n\\ndef optimum_policy2D(grid, init, goal, cost):\\n\\n    value = [\\n        [[999 for row in range(len(grid[0]))] for col in range(len(grid))],\\n        [[999 for row in range(len(grid[0]))] for col in range(len(grid))],\\n        [[999 for row in range(len(grid[0]))] for col in range(len(grid))],\\n        [[999 for row in range(len(grid[0]))] for col in range(len(grid))],\\n    ]\\n\\n    policy = [\\n        [[\\\" \\\" for row in range(len(grid[0]))] for col in range(len(grid))],\\n        [[\\\" \\\" for row in range(len(grid[0]))] for col in range(len(grid))],\\n        [[\\\" \\\" for row in range(len(grid[0]))] for col in range(len(grid))],\\n        [[\\\" \\\" for row in range(len(grid[0]))] for col in range(len(grid))],\\n    ]\\n\\n    policy2D = [[\\\" \\\" for row in range(len(grid[0]))] for col in range(len(grid))]\\n\\n    change = True\\n    while change:\\n        change = False\\n        # go through all grid cells and calculate values\\n\\n        for x in range(len(grid)):\\n            for y in range(len(grid[0])):\\n                for orientation in range(4):\\n                    if goal[0] == x and goal[1] == y:  # GOAL\\n                        if value[orientation][x][y] > 0:\\n                            change = True\\n                            value[orientation][x][y] = 0\\n                            policy[orientation][x][y] = \\\"*\\\"\\n                    elif grid[x][y] == 0:\\n\\n                        # calculate the three ways to propagate value\\n                        for i in range(3):\\n                            o2 = (orientation + action[i]) % 4\\n                            x2 = x + forward[o2][0]\\n                            y2 = y + forward[o2][1]\\n\\n                            if (\\n                                x2 >= 0\\n                                and x2 < len(grid)\\n                                and y2 >= 0\\n                                and y2 < len(grid[0])\\n                                and grid[x2][y2] == 0\\n                            ):\\n                                v2 = value[o2][x2][y2] + cost[i]\\n                                if v2 < value[orientation][x][y]:\\n                                    value[orientation][x][y] = v2\\n                                    policy[orientation][x][y] = action_name[i]\\n                                    change = True\\n    x = init[0]\\n    y = init[1]\\n    orientation = init[2]\\n\\n    policy2D[x][y] = policy[orientation][x][y]\\n    while policy[orientation][x][y] != \\\"*\\\":\\n        if policy[orientation][x][y] == \\\"#\\\":\\n            o2 = orientation\\n        elif policy[orientation][x][y] == \\\"R\\\":\\n            o2 = (orientation - 1) % 4\\n        elif policy[orientation][x][y] == \\\"L\\\":\\n            o2 = (orientation + 1) % 4\\n        x = x + forward[o2][0]\\n        y = y + forward[o2][1]\\n        orientation = o2\\n        policy2D[x][y] = policy[orientation][x][y]\\n\\n    return policy2D\\n\\n\\noptimum_policy2D(grid, init, goal, cost)\";\n",
       "                var nbb_formatted_code = \"# ----------\\n# User Instructions:\\n#\\n# Implement the function optimum_policy2D below.\\n#\\n# You are given a car in grid with initial state\\n# init. Your task is to compute and return the car's\\n# optimal path to the position specified in goal;\\n# the costs for each motion are as defined in cost.\\n#\\n# There are four motion directions: up, left, down, and right.\\n# Increasing the index in this array corresponds to making a\\n# a left turn, and decreasing the index corresponds to making a\\n# right turn.\\n\\nforward = [[-1, 0], [0, -1], [1, 0], [0, 1]]  # go up  # go left  # go down  # go right\\nforward_name = [\\\"up\\\", \\\"left\\\", \\\"down\\\", \\\"right\\\"]\\n\\n# action has 3 values: right turn, no turn, left turn\\naction = [-1, 0, 1]\\naction_name = [\\\"R\\\", \\\"#\\\", \\\"L\\\"]\\n\\n# EXAMPLE INPUTS:\\n# grid format:\\n#     0 = navigable space\\n#     1 = unnavigable space\\ngrid = [\\n    [1, 1, 1, 0, 0, 0],\\n    [1, 1, 1, 0, 1, 0],\\n    [0, 0, 0, 0, 0, 0],\\n    [1, 1, 1, 0, 1, 1],\\n    [1, 1, 1, 0, 1, 1],\\n]\\n\\ninit = [4, 3, 0]  # given in the form [row,col,direction]\\n# direction = 0: up\\n#             1: left\\n#             2: down\\n#             3: right\\n\\ngoal = [2, 0]  # given in the form [row,col]\\n\\ncost = [2, 1, 20]  # cost has 3 values, corresponding to making\\n# a right turn, no turn, and a left turn\\n\\n# EXAMPLE OUTPUT:\\n# calling optimum_policy2D with the given parameters should return\\n# [[' ', ' ', ' ', 'R', '#', 'R'],\\n#  [' ', ' ', ' ', '#', ' ', '#'],\\n#  ['*', '#', '#', '#', '#', 'R'],\\n#  [' ', ' ', ' ', '#', ' ', ' '],\\n#  [' ', ' ', ' ', '#', ' ', ' ']]\\n# ----------\\n\\n# ----------------------------------------\\n# modify code below\\n# ----------------------------------------\\n\\n\\ndef optimum_policy2D(grid, init, goal, cost):\\n\\n    value = [\\n        [[999 for row in range(len(grid[0]))] for col in range(len(grid))],\\n        [[999 for row in range(len(grid[0]))] for col in range(len(grid))],\\n        [[999 for row in range(len(grid[0]))] for col in range(len(grid))],\\n        [[999 for row in range(len(grid[0]))] for col in range(len(grid))],\\n    ]\\n\\n    policy = [\\n        [[\\\" \\\" for row in range(len(grid[0]))] for col in range(len(grid))],\\n        [[\\\" \\\" for row in range(len(grid[0]))] for col in range(len(grid))],\\n        [[\\\" \\\" for row in range(len(grid[0]))] for col in range(len(grid))],\\n        [[\\\" \\\" for row in range(len(grid[0]))] for col in range(len(grid))],\\n    ]\\n\\n    policy2D = [[\\\" \\\" for row in range(len(grid[0]))] for col in range(len(grid))]\\n\\n    change = True\\n    while change:\\n        change = False\\n        # go through all grid cells and calculate values\\n\\n        for x in range(len(grid)):\\n            for y in range(len(grid[0])):\\n                for orientation in range(4):\\n                    if goal[0] == x and goal[1] == y:  # GOAL\\n                        if value[orientation][x][y] > 0:\\n                            change = True\\n                            value[orientation][x][y] = 0\\n                            policy[orientation][x][y] = \\\"*\\\"\\n                    elif grid[x][y] == 0:\\n\\n                        # calculate the three ways to propagate value\\n                        for i in range(3):\\n                            o2 = (orientation + action[i]) % 4\\n                            x2 = x + forward[o2][0]\\n                            y2 = y + forward[o2][1]\\n\\n                            if (\\n                                x2 >= 0\\n                                and x2 < len(grid)\\n                                and y2 >= 0\\n                                and y2 < len(grid[0])\\n                                and grid[x2][y2] == 0\\n                            ):\\n                                v2 = value[o2][x2][y2] + cost[i]\\n                                if v2 < value[orientation][x][y]:\\n                                    value[orientation][x][y] = v2\\n                                    policy[orientation][x][y] = action_name[i]\\n                                    change = True\\n    x = init[0]\\n    y = init[1]\\n    orientation = init[2]\\n\\n    policy2D[x][y] = policy[orientation][x][y]\\n    while policy[orientation][x][y] != \\\"*\\\":\\n        if policy[orientation][x][y] == \\\"#\\\":\\n            o2 = orientation\\n        elif policy[orientation][x][y] == \\\"R\\\":\\n            o2 = (orientation - 1) % 4\\n        elif policy[orientation][x][y] == \\\"L\\\":\\n            o2 = (orientation + 1) % 4\\n        x = x + forward[o2][0]\\n        y = y + forward[o2][1]\\n        orientation = o2\\n        policy2D[x][y] = policy[orientation][x][y]\\n\\n    return policy2D\\n\\n\\noptimum_policy2D(grid, init, goal, cost)\";\n",
       "                var nbb_cells = Jupyter.notebook.get_cells();\n",
       "                for (var i = 0; i < nbb_cells.length; ++i) {\n",
       "                    if (nbb_cells[i].input_prompt_number == nbb_cell_id) {\n",
       "                        if (nbb_cells[i].get_text() == nbb_unformatted_code) {\n",
       "                             nbb_cells[i].set_text(nbb_formatted_code);\n",
       "                        }\n",
       "                        break;\n",
       "                    }\n",
       "                }\n",
       "            }, 500);\n",
       "            "
      ],
      "text/plain": [
       "<IPython.core.display.Javascript object>"
      ]
     },
     "metadata": {},
     "output_type": "display_data"
    }
   ],
   "source": [
    "# ----------\n",
    "# User Instructions:\n",
    "#\n",
    "# Implement the function optimum_policy2D below.\n",
    "#\n",
    "# You are given a car in grid with initial state\n",
    "# init. Your task is to compute and return the car's\n",
    "# optimal path to the position specified in goal;\n",
    "# the costs for each motion are as defined in cost.\n",
    "#\n",
    "# There are four motion directions: up, left, down, and right.\n",
    "# Increasing the index in this array corresponds to making a\n",
    "# a left turn, and decreasing the index corresponds to making a\n",
    "# right turn.\n",
    "\n",
    "forward = [[-1, 0], [0, -1], [1, 0], [0, 1]]  # go up  # go left  # go down  # go right\n",
    "forward_name = [\"up\", \"left\", \"down\", \"right\"]\n",
    "\n",
    "# action has 3 values: right turn, no turn, left turn\n",
    "action = [-1, 0, 1]\n",
    "action_name = [\"R\", \"#\", \"L\"]\n",
    "\n",
    "# EXAMPLE INPUTS:\n",
    "# grid format:\n",
    "#     0 = navigable space\n",
    "#     1 = unnavigable space\n",
    "grid = [\n",
    "    [1, 1, 1, 0, 0, 0],\n",
    "    [1, 1, 1, 0, 1, 0],\n",
    "    [0, 0, 0, 0, 0, 0],\n",
    "    [1, 1, 1, 0, 1, 1],\n",
    "    [1, 1, 1, 0, 1, 1],\n",
    "]\n",
    "\n",
    "init = [4, 3, 0]  # given in the form [row,col,direction]\n",
    "# direction = 0: up\n",
    "#             1: left\n",
    "#             2: down\n",
    "#             3: right\n",
    "\n",
    "goal = [2, 0]  # given in the form [row,col]\n",
    "\n",
    "cost = [2, 1, 20]  # cost has 3 values, corresponding to making\n",
    "# a right turn, no turn, and a left turn\n",
    "\n",
    "# EXAMPLE OUTPUT:\n",
    "# calling optimum_policy2D with the given parameters should return\n",
    "# [[' ', ' ', ' ', 'R', '#', 'R'],\n",
    "#  [' ', ' ', ' ', '#', ' ', '#'],\n",
    "#  ['*', '#', '#', '#', '#', 'R'],\n",
    "#  [' ', ' ', ' ', '#', ' ', ' '],\n",
    "#  [' ', ' ', ' ', '#', ' ', ' ']]\n",
    "# ----------\n",
    "\n",
    "# ----------------------------------------\n",
    "# modify code below\n",
    "# ----------------------------------------\n",
    "\n",
    "\n",
    "def optimum_policy2D(grid, init, goal, cost):\n",
    "\n",
    "    value = [\n",
    "        [[999 for row in range(len(grid[0]))] for col in range(len(grid))],\n",
    "        [[999 for row in range(len(grid[0]))] for col in range(len(grid))],\n",
    "        [[999 for row in range(len(grid[0]))] for col in range(len(grid))],\n",
    "        [[999 for row in range(len(grid[0]))] for col in range(len(grid))],\n",
    "    ]\n",
    "\n",
    "    policy = [\n",
    "        [[\" \" for row in range(len(grid[0]))] for col in range(len(grid))],\n",
    "        [[\" \" for row in range(len(grid[0]))] for col in range(len(grid))],\n",
    "        [[\" \" for row in range(len(grid[0]))] for col in range(len(grid))],\n",
    "        [[\" \" for row in range(len(grid[0]))] for col in range(len(grid))],\n",
    "    ]\n",
    "\n",
    "    policy2D = [[\" \" for row in range(len(grid[0]))] for col in range(len(grid))]\n",
    "\n",
    "    change = True\n",
    "    while change:\n",
    "        change = False\n",
    "        # go through all grid cells and calculate values\n",
    "\n",
    "        for x in range(len(grid)):\n",
    "            for y in range(len(grid[0])):\n",
    "                for orientation in range(4):\n",
    "                    if goal[0] == x and goal[1] == y:  # GOAL\n",
    "                        if value[orientation][x][y] > 0:\n",
    "                            change = True\n",
    "                            value[orientation][x][y] = 0\n",
    "                            policy[orientation][x][y] = \"*\"\n",
    "                    elif grid[x][y] == 0:\n",
    "\n",
    "                        # calculate the three ways to propagate value\n",
    "                        for i in range(3):\n",
    "                            o2 = (orientation + action[i]) % 4\n",
    "                            x2 = x + forward[o2][0]\n",
    "                            y2 = y + forward[o2][1]\n",
    "\n",
    "                            if (\n",
    "                                x2 >= 0\n",
    "                                and x2 < len(grid)\n",
    "                                and y2 >= 0\n",
    "                                and y2 < len(grid[0])\n",
    "                                and grid[x2][y2] == 0\n",
    "                            ):\n",
    "                                v2 = value[o2][x2][y2] + cost[i]\n",
    "                                if v2 < value[orientation][x][y]:\n",
    "                                    value[orientation][x][y] = v2\n",
    "                                    policy[orientation][x][y] = action_name[i]\n",
    "                                    change = True\n",
    "    x = init[0]\n",
    "    y = init[1]\n",
    "    orientation = init[2]\n",
    "\n",
    "    policy2D[x][y] = policy[orientation][x][y]\n",
    "    while policy[orientation][x][y] != \"*\":\n",
    "        if policy[orientation][x][y] == \"#\":\n",
    "            o2 = orientation\n",
    "        elif policy[orientation][x][y] == \"R\":\n",
    "            o2 = (orientation - 1) % 4\n",
    "        elif policy[orientation][x][y] == \"L\":\n",
    "            o2 = (orientation + 1) % 4\n",
    "        x = x + forward[o2][0]\n",
    "        y = y + forward[o2][1]\n",
    "        orientation = o2\n",
    "        policy2D[x][y] = policy[orientation][x][y]\n",
    "\n",
    "    return policy2D\n",
    "\n",
    "\n",
    "optimum_policy2D(grid, init, goal, cost)"
   ]
  },
  {
   "cell_type": "markdown",
   "metadata": {},
   "source": [
    "# Planning Conclusion"
   ]
  },
  {
   "cell_type": "markdown",
   "metadata": {},
   "source": [
    "- we assumed that the world is discrete, and we looked at 2 planning algorithms:\n",
    "  - A*, which uses a heuristic to find a path\n",
    "  - dynamic programming, which finds an entire policy that has a plan for every location"
   ]
  },
  {
   "cell_type": "code",
   "execution_count": null,
   "metadata": {},
   "outputs": [],
   "source": []
  }
 ],
 "metadata": {
  "kernelspec": {
   "display_name": "Python 3",
   "language": "python",
   "name": "python3"
  },
  "language_info": {
   "codemirror_mode": {
    "name": "ipython",
    "version": 3
   },
   "file_extension": ".py",
   "mimetype": "text/x-python",
   "name": "python",
   "nbconvert_exporter": "python",
   "pygments_lexer": "ipython3",
   "version": "3.7.6"
  }
 },
 "nbformat": 4,
 "nbformat_minor": 4
}
