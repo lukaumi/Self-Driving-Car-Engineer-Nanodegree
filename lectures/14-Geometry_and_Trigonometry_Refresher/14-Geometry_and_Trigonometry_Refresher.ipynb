{
 "cells": [
  {
   "cell_type": "code",
   "execution_count": 1,
   "metadata": {},
   "outputs": [
    {
     "data": {
      "application/javascript": [
       "\n",
       "            setTimeout(function() {\n",
       "                var nbb_cell_id = 1;\n",
       "                var nbb_unformatted_code = \"%load_ext nb_black\";\n",
       "                var nbb_formatted_code = \"%load_ext nb_black\";\n",
       "                var nbb_cells = Jupyter.notebook.get_cells();\n",
       "                for (var i = 0; i < nbb_cells.length; ++i) {\n",
       "                    if (nbb_cells[i].input_prompt_number == nbb_cell_id) {\n",
       "                        if (nbb_cells[i].get_text() == nbb_unformatted_code) {\n",
       "                             nbb_cells[i].set_text(nbb_formatted_code);\n",
       "                        }\n",
       "                        break;\n",
       "                    }\n",
       "                }\n",
       "            }, 500);\n",
       "            "
      ],
      "text/plain": [
       "<IPython.core.display.Javascript object>"
      ]
     },
     "metadata": {},
     "output_type": "display_data"
    }
   ],
   "source": [
    "%load_ext nb_black"
   ]
  },
  {
   "cell_type": "markdown",
   "metadata": {},
   "source": [
    "- this lesson actually comes from the Intro to Self-Driving Cars Nanodegree program\n",
    "- we're including it here as completely optional in case you'd like a quick refresher on basic geometry and trigonometry\n",
    "- many aspects of self-driving cars depend heavily on geometric in trigonometric reasoning"
   ]
  },
  {
   "cell_type": "markdown",
   "metadata": {},
   "source": [
    "- once you have a car pointing in a certain direction and you know how far it moves, how do you figure out exactly how far it's moved in the $x$ direction or in the $y$ direction?\n",
    "- that is what you are going to learn in this lesson\n",
    "  - how to go from a heading and a distance traveled to a change in $x$ and $y$\n",
    "  - to do this, we're going to need to learn the very basics of trigonometry\n",
    "  \n",
    "<img src=\"resources/lesson_goal.png\"/>\n",
    "  \n",
    "- this picture captures the goal of this lesson: if you know a car's heading (theta) and distance traveled (D), how can we figure out how far it's moved in the x direction (delta x) and y direction (delta y)?"
   ]
  },
  {
   "cell_type": "markdown",
   "metadata": {},
   "source": [
    "# Plotting Robot Motion (right angles only)"
   ]
  },
  {
   "cell_type": "markdown",
   "metadata": {},
   "source": [
    "## Right Angle Robot\n",
    "\n",
    "- before we jump into trigonometry, I want to familiarize you with the Vehicle class you'll be using in this lesson (and get you thinking about motion in general)\n",
    "- you will complete a `Vehicle` class by filling out two methods: `drive_forward` and `turn_right`\n",
    "\n",
    "\n",
    "- note that this version of a Vehicle class can ONLY face in one of 4 directions: (E)ast, (N)orth, (W)est, or (S)outh\n",
    "- the vehicle's current direction is stored in its `heading` property"
   ]
  },
  {
   "cell_type": "code",
   "execution_count": 2,
   "metadata": {},
   "outputs": [
    {
     "data": {
      "application/javascript": [
       "\n",
       "            setTimeout(function() {\n",
       "                var nbb_cell_id = 2;\n",
       "                var nbb_unformatted_code = \"from matplotlib import pyplot as plt\\n\\n\\nclass Vehicle:\\n    def __init__(self):\\n        \\\"\\\"\\\"\\n        Creates new vehicle at (0,0) with a heading pointed East.\\n        \\\"\\\"\\\"\\n        self.x = 0  # meters\\n        self.y = 0\\n        self.heading = \\\"E\\\"  # Can be \\\"N\\\", \\\"S\\\", \\\"E\\\", or \\\"W\\\"\\n        self.history = []\\n\\n    # TODO-1 - Implement this function\\n    def drive_forward(self, displacement):\\n        \\\"\\\"\\\"\\n        Updates x and y coordinates of vehicle based on \\n        heading and appends previous (x,y) position to\\n        history.\\n        \\\"\\\"\\\"\\n\\n        # vehicle currently pointing east...\\n        if self.heading == \\\"E\\\":\\n            delta_x = displacement\\n            delta_y = 0\\n\\n        # north\\n        elif self.heading == \\\"N\\\":\\n            # FILL THIS OUT\\n            delta_x = 0\\n            delta_y = displacement\\n\\n        # west\\n        elif self.heading == \\\"W\\\":\\n            # FILL THIS OUT\\n            delta_x = -displacement\\n            delta_y = 0\\n\\n        # south\\n        else:\\n            # FILL THIS OUT\\n            delta_x = 0\\n            delta_y = -displacement\\n\\n        new_x = self.x + delta_x\\n        new_y = self.y + delta_y\\n\\n        # this line appends the current (x,y) coordinates to the vehicle's history\\n        # useful for plotting the vehicle's trajectory\\n        # you shouldn't need to change this line\\n\\n        self.history.append((self.x, self.y))\\n\\n        self.x = new_x\\n        self.y = new_y\\n\\n    def turn(self, direction):\\n        if direction == \\\"L\\\":\\n            self.turn_left()\\n        elif direction == \\\"R\\\":\\n            self.turn_right()\\n        else:\\n            print(\\\"Error. Direction must be 'L' or 'R'\\\")\\n            return\\n\\n    def turn_left(self):\\n        \\\"\\\"\\\"\\n        Updates heading (for a left turn) based on current heading\\n        \\\"\\\"\\\"\\n        next_heading = {\\\"N\\\": \\\"W\\\", \\\"W\\\": \\\"S\\\", \\\"S\\\": \\\"E\\\", \\\"E\\\": \\\"N\\\"}\\n        self.heading = next_heading[self.heading]\\n\\n    # TODO-2 - implement this function\\n    def turn_right(self):\\n        \\\"\\\"\\\"\\n        Updates heading (for a right turn) based on current heading\\n        \\\"\\\"\\\"\\n        next_heading = {\\\"N\\\": \\\"E\\\", \\\"W\\\": \\\"N\\\", \\\"S\\\": \\\"W\\\", \\\"E\\\": \\\"S\\\"}\\n        self.heading = next_heading[self.heading]\\n\\n    def show_trajectory(self):\\n        \\\"\\\"\\\"\\n        Creates a scatter plot of vehicle's trajectory.\\n        \\\"\\\"\\\"\\n        X = [p[0] for p in self.history]\\n        Y = [p[1] for p in self.history]\\n\\n        X.append(self.x)\\n        Y.append(self.y)\\n\\n        plt.scatter(X, Y)\\n        plt.plot(X, Y)\\n        plt.show()\";\n",
       "                var nbb_formatted_code = \"from matplotlib import pyplot as plt\\n\\n\\nclass Vehicle:\\n    def __init__(self):\\n        \\\"\\\"\\\"\\n        Creates new vehicle at (0,0) with a heading pointed East.\\n        \\\"\\\"\\\"\\n        self.x = 0  # meters\\n        self.y = 0\\n        self.heading = \\\"E\\\"  # Can be \\\"N\\\", \\\"S\\\", \\\"E\\\", or \\\"W\\\"\\n        self.history = []\\n\\n    # TODO-1 - Implement this function\\n    def drive_forward(self, displacement):\\n        \\\"\\\"\\\"\\n        Updates x and y coordinates of vehicle based on \\n        heading and appends previous (x,y) position to\\n        history.\\n        \\\"\\\"\\\"\\n\\n        # vehicle currently pointing east...\\n        if self.heading == \\\"E\\\":\\n            delta_x = displacement\\n            delta_y = 0\\n\\n        # north\\n        elif self.heading == \\\"N\\\":\\n            # FILL THIS OUT\\n            delta_x = 0\\n            delta_y = displacement\\n\\n        # west\\n        elif self.heading == \\\"W\\\":\\n            # FILL THIS OUT\\n            delta_x = -displacement\\n            delta_y = 0\\n\\n        # south\\n        else:\\n            # FILL THIS OUT\\n            delta_x = 0\\n            delta_y = -displacement\\n\\n        new_x = self.x + delta_x\\n        new_y = self.y + delta_y\\n\\n        # this line appends the current (x,y) coordinates to the vehicle's history\\n        # useful for plotting the vehicle's trajectory\\n        # you shouldn't need to change this line\\n\\n        self.history.append((self.x, self.y))\\n\\n        self.x = new_x\\n        self.y = new_y\\n\\n    def turn(self, direction):\\n        if direction == \\\"L\\\":\\n            self.turn_left()\\n        elif direction == \\\"R\\\":\\n            self.turn_right()\\n        else:\\n            print(\\\"Error. Direction must be 'L' or 'R'\\\")\\n            return\\n\\n    def turn_left(self):\\n        \\\"\\\"\\\"\\n        Updates heading (for a left turn) based on current heading\\n        \\\"\\\"\\\"\\n        next_heading = {\\\"N\\\": \\\"W\\\", \\\"W\\\": \\\"S\\\", \\\"S\\\": \\\"E\\\", \\\"E\\\": \\\"N\\\"}\\n        self.heading = next_heading[self.heading]\\n\\n    # TODO-2 - implement this function\\n    def turn_right(self):\\n        \\\"\\\"\\\"\\n        Updates heading (for a right turn) based on current heading\\n        \\\"\\\"\\\"\\n        next_heading = {\\\"N\\\": \\\"E\\\", \\\"W\\\": \\\"N\\\", \\\"S\\\": \\\"W\\\", \\\"E\\\": \\\"S\\\"}\\n        self.heading = next_heading[self.heading]\\n\\n    def show_trajectory(self):\\n        \\\"\\\"\\\"\\n        Creates a scatter plot of vehicle's trajectory.\\n        \\\"\\\"\\\"\\n        X = [p[0] for p in self.history]\\n        Y = [p[1] for p in self.history]\\n\\n        X.append(self.x)\\n        Y.append(self.y)\\n\\n        plt.scatter(X, Y)\\n        plt.plot(X, Y)\\n        plt.show()\";\n",
       "                var nbb_cells = Jupyter.notebook.get_cells();\n",
       "                for (var i = 0; i < nbb_cells.length; ++i) {\n",
       "                    if (nbb_cells[i].input_prompt_number == nbb_cell_id) {\n",
       "                        if (nbb_cells[i].get_text() == nbb_unformatted_code) {\n",
       "                             nbb_cells[i].set_text(nbb_formatted_code);\n",
       "                        }\n",
       "                        break;\n",
       "                    }\n",
       "                }\n",
       "            }, 500);\n",
       "            "
      ],
      "text/plain": [
       "<IPython.core.display.Javascript object>"
      ]
     },
     "metadata": {},
     "output_type": "display_data"
    }
   ],
   "source": [
    "from matplotlib import pyplot as plt\n",
    "\n",
    "\n",
    "class Vehicle:\n",
    "    def __init__(self):\n",
    "        \"\"\"\n",
    "        Creates new vehicle at (0,0) with a heading pointed East.\n",
    "        \"\"\"\n",
    "        self.x = 0  # meters\n",
    "        self.y = 0\n",
    "        self.heading = \"E\"  # Can be \"N\", \"S\", \"E\", or \"W\"\n",
    "        self.history = []\n",
    "\n",
    "    # TODO-1 - Implement this function\n",
    "    def drive_forward(self, displacement):\n",
    "        \"\"\"\n",
    "        Updates x and y coordinates of vehicle based on \n",
    "        heading and appends previous (x,y) position to\n",
    "        history.\n",
    "        \"\"\"\n",
    "\n",
    "        # vehicle currently pointing east...\n",
    "        if self.heading == \"E\":\n",
    "            delta_x = displacement\n",
    "            delta_y = 0\n",
    "\n",
    "        # north\n",
    "        elif self.heading == \"N\":\n",
    "            # FILL THIS OUT\n",
    "            delta_x = 0\n",
    "            delta_y = displacement\n",
    "\n",
    "        # west\n",
    "        elif self.heading == \"W\":\n",
    "            # FILL THIS OUT\n",
    "            delta_x = -displacement\n",
    "            delta_y = 0\n",
    "\n",
    "        # south\n",
    "        else:\n",
    "            # FILL THIS OUT\n",
    "            delta_x = 0\n",
    "            delta_y = -displacement\n",
    "\n",
    "        new_x = self.x + delta_x\n",
    "        new_y = self.y + delta_y\n",
    "\n",
    "        # this line appends the current (x,y) coordinates to the vehicle's history\n",
    "        # useful for plotting the vehicle's trajectory\n",
    "        # you shouldn't need to change this line\n",
    "\n",
    "        self.history.append((self.x, self.y))\n",
    "\n",
    "        self.x = new_x\n",
    "        self.y = new_y\n",
    "\n",
    "    def turn(self, direction):\n",
    "        if direction == \"L\":\n",
    "            self.turn_left()\n",
    "        elif direction == \"R\":\n",
    "            self.turn_right()\n",
    "        else:\n",
    "            print(\"Error. Direction must be 'L' or 'R'\")\n",
    "            return\n",
    "\n",
    "    def turn_left(self):\n",
    "        \"\"\"\n",
    "        Updates heading (for a left turn) based on current heading\n",
    "        \"\"\"\n",
    "        next_heading = {\"N\": \"W\", \"W\": \"S\", \"S\": \"E\", \"E\": \"N\"}\n",
    "        self.heading = next_heading[self.heading]\n",
    "\n",
    "    # TODO-2 - implement this function\n",
    "    def turn_right(self):\n",
    "        \"\"\"\n",
    "        Updates heading (for a right turn) based on current heading\n",
    "        \"\"\"\n",
    "        next_heading = {\"N\": \"E\", \"W\": \"N\", \"S\": \"W\", \"E\": \"S\"}\n",
    "        self.heading = next_heading[self.heading]\n",
    "\n",
    "    def show_trajectory(self):\n",
    "        \"\"\"\n",
    "        Creates a scatter plot of vehicle's trajectory.\n",
    "        \"\"\"\n",
    "        X = [p[0] for p in self.history]\n",
    "        Y = [p[1] for p in self.history]\n",
    "\n",
    "        X.append(self.x)\n",
    "        Y.append(self.y)\n",
    "\n",
    "        plt.scatter(X, Y)\n",
    "        plt.plot(X, Y)\n",
    "        plt.show()"
   ]
  },
  {
   "cell_type": "code",
   "execution_count": 3,
   "metadata": {},
   "outputs": [
    {
     "data": {
      "image/png": "[encoded data removed]",
      "text/plain": [
       "<Figure size 432x288 with 1 Axes>"
      ]
     },
     "metadata": {
      "needs_background": "light"
     },
     "output_type": "display_data"
    },
    {
     "name": "stdout",
     "output_type": "stream",
     "text": [
      "Nice job! Your vehicle is behaving as expected!\n"
     ]
    },
    {
     "data": {
      "application/javascript": [
       "\n",
       "            setTimeout(function() {\n",
       "                var nbb_cell_id = 3;\n",
       "                var nbb_unformatted_code = \"# TESTING CODE 1\\n\\n# instantiate vehicle\\nv = Vehicle()\\n\\n# drive in spirals of decreasing size\\nv.drive_forward(8)\\nv.turn(\\\"L\\\")\\n\\nv.drive_forward(5)\\nv.turn(\\\"L\\\")\\n\\nv.drive_forward(5)\\nv.turn(\\\"L\\\")\\n\\nv.drive_forward(4)\\nv.turn(\\\"L\\\")\\n\\nv.drive_forward(4)\\nv.turn(\\\"L\\\")\\n\\nv.drive_forward(3)\\nv.turn(\\\"L\\\")\\n\\nv.drive_forward(3)\\nv.turn(\\\"L\\\")\\n\\nv.drive_forward(2)\\nv.turn(\\\"L\\\")\\n\\nv.drive_forward(2)\\nv.turn(\\\"L\\\")\\n\\nv.drive_forward(1)\\nv.turn(\\\"L\\\")\\n\\nv.drive_forward(1)\\n\\n# show the trajectory. It should look like a spiral\\nv.show_trajectory()\\n\\n# TESTING\\nassert v.x == 5\\nassert v.y == 3\\nfirst_5 = [(0, 0), (8, 0), (8, 5), (3, 5), (3, 1)]\\nassert first_5 == v.history[:5]\\nprint(\\\"Nice job! Your vehicle is behaving as expected!\\\")\";\n",
       "                var nbb_formatted_code = \"# TESTING CODE 1\\n\\n# instantiate vehicle\\nv = Vehicle()\\n\\n# drive in spirals of decreasing size\\nv.drive_forward(8)\\nv.turn(\\\"L\\\")\\n\\nv.drive_forward(5)\\nv.turn(\\\"L\\\")\\n\\nv.drive_forward(5)\\nv.turn(\\\"L\\\")\\n\\nv.drive_forward(4)\\nv.turn(\\\"L\\\")\\n\\nv.drive_forward(4)\\nv.turn(\\\"L\\\")\\n\\nv.drive_forward(3)\\nv.turn(\\\"L\\\")\\n\\nv.drive_forward(3)\\nv.turn(\\\"L\\\")\\n\\nv.drive_forward(2)\\nv.turn(\\\"L\\\")\\n\\nv.drive_forward(2)\\nv.turn(\\\"L\\\")\\n\\nv.drive_forward(1)\\nv.turn(\\\"L\\\")\\n\\nv.drive_forward(1)\\n\\n# show the trajectory. It should look like a spiral\\nv.show_trajectory()\\n\\n# TESTING\\nassert v.x == 5\\nassert v.y == 3\\nfirst_5 = [(0, 0), (8, 0), (8, 5), (3, 5), (3, 1)]\\nassert first_5 == v.history[:5]\\nprint(\\\"Nice job! Your vehicle is behaving as expected!\\\")\";\n",
       "                var nbb_cells = Jupyter.notebook.get_cells();\n",
       "                for (var i = 0; i < nbb_cells.length; ++i) {\n",
       "                    if (nbb_cells[i].input_prompt_number == nbb_cell_id) {\n",
       "                        if (nbb_cells[i].get_text() == nbb_unformatted_code) {\n",
       "                             nbb_cells[i].set_text(nbb_formatted_code);\n",
       "                        }\n",
       "                        break;\n",
       "                    }\n",
       "                }\n",
       "            }, 500);\n",
       "            "
      ],
      "text/plain": [
       "<IPython.core.display.Javascript object>"
      ]
     },
     "metadata": {},
     "output_type": "display_data"
    }
   ],
   "source": [
    "# TESTING CODE 1\n",
    "\n",
    "# instantiate vehicle\n",
    "v = Vehicle()\n",
    "\n",
    "# drive in spirals of decreasing size\n",
    "v.drive_forward(8)\n",
    "v.turn(\"L\")\n",
    "\n",
    "v.drive_forward(5)\n",
    "v.turn(\"L\")\n",
    "\n",
    "v.drive_forward(5)\n",
    "v.turn(\"L\")\n",
    "\n",
    "v.drive_forward(4)\n",
    "v.turn(\"L\")\n",
    "\n",
    "v.drive_forward(4)\n",
    "v.turn(\"L\")\n",
    "\n",
    "v.drive_forward(3)\n",
    "v.turn(\"L\")\n",
    "\n",
    "v.drive_forward(3)\n",
    "v.turn(\"L\")\n",
    "\n",
    "v.drive_forward(2)\n",
    "v.turn(\"L\")\n",
    "\n",
    "v.drive_forward(2)\n",
    "v.turn(\"L\")\n",
    "\n",
    "v.drive_forward(1)\n",
    "v.turn(\"L\")\n",
    "\n",
    "v.drive_forward(1)\n",
    "\n",
    "# show the trajectory. It should look like a spiral\n",
    "v.show_trajectory()\n",
    "\n",
    "# TESTING\n",
    "assert v.x == 5\n",
    "assert v.y == 3\n",
    "first_5 = [(0, 0), (8, 0), (8, 5), (3, 5), (3, 1)]\n",
    "assert first_5 == v.history[:5]\n",
    "print(\"Nice job! Your vehicle is behaving as expected!\")"
   ]
  },
  {
   "cell_type": "code",
   "execution_count": 4,
   "metadata": {},
   "outputs": [
    {
     "data": {
      "image/png": "[encoded data removed]",
      "text/plain": [
       "<Figure size 432x288 with 1 Axes>"
      ]
     },
     "metadata": {
      "needs_background": "light"
     },
     "output_type": "display_data"
    },
    {
     "name": "stdout",
     "output_type": "stream",
     "text": [
      "Nice job! Your vehicle passed the zig zag test.\n"
     ]
    },
    {
     "data": {
      "application/javascript": [
       "\n",
       "            setTimeout(function() {\n",
       "                var nbb_cell_id = 4;\n",
       "                var nbb_unformatted_code = \"# TESTING CODE Part 2\\ndef test_zig_zag():\\n    v = Vehicle()\\n    for i in range(10):\\n        for _ in range(4):\\n            v.drive_forward(2)\\n            v.turn(\\\"R\\\")\\n            v.drive_forward(1)\\n            v.turn(\\\"L\\\")\\n        v.drive_forward(10)\\n        v.turn(\\\"R\\\")\\n    first_six = [(0, 0), (2, 0), (2, -1), (4, -1), (4, -2), (6, -2)]\\n    v.show_trajectory()\\n    assert v.x == 14\\n    assert v.y == -22\\n    assert v.history[:6] == first_six\\n    print(\\\"Nice job! Your vehicle passed the zig zag test.\\\")\\n\\n\\ntest_zig_zag()\";\n",
       "                var nbb_formatted_code = \"# TESTING CODE Part 2\\ndef test_zig_zag():\\n    v = Vehicle()\\n    for i in range(10):\\n        for _ in range(4):\\n            v.drive_forward(2)\\n            v.turn(\\\"R\\\")\\n            v.drive_forward(1)\\n            v.turn(\\\"L\\\")\\n        v.drive_forward(10)\\n        v.turn(\\\"R\\\")\\n    first_six = [(0, 0), (2, 0), (2, -1), (4, -1), (4, -2), (6, -2)]\\n    v.show_trajectory()\\n    assert v.x == 14\\n    assert v.y == -22\\n    assert v.history[:6] == first_six\\n    print(\\\"Nice job! Your vehicle passed the zig zag test.\\\")\\n\\n\\ntest_zig_zag()\";\n",
       "                var nbb_cells = Jupyter.notebook.get_cells();\n",
       "                for (var i = 0; i < nbb_cells.length; ++i) {\n",
       "                    if (nbb_cells[i].input_prompt_number == nbb_cell_id) {\n",
       "                        if (nbb_cells[i].get_text() == nbb_unformatted_code) {\n",
       "                             nbb_cells[i].set_text(nbb_formatted_code);\n",
       "                        }\n",
       "                        break;\n",
       "                    }\n",
       "                }\n",
       "            }, 500);\n",
       "            "
      ],
      "text/plain": [
       "<IPython.core.display.Javascript object>"
      ]
     },
     "metadata": {},
     "output_type": "display_data"
    }
   ],
   "source": [
    "# TESTING CODE Part 2\n",
    "def test_zig_zag():\n",
    "    v = Vehicle()\n",
    "    for i in range(10):\n",
    "        for _ in range(4):\n",
    "            v.drive_forward(2)\n",
    "            v.turn(\"R\")\n",
    "            v.drive_forward(1)\n",
    "            v.turn(\"L\")\n",
    "        v.drive_forward(10)\n",
    "        v.turn(\"R\")\n",
    "    first_six = [(0, 0), (2, 0), (2, -1), (4, -1), (4, -2), (6, -2)]\n",
    "    v.show_trajectory()\n",
    "    assert v.x == 14\n",
    "    assert v.y == -22\n",
    "    assert v.history[:6] == first_six\n",
    "    print(\"Nice job! Your vehicle passed the zig zag test.\")\n",
    "\n",
    "\n",
    "test_zig_zag()"
   ]
  },
  {
   "cell_type": "markdown",
   "metadata": {},
   "source": [
    "# Moving at an Angle"
   ]
  },
  {
   "cell_type": "markdown",
   "metadata": {},
   "source": [
    "- in the previous task, we only learned orientations that pointed east, north, west, or south\n",
    "- because we constrained the robots suppose this way, it was easy to figure out what happened when the vehicle moved forward by $D$ meters for example\n",
    "  - in this case, if we have a car that is pointing east and then moves to distance $D$, I can see that the $x$ coordinate just increases by $D$, and the $y$ coordinate doesn't change at all\n",
    "  - likewise, if the car is pointing north and then moves forward by $D$ meters, then the $y$ coordinate will increase by $D$, and the $x$ coordinate will be left unchanged\n",
    "\n",
    "\n",
    "- but now the question is, what if the heading isn't along the $x$ or $y$ axis?\n",
    "- what if the car is pointing at some weird angle like this?\n",
    "  - now what happens when the car moves forward by, let's say, $D$ meters?\n",
    "  - what can you say about the value for $\\Delta x$ and for $\\Delta y$ in a situation like this?\n",
    "\n",
    "<img src=\"resources/moving_at_an_angle.png\"/>\n",
    "\n",
    "- when a car is pointed like this and it moves forward by $D$ meters, its $x$ and $y$ coordinates both increase by an amount that's greater than zero but less than $D$\n",
    "  - $0 < \\Delta x < D$ &nbsp;&nbsp;,&nbsp;&nbsp; $0 < \\Delta y < D$\n",
    "\n",
    "\n",
    "- if we're going to make scatter plots of position data, we need to know exactly what the values of $\\Delta x$ and $\\Delta y$ are and this will require some trigonometry, which is the mathematics of right triangles, so it's not surprising that our first step is to find a right triangle"
   ]
  },
  {
   "cell_type": "markdown",
   "metadata": {},
   "source": [
    "# Moving at 53.13 Degrees"
   ]
  },
  {
   "cell_type": "markdown",
   "metadata": {},
   "source": [
    "- as a first example, I'm going to make things a little easier by picking a very particular angle for this car set\n",
    "  - I'm going to pick theta to be $53.13$ degrees and $D$ is going to be $5$ meters\n",
    "  - the reason I picked these numbers is because it turns out that when a car with a heading of fifty three point one three degrees drives forward by $5$ meters, if you measure $\\Delta x$, and $\\Delta y$ you'll find they are exactly equal to $3$ meters and $4$ meters\n",
    "\n",
    "<img src=\"resources/moving_at_5313.png\"/>\n",
    "\n",
    "- in fact, if you ever have a right triangle were one of the angles is $53.13$ degrees, the sides will have lengths in these ratios, $3, 4, 5$\n",
    "- what this means is that if I ever find that my car is heading of $53.13$ degrees and I know how far it moves forward I'll be able to figure out $\\Delta x$ and $\\Delta y$"
   ]
  },
  {
   "cell_type": "markdown",
   "metadata": {},
   "source": [
    "- If $D = 10$ meters then what would $\\Delta x$ and $\\Delta y$ be?\n",
    "  - if you double the length of one side, all the other sides must double in length as well\n",
    "  - $\\Delta x$ will be $6$ meters and $\\Delta y$ will be $8$ meters"
   ]
  },
  {
   "cell_type": "markdown",
   "metadata": {},
   "source": [
    "# Who Cares About 53.13 Degrees?"
   ]
  },
  {
   "cell_type": "markdown",
   "metadata": {},
   "source": [
    "- you just calculated the following values for a vehicle with a heading of $53.13$ degrees\n",
    "\n",
    "| D  | $\\Delta y$ | $\\Delta x$ |\n",
    "|----|-----|-----|\n",
    "| 5  | 4   | 3   |\n",
    "| 10 | 8   | 6   |\n",
    "| 1  | 4/5 | 3/5 |\n",
    "\n",
    "- but really, for this particular angle we can say something much more general\n",
    "- we can say:\n",
    "  - $\\Delta y = \\frac{4}{5} \\times D$\n",
    "  - $\\Delta x = \\frac{3}{5} \\times D$\n",
    "- tese are very useful equations!\n",
    "  - they tell us that the vertical displacement is equal to total displacement times some multiplier (in this case $4/5$)\n",
    "  - likewise, horizontal displacement is total displacement times some other multiplier (in this case $3/5$)\n",
    "\n",
    "\n",
    "- and this is useful.... for all those times when you're driving at $53.13$ degrees?\n",
    "- what about every other possible angle--wouldn't it be nice to calculate these multipliers for any angle?"
   ]
  },
  {
   "cell_type": "markdown",
   "metadata": {},
   "source": [
    "# The Power of Trigonometry"
   ]
  },
  {
   "cell_type": "markdown",
   "metadata": {},
   "source": [
    "- if you drive some distance $D$ at a heading of $53.13$ degrees, then your $\\Delta x$ will be that distance $D$ multiplied by $3/5$ and $\\Delta y$ will be that distance $D$ multiplied by $4/5$\n",
    "  - these multipliers are really useful\n",
    "  - they let us go from a distance traveled to $\\Delta x$ and $\\Delta y$, but that's just one angle\n",
    "\n",
    "\n",
    "- what if you're driving with a heading of $27.2$ degrees, or negative $112.5$?\n",
    "- how can we calculate $\\Delta x$ and $\\Delta y$ in those situations?\n",
    "  - we'd like to use multipliers just like we did with the $3$, $4$, $5$ triangle, and that is where trigonometry comes in\n",
    "  - the trig gives us a way to easy calculate easy multipliers for any angle\n",
    "\n",
    "\n",
    "- we're going to come back to cars in a minute, but for now, we're going to dig deeper into triangles themselves, and the first thing we're going to need is a naming convention for talking about the size of a right triangle"
   ]
  },
  {
   "cell_type": "markdown",
   "metadata": {},
   "source": [
    "# Opposite, Adjacent, Hypotenuse"
   ]
  },
  {
   "cell_type": "markdown",
   "metadata": {},
   "source": [
    "- in our previous example, we only really cared about one of the three angles in the triangle\n",
    "- when we're solving trig problems, we generally only care about one angle at a time\n",
    "- we're going to call this angle, the reference angle\n",
    "- in the previous example, reference angle was $53.13$ degrees\n",
    "\n",
    "- now I want to consider some generic reference angle, which we'll just call a theta\n",
    "- when we have a right triangle and some reference angle, we'd like a way to refer unambiguously to the three sites, and the naming convention we use in trig goes like this:\n",
    "  - the longest side of the right triangle is always called the hypotenuse\n",
    "  - the side on the right, the one that's opposite the reference angle, well that's just called the opposite\n",
    "  - the this last remaining side, the one that's next to the reference angle, well we call that the adjacent side\n",
    "\n",
    "<img src=\"resources/opposite_adjacent_hypotenuse.png\"/>\n",
    "\n",
    "- in the image below\n",
    "  - $a$ is hypotenuse, $b$ is opposite and $c$ is adjacent\n",
    "- when $y$ is taken as the reference angle\n",
    "  - $a$ is hypotenuse, $c$ is opposite and $b$ is adjacent\n",
    "- whether a side is \"opposite\" or \"adjacent\" depends on which angle is taken to be the reference angle\n",
    "  \n",
    "<img src=\"resources/opposite_adjacent_hypotenuse_2.png\"/>"
   ]
  },
  {
   "cell_type": "markdown",
   "metadata": {},
   "source": [
    "# Trigonometric Ratios"
   ]
  },
  {
   "cell_type": "markdown",
   "metadata": {},
   "source": [
    "- now that we can talk about the sides of a right triangle using words like opposite, adjacent and hypotenuse, I want to talk about the ratios of those sides\n",
    "- the trigonometric ratios we're going to discuss are called *sine*, *cosine* and *tangent*\n",
    "\n",
    "\n",
    "- the sine of an angle is the ratio of the opposite to the hypotenuse: $\\sin(\\theta) = \\dfrac{\\text{opposite}}{\\text{hypotenuse}}$\n",
    "\n",
    "\n",
    "- the cosine of an angle is the ratio of the adjacent to the hypotenuse, $\\cos(\\theta) = \\dfrac{\\text{adjacent}}{\\text{hypotenuse}}$\n",
    "\n",
    "\n",
    "- the tangent of an angle is the ratio of the opposite to the adjacent, $\\tan(\\theta) = \\dfrac{\\text{opposite}}{\\text{adjacent}}$"
   ]
  },
  {
   "cell_type": "markdown",
   "metadata": {},
   "source": [
    "# Looking up Sin, Cos, and Tan"
   ]
  },
  {
   "cell_type": "markdown",
   "metadata": {},
   "source": [
    "## Looking up Trig Ratios\n",
    "\n",
    "- there are three ways you could find the value of a trig function at a particular angle\n",
    "\n",
    "**1. Use a table**\n",
    "  - this is how engineers used to find trig ratios before the days of computers\n",
    "  - for example, from the table below I can see that $\\sin(60)=0.866$\n",
    "\n",
    "| angle | sin | cos | tan |\n",
    "| :---: | :---: | :---: | :---: |\n",
    "| 0 | 0.000 | 1.000 | 0.000 |\n",
    "| 10 | 0.174 | 0.985 | 0.176 |\n",
    "| 20 | 0.342 | 0.940 | 0.364 |\n",
    "| 30 | 0.500 | 0.866 | 0.577 |\n",
    "| 40 | 0.643 | 0.766 | 0.839 |\n",
    "| 50 | 0.766 | 0.643 | 1.192 |\n",
    "| 60 | 0.866 | 0.500 | 1.732 |\n",
    "| 70 | 0.940 | 0.342 | 2.747 |\n",
    "| 80 | 0.985 | 0.174 | 5.671 |\n",
    "\n",
    "  - the problem with this technique is that there will always be gaps in a table\n",
    "\n",
    "**2. Use a graph**\n",
    "  - one way to try to fill these gaps is by consulting a graph of a trigonometric function. For example, the image below shows a plot of $\\sin(\\theta)$ for $0 \\leq \\theta \\leq 360$\n",
    "\n",
    "![](https://d17h27t6h515a5.cloudfront.net/topher/2017/December/5a2efe68_sine/sine.png)\n",
    "\n",
    "  - these graphs are nice because they give a good visual sense for how these ratios behave, but they aren't great for getting accurate values\n",
    "\n",
    "**3. Use a computer!**\n",
    "  - this probably isn't a surprise, but python has built in functions to calculate sine, cosine, and tangent...\n",
    "  - in fact, you can even type \"sin(60 degrees)\" into **Google** and you'll get the correct answer!\n",
    "    - note how I wrote in \"sin(60 degrees)\" instead of just \"sin(60)\"\n",
    "    - that's because these functions generally expect their input to be in **radians**"
   ]
  },
  {
   "cell_type": "code",
   "execution_count": 5,
   "metadata": {},
   "outputs": [
    {
     "name": "stdout",
     "output_type": "stream",
     "text": [
      "-0.3048106211022167\n"
     ]
    },
    {
     "data": {
      "application/javascript": [
       "\n",
       "            setTimeout(function() {\n",
       "                var nbb_cell_id = 5;\n",
       "                var nbb_unformatted_code = \"# Python's math module has functions called sin, cos, and tan\\n# as well as the constant \\\"pi\\\" (which we will find useful shortly)\\nfrom math import sin, cos, tan, pi\\n\\n# Run this cell. What do you expect the output to be?\\nprint(sin(60))\";\n",
       "                var nbb_formatted_code = \"# Python's math module has functions called sin, cos, and tan\\n# as well as the constant \\\"pi\\\" (which we will find useful shortly)\\nfrom math import sin, cos, tan, pi\\n\\n# Run this cell. What do you expect the output to be?\\nprint(sin(60))\";\n",
       "                var nbb_cells = Jupyter.notebook.get_cells();\n",
       "                for (var i = 0; i < nbb_cells.length; ++i) {\n",
       "                    if (nbb_cells[i].input_prompt_number == nbb_cell_id) {\n",
       "                        if (nbb_cells[i].get_text() == nbb_unformatted_code) {\n",
       "                             nbb_cells[i].set_text(nbb_formatted_code);\n",
       "                        }\n",
       "                        break;\n",
       "                    }\n",
       "                }\n",
       "            }, 500);\n",
       "            "
      ],
      "text/plain": [
       "<IPython.core.display.Javascript object>"
      ]
     },
     "metadata": {},
     "output_type": "display_data"
    }
   ],
   "source": [
    "# Python's math module has functions called sin, cos, and tan\n",
    "# as well as the constant \"pi\" (which we will find useful shortly)\n",
    "from math import sin, cos, tan, pi\n",
    "\n",
    "# Run this cell. What do you expect the output to be?\n",
    "print(sin(60))"
   ]
  },
  {
   "cell_type": "markdown",
   "metadata": {},
   "source": [
    "### EXERCISE 1 - Write a function that converts degrees to radians\n",
    "\n",
    "- implement the following math in code: $\\theta_{\\text{radians}} = \\theta_{\\text{degrees}} \\times \\frac{\\pi}{180}$"
   ]
  },
  {
   "cell_type": "code",
   "execution_count": 6,
   "metadata": {},
   "outputs": [
    {
     "name": "stdout",
     "output_type": "stream",
     "text": [
      "Nice work! Your degrees to radians function works!\n",
      "sin( 0 degrees) = 0.0\n",
      "sin( 30 degrees) = 0.49999999999999994\n",
      "sin( 45 degrees) = 0.7071067811865475\n",
      "sin( 60 degrees) = 0.8660254037844386\n",
      "sin( 90 degrees) = 1.0\n"
     ]
    },
    {
     "data": {
      "application/javascript": [
       "\n",
       "            setTimeout(function() {\n",
       "                var nbb_cell_id = 6;\n",
       "                var nbb_unformatted_code = \"from math import pi\\n\\n\\ndef deg2rad(theta):\\n    \\\"\\\"\\\"Converts degrees to radians\\\"\\\"\\\"\\n    # TODO - implement this function\\n    return theta * pi / 180\\n\\n\\nassert deg2rad(45.0) == pi / 4\\nassert deg2rad(90.0) == pi / 2\\nprint(\\\"Nice work! Your degrees to radians function works!\\\")\\n\\nfor theta in [0, 30, 45, 60, 90]:\\n    theta_rad = deg2rad(theta)\\n    sin_theta = sin(theta_rad)\\n    print(\\\"sin(\\\", theta, \\\"degrees) =\\\", sin_theta)\";\n",
       "                var nbb_formatted_code = \"from math import pi\\n\\n\\ndef deg2rad(theta):\\n    \\\"\\\"\\\"Converts degrees to radians\\\"\\\"\\\"\\n    # TODO - implement this function\\n    return theta * pi / 180\\n\\n\\nassert deg2rad(45.0) == pi / 4\\nassert deg2rad(90.0) == pi / 2\\nprint(\\\"Nice work! Your degrees to radians function works!\\\")\\n\\nfor theta in [0, 30, 45, 60, 90]:\\n    theta_rad = deg2rad(theta)\\n    sin_theta = sin(theta_rad)\\n    print(\\\"sin(\\\", theta, \\\"degrees) =\\\", sin_theta)\";\n",
       "                var nbb_cells = Jupyter.notebook.get_cells();\n",
       "                for (var i = 0; i < nbb_cells.length; ++i) {\n",
       "                    if (nbb_cells[i].input_prompt_number == nbb_cell_id) {\n",
       "                        if (nbb_cells[i].get_text() == nbb_unformatted_code) {\n",
       "                             nbb_cells[i].set_text(nbb_formatted_code);\n",
       "                        }\n",
       "                        break;\n",
       "                    }\n",
       "                }\n",
       "            }, 500);\n",
       "            "
      ],
      "text/plain": [
       "<IPython.core.display.Javascript object>"
      ]
     },
     "metadata": {},
     "output_type": "display_data"
    }
   ],
   "source": [
    "from math import pi\n",
    "\n",
    "\n",
    "def deg2rad(theta):\n",
    "    \"\"\"Converts degrees to radians\"\"\"\n",
    "    # TODO - implement this function\n",
    "    return theta * pi / 180\n",
    "\n",
    "\n",
    "assert deg2rad(45.0) == pi / 4\n",
    "assert deg2rad(90.0) == pi / 2\n",
    "print(\"Nice work! Your degrees to radians function works!\")\n",
    "\n",
    "for theta in [0, 30, 45, 60, 90]:\n",
    "    theta_rad = deg2rad(theta)\n",
    "    sin_theta = sin(theta_rad)\n",
    "    print(\"sin(\", theta, \"degrees) =\", sin_theta)"
   ]
  },
  {
   "cell_type": "markdown",
   "metadata": {},
   "source": [
    "### EXERCISE 2 - Make plots of cosine and tangent"
   ]
  },
  {
   "cell_type": "code",
   "execution_count": 7,
   "metadata": {},
   "outputs": [
    {
     "data": {
      "application/javascript": [
       "\n",
       "            setTimeout(function() {\n",
       "                var nbb_cell_id = 7;\n",
       "                var nbb_unformatted_code = \"import numpy as np\\nfrom matplotlib import pyplot as plt\\n\\n\\ndef plot_sine(min_theta, max_theta):\\n    \\\"\\\"\\\"\\n    Generates a plot of sin(theta) between min_theta\\n    and max_theta (both of which are specified in degrees).\\n    \\\"\\\"\\\"\\n    angles_degrees = np.linspace(min_theta, max_theta)\\n    angles_radians = deg2rad(angles_degrees)\\n    values = np.sin(angles_radians)\\n    X = angles_degrees\\n    Y = values\\n    plt.plot(X, Y)\\n    plt.show()\\n\\n\\n# EXERCISE 2.1 Implement this! Try not to look at the\\n#  implementation of plot_sine TOO much...\\ndef plot_cosine(min_theta, max_theta):\\n    \\\"\\\"\\\"\\n    Generates a plot of sin(theta) between min_theta\\n    and max_theta (both of which are specified in degrees).\\n    \\\"\\\"\\\"\\n    angles_degrees = np.linspace(min_theta, max_theta)\\n    angles_radians = deg2rad(angles_degrees)\\n    values = np.cos(angles_radians)\\n    X = angles_degrees\\n    Y = values\\n    plt.plot(X, Y)\\n    plt.show()\";\n",
       "                var nbb_formatted_code = \"import numpy as np\\nfrom matplotlib import pyplot as plt\\n\\n\\ndef plot_sine(min_theta, max_theta):\\n    \\\"\\\"\\\"\\n    Generates a plot of sin(theta) between min_theta\\n    and max_theta (both of which are specified in degrees).\\n    \\\"\\\"\\\"\\n    angles_degrees = np.linspace(min_theta, max_theta)\\n    angles_radians = deg2rad(angles_degrees)\\n    values = np.sin(angles_radians)\\n    X = angles_degrees\\n    Y = values\\n    plt.plot(X, Y)\\n    plt.show()\\n\\n\\n# EXERCISE 2.1 Implement this! Try not to look at the\\n#  implementation of plot_sine TOO much...\\ndef plot_cosine(min_theta, max_theta):\\n    \\\"\\\"\\\"\\n    Generates a plot of sin(theta) between min_theta\\n    and max_theta (both of which are specified in degrees).\\n    \\\"\\\"\\\"\\n    angles_degrees = np.linspace(min_theta, max_theta)\\n    angles_radians = deg2rad(angles_degrees)\\n    values = np.cos(angles_radians)\\n    X = angles_degrees\\n    Y = values\\n    plt.plot(X, Y)\\n    plt.show()\";\n",
       "                var nbb_cells = Jupyter.notebook.get_cells();\n",
       "                for (var i = 0; i < nbb_cells.length; ++i) {\n",
       "                    if (nbb_cells[i].input_prompt_number == nbb_cell_id) {\n",
       "                        if (nbb_cells[i].get_text() == nbb_unformatted_code) {\n",
       "                             nbb_cells[i].set_text(nbb_formatted_code);\n",
       "                        }\n",
       "                        break;\n",
       "                    }\n",
       "                }\n",
       "            }, 500);\n",
       "            "
      ],
      "text/plain": [
       "<IPython.core.display.Javascript object>"
      ]
     },
     "metadata": {},
     "output_type": "display_data"
    }
   ],
   "source": [
    "import numpy as np\n",
    "from matplotlib import pyplot as plt\n",
    "\n",
    "\n",
    "def plot_sine(min_theta, max_theta):\n",
    "    \"\"\"\n",
    "    Generates a plot of sin(theta) between min_theta\n",
    "    and max_theta (both of which are specified in degrees).\n",
    "    \"\"\"\n",
    "    angles_degrees = np.linspace(min_theta, max_theta)\n",
    "    angles_radians = deg2rad(angles_degrees)\n",
    "    values = np.sin(angles_radians)\n",
    "    X = angles_degrees\n",
    "    Y = values\n",
    "    plt.plot(X, Y)\n",
    "    plt.show()\n",
    "\n",
    "\n",
    "# EXERCISE 2.1 Implement this! Try not to look at the\n",
    "#  implementation of plot_sine TOO much...\n",
    "def plot_cosine(min_theta, max_theta):\n",
    "    \"\"\"\n",
    "    Generates a plot of sin(theta) between min_theta\n",
    "    and max_theta (both of which are specified in degrees).\n",
    "    \"\"\"\n",
    "    angles_degrees = np.linspace(min_theta, max_theta)\n",
    "    angles_radians = deg2rad(angles_degrees)\n",
    "    values = np.cos(angles_radians)\n",
    "    X = angles_degrees\n",
    "    Y = values\n",
    "    plt.plot(X, Y)\n",
    "    plt.show()"
   ]
  },
  {
   "cell_type": "code",
   "execution_count": 8,
   "metadata": {},
   "outputs": [
    {
     "data": {
      "image/png": "[encoded data removed]",
      "text/plain": [
       "<Figure size 432x288 with 1 Axes>"
      ]
     },
     "metadata": {
      "needs_background": "light"
     },
     "output_type": "display_data"
    },
    {
     "data": {
      "application/javascript": [
       "\n",
       "            setTimeout(function() {\n",
       "                var nbb_cell_id = 8;\n",
       "                var nbb_unformatted_code = \"plot_sine(0, 360)\";\n",
       "                var nbb_formatted_code = \"plot_sine(0, 360)\";\n",
       "                var nbb_cells = Jupyter.notebook.get_cells();\n",
       "                for (var i = 0; i < nbb_cells.length; ++i) {\n",
       "                    if (nbb_cells[i].input_prompt_number == nbb_cell_id) {\n",
       "                        if (nbb_cells[i].get_text() == nbb_unformatted_code) {\n",
       "                             nbb_cells[i].set_text(nbb_formatted_code);\n",
       "                        }\n",
       "                        break;\n",
       "                    }\n",
       "                }\n",
       "            }, 500);\n",
       "            "
      ],
      "text/plain": [
       "<IPython.core.display.Javascript object>"
      ]
     },
     "metadata": {},
     "output_type": "display_data"
    }
   ],
   "source": [
    "plot_sine(0, 360)"
   ]
  },
  {
   "cell_type": "code",
   "execution_count": 9,
   "metadata": {
    "scrolled": true
   },
   "outputs": [
    {
     "data": {
      "image/png": "[encoded data removed]",
      "text/plain": [
       "<Figure size 432x288 with 1 Axes>"
      ]
     },
     "metadata": {
      "needs_background": "light"
     },
     "output_type": "display_data"
    },
    {
     "data": {
      "application/javascript": [
       "\n",
       "            setTimeout(function() {\n",
       "                var nbb_cell_id = 9;\n",
       "                var nbb_unformatted_code = \"plot_cosine(0, 360)\";\n",
       "                var nbb_formatted_code = \"plot_cosine(0, 360)\";\n",
       "                var nbb_cells = Jupyter.notebook.get_cells();\n",
       "                for (var i = 0; i < nbb_cells.length; ++i) {\n",
       "                    if (nbb_cells[i].input_prompt_number == nbb_cell_id) {\n",
       "                        if (nbb_cells[i].get_text() == nbb_unformatted_code) {\n",
       "                             nbb_cells[i].set_text(nbb_formatted_code);\n",
       "                        }\n",
       "                        break;\n",
       "                    }\n",
       "                }\n",
       "            }, 500);\n",
       "            "
      ],
      "text/plain": [
       "<IPython.core.display.Javascript object>"
      ]
     },
     "metadata": {},
     "output_type": "display_data"
    }
   ],
   "source": [
    "plot_cosine(0, 360)"
   ]
  },
  {
   "cell_type": "markdown",
   "metadata": {},
   "source": [
    "# Trigonometry and Vehicle Motion"
   ]
  },
  {
   "cell_type": "markdown",
   "metadata": {},
   "source": [
    "- remember our initial problem?\n",
    "  - given the vehicles heading angle and the displacement, calculate delta x and delta y\n",
    "- now, instead of thinking about a vehicle and a displacement, we can just think about a right triangle\n",
    "  - this let's us change our problem statement to\n",
    "    - given the right triangles reference angle and hypotenuse, calculate the length of the adjacent and opposite sides\n",
    "\n",
    "\n",
    "- now that we can phrase our driving problem as a triangle problem, we can solve it with trigonometry"
   ]
  },
  {
   "cell_type": "markdown",
   "metadata": {},
   "source": [
    "# Solving Trig Problems"
   ]
  },
  {
   "cell_type": "markdown",
   "metadata": {},
   "source": [
    "- let me demonstrate how to solve a problem like this\n",
    "- we have a vehicle with a heading of $65$ degrees and the displacement of $17$ meters\n",
    "- I'm going to show you how I would find out the $x$ systematically\n",
    "  - the first thing I'm going to do is draw the triangle\n",
    "    - here we have a right triangle with a reference angle of $65$ degrees\n",
    "  - next, I'm going to identify the known and unknown sides of the triangle\n",
    "    - in this case, the known side is the hypotenuse with a length of $17$ meters, and the unknown side is this $\\Delta x$, and that's the adjacent side\n",
    "  - now I want to find the trigonometric ratio that relates the known and unknown sides\n",
    "    - in this case, I'm looking for the ratio that relates the hypotenuse to the adjacent\n",
    "    - that happens to be the cosine because cosine is adjacent over hypotenuse which, in this case, is $\\Delta x$ over $17$\n",
    "  - now, all that's left to do is do the math\n",
    "    - the first thing I want to do, now that I've cleaned things up on the left over here, is rearrange this equation to get $\\Delta x$ alone\n",
    "    - then, I can use Python or a calculator to look up the cosine of $65$ degrees\n",
    "    - and remember, you really have to be careful with degrees and radians here\n",
    "    - once I get the answer, I see the cosine of $65$ degrees is $0.423$ and now I just do up the multiplication to find that $\\Delta x$ is $7.18$ meters\n",
    "\n",
    "<img src=\"resources/solving_trig_problems.png\"/>"
   ]
  },
  {
   "cell_type": "markdown",
   "metadata": {},
   "source": [
    "# Keeping Track of Vehicle x and y\n",
    "\n",
    "- now that you know how to solve trigonometry problems, you can keep track of a vehicle's $x$ and $y$ coordinates as it moves in any direction\n",
    "\n",
    "- the goal of this lesson is for you to implement a few methods in a `Vehicle` class\n",
    "- once complete, your code will be used like this:\n",
    "\n",
    "```python\n",
    "# instantiate vehicle\n",
    "v = Vehicle()\n",
    "\n",
    "# drive forward 10 meters\n",
    "v.drive_forward(10)\n",
    "\n",
    "# turn left in 10 increments of 9 degrees each.\n",
    "for _ in range(10):\n",
    "    v.turn(9.0)\n",
    "    v.drive_forward(1)\n",
    "\n",
    "v.drive_forward(10)\n",
    "\n",
    "v.show_trajectory()\n",
    "```\n",
    "\n",
    "and this final call to `show_trajectory` should produce a graph that looks like this:\n",
    "\n",
    "![](https://d17h27t6h515a5.cloudfront.net/topher/2017/December/5a3184b7_xy-traj/xy-traj.png)"
   ]
  },
  {
   "cell_type": "markdown",
   "metadata": {},
   "source": [
    "- if, instead of calling \n",
    "\n",
    "```python\n",
    "v.show_trajectory()\n",
    "```\n",
    "\n",
    "we had written:\n",
    "\n",
    "```python\n",
    "print(v.history)\n",
    "```\n",
    "\n",
    "we would have seen a list of `(x,y)` tuples representing the vehicle's history that looks like this:\n",
    "\n",
    "```python\n",
    "[(0.0, 0.0),\n",
    " (10.0, 0.0),\n",
    " (10.988, 0.156),\n",
    " (11.939, 0.465),\n",
    " (12.830, 0.919),\n",
    " (13.639, 1.507),\n",
    " (14.346, 2.214),\n",
    " (14.934, 3.023),\n",
    " (15.388, 3.914),\n",
    " (15.697, 4.865),\n",
    " (15.853, 5.853),\n",
    " (15.853, 6.853)]\n",
    "```\n",
    "\n",
    "- note that it's this `history` data that is used to plot the points in `show_trajectory`"
   ]
  },
  {
   "cell_type": "code",
   "execution_count": 10,
   "metadata": {},
   "outputs": [
    {
     "data": {
      "application/javascript": [
       "\n",
       "            setTimeout(function() {\n",
       "                var nbb_cell_id = 10;\n",
       "                var nbb_unformatted_code = \"import numpy as np\\nfrom math import sin, cos, pi\\nfrom matplotlib import pyplot as plt\\n\\n# TODO\\n# Complete the methods in the vehicle class.\\n# If the requirements of any method are unclear, look at the testing code\\n\\n\\nclass Vehicle:\\n    def __init__(self):\\n        self.x = 0.0  # meters\\n        self.y = 0.0\\n        self.heading = 0.0  # radians\\n        self.history = []\\n\\n    def drive_forward(self, displacement):\\n        \\\"\\\"\\\"\\n        Updates x and y coordinates of vehicle based on \\n        heading and appends previous (x,y) position to\\n        history.\\n        \\\"\\\"\\\"\\n        delta_x = displacement * np.cos(self.heading)\\n        delta_y = displacement * np.sin(self.heading)\\n\\n        new_x = self.x + delta_x\\n        new_y = self.y + delta_y\\n\\n        self.history.append((self.x, self.y))\\n\\n        self.x = new_x\\n        self.y = new_y\\n\\n    def set_heading(self, heading_in_degrees):\\n        \\\"\\\"\\\"\\n        Sets the current heading (in radians) to a new value\\n        based on heading_in_degrees. Vehicle heading is always\\n        between 0 and 2 * pi.\\n        \\\"\\\"\\\"\\n        assert -180 <= heading_in_degrees <= 180\\n        rads = (heading_in_degrees * pi / 180) % (2 * pi)\\n        self.heading = rads\\n\\n    def turn(self, angle_in_degrees):\\n        \\\"\\\"\\\"\\n        Changes the vehicle's heading by angle_in_degrees. Vehicle \\n        heading is always between 0 and 2 * pi.\\n        \\\"\\\"\\\"\\n        rads = angle_in_degrees * pi / 180\\n        new_head = self.heading + rads % (2 * pi)\\n        self.heading = new_head\\n\\n    def show_trajectory(self):\\n        \\\"\\\"\\\"\\n        Creates a scatter plot of vehicle's trajectory.\\n        \\\"\\\"\\\"\\n        # get the x and y coordinates from vehicle's history\\n        X = [p[0] for p in self.history]\\n        Y = [p[1] for p in self.history]\\n\\n        # don't forget to add the CURRENT x and y\\n        X.append(self.x)\\n        Y.append(self.y)\\n\\n        # create scatter AND plot (to connect the dots)\\n        plt.scatter(X, Y)\\n        plt.plot(X, Y)\\n\\n        plt.title(\\\"Vehicle (x, y) Trajectory\\\")\\n        plt.xlabel(\\\"X Position\\\")\\n        plt.ylabel(\\\"Y Position\\\")\\n        plt.axes().set_aspect(\\\"equal\\\", \\\"datalim\\\")\\n        plt.show()\";\n",
       "                var nbb_formatted_code = \"import numpy as np\\nfrom math import sin, cos, pi\\nfrom matplotlib import pyplot as plt\\n\\n# TODO\\n# Complete the methods in the vehicle class.\\n# If the requirements of any method are unclear, look at the testing code\\n\\n\\nclass Vehicle:\\n    def __init__(self):\\n        self.x = 0.0  # meters\\n        self.y = 0.0\\n        self.heading = 0.0  # radians\\n        self.history = []\\n\\n    def drive_forward(self, displacement):\\n        \\\"\\\"\\\"\\n        Updates x and y coordinates of vehicle based on \\n        heading and appends previous (x,y) position to\\n        history.\\n        \\\"\\\"\\\"\\n        delta_x = displacement * np.cos(self.heading)\\n        delta_y = displacement * np.sin(self.heading)\\n\\n        new_x = self.x + delta_x\\n        new_y = self.y + delta_y\\n\\n        self.history.append((self.x, self.y))\\n\\n        self.x = new_x\\n        self.y = new_y\\n\\n    def set_heading(self, heading_in_degrees):\\n        \\\"\\\"\\\"\\n        Sets the current heading (in radians) to a new value\\n        based on heading_in_degrees. Vehicle heading is always\\n        between 0 and 2 * pi.\\n        \\\"\\\"\\\"\\n        assert -180 <= heading_in_degrees <= 180\\n        rads = (heading_in_degrees * pi / 180) % (2 * pi)\\n        self.heading = rads\\n\\n    def turn(self, angle_in_degrees):\\n        \\\"\\\"\\\"\\n        Changes the vehicle's heading by angle_in_degrees. Vehicle \\n        heading is always between 0 and 2 * pi.\\n        \\\"\\\"\\\"\\n        rads = angle_in_degrees * pi / 180\\n        new_head = self.heading + rads % (2 * pi)\\n        self.heading = new_head\\n\\n    def show_trajectory(self):\\n        \\\"\\\"\\\"\\n        Creates a scatter plot of vehicle's trajectory.\\n        \\\"\\\"\\\"\\n        # get the x and y coordinates from vehicle's history\\n        X = [p[0] for p in self.history]\\n        Y = [p[1] for p in self.history]\\n\\n        # don't forget to add the CURRENT x and y\\n        X.append(self.x)\\n        Y.append(self.y)\\n\\n        # create scatter AND plot (to connect the dots)\\n        plt.scatter(X, Y)\\n        plt.plot(X, Y)\\n\\n        plt.title(\\\"Vehicle (x, y) Trajectory\\\")\\n        plt.xlabel(\\\"X Position\\\")\\n        plt.ylabel(\\\"Y Position\\\")\\n        plt.axes().set_aspect(\\\"equal\\\", \\\"datalim\\\")\\n        plt.show()\";\n",
       "                var nbb_cells = Jupyter.notebook.get_cells();\n",
       "                for (var i = 0; i < nbb_cells.length; ++i) {\n",
       "                    if (nbb_cells[i].input_prompt_number == nbb_cell_id) {\n",
       "                        if (nbb_cells[i].get_text() == nbb_unformatted_code) {\n",
       "                             nbb_cells[i].set_text(nbb_formatted_code);\n",
       "                        }\n",
       "                        break;\n",
       "                    }\n",
       "                }\n",
       "            }, 500);\n",
       "            "
      ],
      "text/plain": [
       "<IPython.core.display.Javascript object>"
      ]
     },
     "metadata": {},
     "output_type": "display_data"
    }
   ],
   "source": [
    "import numpy as np\n",
    "from math import sin, cos, pi\n",
    "from matplotlib import pyplot as plt\n",
    "\n",
    "# TODO\n",
    "# Complete the methods in the vehicle class.\n",
    "# If the requirements of any method are unclear, look at the testing code\n",
    "\n",
    "\n",
    "class Vehicle:\n",
    "    def __init__(self):\n",
    "        self.x = 0.0  # meters\n",
    "        self.y = 0.0\n",
    "        self.heading = 0.0  # radians\n",
    "        self.history = []\n",
    "\n",
    "    def drive_forward(self, displacement):\n",
    "        \"\"\"\n",
    "        Updates x and y coordinates of vehicle based on \n",
    "        heading and appends previous (x,y) position to\n",
    "        history.\n",
    "        \"\"\"\n",
    "        delta_x = displacement * np.cos(self.heading)\n",
    "        delta_y = displacement * np.sin(self.heading)\n",
    "\n",
    "        new_x = self.x + delta_x\n",
    "        new_y = self.y + delta_y\n",
    "\n",
    "        self.history.append((self.x, self.y))\n",
    "\n",
    "        self.x = new_x\n",
    "        self.y = new_y\n",
    "\n",
    "    def set_heading(self, heading_in_degrees):\n",
    "        \"\"\"\n",
    "        Sets the current heading (in radians) to a new value\n",
    "        based on heading_in_degrees. Vehicle heading is always\n",
    "        between 0 and 2 * pi.\n",
    "        \"\"\"\n",
    "        assert -180 <= heading_in_degrees <= 180\n",
    "        rads = (heading_in_degrees * pi / 180) % (2 * pi)\n",
    "        self.heading = rads\n",
    "\n",
    "    def turn(self, angle_in_degrees):\n",
    "        \"\"\"\n",
    "        Changes the vehicle's heading by angle_in_degrees. Vehicle \n",
    "        heading is always between 0 and 2 * pi.\n",
    "        \"\"\"\n",
    "        rads = angle_in_degrees * pi / 180\n",
    "        new_head = self.heading + rads % (2 * pi)\n",
    "        self.heading = new_head\n",
    "\n",
    "    def show_trajectory(self):\n",
    "        \"\"\"\n",
    "        Creates a scatter plot of vehicle's trajectory.\n",
    "        \"\"\"\n",
    "        # get the x and y coordinates from vehicle's history\n",
    "        X = [p[0] for p in self.history]\n",
    "        Y = [p[1] for p in self.history]\n",
    "\n",
    "        # don't forget to add the CURRENT x and y\n",
    "        X.append(self.x)\n",
    "        Y.append(self.y)\n",
    "\n",
    "        # create scatter AND plot (to connect the dots)\n",
    "        plt.scatter(X, Y)\n",
    "        plt.plot(X, Y)\n",
    "\n",
    "        plt.title(\"Vehicle (x, y) Trajectory\")\n",
    "        plt.xlabel(\"X Position\")\n",
    "        plt.ylabel(\"Y Position\")\n",
    "        plt.axes().set_aspect(\"equal\", \"datalim\")\n",
    "        plt.show()"
   ]
  },
  {
   "cell_type": "code",
   "execution_count": 11,
   "metadata": {},
   "outputs": [
    {
     "name": "stdout",
     "output_type": "stream",
     "text": [
      "Your set_heading function looks good!\n",
      "Congratulations! Your vehicle's drive_forward method works\n"
     ]
    },
    {
     "data": {
      "application/javascript": [
       "\n",
       "            setTimeout(function() {\n",
       "                var nbb_cell_id = 11;\n",
       "                var nbb_unformatted_code = \"# Use this testing code to check your code for correctness.\\ndef close_enough(v1, v2):\\n    \\\"\\\"\\\"\\n    Helper function for testing if two values are \\\"close enough\\\" \\n    to be considered equal.\\n    \\\"\\\"\\\"\\n    return abs(v1 - v2) <= 0.0001\\n\\n\\ndef test_set_heading(Vehicle):\\n    v = Vehicle()\\n    if v.heading != 0:\\n        print(\\\"Error\\\")\\n        print(\\\"Do not modify __init__.\\\")\\n        print(\\\"Vehicle starts with heading of 0.\\\")\\n        return\\n\\n    v.set_heading(90)\\n    if v.heading == 90:\\n        print(\\\"Error\\\")\\n        print(\\\"Heading should be stored in radians, not degrees.\\\")\\n        return\\n\\n    if not close_enough(v.heading, pi / 2):\\n        print(\\\"Error\\\")\\n        print(\\\"After calling set_heading(90), heading was not pi/2\\\")\\n        print(\\\"Instead, heading was\\\", v.heading)\\n        return\\n\\n    print(\\\"Your set_heading function looks good!\\\")\\n\\n\\ndef test_drive_forward(Vehicle):\\n\\n    # check for appropriate behavior when driving EAST\\n    v = Vehicle()\\n    v.set_heading(0.0)\\n    v.drive_forward(10)\\n    if not close_enough(v.x, 10) or not close_enough(v.y, 0):\\n        print(\\\"Error\\\")\\n        print(\\\"When vehicle's heading is 0, a motion of 10\\\")\\n        print(\\\"Should move the vehicle forward 10 in the x direction\\\")\\n        return\\n\\n    # check for appropriate behavior when driving NORTH\\n    v = Vehicle()\\n    v.set_heading(90.0)\\n    v.drive_forward(10)\\n    if not close_enough(v.y, 10) or not close_enough(v.x, 0):\\n        print(\\\"Error\\\")\\n        print(\\\"When vehicle's heading is pi/2 (north), a motion of 10\\\")\\n        print(\\\"Should move the vehicle forward 10 in the y direction\\\")\\n        return\\n\\n    # check for appropriate behavior when driving at an angle\\n    v = Vehicle()\\n    v.set_heading(30.0)\\n    v.drive_forward(10)\\n    if not close_enough(v.y, 5) or not close_enough(v.x, 8.66025):\\n        print(\\\"Error\\\")\\n        print(\\\"When vehicle's heading is pi/2 (north), a motion of 10\\\")\\n        print(\\\"Should move the vehicle forward 10 in the y direction\\\")\\n        return\\n\\n    print(\\\"Congratulations! Your vehicle's drive_forward method works\\\")\\n\\n\\ntest_set_heading(Vehicle)\\ntest_drive_forward(Vehicle)\";\n",
       "                var nbb_formatted_code = \"# Use this testing code to check your code for correctness.\\ndef close_enough(v1, v2):\\n    \\\"\\\"\\\"\\n    Helper function for testing if two values are \\\"close enough\\\" \\n    to be considered equal.\\n    \\\"\\\"\\\"\\n    return abs(v1 - v2) <= 0.0001\\n\\n\\ndef test_set_heading(Vehicle):\\n    v = Vehicle()\\n    if v.heading != 0:\\n        print(\\\"Error\\\")\\n        print(\\\"Do not modify __init__.\\\")\\n        print(\\\"Vehicle starts with heading of 0.\\\")\\n        return\\n\\n    v.set_heading(90)\\n    if v.heading == 90:\\n        print(\\\"Error\\\")\\n        print(\\\"Heading should be stored in radians, not degrees.\\\")\\n        return\\n\\n    if not close_enough(v.heading, pi / 2):\\n        print(\\\"Error\\\")\\n        print(\\\"After calling set_heading(90), heading was not pi/2\\\")\\n        print(\\\"Instead, heading was\\\", v.heading)\\n        return\\n\\n    print(\\\"Your set_heading function looks good!\\\")\\n\\n\\ndef test_drive_forward(Vehicle):\\n\\n    # check for appropriate behavior when driving EAST\\n    v = Vehicle()\\n    v.set_heading(0.0)\\n    v.drive_forward(10)\\n    if not close_enough(v.x, 10) or not close_enough(v.y, 0):\\n        print(\\\"Error\\\")\\n        print(\\\"When vehicle's heading is 0, a motion of 10\\\")\\n        print(\\\"Should move the vehicle forward 10 in the x direction\\\")\\n        return\\n\\n    # check for appropriate behavior when driving NORTH\\n    v = Vehicle()\\n    v.set_heading(90.0)\\n    v.drive_forward(10)\\n    if not close_enough(v.y, 10) or not close_enough(v.x, 0):\\n        print(\\\"Error\\\")\\n        print(\\\"When vehicle's heading is pi/2 (north), a motion of 10\\\")\\n        print(\\\"Should move the vehicle forward 10 in the y direction\\\")\\n        return\\n\\n    # check for appropriate behavior when driving at an angle\\n    v = Vehicle()\\n    v.set_heading(30.0)\\n    v.drive_forward(10)\\n    if not close_enough(v.y, 5) or not close_enough(v.x, 8.66025):\\n        print(\\\"Error\\\")\\n        print(\\\"When vehicle's heading is pi/2 (north), a motion of 10\\\")\\n        print(\\\"Should move the vehicle forward 10 in the y direction\\\")\\n        return\\n\\n    print(\\\"Congratulations! Your vehicle's drive_forward method works\\\")\\n\\n\\ntest_set_heading(Vehicle)\\ntest_drive_forward(Vehicle)\";\n",
       "                var nbb_cells = Jupyter.notebook.get_cells();\n",
       "                for (var i = 0; i < nbb_cells.length; ++i) {\n",
       "                    if (nbb_cells[i].input_prompt_number == nbb_cell_id) {\n",
       "                        if (nbb_cells[i].get_text() == nbb_unformatted_code) {\n",
       "                             nbb_cells[i].set_text(nbb_formatted_code);\n",
       "                        }\n",
       "                        break;\n",
       "                    }\n",
       "                }\n",
       "            }, 500);\n",
       "            "
      ],
      "text/plain": [
       "<IPython.core.display.Javascript object>"
      ]
     },
     "metadata": {},
     "output_type": "display_data"
    }
   ],
   "source": [
    "# Use this testing code to check your code for correctness.\n",
    "def close_enough(v1, v2):\n",
    "    \"\"\"\n",
    "    Helper function for testing if two values are \"close enough\" \n",
    "    to be considered equal.\n",
    "    \"\"\"\n",
    "    return abs(v1 - v2) <= 0.0001\n",
    "\n",
    "\n",
    "def test_set_heading(Vehicle):\n",
    "    v = Vehicle()\n",
    "    if v.heading != 0:\n",
    "        print(\"Error\")\n",
    "        print(\"Do not modify __init__.\")\n",
    "        print(\"Vehicle starts with heading of 0.\")\n",
    "        return\n",
    "\n",
    "    v.set_heading(90)\n",
    "    if v.heading == 90:\n",
    "        print(\"Error\")\n",
    "        print(\"Heading should be stored in radians, not degrees.\")\n",
    "        return\n",
    "\n",
    "    if not close_enough(v.heading, pi / 2):\n",
    "        print(\"Error\")\n",
    "        print(\"After calling set_heading(90), heading was not pi/2\")\n",
    "        print(\"Instead, heading was\", v.heading)\n",
    "        return\n",
    "\n",
    "    print(\"Your set_heading function looks good!\")\n",
    "\n",
    "\n",
    "def test_drive_forward(Vehicle):\n",
    "\n",
    "    # check for appropriate behavior when driving EAST\n",
    "    v = Vehicle()\n",
    "    v.set_heading(0.0)\n",
    "    v.drive_forward(10)\n",
    "    if not close_enough(v.x, 10) or not close_enough(v.y, 0):\n",
    "        print(\"Error\")\n",
    "        print(\"When vehicle's heading is 0, a motion of 10\")\n",
    "        print(\"Should move the vehicle forward 10 in the x direction\")\n",
    "        return\n",
    "\n",
    "    # check for appropriate behavior when driving NORTH\n",
    "    v = Vehicle()\n",
    "    v.set_heading(90.0)\n",
    "    v.drive_forward(10)\n",
    "    if not close_enough(v.y, 10) or not close_enough(v.x, 0):\n",
    "        print(\"Error\")\n",
    "        print(\"When vehicle's heading is pi/2 (north), a motion of 10\")\n",
    "        print(\"Should move the vehicle forward 10 in the y direction\")\n",
    "        return\n",
    "\n",
    "    # check for appropriate behavior when driving at an angle\n",
    "    v = Vehicle()\n",
    "    v.set_heading(30.0)\n",
    "    v.drive_forward(10)\n",
    "    if not close_enough(v.y, 5) or not close_enough(v.x, 8.66025):\n",
    "        print(\"Error\")\n",
    "        print(\"When vehicle's heading is pi/2 (north), a motion of 10\")\n",
    "        print(\"Should move the vehicle forward 10 in the y direction\")\n",
    "        return\n",
    "\n",
    "    print(\"Congratulations! Your vehicle's drive_forward method works\")\n",
    "\n",
    "\n",
    "test_set_heading(Vehicle)\n",
    "test_drive_forward(Vehicle)"
   ]
  },
  {
   "cell_type": "code",
   "execution_count": 12,
   "metadata": {},
   "outputs": [
    {
     "name": "stderr",
     "output_type": "stream",
     "text": [
      "/home/luka/miniconda3/envs/carnd-term1/lib/python3.7/site-packages/ipykernel_launcher.py:72: MatplotlibDeprecationWarning: Adding an axes using the same arguments as a previous axes currently reuses the earlier instance.  In a future version, a new instance will always be created and returned.  Meanwhile, this warning can be suppressed, and the future behavior ensured, by passing a unique label to each axes instance.\n"
     ]
    },
    {
     "data": {
      "image/png": "[encoded data removed]",
      "text/plain": [
       "<Figure size 432x288 with 1 Axes>"
      ]
     },
     "metadata": {
      "needs_background": "light"
     },
     "output_type": "display_data"
    },
    {
     "data": {
      "application/javascript": [
       "\n",
       "            setTimeout(function() {\n",
       "                var nbb_cell_id = 12;\n",
       "                var nbb_unformatted_code = \"# You'll have to \\\"test\\\" your show_trajectory method visually.\\n# Run the code below and see if the plot that's produced looks\\n# similar to the plot above.\\n\\n# instantiate vehicle\\nv = Vehicle()\\n\\n# drive forward 10 meters\\nv.drive_forward(10)\\n\\n# turn left in 10 increments of 9 degrees each.\\nfor _ in range(10):\\n    v.turn(9.0)\\n    v.drive_forward(1)\\n\\nv.drive_forward(10)\\n\\nv.show_trajectory()\";\n",
       "                var nbb_formatted_code = \"# You'll have to \\\"test\\\" your show_trajectory method visually.\\n# Run the code below and see if the plot that's produced looks\\n# similar to the plot above.\\n\\n# instantiate vehicle\\nv = Vehicle()\\n\\n# drive forward 10 meters\\nv.drive_forward(10)\\n\\n# turn left in 10 increments of 9 degrees each.\\nfor _ in range(10):\\n    v.turn(9.0)\\n    v.drive_forward(1)\\n\\nv.drive_forward(10)\\n\\nv.show_trajectory()\";\n",
       "                var nbb_cells = Jupyter.notebook.get_cells();\n",
       "                for (var i = 0; i < nbb_cells.length; ++i) {\n",
       "                    if (nbb_cells[i].input_prompt_number == nbb_cell_id) {\n",
       "                        if (nbb_cells[i].get_text() == nbb_unformatted_code) {\n",
       "                             nbb_cells[i].set_text(nbb_formatted_code);\n",
       "                        }\n",
       "                        break;\n",
       "                    }\n",
       "                }\n",
       "            }, 500);\n",
       "            "
      ],
      "text/plain": [
       "<IPython.core.display.Javascript object>"
      ]
     },
     "metadata": {},
     "output_type": "display_data"
    }
   ],
   "source": [
    "# You'll have to \"test\" your show_trajectory method visually.\n",
    "# Run the code below and see if the plot that's produced looks\n",
    "# similar to the plot above.\n",
    "\n",
    "# instantiate vehicle\n",
    "v = Vehicle()\n",
    "\n",
    "# drive forward 10 meters\n",
    "v.drive_forward(10)\n",
    "\n",
    "# turn left in 10 increments of 9 degrees each.\n",
    "for _ in range(10):\n",
    "    v.turn(9.0)\n",
    "    v.drive_forward(1)\n",
    "\n",
    "v.drive_forward(10)\n",
    "\n",
    "v.show_trajectory()"
   ]
  },
  {
   "cell_type": "code",
   "execution_count": null,
   "metadata": {},
   "outputs": [],
   "source": []
  }
 ],
 "metadata": {
  "kernelspec": {
   "display_name": "Python 3",
   "language": "python",
   "name": "python3"
  },
  "language_info": {
   "codemirror_mode": {
    "name": "ipython",
    "version": 3
   },
   "file_extension": ".py",
   "mimetype": "text/x-python",
   "name": "python",
   "nbconvert_exporter": "python",
   "pygments_lexer": "ipython3",
   "version": "3.7.6"
  }
 },
 "nbformat": 4,
 "nbformat_minor": 4
}
