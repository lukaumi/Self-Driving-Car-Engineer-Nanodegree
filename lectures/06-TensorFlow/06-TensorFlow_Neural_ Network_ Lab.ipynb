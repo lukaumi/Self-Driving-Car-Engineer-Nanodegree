{
 "cells": [
  {
   "cell_type": "code",
   "execution_count": 1,
   "metadata": {},
   "outputs": [
    {
     "data": {
      "application/javascript": [
       "\n",
       "            setTimeout(function() {\n",
       "                var nbb_cell_id = 1;\n",
       "                var nbb_unformatted_code = \"%load_ext nb_black\";\n",
       "                var nbb_formatted_code = \"%load_ext nb_black\";\n",
       "                var nbb_cells = Jupyter.notebook.get_cells();\n",
       "                for (var i = 0; i < nbb_cells.length; ++i) {\n",
       "                    if (nbb_cells[i].input_prompt_number == nbb_cell_id) {\n",
       "                        if (nbb_cells[i].get_text() == nbb_unformatted_code) {\n",
       "                             nbb_cells[i].set_text(nbb_formatted_code);\n",
       "                        }\n",
       "                        break;\n",
       "                    }\n",
       "                }\n",
       "            }, 500);\n",
       "            "
      ],
      "text/plain": [
       "<IPython.core.display.Javascript object>"
      ]
     },
     "metadata": {},
     "output_type": "display_data"
    }
   ],
   "source": [
    "%load_ext nb_black"
   ]
  },
  {
   "cell_type": "markdown",
   "metadata": {},
   "source": [
    "<h1 align=\"center\">TensorFlow Neural Network Lab</h1>"
   ]
  },
  {
   "cell_type": "markdown",
   "metadata": {},
   "source": [
    "<img src=\"resources/notmnist.png\">\n",
    "In this lab, you'll use all the tools you learned from *Introduction to TensorFlow* to label images of English letters! The data you are using, <a href=\"http://yaroslavvb.blogspot.com/2011/09/notmnist-dataset.html\">notMNIST</a>, consists of images of a letter from A to J in differents font.\n",
    "\n",
    "The above images are a few examples of the data you'll be training on. After training the network, you will compare your prediction model against test data. Your goal, by the end of this lab, is to make predictions against that test set with at least an 80% accuracy. Let's jump in!"
   ]
  },
  {
   "cell_type": "markdown",
   "metadata": {},
   "source": [
    "To start this lab, you first need to import all the necessary modules. Run the code below. If it runs successfully, it will print \"`All modules imported`\"."
   ]
  },
  {
   "cell_type": "code",
   "execution_count": 2,
   "metadata": {},
   "outputs": [
    {
     "name": "stdout",
     "output_type": "stream",
     "text": [
      "All modules imported.\n"
     ]
    },
    {
     "data": {
      "application/javascript": [
       "\n",
       "            setTimeout(function() {\n",
       "                var nbb_cell_id = 2;\n",
       "                var nbb_unformatted_code = \"import hashlib\\nimport os\\nimport pickle\\nfrom urllib.request import urlretrieve\\n\\nimport numpy as np\\nfrom PIL import Image\\nfrom sklearn.model_selection import train_test_split\\nfrom sklearn.preprocessing import LabelBinarizer\\nfrom sklearn.utils import resample\\nfrom tqdm import tqdm\\nfrom zipfile import ZipFile\\n\\nprint(\\\"All modules imported.\\\")\";\n",
       "                var nbb_formatted_code = \"import hashlib\\nimport os\\nimport pickle\\nfrom urllib.request import urlretrieve\\n\\nimport numpy as np\\nfrom PIL import Image\\nfrom sklearn.model_selection import train_test_split\\nfrom sklearn.preprocessing import LabelBinarizer\\nfrom sklearn.utils import resample\\nfrom tqdm import tqdm\\nfrom zipfile import ZipFile\\n\\nprint(\\\"All modules imported.\\\")\";\n",
       "                var nbb_cells = Jupyter.notebook.get_cells();\n",
       "                for (var i = 0; i < nbb_cells.length; ++i) {\n",
       "                    if (nbb_cells[i].input_prompt_number == nbb_cell_id) {\n",
       "                        if (nbb_cells[i].get_text() == nbb_unformatted_code) {\n",
       "                             nbb_cells[i].set_text(nbb_formatted_code);\n",
       "                        }\n",
       "                        break;\n",
       "                    }\n",
       "                }\n",
       "            }, 500);\n",
       "            "
      ],
      "text/plain": [
       "<IPython.core.display.Javascript object>"
      ]
     },
     "metadata": {},
     "output_type": "display_data"
    }
   ],
   "source": [
    "import hashlib\n",
    "import os\n",
    "import pickle\n",
    "from urllib.request import urlretrieve\n",
    "\n",
    "import numpy as np\n",
    "from PIL import Image\n",
    "from sklearn.model_selection import train_test_split\n",
    "from sklearn.preprocessing import LabelBinarizer\n",
    "from sklearn.utils import resample\n",
    "from tqdm import tqdm\n",
    "from zipfile import ZipFile\n",
    "\n",
    "print(\"All modules imported.\")"
   ]
  },
  {
   "cell_type": "markdown",
   "metadata": {},
   "source": [
    "The notMNIST dataset is too large for many computers to handle.  It contains 500,000 images for just training.  You'll be using a subset of this data, 15,000 images for each label (A-J)."
   ]
  },
  {
   "cell_type": "code",
   "execution_count": 3,
   "metadata": {},
   "outputs": [
    {
     "name": "stdout",
     "output_type": "stream",
     "text": [
      "Downloading notMNIST_train.zip...\n",
      "Download Finished\n",
      "Downloading notMNIST_test.zip...\n",
      "Download Finished\n",
      "All files downloaded.\n"
     ]
    },
    {
     "data": {
      "application/javascript": [
       "\n",
       "            setTimeout(function() {\n",
       "                var nbb_cell_id = 3;\n",
       "                var nbb_unformatted_code = \"def download(url, file):\\n    \\\"\\\"\\\"\\n    Download file from <url>\\n    :param url: URL to file\\n    :param file: Local file path\\n    \\\"\\\"\\\"\\n    if not os.path.isfile(file):\\n        print(\\\"Downloading \\\" + file + \\\"...\\\")\\n        urlretrieve(url, file)\\n        print(\\\"Download Finished\\\")\\n\\n\\n# Download the training and test dataset.\\ndownload(\\n    \\\"https://s3.amazonaws.com/udacity-sdc/notMNIST_train.zip\\\", \\\"notMNIST_train.zip\\\"\\n)\\ndownload(\\\"https://s3.amazonaws.com/udacity-sdc/notMNIST_test.zip\\\", \\\"notMNIST_test.zip\\\")\\n\\n# Make sure the files aren't corrupted\\nassert (\\n    hashlib.md5(open(\\\"notMNIST_train.zip\\\", \\\"rb\\\").read()).hexdigest()\\n    == \\\"c8673b3f28f489e9cdf3a3d74e2ac8fa\\\"\\n), \\\"notMNIST_train.zip file is corrupted.  Remove the file and try again.\\\"\\nassert (\\n    hashlib.md5(open(\\\"notMNIST_test.zip\\\", \\\"rb\\\").read()).hexdigest()\\n    == \\\"5d3c7e653e63471c88df796156a9dfa9\\\"\\n), \\\"notMNIST_test.zip file is corrupted.  Remove the file and try again.\\\"\\n\\n# Wait until you see that all files have been downloaded.\\nprint(\\\"All files downloaded.\\\")\";\n",
       "                var nbb_formatted_code = \"def download(url, file):\\n    \\\"\\\"\\\"\\n    Download file from <url>\\n    :param url: URL to file\\n    :param file: Local file path\\n    \\\"\\\"\\\"\\n    if not os.path.isfile(file):\\n        print(\\\"Downloading \\\" + file + \\\"...\\\")\\n        urlretrieve(url, file)\\n        print(\\\"Download Finished\\\")\\n\\n\\n# Download the training and test dataset.\\ndownload(\\n    \\\"https://s3.amazonaws.com/udacity-sdc/notMNIST_train.zip\\\", \\\"notMNIST_train.zip\\\"\\n)\\ndownload(\\\"https://s3.amazonaws.com/udacity-sdc/notMNIST_test.zip\\\", \\\"notMNIST_test.zip\\\")\\n\\n# Make sure the files aren't corrupted\\nassert (\\n    hashlib.md5(open(\\\"notMNIST_train.zip\\\", \\\"rb\\\").read()).hexdigest()\\n    == \\\"c8673b3f28f489e9cdf3a3d74e2ac8fa\\\"\\n), \\\"notMNIST_train.zip file is corrupted.  Remove the file and try again.\\\"\\nassert (\\n    hashlib.md5(open(\\\"notMNIST_test.zip\\\", \\\"rb\\\").read()).hexdigest()\\n    == \\\"5d3c7e653e63471c88df796156a9dfa9\\\"\\n), \\\"notMNIST_test.zip file is corrupted.  Remove the file and try again.\\\"\\n\\n# Wait until you see that all files have been downloaded.\\nprint(\\\"All files downloaded.\\\")\";\n",
       "                var nbb_cells = Jupyter.notebook.get_cells();\n",
       "                for (var i = 0; i < nbb_cells.length; ++i) {\n",
       "                    if (nbb_cells[i].input_prompt_number == nbb_cell_id) {\n",
       "                        if (nbb_cells[i].get_text() == nbb_unformatted_code) {\n",
       "                             nbb_cells[i].set_text(nbb_formatted_code);\n",
       "                        }\n",
       "                        break;\n",
       "                    }\n",
       "                }\n",
       "            }, 500);\n",
       "            "
      ],
      "text/plain": [
       "<IPython.core.display.Javascript object>"
      ]
     },
     "metadata": {},
     "output_type": "display_data"
    }
   ],
   "source": [
    "def download(url, file):\n",
    "    \"\"\"\n",
    "    Download file from <url>\n",
    "    :param url: URL to file\n",
    "    :param file: Local file path\n",
    "    \"\"\"\n",
    "    if not os.path.isfile(file):\n",
    "        print(\"Downloading \" + file + \"...\")\n",
    "        urlretrieve(url, file)\n",
    "        print(\"Download Finished\")\n",
    "\n",
    "\n",
    "# Download the training and test dataset.\n",
    "download(\n",
    "    \"https://s3.amazonaws.com/udacity-sdc/notMNIST_train.zip\", \"notMNIST_train.zip\"\n",
    ")\n",
    "download(\"https://s3.amazonaws.com/udacity-sdc/notMNIST_test.zip\", \"notMNIST_test.zip\")\n",
    "\n",
    "# Make sure the files aren't corrupted\n",
    "assert (\n",
    "    hashlib.md5(open(\"notMNIST_train.zip\", \"rb\").read()).hexdigest()\n",
    "    == \"c8673b3f28f489e9cdf3a3d74e2ac8fa\"\n",
    "), \"notMNIST_train.zip file is corrupted.  Remove the file and try again.\"\n",
    "assert (\n",
    "    hashlib.md5(open(\"notMNIST_test.zip\", \"rb\").read()).hexdigest()\n",
    "    == \"5d3c7e653e63471c88df796156a9dfa9\"\n",
    "), \"notMNIST_test.zip file is corrupted.  Remove the file and try again.\"\n",
    "\n",
    "# Wait until you see that all files have been downloaded.\n",
    "print(\"All files downloaded.\")"
   ]
  },
  {
   "cell_type": "code",
   "execution_count": 4,
   "metadata": {},
   "outputs": [
    {
     "name": "stderr",
     "output_type": "stream",
     "text": [
      "100%|██████████| 210001/210001 [00:35<00:00, 5858.42files/s]\n",
      "100%|██████████| 10001/10001 [00:01<00:00, 6013.86files/s]\n"
     ]
    },
    {
     "name": "stdout",
     "output_type": "stream",
     "text": [
      "All features and labels uncompressed.\n"
     ]
    },
    {
     "data": {
      "application/javascript": [
       "\n",
       "            setTimeout(function() {\n",
       "                var nbb_cell_id = 4;\n",
       "                var nbb_unformatted_code = \"def uncompress_features_labels(file):\\n    \\\"\\\"\\\"\\n    Uncompress features and labels from a zip file\\n    :param file: The zip file to extract the data from\\n    \\\"\\\"\\\"\\n    features = []\\n    labels = []\\n\\n    with ZipFile(file) as zipf:\\n        # Progress Bar\\n        filenames_pbar = tqdm(zipf.namelist(), unit=\\\"files\\\")\\n\\n        # Get features and labels from all files\\n        for filename in filenames_pbar:\\n            # Check if the file is a directory\\n            if not filename.endswith(\\\"/\\\"):\\n                with zipf.open(filename) as image_file:\\n                    image = Image.open(image_file)\\n                    image.load()\\n                    # Load image data as 1 dimensional array\\n                    # We're using float32 to save on memory space\\n                    feature = np.array(image, dtype=np.float32).flatten()\\n\\n                # Get the the letter from the filename.  This is the letter of the image.\\n                label = os.path.split(filename)[1][0]\\n\\n                features.append(feature)\\n                labels.append(label)\\n    return np.array(features), np.array(labels)\\n\\n\\n# Get the features and labels from the zip files\\ntrain_features, train_labels = uncompress_features_labels(\\\"notMNIST_train.zip\\\")\\ntest_features, test_labels = uncompress_features_labels(\\\"notMNIST_test.zip\\\")\\n\\n# Limit the amount of data to work with a docker container\\ndocker_size_limit = 150000\\ntrain_features, train_labels = resample(\\n    train_features, train_labels, n_samples=docker_size_limit\\n)\\n\\n# Set flags for feature engineering.  This will prevent you from skipping an important step.\\nis_features_normal = False\\nis_labels_encod = False\\n\\n# Wait until you see that all features and labels have been uncompressed.\\nprint(\\\"All features and labels uncompressed.\\\")\";\n",
       "                var nbb_formatted_code = \"def uncompress_features_labels(file):\\n    \\\"\\\"\\\"\\n    Uncompress features and labels from a zip file\\n    :param file: The zip file to extract the data from\\n    \\\"\\\"\\\"\\n    features = []\\n    labels = []\\n\\n    with ZipFile(file) as zipf:\\n        # Progress Bar\\n        filenames_pbar = tqdm(zipf.namelist(), unit=\\\"files\\\")\\n\\n        # Get features and labels from all files\\n        for filename in filenames_pbar:\\n            # Check if the file is a directory\\n            if not filename.endswith(\\\"/\\\"):\\n                with zipf.open(filename) as image_file:\\n                    image = Image.open(image_file)\\n                    image.load()\\n                    # Load image data as 1 dimensional array\\n                    # We're using float32 to save on memory space\\n                    feature = np.array(image, dtype=np.float32).flatten()\\n\\n                # Get the the letter from the filename.  This is the letter of the image.\\n                label = os.path.split(filename)[1][0]\\n\\n                features.append(feature)\\n                labels.append(label)\\n    return np.array(features), np.array(labels)\\n\\n\\n# Get the features and labels from the zip files\\ntrain_features, train_labels = uncompress_features_labels(\\\"notMNIST_train.zip\\\")\\ntest_features, test_labels = uncompress_features_labels(\\\"notMNIST_test.zip\\\")\\n\\n# Limit the amount of data to work with a docker container\\ndocker_size_limit = 150000\\ntrain_features, train_labels = resample(\\n    train_features, train_labels, n_samples=docker_size_limit\\n)\\n\\n# Set flags for feature engineering.  This will prevent you from skipping an important step.\\nis_features_normal = False\\nis_labels_encod = False\\n\\n# Wait until you see that all features and labels have been uncompressed.\\nprint(\\\"All features and labels uncompressed.\\\")\";\n",
       "                var nbb_cells = Jupyter.notebook.get_cells();\n",
       "                for (var i = 0; i < nbb_cells.length; ++i) {\n",
       "                    if (nbb_cells[i].input_prompt_number == nbb_cell_id) {\n",
       "                        if (nbb_cells[i].get_text() == nbb_unformatted_code) {\n",
       "                             nbb_cells[i].set_text(nbb_formatted_code);\n",
       "                        }\n",
       "                        break;\n",
       "                    }\n",
       "                }\n",
       "            }, 500);\n",
       "            "
      ],
      "text/plain": [
       "<IPython.core.display.Javascript object>"
      ]
     },
     "metadata": {},
     "output_type": "display_data"
    }
   ],
   "source": [
    "def uncompress_features_labels(file):\n",
    "    \"\"\"\n",
    "    Uncompress features and labels from a zip file\n",
    "    :param file: The zip file to extract the data from\n",
    "    \"\"\"\n",
    "    features = []\n",
    "    labels = []\n",
    "\n",
    "    with ZipFile(file) as zipf:\n",
    "        # Progress Bar\n",
    "        filenames_pbar = tqdm(zipf.namelist(), unit=\"files\")\n",
    "\n",
    "        # Get features and labels from all files\n",
    "        for filename in filenames_pbar:\n",
    "            # Check if the file is a directory\n",
    "            if not filename.endswith(\"/\"):\n",
    "                with zipf.open(filename) as image_file:\n",
    "                    image = Image.open(image_file)\n",
    "                    image.load()\n",
    "                    # Load image data as 1 dimensional array\n",
    "                    # We're using float32 to save on memory space\n",
    "                    feature = np.array(image, dtype=np.float32).flatten()\n",
    "\n",
    "                # Get the the letter from the filename.  This is the letter of the image.\n",
    "                label = os.path.split(filename)[1][0]\n",
    "\n",
    "                features.append(feature)\n",
    "                labels.append(label)\n",
    "    return np.array(features), np.array(labels)\n",
    "\n",
    "\n",
    "# Get the features and labels from the zip files\n",
    "train_features, train_labels = uncompress_features_labels(\"notMNIST_train.zip\")\n",
    "test_features, test_labels = uncompress_features_labels(\"notMNIST_test.zip\")\n",
    "\n",
    "# Limit the amount of data to work with a docker container\n",
    "docker_size_limit = 150000\n",
    "train_features, train_labels = resample(\n",
    "    train_features, train_labels, n_samples=docker_size_limit\n",
    ")\n",
    "\n",
    "# Set flags for feature engineering.  This will prevent you from skipping an important step.\n",
    "is_features_normal = False\n",
    "is_labels_encod = False\n",
    "\n",
    "# Wait until you see that all features and labels have been uncompressed.\n",
    "print(\"All features and labels uncompressed.\")"
   ]
  },
  {
   "cell_type": "markdown",
   "metadata": {},
   "source": [
    "<img src=\"resources/mean_variance.png\" style=\"height: 75%;width: 75%; position: relative; right: 5%\">\n",
    "\n",
    "## Problem 1\n",
    "The first problem involves normalizing the features for your training and test data.\n",
    "\n",
    "Implement Min-Max scaling in the `normalize()` function to a range of `a=0.1` and `b=0.9`. After scaling, the values of the pixels in the input data should range from 0.1 to 0.9.\n",
    "\n",
    "Since the raw notMNIST image data is in [grayscale](https://en.wikipedia.org/wiki/Grayscale), the current values range from a min of 0 to a max of 255.\n",
    "\n",
    "Min-Max Scaling:\n",
    "$\n",
    "X'=a+{\\frac {\\left(X-X_{\\min }\\right)\\left(b-a\\right)}{X_{\\max }-X_{\\min }}}\n",
    "$\n",
    "\n",
    "*If you're having trouble solving problem 1, you can view the solution [here](https://github.com/udacity/CarND-TensorFlow-Lab/blob/master/solutions.ipynb).*"
   ]
  },
  {
   "cell_type": "markdown",
   "metadata": {},
   "source": [
    "- Min-Max scaling function: $X'=a+{\\frac {\\left(X-X_{\\min }\\right)\\left(b-a\\right)}{X_{\\max }-X_{\\min }}}$"
   ]
  },
  {
   "cell_type": "code",
   "execution_count": 5,
   "metadata": {},
   "outputs": [
    {
     "name": "stdout",
     "output_type": "stream",
     "text": [
      "Tests Passed!\n"
     ]
    },
    {
     "data": {
      "application/javascript": [
       "\n",
       "            setTimeout(function() {\n",
       "                var nbb_cell_id = 5;\n",
       "                var nbb_unformatted_code = \"# Problem 1 - Implement Min-Max scaling for grayscale image data\\ndef normalize_grayscale(image_data):\\n    \\\"\\\"\\\"\\n    Normalize the image data with Min-Max scaling to a range of [0.1, 0.9]\\n    :param image_data: The image data to be normalized\\n    :return: Normalized image data\\n    \\\"\\\"\\\"\\n    # TODO: Implement Min-Max scaling for grayscale image data\\n    a = 0.1\\n    b = 0.9\\n    grayscale_min = 0\\n    grayscale_max = 255\\n    return a + (\\n        ((image_data - grayscale_min) * (b - a)) / (grayscale_max - grayscale_min)\\n    )\\n\\n\\n### DON'T MODIFY ANYTHING BELOW ###\\n# Test Cases\\nnp.testing.assert_array_almost_equal(\\n    normalize_grayscale(np.array([0, 1, 2, 3, 4, 5, 6, 7, 8, 9, 10, 255])),\\n    [\\n        0.1,\\n        0.103137254902,\\n        0.106274509804,\\n        0.109411764706,\\n        0.112549019608,\\n        0.11568627451,\\n        0.118823529412,\\n        0.121960784314,\\n        0.125098039216,\\n        0.128235294118,\\n        0.13137254902,\\n        0.9,\\n    ],\\n    decimal=3,\\n)\\nnp.testing.assert_array_almost_equal(\\n    normalize_grayscale(np.array([0, 1, 10, 20, 30, 40, 233, 244, 254, 255])),\\n    [\\n        0.1,\\n        0.103137254902,\\n        0.13137254902,\\n        0.162745098039,\\n        0.194117647059,\\n        0.225490196078,\\n        0.830980392157,\\n        0.865490196078,\\n        0.896862745098,\\n        0.9,\\n    ],\\n)\\n\\nif not is_features_normal:\\n    train_features = normalize_grayscale(train_features)\\n    test_features = normalize_grayscale(test_features)\\n    is_features_normal = True\\n\\nprint(\\\"Tests Passed!\\\")\";\n",
       "                var nbb_formatted_code = \"# Problem 1 - Implement Min-Max scaling for grayscale image data\\ndef normalize_grayscale(image_data):\\n    \\\"\\\"\\\"\\n    Normalize the image data with Min-Max scaling to a range of [0.1, 0.9]\\n    :param image_data: The image data to be normalized\\n    :return: Normalized image data\\n    \\\"\\\"\\\"\\n    # TODO: Implement Min-Max scaling for grayscale image data\\n    a = 0.1\\n    b = 0.9\\n    grayscale_min = 0\\n    grayscale_max = 255\\n    return a + (\\n        ((image_data - grayscale_min) * (b - a)) / (grayscale_max - grayscale_min)\\n    )\\n\\n\\n### DON'T MODIFY ANYTHING BELOW ###\\n# Test Cases\\nnp.testing.assert_array_almost_equal(\\n    normalize_grayscale(np.array([0, 1, 2, 3, 4, 5, 6, 7, 8, 9, 10, 255])),\\n    [\\n        0.1,\\n        0.103137254902,\\n        0.106274509804,\\n        0.109411764706,\\n        0.112549019608,\\n        0.11568627451,\\n        0.118823529412,\\n        0.121960784314,\\n        0.125098039216,\\n        0.128235294118,\\n        0.13137254902,\\n        0.9,\\n    ],\\n    decimal=3,\\n)\\nnp.testing.assert_array_almost_equal(\\n    normalize_grayscale(np.array([0, 1, 10, 20, 30, 40, 233, 244, 254, 255])),\\n    [\\n        0.1,\\n        0.103137254902,\\n        0.13137254902,\\n        0.162745098039,\\n        0.194117647059,\\n        0.225490196078,\\n        0.830980392157,\\n        0.865490196078,\\n        0.896862745098,\\n        0.9,\\n    ],\\n)\\n\\nif not is_features_normal:\\n    train_features = normalize_grayscale(train_features)\\n    test_features = normalize_grayscale(test_features)\\n    is_features_normal = True\\n\\nprint(\\\"Tests Passed!\\\")\";\n",
       "                var nbb_cells = Jupyter.notebook.get_cells();\n",
       "                for (var i = 0; i < nbb_cells.length; ++i) {\n",
       "                    if (nbb_cells[i].input_prompt_number == nbb_cell_id) {\n",
       "                        if (nbb_cells[i].get_text() == nbb_unformatted_code) {\n",
       "                             nbb_cells[i].set_text(nbb_formatted_code);\n",
       "                        }\n",
       "                        break;\n",
       "                    }\n",
       "                }\n",
       "            }, 500);\n",
       "            "
      ],
      "text/plain": [
       "<IPython.core.display.Javascript object>"
      ]
     },
     "metadata": {},
     "output_type": "display_data"
    }
   ],
   "source": [
    "# Problem 1 - Implement Min-Max scaling for grayscale image data\n",
    "def normalize_grayscale(image_data):\n",
    "    \"\"\"\n",
    "    Normalize the image data with Min-Max scaling to a range of [0.1, 0.9]\n",
    "    :param image_data: The image data to be normalized\n",
    "    :return: Normalized image data\n",
    "    \"\"\"\n",
    "    # TODO: Implement Min-Max scaling for grayscale image data\n",
    "    a = 0.1\n",
    "    b = 0.9\n",
    "    grayscale_min = 0\n",
    "    grayscale_max = 255\n",
    "    return a + (\n",
    "        ((image_data - grayscale_min) * (b - a)) / (grayscale_max - grayscale_min)\n",
    "    )\n",
    "\n",
    "\n",
    "### DON'T MODIFY ANYTHING BELOW ###\n",
    "# Test Cases\n",
    "np.testing.assert_array_almost_equal(\n",
    "    normalize_grayscale(np.array([0, 1, 2, 3, 4, 5, 6, 7, 8, 9, 10, 255])),\n",
    "    [\n",
    "        0.1,\n",
    "        0.103137254902,\n",
    "        0.106274509804,\n",
    "        0.109411764706,\n",
    "        0.112549019608,\n",
    "        0.11568627451,\n",
    "        0.118823529412,\n",
    "        0.121960784314,\n",
    "        0.125098039216,\n",
    "        0.128235294118,\n",
    "        0.13137254902,\n",
    "        0.9,\n",
    "    ],\n",
    "    decimal=3,\n",
    ")\n",
    "np.testing.assert_array_almost_equal(\n",
    "    normalize_grayscale(np.array([0, 1, 10, 20, 30, 40, 233, 244, 254, 255])),\n",
    "    [\n",
    "        0.1,\n",
    "        0.103137254902,\n",
    "        0.13137254902,\n",
    "        0.162745098039,\n",
    "        0.194117647059,\n",
    "        0.225490196078,\n",
    "        0.830980392157,\n",
    "        0.865490196078,\n",
    "        0.896862745098,\n",
    "        0.9,\n",
    "    ],\n",
    ")\n",
    "\n",
    "if not is_features_normal:\n",
    "    train_features = normalize_grayscale(train_features)\n",
    "    test_features = normalize_grayscale(test_features)\n",
    "    is_features_normal = True\n",
    "\n",
    "print(\"Tests Passed!\")"
   ]
  },
  {
   "cell_type": "code",
   "execution_count": 6,
   "metadata": {},
   "outputs": [
    {
     "name": "stdout",
     "output_type": "stream",
     "text": [
      "Labels One-Hot Encoded\n"
     ]
    },
    {
     "data": {
      "application/javascript": [
       "\n",
       "            setTimeout(function() {\n",
       "                var nbb_cell_id = 6;\n",
       "                var nbb_unformatted_code = \"if not is_labels_encod:\\n    # Turn labels into numbers and apply One-Hot Encoding\\n    encoder = LabelBinarizer()\\n    encoder.fit(train_labels)\\n    train_labels = encoder.transform(train_labels)\\n    test_labels = encoder.transform(test_labels)\\n\\n    # Change to float32, so it can be multiplied against the features in TensorFlow, which are float32\\n    train_labels = train_labels.astype(np.float32)\\n    test_labels = test_labels.astype(np.float32)\\n    is_labels_encod = True\\n\\nprint(\\\"Labels One-Hot Encoded\\\")\";\n",
       "                var nbb_formatted_code = \"if not is_labels_encod:\\n    # Turn labels into numbers and apply One-Hot Encoding\\n    encoder = LabelBinarizer()\\n    encoder.fit(train_labels)\\n    train_labels = encoder.transform(train_labels)\\n    test_labels = encoder.transform(test_labels)\\n\\n    # Change to float32, so it can be multiplied against the features in TensorFlow, which are float32\\n    train_labels = train_labels.astype(np.float32)\\n    test_labels = test_labels.astype(np.float32)\\n    is_labels_encod = True\\n\\nprint(\\\"Labels One-Hot Encoded\\\")\";\n",
       "                var nbb_cells = Jupyter.notebook.get_cells();\n",
       "                for (var i = 0; i < nbb_cells.length; ++i) {\n",
       "                    if (nbb_cells[i].input_prompt_number == nbb_cell_id) {\n",
       "                        if (nbb_cells[i].get_text() == nbb_unformatted_code) {\n",
       "                             nbb_cells[i].set_text(nbb_formatted_code);\n",
       "                        }\n",
       "                        break;\n",
       "                    }\n",
       "                }\n",
       "            }, 500);\n",
       "            "
      ],
      "text/plain": [
       "<IPython.core.display.Javascript object>"
      ]
     },
     "metadata": {},
     "output_type": "display_data"
    }
   ],
   "source": [
    "if not is_labels_encod:\n",
    "    # Turn labels into numbers and apply One-Hot Encoding\n",
    "    encoder = LabelBinarizer()\n",
    "    encoder.fit(train_labels)\n",
    "    train_labels = encoder.transform(train_labels)\n",
    "    test_labels = encoder.transform(test_labels)\n",
    "\n",
    "    # Change to float32, so it can be multiplied against the features in TensorFlow, which are float32\n",
    "    train_labels = train_labels.astype(np.float32)\n",
    "    test_labels = test_labels.astype(np.float32)\n",
    "    is_labels_encod = True\n",
    "\n",
    "print(\"Labels One-Hot Encoded\")"
   ]
  },
  {
   "cell_type": "code",
   "execution_count": 7,
   "metadata": {},
   "outputs": [
    {
     "name": "stdout",
     "output_type": "stream",
     "text": [
      "Training features and labels randomized and split.\n"
     ]
    },
    {
     "data": {
      "application/javascript": [
       "\n",
       "            setTimeout(function() {\n",
       "                var nbb_cell_id = 7;\n",
       "                var nbb_unformatted_code = \"assert is_features_normal, \\\"You skipped the step to normalize the features\\\"\\nassert is_labels_encod, \\\"You skipped the step to One-Hot Encode the labels\\\"\\n\\n# Get randomized datasets for training and validation\\ntrain_features, valid_features, train_labels, valid_labels = train_test_split(\\n    train_features, train_labels, test_size=0.05, random_state=832289\\n)\\n\\nprint(\\\"Training features and labels randomized and split.\\\")\";\n",
       "                var nbb_formatted_code = \"assert is_features_normal, \\\"You skipped the step to normalize the features\\\"\\nassert is_labels_encod, \\\"You skipped the step to One-Hot Encode the labels\\\"\\n\\n# Get randomized datasets for training and validation\\ntrain_features, valid_features, train_labels, valid_labels = train_test_split(\\n    train_features, train_labels, test_size=0.05, random_state=832289\\n)\\n\\nprint(\\\"Training features and labels randomized and split.\\\")\";\n",
       "                var nbb_cells = Jupyter.notebook.get_cells();\n",
       "                for (var i = 0; i < nbb_cells.length; ++i) {\n",
       "                    if (nbb_cells[i].input_prompt_number == nbb_cell_id) {\n",
       "                        if (nbb_cells[i].get_text() == nbb_unformatted_code) {\n",
       "                             nbb_cells[i].set_text(nbb_formatted_code);\n",
       "                        }\n",
       "                        break;\n",
       "                    }\n",
       "                }\n",
       "            }, 500);\n",
       "            "
      ],
      "text/plain": [
       "<IPython.core.display.Javascript object>"
      ]
     },
     "metadata": {},
     "output_type": "display_data"
    }
   ],
   "source": [
    "assert is_features_normal, \"You skipped the step to normalize the features\"\n",
    "assert is_labels_encod, \"You skipped the step to One-Hot Encode the labels\"\n",
    "\n",
    "# Get randomized datasets for training and validation\n",
    "train_features, valid_features, train_labels, valid_labels = train_test_split(\n",
    "    train_features, train_labels, test_size=0.05, random_state=832289\n",
    ")\n",
    "\n",
    "print(\"Training features and labels randomized and split.\")"
   ]
  },
  {
   "cell_type": "code",
   "execution_count": 8,
   "metadata": {},
   "outputs": [
    {
     "name": "stdout",
     "output_type": "stream",
     "text": [
      "Saving data to pickle file...\n",
      "Data cached in pickle file.\n"
     ]
    },
    {
     "data": {
      "application/javascript": [
       "\n",
       "            setTimeout(function() {\n",
       "                var nbb_cell_id = 8;\n",
       "                var nbb_unformatted_code = \"# Save the data for easy access\\npickle_file = \\\"notMNIST.pickle\\\"\\nif not os.path.isfile(pickle_file):\\n    print(\\\"Saving data to pickle file...\\\")\\n    try:\\n        with open(\\\"notMNIST.pickle\\\", \\\"wb\\\") as pfile:\\n            pickle.dump(\\n                {\\n                    \\\"train_dataset\\\": train_features,\\n                    \\\"train_labels\\\": train_labels,\\n                    \\\"valid_dataset\\\": valid_features,\\n                    \\\"valid_labels\\\": valid_labels,\\n                    \\\"test_dataset\\\": test_features,\\n                    \\\"test_labels\\\": test_labels,\\n                },\\n                pfile,\\n                pickle.HIGHEST_PROTOCOL,\\n            )\\n    except Exception as e:\\n        print(\\\"Unable to save data to\\\", pickle_file, \\\":\\\", e)\\n        raise\\n\\nprint(\\\"Data cached in pickle file.\\\")\";\n",
       "                var nbb_formatted_code = \"# Save the data for easy access\\npickle_file = \\\"notMNIST.pickle\\\"\\nif not os.path.isfile(pickle_file):\\n    print(\\\"Saving data to pickle file...\\\")\\n    try:\\n        with open(\\\"notMNIST.pickle\\\", \\\"wb\\\") as pfile:\\n            pickle.dump(\\n                {\\n                    \\\"train_dataset\\\": train_features,\\n                    \\\"train_labels\\\": train_labels,\\n                    \\\"valid_dataset\\\": valid_features,\\n                    \\\"valid_labels\\\": valid_labels,\\n                    \\\"test_dataset\\\": test_features,\\n                    \\\"test_labels\\\": test_labels,\\n                },\\n                pfile,\\n                pickle.HIGHEST_PROTOCOL,\\n            )\\n    except Exception as e:\\n        print(\\\"Unable to save data to\\\", pickle_file, \\\":\\\", e)\\n        raise\\n\\nprint(\\\"Data cached in pickle file.\\\")\";\n",
       "                var nbb_cells = Jupyter.notebook.get_cells();\n",
       "                for (var i = 0; i < nbb_cells.length; ++i) {\n",
       "                    if (nbb_cells[i].input_prompt_number == nbb_cell_id) {\n",
       "                        if (nbb_cells[i].get_text() == nbb_unformatted_code) {\n",
       "                             nbb_cells[i].set_text(nbb_formatted_code);\n",
       "                        }\n",
       "                        break;\n",
       "                    }\n",
       "                }\n",
       "            }, 500);\n",
       "            "
      ],
      "text/plain": [
       "<IPython.core.display.Javascript object>"
      ]
     },
     "metadata": {},
     "output_type": "display_data"
    }
   ],
   "source": [
    "# Save the data for easy access\n",
    "pickle_file = \"notMNIST.pickle\"\n",
    "if not os.path.isfile(pickle_file):\n",
    "    print(\"Saving data to pickle file...\")\n",
    "    try:\n",
    "        with open(\"notMNIST.pickle\", \"wb\") as pfile:\n",
    "            pickle.dump(\n",
    "                {\n",
    "                    \"train_dataset\": train_features,\n",
    "                    \"train_labels\": train_labels,\n",
    "                    \"valid_dataset\": valid_features,\n",
    "                    \"valid_labels\": valid_labels,\n",
    "                    \"test_dataset\": test_features,\n",
    "                    \"test_labels\": test_labels,\n",
    "                },\n",
    "                pfile,\n",
    "                pickle.HIGHEST_PROTOCOL,\n",
    "            )\n",
    "    except Exception as e:\n",
    "        print(\"Unable to save data to\", pickle_file, \":\", e)\n",
    "        raise\n",
    "\n",
    "print(\"Data cached in pickle file.\")"
   ]
  },
  {
   "cell_type": "markdown",
   "metadata": {},
   "source": [
    "# Checkpoint\n",
    "All your progress is now saved to the pickle file.  If you need to leave and comeback to this lab, you no longer have to start from the beginning.  Just run the code block below and it will load all the data and modules required to proceed."
   ]
  },
  {
   "cell_type": "code",
   "execution_count": 9,
   "metadata": {},
   "outputs": [
    {
     "name": "stdout",
     "output_type": "stream",
     "text": [
      "Data and modules loaded.\n"
     ]
    },
    {
     "data": {
      "application/javascript": [
       "\n",
       "            setTimeout(function() {\n",
       "                var nbb_cell_id = 9;\n",
       "                var nbb_unformatted_code = \"%matplotlib inline\\n\\n# Load the modules\\nimport pickle\\nimport math\\n\\nimport numpy as np\\nimport tensorflow as tf\\nfrom tqdm import tqdm\\nimport matplotlib.pyplot as plt\\n\\n# Reload the data\\npickle_file = \\\"notMNIST.pickle\\\"\\nwith open(pickle_file, \\\"rb\\\") as f:\\n    pickle_data = pickle.load(f)\\n    train_features = pickle_data[\\\"train_dataset\\\"]\\n    train_labels = pickle_data[\\\"train_labels\\\"]\\n    valid_features = pickle_data[\\\"valid_dataset\\\"]\\n    valid_labels = pickle_data[\\\"valid_labels\\\"]\\n    test_features = pickle_data[\\\"test_dataset\\\"]\\n    test_labels = pickle_data[\\\"test_labels\\\"]\\n    del pickle_data  # Free up memory\\n\\n\\nprint(\\\"Data and modules loaded.\\\")\";\n",
       "                var nbb_formatted_code = \"%matplotlib inline\\n\\n# Load the modules\\nimport pickle\\nimport math\\n\\nimport numpy as np\\nimport tensorflow as tf\\nfrom tqdm import tqdm\\nimport matplotlib.pyplot as plt\\n\\n# Reload the data\\npickle_file = \\\"notMNIST.pickle\\\"\\nwith open(pickle_file, \\\"rb\\\") as f:\\n    pickle_data = pickle.load(f)\\n    train_features = pickle_data[\\\"train_dataset\\\"]\\n    train_labels = pickle_data[\\\"train_labels\\\"]\\n    valid_features = pickle_data[\\\"valid_dataset\\\"]\\n    valid_labels = pickle_data[\\\"valid_labels\\\"]\\n    test_features = pickle_data[\\\"test_dataset\\\"]\\n    test_labels = pickle_data[\\\"test_labels\\\"]\\n    del pickle_data  # Free up memory\\n\\n\\nprint(\\\"Data and modules loaded.\\\")\";\n",
       "                var nbb_cells = Jupyter.notebook.get_cells();\n",
       "                for (var i = 0; i < nbb_cells.length; ++i) {\n",
       "                    if (nbb_cells[i].input_prompt_number == nbb_cell_id) {\n",
       "                        if (nbb_cells[i].get_text() == nbb_unformatted_code) {\n",
       "                             nbb_cells[i].set_text(nbb_formatted_code);\n",
       "                        }\n",
       "                        break;\n",
       "                    }\n",
       "                }\n",
       "            }, 500);\n",
       "            "
      ],
      "text/plain": [
       "<IPython.core.display.Javascript object>"
      ]
     },
     "metadata": {},
     "output_type": "display_data"
    }
   ],
   "source": [
    "%matplotlib inline\n",
    "\n",
    "# Load the modules\n",
    "import pickle\n",
    "import math\n",
    "\n",
    "import numpy as np\n",
    "import tensorflow as tf\n",
    "from tqdm import tqdm\n",
    "import matplotlib.pyplot as plt\n",
    "\n",
    "# Reload the data\n",
    "pickle_file = \"notMNIST.pickle\"\n",
    "with open(pickle_file, \"rb\") as f:\n",
    "    pickle_data = pickle.load(f)\n",
    "    train_features = pickle_data[\"train_dataset\"]\n",
    "    train_labels = pickle_data[\"train_labels\"]\n",
    "    valid_features = pickle_data[\"valid_dataset\"]\n",
    "    valid_labels = pickle_data[\"valid_labels\"]\n",
    "    test_features = pickle_data[\"test_dataset\"]\n",
    "    test_labels = pickle_data[\"test_labels\"]\n",
    "    del pickle_data  # Free up memory\n",
    "\n",
    "\n",
    "print(\"Data and modules loaded.\")"
   ]
  },
  {
   "cell_type": "markdown",
   "metadata": {},
   "source": [
    "<img src=\"resources/weight_biases.png\" style=\"height: 60%;width: 60%; position: relative; right: 10%\">\n",
    "\n",
    "## Problem 2\n",
    "For the neural network to train on your data, you need the following <a href=\"https://www.tensorflow.org/api_docs/python/tf/dtypes/DType\">float32</a> tensors:\n",
    "\n",
    " - `features`\n",
    "  - Placeholder tensor for feature data (`train_features`/`valid_features`/`test_features`)\n",
    " - `labels`\n",
    "  - Placeholder tensor for label data (`train_labels`/`valid_labels`/`test_labels`)\n",
    " - `weights`\n",
    "  - Variable Tensor with random numbers from a truncated normal distribution.\n",
    "    - See <a href=\"https://www.tensorflow.org/api_docs/python/tf/random/truncated_normal\">`tf.truncated_normal()` documentation</a> for help.\n",
    " - `biases`\n",
    "  - Variable Tensor with all zeros.\n",
    "    - See <a href=\"https://www.tensorflow.org/api_docs/python/tf/zeros\"> `tf.zeros()` documentation</a> for help.\n",
    "\n",
    "*If you're having trouble solving problem 2, review \"TensorFlow Linear Function\" section of the class.  If that doesn't help, the solution for this problem is available [here](https://github.com/udacity/CarND-TensorFlow-Lab/blob/master/solutions.ipynb).*"
   ]
  },
  {
   "cell_type": "code",
   "execution_count": 10,
   "metadata": {},
   "outputs": [
    {
     "name": "stdout",
     "output_type": "stream",
     "text": [
      "WARNING:tensorflow:Tensor._shape is private, use Tensor.shape instead. Tensor._shape will eventually be removed.\n",
      "WARNING:tensorflow:Tensor._shape is private, use Tensor.shape instead. Tensor._shape will eventually be removed.\n",
      "WARNING:tensorflow:Tensor._shape is private, use Tensor.shape instead. Tensor._shape will eventually be removed.\n",
      "WARNING:tensorflow:Tensor._shape is private, use Tensor.shape instead. Tensor._shape will eventually be removed.\n",
      "Tests Passed!\n"
     ]
    },
    {
     "data": {
      "application/javascript": [
       "\n",
       "            setTimeout(function() {\n",
       "                var nbb_cell_id = 10;\n",
       "                var nbb_unformatted_code = \"features_count = 784\\nlabels_count = 10\\n\\n# TODO: Set the features and labels tensors\\nfeatures = tf.placeholder(tf.float32)\\nlabels = tf.placeholder(tf.float32)\\n\\n# TODO: Set the weights and biases tensors\\nweights = tf.Variable(tf.truncated_normal((features_count, labels_count)))\\nbiases = tf.Variable(tf.zeros(labels_count))\\n\\n\\n### DON'T MODIFY ANYTHING BELOW ###\\n\\n# Test Cases\\nfrom tensorflow.python.ops.variables import Variable\\n\\nassert features._op.name.startswith(\\\"Placeholder\\\"), \\\"features must be a placeholder\\\"\\nassert labels._op.name.startswith(\\\"Placeholder\\\"), \\\"labels must be a placeholder\\\"\\nassert isinstance(weights, Variable), \\\"weights must be a TensorFlow variable\\\"\\nassert isinstance(biases, Variable), \\\"biases must be a TensorFlow variable\\\"\\n\\nassert features._shape == None or (\\n    features._shape.dims[0].value is None\\n    and features._shape.dims[1].value in [None, 784]\\n), \\\"The shape of features is incorrect\\\"\\nassert labels._shape == None or (\\n    labels._shape.dims[0].value is None and labels._shape.dims[1].value in [None, 10]\\n), \\\"The shape of labels is incorrect\\\"\\nassert weights._variable._shape == (784, 10), \\\"The shape of weights is incorrect\\\"\\nassert biases._variable._shape == (10), \\\"The shape of biases is incorrect\\\"\\n\\nassert features._dtype == tf.float32, \\\"features must be type float32\\\"\\nassert labels._dtype == tf.float32, \\\"labels must be type float32\\\"\\n\\n# Feed dicts for training, validation, and test session\\ntrain_feed_dict = {features: train_features, labels: train_labels}\\nvalid_feed_dict = {features: valid_features, labels: valid_labels}\\ntest_feed_dict = {features: test_features, labels: test_labels}\\n\\n# Linear Function WX + b\\nlogits = tf.matmul(features, weights) + biases\\n\\nprediction = tf.nn.softmax(logits)\\n\\n# Cross entropy\\ncross_entropy = -tf.reduce_sum(labels * tf.log(prediction), axis=1)\\n\\n# some students have encountered challenges using this function, and have resolved issues\\n# using https://www.tensorflow.org/api_docs/python/tf/nn/softmax_cross_entropy_with_logits\\n# please see this thread for more detail https://discussions.udacity.com/t/accuracy-0-10-in-the-intro-to-tensorflow-lab/272469/9\\n\\n# Training loss\\nloss = tf.reduce_mean(cross_entropy)\\n\\n# Create an operation that initializes all variables\\ninit = tf.global_variables_initializer()\\n\\n# Test Cases\\nwith tf.Session() as session:\\n    session.run(init)\\n    session.run(loss, feed_dict=train_feed_dict)\\n    session.run(loss, feed_dict=valid_feed_dict)\\n    session.run(loss, feed_dict=test_feed_dict)\\n    biases_data = session.run(biases)\\n\\nassert not np.count_nonzero(biases_data), \\\"biases must be zeros\\\"\\n\\nprint(\\\"Tests Passed!\\\")\";\n",
       "                var nbb_formatted_code = \"features_count = 784\\nlabels_count = 10\\n\\n# TODO: Set the features and labels tensors\\nfeatures = tf.placeholder(tf.float32)\\nlabels = tf.placeholder(tf.float32)\\n\\n# TODO: Set the weights and biases tensors\\nweights = tf.Variable(tf.truncated_normal((features_count, labels_count)))\\nbiases = tf.Variable(tf.zeros(labels_count))\\n\\n\\n### DON'T MODIFY ANYTHING BELOW ###\\n\\n# Test Cases\\nfrom tensorflow.python.ops.variables import Variable\\n\\nassert features._op.name.startswith(\\\"Placeholder\\\"), \\\"features must be a placeholder\\\"\\nassert labels._op.name.startswith(\\\"Placeholder\\\"), \\\"labels must be a placeholder\\\"\\nassert isinstance(weights, Variable), \\\"weights must be a TensorFlow variable\\\"\\nassert isinstance(biases, Variable), \\\"biases must be a TensorFlow variable\\\"\\n\\nassert features._shape == None or (\\n    features._shape.dims[0].value is None\\n    and features._shape.dims[1].value in [None, 784]\\n), \\\"The shape of features is incorrect\\\"\\nassert labels._shape == None or (\\n    labels._shape.dims[0].value is None and labels._shape.dims[1].value in [None, 10]\\n), \\\"The shape of labels is incorrect\\\"\\nassert weights._variable._shape == (784, 10), \\\"The shape of weights is incorrect\\\"\\nassert biases._variable._shape == (10), \\\"The shape of biases is incorrect\\\"\\n\\nassert features._dtype == tf.float32, \\\"features must be type float32\\\"\\nassert labels._dtype == tf.float32, \\\"labels must be type float32\\\"\\n\\n# Feed dicts for training, validation, and test session\\ntrain_feed_dict = {features: train_features, labels: train_labels}\\nvalid_feed_dict = {features: valid_features, labels: valid_labels}\\ntest_feed_dict = {features: test_features, labels: test_labels}\\n\\n# Linear Function WX + b\\nlogits = tf.matmul(features, weights) + biases\\n\\nprediction = tf.nn.softmax(logits)\\n\\n# Cross entropy\\ncross_entropy = -tf.reduce_sum(labels * tf.log(prediction), axis=1)\\n\\n# some students have encountered challenges using this function, and have resolved issues\\n# using https://www.tensorflow.org/api_docs/python/tf/nn/softmax_cross_entropy_with_logits\\n# please see this thread for more detail https://discussions.udacity.com/t/accuracy-0-10-in-the-intro-to-tensorflow-lab/272469/9\\n\\n# Training loss\\nloss = tf.reduce_mean(cross_entropy)\\n\\n# Create an operation that initializes all variables\\ninit = tf.global_variables_initializer()\\n\\n# Test Cases\\nwith tf.Session() as session:\\n    session.run(init)\\n    session.run(loss, feed_dict=train_feed_dict)\\n    session.run(loss, feed_dict=valid_feed_dict)\\n    session.run(loss, feed_dict=test_feed_dict)\\n    biases_data = session.run(biases)\\n\\nassert not np.count_nonzero(biases_data), \\\"biases must be zeros\\\"\\n\\nprint(\\\"Tests Passed!\\\")\";\n",
       "                var nbb_cells = Jupyter.notebook.get_cells();\n",
       "                for (var i = 0; i < nbb_cells.length; ++i) {\n",
       "                    if (nbb_cells[i].input_prompt_number == nbb_cell_id) {\n",
       "                        if (nbb_cells[i].get_text() == nbb_unformatted_code) {\n",
       "                             nbb_cells[i].set_text(nbb_formatted_code);\n",
       "                        }\n",
       "                        break;\n",
       "                    }\n",
       "                }\n",
       "            }, 500);\n",
       "            "
      ],
      "text/plain": [
       "<IPython.core.display.Javascript object>"
      ]
     },
     "metadata": {},
     "output_type": "display_data"
    }
   ],
   "source": [
    "features_count = 784\n",
    "labels_count = 10\n",
    "\n",
    "# TODO: Set the features and labels tensors\n",
    "features = tf.placeholder(tf.float32)\n",
    "labels = tf.placeholder(tf.float32)\n",
    "\n",
    "# TODO: Set the weights and biases tensors\n",
    "weights = tf.Variable(tf.truncated_normal((features_count, labels_count)))\n",
    "biases = tf.Variable(tf.zeros(labels_count))\n",
    "\n",
    "\n",
    "### DON'T MODIFY ANYTHING BELOW ###\n",
    "\n",
    "# Test Cases\n",
    "from tensorflow.python.ops.variables import Variable\n",
    "\n",
    "assert features._op.name.startswith(\"Placeholder\"), \"features must be a placeholder\"\n",
    "assert labels._op.name.startswith(\"Placeholder\"), \"labels must be a placeholder\"\n",
    "assert isinstance(weights, Variable), \"weights must be a TensorFlow variable\"\n",
    "assert isinstance(biases, Variable), \"biases must be a TensorFlow variable\"\n",
    "\n",
    "assert features._shape == None or (\n",
    "    features._shape.dims[0].value is None\n",
    "    and features._shape.dims[1].value in [None, 784]\n",
    "), \"The shape of features is incorrect\"\n",
    "assert labels._shape == None or (\n",
    "    labels._shape.dims[0].value is None and labels._shape.dims[1].value in [None, 10]\n",
    "), \"The shape of labels is incorrect\"\n",
    "assert weights._variable._shape == (784, 10), \"The shape of weights is incorrect\"\n",
    "assert biases._variable._shape == (10), \"The shape of biases is incorrect\"\n",
    "\n",
    "assert features._dtype == tf.float32, \"features must be type float32\"\n",
    "assert labels._dtype == tf.float32, \"labels must be type float32\"\n",
    "\n",
    "# Feed dicts for training, validation, and test session\n",
    "train_feed_dict = {features: train_features, labels: train_labels}\n",
    "valid_feed_dict = {features: valid_features, labels: valid_labels}\n",
    "test_feed_dict = {features: test_features, labels: test_labels}\n",
    "\n",
    "# Linear Function WX + b\n",
    "logits = tf.matmul(features, weights) + biases\n",
    "\n",
    "prediction = tf.nn.softmax(logits)\n",
    "\n",
    "# Cross entropy\n",
    "cross_entropy = -tf.reduce_sum(labels * tf.log(prediction), axis=1)\n",
    "\n",
    "# some students have encountered challenges using this function, and have resolved issues\n",
    "# using https://www.tensorflow.org/api_docs/python/tf/nn/softmax_cross_entropy_with_logits\n",
    "# please see this thread for more detail https://discussions.udacity.com/t/accuracy-0-10-in-the-intro-to-tensorflow-lab/272469/9\n",
    "\n",
    "# Training loss\n",
    "loss = tf.reduce_mean(cross_entropy)\n",
    "\n",
    "# Create an operation that initializes all variables\n",
    "init = tf.global_variables_initializer()\n",
    "\n",
    "# Test Cases\n",
    "with tf.Session() as session:\n",
    "    session.run(init)\n",
    "    session.run(loss, feed_dict=train_feed_dict)\n",
    "    session.run(loss, feed_dict=valid_feed_dict)\n",
    "    session.run(loss, feed_dict=test_feed_dict)\n",
    "    biases_data = session.run(biases)\n",
    "\n",
    "assert not np.count_nonzero(biases_data), \"biases must be zeros\"\n",
    "\n",
    "print(\"Tests Passed!\")"
   ]
  },
  {
   "cell_type": "code",
   "execution_count": 11,
   "metadata": {},
   "outputs": [
    {
     "name": "stdout",
     "output_type": "stream",
     "text": [
      "Accuracy function created.\n"
     ]
    },
    {
     "data": {
      "application/javascript": [
       "\n",
       "            setTimeout(function() {\n",
       "                var nbb_cell_id = 11;\n",
       "                var nbb_unformatted_code = \"# Determine if the predictions are correct\\nis_correct_prediction = tf.equal(tf.argmax(prediction, 1), tf.argmax(labels, 1))\\n# Calculate the accuracy of the predictions\\naccuracy = tf.reduce_mean(tf.cast(is_correct_prediction, tf.float32))\\n\\nprint(\\\"Accuracy function created.\\\")\";\n",
       "                var nbb_formatted_code = \"# Determine if the predictions are correct\\nis_correct_prediction = tf.equal(tf.argmax(prediction, 1), tf.argmax(labels, 1))\\n# Calculate the accuracy of the predictions\\naccuracy = tf.reduce_mean(tf.cast(is_correct_prediction, tf.float32))\\n\\nprint(\\\"Accuracy function created.\\\")\";\n",
       "                var nbb_cells = Jupyter.notebook.get_cells();\n",
       "                for (var i = 0; i < nbb_cells.length; ++i) {\n",
       "                    if (nbb_cells[i].input_prompt_number == nbb_cell_id) {\n",
       "                        if (nbb_cells[i].get_text() == nbb_unformatted_code) {\n",
       "                             nbb_cells[i].set_text(nbb_formatted_code);\n",
       "                        }\n",
       "                        break;\n",
       "                    }\n",
       "                }\n",
       "            }, 500);\n",
       "            "
      ],
      "text/plain": [
       "<IPython.core.display.Javascript object>"
      ]
     },
     "metadata": {},
     "output_type": "display_data"
    }
   ],
   "source": [
    "# Determine if the predictions are correct\n",
    "is_correct_prediction = tf.equal(tf.argmax(prediction, 1), tf.argmax(labels, 1))\n",
    "# Calculate the accuracy of the predictions\n",
    "accuracy = tf.reduce_mean(tf.cast(is_correct_prediction, tf.float32))\n",
    "\n",
    "print(\"Accuracy function created.\")"
   ]
  },
  {
   "cell_type": "markdown",
   "metadata": {},
   "source": [
    "<img src=\"resources/learn_rate_tune.png\" style=\"width: 60%\">\n",
    "\n",
    "## Problem 3\n",
    "Below are 3 parameter configurations for training the neural network. In each configuration, one of the parameters has multiple options. For each configuration, choose the option that gives the best acccuracy.\n",
    "\n",
    "Parameter configurations:\n",
    "\n",
    "Configuration 1\n",
    "* **Epochs:** 1\n",
    "* **Batch Size:**\n",
    "  * 2000\n",
    "  * 1000\n",
    "  * 500\n",
    "  * 300\n",
    "  * 50\n",
    "* **Learning Rate:** 0.01\n",
    "\n",
    "Configuration 2\n",
    "* **Epochs:** 1\n",
    "* **Batch Size:** 100\n",
    "* **Learning Rate:**\n",
    "  * 0.8\n",
    "  * 0.5\n",
    "  * 0.1\n",
    "  * 0.05\n",
    "  * 0.01\n",
    "\n",
    "Configuration 3\n",
    "* **Epochs:**\n",
    "  * 1\n",
    "  * 2\n",
    "  * 3\n",
    "  * 4\n",
    "  * 5\n",
    "* **Batch Size:** 100\n",
    "* **Learning Rate:** 0.2\n",
    "\n",
    "\n",
    "The code will print out a Loss and Accuracy graph, so you can see how well the neural network performed.\n",
    "\n",
    "*If you're having trouble solving problem 3, you can view the solution [here](https://github.com/udacity/CarND-TensorFlow-Lab/blob/master/solutions.ipynb).*"
   ]
  },
  {
   "cell_type": "code",
   "execution_count": 12,
   "metadata": {},
   "outputs": [
    {
     "name": "stderr",
     "output_type": "stream",
     "text": [
      "Epoch  1/4: 100%|██████████| 1425/1425 [00:10<00:00, 133.85batches/s]\n",
      "Epoch  2/4: 100%|██████████| 1425/1425 [00:10<00:00, 133.81batches/s]\n",
      "Epoch  3/4: 100%|██████████| 1425/1425 [00:10<00:00, 134.26batches/s]\n",
      "Epoch  4/4: 100%|██████████| 1425/1425 [00:10<00:00, 134.33batches/s]\n"
     ]
    },
    {
     "data": {
      "image/png": "[encoded data removed]",
      "text/plain": [
       "<Figure size 432x288 with 2 Axes>"
      ]
     },
     "metadata": {
      "needs_background": "light"
     },
     "output_type": "display_data"
    },
    {
     "name": "stdout",
     "output_type": "stream",
     "text": [
      "Validation accuracy at 0.7881333231925964\n"
     ]
    },
    {
     "data": {
      "application/javascript": [
       "\n",
       "            setTimeout(function() {\n",
       "                var nbb_cell_id = 12;\n",
       "                var nbb_unformatted_code = \"# TODO: Find the best parameters for each configuration\\nepochs = 4\\nbatch_size = 100\\nlearning_rate = 0.2\\n\\n\\n### DON'T MODIFY ANYTHING BELOW ###\\n# Gradient Descent\\noptimizer = tf.train.GradientDescentOptimizer(learning_rate).minimize(loss)\\n\\n# The accuracy measured against the validation set\\nvalidation_accuracy = 0.0\\n\\n# Measurements use for graphing loss and accuracy\\nlog_batch_step = 50\\nbatches = []\\nloss_batch = []\\ntrain_acc_batch = []\\nvalid_acc_batch = []\\n\\nwith tf.Session() as session:\\n    session.run(init)\\n    batch_count = int(math.ceil(len(train_features) / batch_size))\\n\\n    for epoch_i in range(epochs):\\n\\n        # Progress bar\\n        batches_pbar = tqdm(\\n            range(batch_count),\\n            desc=\\\"Epoch {:>2}/{}\\\".format(epoch_i + 1, epochs),\\n            unit=\\\"batches\\\",\\n        )\\n\\n        # The training cycle\\n        for batch_i in batches_pbar:\\n            # Get a batch of training features and labels\\n            batch_start = batch_i * batch_size\\n            batch_features = train_features[batch_start : batch_start + batch_size]\\n            batch_labels = train_labels[batch_start : batch_start + batch_size]\\n\\n            # Run optimizer and get loss\\n            _, l = session.run(\\n                [optimizer, loss],\\n                feed_dict={features: batch_features, labels: batch_labels},\\n            )\\n\\n            # Log every 50 batches\\n            if not batch_i % log_batch_step:\\n                # Calculate Training and Validation accuracy\\n                training_accuracy = session.run(accuracy, feed_dict=train_feed_dict)\\n                validation_accuracy = session.run(accuracy, feed_dict=valid_feed_dict)\\n\\n                # Log batches\\n                previous_batch = batches[-1] if batches else 0\\n                batches.append(log_batch_step + previous_batch)\\n                loss_batch.append(l)\\n                train_acc_batch.append(training_accuracy)\\n                valid_acc_batch.append(validation_accuracy)\\n\\n        # Check accuracy against Validation data\\n        validation_accuracy = session.run(accuracy, feed_dict=valid_feed_dict)\\n\\nloss_plot = plt.subplot(211)\\nloss_plot.set_title(\\\"Loss\\\")\\nloss_plot.plot(batches, loss_batch, \\\"g\\\")\\nloss_plot.set_xlim([batches[0], batches[-1]])\\nacc_plot = plt.subplot(212)\\nacc_plot.set_title(\\\"Accuracy\\\")\\nacc_plot.plot(batches, train_acc_batch, \\\"r\\\", label=\\\"Training Accuracy\\\")\\nacc_plot.plot(batches, valid_acc_batch, \\\"x\\\", label=\\\"Validation Accuracy\\\")\\nacc_plot.set_ylim([0, 1.0])\\nacc_plot.set_xlim([batches[0], batches[-1]])\\nacc_plot.legend(loc=4)\\nplt.tight_layout()\\nplt.show()\\n\\nprint(\\\"Validation accuracy at {}\\\".format(validation_accuracy))\";\n",
       "                var nbb_formatted_code = \"# TODO: Find the best parameters for each configuration\\nepochs = 4\\nbatch_size = 100\\nlearning_rate = 0.2\\n\\n\\n### DON'T MODIFY ANYTHING BELOW ###\\n# Gradient Descent\\noptimizer = tf.train.GradientDescentOptimizer(learning_rate).minimize(loss)\\n\\n# The accuracy measured against the validation set\\nvalidation_accuracy = 0.0\\n\\n# Measurements use for graphing loss and accuracy\\nlog_batch_step = 50\\nbatches = []\\nloss_batch = []\\ntrain_acc_batch = []\\nvalid_acc_batch = []\\n\\nwith tf.Session() as session:\\n    session.run(init)\\n    batch_count = int(math.ceil(len(train_features) / batch_size))\\n\\n    for epoch_i in range(epochs):\\n\\n        # Progress bar\\n        batches_pbar = tqdm(\\n            range(batch_count),\\n            desc=\\\"Epoch {:>2}/{}\\\".format(epoch_i + 1, epochs),\\n            unit=\\\"batches\\\",\\n        )\\n\\n        # The training cycle\\n        for batch_i in batches_pbar:\\n            # Get a batch of training features and labels\\n            batch_start = batch_i * batch_size\\n            batch_features = train_features[batch_start : batch_start + batch_size]\\n            batch_labels = train_labels[batch_start : batch_start + batch_size]\\n\\n            # Run optimizer and get loss\\n            _, l = session.run(\\n                [optimizer, loss],\\n                feed_dict={features: batch_features, labels: batch_labels},\\n            )\\n\\n            # Log every 50 batches\\n            if not batch_i % log_batch_step:\\n                # Calculate Training and Validation accuracy\\n                training_accuracy = session.run(accuracy, feed_dict=train_feed_dict)\\n                validation_accuracy = session.run(accuracy, feed_dict=valid_feed_dict)\\n\\n                # Log batches\\n                previous_batch = batches[-1] if batches else 0\\n                batches.append(log_batch_step + previous_batch)\\n                loss_batch.append(l)\\n                train_acc_batch.append(training_accuracy)\\n                valid_acc_batch.append(validation_accuracy)\\n\\n        # Check accuracy against Validation data\\n        validation_accuracy = session.run(accuracy, feed_dict=valid_feed_dict)\\n\\nloss_plot = plt.subplot(211)\\nloss_plot.set_title(\\\"Loss\\\")\\nloss_plot.plot(batches, loss_batch, \\\"g\\\")\\nloss_plot.set_xlim([batches[0], batches[-1]])\\nacc_plot = plt.subplot(212)\\nacc_plot.set_title(\\\"Accuracy\\\")\\nacc_plot.plot(batches, train_acc_batch, \\\"r\\\", label=\\\"Training Accuracy\\\")\\nacc_plot.plot(batches, valid_acc_batch, \\\"x\\\", label=\\\"Validation Accuracy\\\")\\nacc_plot.set_ylim([0, 1.0])\\nacc_plot.set_xlim([batches[0], batches[-1]])\\nacc_plot.legend(loc=4)\\nplt.tight_layout()\\nplt.show()\\n\\nprint(\\\"Validation accuracy at {}\\\".format(validation_accuracy))\";\n",
       "                var nbb_cells = Jupyter.notebook.get_cells();\n",
       "                for (var i = 0; i < nbb_cells.length; ++i) {\n",
       "                    if (nbb_cells[i].input_prompt_number == nbb_cell_id) {\n",
       "                        if (nbb_cells[i].get_text() == nbb_unformatted_code) {\n",
       "                             nbb_cells[i].set_text(nbb_formatted_code);\n",
       "                        }\n",
       "                        break;\n",
       "                    }\n",
       "                }\n",
       "            }, 500);\n",
       "            "
      ],
      "text/plain": [
       "<IPython.core.display.Javascript object>"
      ]
     },
     "metadata": {},
     "output_type": "display_data"
    }
   ],
   "source": [
    "# TODO: Find the best parameters for each configuration\n",
    "epochs = 4\n",
    "batch_size = 100\n",
    "learning_rate = 0.2\n",
    "\n",
    "\n",
    "### DON'T MODIFY ANYTHING BELOW ###\n",
    "# Gradient Descent\n",
    "optimizer = tf.train.GradientDescentOptimizer(learning_rate).minimize(loss)\n",
    "\n",
    "# The accuracy measured against the validation set\n",
    "validation_accuracy = 0.0\n",
    "\n",
    "# Measurements use for graphing loss and accuracy\n",
    "log_batch_step = 50\n",
    "batches = []\n",
    "loss_batch = []\n",
    "train_acc_batch = []\n",
    "valid_acc_batch = []\n",
    "\n",
    "with tf.Session() as session:\n",
    "    session.run(init)\n",
    "    batch_count = int(math.ceil(len(train_features) / batch_size))\n",
    "\n",
    "    for epoch_i in range(epochs):\n",
    "\n",
    "        # Progress bar\n",
    "        batches_pbar = tqdm(\n",
    "            range(batch_count),\n",
    "            desc=\"Epoch {:>2}/{}\".format(epoch_i + 1, epochs),\n",
    "            unit=\"batches\",\n",
    "        )\n",
    "\n",
    "        # The training cycle\n",
    "        for batch_i in batches_pbar:\n",
    "            # Get a batch of training features and labels\n",
    "            batch_start = batch_i * batch_size\n",
    "            batch_features = train_features[batch_start : batch_start + batch_size]\n",
    "            batch_labels = train_labels[batch_start : batch_start + batch_size]\n",
    "\n",
    "            # Run optimizer and get loss\n",
    "            _, l = session.run(\n",
    "                [optimizer, loss],\n",
    "                feed_dict={features: batch_features, labels: batch_labels},\n",
    "            )\n",
    "\n",
    "            # Log every 50 batches\n",
    "            if not batch_i % log_batch_step:\n",
    "                # Calculate Training and Validation accuracy\n",
    "                training_accuracy = session.run(accuracy, feed_dict=train_feed_dict)\n",
    "                validation_accuracy = session.run(accuracy, feed_dict=valid_feed_dict)\n",
    "\n",
    "                # Log batches\n",
    "                previous_batch = batches[-1] if batches else 0\n",
    "                batches.append(log_batch_step + previous_batch)\n",
    "                loss_batch.append(l)\n",
    "                train_acc_batch.append(training_accuracy)\n",
    "                valid_acc_batch.append(validation_accuracy)\n",
    "\n",
    "        # Check accuracy against Validation data\n",
    "        validation_accuracy = session.run(accuracy, feed_dict=valid_feed_dict)\n",
    "\n",
    "loss_plot = plt.subplot(211)\n",
    "loss_plot.set_title(\"Loss\")\n",
    "loss_plot.plot(batches, loss_batch, \"g\")\n",
    "loss_plot.set_xlim([batches[0], batches[-1]])\n",
    "acc_plot = plt.subplot(212)\n",
    "acc_plot.set_title(\"Accuracy\")\n",
    "acc_plot.plot(batches, train_acc_batch, \"r\", label=\"Training Accuracy\")\n",
    "acc_plot.plot(batches, valid_acc_batch, \"x\", label=\"Validation Accuracy\")\n",
    "acc_plot.set_ylim([0, 1.0])\n",
    "acc_plot.set_xlim([batches[0], batches[-1]])\n",
    "acc_plot.legend(loc=4)\n",
    "plt.tight_layout()\n",
    "plt.show()\n",
    "\n",
    "print(\"Validation accuracy at {}\".format(validation_accuracy))"
   ]
  },
  {
   "cell_type": "markdown",
   "metadata": {},
   "source": [
    "## Test\n",
    "Set the epochs, batch_size, and learning_rate with the best learning parameters you discovered in problem 3.  You're going to test your model against your hold out dataset/testing data.  This will give you a good indicator of how well the model will do in the real world.  You should have a test accuracy of at least 80%."
   ]
  },
  {
   "cell_type": "code",
   "execution_count": 13,
   "metadata": {},
   "outputs": [
    {
     "name": "stderr",
     "output_type": "stream",
     "text": [
      "Epoch  1/4: 100%|██████████| 1425/1425 [00:01<00:00, 1217.31batches/s]\n",
      "Epoch  2/4: 100%|██████████| 1425/1425 [00:01<00:00, 1286.24batches/s]\n",
      "Epoch  3/4: 100%|██████████| 1425/1425 [00:01<00:00, 1271.66batches/s]\n",
      "Epoch  4/4: 100%|██████████| 1425/1425 [00:01<00:00, 1247.42batches/s]"
     ]
    },
    {
     "name": "stdout",
     "output_type": "stream",
     "text": [
      "Nice Job! Test Accuracy is 0.8525000214576721\n"
     ]
    },
    {
     "name": "stderr",
     "output_type": "stream",
     "text": [
      "\n"
     ]
    },
    {
     "data": {
      "application/javascript": [
       "\n",
       "            setTimeout(function() {\n",
       "                var nbb_cell_id = 13;\n",
       "                var nbb_unformatted_code = \"# TODO: Set the epochs, batch_size, and learning_rate with the best parameters from problem 3\\nepochs = 4\\nbatch_size = 100\\nlearning_rate = 0.2\\n\\n\\n### DON'T MODIFY ANYTHING BELOW ###\\n# The accuracy measured against the test set\\ntest_accuracy = 0.0\\n\\nwith tf.Session() as session:\\n\\n    session.run(init)\\n    batch_count = int(math.ceil(len(train_features) / batch_size))\\n\\n    for epoch_i in range(epochs):\\n\\n        # Progress bar\\n        batches_pbar = tqdm(\\n            range(batch_count),\\n            desc=\\\"Epoch {:>2}/{}\\\".format(epoch_i + 1, epochs),\\n            unit=\\\"batches\\\",\\n        )\\n\\n        # The training cycle\\n        for batch_i in batches_pbar:\\n            # Get a batch of training features and labels\\n            batch_start = batch_i * batch_size\\n            batch_features = train_features[batch_start : batch_start + batch_size]\\n            batch_labels = train_labels[batch_start : batch_start + batch_size]\\n\\n            # Run optimizer\\n            _ = session.run(\\n                optimizer, feed_dict={features: batch_features, labels: batch_labels}\\n            )\\n\\n        # Check accuracy against Test data\\n        test_accuracy = session.run(accuracy, feed_dict=test_feed_dict)\\n\\n\\nassert (\\n    test_accuracy >= 0.80\\n), \\\"Test accuracy at {}, should be equal to or greater than 0.80\\\".format(test_accuracy)\\nprint(\\\"Nice Job! Test Accuracy is {}\\\".format(test_accuracy))\";\n",
       "                var nbb_formatted_code = \"# TODO: Set the epochs, batch_size, and learning_rate with the best parameters from problem 3\\nepochs = 4\\nbatch_size = 100\\nlearning_rate = 0.2\\n\\n\\n### DON'T MODIFY ANYTHING BELOW ###\\n# The accuracy measured against the test set\\ntest_accuracy = 0.0\\n\\nwith tf.Session() as session:\\n\\n    session.run(init)\\n    batch_count = int(math.ceil(len(train_features) / batch_size))\\n\\n    for epoch_i in range(epochs):\\n\\n        # Progress bar\\n        batches_pbar = tqdm(\\n            range(batch_count),\\n            desc=\\\"Epoch {:>2}/{}\\\".format(epoch_i + 1, epochs),\\n            unit=\\\"batches\\\",\\n        )\\n\\n        # The training cycle\\n        for batch_i in batches_pbar:\\n            # Get a batch of training features and labels\\n            batch_start = batch_i * batch_size\\n            batch_features = train_features[batch_start : batch_start + batch_size]\\n            batch_labels = train_labels[batch_start : batch_start + batch_size]\\n\\n            # Run optimizer\\n            _ = session.run(\\n                optimizer, feed_dict={features: batch_features, labels: batch_labels}\\n            )\\n\\n        # Check accuracy against Test data\\n        test_accuracy = session.run(accuracy, feed_dict=test_feed_dict)\\n\\n\\nassert (\\n    test_accuracy >= 0.80\\n), \\\"Test accuracy at {}, should be equal to or greater than 0.80\\\".format(test_accuracy)\\nprint(\\\"Nice Job! Test Accuracy is {}\\\".format(test_accuracy))\";\n",
       "                var nbb_cells = Jupyter.notebook.get_cells();\n",
       "                for (var i = 0; i < nbb_cells.length; ++i) {\n",
       "                    if (nbb_cells[i].input_prompt_number == nbb_cell_id) {\n",
       "                        if (nbb_cells[i].get_text() == nbb_unformatted_code) {\n",
       "                             nbb_cells[i].set_text(nbb_formatted_code);\n",
       "                        }\n",
       "                        break;\n",
       "                    }\n",
       "                }\n",
       "            }, 500);\n",
       "            "
      ],
      "text/plain": [
       "<IPython.core.display.Javascript object>"
      ]
     },
     "metadata": {},
     "output_type": "display_data"
    }
   ],
   "source": [
    "# TODO: Set the epochs, batch_size, and learning_rate with the best parameters from problem 3\n",
    "epochs = 4\n",
    "batch_size = 100\n",
    "learning_rate = 0.2\n",
    "\n",
    "\n",
    "### DON'T MODIFY ANYTHING BELOW ###\n",
    "# The accuracy measured against the test set\n",
    "test_accuracy = 0.0\n",
    "\n",
    "with tf.Session() as session:\n",
    "\n",
    "    session.run(init)\n",
    "    batch_count = int(math.ceil(len(train_features) / batch_size))\n",
    "\n",
    "    for epoch_i in range(epochs):\n",
    "\n",
    "        # Progress bar\n",
    "        batches_pbar = tqdm(\n",
    "            range(batch_count),\n",
    "            desc=\"Epoch {:>2}/{}\".format(epoch_i + 1, epochs),\n",
    "            unit=\"batches\",\n",
    "        )\n",
    "\n",
    "        # The training cycle\n",
    "        for batch_i in batches_pbar:\n",
    "            # Get a batch of training features and labels\n",
    "            batch_start = batch_i * batch_size\n",
    "            batch_features = train_features[batch_start : batch_start + batch_size]\n",
    "            batch_labels = train_labels[batch_start : batch_start + batch_size]\n",
    "\n",
    "            # Run optimizer\n",
    "            _ = session.run(\n",
    "                optimizer, feed_dict={features: batch_features, labels: batch_labels}\n",
    "            )\n",
    "\n",
    "        # Check accuracy against Test data\n",
    "        test_accuracy = session.run(accuracy, feed_dict=test_feed_dict)\n",
    "\n",
    "\n",
    "assert (\n",
    "    test_accuracy >= 0.80\n",
    "), \"Test accuracy at {}, should be equal to or greater than 0.80\".format(test_accuracy)\n",
    "print(\"Nice Job! Test Accuracy is {}\".format(test_accuracy))"
   ]
  },
  {
   "cell_type": "markdown",
   "metadata": {},
   "source": [
    "# Multiple layers\n",
    "Good job!  You built a one layer TensorFlow network!  However, you want to build more than one layer.  This is deep learning after all!  In the next section, you will start to satisfy your need for more layers."
   ]
  }
 ],
 "metadata": {
  "anaconda-cloud": {},
  "kernelspec": {
   "display_name": "Python 3",
   "language": "python",
   "name": "python3"
  },
  "language_info": {
   "codemirror_mode": {
    "name": "ipython",
    "version": 3
   },
   "file_extension": ".py",
   "mimetype": "text/x-python",
   "name": "python",
   "nbconvert_exporter": "python",
   "pygments_lexer": "ipython3",
   "version": "3.7.6"
  }
 },
 "nbformat": 4,
 "nbformat_minor": 1
}
