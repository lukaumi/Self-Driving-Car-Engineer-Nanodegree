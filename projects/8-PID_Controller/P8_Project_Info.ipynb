{
 "cells": [
  {
   "cell_type": "markdown",
   "metadata": {},
   "source": [
    "- in this project you'll revisit the lake race track from the Behavioral Cloning Project\n",
    "- this time, however, you'll implement a PID controller in C++ to maneuver the vehicle around the track!\n",
    "\n",
    "\n",
    "- the simulator will provide you the cross track error (CTE) and the velocity (mph) in order to compute the appropriate steering angle\n",
    "- the speed limit has been increased from 30 mph to 100 mph\n",
    "  - get ready to channel your inner Vin Diesel and try to drive SAFELY as fast as possible!\n",
    "  - NOTE: you don't have to meet a minimum speed to pass"
   ]
  },
  {
   "cell_type": "markdown",
   "metadata": {},
   "source": [
    "# Project Instructions"
   ]
  },
  {
   "cell_type": "markdown",
   "metadata": {},
   "source": [
    "- you can clone/fork the project's template files from the [project repository](https://github.com/udacity/CarND-PID-Control-Project) if you want to install all on your local machine\n",
    "- build a PID controller and tune the PID hyperparameters by applying the general processing flow as described in the previous lessons\n",
    "- test your solution on the [simulator](https://github.com/udacity/self-driving-car-sim/releases)\n",
    "- when the vehicle is able to drive successfully around the track, submit\n",
    "- try to see how fast you get the vehicle to SAFELY go\n",
    "\n",
    "\n",
    "- complete the `TODO` in `main.cpp`, `PID.cpp` and add any helper files you need\n",
    "- in order to build and compile the code, from within the main repository directory, you can:\n",
    "```shell\n",
    "mkdir build && cd build # to create and enter the build directory\n",
    "cmake .. && make # to compile your project\n",
    "./pid # to run your code\n",
    "```\n",
    "\n",
    "- important: you need to open a terminal (commands above) before attempting to run the simulator"
   ]
  },
  {
   "cell_type": "code",
   "execution_count": null,
   "metadata": {},
   "outputs": [],
   "source": []
  }
 ],
 "metadata": {
  "kernelspec": {
   "display_name": "C++14",
   "language": "C++14",
   "name": "xcpp14"
  },
  "language_info": {
   "codemirror_mode": "text/x-c++src",
   "file_extension": ".cpp",
   "mimetype": "text/x-c++src",
   "name": "c++",
   "version": "14"
  }
 },
 "nbformat": 4,
 "nbformat_minor": 4
}
