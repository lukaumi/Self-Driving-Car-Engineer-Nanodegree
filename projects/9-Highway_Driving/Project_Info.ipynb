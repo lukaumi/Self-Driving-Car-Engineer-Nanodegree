{
 "cells": [
  {
   "cell_type": "markdown",
   "metadata": {},
   "source": [
    "- the goal of this project is to build a path planner that creates smooth, safe trajectories for the car to follow\n",
    "- the highway track has other vehicles, all going different speeds, but approximately obeying the 50 MPH speed limit\n",
    "- the car transmits its location, along with its sensor fusion data, which estimates the location of all the vehicles on the same side of the road\n",
    "\n",
    "<img src=\"resources/car_traversing_path_points.gif\"/>\n",
    "\n",
    "#### Point Paths\n",
    "\n",
    "- the path planner should output a list of $x$ and $y$ global map coordinates\n",
    "- each pair of $x$ and $y$ coordinates is a point, and all of the points together form a trajectory\n",
    "- you can use any number of points that you want, but the $x$ list should be the same length as the $y$ list\n",
    "- every 20 ms the car moves to the next point on the list\n",
    "- the car's new rotation becomes the line between the previous waypoint and the car's new location\n",
    "- the car moves from point to point perfectly, so you don't have to worry about building a controller for this project\n",
    "- the animation above shows how the car moves and rotates through a given list of points\n",
    "\n",
    "#### Velocity\n",
    "\n",
    "- the velocity of the car depends on the spacing of the points\n",
    "- because the car moves to a new waypoint every 20ms, the larger the spacing between points, the faster the car will travel\n",
    "- the speed goal is to have the car traveling at (but not above) the 50 MPH speed limit as often as possible\n",
    "- but there will be times when traffic gets in the way"
   ]
  },
  {
   "cell_type": "markdown",
   "metadata": {},
   "source": [
    "## Getting Started"
   ]
  },
  {
   "cell_type": "markdown",
   "metadata": {},
   "source": [
    "- start by simply trying to move the car forward in a straight line at a constant 50 MPH velocity\n",
    "- use the car's $(x, y)$ localization information and its heading direction to create a simple, straight path that is drawn directly in front of the car\n",
    "\n",
    "\n",
    "- in `main.cpp`, instead of setting the speed directly, we pass `next_x_vals`, and `next_y_vals` to the simulator\n",
    "- we will set the points 0.5 m apart\n",
    "- since the car moves 50 times a second, a distance of 0.5m per move will create a velocity of 25 m/s\n",
    "- 25 m/s is close to 50 MPH\n",
    "\n",
    "```cpp\n",
    "double dist_inc = 0.5;\n",
    "for (int i = 0; i < 50; ++i) {\n",
    "  next_x_vals.push_back(car_x+(dist_inc*i)*cos(deg2rad(car_yaw)));\n",
    "  next_y_vals.push_back(car_y+(dist_inc*i)*sin(deg2rad(car_yaw)));\n",
    "}\n",
    "```\n",
    "\n",
    "<img src=\"resources/car_in_line.gif\"/>\n",
    "\n",
    "- notice, however, that the car went from 0 MPH to 56 MPH in a single 20 ms frame, causing a spike in acceleration\n",
    "- acceleration is calculated by comparing the rate of change of average speed over 0.2 second intervals\n",
    "- in this case total acceleration at one point was as high as 75 m/s^2\n",
    "- jerk was also very high\n",
    "- the jerk is calculated as the average acceleration over 1 second intervals\n",
    "- in order for the passenger to have an enjoyable ride both the jerk and the total acceleration should not exceed 10 m/s^2\n",
    "\n",
    "\n",
    "- part of the total acceleration is the normal component, AccN which measures the centripetal acceleration from turning\n",
    "- the tighter and faster a turn is made, the higher the AccN value will be\n",
    "- in our simple test we were not turning at all, so the value of AccN was zero\n",
    "\n",
    "\n",
    "- going forward, consider how to minimize total acceleration and jerk by gradually increasing and decreasing point path spacing based on the `car_speed` variable\n",
    "- to get a better idea of how movement affects the acceleration of the car, click the Manual Mode check box in the top left of the simulator screen to drive the car around yourself"
   ]
  },
  {
   "cell_type": "markdown",
   "metadata": {},
   "source": [
    "## More Complex Paths"
   ]
  },
  {
   "cell_type": "markdown",
   "metadata": {},
   "source": [
    "- in the previous concept you moved the car forward in a straight line\n",
    "- how about creating more interesting paths (e.g. circular path)?\n",
    "\n",
    "<img src=\"resources/circle_path.gif\"/>\n",
    "\n",
    "```cpp\n",
    "vector<double> next_x_vals;\n",
    "vector<double> next_y_vals;\n",
    "\n",
    "double pos_x;\n",
    "double pos_y;\n",
    "double angle;\n",
    "int path_size = previous_path_x.size();\n",
    "\n",
    "for (int i = 0; i < path_size; ++i) {\n",
    "  next_x_vals.push_back(previous_path_x[i]);\n",
    "  next_y_vals.push_back(previous_path_y[i]);\n",
    "}\n",
    "\n",
    "if (path_size == 0) {\n",
    "  pos_x = car_x;\n",
    "  pos_y = car_y;\n",
    "  angle = deg2rad(car_yaw);\n",
    "} else {\n",
    "  pos_x = previous_path_x[path_size-1];\n",
    "  pos_y = previous_path_y[path_size-1];\n",
    "\n",
    "  double pos_x2 = previous_path_x[path_size-2];\n",
    "  double pos_y2 = previous_path_y[path_size-2];\n",
    "  angle = atan2(pos_y-pos_y2,pos_x-pos_x2);\n",
    "}\n",
    "\n",
    "double dist_inc = 0.5;\n",
    "for (int i = 0; i < 50-path_size; ++i) {    \n",
    "  next_x_vals.push_back(pos_x+(dist_inc)*cos(angle+(i+1)*(pi()/100)));\n",
    "  next_y_vals.push_back(pos_y+(dist_inc)*sin(angle+(i+1)*(pi()/100)));\n",
    "  pos_x += (dist_inc)*cos(angle+(i+1)*(pi()/100));\n",
    "  pos_y += (dist_inc)*sin(angle+(i+1)*(pi()/100));\n",
    "}\n",
    "\n",
    "msgJson[\"next_x\"] = next_x_vals;\n",
    "msgJson[\"next_y\"] = next_y_vals;\n",
    "```\n",
    "\n",
    "\n",
    "#### Using Previous Path Points\n",
    "\n",
    "- the code snippet above builds a 50 point path, as in the previous experiment\n",
    "- but this code snippet starts the new path with whatever previous path points were left over from the last cycle\n",
    "- then we append new waypoints, until the new path has 50 total waypoints\n",
    "- using information from the previous path ensures that there is a smooth transition from cycle to cycle\n",
    "- but the more waypoints we use from the previous path, the less the new path will reflect dynamic changes in the environment.\n",
    "- ideally, we might only use a few waypoints from the previous path and then generate the rest of the new path based on new data from the car's sensor fusion information\n",
    "\n",
    "\n",
    "#### Timing\n",
    "\n",
    "- the simulator runs a cycle every 20 ms (50 frames per second), but your C++ path planning program will provide a new path at least one 20 ms cycle behind\n",
    "- the simulator will simply keep progressing down its last given path while it waits for a new generated path\n",
    "- this means that using previous path data becomes even more important when higher latency is involved\n",
    "- imagine, for instance, that there is a 500ms delay in sending a new path to the simulator\n",
    "- as long as the new path incorporates a sufficient length of the previous path, the transition will still be smooth\n",
    "\n",
    "\n",
    "- a concern, though, is how accurately we can predict other traffic 1-2 seconds into the future\n",
    "- an advantage of newly generated paths is that they take into account the most up-to-date state of other traffic\n",
    "\n",
    "\n",
    "#### Setting Point Paths with Latency\n",
    "\n",
    "- as mentioned, your C++ path planner will at the very least be one cycle behind the simulator because the C++ program can't receive and send data on the same cycle\n",
    "- as a result, any path that the simulator receives will be from the perspective of a previous cycle\n",
    "- this might mean that by the time a new path reaches the simulator, the vehicle has already passed the first few waypoints on that path\n",
    "- luckily you don't have to worry about this too much\n",
    "- the simulator has built-in tools to deal with this timing difference\n",
    "- the simulator actually expects the received path to be a little out of date compared to where the car is, and the simulator will consider which point on the received path is closest to the car and adjust appropriately"
   ]
  },
  {
   "cell_type": "markdown",
   "metadata": {},
   "source": [
    "## Highway Map"
   ]
  },
  {
   "cell_type": "markdown",
   "metadata": {},
   "source": [
    "- inside `data/highway_map.csv` there is a list of waypoints that go all the way around the track\n",
    "- the track contains a total of 181 waypoints, with the last waypoint mapping back around to the first\n",
    "- the waypoints are in the middle of the double-yellow dividing line in the center of the highway\n",
    "- the track is 6945.554 meters around (about 4.32 miles)\n",
    "- if the car averages near 50 MPH, then it should take a little more than 5 minutes for it to go all the way around the highway\n",
    "- the highway has 6 lanes total - 3 heading in each direction\n",
    "- each lane is 4 m wide and the car should only ever be in one of the 3 lanes on the right-hand side\n",
    "- the car should always be inside a lane unless doing a lane change\n",
    "\n",
    "\n",
    "#### Waypoint Data\n",
    "\n",
    "- each waypoint has an (x,y) global map position, and a Frenet s value and Frenet d unit normal vector (split up into the x component, and the y component)\n",
    "- the s value is the distance along the direction of the road\n",
    "- the first waypoint has an s value of 0 because it is the starting point\n",
    "- the d vector has a magnitude of 1 and points perpendicular to the road in the direction of the right-hand side of the road\n",
    "- the d vector can be used to calculate lane positions\n",
    "\n",
    "\n",
    "- for example, if you want to be in the left lane at some waypoint just add the waypoint's (x,y) coordinates with the d vector multiplied by 2\n",
    "- since the lane is 4 m wide, the middle of the left lane (the lane closest to the double-yellow dividing line) is 2 m from the waypoint\n",
    "- if you would like to be in the middle lane, add the waypoint's coordinates to the d vector multiplied by 6 = (2+4), since the center of the middle lane is 4 m from the center of the left lane, which is itself 2 m from the double-yellow dividing line and the waypoints\n",
    "\n",
    "\n",
    "#### Converting Frenet Coordinates\n",
    "\n",
    "- we have included a helper function, `getXY`, which takes in Frenet (s,d) coordinates and transforms them to (x,y) coordinates\n",
    "\n",
    "\n",
    "#### Interpolating Points\n",
    "\n",
    "- if you need to estimate the location of points between the known waypoints, you will need to \"interpolate\" the position of those points\n",
    "- in previous lessons we looked at fitting polynomials to waypoints\n",
    "- once you have a polynomial function, you can use it to interpolate the location of a new point\n",
    "- there are also other methods you could use\n",
    "- for example, Bezier curve fitting with control points, or spline fitting, which guarantees that the generated function passes through every point\n",
    "- [here](http://kluge.in-chemnitz.de/opensource/spline/) is a great and easy to setup and use spline tool for C++, contained in just a single header file"
   ]
  },
  {
   "cell_type": "markdown",
   "metadata": {},
   "source": [
    "## Sensor Fusion"
   ]
  },
  {
   "cell_type": "markdown",
   "metadata": {},
   "source": [
    "- it's important that the car doesn't crash into any of the other vehicles on the road, all of which are moving at different speeds around the speed limit and can change lanes\n",
    "- the `sensor_fusion` variable contains all the information about the cars on the right-hand side of the road\n",
    "- the data format for each car is: [id, x, y, vx, vy, s, d]\n",
    "  - the id is a unique identifier for that car\n",
    "  - the x, y values are in global map coordinates\n",
    "  - the vx, vy values are the velocity components, also in reference to the global map\n",
    "  - s and d are the Frenet coordinates for that car\n",
    "\n",
    "\n",
    "- the vx, vy values can be useful for predicting where the cars will be in the future\n",
    "- for instance, if you were to assume that the tracked car kept moving along the road, then its future predicted Frenet s value will be its current s value plus its (transformed) total velocity (m/s) multiplied by the time elapsed into the future (s)\n",
    "\n",
    "\n",
    "#### Changing Lanes\n",
    "\n",
    "<img src=\"resources/changing_lanes.gif\"/>\n",
    "\n",
    "- the last consideration is how to create paths that can smoothly changes lanes\n",
    "- any time the ego vehicle approaches a car in front of it that is moving slower than the speed limit, the ego vehicle should consider changing lanes\n",
    "- the car should only change lanes if such a change would be safe, and also if the lane change would help it move through the flow of traffic better\n",
    "\n",
    "\n",
    "- for safety, a lane change path should optimize the distance away from other traffic\n",
    "- for comfort, a lane change path should also result in low acceleration and jerk\n",
    "- the acceleration and jerk part can be solved from linear equations for s and d functions\n",
    "- examples of this can be found in the Trajectory Generation quizzes entitled, \"Quintic Polynomial Solver\" and \"Polynomial Trajectory\"\n",
    "- the provided Eigen-3.3 library can solve such linear equations\n",
    "- the `getXY` helper function can transform (s,d) points to (x,y) points for the returned path"
   ]
  },
  {
   "cell_type": "markdown",
   "metadata": {},
   "source": [
    "## Project Q&A"
   ]
  },
  {
   "cell_type": "markdown",
   "metadata": {},
   "source": [
    "- https://youtu.be/7sI3VHFPP0w"
   ]
  },
  {
   "cell_type": "markdown",
   "metadata": {},
   "source": [
    "## Project instructions"
   ]
  },
  {
   "cell_type": "markdown",
   "metadata": {},
   "source": [
    "- in this project, your goal is to design a path planner that is able to create smooth, safe paths for the car to follow along a 3 lane highway with traffic\n",
    "- a successful path planner will be able to keep inside its lane, avoid hitting other cars, and pass slower moving traffic all by using localization, sensor fusion, and map data\n",
    "\n",
    "\n",
    "- you can find the project repository [here](https://github.com/udacity/CarND-Path-Planning-Project)\n",
    "\n",
    "\n",
    "- in order to build and compile the code, from within the main repository directory, you can:\n",
    "```shell\n",
    "mkdir build && cd build  # to create and enter the build directory\n",
    "cmake .. && make  # to compile your project\n",
    "./path_planning  # to run your code\n",
    "```\n",
    "- important: you need to open a terminal before attempting to run the simulator"
   ]
  }
 ],
 "metadata": {
  "kernelspec": {
   "display_name": "C++14",
   "language": "C++14",
   "name": "xcpp14"
  },
  "language_info": {
   "codemirror_mode": "text/x-c++src",
   "file_extension": ".cpp",
   "mimetype": "text/x-c++src",
   "name": "c++",
   "version": "14"
  }
 },
 "nbformat": 4,
 "nbformat_minor": 4
}
