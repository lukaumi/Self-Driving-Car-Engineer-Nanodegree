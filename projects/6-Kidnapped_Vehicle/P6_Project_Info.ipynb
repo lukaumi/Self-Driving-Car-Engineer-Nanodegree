{
 "cells": [
  {
   "cell_type": "markdown",
   "metadata": {},
   "source": [
    "- the project we've picked for you is called Sparse Localization, by which you localize relative to a sparse set of landmarks using particle filters\n",
    "- the reason why we choose sparse as opposed to dense variable big maps is actually much easier to code and you learn all the essentials as well as dense localization"
   ]
  },
  {
   "cell_type": "markdown",
   "metadata": {},
   "source": [
    "- in this project you will implement a 2 dimensional particle filter in C++\n",
    "- your particle filter will be given a map and some initial localization information (analogous to what a GPS would provide)\n",
    "- at each time step your filter will also get observation and control data\n",
    "\n",
    "\n",
    "- project criteria is checked automatically when you do `./run.sh` in the terminal\n",
    "  - if the output says \"Success! Your particle filter passed!\" then it means you’ve met this criteria"
   ]
  },
  {
   "cell_type": "markdown",
   "metadata": {},
   "source": [
    "# Particle Filter Project Visualizer"
   ]
  },
  {
   "cell_type": "markdown",
   "metadata": {},
   "source": [
    "- the Term 2 Simulator includes a graphical version of the Kidnapped Vehicle Project\n",
    "- running the simulator you can see the path that the car drives along with all of its landmark measurements\n",
    "\n",
    "\n",
    "- included in the [Kidnapped Vehicle project Github repository](https://github.com/udacity/CarND-Kidnapped-Vehicle-Project) are program files that allow you to set up and run c++ uWebSocketIO, which is used to communicate with the simulator\n",
    "- the simulator provides the script for the noisy position data, vehicle controls, and noisy observations\n",
    "- the script feeds back the best particle state\n",
    "\n",
    "\n",
    "- the simulator can also display the best particle's sensed positions, along with the corresponding map ID associations\n",
    "- this can be extremely helpful to make sure transition and association calculations were done correctly\n",
    "- below is a video of what it looks like when the simulator successfully is able to track the car to a particle\n",
    "  - https://youtu.be/0SbVwwY_NuQ\n",
    "  - notice that the green laser sensors from the car nearly overlap the blue laser sensors from the particle, this means that the particle transition calculations were done correctly"
   ]
  },
  {
   "cell_type": "markdown",
   "metadata": {},
   "source": [
    "## Download Links for Term 2 Simulator\n",
    "\n",
    "- [Simulator Release](https://github.com/udacity/self-driving-car-sim/releases)"
   ]
  },
  {
   "cell_type": "markdown",
   "metadata": {},
   "source": [
    "## Running the Program\n",
    "\n",
    "1. Download the simulator and open it. In the main menu screen select Project 3: Kidnapped Vehicle.\n",
    "2. Once the scene is loaded you can hit the START button to observe how the car drives and observes landmarks. At any time you can press the PAUSE button, to pause the scene or hit the RESTART button to reset the scene. Also the ARROW KEYS can be used to move the camera around, and the top left ZOOM IN/OUT buttons can be used to focus the camera. Pressing the ESCAPE KEY returns to the simulator main menu.\n",
    "3. The [Kidnapped Vehicle project Github repository README](https://github.com/udacity/CarND-Kidnapped-Vehicle-Project) has more detailed instructions for installing and using c++ uWebScoketIO."
   ]
  },
  {
   "cell_type": "code",
   "execution_count": null,
   "metadata": {},
   "outputs": [],
   "source": []
  }
 ],
 "metadata": {
  "kernelspec": {
   "display_name": "C++14",
   "language": "C++14",
   "name": "xcpp14"
  },
  "language_info": {
   "codemirror_mode": "text/x-c++src",
   "file_extension": ".cpp",
   "mimetype": "text/x-c++src",
   "name": "c++",
   "version": "14"
  }
 },
 "nbformat": 4,
 "nbformat_minor": 4
}
