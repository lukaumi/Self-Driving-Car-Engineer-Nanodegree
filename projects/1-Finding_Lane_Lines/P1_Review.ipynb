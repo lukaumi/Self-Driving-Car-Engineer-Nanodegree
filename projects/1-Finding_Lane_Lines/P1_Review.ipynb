{
 "cells": [
  {
   "cell_type": "markdown",
   "metadata": {},
   "source": [
    "# SUGGESTIONS"
   ]
  },
  {
   "cell_type": "markdown",
   "metadata": {},
   "source": [
    "Your parameters looks good, yet you may try one optimal possible set of parameters which might not create much difference your current output but will be helpful in certain conditions like curved lanes, shadows etc.\n",
    "\n",
    "- `max_line_gap` that defines the maximum distance between segments that will be connected to a single line\n",
    "- `min_line_len` that defines the minimum length of a line that will be created\n",
    "- increasing` min_line_len` and `max_line_gap` (cca. 100 and above) for Hough Transform will make your lines longer and will have less number of breaks (this will make the solid annotated line longer in the output)\n",
    "- increasing `max_line_gap` will allow points that are farther away from each other to be connected with a single line\n",
    "- `threshold` increasing (cca. 50-60) will rule out the spurious lines (defines the minimum number of intersections in a given grid cell that are required to choose a line)\n",
    "- decreasing the `kernel-size` in the Gaussian Filter might also help, as this will remove the noise making the image less blurry\n",
    "- consider using `rho` value of 2 (`rho`, distance resolution of the Hough accumulator in pixels)\n",
    "- removing lane shakiness\n",
    "    - the detection of straight edges through Hough transform will induce some uncertainties because of the variations in the photograph conditions such as lighting, shadow, vibrations etc.\n",
    "    - this makes the calculations of the slopes and the end points fluctuate within a certain zone\n",
    "    - in order to avoid this noise, a Kalman filter can also be used to smoothen out the fluctuations in the slope and end point estimation"
   ]
  },
  {
   "cell_type": "markdown",
   "metadata": {},
   "source": [
    "# FURTHER READING AND REFERENCES"
   ]
  },
  {
   "cell_type": "markdown",
   "metadata": {},
   "source": [
    "- https://docs.opencv.org/3.0-beta/doc/py_tutorials/py_imgproc/py_houghlines/py_houghlines.html\n",
    "- http://www.kerrywong.com/2009/05/07/canny-edge-detection-auto-thresholding/\n",
    "- https://www.ncbi.nlm.nih.gov/pmc/articles/PMC5017478/\n",
    "- https://airccj.org/CSCP/vol5/csit53211.pdf\n",
    "- https://chatbotslife.com/self-driving-cars-advanced-computer-vision-with-opencv-finding-lane-lines-488a411b2c3d\n",
    "- http://citeseerx.ist.psu.edu/viewdoc/download?doi=10.1.1.106.6644&rep=rep1&type=pdf"
   ]
  },
  {
   "cell_type": "markdown",
   "metadata": {},
   "source": [
    "### Reflection describes the current pipeline, identifies its potential shortcomings and suggests possible improvements. There is no minimum length. Writing in English is preferred but you may use any language."
   ]
  },
  {
   "cell_type": "markdown",
   "metadata": {},
   "source": [
    "Great addition in the reflection section rubric that the pipeline could be troubled identifying curves!Since the algorithm is \"trained\" on a very specific road and light conditions when these conditions change we can expect that the algorithm performance will degrade.\n",
    "\n",
    "This pipeline chalks out straight lines, hence it works best on straight roads. Using it on curved roads and also on roads on a downhill or sometimes also on a uphill wouldn’t result in satisfactory results as it would best fit the curve with a straight line.\n",
    "\n",
    "The shortcoming of the curved lane could be solved by using a quadratic fit, instead of a linear fit, where we’d have more coefficients and we could create the curved lane accordingly. The problem of ending one lane could be solved by creating a temporary parallel lane for the vanished lane allowing the car to change lanes until it finds well defined lanes. The problem of cracks on the roads leading to edges in the region of interest could be solved by creating a regions of interest which is a combination of offsetted trapezium, with parallel edges, one sitting inside and one outside. This would only keep the lanes in the region and as long as a lanes are defined, we’ll have our lines."
   ]
  },
  {
   "cell_type": "code",
   "execution_count": null,
   "metadata": {},
   "outputs": [],
   "source": []
  }
 ],
 "metadata": {
  "kernelspec": {
   "display_name": "Python 3",
   "language": "python",
   "name": "python3"
  },
  "language_info": {
   "codemirror_mode": {
    "name": "ipython",
    "version": 3
   },
   "file_extension": ".py",
   "mimetype": "text/x-python",
   "name": "python",
   "nbconvert_exporter": "python",
   "pygments_lexer": "ipython3",
   "version": "3.8.1"
  }
 },
 "nbformat": 4,
 "nbformat_minor": 4
}
